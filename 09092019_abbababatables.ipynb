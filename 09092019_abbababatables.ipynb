{
 "cells": [
  {
   "cell_type": "code",
   "execution_count": 1,
   "metadata": {},
   "outputs": [],
   "source": [
    "%run 08222019_functions.ipynb"
   ]
  },
  {
   "cell_type": "code",
   "execution_count": 2,
   "metadata": {},
   "outputs": [],
   "source": [
    "chromosomes = ['3L', '3R']"
   ]
  },
  {
   "cell_type": "code",
   "execution_count": 3,
   "metadata": {},
   "outputs": [
    {
     "data": {
      "text/plain": [
       "<KeysViewHDF5 ['2L', '2R', '3L', '3R', 'X']>"
      ]
     },
     "execution_count": 3,
     "metadata": {},
     "output_type": "execute_result"
    }
   ],
   "source": [
    "calldata_chri= h5py.File('data/chri_ac_phase2_map.h5', mode='r')\n",
    "calldata_chri.keys()"
   ]
  },
  {
   "cell_type": "code",
   "execution_count": 4,
   "metadata": {},
   "outputs": [],
   "source": [
    "def abba_baba_test(chrom, a, b, c, out_ac, blen=10000, plot=False, ax=None):\n",
    "    for chrom in chromosomes:\n",
    "        \n",
    "        ###### loading phase2 metadata ######\n",
    "        metadata = pd.read_csv(\"samples.meta.txt\", sep=\"\\t\")\n",
    "        pop_select = metadata.population.isin({a, b, c}).values\n",
    "        pop_subset = metadata[pop_select]\n",
    "        \n",
    "        ###### loading phase2 genome and subset ######\n",
    "        pos_phase1 = allel.SortedIndex(calldata_phase1[chrom][\"variants/POS\"][:])\n",
    "        pos_phase2 = allel.SortedIndex(calldata_phase2[chrom][\"variants/POS\"][:])\n",
    "        loc1, loc2 = pos_phase2.locate_intersection(pos_phase1)\n",
    "        pos_p2_sel = pos_phase2.compress(loc1)\n",
    "        genotypes_phase2_call = calldata_phase2[chrom][\"calldata/GT\"]\n",
    "        genotypes_phase2 = allel.GenotypeChunkedArray(genotypes_phase2_call)\n",
    "        geno_p2_subset = genotypes_phase2.subset(sel0=loc1)\n",
    "\n",
    "            \n",
    "        ###### perform allele count to my subpopulations ######\n",
    "        grp = pop_subset.groupby(\"population\")\n",
    "        grp_indices = grp.indices\n",
    "        ac_subpops = geno_p2_subset.count_alleles_subpops(grp_indices)\n",
    "        \n",
    "\n",
    "        # run D test\n",
    "        d, d_se, d_z, d_vb, d_vj = allel.average_patterson_d(ac_subpops[a], ac_subpops[b], ac_subpops[c], out_ac[chrom], blen=blen)\n",
    "            \n",
    "    return d, d_se, d_z, d_vb, d_vj\n",
    "\n",
    "\n",
    "def abba_baba_tbl(As, Bs, Cs, Ds, chroms=chromosomes, blen=10000):\n",
    "    \n",
    "    # normalise inputs\n",
    "    if not isinstance(chroms, (list, tuple)):\n",
    "        chroms = [chroms]\n",
    "    if not isinstance(As, (list, tuple)):\n",
    "        As = [As]\n",
    "    if not isinstance(Bs, (list, tuple)):\n",
    "        Bs = [Bs]\n",
    "    if not isinstance(Cs, (list, tuple)):\n",
    "        Cs = [Cs]\n",
    "    if not isinstance(Ds, (list, tuple)):\n",
    "        Ds = [Ds]\n",
    "        \n",
    "    # setup output table\n",
    "    tbl = [['chromosome', 'test', 'D', 'SE', 'Z']]\n",
    "    for chrom in chroms:\n",
    "        for A in As:\n",
    "            for B in Bs:\n",
    "                if A != B:\n",
    "                    for C in Cs:\n",
    "                        for D in Ds:\n",
    "                            if C != D:\n",
    "                                d, d_se, d_z, _, _ = abba_baba_test(chrom, A, B, C, D, blen=blen)\n",
    "                                test = 'D(%s, %s; %s, %s)' % (A, B, C, D)\n",
    "                                row = [chrom, test, d, d_se, d_z]\n",
    "                                tbl += [row]\n",
    "    \n",
    "    # display results\n",
    "    (etl\n",
    "     .wrap(tbl)\n",
    "     .interpolate('D', '%.3f')\n",
    "     .interpolate('SE', '%.4f')\n",
    "     .interpolate('Z', '%.1f')\n",
    "     .displayall(index_header=False, tr_style=lambda row: 'background-color: %s' % ('#afa' if float(row.Z) > 5 else '#aaf' if float(row.Z) < -5 else 'white')))\n",
    "    \n",
    "    #append\n",
    "    import csv\n",
    "    with open('file.csv', 'a') as csvFile:\n",
    "        writer = csv.writer(csvFile)\n",
    "        writer.writerow(tbl)\n",
    "        csvFile.close()"
   ]
  },
  {
   "cell_type": "markdown",
   "metadata": {},
   "source": [
    "Performing ABBA-BABA Test with AOcol population for each An.gambiae population:"
   ]
  },
  {
   "cell_type": "code",
   "execution_count": 5,
   "metadata": {},
   "outputs": [
    {
     "data": {
      "text/html": [
       "<table class='petl'>\n",
       "<thead>\n",
       "<tr>\n",
       "<th>chromosome</th>\n",
       "<th>test</th>\n",
       "<th>D</th>\n",
       "<th>SE</th>\n",
       "<th>Z</th>\n",
       "</tr>\n",
       "</thead>\n",
       "<tbody>\n",
       "<tr style='background-color: white'>\n",
       "<td>3L, 3R</td>\n",
       "<td>D(GHgam, GAgam; AOcol, <HDF5 file \"chri_ac_phase2_map.h5\" (mode r)>)</td>\n",
       "<td>-0.014</td>\n",
       "<td>0.0051</td>\n",
       "<td>-2.8</td>\n",
       "</tr>\n",
       "</tbody>\n",
       "</table>\n"
      ]
     },
     "metadata": {},
     "output_type": "display_data"
    }
   ],
   "source": [
    "abba_baba_tbl('GHgam', 'GAgam', 'AOcol', calldata_chri, chroms=['3L, 3R'])"
   ]
  },
  {
   "cell_type": "code",
   "execution_count": 6,
   "metadata": {},
   "outputs": [
    {
     "name": "stderr",
     "output_type": "stream",
     "text": [
      "/opt/conda/lib/python3.6/site-packages/allel/stats/admixture.py:430: RuntimeWarning: invalid value encountered in true_divide\n",
      "  vb = num_bsum / den_bsum\n"
     ]
    },
    {
     "data": {
      "text/html": [
       "<table class='petl'>\n",
       "<thead>\n",
       "<tr>\n",
       "<th>chromosome</th>\n",
       "<th>test</th>\n",
       "<th>D</th>\n",
       "<th>SE</th>\n",
       "<th>Z</th>\n",
       "</tr>\n",
       "</thead>\n",
       "<tbody>\n",
       "<tr style='background-color: #aaf'>\n",
       "<td>3L, 3R</td>\n",
       "<td>D(BFgam, GAgam; AOcol, <HDF5 file \"chri_ac_phase2_map.h5\" (mode r)>)</td>\n",
       "<td>-0.030</td>\n",
       "<td>0.0051</td>\n",
       "<td>-5.8</td>\n",
       "</tr>\n",
       "</tbody>\n",
       "</table>\n"
      ]
     },
     "metadata": {},
     "output_type": "display_data"
    }
   ],
   "source": [
    "abba_baba_tbl('BFgam', 'GAgam', 'AOcol', calldata_chri, chroms=['3L, 3R'])"
   ]
  },
  {
   "cell_type": "code",
   "execution_count": 5,
   "metadata": {},
   "outputs": [
    {
     "name": "stderr",
     "output_type": "stream",
     "text": [
      "/opt/conda/lib/python3.6/site-packages/allel/stats/admixture.py:430: RuntimeWarning: invalid value encountered in true_divide\n",
      "  vb = num_bsum / den_bsum\n"
     ]
    },
    {
     "data": {
      "text/html": [
       "<table class='petl'>\n",
       "<thead>\n",
       "<tr>\n",
       "<th>chromosome</th>\n",
       "<th>test</th>\n",
       "<th>D</th>\n",
       "<th>SE</th>\n",
       "<th>Z</th>\n",
       "</tr>\n",
       "</thead>\n",
       "<tbody>\n",
       "<tr style='background-color: #aaf'>\n",
       "<td>3L, 3R</td>\n",
       "<td>D(CMgam, GAgam; AOcol, <HDF5 file \"chri_ac_phase2_map.h5\" (mode r)>)</td>\n",
       "<td>-0.027</td>\n",
       "<td>0.0048</td>\n",
       "<td>-5.7</td>\n",
       "</tr>\n",
       "</tbody>\n",
       "</table>\n"
      ]
     },
     "metadata": {},
     "output_type": "display_data"
    },
    {
     "ename": "AttributeError",
     "evalue": "'NoneType' object has no attribute 'tocsv'",
     "output_type": "error",
     "traceback": [
      "\u001b[0;31m---------------------------------------------------------------------------\u001b[0m",
      "\u001b[0;31mAttributeError\u001b[0m                            Traceback (most recent call last)",
      "\u001b[0;32m<ipython-input-5-0b6e4ab8ad22>\u001b[0m in \u001b[0;36m<module>\u001b[0;34m\u001b[0m\n\u001b[0;32m----> 1\u001b[0;31m \u001b[0mabba_baba_tbl\u001b[0m\u001b[0;34m(\u001b[0m\u001b[0;34m'CMgam'\u001b[0m\u001b[0;34m,\u001b[0m \u001b[0;34m'GAgam'\u001b[0m\u001b[0;34m,\u001b[0m \u001b[0;34m'AOcol'\u001b[0m\u001b[0;34m,\u001b[0m \u001b[0mcalldata_chri\u001b[0m\u001b[0;34m,\u001b[0m \u001b[0mchroms\u001b[0m\u001b[0;34m=\u001b[0m\u001b[0;34m[\u001b[0m\u001b[0;34m'3L, 3R'\u001b[0m\u001b[0;34m]\u001b[0m\u001b[0;34m)\u001b[0m\u001b[0;34m\u001b[0m\u001b[0;34m\u001b[0m\u001b[0m\n\u001b[0m",
      "\u001b[0;32m<ipython-input-4-7fc235a5bff1>\u001b[0m in \u001b[0;36mabba_baba_tbl\u001b[0;34m(As, Bs, Cs, Ds, chroms, blen)\u001b[0m\n\u001b[1;32m     63\u001b[0m      \u001b[0;34m.\u001b[0m\u001b[0minterpolate\u001b[0m\u001b[0;34m(\u001b[0m\u001b[0;34m'SE'\u001b[0m\u001b[0;34m,\u001b[0m \u001b[0;34m'%.4f'\u001b[0m\u001b[0;34m)\u001b[0m\u001b[0;34m\u001b[0m\u001b[0;34m\u001b[0m\u001b[0m\n\u001b[1;32m     64\u001b[0m      \u001b[0;34m.\u001b[0m\u001b[0minterpolate\u001b[0m\u001b[0;34m(\u001b[0m\u001b[0;34m'Z'\u001b[0m\u001b[0;34m,\u001b[0m \u001b[0;34m'%.1f'\u001b[0m\u001b[0;34m)\u001b[0m\u001b[0;34m\u001b[0m\u001b[0;34m\u001b[0m\u001b[0m\n\u001b[0;32m---> 65\u001b[0;31m      \u001b[0;34m.\u001b[0m\u001b[0mdisplayall\u001b[0m\u001b[0;34m(\u001b[0m\u001b[0mindex_header\u001b[0m\u001b[0;34m=\u001b[0m\u001b[0;32mFalse\u001b[0m\u001b[0;34m,\u001b[0m \u001b[0mtr_style\u001b[0m\u001b[0;34m=\u001b[0m\u001b[0;32mlambda\u001b[0m \u001b[0mrow\u001b[0m\u001b[0;34m:\u001b[0m \u001b[0;34m'background-color: %s'\u001b[0m \u001b[0;34m%\u001b[0m \u001b[0;34m(\u001b[0m\u001b[0;34m'#afa'\u001b[0m \u001b[0;32mif\u001b[0m \u001b[0mfloat\u001b[0m\u001b[0;34m(\u001b[0m\u001b[0mrow\u001b[0m\u001b[0;34m.\u001b[0m\u001b[0mZ\u001b[0m\u001b[0;34m)\u001b[0m \u001b[0;34m>\u001b[0m \u001b[0;36m5\u001b[0m \u001b[0;32melse\u001b[0m \u001b[0;34m'#aaf'\u001b[0m \u001b[0;32mif\u001b[0m \u001b[0mfloat\u001b[0m\u001b[0;34m(\u001b[0m\u001b[0mrow\u001b[0m\u001b[0;34m.\u001b[0m\u001b[0mZ\u001b[0m\u001b[0;34m)\u001b[0m \u001b[0;34m<\u001b[0m \u001b[0;34m-\u001b[0m\u001b[0;36m5\u001b[0m \u001b[0;32melse\u001b[0m \u001b[0;34m'white'\u001b[0m\u001b[0;34m)\u001b[0m\u001b[0;34m)\u001b[0m\u001b[0;34m\u001b[0m\u001b[0;34m\u001b[0m\u001b[0m\n\u001b[0m\u001b[1;32m     66\u001b[0m      .tocsv(tbl, 'test.csv'))\n",
      "\u001b[0;31mAttributeError\u001b[0m: 'NoneType' object has no attribute 'tocsv'"
     ]
    }
   ],
   "source": [
    "abba_baba_tbl('CMgam', 'GAgam', 'AOcol', calldata_chri, chroms=['3L, 3R'])"
   ]
  },
  {
   "cell_type": "code",
   "execution_count": 6,
   "metadata": {},
   "outputs": [
    {
     "name": "stderr",
     "output_type": "stream",
     "text": [
      "/opt/conda/lib/python3.6/site-packages/allel/stats/admixture.py:430: RuntimeWarning: invalid value encountered in true_divide\n",
      "  vb = num_bsum / den_bsum\n"
     ]
    },
    {
     "data": {
      "text/html": [
       "<table class='petl'>\n",
       "<thead>\n",
       "<tr>\n",
       "<th>chromosome</th>\n",
       "<th>test</th>\n",
       "<th>D</th>\n",
       "<th>SE</th>\n",
       "<th>Z</th>\n",
       "</tr>\n",
       "</thead>\n",
       "<tbody>\n",
       "<tr style='background-color: white'>\n",
       "<td>3L, 3R</td>\n",
       "<td>D(FRgam, GAgam; AOcol, <HDF5 file \"chri_ac_phase2_map.h5\" (mode r)>)</td>\n",
       "<td>-0.019</td>\n",
       "<td>0.0083</td>\n",
       "<td>-2.3</td>\n",
       "</tr>\n",
       "</tbody>\n",
       "</table>\n"
      ]
     },
     "metadata": {},
     "output_type": "display_data"
    }
   ],
   "source": [
    "abba_baba_tbl('FRgam', 'GAgam', 'AOcol', calldata_chri, chroms=['3L, 3R'])"
   ]
  },
  {
   "cell_type": "code",
   "execution_count": 7,
   "metadata": {},
   "outputs": [
    {
     "data": {
      "text/html": [
       "<table class='petl'>\n",
       "<thead>\n",
       "<tr>\n",
       "<th>chromosome</th>\n",
       "<th>test</th>\n",
       "<th>D</th>\n",
       "<th>SE</th>\n",
       "<th>Z</th>\n",
       "</tr>\n",
       "</thead>\n",
       "<tbody>\n",
       "<tr style='background-color: white'>\n",
       "<td>3L, 3R</td>\n",
       "<td>D(GNgam, GAgam; AOcol, <HDF5 file \"chri_ac_phase2_map.h5\" (mode r)>)</td>\n",
       "<td>-0.022</td>\n",
       "<td>0.0050</td>\n",
       "<td>-4.5</td>\n",
       "</tr>\n",
       "</tbody>\n",
       "</table>\n"
      ]
     },
     "metadata": {},
     "output_type": "display_data"
    }
   ],
   "source": [
    "abba_baba_tbl('GNgam', 'GAgam', 'AOcol', calldata_chri, chroms=['3L, 3R'])"
   ]
  },
  {
   "cell_type": "code",
   "execution_count": 8,
   "metadata": {},
   "outputs": [
    {
     "data": {
      "text/html": [
       "<table class='petl'>\n",
       "<thead>\n",
       "<tr>\n",
       "<th>chromosome</th>\n",
       "<th>test</th>\n",
       "<th>D</th>\n",
       "<th>SE</th>\n",
       "<th>Z</th>\n",
       "</tr>\n",
       "</thead>\n",
       "<tbody>\n",
       "<tr style='background-color: white'>\n",
       "<td>3L, 3R</td>\n",
       "<td>D(GQgam, GAgam; AOcol, <HDF5 file \"chri_ac_phase2_map.h5\" (mode r)>)</td>\n",
       "<td>-0.018</td>\n",
       "<td>0.0065</td>\n",
       "<td>-2.8</td>\n",
       "</tr>\n",
       "</tbody>\n",
       "</table>\n"
      ]
     },
     "metadata": {},
     "output_type": "display_data"
    }
   ],
   "source": [
    "abba_baba_tbl('GQgam', 'GAgam', 'AOcol', calldata_chri, chroms=['3L, 3R'])"
   ]
  },
  {
   "cell_type": "markdown",
   "metadata": {},
   "source": [
    "----------------------------------------"
   ]
  },
  {
   "cell_type": "markdown",
   "metadata": {},
   "source": [
    "Performing ABBA-BABA Test with BFcol population for each <i>An.gambiae</i> population:"
   ]
  },
  {
   "cell_type": "code",
   "execution_count": 9,
   "metadata": {},
   "outputs": [
    {
     "data": {
      "text/html": [
       "<table class='petl'>\n",
       "<thead>\n",
       "<tr>\n",
       "<th>chromosome</th>\n",
       "<th>test</th>\n",
       "<th>D</th>\n",
       "<th>SE</th>\n",
       "<th>Z</th>\n",
       "</tr>\n",
       "</thead>\n",
       "<tbody>\n",
       "<tr style='background-color: white'>\n",
       "<td>3L, 3R</td>\n",
       "<td>D(UGgam, GAgam; BFcol, <HDF5 file \"chri_ac_phase2_map.h5\" (mode r)>)</td>\n",
       "<td>-0.012</td>\n",
       "<td>0.0046</td>\n",
       "<td>-2.5</td>\n",
       "</tr>\n",
       "</tbody>\n",
       "</table>\n"
      ]
     },
     "metadata": {},
     "output_type": "display_data"
    }
   ],
   "source": [
    "abba_baba_tbl('UGgam', 'GAgam', 'BFcol', calldata_chri, chroms=['3L, 3R'])"
   ]
  },
  {
   "cell_type": "code",
   "execution_count": 10,
   "metadata": {},
   "outputs": [
    {
     "data": {
      "text/html": [
       "<table class='petl'>\n",
       "<thead>\n",
       "<tr>\n",
       "<th>chromosome</th>\n",
       "<th>test</th>\n",
       "<th>D</th>\n",
       "<th>SE</th>\n",
       "<th>Z</th>\n",
       "</tr>\n",
       "</thead>\n",
       "<tbody>\n",
       "<tr style='background-color: white'>\n",
       "<td>3L, 3R</td>\n",
       "<td>D(GHgam, GAgam; BFcol, <HDF5 file \"chri_ac_phase2_map.h5\" (mode r)>)</td>\n",
       "<td>0.003</td>\n",
       "<td>0.0053</td>\n",
       "<td>0.5</td>\n",
       "</tr>\n",
       "</tbody>\n",
       "</table>\n"
      ]
     },
     "metadata": {},
     "output_type": "display_data"
    }
   ],
   "source": [
    "abba_baba_tbl('GHgam', 'GAgam', 'BFcol', calldata_chri, chroms=['3L, 3R'])"
   ]
  },
  {
   "cell_type": "code",
   "execution_count": 5,
   "metadata": {},
   "outputs": [
    {
     "name": "stderr",
     "output_type": "stream",
     "text": [
      "/opt/conda/lib/python3.6/site-packages/allel/stats/admixture.py:430: RuntimeWarning: invalid value encountered in true_divide\n",
      "  vb = num_bsum / den_bsum\n"
     ]
    },
    {
     "data": {
      "text/html": [
       "<table class='petl'>\n",
       "<thead>\n",
       "<tr>\n",
       "<th>chromosome</th>\n",
       "<th>test</th>\n",
       "<th>D</th>\n",
       "<th>SE</th>\n",
       "<th>Z</th>\n",
       "</tr>\n",
       "</thead>\n",
       "<tbody>\n",
       "<tr style='background-color: white'>\n",
       "<td>3L, 3R</td>\n",
       "<td>D(CMgam, GAgam; BFcol, <HDF5 file \"chri_ac_phase2_map.h5\" (mode r)>)</td>\n",
       "<td>-0.015</td>\n",
       "<td>0.0047</td>\n",
       "<td>-3.2</td>\n",
       "</tr>\n",
       "</tbody>\n",
       "</table>\n"
      ]
     },
     "metadata": {},
     "output_type": "display_data"
    }
   ],
   "source": [
    "abba_baba_tbl('CMgam', 'GAgam', 'BFcol', calldata_chri, chroms=['3L, 3R'])"
   ]
  },
  {
   "cell_type": "code",
   "execution_count": 6,
   "metadata": {},
   "outputs": [
    {
     "data": {
      "text/html": [
       "<table class='petl'>\n",
       "<thead>\n",
       "<tr>\n",
       "<th>chromosome</th>\n",
       "<th>test</th>\n",
       "<th>D</th>\n",
       "<th>SE</th>\n",
       "<th>Z</th>\n",
       "</tr>\n",
       "</thead>\n",
       "<tbody>\n",
       "<tr style='background-color: #afa'>\n",
       "<td>3L, 3R</td>\n",
       "<td>D(BFgam, GAgam; BFcol, <HDF5 file \"chri_ac_phase2_map.h5\" (mode r)>)</td>\n",
       "<td>0.009</td>\n",
       "<td>0.0004</td>\n",
       "<td>20.9</td>\n",
       "</tr>\n",
       "</tbody>\n",
       "</table>\n"
      ]
     },
     "metadata": {},
     "output_type": "display_data"
    }
   ],
   "source": [
    "abba_baba_tbl('BFgam', 'GAgam', 'BFcol', calldata_chri, chroms=['3L, 3R'])"
   ]
  },
  {
   "cell_type": "code",
   "execution_count": 5,
   "metadata": {},
   "outputs": [
    {
     "data": {
      "text/html": [
       "<table class='petl'>\n",
       "<thead>\n",
       "<tr>\n",
       "<th>chromosome</th>\n",
       "<th>test</th>\n",
       "<th>D</th>\n",
       "<th>SE</th>\n",
       "<th>Z</th>\n",
       "</tr>\n",
       "</thead>\n",
       "<tbody>\n",
       "<tr style='background-color: #afa'>\n",
       "<td>3L, 3R</td>\n",
       "<td>D(FRgam, GAgam; BFcol, <HDF5 file \"chri_ac_phase2_map.h5\" (mode r)>)</td>\n",
       "<td>0.032</td>\n",
       "<td>0.0014</td>\n",
       "<td>22.1</td>\n",
       "</tr>\n",
       "</tbody>\n",
       "</table>\n"
      ]
     },
     "metadata": {},
     "output_type": "display_data"
    }
   ],
   "source": [
    "abba_baba_tbl('FRgam', 'GAgam', 'BFcol', calldata_chri, chroms=['3L, 3R'])"
   ]
  },
  {
   "cell_type": "code",
   "execution_count": null,
   "metadata": {},
   "outputs": [],
   "source": [
    "abba_baba_tbl('GNgam', 'GAgam', 'BFcol', calldata_chri, chroms=['3L, 3R'])"
   ]
  },
  {
   "cell_type": "code",
   "execution_count": 5,
   "metadata": {},
   "outputs": [
    {
     "data": {
      "text/html": [
       "<table class='petl'>\n",
       "<thead>\n",
       "<tr>\n",
       "<th>chromosome</th>\n",
       "<th>test</th>\n",
       "<th>D</th>\n",
       "<th>SE</th>\n",
       "<th>Z</th>\n",
       "</tr>\n",
       "</thead>\n",
       "<tbody>\n",
       "<tr style='background-color: #afa'>\n",
       "<td>3L, 3R</td>\n",
       "<td>D(GQgam, GAgam; BFcol, <HDF5 file \"chri_ac_phase2_map.h5\" (mode r)>)</td>\n",
       "<td>0.023</td>\n",
       "<td>0.0012</td>\n",
       "<td>18.7</td>\n",
       "</tr>\n",
       "</tbody>\n",
       "</table>\n"
      ]
     },
     "metadata": {},
     "output_type": "display_data"
    }
   ],
   "source": [
    "abba_baba_tbl('GQgam', 'GAgam', 'BFcol', calldata_chri, chroms=['3L, 3R'])"
   ]
  },
  {
   "cell_type": "markdown",
   "metadata": {},
   "source": [
    "---------------------------------------------------------------------------"
   ]
  },
  {
   "cell_type": "markdown",
   "metadata": {},
   "source": [
    "Performing ABBA-BABA Test with CIcol population for each <i>An.gambiae</i> population:"
   ]
  },
  {
   "cell_type": "code",
   "execution_count": null,
   "metadata": {},
   "outputs": [],
   "source": [
    "abba_baba_tbl('UGgam', 'GAgam', 'CIcol', calldata_chri, chroms=['3L, 3R'])"
   ]
  },
  {
   "cell_type": "code",
   "execution_count": null,
   "metadata": {},
   "outputs": [],
   "source": [
    "abba_baba_tbl('GHgam', 'GAgam', 'CIcol', calldata_chri, chroms=['3L, 3R'])"
   ]
  },
  {
   "cell_type": "code",
   "execution_count": null,
   "metadata": {},
   "outputs": [],
   "source": [
    "abba_baba_tbl('CMgam', 'GAgam', 'CIcol', calldata_chri, chroms=['3L, 3R'])"
   ]
  },
  {
   "cell_type": "code",
   "execution_count": null,
   "metadata": {},
   "outputs": [],
   "source": [
    "abba_baba_tbl('BFgam', 'GAgam', 'CIcol', calldata_chri, chroms=['3L, 3R'])"
   ]
  },
  {
   "cell_type": "code",
   "execution_count": null,
   "metadata": {},
   "outputs": [],
   "source": [
    "abba_baba_tbl('FRgam', 'GAgam', 'CIcol', calldata_chri, chroms=['3L, 3R'])"
   ]
  },
  {
   "cell_type": "code",
   "execution_count": null,
   "metadata": {},
   "outputs": [],
   "source": [
    "abba_baba_tbl('GNgam', 'GAgam', 'CIcol', calldata_chri, chroms=['3L, 3R'])"
   ]
  },
  {
   "cell_type": "code",
   "execution_count": null,
   "metadata": {},
   "outputs": [],
   "source": [
    "abba_baba_tbl('GQgam', 'GAgam', 'CIcol', calldata_chri, chroms=['3L, 3R'])"
   ]
  },
  {
   "cell_type": "markdown",
   "metadata": {},
   "source": [
    "--------------------------------------------------------------"
   ]
  },
  {
   "cell_type": "markdown",
   "metadata": {},
   "source": [
    "Performing ABBA-BABA Test with GHcol population for each <i>An.gambiae</i> population:"
   ]
  },
  {
   "cell_type": "code",
   "execution_count": null,
   "metadata": {},
   "outputs": [],
   "source": [
    "abba_baba_tbl('UGgam', 'GAgam', 'GHcol', calldata_chri, chroms=['3L, 3R'])"
   ]
  },
  {
   "cell_type": "code",
   "execution_count": null,
   "metadata": {},
   "outputs": [],
   "source": [
    "abba_baba_tbl('GHgam', 'GAgam', 'GHcol', calldata_chri, chroms=['3L, 3R'])"
   ]
  },
  {
   "cell_type": "code",
   "execution_count": null,
   "metadata": {},
   "outputs": [],
   "source": [
    "abba_baba_tbl('CMgam', 'GAgam', 'GHcol', calldata_chri, chroms=['3L, 3R'])"
   ]
  },
  {
   "cell_type": "code",
   "execution_count": null,
   "metadata": {},
   "outputs": [],
   "source": [
    "abba_baba_tbl('BFgam', 'GAgam', 'GHcol', calldata_chri, chroms=['3L, 3R'])"
   ]
  },
  {
   "cell_type": "code",
   "execution_count": null,
   "metadata": {},
   "outputs": [],
   "source": [
    "abba_baba_tbl('FRgam', 'GAgam', 'GHcol', calldata_chri, chroms=['3L, 3R'])"
   ]
  },
  {
   "cell_type": "code",
   "execution_count": null,
   "metadata": {},
   "outputs": [],
   "source": [
    "abba_baba_tbl('GNgam', 'GAgam', 'GHcol', calldata_chri, chroms=['3L, 3R'])"
   ]
  },
  {
   "cell_type": "code",
   "execution_count": null,
   "metadata": {},
   "outputs": [],
   "source": [
    "abba_baba_tbl('GQgam', 'GAgam', 'GHcol', calldata_chri, chroms=['3L, 3R'])"
   ]
  },
  {
   "cell_type": "markdown",
   "metadata": {},
   "source": [
    "--------------------------------------------------------"
   ]
  },
  {
   "cell_type": "markdown",
   "metadata": {},
   "source": [
    "Performing ABBA-BABA Test with GNcol population for each <i>An.gambiae</i> population:"
   ]
  },
  {
   "cell_type": "code",
   "execution_count": null,
   "metadata": {},
   "outputs": [],
   "source": [
    "abba_baba_tbl('UGgam', 'GAgam', 'GNcol', calldata_chri, chroms=['3L, 3R'])"
   ]
  },
  {
   "cell_type": "code",
   "execution_count": null,
   "metadata": {},
   "outputs": [],
   "source": [
    "abba_baba_tbl('GHgam', 'GAgam', 'GNcol', calldata_chri, chroms=['3L, 3R'])"
   ]
  },
  {
   "cell_type": "code",
   "execution_count": null,
   "metadata": {},
   "outputs": [],
   "source": [
    "abba_baba_tbl('CMgam', 'GAgam', 'GNcol', calldata_chri, chroms=['3L, 3R'])"
   ]
  },
  {
   "cell_type": "code",
   "execution_count": null,
   "metadata": {},
   "outputs": [],
   "source": [
    "abba_baba_tbl('BFgam', 'GAgam', 'GNcol', calldata_chri, chroms=['3L, 3R'])"
   ]
  },
  {
   "cell_type": "code",
   "execution_count": null,
   "metadata": {},
   "outputs": [],
   "source": [
    "abba_baba_tbl('FRgam', 'GAgam', 'GNcol', calldata_chri, chroms=['3L, 3R'])"
   ]
  },
  {
   "cell_type": "code",
   "execution_count": null,
   "metadata": {},
   "outputs": [],
   "source": [
    "abba_baba_tbl('GNgam', 'GAgam', 'GNcol', calldata_chri, chroms=['3L, 3R'])"
   ]
  },
  {
   "cell_type": "code",
   "execution_count": null,
   "metadata": {},
   "outputs": [],
   "source": [
    "abba_baba_tbl('GQgam', 'GAgam', 'GNcol', calldata_chri, chroms=['3L, 3R'])"
   ]
  },
  {
   "cell_type": "markdown",
   "metadata": {},
   "source": [
    "--------------------------------------------------------"
   ]
  },
  {
   "cell_type": "code",
   "execution_count": null,
   "metadata": {},
   "outputs": [],
   "source": []
  },
  {
   "cell_type": "code",
   "execution_count": null,
   "metadata": {},
   "outputs": [],
   "source": []
  },
  {
   "cell_type": "code",
   "execution_count": 6,
   "metadata": {},
   "outputs": [],
   "source": [
    "agam = 'GAgam','UGgam'"
   ]
  },
  {
   "cell_type": "code",
   "execution_count": 7,
   "metadata": {},
   "outputs": [
    {
     "data": {
      "text/plain": [
       "'GAgam'"
      ]
     },
     "execution_count": 7,
     "metadata": {},
     "output_type": "execute_result"
    }
   ],
   "source": [
    "agam[0]"
   ]
  },
  {
   "cell_type": "code",
   "execution_count": 8,
   "metadata": {},
   "outputs": [],
   "source": [
    "acol = 'AOcol','BFcol','CIcol','GHcol','GNcol'"
   ]
  },
  {
   "cell_type": "code",
   "execution_count": null,
   "metadata": {},
   "outputs": [
    {
     "name": "stderr",
     "output_type": "stream",
     "text": [
      "/opt/conda/lib/python3.6/site-packages/allel/stats/admixture.py:430: RuntimeWarning: invalid value encountered in true_divide\n",
      "  vb = num_bsum / den_bsum\n"
     ]
    }
   ],
   "source": [
    "abba_baba_tbl(agam[0], agam[1], acol, calldata_chri, chroms=['3L'])"
   ]
  },
  {
   "cell_type": "code",
   "execution_count": null,
   "metadata": {},
   "outputs": [],
   "source": []
  }
 ],
 "metadata": {
  "kernelspec": {
   "display_name": "Python [conda env:root] *",
   "language": "python",
   "name": "conda-root-py"
  },
  "language_info": {
   "codemirror_mode": {
    "name": "ipython",
    "version": 3
   },
   "file_extension": ".py",
   "mimetype": "text/x-python",
   "name": "python",
   "nbconvert_exporter": "python",
   "pygments_lexer": "ipython3",
   "version": "3.6.7"
  }
 },
 "nbformat": 4,
 "nbformat_minor": 4
}
