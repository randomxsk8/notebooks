{
 "cells": [
  {
   "cell_type": "code",
   "execution_count": 4,
   "metadata": {},
   "outputs": [],
   "source": [
    "%run imports_20150407.ipynb ##run alistair modules"
   ]
  },
  {
   "cell_type": "code",
   "execution_count": 1,
   "metadata": {},
   "outputs": [],
   "source": [
    "import gcsfs #module for google cloud connection\n",
    "import os\n",
    "import allel\n",
    "import zarr\n",
    "import pandas as pd\n",
    "import h5py\n",
    "import petl as etl\n",
    "import numpy as np\n",
    "import matplotlib.pyplot as plt\n",
    "import seaborn as sns\n",
    "import h5py\n",
    "import pyfasta\n",
    "\n",
    "import sys\n",
    "import gc\n",
    "import datetime\n",
    "import humanize\n",
    "from humanize import naturalsize, intcomma, intword\n",
    "\n",
    "\n",
    "def log(*msg):\n",
    "    print(' '.join(map(str, msg)), file=sys.stdout)\n",
    "    sys.stdout.flush()\n",
    "    \n",
    "from contextlib import contextmanager\n",
    "\n",
    "@contextmanager\n",
    "def timer(*msg):\n",
    "    before = datetime.datetime.now()\n",
    "    try:\n",
    "        yield\n",
    "    except:\n",
    "        after = datetime.datetime.now()\n",
    "        elapsed = (after - before).total_seconds()\n",
    "        done = 'errored after %s' % humanize.naturaldelta(elapsed)\n",
    "        if not msg:\n",
    "            msg = done\n",
    "        else:\n",
    "            msg = ', '.join(map(str, msg)) + ', ' + done\n",
    "        print(msg, file=sys.stderr)\n",
    "        sys.stderr.flush()   \n",
    "        raise\n",
    "    else:\n",
    "        after = datetime.datetime.now()\n",
    "        elapsed = (after - before).total_seconds()\n",
    "        done = 'done in %s' % humanize.naturaldelta(elapsed)\n",
    "        if not msg:\n",
    "            msg = done\n",
    "        else:\n",
    "            msg = ', '.join(map(str, msg)) + ', ' + done\n",
    "        print(msg, file=sys.stdout)\n",
    "        sys.stdout.flush()"
   ]
  },
  {
   "cell_type": "code",
   "execution_count": 6,
   "metadata": {},
   "outputs": [],
   "source": [
    "#gcs_orig = gcsfs.GCSFileSystem(project='malariagen-jupyterhub', token='cache')\n",
    "#gcs =  gcsfs.GCSFileSystem(project='malariagen-jupyterhub', token=gcs_orig.session.credentials)\n",
    "#gcs =  gcsfs.GCSFileSystem(project='malariagen-jupyterhub', token='cloud')"
   ]
  },
  {
   "cell_type": "code",
   "execution_count": 7,
   "metadata": {},
   "outputs": [],
   "source": [
    "gcs =  gcsfs.GCSFileSystem(project='malariagen-jupyterhub', token='cloud') ## cloud connection function"
   ]
  },
  {
   "cell_type": "code",
   "execution_count": 18,
   "metadata": {},
   "outputs": [],
   "source": [
    "geno_path = os.path.join(\"ag1000g-release/phase2.AR1/variation/main/zarr/pass/ag1000g.phase2.ar1.pass\")  ## Adding phase2 genotype path \n",
    "gcsmap_p2 = gcsfs.mapping.GCSMap(geno_path, gcs=gcs) ## link callset\n",
    "callset_phase2= zarr.Group(gcsmap_p2, read_only=True) ## read data"
   ]
  },
  {
   "cell_type": "code",
   "execution_count": 9,
   "metadata": {},
   "outputs": [],
   "source": [
    "geno_bi_path = os.path.join(\"ag1000g-release/phase2.AR1/variation/main/zarr/biallelic/ag1000g.phase2.ar1.pass.biallelic\")  ## Adding phase2 biallelic genotype path \n",
    "gcsmap_bi = gcsfs.mapping.GCSMap(geno_bi_path, gcs=gcs) ## link callset\n",
    "callset_biallel= zarr.Group(gcsmap_bi, read_only=True) ## read data"
   ]
  },
  {
   "cell_type": "code",
   "execution_count": 10,
   "metadata": {},
   "outputs": [],
   "source": [
    "geno_p1_path = os.path.join(\"ag1000g-release/phase1.AR3/variation/main/zarr/ag1000g.phase1.ar3.pass\")  ## Adding phase1 genotype path \n",
    "gcsmap_p1 = gcsfs.mapping.GCSMap(geno_p1_path, gcs=gcs) ## link callset\n",
    "callset_phase1= zarr.Group(gcsmap_p1, read_only=True) ## read data"
   ]
  },
  {
   "cell_type": "code",
   "execution_count": 11,
   "metadata": {},
   "outputs": [],
   "source": [
    " ###### Adding phase2 haplotype path ######\n",
    "hap_path = 'ag1000g-release/phase2.AR1/haplotypes/main/zarr/ag1000g.phase2.ar1.haplotypes'\n",
    "gcsmap_hap = gcsfs.mapping.GCSMap(hap_path, gcs=gcs) ## link callset\n",
    "calldata_hap_phase2= zarr.Group(gcsmap_hap, read_only=True)"
   ]
  },
  {
   "cell_type": "code",
   "execution_count": 12,
   "metadata": {},
   "outputs": [],
   "source": [
    " ###### Adding phase2 accessibility path ######\n",
    "accessibility_path = (\"ag1000g-release/phase2.AR1/accessibility/accessibility.zarr\")\n",
    "gcsacmap_access = gcsfs.mapping.GCSMap(accessibility_path, gcs=gcs) ## link callset\n",
    "accessibility= zarr.Group(gcsacmap_access, read_only=True)"
   ]
  },
  {
   "cell_type": "code",
   "execution_count": 3,
   "metadata": {},
   "outputs": [],
   "source": [
    "fasta_fn = '/home/jovyan/notebooks/data/Anopheles-gambiae-PEST_CHROMOSOMES_AgamP3.fa'\n",
    "genome = pyfasta.Fasta(fasta_fn)"
   ]
  },
  {
   "cell_type": "markdown",
   "metadata": {},
   "source": [
    "------------------------------"
   ]
  },
  {
   "cell_type": "markdown",
   "metadata": {},
   "source": [
    "Upgraded version of datalab:\n",
    "\n",
    "#gcs_bucket_fs = gcsfs.GCSFileSystem(project='malariagen-jupyterhub', token='anon', access='read_only')"
   ]
  },
  {
   "cell_type": "markdown",
   "metadata": {},
   "source": [
    "Adding phase1 genotype path ######\n",
    "  \n",
    "> geno_path_p1 = os.path.join(\"ag1000g-release/phase1.AR3/variation/main/zarr/ag1000g.phase1.ar3.pass\")\n",
    "\n",
    "> gcsacmap = gcs_bucket_fs.get_mapper(root=geno_path_p1)\n",
    "\n",
    "> calldata_phase1= zarr.Group(gcsacmap, read_only=True)"
   ]
  },
  {
   "cell_type": "markdown",
   "metadata": {},
   "source": [
    "  Adding phase2 genotype path ######\n",
    "  \n",
    "geno_path = os.path.join(\"ag1000g-release/phase2.AR1/variation/main/zarr/biallelic/ag1000g.phase2.ar1.pass.biallelic\")\n",
    "\n",
    "gcsacmap = gcs_bucket_fs.get_mapper(root=geno_path)\n",
    "\n",
    "calldata_phase2= zarr.Group(gcsacmap, read_only=True)"
   ]
  },
  {
   "cell_type": "markdown",
   "metadata": {},
   "source": [
    "  Adding phase2 haplotype path ######\n",
    "  \n",
    "hap_path = 'ag1000g-release/phase2.AR1/haplotypes/main/zarr/ag1000g.phase2.ar1.haplotypes'\n",
    "\n",
    "store = gcs_bucket_fs.get_mapper(root=hap_path)\n",
    "\n",
    "calldata_hap_phase2= zarr.Group(store, read_only=True)"
   ]
  },
  {
   "cell_type": "markdown",
   "metadata": {},
   "source": [
    "  Adding phase2 accessibility path ######\n",
    "  \n",
    "accessibility_path = os.path.join(\"ag1000g-release/phase2.AR1/accessibility/accessibility.zarr\")\n",
    "\n",
    "gcsacmap = gcs_bucket_fs.get_mapper(root=accessibility_path)\n",
    "\n",
    "accessibility= zarr.Group(gcsacmap, read_only=True)"
   ]
  },
  {
   "cell_type": "markdown",
   "metadata": {},
   "source": [
    "--------------------------------------"
   ]
  },
  {
   "cell_type": "code",
   "execution_count": 3,
   "metadata": {},
   "outputs": [],
   "source": [
    "fasta_fn = '/home/jovyan/notebooks/data/Anopheles-gambiae-PEST_CHROMOSOMES_AgamP3.fa'\n",
    "genome = pyfasta.Fasta(fasta_fn)"
   ]
  },
  {
   "cell_type": "code",
   "execution_count": 3,
   "metadata": {},
   "outputs": [],
   "source": [
    "palette = sns.color_palette()"
   ]
  },
  {
   "cell_type": "markdown",
   "metadata": {},
   "source": [
    "-----------------------------------------------"
   ]
  },
  {
   "cell_type": "code",
   "execution_count": null,
   "metadata": {},
   "outputs": [],
   "source": []
  }
 ],
 "metadata": {
  "kernelspec": {
   "display_name": "Python 3",
   "language": "python",
   "name": "python3"
  },
  "language_info": {
   "codemirror_mode": {
    "name": "ipython",
    "version": 3
   },
   "file_extension": ".py",
   "mimetype": "text/x-python",
   "name": "python",
   "nbconvert_exporter": "python",
   "pygments_lexer": "ipython3",
   "version": "3.6.7"
  }
 },
 "nbformat": 4,
 "nbformat_minor": 4
}
