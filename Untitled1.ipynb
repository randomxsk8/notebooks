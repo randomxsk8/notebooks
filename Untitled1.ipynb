{
 "cells": [
  {
   "cell_type": "code",
   "execution_count": 2,
   "metadata": {},
   "outputs": [
    {
     "name": "stdout",
     "output_type": "stream",
     "text": [
      "--2019-08-23 09:55:09--  https://olive.broadinstitute.org/collections/anop_chri_achkn1017.2/downloads/variants.vcf.gz\n",
      "Resolving olive.broadinstitute.org (olive.broadinstitute.org)... 69.173.65.23\n",
      "Connecting to olive.broadinstitute.org (olive.broadinstitute.org)|69.173.65.23|:443... connected.\n",
      "WARNING: cannot verify olive.broadinstitute.org's certificate, issued by ‘CN=InCommon RSA Server CA,OU=InCommon,O=Internet2,L=Ann Arbor,ST=MI,C=US’:\n",
      "  Unable to locally verify the issuer's authority.\n",
      "HTTP request sent, awaiting response... 200 OK\n",
      "Length: 82844400 (79M) [application/octet-stream]\n",
      "Saving to: ‘variants.vcf.gz’\n",
      "\n",
      "variants.vcf.gz     100%[===================>]  79.01M  26.2MB/s    in 3.0s    \n",
      "\n",
      "2019-08-23 09:55:12 (26.2 MB/s) - ‘variants.vcf.gz’ saved [82844400/82844400]\n",
      "\n"
     ]
    }
   ],
   "source": [
    "!wget --no-clobber --no-check-certificate https://olive.broadinstitute.org/collections/anop_chri_achkn1017.2/downloads/variants.vcf.gz"
   ]
  },
  {
   "cell_type": "code",
   "execution_count": 1,
   "metadata": {},
   "outputs": [],
   "source": [
    "import gcsfs #module for google cloud connection\n",
    "import os\n",
    "import allel\n",
    "import zarr\n",
    "import pandas as pd\n",
    "import numpy as np\n",
    "from matplotlib import pyplot\n",
    "import seaborn as sns\n",
    "import h5py"
   ]
  },
  {
   "cell_type": "code",
   "execution_count": 2,
   "metadata": {},
   "outputs": [],
   "source": [
    "gcs_orig = gcsfs.GCSFileSystem(project='malariagen-jupyterhub', token='cache')\n",
    "gcs =  gcsfs.GCSFileSystem(project='malariagen-jupyterhub', token=gcs_orig.session.credentials)"
   ]
  },
  {
   "cell_type": "code",
   "execution_count": 3,
   "metadata": {},
   "outputs": [],
   "source": [
    "phase2path = os.path.join(\"ag1000g-release\", \"phase2.AR1\", \"variation\", \"main\", \"zarr\", \"biallelic\", \"ag1000g.phase2.ar1.pass.biallelic\")"
   ]
  },
  {
   "cell_type": "code",
   "execution_count": 4,
   "metadata": {},
   "outputs": [],
   "source": [
    "gcsmap = gcsfs.mapping.GCSMap(phase2path, gcs=gcs)"
   ]
  },
  {
   "cell_type": "code",
   "execution_count": 11,
   "metadata": {},
   "outputs": [
    {
     "data": {
      "text/plain": [
       "{'samples': array(['G14024:Anopheles_christyi_ACHKN1017'], dtype=object),\n",
       " 'calldata/GT': array([[[0, 0]],\n",
       " \n",
       "        [[0, 1]],\n",
       " \n",
       "        [[0, 1]],\n",
       " \n",
       "        ...,\n",
       " \n",
       "        [[0, 1]],\n",
       " \n",
       "        [[0, 1]],\n",
       " \n",
       "        [[0, 1]]], dtype=int8),\n",
       " 'variants/ALT': array([['', '', ''],\n",
       "        ['T', '', ''],\n",
       "        ['T', '', ''],\n",
       "        ...,\n",
       "        ['C', '', ''],\n",
       "        ['T', '', ''],\n",
       "        ['A', '', '']], dtype=object),\n",
       " 'variants/CHROM': array(['gi|473338509|gb|KB673756.1|', 'gi|473338509|gb|KB673756.1|',\n",
       "        'gi|473338509|gb|KB673756.1|', ..., 'gi|471802334|gb|KB704124.1|',\n",
       "        'gi|471802334|gb|KB704124.1|', 'gi|471802334|gb|KB704124.1|'],\n",
       "       dtype=object),\n",
       " 'variants/FILTER_PASS': array([False,  True,  True, ...,  True,  True,  True]),\n",
       " 'variants/ID': array(['.', '.', '.', ..., '.', '.', '.'], dtype=object),\n",
       " 'variants/POS': array([  18,  144,  310, ..., 4798, 4908, 4975], dtype=int32),\n",
       " 'variants/QUAL': array([   9.16,  459.24,  698.86, ..., 1149.22, 1132.6 , 1082.58],\n",
       "       dtype=float32),\n",
       " 'variants/REF': array(['A', 'TACAC', 'G', ..., 'A', 'A', 'C'], dtype=object)}"
      ]
     },
     "execution_count": 11,
     "metadata": {},
     "output_type": "execute_result"
    }
   ],
   "source": [
    "callset_christyi = allel.read_vcf('christyi_genome.gz')\n",
    "callset_christyi"
   ]
  },
  {
   "cell_type": "code",
   "execution_count": 15,
   "metadata": {},
   "outputs": [
    {
     "data": {
      "text/html": [
       "<div class=\"allel allel-DisplayAs2D\"><span>&lt;GenotypeArray shape=(1495880, 1, 2) dtype=int8&gt;</span><table><thead><tr><th></th><th style=\"text-align: center\">0</th></tr></thead><tbody><tr><th style=\"text-align: center; background-color: white; border-right: 1px solid black; \">0</th><td style=\"text-align: center\">0/0</td></tr><tr><th style=\"text-align: center; background-color: white; border-right: 1px solid black; \">1</th><td style=\"text-align: center\">0/1</td></tr><tr><th style=\"text-align: center; background-color: white; border-right: 1px solid black; \">2</th><td style=\"text-align: center\">0/1</td></tr><tr><th style=\"text-align: center; background-color: white; border-right: 1px solid black; \">...</th><td style=\"text-align: center\" colspan=\"2\">...</td></tr><tr><th style=\"text-align: center; background-color: white; border-right: 1px solid black; \">1495877</th><td style=\"text-align: center\">0/1</td></tr><tr><th style=\"text-align: center; background-color: white; border-right: 1px solid black; \">1495878</th><td style=\"text-align: center\">0/1</td></tr><tr><th style=\"text-align: center; background-color: white; border-right: 1px solid black; \">1495879</th><td style=\"text-align: center\">0/1</td></tr></tbody></table></div>"
      ],
      "text/plain": [
       "<GenotypeArray shape=(1495880, 1, 2) dtype=int8>\n",
       "0/0\n",
       "0/1\n",
       "0/1\n",
       "...\n",
       "0/1\n",
       "0/1\n",
       "0/1"
      ]
     },
     "execution_count": 15,
     "metadata": {},
     "output_type": "execute_result"
    }
   ],
   "source": [
    "gt_christyi = allel.GenotypeArray(callset_christyi['calldata/GT'])\n",
    "gt_christyi"
   ]
  },
  {
   "cell_type": "code",
   "execution_count": 16,
   "metadata": {},
   "outputs": [
    {
     "data": {
      "text/html": [
       "<div class=\"allel allel-DisplayAs2D\"><span>&lt;AlleleCountsArray shape=(1495880, 2) dtype=int32&gt;</span><table><thead><tr><th></th><th style=\"text-align: center\">0</th><th style=\"text-align: center\">1</th></tr></thead><tbody><tr><th style=\"text-align: center; background-color: white; border-right: 1px solid black; \">0</th><td style=\"text-align: center\">2</td><td style=\"text-align: center\">0</td></tr><tr><th style=\"text-align: center; background-color: white; border-right: 1px solid black; \">1</th><td style=\"text-align: center\">1</td><td style=\"text-align: center\">1</td></tr><tr><th style=\"text-align: center; background-color: white; border-right: 1px solid black; \">2</th><td style=\"text-align: center\">1</td><td style=\"text-align: center\">1</td></tr><tr><th style=\"text-align: center; background-color: white; border-right: 1px solid black; \">...</th><td style=\"text-align: center\" colspan=\"3\">...</td></tr><tr><th style=\"text-align: center; background-color: white; border-right: 1px solid black; \">1495877</th><td style=\"text-align: center\">1</td><td style=\"text-align: center\">1</td></tr><tr><th style=\"text-align: center; background-color: white; border-right: 1px solid black; \">1495878</th><td style=\"text-align: center\">1</td><td style=\"text-align: center\">1</td></tr><tr><th style=\"text-align: center; background-color: white; border-right: 1px solid black; \">1495879</th><td style=\"text-align: center\">1</td><td style=\"text-align: center\">1</td></tr></tbody></table></div>"
      ],
      "text/plain": [
       "<AlleleCountsArray shape=(1495880, 2) dtype=int32>\n",
       "2 0\n",
       "1 1\n",
       "1 1\n",
       "...\n",
       "1 1\n",
       "1 1\n",
       "1 1"
      ]
     },
     "execution_count": 16,
     "metadata": {},
     "output_type": "execute_result"
    }
   ],
   "source": [
    "ac = gt_christyi.count_alleles()\n",
    "ac"
   ]
  },
  {
   "cell_type": "markdown",
   "metadata": {},
   "source": [
    "----------------------------------"
   ]
  },
  {
   "cell_type": "code",
   "execution_count": 20,
   "metadata": {},
   "outputs": [],
   "source": [
    "allel.vcf_to_hdf5('christyi_genome.gz', 'christyi_genome.h5', fields='*', overwrite=True)"
   ]
  },
  {
   "cell_type": "code",
   "execution_count": 23,
   "metadata": {},
   "outputs": [
    {
     "data": {
      "text/plain": [
       "<HDF5 file \"christyi_genome.h5\" (mode r)>"
      ]
     },
     "execution_count": 23,
     "metadata": {},
     "output_type": "execute_result"
    }
   ],
   "source": [
    "callset_chry = 'christyi_genome.h5'\n",
    "callset_chry = h5py.File(callset_chry, mode='r')\n",
    "callset_chry"
   ]
  },
  {
   "cell_type": "code",
   "execution_count": 30,
   "metadata": {},
   "outputs": [
    {
     "data": {
      "text/plain": [
       "1495880"
      ]
     },
     "execution_count": 30,
     "metadata": {},
     "output_type": "execute_result"
    }
   ],
   "source": [
    "chrom = callset['variants/CHROM']\n",
    "len(chrom)"
   ]
  },
  {
   "cell_type": "markdown",
   "metadata": {},
   "source": [
    "--------------------------------------------"
   ]
  },
  {
   "cell_type": "code",
   "execution_count": 18,
   "metadata": {},
   "outputs": [],
   "source": [
    "calldata_phase2= zarr.Group(gcsmap, read_only=True)"
   ]
  },
  {
   "cell_type": "code",
   "execution_count": 19,
   "metadata": {},
   "outputs": [
    {
     "data": {
      "text/html": [
       "<div class=\"allel allel-DisplayAsTable\"><span>&lt;VariantChunkedTable shape=(8906423,) dtype=[('POS', '&lt;i4'), ('REF', 'S1'), ('ALT', 'S1'), ('DP', '&lt;i4'), ('MQ', '&lt;f4'), ('QD', '&lt;f4'), ('numalt', '&lt;i4')]\n",
       "   nbytes=186.9M cbytes=-7 cratio=-27991615.1\n",
       "   values=zarr.hierarchy.Group&gt;</span><table><thead><tr><th></th><th style=\"text-align: center\">POS</th><th style=\"text-align: center\">REF</th><th style=\"text-align: center\">ALT</th><th style=\"text-align: center\">DP</th><th style=\"text-align: center\">MQ</th><th style=\"text-align: center\">QD</th><th style=\"text-align: center\">numalt</th></tr></thead><tbody><tr><th style=\"text-align: center; background-color: white; border-right: 1px solid black; \">0</th><td style=\"text-align: center\">25050</td><td style=\"text-align: center\">b'G'</td><td style=\"text-align: center\">b'T'</td><td style=\"text-align: center\">38417</td><td style=\"text-align: center\">51.53</td><td style=\"text-align: center\">8.02</td><td style=\"text-align: center\">1</td></tr><tr><th style=\"text-align: center; background-color: white; border-right: 1px solid black; \">1</th><td style=\"text-align: center\">51212</td><td style=\"text-align: center\">b'T'</td><td style=\"text-align: center\">b'A'</td><td style=\"text-align: center\">39639</td><td style=\"text-align: center\">55.75</td><td style=\"text-align: center\">13.58</td><td style=\"text-align: center\">1</td></tr><tr><th style=\"text-align: center; background-color: white; border-right: 1px solid black; \">2</th><td style=\"text-align: center\">51214</td><td style=\"text-align: center\">b'G'</td><td style=\"text-align: center\">b'C'</td><td style=\"text-align: center\">39461</td><td style=\"text-align: center\">55.73</td><td style=\"text-align: center\">19.83</td><td style=\"text-align: center\">1</td></tr><tr><th style=\"text-align: center; background-color: white; border-right: 1px solid black; \">...</th><td style=\"text-align: center\" colspan=\"8\">...</td></tr><tr><th style=\"text-align: center; background-color: white; border-right: 1px solid black; \">8906420</th><td style=\"text-align: center\">49356425</td><td style=\"text-align: center\">b'G'</td><td style=\"text-align: center\">b'T'</td><td style=\"text-align: center\">28138</td><td style=\"text-align: center\">41.81</td><td style=\"text-align: center\">9.58</td><td style=\"text-align: center\">1</td></tr><tr><th style=\"text-align: center; background-color: white; border-right: 1px solid black; \">8906421</th><td style=\"text-align: center\">49356426</td><td style=\"text-align: center\">b'G'</td><td style=\"text-align: center\">b'T'</td><td style=\"text-align: center\">28311</td><td style=\"text-align: center\">41.57</td><td style=\"text-align: center\">10.3</td><td style=\"text-align: center\">1</td></tr><tr><th style=\"text-align: center; background-color: white; border-right: 1px solid black; \">8906422</th><td style=\"text-align: center\">49356429</td><td style=\"text-align: center\">b'A'</td><td style=\"text-align: center\">b'G'</td><td style=\"text-align: center\">28106</td><td style=\"text-align: center\">40.92</td><td style=\"text-align: center\">10.13</td><td style=\"text-align: center\">1</td></tr></tbody></table></div>"
      ],
      "text/plain": [
       "<VariantChunkedTable shape=(8906423,) dtype=[('POS', '<i4'), ('REF', 'S1'), ('ALT', 'S1'), ('DP', '<i4'), ('MQ', '<f4'), ('QD', '<f4'), ('numalt', '<i4')]\n",
       "   nbytes=186.9M cbytes=-7 cratio=-27991615.1\n",
       "   values=zarr.hierarchy.Group>"
      ]
     },
     "execution_count": 19,
     "metadata": {},
     "output_type": "execute_result"
    }
   ],
   "source": [
    "variants_phase2 = allel.VariantChunkedTable(calldata_phase2[\"2L\"][\"variants\"], \n",
    "                                     names=['POS', 'REF', 'ALT', 'DP', 'MQ', 'QD', 'numalt'],\n",
    "                                     index='POS')\n",
    "variants_phase2"
   ]
  },
  {
   "cell_type": "code",
   "execution_count": 23,
   "metadata": {},
   "outputs": [],
   "source": [
    "phase1path = os.path.join(\"ag1000g-release\", \"phase1.AR3\", \"variation\", \"main\", \"zarr\", \"ag1000g.phase1.ar3.pass.biallelic\")"
   ]
  },
  {
   "cell_type": "code",
   "execution_count": 24,
   "metadata": {},
   "outputs": [],
   "source": [
    "gcsmap = gcsfs.mapping.GCSMap(phase1path, gcs=gcs)"
   ]
  },
  {
   "cell_type": "code",
   "execution_count": 27,
   "metadata": {},
   "outputs": [],
   "source": [
    "calldata_phase1= zarr.Group(gcsmap, read_only=True)"
   ]
  },
  {
   "cell_type": "code",
   "execution_count": 28,
   "metadata": {},
   "outputs": [
    {
     "data": {
      "text/html": [
       "<div class=\"allel allel-DisplayAsTable\"><span>&lt;VariantChunkedTable shape=(8296600,) dtype=[('POS', '&lt;i4'), ('REF', 'S1'), ('ALT', 'S1'), ('DP', '&lt;i4'), ('MQ', '&lt;f4'), ('QD', '&lt;f4'), ('numalt', '&lt;i4')]\n",
       "   nbytes=174.1M cbytes=-7 cratio=-26075028.6\n",
       "   values=zarr.hierarchy.Group&gt;</span><table><thead><tr><th></th><th style=\"text-align: center\">POS</th><th style=\"text-align: center\">REF</th><th style=\"text-align: center\">ALT</th><th style=\"text-align: center\">DP</th><th style=\"text-align: center\">MQ</th><th style=\"text-align: center\">QD</th><th style=\"text-align: center\">numalt</th></tr></thead><tbody><tr><th style=\"text-align: center; background-color: white; border-right: 1px solid black; \">0</th><td style=\"text-align: center\">44688</td><td style=\"text-align: center\">b'C'</td><td style=\"text-align: center\">b'T'</td><td style=\"text-align: center\">27446</td><td style=\"text-align: center\">48.74</td><td style=\"text-align: center\">7.0</td><td style=\"text-align: center\">1</td></tr><tr><th style=\"text-align: center; background-color: white; border-right: 1px solid black; \">1</th><td style=\"text-align: center\">44691</td><td style=\"text-align: center\">b'C'</td><td style=\"text-align: center\">b'A'</td><td style=\"text-align: center\">27568</td><td style=\"text-align: center\">48.91</td><td style=\"text-align: center\">11.43</td><td style=\"text-align: center\">1</td></tr><tr><th style=\"text-align: center; background-color: white; border-right: 1px solid black; \">2</th><td style=\"text-align: center\">44732</td><td style=\"text-align: center\">b'C'</td><td style=\"text-align: center\">b'T'</td><td style=\"text-align: center\">28429</td><td style=\"text-align: center\">50.41</td><td style=\"text-align: center\">15.6</td><td style=\"text-align: center\">1</td></tr><tr><th style=\"text-align: center; background-color: white; border-right: 1px solid black; \">...</th><td style=\"text-align: center\" colspan=\"8\">...</td></tr><tr><th style=\"text-align: center; background-color: white; border-right: 1px solid black; \">8296597</th><td style=\"text-align: center\">49356426</td><td style=\"text-align: center\">b'G'</td><td style=\"text-align: center\">b'T'</td><td style=\"text-align: center\">19560</td><td style=\"text-align: center\">41.48</td><td style=\"text-align: center\">10.36</td><td style=\"text-align: center\">1</td></tr><tr><th style=\"text-align: center; background-color: white; border-right: 1px solid black; \">8296598</th><td style=\"text-align: center\">49356429</td><td style=\"text-align: center\">b'A'</td><td style=\"text-align: center\">b'G'</td><td style=\"text-align: center\">19450</td><td style=\"text-align: center\">40.82</td><td style=\"text-align: center\">10.0</td><td style=\"text-align: center\">1</td></tr><tr><th style=\"text-align: center; background-color: white; border-right: 1px solid black; \">8296599</th><td style=\"text-align: center\">49356435</td><td style=\"text-align: center\">b'G'</td><td style=\"text-align: center\">b'A'</td><td style=\"text-align: center\">18687</td><td style=\"text-align: center\">39.57</td><td style=\"text-align: center\">14.0</td><td style=\"text-align: center\">1</td></tr></tbody></table></div>"
      ],
      "text/plain": [
       "<VariantChunkedTable shape=(8296600,) dtype=[('POS', '<i4'), ('REF', 'S1'), ('ALT', 'S1'), ('DP', '<i4'), ('MQ', '<f4'), ('QD', '<f4'), ('numalt', '<i4')]\n",
       "   nbytes=174.1M cbytes=-7 cratio=-26075028.6\n",
       "   values=zarr.hierarchy.Group>"
      ]
     },
     "execution_count": 28,
     "metadata": {},
     "output_type": "execute_result"
    }
   ],
   "source": [
    "variants_phase1 = allel.VariantChunkedTable(calldata_phase1[\"2L\"][\"variants\"], \n",
    "                                     names=['POS', 'REF', 'ALT', 'DP', 'MQ', 'QD', 'numalt'],\n",
    "                                     index='POS')\n",
    "variants_phase1"
   ]
  },
  {
   "cell_type": "code",
   "execution_count": null,
   "metadata": {},
   "outputs": [],
   "source": []
  },
  {
   "cell_type": "code",
   "execution_count": null,
   "metadata": {},
   "outputs": [],
   "source": []
  },
  {
   "cell_type": "code",
   "execution_count": null,
   "metadata": {},
   "outputs": [],
   "source": []
  },
  {
   "cell_type": "code",
   "execution_count": null,
   "metadata": {},
   "outputs": [],
   "source": []
  }
 ],
 "metadata": {
  "kernelspec": {
   "display_name": "Python 3",
   "language": "python",
   "name": "python3"
  },
  "language_info": {
   "codemirror_mode": {
    "name": "ipython",
    "version": 3
   },
   "file_extension": ".py",
   "mimetype": "text/x-python",
   "name": "python",
   "nbconvert_exporter": "python",
   "pygments_lexer": "ipython3",
   "version": "3.6.7"
  }
 },
 "nbformat": 4,
 "nbformat_minor": 4
}
