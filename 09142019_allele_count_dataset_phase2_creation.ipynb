{
 "cells": [
  {
   "cell_type": "markdown",
   "metadata": {},
   "source": [
    "# Create a new allele count dataset for phase2\n",
    "\n",
    "In this notebook i create a new dataset with allele counts for all phase2 populations using the biallelic calldata for each chromosome."
   ]
  },
  {
   "cell_type": "markdown",
   "metadata": {},
   "source": [
    "First of all import my modules and relative path of my callset:"
   ]
  },
  {
   "cell_type": "code",
   "execution_count": 1,
   "metadata": {},
   "outputs": [],
   "source": [
    "%run imports.ipynb"
   ]
  },
  {
   "cell_type": "markdown",
   "metadata": {},
   "source": [
    "Now I import the metadata and i take all population indices for the allele count:"
   ]
  },
  {
   "cell_type": "code",
   "execution_count": 2,
   "metadata": {},
   "outputs": [],
   "source": [
    "metadata = pd.read_csv(\"samples.meta.txt\", sep=\"\\t\")"
   ]
  },
  {
   "cell_type": "code",
   "execution_count": 6,
   "metadata": {},
   "outputs": [],
   "source": [
    "grp = metadata.groupby(\"population\")\n",
    "grp_indices = grp.indices"
   ]
  },
  {
   "cell_type": "markdown",
   "metadata": {},
   "source": [
    "Now I perform the allele count for each chromosome:"
   ]
  },
  {
   "cell_type": "code",
   "execution_count": 4,
   "metadata": {},
   "outputs": [],
   "source": [
    "genotypes_phase2_call = callset_biallel['3L'][\"calldata/GT\"]\n",
    "genotypes_phase2 = allel.GenotypeChunkedArray(genotypes_phase2_call)\n",
    "ac_all_3L = genotypes_phase2.count_alleles_subpops(grp_indices)"
   ]
  },
  {
   "cell_type": "code",
   "execution_count": 5,
   "metadata": {},
   "outputs": [],
   "source": [
    "genotypes_phase2_call = callset_biallel['3R'][\"calldata/GT\"]\n",
    "genotypes_phase2 = allel.GenotypeChunkedArray(genotypes_phase2_call)\n",
    "ac_all_3R = genotypes_phase2.count_alleles_subpops(grp_indices)"
   ]
  },
  {
   "cell_type": "code",
   "execution_count": 6,
   "metadata": {},
   "outputs": [],
   "source": [
    "genotypes_phase2_call = callset_biallel['2L'][\"calldata/GT\"]\n",
    "genotypes_phase2 = allel.GenotypeChunkedArray(genotypes_phase2_call)\n",
    "ac_all_2L = genotypes_phase2.count_alleles_subpops(grp_indices)"
   ]
  },
  {
   "cell_type": "code",
   "execution_count": 7,
   "metadata": {},
   "outputs": [],
   "source": [
    "genotypes_phase2_call = callset_biallel['2R'][\"calldata/GT\"]\n",
    "genotypes_phase2 = allel.GenotypeChunkedArray(genotypes_phase2_call)\n",
    "ac_all_2R = genotypes_phase2.count_alleles_subpops(grp_indices)"
   ]
  },
  {
   "cell_type": "code",
   "execution_count": 8,
   "metadata": {},
   "outputs": [],
   "source": [
    "genotypes_phase2_call = callset_biallel['X'][\"calldata/GT\"]\n",
    "genotypes_phase2 = allel.GenotypeChunkedArray(genotypes_phase2_call)\n",
    "ac_all_X = genotypes_phase2.count_alleles_subpops(grp_indices)"
   ]
  },
  {
   "cell_type": "markdown",
   "metadata": {},
   "source": [
    "Check:"
   ]
  },
  {
   "cell_type": "code",
   "execution_count": 9,
   "metadata": {},
   "outputs": [
    {
     "data": {
      "text/html": [
       "<div class=\"allel allel-DisplayAsTable\"><span>&lt;AlleleCountsChunkedTable shape=(4472265,) dtype=[('AOcol', '&lt;i4', (2,)), ('BFcol', '&lt;i4', (2,)), ('BFgam', '&lt;i4', (2,)), ('CIcol', '&lt;i4', (2,)), ('CMgam', '&lt;i4', (2,)), ('FRgam', '&lt;i4', (2,)), ('GAgam', '&lt;i4', (2,)), ('GHcol', '&lt;i4', (2,)), ('GHgam', '&lt;i4', (2,)), ('GM', '&lt;i4', (2,)), ('GNcol', '&lt;i4', (2,)), ('GNgam', '&lt;i4', (2,)), ('GQgam', '&lt;i4', (2,)), ('GW', '&lt;i4', (2,)), ('KE', '&lt;i4', (2,)), ('UGgam', '&lt;i4', (2,))]\n",
       "   nbytes=545.9M cbytes=43.8M cratio=12.5\n",
       "   values=allel.chunked.storage_zarr.ZarrTable&gt;</span><table><thead><tr><th></th><th style=\"text-align: center\">AOcol</th><th style=\"text-align: center\">BFcol</th><th style=\"text-align: center\">BFgam</th><th style=\"text-align: center\">CIcol</th><th style=\"text-align: center\">CMgam</th><th style=\"text-align: center\">FRgam</th><th style=\"text-align: center\">GAgam</th><th style=\"text-align: center\">GHcol</th><th style=\"text-align: center\">GHgam</th><th style=\"text-align: center\">GM</th><th style=\"text-align: center\">GNcol</th><th style=\"text-align: center\">GNgam</th><th style=\"text-align: center\">GQgam</th><th style=\"text-align: center\">GW</th><th style=\"text-align: center\">KE</th><th style=\"text-align: center\">UGgam</th></tr></thead><tbody><tr><th style=\"text-align: center; background-color: white; border-right: 1px solid black; \">0</th><td style=\"text-align: center\">[156   0]</td><td style=\"text-align: center\">[148   2]</td><td style=\"text-align: center\">[184   0]</td><td style=\"text-align: center\">[141   1]</td><td style=\"text-align: center\">[594   0]</td><td style=\"text-align: center\">[48  0]</td><td style=\"text-align: center\">[138   0]</td><td style=\"text-align: center\">[108   2]</td><td style=\"text-align: center\">[24  0]</td><td style=\"text-align: center\">[130   0]</td><td style=\"text-align: center\">[8 0]</td><td style=\"text-align: center\">[80  0]</td><td style=\"text-align: center\">[18  0]</td><td style=\"text-align: center\">[182   0]</td><td style=\"text-align: center\">[96  0]</td><td style=\"text-align: center\">[224   0]</td></tr><tr><th style=\"text-align: center; background-color: white; border-right: 1px solid black; \">1</th><td style=\"text-align: center\">[156   0]</td><td style=\"text-align: center\">[150   0]</td><td style=\"text-align: center\">[184   0]</td><td style=\"text-align: center\">[142   0]</td><td style=\"text-align: center\">[594   0]</td><td style=\"text-align: center\">[48  0]</td><td style=\"text-align: center\">[138   0]</td><td style=\"text-align: center\">[110   0]</td><td style=\"text-align: center\">[24  0]</td><td style=\"text-align: center\">[130   0]</td><td style=\"text-align: center\">[8 0]</td><td style=\"text-align: center\">[79  1]</td><td style=\"text-align: center\">[18  0]</td><td style=\"text-align: center\">[182   0]</td><td style=\"text-align: center\">[96  0]</td><td style=\"text-align: center\">[224   0]</td></tr><tr><th style=\"text-align: center; background-color: white; border-right: 1px solid black; \">2</th><td style=\"text-align: center\">[156   0]</td><td style=\"text-align: center\">[150   0]</td><td style=\"text-align: center\">[184   0]</td><td style=\"text-align: center\">[142   0]</td><td style=\"text-align: center\">[594   0]</td><td style=\"text-align: center\">[48  0]</td><td style=\"text-align: center\">[138   0]</td><td style=\"text-align: center\">[110   0]</td><td style=\"text-align: center\">[24  0]</td><td style=\"text-align: center\">[130   0]</td><td style=\"text-align: center\">[8 0]</td><td style=\"text-align: center\">[78  2]</td><td style=\"text-align: center\">[18  0]</td><td style=\"text-align: center\">[182   0]</td><td style=\"text-align: center\">[96  0]</td><td style=\"text-align: center\">[224   0]</td></tr><tr><th style=\"text-align: center; background-color: white; border-right: 1px solid black; \">...</th><td style=\"text-align: center\" colspan=\"17\">...</td></tr><tr><th style=\"text-align: center; background-color: white; border-right: 1px solid black; \">4472262</th><td style=\"text-align: center\">[156   0]</td><td style=\"text-align: center\">[142   8]</td><td style=\"text-align: center\">[183   1]</td><td style=\"text-align: center\">[127  15]</td><td style=\"text-align: center\">[594   0]</td><td style=\"text-align: center\">[48  0]</td><td style=\"text-align: center\">[138   0]</td><td style=\"text-align: center\">[97 13]</td><td style=\"text-align: center\">[24  0]</td><td style=\"text-align: center\">[130   0]</td><td style=\"text-align: center\">[4 4]</td><td style=\"text-align: center\">[80  0]</td><td style=\"text-align: center\">[18  0]</td><td style=\"text-align: center\">[181   1]</td><td style=\"text-align: center\">[96  0]</td><td style=\"text-align: center\">[224   0]</td></tr><tr><th style=\"text-align: center; background-color: white; border-right: 1px solid black; \">4472263</th><td style=\"text-align: center\">[155   1]</td><td style=\"text-align: center\">[150   0]</td><td style=\"text-align: center\">[184   0]</td><td style=\"text-align: center\">[142   0]</td><td style=\"text-align: center\">[592   0]</td><td style=\"text-align: center\">[48  0]</td><td style=\"text-align: center\">[138   0]</td><td style=\"text-align: center\">[110   0]</td><td style=\"text-align: center\">[24  0]</td><td style=\"text-align: center\">[130   0]</td><td style=\"text-align: center\">[8 0]</td><td style=\"text-align: center\">[80  0]</td><td style=\"text-align: center\">[18  0]</td><td style=\"text-align: center\">[182   0]</td><td style=\"text-align: center\">[96  0]</td><td style=\"text-align: center\">[224   0]</td></tr><tr><th style=\"text-align: center; background-color: white; border-right: 1px solid black; \">4472264</th><td style=\"text-align: center\">[156   0]</td><td style=\"text-align: center\">[150   0]</td><td style=\"text-align: center\">[104  80]</td><td style=\"text-align: center\">[142   0]</td><td style=\"text-align: center\">[340 252]</td><td style=\"text-align: center\">[27 21]</td><td style=\"text-align: center\">[121  17]</td><td style=\"text-align: center\">[110   0]</td><td style=\"text-align: center\">[14 10]</td><td style=\"text-align: center\">[65 65]</td><td style=\"text-align: center\">[8 0]</td><td style=\"text-align: center\">[47 33]</td><td style=\"text-align: center\">[9 9]</td><td style=\"text-align: center\">[94 88]</td><td style=\"text-align: center\">[49 47]</td><td style=\"text-align: center\">[119 105]</td></tr></tbody></table></div>"
      ],
      "text/plain": [
       "<AlleleCountsChunkedTable shape=(4472265,) dtype=[('AOcol', '<i4', (2,)), ('BFcol', '<i4', (2,)), ('BFgam', '<i4', (2,)), ('CIcol', '<i4', (2,)), ('CMgam', '<i4', (2,)), ('FRgam', '<i4', (2,)), ('GAgam', '<i4', (2,)), ('GHcol', '<i4', (2,)), ('GHgam', '<i4', (2,)), ('GM', '<i4', (2,)), ('GNcol', '<i4', (2,)), ('GNgam', '<i4', (2,)), ('GQgam', '<i4', (2,)), ('GW', '<i4', (2,)), ('KE', '<i4', (2,)), ('UGgam', '<i4', (2,))]\n",
       "   nbytes=545.9M cbytes=43.8M cratio=12.5\n",
       "   values=allel.chunked.storage_zarr.ZarrTable>"
      ]
     },
     "execution_count": 9,
     "metadata": {},
     "output_type": "execute_result"
    }
   ],
   "source": [
    "ac_all_X"
   ]
  },
  {
   "cell_type": "markdown",
   "metadata": {},
   "source": [
    "Now with zarr i create my new dataset with the allele count for each population in each chromosome:"
   ]
  },
  {
   "cell_type": "code",
   "execution_count": 31,
   "metadata": {},
   "outputs": [],
   "source": [
    "root = zarr.open('phase2_biallel_allele_count.zarr', mode='a')"
   ]
  },
  {
   "cell_type": "code",
   "execution_count": 32,
   "metadata": {},
   "outputs": [],
   "source": [
    "populations = 'GHgam', 'CMgam', 'BFgam', 'GNgam', 'GQgam', 'GAgam', 'UGgam','FRgam', 'AOcol', 'BFcol', 'CIcol', 'GHcol', 'GNcol', 'GW', 'KE', 'GM'"
   ]
  },
  {
   "cell_type": "code",
   "execution_count": 33,
   "metadata": {},
   "outputs": [],
   "source": [
    "chrom_2R = root.create_group('2R')\n",
    "chrom_2L = root.create_group('2L')\n",
    "chrom_3R = root.create_group('3R')\n",
    "chrom_3L = root.create_group('3L')\n",
    "chrom_X = root.create_group('X')"
   ]
  },
  {
   "cell_type": "code",
   "execution_count": 34,
   "metadata": {},
   "outputs": [],
   "source": [
    "    for pop in populations:\n",
    "        chrom_2R.create_dataset(pop, data=ac_all_2R[pop])\n",
    "        chrom_2L.create_dataset(pop, data=ac_all_2L[pop])\n",
    "        chrom_3R.create_dataset(pop, data=ac_all_3R[pop])\n",
    "        chrom_3L.create_dataset(pop, data=ac_all_3L[pop])\n",
    "        chrom_X.create_dataset(pop, data=ac_all_X[pop])"
   ]
  },
  {
   "cell_type": "markdown",
   "metadata": {},
   "source": [
    "Check:"
   ]
  },
  {
   "cell_type": "code",
   "execution_count": 35,
   "metadata": {},
   "outputs": [
    {
     "data": {
      "text/html": [
       "<link rel=\"stylesheet\" href=\"//cdnjs.cloudflare.com/ajax/libs/jstree/3.3.3/themes/default/style.min.css\"/><div id=\"c644c1d7-11f8-46d5-99be-16eb503dc35d\" class=\"zarr-tree\"><ul><li data-jstree='{\"type\": \"Group\"}' class='jstree-open'><span>/</span><ul><li data-jstree='{\"type\": \"Group\"}' class=''><span>2L</span><ul><li data-jstree='{\"type\": \"Array\"}' class=''><span>AOcol (8906423, 2) int32</span></li><li data-jstree='{\"type\": \"Array\"}' class=''><span>BFcol (8906423, 2) int32</span></li><li data-jstree='{\"type\": \"Array\"}' class=''><span>BFgam (8906423, 2) int32</span></li><li data-jstree='{\"type\": \"Array\"}' class=''><span>CIcol (8906423, 2) int32</span></li><li data-jstree='{\"type\": \"Array\"}' class=''><span>CMgam (8906423, 2) int32</span></li><li data-jstree='{\"type\": \"Array\"}' class=''><span>FRgam (8906423, 2) int32</span></li><li data-jstree='{\"type\": \"Array\"}' class=''><span>GAgam (8906423, 2) int32</span></li><li data-jstree='{\"type\": \"Array\"}' class=''><span>GHcol (8906423, 2) int32</span></li><li data-jstree='{\"type\": \"Array\"}' class=''><span>GHgam (8906423, 2) int32</span></li><li data-jstree='{\"type\": \"Array\"}' class=''><span>GM (8906423, 2) int32</span></li><li data-jstree='{\"type\": \"Array\"}' class=''><span>GNcol (8906423, 2) int32</span></li><li data-jstree='{\"type\": \"Array\"}' class=''><span>GNgam (8906423, 2) int32</span></li><li data-jstree='{\"type\": \"Array\"}' class=''><span>GQgam (8906423, 2) int32</span></li><li data-jstree='{\"type\": \"Array\"}' class=''><span>GW (8906423, 2) int32</span></li><li data-jstree='{\"type\": \"Array\"}' class=''><span>KE (8906423, 2) int32</span></li><li data-jstree='{\"type\": \"Array\"}' class=''><span>UGgam (8906423, 2) int32</span></li></ul></li><li data-jstree='{\"type\": \"Group\"}' class=''><span>2R</span><ul><li data-jstree='{\"type\": \"Array\"}' class=''><span>AOcol (12047846, 2) int32</span></li><li data-jstree='{\"type\": \"Array\"}' class=''><span>BFcol (12047846, 2) int32</span></li><li data-jstree='{\"type\": \"Array\"}' class=''><span>BFgam (12047846, 2) int32</span></li><li data-jstree='{\"type\": \"Array\"}' class=''><span>CIcol (12047846, 2) int32</span></li><li data-jstree='{\"type\": \"Array\"}' class=''><span>CMgam (12047846, 2) int32</span></li><li data-jstree='{\"type\": \"Array\"}' class=''><span>FRgam (12047846, 2) int32</span></li><li data-jstree='{\"type\": \"Array\"}' class=''><span>GAgam (12047846, 2) int32</span></li><li data-jstree='{\"type\": \"Array\"}' class=''><span>GHcol (12047846, 2) int32</span></li><li data-jstree='{\"type\": \"Array\"}' class=''><span>GHgam (12047846, 2) int32</span></li><li data-jstree='{\"type\": \"Array\"}' class=''><span>GM (12047846, 2) int32</span></li><li data-jstree='{\"type\": \"Array\"}' class=''><span>GNcol (12047846, 2) int32</span></li><li data-jstree='{\"type\": \"Array\"}' class=''><span>GNgam (12047846, 2) int32</span></li><li data-jstree='{\"type\": \"Array\"}' class=''><span>GQgam (12047846, 2) int32</span></li><li data-jstree='{\"type\": \"Array\"}' class=''><span>GW (12047846, 2) int32</span></li><li data-jstree='{\"type\": \"Array\"}' class=''><span>KE (12047846, 2) int32</span></li><li data-jstree='{\"type\": \"Array\"}' class=''><span>UGgam (12047846, 2) int32</span></li></ul></li><li data-jstree='{\"type\": \"Group\"}' class=''><span>3L</span><ul><li data-jstree='{\"type\": \"Array\"}' class=''><span>AOcol (7897666, 2) int32</span></li><li data-jstree='{\"type\": \"Array\"}' class=''><span>BFcol (7897666, 2) int32</span></li><li data-jstree='{\"type\": \"Array\"}' class=''><span>BFgam (7897666, 2) int32</span></li><li data-jstree='{\"type\": \"Array\"}' class=''><span>CIcol (7897666, 2) int32</span></li><li data-jstree='{\"type\": \"Array\"}' class=''><span>CMgam (7897666, 2) int32</span></li><li data-jstree='{\"type\": \"Array\"}' class=''><span>FRgam (7897666, 2) int32</span></li><li data-jstree='{\"type\": \"Array\"}' class=''><span>GAgam (7897666, 2) int32</span></li><li data-jstree='{\"type\": \"Array\"}' class=''><span>GHcol (7897666, 2) int32</span></li><li data-jstree='{\"type\": \"Array\"}' class=''><span>GHgam (7897666, 2) int32</span></li><li data-jstree='{\"type\": \"Array\"}' class=''><span>GM (7897666, 2) int32</span></li><li data-jstree='{\"type\": \"Array\"}' class=''><span>GNcol (7897666, 2) int32</span></li><li data-jstree='{\"type\": \"Array\"}' class=''><span>GNgam (7897666, 2) int32</span></li><li data-jstree='{\"type\": \"Array\"}' class=''><span>GQgam (7897666, 2) int32</span></li><li data-jstree='{\"type\": \"Array\"}' class=''><span>GW (7897666, 2) int32</span></li><li data-jstree='{\"type\": \"Array\"}' class=''><span>KE (7897666, 2) int32</span></li><li data-jstree='{\"type\": \"Array\"}' class=''><span>UGgam (7897666, 2) int32</span></li></ul></li><li data-jstree='{\"type\": \"Group\"}' class=''><span>3R</span><ul><li data-jstree='{\"type\": \"Array\"}' class=''><span>AOcol (10752701, 2) int32</span></li><li data-jstree='{\"type\": \"Array\"}' class=''><span>BFcol (10752701, 2) int32</span></li><li data-jstree='{\"type\": \"Array\"}' class=''><span>BFgam (10752701, 2) int32</span></li><li data-jstree='{\"type\": \"Array\"}' class=''><span>CIcol (10752701, 2) int32</span></li><li data-jstree='{\"type\": \"Array\"}' class=''><span>CMgam (10752701, 2) int32</span></li><li data-jstree='{\"type\": \"Array\"}' class=''><span>FRgam (10752701, 2) int32</span></li><li data-jstree='{\"type\": \"Array\"}' class=''><span>GAgam (10752701, 2) int32</span></li><li data-jstree='{\"type\": \"Array\"}' class=''><span>GHcol (10752701, 2) int32</span></li><li data-jstree='{\"type\": \"Array\"}' class=''><span>GHgam (10752701, 2) int32</span></li><li data-jstree='{\"type\": \"Array\"}' class=''><span>GM (10752701, 2) int32</span></li><li data-jstree='{\"type\": \"Array\"}' class=''><span>GNcol (10752701, 2) int32</span></li><li data-jstree='{\"type\": \"Array\"}' class=''><span>GNgam (10752701, 2) int32</span></li><li data-jstree='{\"type\": \"Array\"}' class=''><span>GQgam (10752701, 2) int32</span></li><li data-jstree='{\"type\": \"Array\"}' class=''><span>GW (10752701, 2) int32</span></li><li data-jstree='{\"type\": \"Array\"}' class=''><span>KE (10752701, 2) int32</span></li><li data-jstree='{\"type\": \"Array\"}' class=''><span>UGgam (10752701, 2) int32</span></li></ul></li><li data-jstree='{\"type\": \"Group\"}' class=''><span>X</span><ul><li data-jstree='{\"type\": \"Array\"}' class=''><span>AOcol (4472265, 2) int32</span></li><li data-jstree='{\"type\": \"Array\"}' class=''><span>BFcol (4472265, 2) int32</span></li><li data-jstree='{\"type\": \"Array\"}' class=''><span>BFgam (4472265, 2) int32</span></li><li data-jstree='{\"type\": \"Array\"}' class=''><span>CIcol (4472265, 2) int32</span></li><li data-jstree='{\"type\": \"Array\"}' class=''><span>CMgam (4472265, 2) int32</span></li><li data-jstree='{\"type\": \"Array\"}' class=''><span>FRgam (4472265, 2) int32</span></li><li data-jstree='{\"type\": \"Array\"}' class=''><span>GAgam (4472265, 2) int32</span></li><li data-jstree='{\"type\": \"Array\"}' class=''><span>GHcol (4472265, 2) int32</span></li><li data-jstree='{\"type\": \"Array\"}' class=''><span>GHgam (4472265, 2) int32</span></li><li data-jstree='{\"type\": \"Array\"}' class=''><span>GM (4472265, 2) int32</span></li><li data-jstree='{\"type\": \"Array\"}' class=''><span>GNcol (4472265, 2) int32</span></li><li data-jstree='{\"type\": \"Array\"}' class=''><span>GNgam (4472265, 2) int32</span></li><li data-jstree='{\"type\": \"Array\"}' class=''><span>GQgam (4472265, 2) int32</span></li><li data-jstree='{\"type\": \"Array\"}' class=''><span>GW (4472265, 2) int32</span></li><li data-jstree='{\"type\": \"Array\"}' class=''><span>KE (4472265, 2) int32</span></li><li data-jstree='{\"type\": \"Array\"}' class=''><span>UGgam (4472265, 2) int32</span></li></ul></li></ul></li></ul></div>\n",
       "<script>\n",
       "    if (!require.defined('jquery')) {\n",
       "        require.config({\n",
       "            paths: {\n",
       "                jquery: '//cdnjs.cloudflare.com/ajax/libs/jquery/1.12.1/jquery.min'\n",
       "            },\n",
       "        });\n",
       "    }\n",
       "    if (!require.defined('jstree')) {\n",
       "        require.config({\n",
       "            paths: {\n",
       "                jstree: '//cdnjs.cloudflare.com/ajax/libs/jstree/3.3.3/jstree.min'\n",
       "            },\n",
       "        });\n",
       "    }\n",
       "    require(['jstree'], function() {\n",
       "        $('#c644c1d7-11f8-46d5-99be-16eb503dc35d').jstree({\n",
       "            types: {\n",
       "                Group: {\n",
       "                    icon: \"fa fa-folder\"\n",
       "                },\n",
       "                Array: {\n",
       "                    icon: \"fa fa-table\"\n",
       "                }\n",
       "            },\n",
       "            plugins: [\"types\"]\n",
       "        });\n",
       "    });\n",
       "</script>\n"
      ],
      "text/plain": [
       "/\n",
       " ├── 2L\n",
       " │   ├── AOcol (8906423, 2) int32\n",
       " │   ├── BFcol (8906423, 2) int32\n",
       " │   ├── BFgam (8906423, 2) int32\n",
       " │   ├── CIcol (8906423, 2) int32\n",
       " │   ├── CMgam (8906423, 2) int32\n",
       " │   ├── FRgam (8906423, 2) int32\n",
       " │   ├── GAgam (8906423, 2) int32\n",
       " │   ├── GHcol (8906423, 2) int32\n",
       " │   ├── GHgam (8906423, 2) int32\n",
       " │   ├── GM (8906423, 2) int32\n",
       " │   ├── GNcol (8906423, 2) int32\n",
       " │   ├── GNgam (8906423, 2) int32\n",
       " │   ├── GQgam (8906423, 2) int32\n",
       " │   ├── GW (8906423, 2) int32\n",
       " │   ├── KE (8906423, 2) int32\n",
       " │   └── UGgam (8906423, 2) int32\n",
       " ├── 2R\n",
       " │   ├── AOcol (12047846, 2) int32\n",
       " │   ├── BFcol (12047846, 2) int32\n",
       " │   ├── BFgam (12047846, 2) int32\n",
       " │   ├── CIcol (12047846, 2) int32\n",
       " │   ├── CMgam (12047846, 2) int32\n",
       " │   ├── FRgam (12047846, 2) int32\n",
       " │   ├── GAgam (12047846, 2) int32\n",
       " │   ├── GHcol (12047846, 2) int32\n",
       " │   ├── GHgam (12047846, 2) int32\n",
       " │   ├── GM (12047846, 2) int32\n",
       " │   ├── GNcol (12047846, 2) int32\n",
       " │   ├── GNgam (12047846, 2) int32\n",
       " │   ├── GQgam (12047846, 2) int32\n",
       " │   ├── GW (12047846, 2) int32\n",
       " │   ├── KE (12047846, 2) int32\n",
       " │   └── UGgam (12047846, 2) int32\n",
       " ├── 3L\n",
       " │   ├── AOcol (7897666, 2) int32\n",
       " │   ├── BFcol (7897666, 2) int32\n",
       " │   ├── BFgam (7897666, 2) int32\n",
       " │   ├── CIcol (7897666, 2) int32\n",
       " │   ├── CMgam (7897666, 2) int32\n",
       " │   ├── FRgam (7897666, 2) int32\n",
       " │   ├── GAgam (7897666, 2) int32\n",
       " │   ├── GHcol (7897666, 2) int32\n",
       " │   ├── GHgam (7897666, 2) int32\n",
       " │   ├── GM (7897666, 2) int32\n",
       " │   ├── GNcol (7897666, 2) int32\n",
       " │   ├── GNgam (7897666, 2) int32\n",
       " │   ├── GQgam (7897666, 2) int32\n",
       " │   ├── GW (7897666, 2) int32\n",
       " │   ├── KE (7897666, 2) int32\n",
       " │   └── UGgam (7897666, 2) int32\n",
       " ├── 3R\n",
       " │   ├── AOcol (10752701, 2) int32\n",
       " │   ├── BFcol (10752701, 2) int32\n",
       " │   ├── BFgam (10752701, 2) int32\n",
       " │   ├── CIcol (10752701, 2) int32\n",
       " │   ├── CMgam (10752701, 2) int32\n",
       " │   ├── FRgam (10752701, 2) int32\n",
       " │   ├── GAgam (10752701, 2) int32\n",
       " │   ├── GHcol (10752701, 2) int32\n",
       " │   ├── GHgam (10752701, 2) int32\n",
       " │   ├── GM (10752701, 2) int32\n",
       " │   ├── GNcol (10752701, 2) int32\n",
       " │   ├── GNgam (10752701, 2) int32\n",
       " │   ├── GQgam (10752701, 2) int32\n",
       " │   ├── GW (10752701, 2) int32\n",
       " │   ├── KE (10752701, 2) int32\n",
       " │   └── UGgam (10752701, 2) int32\n",
       " └── X\n",
       "     ├── AOcol (4472265, 2) int32\n",
       "     ├── BFcol (4472265, 2) int32\n",
       "     ├── BFgam (4472265, 2) int32\n",
       "     ├── CIcol (4472265, 2) int32\n",
       "     ├── CMgam (4472265, 2) int32\n",
       "     ├── FRgam (4472265, 2) int32\n",
       "     ├── GAgam (4472265, 2) int32\n",
       "     ├── GHcol (4472265, 2) int32\n",
       "     ├── GHgam (4472265, 2) int32\n",
       "     ├── GM (4472265, 2) int32\n",
       "     ├── GNcol (4472265, 2) int32\n",
       "     ├── GNgam (4472265, 2) int32\n",
       "     ├── GQgam (4472265, 2) int32\n",
       "     ├── GW (4472265, 2) int32\n",
       "     ├── KE (4472265, 2) int32\n",
       "     └── UGgam (4472265, 2) int32"
      ]
     },
     "execution_count": 35,
     "metadata": {},
     "output_type": "execute_result"
    }
   ],
   "source": [
    "root.tree()"
   ]
  },
  {
   "cell_type": "markdown",
   "metadata": {},
   "source": [
    "----------------------------"
   ]
  },
  {
   "cell_type": "markdown",
   "metadata": {},
   "source": [
    "# Haplotypes allele counts"
   ]
  },
  {
   "cell_type": "code",
   "execution_count": 4,
   "metadata": {},
   "outputs": [],
   "source": [
    "genotypes_phase2_call = calldata_hap_phase2['3L'][\"calldata/GT\"]\n",
    "genotypes_phase2 = allel.GenotypeChunkedArray(genotypes_phase2_call)\n",
    "ac_all_3L = genotypes_phase2.count_alleles_subpops(grp_indices)"
   ]
  },
  {
   "cell_type": "code",
   "execution_count": 5,
   "metadata": {},
   "outputs": [],
   "source": [
    "genotypes_phase2_call = calldata_hap_phase2['3R'][\"calldata/GT\"]\n",
    "genotypes_phase2 = allel.GenotypeChunkedArray(genotypes_phase2_call)\n",
    "ac_all_3R = genotypes_phase2.count_alleles_subpops(grp_indices)"
   ]
  },
  {
   "cell_type": "code",
   "execution_count": 6,
   "metadata": {},
   "outputs": [],
   "source": [
    "genotypes_phase2_call = calldata_hap_phase2['2L'][\"calldata/GT\"]\n",
    "genotypes_phase2 = allel.GenotypeChunkedArray(genotypes_phase2_call)\n",
    "ac_all_2L = genotypes_phase2.count_alleles_subpops(grp_indices)"
   ]
  },
  {
   "cell_type": "code",
   "execution_count": 7,
   "metadata": {},
   "outputs": [],
   "source": [
    "genotypes_phase2_call = calldata_hap_phase2['2R'][\"calldata/GT\"]\n",
    "genotypes_phase2 = allel.GenotypeChunkedArray(genotypes_phase2_call)\n",
    "ac_all_2R = genotypes_phase2.count_alleles_subpops(grp_indices)"
   ]
  },
  {
   "cell_type": "markdown",
   "metadata": {},
   "source": [
    "Check:"
   ]
  },
  {
   "cell_type": "markdown",
   "metadata": {},
   "source": [
    "Now with zarr i create my new dataset with the allele count for each population in each chromosome:"
   ]
  },
  {
   "cell_type": "code",
   "execution_count": 10,
   "metadata": {},
   "outputs": [],
   "source": [
    "root = zarr.open('phase2_allele_hap_count.zarr', mode='a')"
   ]
  },
  {
   "cell_type": "code",
   "execution_count": 11,
   "metadata": {},
   "outputs": [],
   "source": [
    "populations = 'GHgam', 'CMgam', 'BFgam', 'GNgam', 'GQgam', 'GAgam', 'UGgam','FRgam', 'AOcol', 'BFcol', 'CIcol', 'GHcol', 'GNcol', 'GW', 'KE', 'GM'"
   ]
  },
  {
   "cell_type": "code",
   "execution_count": 12,
   "metadata": {},
   "outputs": [],
   "source": [
    "chrom_2R = root.create_group('2R')\n",
    "chrom_2L = root.create_group('2L')\n",
    "chrom_3R = root.create_group('3R')\n",
    "chrom_3L = root.create_group('3L')\n"
   ]
  },
  {
   "cell_type": "code",
   "execution_count": 13,
   "metadata": {},
   "outputs": [],
   "source": [
    "    for pop in populations:\n",
    "        chrom_2R.create_dataset(pop, data=ac_all_2R[pop])\n",
    "        chrom_2L.create_dataset(pop, data=ac_all_2L[pop])\n",
    "        chrom_3R.create_dataset(pop, data=ac_all_3R[pop])\n",
    "        chrom_3L.create_dataset(pop, data=ac_all_3L[pop])\n"
   ]
  },
  {
   "cell_type": "markdown",
   "metadata": {},
   "source": [
    "Check:"
   ]
  },
  {
   "cell_type": "code",
   "execution_count": 14,
   "metadata": {},
   "outputs": [
    {
     "data": {
      "text/html": [
       "<link rel=\"stylesheet\" href=\"//cdnjs.cloudflare.com/ajax/libs/jstree/3.3.3/themes/default/style.min.css\"/><div id=\"4d8b9588-0373-442c-93a7-a5010d2f0e0d\" class=\"zarr-tree\"><ul><li data-jstree='{\"type\": \"Group\"}' class='jstree-open'><span>/</span><ul><li data-jstree='{\"type\": \"Group\"}' class=''><span>2L</span><ul><li data-jstree='{\"type\": \"Array\"}' class=''><span>AOcol (8906423, 2) int32</span></li><li data-jstree='{\"type\": \"Array\"}' class=''><span>BFcol (8906423, 2) int32</span></li><li data-jstree='{\"type\": \"Array\"}' class=''><span>BFgam (8906423, 2) int32</span></li><li data-jstree='{\"type\": \"Array\"}' class=''><span>CIcol (8906423, 2) int32</span></li><li data-jstree='{\"type\": \"Array\"}' class=''><span>CMgam (8906423, 2) int32</span></li><li data-jstree='{\"type\": \"Array\"}' class=''><span>FRgam (8906423, 2) int32</span></li><li data-jstree='{\"type\": \"Array\"}' class=''><span>GAgam (8906423, 2) int32</span></li><li data-jstree='{\"type\": \"Array\"}' class=''><span>GHcol (8906423, 2) int32</span></li><li data-jstree='{\"type\": \"Array\"}' class=''><span>GHgam (8906423, 2) int32</span></li><li data-jstree='{\"type\": \"Array\"}' class=''><span>GM (8906423, 2) int32</span></li><li data-jstree='{\"type\": \"Array\"}' class=''><span>GNcol (8906423, 2) int32</span></li><li data-jstree='{\"type\": \"Array\"}' class=''><span>GNgam (8906423, 2) int32</span></li><li data-jstree='{\"type\": \"Array\"}' class=''><span>GQgam (8906423, 2) int32</span></li><li data-jstree='{\"type\": \"Array\"}' class=''><span>GW (8906423, 2) int32</span></li><li data-jstree='{\"type\": \"Array\"}' class=''><span>KE (8906423, 2) int32</span></li><li data-jstree='{\"type\": \"Array\"}' class=''><span>UGgam (8906423, 2) int32</span></li></ul></li><li data-jstree='{\"type\": \"Group\"}' class=''><span>2R</span><ul><li data-jstree='{\"type\": \"Array\"}' class=''><span>AOcol (12047846, 2) int32</span></li><li data-jstree='{\"type\": \"Array\"}' class=''><span>BFcol (12047846, 2) int32</span></li><li data-jstree='{\"type\": \"Array\"}' class=''><span>BFgam (12047846, 2) int32</span></li><li data-jstree='{\"type\": \"Array\"}' class=''><span>CIcol (12047846, 2) int32</span></li><li data-jstree='{\"type\": \"Array\"}' class=''><span>CMgam (12047846, 2) int32</span></li><li data-jstree='{\"type\": \"Array\"}' class=''><span>FRgam (12047846, 2) int32</span></li><li data-jstree='{\"type\": \"Array\"}' class=''><span>GAgam (12047846, 2) int32</span></li><li data-jstree='{\"type\": \"Array\"}' class=''><span>GHcol (12047846, 2) int32</span></li><li data-jstree='{\"type\": \"Array\"}' class=''><span>GHgam (12047846, 2) int32</span></li><li data-jstree='{\"type\": \"Array\"}' class=''><span>GM (12047846, 2) int32</span></li><li data-jstree='{\"type\": \"Array\"}' class=''><span>GNcol (12047846, 2) int32</span></li><li data-jstree='{\"type\": \"Array\"}' class=''><span>GNgam (12047846, 2) int32</span></li><li data-jstree='{\"type\": \"Array\"}' class=''><span>GQgam (12047846, 2) int32</span></li><li data-jstree='{\"type\": \"Array\"}' class=''><span>GW (12047846, 2) int32</span></li><li data-jstree='{\"type\": \"Array\"}' class=''><span>KE (12047846, 2) int32</span></li><li data-jstree='{\"type\": \"Array\"}' class=''><span>UGgam (12047846, 2) int32</span></li></ul></li><li data-jstree='{\"type\": \"Group\"}' class=''><span>3L</span><ul><li data-jstree='{\"type\": \"Array\"}' class=''><span>AOcol (7897666, 2) int32</span></li><li data-jstree='{\"type\": \"Array\"}' class=''><span>BFcol (7897666, 2) int32</span></li><li data-jstree='{\"type\": \"Array\"}' class=''><span>BFgam (7897666, 2) int32</span></li><li data-jstree='{\"type\": \"Array\"}' class=''><span>CIcol (7897666, 2) int32</span></li><li data-jstree='{\"type\": \"Array\"}' class=''><span>CMgam (7897666, 2) int32</span></li><li data-jstree='{\"type\": \"Array\"}' class=''><span>FRgam (7897666, 2) int32</span></li><li data-jstree='{\"type\": \"Array\"}' class=''><span>GAgam (7897666, 2) int32</span></li><li data-jstree='{\"type\": \"Array\"}' class=''><span>GHcol (7897666, 2) int32</span></li><li data-jstree='{\"type\": \"Array\"}' class=''><span>GHgam (7897666, 2) int32</span></li><li data-jstree='{\"type\": \"Array\"}' class=''><span>GM (7897666, 2) int32</span></li><li data-jstree='{\"type\": \"Array\"}' class=''><span>GNcol (7897666, 2) int32</span></li><li data-jstree='{\"type\": \"Array\"}' class=''><span>GNgam (7897666, 2) int32</span></li><li data-jstree='{\"type\": \"Array\"}' class=''><span>GQgam (7897666, 2) int32</span></li><li data-jstree='{\"type\": \"Array\"}' class=''><span>GW (7897666, 2) int32</span></li><li data-jstree='{\"type\": \"Array\"}' class=''><span>KE (7897666, 2) int32</span></li><li data-jstree='{\"type\": \"Array\"}' class=''><span>UGgam (7897666, 2) int32</span></li></ul></li><li data-jstree='{\"type\": \"Group\"}' class=''><span>3R</span><ul><li data-jstree='{\"type\": \"Array\"}' class=''><span>AOcol (10752701, 2) int32</span></li><li data-jstree='{\"type\": \"Array\"}' class=''><span>BFcol (10752701, 2) int32</span></li><li data-jstree='{\"type\": \"Array\"}' class=''><span>BFgam (10752701, 2) int32</span></li><li data-jstree='{\"type\": \"Array\"}' class=''><span>CIcol (10752701, 2) int32</span></li><li data-jstree='{\"type\": \"Array\"}' class=''><span>CMgam (10752701, 2) int32</span></li><li data-jstree='{\"type\": \"Array\"}' class=''><span>FRgam (10752701, 2) int32</span></li><li data-jstree='{\"type\": \"Array\"}' class=''><span>GAgam (10752701, 2) int32</span></li><li data-jstree='{\"type\": \"Array\"}' class=''><span>GHcol (10752701, 2) int32</span></li><li data-jstree='{\"type\": \"Array\"}' class=''><span>GHgam (10752701, 2) int32</span></li><li data-jstree='{\"type\": \"Array\"}' class=''><span>GM (10752701, 2) int32</span></li><li data-jstree='{\"type\": \"Array\"}' class=''><span>GNcol (10752701, 2) int32</span></li><li data-jstree='{\"type\": \"Array\"}' class=''><span>GNgam (10752701, 2) int32</span></li><li data-jstree='{\"type\": \"Array\"}' class=''><span>GQgam (10752701, 2) int32</span></li><li data-jstree='{\"type\": \"Array\"}' class=''><span>GW (10752701, 2) int32</span></li><li data-jstree='{\"type\": \"Array\"}' class=''><span>KE (10752701, 2) int32</span></li><li data-jstree='{\"type\": \"Array\"}' class=''><span>UGgam (10752701, 2) int32</span></li></ul></li></ul></li></ul></div>\n",
       "<script>\n",
       "    if (!require.defined('jquery')) {\n",
       "        require.config({\n",
       "            paths: {\n",
       "                jquery: '//cdnjs.cloudflare.com/ajax/libs/jquery/1.12.1/jquery.min'\n",
       "            },\n",
       "        });\n",
       "    }\n",
       "    if (!require.defined('jstree')) {\n",
       "        require.config({\n",
       "            paths: {\n",
       "                jstree: '//cdnjs.cloudflare.com/ajax/libs/jstree/3.3.3/jstree.min'\n",
       "            },\n",
       "        });\n",
       "    }\n",
       "    require(['jstree'], function() {\n",
       "        $('#4d8b9588-0373-442c-93a7-a5010d2f0e0d').jstree({\n",
       "            types: {\n",
       "                Group: {\n",
       "                    icon: \"fa fa-folder\"\n",
       "                },\n",
       "                Array: {\n",
       "                    icon: \"fa fa-table\"\n",
       "                }\n",
       "            },\n",
       "            plugins: [\"types\"]\n",
       "        });\n",
       "    });\n",
       "</script>\n"
      ],
      "text/plain": [
       "/\n",
       " ├── 2L\n",
       " │   ├── AOcol (8906423, 2) int32\n",
       " │   ├── BFcol (8906423, 2) int32\n",
       " │   ├── BFgam (8906423, 2) int32\n",
       " │   ├── CIcol (8906423, 2) int32\n",
       " │   ├── CMgam (8906423, 2) int32\n",
       " │   ├── FRgam (8906423, 2) int32\n",
       " │   ├── GAgam (8906423, 2) int32\n",
       " │   ├── GHcol (8906423, 2) int32\n",
       " │   ├── GHgam (8906423, 2) int32\n",
       " │   ├── GM (8906423, 2) int32\n",
       " │   ├── GNcol (8906423, 2) int32\n",
       " │   ├── GNgam (8906423, 2) int32\n",
       " │   ├── GQgam (8906423, 2) int32\n",
       " │   ├── GW (8906423, 2) int32\n",
       " │   ├── KE (8906423, 2) int32\n",
       " │   └── UGgam (8906423, 2) int32\n",
       " ├── 2R\n",
       " │   ├── AOcol (12047846, 2) int32\n",
       " │   ├── BFcol (12047846, 2) int32\n",
       " │   ├── BFgam (12047846, 2) int32\n",
       " │   ├── CIcol (12047846, 2) int32\n",
       " │   ├── CMgam (12047846, 2) int32\n",
       " │   ├── FRgam (12047846, 2) int32\n",
       " │   ├── GAgam (12047846, 2) int32\n",
       " │   ├── GHcol (12047846, 2) int32\n",
       " │   ├── GHgam (12047846, 2) int32\n",
       " │   ├── GM (12047846, 2) int32\n",
       " │   ├── GNcol (12047846, 2) int32\n",
       " │   ├── GNgam (12047846, 2) int32\n",
       " │   ├── GQgam (12047846, 2) int32\n",
       " │   ├── GW (12047846, 2) int32\n",
       " │   ├── KE (12047846, 2) int32\n",
       " │   └── UGgam (12047846, 2) int32\n",
       " ├── 3L\n",
       " │   ├── AOcol (7897666, 2) int32\n",
       " │   ├── BFcol (7897666, 2) int32\n",
       " │   ├── BFgam (7897666, 2) int32\n",
       " │   ├── CIcol (7897666, 2) int32\n",
       " │   ├── CMgam (7897666, 2) int32\n",
       " │   ├── FRgam (7897666, 2) int32\n",
       " │   ├── GAgam (7897666, 2) int32\n",
       " │   ├── GHcol (7897666, 2) int32\n",
       " │   ├── GHgam (7897666, 2) int32\n",
       " │   ├── GM (7897666, 2) int32\n",
       " │   ├── GNcol (7897666, 2) int32\n",
       " │   ├── GNgam (7897666, 2) int32\n",
       " │   ├── GQgam (7897666, 2) int32\n",
       " │   ├── GW (7897666, 2) int32\n",
       " │   ├── KE (7897666, 2) int32\n",
       " │   └── UGgam (7897666, 2) int32\n",
       " └── 3R\n",
       "     ├── AOcol (10752701, 2) int32\n",
       "     ├── BFcol (10752701, 2) int32\n",
       "     ├── BFgam (10752701, 2) int32\n",
       "     ├── CIcol (10752701, 2) int32\n",
       "     ├── CMgam (10752701, 2) int32\n",
       "     ├── FRgam (10752701, 2) int32\n",
       "     ├── GAgam (10752701, 2) int32\n",
       "     ├── GHcol (10752701, 2) int32\n",
       "     ├── GHgam (10752701, 2) int32\n",
       "     ├── GM (10752701, 2) int32\n",
       "     ├── GNcol (10752701, 2) int32\n",
       "     ├── GNgam (10752701, 2) int32\n",
       "     ├── GQgam (10752701, 2) int32\n",
       "     ├── GW (10752701, 2) int32\n",
       "     ├── KE (10752701, 2) int32\n",
       "     └── UGgam (10752701, 2) int32"
      ]
     },
     "execution_count": 14,
     "metadata": {},
     "output_type": "execute_result"
    }
   ],
   "source": [
    "root.tree()"
   ]
  },
  {
   "cell_type": "markdown",
   "metadata": {},
   "source": [
    "----------------------"
   ]
  },
  {
   "cell_type": "markdown",
   "metadata": {},
   "source": [
    "# Phase2 allele counts"
   ]
  },
  {
   "cell_type": "code",
   "execution_count": 7,
   "metadata": {},
   "outputs": [],
   "source": [
    "genotypes_phase2_call = callset_phase2['3L'][\"calldata/GT\"]\n",
    "genotypes_phase2 = allel.GenotypeChunkedArray(genotypes_phase2_call)\n",
    "ac_all_3L = genotypes_phase2.count_alleles_subpops(grp_indices)"
   ]
  },
  {
   "cell_type": "code",
   "execution_count": null,
   "metadata": {},
   "outputs": [],
   "source": [
    "genotypes_phase2_call = callset_phase2['3R'][\"calldata/GT\"]\n",
    "genotypes_phase2 = allel.GenotypeChunkedArray(genotypes_phase2_call)\n",
    "ac_all_3R = genotypes_phase2.count_alleles_subpops(grp_indices)"
   ]
  },
  {
   "cell_type": "code",
   "execution_count": null,
   "metadata": {},
   "outputs": [],
   "source": [
    "genotypes_phase2_call = callset_phase2['2L'][\"calldata/GT\"]\n",
    "genotypes_phase2 = allel.GenotypeChunkedArray(genotypes_phase2_call)\n",
    "ac_all_2L = genotypes_phase2.count_alleles_subpops(grp_indices)"
   ]
  },
  {
   "cell_type": "code",
   "execution_count": null,
   "metadata": {},
   "outputs": [],
   "source": [
    "genotypes_phase2_call = callset_phase2['2R'][\"calldata/GT\"]\n",
    "genotypes_phase2 = allel.GenotypeChunkedArray(genotypes_phase2_call)\n",
    "ac_all_2R = genotypes_phase2.count_alleles_subpops(grp_indices)"
   ]
  },
  {
   "cell_type": "markdown",
   "metadata": {},
   "source": [
    "Check:"
   ]
  },
  {
   "cell_type": "markdown",
   "metadata": {},
   "source": [
    "Now with zarr i create my new dataset with the allele count for each population in each chromosome:"
   ]
  },
  {
   "cell_type": "code",
   "execution_count": null,
   "metadata": {},
   "outputs": [],
   "source": [
    "root = zarr.open('phase2_pass_allele_count.zarr', mode='a')"
   ]
  },
  {
   "cell_type": "code",
   "execution_count": null,
   "metadata": {},
   "outputs": [],
   "source": [
    "populations = 'GHgam', 'CMgam', 'BFgam', 'GNgam', 'GQgam', 'GAgam', 'UGgam','FRgam', 'AOcol', 'BFcol', 'CIcol', 'GHcol', 'GNcol', 'GW', 'KE', 'GM'"
   ]
  },
  {
   "cell_type": "code",
   "execution_count": null,
   "metadata": {},
   "outputs": [],
   "source": [
    "chrom_2R = root.create_group('2R')\n",
    "chrom_2L = root.create_group('2L')\n",
    "chrom_3R = root.create_group('3R')\n",
    "chrom_3L = root.create_group('3L')"
   ]
  },
  {
   "cell_type": "code",
   "execution_count": null,
   "metadata": {},
   "outputs": [],
   "source": [
    "    for pop in populations:\n",
    "        chrom_2R.create_dataset(pop, data=ac_all_2R[pop])\n",
    "        chrom_2L.create_dataset(pop, data=ac_all_2L[pop])\n",
    "        chrom_3R.create_dataset(pop, data=ac_all_3R[pop])\n",
    "        chrom_3L.create_dataset(pop, data=ac_all_3L[pop])"
   ]
  },
  {
   "cell_type": "markdown",
   "metadata": {},
   "source": [
    "---------------"
   ]
  },
  {
   "cell_type": "code",
   "execution_count": 3,
   "metadata": {},
   "outputs": [],
   "source": [
    "metadata = pd.read_csv(\"samples.meta2.txt\", sep=\",\")"
   ]
  },
  {
   "cell_type": "code",
   "execution_count": 4,
   "metadata": {},
   "outputs": [],
   "source": [
    "pop_selection = metadata.species.isin({'acol', 'agam'}).values\n",
    "pop_subset = metadata[pop_selection]"
   ]
  },
  {
   "cell_type": "code",
   "execution_count": 5,
   "metadata": {},
   "outputs": [],
   "source": [
    "grp = pop_subset.groupby(\"species\")\n",
    "grp_indices = grp.indices"
   ]
  },
  {
   "cell_type": "code",
   "execution_count": null,
   "metadata": {},
   "outputs": [],
   "source": [
    "genotypes_phase2_call = callset_phase2['3L'][\"calldata/GT\"]\n",
    "genotypes_phase2 = allel.GenotypeChunkedArray(genotypes_phase2_call)\n",
    "ac_all_3L = genotypes_phase2.count_alleles_subpops(grp_indices)"
   ]
  },
  {
   "cell_type": "code",
   "execution_count": null,
   "metadata": {},
   "outputs": [],
   "source": [
    "genotypes_phase2_call = callset_phase2['3R'][\"calldata/GT\"]\n",
    "genotypes_phase2 = allel.GenotypeChunkedArray(genotypes_phase2_call)\n",
    "ac_all_3R = genotypes_phase2.count_alleles_subpops(grp_indices)"
   ]
  },
  {
   "cell_type": "code",
   "execution_count": null,
   "metadata": {},
   "outputs": [],
   "source": [
    "genotypes_phase2_call = callset_phase2['2L'][\"calldata/GT\"]\n",
    "genotypes_phase2 = allel.GenotypeChunkedArray(genotypes_phase2_call)\n",
    "ac_all_2L = genotypes_phase2.count_alleles_subpops(grp_indices)"
   ]
  },
  {
   "cell_type": "code",
   "execution_count": null,
   "metadata": {},
   "outputs": [],
   "source": [
    "genotypes_phase2_call = callset_phase2['2R'][\"calldata/GT\"]\n",
    "genotypes_phase2 = allel.GenotypeChunkedArray(genotypes_phase2_call)\n",
    "ac_all_2R = genotypes_phase2.count_alleles_subpops(grp_indices)"
   ]
  },
  {
   "cell_type": "code",
   "execution_count": null,
   "metadata": {},
   "outputs": [],
   "source": [
    "species = 'acol', 'agam'"
   ]
  },
  {
   "cell_type": "code",
   "execution_count": null,
   "metadata": {},
   "outputs": [],
   "source": [
    "    for sp in species:\n",
    "        chrom_2R.create_dataset(sp, data=ac_all_2R[pop])\n",
    "        chrom_2L.create_dataset(sp, data=ac_all_2L[pop])\n",
    "        chrom_3R.create_dataset(sp, data=ac_all_3R[pop])\n",
    "        chrom_3L.create_dataset(sp, data=ac_all_3L[pop])"
   ]
  },
  {
   "cell_type": "code",
   "execution_count": null,
   "metadata": {},
   "outputs": [],
   "source": []
  },
  {
   "cell_type": "code",
   "execution_count": null,
   "metadata": {},
   "outputs": [],
   "source": []
  },
  {
   "cell_type": "code",
   "execution_count": null,
   "metadata": {},
   "outputs": [],
   "source": []
  },
  {
   "cell_type": "code",
   "execution_count": null,
   "metadata": {},
   "outputs": [],
   "source": []
  }
 ],
 "metadata": {
  "kernelspec": {
   "display_name": "Python 3",
   "language": "python",
   "name": "python3"
  },
  "language_info": {
   "codemirror_mode": {
    "name": "ipython",
    "version": 3
   },
   "file_extension": ".py",
   "mimetype": "text/x-python",
   "name": "python",
   "nbconvert_exporter": "python",
   "pygments_lexer": "ipython3",
   "version": "3.6.7"
  }
 },
 "nbformat": 4,
 "nbformat_minor": 4
}
