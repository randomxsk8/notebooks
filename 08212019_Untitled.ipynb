{
 "cells": [
  {
   "cell_type": "code",
   "execution_count": 1,
   "metadata": {},
   "outputs": [],
   "source": [
    "import gcsfs"
   ]
  },
  {
   "cell_type": "code",
   "execution_count": 2,
   "metadata": {},
   "outputs": [],
   "source": [
    "#gcs_browser = gcsfs.GCSFileSystem(project='malariagen-jupyterhub', token='browser')"
   ]
  },
  {
   "cell_type": "code",
   "execution_count": 5,
   "metadata": {},
   "outputs": [],
   "source": [
    "#gcs_orig = gcsfs.GCSFileSystem(project='malariagen-jupyterhub', token='cache')\n",
    "gcs =  gcsfs.GCSFileSystem(project='malariagen-jupyterhub', token='cloud')"
   ]
  },
  {
   "cell_type": "code",
   "execution_count": 6,
   "metadata": {},
   "outputs": [],
   "source": [
    "import os\n",
    "import allel\n",
    "import zarr"
   ]
  },
  {
   "cell_type": "code",
   "execution_count": 7,
   "metadata": {},
   "outputs": [],
   "source": [
    "phase2path = os.path.join(\"ag1000g-release\", \"phase2.AR1\", \"variation\", \"main\", \"zarr\", \"biallelic\", \"ag1000g.phase2.ar1.pass.biallelic\")"
   ]
  },
  {
   "cell_type": "code",
   "execution_count": 8,
   "metadata": {},
   "outputs": [],
   "source": [
    "gcsmap = gcsfs.mapping.GCSMap(phase2path, gcs=gcs)"
   ]
  },
  {
   "cell_type": "code",
   "execution_count": 9,
   "metadata": {},
   "outputs": [],
   "source": [
    "calldata= zarr.Group(gcsmap, read_only=True)"
   ]
  },
  {
   "cell_type": "code",
   "execution_count": 22,
   "metadata": {},
   "outputs": [
    {
     "name": "stdout",
     "output_type": "stream",
     "text": [
      "--2019-08-21 13:39:29--  ftp://ngs.sanger.ac.uk/production/ag1000g/phase2/AR1/samples/samples.meta.txt\n",
      "           => ‘samples.meta.txt’\n",
      "Resolving ngs.sanger.ac.uk (ngs.sanger.ac.uk)... 193.62.203.79\n",
      "Connecting to ngs.sanger.ac.uk (ngs.sanger.ac.uk)|193.62.203.79|:21... connected.\n",
      "Logging in as anonymous ... Logged in!\n",
      "==> SYST ... done.    ==> PWD ... done.\n",
      "==> TYPE I ... done.  ==> CWD (1) /production/ag1000g/phase2/AR1/samples ... done.\n",
      "==> SIZE samples.meta.txt ... 150452\n",
      "==> PASV ... done.    ==> RETR samples.meta.txt ... done.\n",
      "Length: 150452 (147K) (unauthoritative)\n",
      "\n",
      "samples.meta.txt    100%[===================>] 146.93K   486KB/s    in 0.3s    \n",
      "\n",
      "2019-08-21 13:39:31 (486 KB/s) - ‘samples.meta.txt’ saved [150452]\n",
      "\n"
     ]
    }
   ],
   "source": [
    "!wget --no-clobber ftp://ngs.sanger.ac.uk/production/ag1000g/phase2/AR1/samples/samples.meta.txt"
   ]
  },
  {
   "cell_type": "code",
   "execution_count": 8,
   "metadata": {},
   "outputs": [
    {
     "data": {
      "text/plain": [
       "<zarr.core.Array '/2L/calldata/GT' (8906423, 1142, 2) int8 read-only>"
      ]
     },
     "execution_count": 8,
     "metadata": {},
     "output_type": "execute_result"
    }
   ],
   "source": [
    "calldata[\"2L\"][\"calldata/GT\"]"
   ]
  },
  {
   "cell_type": "code",
   "execution_count": 9,
   "metadata": {},
   "outputs": [
    {
     "data": {
      "text/plain": [
       "<zarr.hierarchy.Group '/2L/variants' read-only>"
      ]
     },
     "execution_count": 9,
     "metadata": {},
     "output_type": "execute_result"
    }
   ],
   "source": [
    "calldata[\"2L\"][\"variants\"]"
   ]
  },
  {
   "cell_type": "code",
   "execution_count": 10,
   "metadata": {},
   "outputs": [],
   "source": [
    "g = calldata[\"2L\"][\"calldata/GT\"]"
   ]
  },
  {
   "cell_type": "code",
   "execution_count": 11,
   "metadata": {},
   "outputs": [
    {
     "data": {
      "text/plain": [
       "(524288, 61, 2)"
      ]
     },
     "execution_count": 11,
     "metadata": {},
     "output_type": "execute_result"
    }
   ],
   "source": [
    "g.chunks"
   ]
  },
  {
   "cell_type": "code",
   "execution_count": 12,
   "metadata": {},
   "outputs": [],
   "source": [
    "import pandas as pd"
   ]
  },
  {
   "cell_type": "code",
   "execution_count": 13,
   "metadata": {},
   "outputs": [],
   "source": [
    "metadata = pd.read_csv(\"samples.meta.txt\", sep=\"\\t\")"
   ]
  },
  {
   "cell_type": "code",
   "execution_count": 14,
   "metadata": {},
   "outputs": [
    {
     "data": {
      "text/html": [
       "<div>\n",
       "<style scoped>\n",
       "    .dataframe tbody tr th:only-of-type {\n",
       "        vertical-align: middle;\n",
       "    }\n",
       "\n",
       "    .dataframe tbody tr th {\n",
       "        vertical-align: top;\n",
       "    }\n",
       "\n",
       "    .dataframe thead th {\n",
       "        text-align: right;\n",
       "    }\n",
       "</style>\n",
       "<table border=\"1\" class=\"dataframe\">\n",
       "  <thead>\n",
       "    <tr style=\"text-align: right;\">\n",
       "      <th></th>\n",
       "      <th>ox_code</th>\n",
       "      <th>src_code</th>\n",
       "      <th>population</th>\n",
       "      <th>country</th>\n",
       "      <th>location</th>\n",
       "      <th>site</th>\n",
       "      <th>contributor</th>\n",
       "      <th>contact</th>\n",
       "      <th>year</th>\n",
       "      <th>m_s</th>\n",
       "      <th>sex</th>\n",
       "      <th>n_sequences</th>\n",
       "      <th>mean_coverage</th>\n",
       "      <th>ebi_sample_acc</th>\n",
       "      <th>latitude</th>\n",
       "      <th>longitude</th>\n",
       "    </tr>\n",
       "  </thead>\n",
       "  <tbody>\n",
       "    <tr>\n",
       "      <th>0</th>\n",
       "      <td>AA0040-C</td>\n",
       "      <td>Twifo_Praso__E2</td>\n",
       "      <td>GHcol</td>\n",
       "      <td>Ghana</td>\n",
       "      <td>Twifo Praso</td>\n",
       "      <td>Twifo Praso</td>\n",
       "      <td>David Weetman</td>\n",
       "      <td>David Weetman</td>\n",
       "      <td>2012</td>\n",
       "      <td>M</td>\n",
       "      <td>F</td>\n",
       "      <td>95033368</td>\n",
       "      <td>30.99</td>\n",
       "      <td>ERS311878</td>\n",
       "      <td>5.60858</td>\n",
       "      <td>-1.54926</td>\n",
       "    </tr>\n",
       "    <tr>\n",
       "      <th>1</th>\n",
       "      <td>AA0041-C</td>\n",
       "      <td>Twifo_Praso__H3</td>\n",
       "      <td>GHcol</td>\n",
       "      <td>Ghana</td>\n",
       "      <td>Twifo Praso</td>\n",
       "      <td>Twifo Praso</td>\n",
       "      <td>David Weetman</td>\n",
       "      <td>David Weetman</td>\n",
       "      <td>2012</td>\n",
       "      <td>M</td>\n",
       "      <td>F</td>\n",
       "      <td>95843804</td>\n",
       "      <td>31.70</td>\n",
       "      <td>ERS311886</td>\n",
       "      <td>5.60858</td>\n",
       "      <td>-1.54926</td>\n",
       "    </tr>\n",
       "    <tr>\n",
       "      <th>2</th>\n",
       "      <td>AA0042-C</td>\n",
       "      <td>Takoradi_C7</td>\n",
       "      <td>GHcol</td>\n",
       "      <td>Ghana</td>\n",
       "      <td>Takoradi</td>\n",
       "      <td>Takoradi</td>\n",
       "      <td>David Weetman</td>\n",
       "      <td>David Weetman</td>\n",
       "      <td>2012</td>\n",
       "      <td>M</td>\n",
       "      <td>F</td>\n",
       "      <td>107420666</td>\n",
       "      <td>35.65</td>\n",
       "      <td>ERS311894</td>\n",
       "      <td>4.91217</td>\n",
       "      <td>-1.77397</td>\n",
       "    </tr>\n",
       "    <tr>\n",
       "      <th>3</th>\n",
       "      <td>AA0043-C</td>\n",
       "      <td>Takoradi_H8</td>\n",
       "      <td>GHcol</td>\n",
       "      <td>Ghana</td>\n",
       "      <td>Takoradi</td>\n",
       "      <td>Takoradi</td>\n",
       "      <td>David Weetman</td>\n",
       "      <td>David Weetman</td>\n",
       "      <td>2012</td>\n",
       "      <td>M</td>\n",
       "      <td>F</td>\n",
       "      <td>95993752</td>\n",
       "      <td>29.46</td>\n",
       "      <td>ERS311902</td>\n",
       "      <td>4.91217</td>\n",
       "      <td>-1.77397</td>\n",
       "    </tr>\n",
       "    <tr>\n",
       "      <th>4</th>\n",
       "      <td>AA0044-C</td>\n",
       "      <td>Takoradi_D10</td>\n",
       "      <td>GHcol</td>\n",
       "      <td>Ghana</td>\n",
       "      <td>Takoradi</td>\n",
       "      <td>Takoradi</td>\n",
       "      <td>David Weetman</td>\n",
       "      <td>David Weetman</td>\n",
       "      <td>2012</td>\n",
       "      <td>M</td>\n",
       "      <td>F</td>\n",
       "      <td>103044262</td>\n",
       "      <td>33.67</td>\n",
       "      <td>ERS311910</td>\n",
       "      <td>4.91217</td>\n",
       "      <td>-1.77397</td>\n",
       "    </tr>\n",
       "  </tbody>\n",
       "</table>\n",
       "</div>"
      ],
      "text/plain": [
       "    ox_code         src_code population country     location         site  \\\n",
       "0  AA0040-C  Twifo_Praso__E2      GHcol   Ghana  Twifo Praso  Twifo Praso   \n",
       "1  AA0041-C  Twifo_Praso__H3      GHcol   Ghana  Twifo Praso  Twifo Praso   \n",
       "2  AA0042-C      Takoradi_C7      GHcol   Ghana     Takoradi     Takoradi   \n",
       "3  AA0043-C      Takoradi_H8      GHcol   Ghana     Takoradi     Takoradi   \n",
       "4  AA0044-C     Takoradi_D10      GHcol   Ghana     Takoradi     Takoradi   \n",
       "\n",
       "     contributor        contact  year m_s sex  n_sequences  mean_coverage  \\\n",
       "0  David Weetman  David Weetman  2012   M   F     95033368          30.99   \n",
       "1  David Weetman  David Weetman  2012   M   F     95843804          31.70   \n",
       "2  David Weetman  David Weetman  2012   M   F    107420666          35.65   \n",
       "3  David Weetman  David Weetman  2012   M   F     95993752          29.46   \n",
       "4  David Weetman  David Weetman  2012   M   F    103044262          33.67   \n",
       "\n",
       "  ebi_sample_acc  latitude  longitude  \n",
       "0      ERS311878   5.60858   -1.54926  \n",
       "1      ERS311886   5.60858   -1.54926  \n",
       "2      ERS311894   4.91217   -1.77397  \n",
       "3      ERS311902   4.91217   -1.77397  \n",
       "4      ERS311910   4.91217   -1.77397  "
      ]
     },
     "execution_count": 14,
     "metadata": {},
     "output_type": "execute_result"
    }
   ],
   "source": [
    "metadata.head()"
   ]
  },
  {
   "cell_type": "code",
   "execution_count": 15,
   "metadata": {},
   "outputs": [
    {
     "data": {
      "text/plain": [
       "array(['GHcol', 'GHgam', 'BFgam', 'BFcol', 'UGgam', 'GM', 'GW', 'KE',\n",
       "       'CMgam', 'FRgam', 'GQgam', 'AOcol', 'GAgam', 'GNgam', 'GNcol',\n",
       "       'CIcol'], dtype=object)"
      ]
     },
     "execution_count": 15,
     "metadata": {},
     "output_type": "execute_result"
    }
   ],
   "source": [
    "metadata.population.unique()"
   ]
  },
  {
   "cell_type": "code",
   "execution_count": 42,
   "metadata": {},
   "outputs": [
    {
     "data": {
      "text/plain": [
       "array([ True,  True,  True, ..., False, False, False])"
      ]
     },
     "execution_count": 42,
     "metadata": {},
     "output_type": "execute_result"
    }
   ],
   "source": [
    "pop_selection = metadata.population.isin({'BFgam', 'BFcol', 'GHcol', 'AOcol'}).values\n",
    "pop_select"
   ]
  },
  {
   "cell_type": "code",
   "execution_count": 43,
   "metadata": {},
   "outputs": [
    {
     "data": {
      "text/html": [
       "<div>\n",
       "<style scoped>\n",
       "    .dataframe tbody tr th:only-of-type {\n",
       "        vertical-align: middle;\n",
       "    }\n",
       "\n",
       "    .dataframe tbody tr th {\n",
       "        vertical-align: top;\n",
       "    }\n",
       "\n",
       "    .dataframe thead th {\n",
       "        text-align: right;\n",
       "    }\n",
       "</style>\n",
       "<table border=\"1\" class=\"dataframe\">\n",
       "  <thead>\n",
       "    <tr style=\"text-align: right;\">\n",
       "      <th></th>\n",
       "      <th>ox_code</th>\n",
       "      <th>src_code</th>\n",
       "      <th>population</th>\n",
       "      <th>country</th>\n",
       "      <th>location</th>\n",
       "      <th>site</th>\n",
       "      <th>contributor</th>\n",
       "      <th>contact</th>\n",
       "      <th>year</th>\n",
       "      <th>m_s</th>\n",
       "      <th>sex</th>\n",
       "      <th>n_sequences</th>\n",
       "      <th>mean_coverage</th>\n",
       "      <th>ebi_sample_acc</th>\n",
       "      <th>latitude</th>\n",
       "      <th>longitude</th>\n",
       "    </tr>\n",
       "  </thead>\n",
       "  <tbody>\n",
       "    <tr>\n",
       "      <th>0</th>\n",
       "      <td>AA0040-C</td>\n",
       "      <td>Twifo_Praso__E2</td>\n",
       "      <td>GHcol</td>\n",
       "      <td>Ghana</td>\n",
       "      <td>Twifo Praso</td>\n",
       "      <td>Twifo Praso</td>\n",
       "      <td>David Weetman</td>\n",
       "      <td>David Weetman</td>\n",
       "      <td>2012</td>\n",
       "      <td>M</td>\n",
       "      <td>F</td>\n",
       "      <td>95033368</td>\n",
       "      <td>30.99</td>\n",
       "      <td>ERS311878</td>\n",
       "      <td>5.60858</td>\n",
       "      <td>-1.54926</td>\n",
       "    </tr>\n",
       "    <tr>\n",
       "      <th>1</th>\n",
       "      <td>AA0041-C</td>\n",
       "      <td>Twifo_Praso__H3</td>\n",
       "      <td>GHcol</td>\n",
       "      <td>Ghana</td>\n",
       "      <td>Twifo Praso</td>\n",
       "      <td>Twifo Praso</td>\n",
       "      <td>David Weetman</td>\n",
       "      <td>David Weetman</td>\n",
       "      <td>2012</td>\n",
       "      <td>M</td>\n",
       "      <td>F</td>\n",
       "      <td>95843804</td>\n",
       "      <td>31.70</td>\n",
       "      <td>ERS311886</td>\n",
       "      <td>5.60858</td>\n",
       "      <td>-1.54926</td>\n",
       "    </tr>\n",
       "    <tr>\n",
       "      <th>2</th>\n",
       "      <td>AA0042-C</td>\n",
       "      <td>Takoradi_C7</td>\n",
       "      <td>GHcol</td>\n",
       "      <td>Ghana</td>\n",
       "      <td>Takoradi</td>\n",
       "      <td>Takoradi</td>\n",
       "      <td>David Weetman</td>\n",
       "      <td>David Weetman</td>\n",
       "      <td>2012</td>\n",
       "      <td>M</td>\n",
       "      <td>F</td>\n",
       "      <td>107420666</td>\n",
       "      <td>35.65</td>\n",
       "      <td>ERS311894</td>\n",
       "      <td>4.91217</td>\n",
       "      <td>-1.77397</td>\n",
       "    </tr>\n",
       "    <tr>\n",
       "      <th>3</th>\n",
       "      <td>AA0043-C</td>\n",
       "      <td>Takoradi_H8</td>\n",
       "      <td>GHcol</td>\n",
       "      <td>Ghana</td>\n",
       "      <td>Takoradi</td>\n",
       "      <td>Takoradi</td>\n",
       "      <td>David Weetman</td>\n",
       "      <td>David Weetman</td>\n",
       "      <td>2012</td>\n",
       "      <td>M</td>\n",
       "      <td>F</td>\n",
       "      <td>95993752</td>\n",
       "      <td>29.46</td>\n",
       "      <td>ERS311902</td>\n",
       "      <td>4.91217</td>\n",
       "      <td>-1.77397</td>\n",
       "    </tr>\n",
       "    <tr>\n",
       "      <th>4</th>\n",
       "      <td>AA0044-C</td>\n",
       "      <td>Takoradi_D10</td>\n",
       "      <td>GHcol</td>\n",
       "      <td>Ghana</td>\n",
       "      <td>Takoradi</td>\n",
       "      <td>Takoradi</td>\n",
       "      <td>David Weetman</td>\n",
       "      <td>David Weetman</td>\n",
       "      <td>2012</td>\n",
       "      <td>M</td>\n",
       "      <td>F</td>\n",
       "      <td>103044262</td>\n",
       "      <td>33.67</td>\n",
       "      <td>ERS311910</td>\n",
       "      <td>4.91217</td>\n",
       "      <td>-1.77397</td>\n",
       "    </tr>\n",
       "  </tbody>\n",
       "</table>\n",
       "</div>"
      ],
      "text/plain": [
       "    ox_code         src_code population country     location         site  \\\n",
       "0  AA0040-C  Twifo_Praso__E2      GHcol   Ghana  Twifo Praso  Twifo Praso   \n",
       "1  AA0041-C  Twifo_Praso__H3      GHcol   Ghana  Twifo Praso  Twifo Praso   \n",
       "2  AA0042-C      Takoradi_C7      GHcol   Ghana     Takoradi     Takoradi   \n",
       "3  AA0043-C      Takoradi_H8      GHcol   Ghana     Takoradi     Takoradi   \n",
       "4  AA0044-C     Takoradi_D10      GHcol   Ghana     Takoradi     Takoradi   \n",
       "\n",
       "     contributor        contact  year m_s sex  n_sequences  mean_coverage  \\\n",
       "0  David Weetman  David Weetman  2012   M   F     95033368          30.99   \n",
       "1  David Weetman  David Weetman  2012   M   F     95843804          31.70   \n",
       "2  David Weetman  David Weetman  2012   M   F    107420666          35.65   \n",
       "3  David Weetman  David Weetman  2012   M   F     95993752          29.46   \n",
       "4  David Weetman  David Weetman  2012   M   F    103044262          33.67   \n",
       "\n",
       "  ebi_sample_acc  latitude  longitude  \n",
       "0      ERS311878   5.60858   -1.54926  \n",
       "1      ERS311886   5.60858   -1.54926  \n",
       "2      ERS311894   4.91217   -1.77397  \n",
       "3      ERS311902   4.91217   -1.77397  \n",
       "4      ERS311910   4.91217   -1.77397  "
      ]
     },
     "execution_count": 43,
     "metadata": {},
     "output_type": "execute_result"
    }
   ],
   "source": [
    "pop_subset = metadata[pop_selection]\n",
    "pop_subset.head()"
   ]
  },
  {
   "cell_type": "code",
   "execution_count": 44,
   "metadata": {},
   "outputs": [
    {
     "data": {
      "text/html": [
       "<div class=\"allel allel-DisplayAs2D\"><span>&lt;GenotypeChunkedArray shape=(8906423, 1142, 2) dtype=int8 chunks=(524288, 61, 2)\n",
       "   nbytes=18.9G cbytes=-1 cratio=-20342270132.0\n",
       "   compression=blosc compression_opts={'cname': 'zstd', 'clevel': 1, 'shuffle': -1, 'blocksize': 0}\n",
       "   values=zarr.core.Array&gt;</span><table><thead><tr><th></th><th style=\"text-align: center\">0</th><th style=\"text-align: center\">1</th><th style=\"text-align: center\">2</th><th style=\"text-align: center\">3</th><th style=\"text-align: center\">4</th><th style=\"text-align: center\">...</th><th style=\"text-align: center\">1137</th><th style=\"text-align: center\">1138</th><th style=\"text-align: center\">1139</th><th style=\"text-align: center\">1140</th><th style=\"text-align: center\">1141</th></tr></thead><tbody><tr><th style=\"text-align: center; background-color: white; border-right: 1px solid black; \">0</th><td style=\"text-align: center\">0/0</td><td style=\"text-align: center\">0/0</td><td style=\"text-align: center\">0/0</td><td style=\"text-align: center\">0/0</td><td style=\"text-align: center\">0/0</td><td style=\"text-align: center\">...</td><td style=\"text-align: center\">0/0</td><td style=\"text-align: center\">0/0</td><td style=\"text-align: center\">0/0</td><td style=\"text-align: center\">0/0</td><td style=\"text-align: center\">0/0</td></tr><tr><th style=\"text-align: center; background-color: white; border-right: 1px solid black; \">1</th><td style=\"text-align: center\">0/0</td><td style=\"text-align: center\">0/0</td><td style=\"text-align: center\">0/0</td><td style=\"text-align: center\">0/0</td><td style=\"text-align: center\">0/0</td><td style=\"text-align: center\">...</td><td style=\"text-align: center\">0/0</td><td style=\"text-align: center\">0/0</td><td style=\"text-align: center\">0/0</td><td style=\"text-align: center\">0/0</td><td style=\"text-align: center\">0/0</td></tr><tr><th style=\"text-align: center; background-color: white; border-right: 1px solid black; \">2</th><td style=\"text-align: center\">0/0</td><td style=\"text-align: center\">0/0</td><td style=\"text-align: center\">0/0</td><td style=\"text-align: center\">0/0</td><td style=\"text-align: center\">0/0</td><td style=\"text-align: center\">...</td><td style=\"text-align: center\">0/0</td><td style=\"text-align: center\">0/0</td><td style=\"text-align: center\">0/0</td><td style=\"text-align: center\">0/0</td><td style=\"text-align: center\">0/0</td></tr><tr><th style=\"text-align: center; background-color: white; border-right: 1px solid black; \">...</th><td style=\"text-align: center\" colspan=\"12\">...</td></tr><tr><th style=\"text-align: center; background-color: white; border-right: 1px solid black; \">8906420</th><td style=\"text-align: center\">0/0</td><td style=\"text-align: center\">0/0</td><td style=\"text-align: center\">0/0</td><td style=\"text-align: center\">0/0</td><td style=\"text-align: center\">0/0</td><td style=\"text-align: center\">...</td><td style=\"text-align: center\">0/0</td><td style=\"text-align: center\">0/0</td><td style=\"text-align: center\">0/0</td><td style=\"text-align: center\">0/0</td><td style=\"text-align: center\">0/0</td></tr><tr><th style=\"text-align: center; background-color: white; border-right: 1px solid black; \">8906421</th><td style=\"text-align: center\">0/0</td><td style=\"text-align: center\">0/0</td><td style=\"text-align: center\">0/0</td><td style=\"text-align: center\">0/0</td><td style=\"text-align: center\">0/0</td><td style=\"text-align: center\">...</td><td style=\"text-align: center\">0/0</td><td style=\"text-align: center\">0/0</td><td style=\"text-align: center\">0/0</td><td style=\"text-align: center\">0/0</td><td style=\"text-align: center\">0/0</td></tr><tr><th style=\"text-align: center; background-color: white; border-right: 1px solid black; \">8906422</th><td style=\"text-align: center\">0/0</td><td style=\"text-align: center\">0/0</td><td style=\"text-align: center\">0/0</td><td style=\"text-align: center\">0/0</td><td style=\"text-align: center\">0/0</td><td style=\"text-align: center\">...</td><td style=\"text-align: center\">0/0</td><td style=\"text-align: center\">0/0</td><td style=\"text-align: center\">0/0</td><td style=\"text-align: center\">0/0</td><td style=\"text-align: center\">0/0</td></tr></tbody></table></div>"
      ],
      "text/plain": [
       "<GenotypeChunkedArray shape=(8906423, 1142, 2) dtype=int8 chunks=(524288, 61, 2)\n",
       "   nbytes=18.9G cbytes=-1 cratio=-20342270132.0\n",
       "   compression=blosc compression_opts={'cname': 'zstd', 'clevel': 1, 'shuffle': -1, 'blocksize': 0}\n",
       "   values=zarr.core.Array>"
      ]
     },
     "execution_count": 44,
     "metadata": {},
     "output_type": "execute_result"
    }
   ],
   "source": [
    "geno = allel.GenotypeChunkedArray(g)\n",
    "geno"
   ]
  },
  {
   "cell_type": "code",
   "execution_count": 45,
   "metadata": {},
   "outputs": [],
   "source": [
    "variants = calldata[\"2L\"][\"variants\"]"
   ]
  },
  {
   "cell_type": "code",
   "execution_count": 46,
   "metadata": {},
   "outputs": [
    {
     "data": {
      "text/html": [
       "<div class=\"allel allel-DisplayAsTable\"><span>&lt;VariantChunkedTable shape=(8906423,) dtype=[('POS', '&lt;i4')]\n",
       "   nbytes=34.0M cbytes=-1 cratio=-35625692.0\n",
       "   values=zarr.hierarchy.Group&gt;</span><table><thead><tr><th></th><th style=\"text-align: center\">POS</th></tr></thead><tbody><tr><th style=\"text-align: center; background-color: white; border-right: 1px solid black; \">0</th><td style=\"text-align: center\">25050</td></tr><tr><th style=\"text-align: center; background-color: white; border-right: 1px solid black; \">1</th><td style=\"text-align: center\">51212</td></tr><tr><th style=\"text-align: center; background-color: white; border-right: 1px solid black; \">2</th><td style=\"text-align: center\">51214</td></tr><tr><th style=\"text-align: center; background-color: white; border-right: 1px solid black; \">...</th><td style=\"text-align: center\" colspan=\"2\">...</td></tr><tr><th style=\"text-align: center; background-color: white; border-right: 1px solid black; \">8906420</th><td style=\"text-align: center\">49356425</td></tr><tr><th style=\"text-align: center; background-color: white; border-right: 1px solid black; \">8906421</th><td style=\"text-align: center\">49356426</td></tr><tr><th style=\"text-align: center; background-color: white; border-right: 1px solid black; \">8906422</th><td style=\"text-align: center\">49356429</td></tr></tbody></table></div>"
      ],
      "text/plain": [
       "<VariantChunkedTable shape=(8906423,) dtype=[('POS', '<i4')]\n",
       "   nbytes=34.0M cbytes=-1 cratio=-35625692.0\n",
       "   values=zarr.hierarchy.Group>"
      ]
     },
     "execution_count": 46,
     "metadata": {},
     "output_type": "execute_result"
    }
   ],
   "source": [
    "pos_all = allel.VariantChunkedTable(variants, names=['POS'], index = 'POS')\n",
    "pos_all"
   ]
  },
  {
   "cell_type": "code",
   "execution_count": 47,
   "metadata": {},
   "outputs": [],
   "source": [
    "pos_all = allel.SortedIndex(calldata[\"2L\"][\"variants/POS\"])"
   ]
  },
  {
   "cell_type": "code",
   "execution_count": 48,
   "metadata": {},
   "outputs": [
    {
     "data": {
      "text/plain": [
       "slice(23444, 51125, None)"
      ]
     },
     "execution_count": 48,
     "metadata": {},
     "output_type": "execute_result"
    }
   ],
   "source": [
    "pos_selection = pos_all.locate_range(2_000_000, 3_000_000)\n",
    "pos_selection"
   ]
  },
  {
   "cell_type": "code",
   "execution_count": 49,
   "metadata": {},
   "outputs": [],
   "source": [
    "import numpy as np"
   ]
  },
  {
   "cell_type": "code",
   "execution_count": 50,
   "metadata": {},
   "outputs": [
    {
     "data": {
      "text/plain": [
       "array([False, False, False, ..., False, False, False])"
      ]
     },
     "execution_count": 50,
     "metadata": {},
     "output_type": "execute_result"
    }
   ],
   "source": [
    "mask = np.isin(pos_all, pos_selection)\n",
    "mask"
   ]
  },
  {
   "cell_type": "code",
   "execution_count": 51,
   "metadata": {},
   "outputs": [],
   "source": [
    "geno_subset = geno[pos_selection].subset(sel1=pop_selection)"
   ]
  },
  {
   "cell_type": "code",
   "execution_count": 52,
   "metadata": {},
   "outputs": [
    {
     "data": {
      "text/html": [
       "<div class=\"allel allel-DisplayAs2D\"><span>&lt;GenotypeArray shape=(27681, 300, 2) dtype=int8&gt;</span><table><thead><tr><th></th><th style=\"text-align: center\">0</th><th style=\"text-align: center\">1</th><th style=\"text-align: center\">2</th><th style=\"text-align: center\">3</th><th style=\"text-align: center\">4</th><th style=\"text-align: center\">...</th><th style=\"text-align: center\">295</th><th style=\"text-align: center\">296</th><th style=\"text-align: center\">297</th><th style=\"text-align: center\">298</th><th style=\"text-align: center\">299</th></tr></thead><tbody><tr><th style=\"text-align: center; background-color: white; border-right: 1px solid black; \">0</th><td style=\"text-align: center\">0/0</td><td style=\"text-align: center\">0/0</td><td style=\"text-align: center\">0/0</td><td style=\"text-align: center\">0/0</td><td style=\"text-align: center\">0/0</td><td style=\"text-align: center\">...</td><td style=\"text-align: center\">0/0</td><td style=\"text-align: center\">0/0</td><td style=\"text-align: center\">0/0</td><td style=\"text-align: center\">0/0</td><td style=\"text-align: center\">0/0</td></tr><tr><th style=\"text-align: center; background-color: white; border-right: 1px solid black; \">1</th><td style=\"text-align: center\">0/0</td><td style=\"text-align: center\">0/0</td><td style=\"text-align: center\">0/0</td><td style=\"text-align: center\">0/0</td><td style=\"text-align: center\">0/0</td><td style=\"text-align: center\">...</td><td style=\"text-align: center\">0/0</td><td style=\"text-align: center\">0/0</td><td style=\"text-align: center\">0/0</td><td style=\"text-align: center\">0/0</td><td style=\"text-align: center\">0/0</td></tr><tr><th style=\"text-align: center; background-color: white; border-right: 1px solid black; \">2</th><td style=\"text-align: center\">0/0</td><td style=\"text-align: center\">0/0</td><td style=\"text-align: center\">0/0</td><td style=\"text-align: center\">0/0</td><td style=\"text-align: center\">0/0</td><td style=\"text-align: center\">...</td><td style=\"text-align: center\">0/0</td><td style=\"text-align: center\">0/0</td><td style=\"text-align: center\">0/0</td><td style=\"text-align: center\">0/0</td><td style=\"text-align: center\">0/0</td></tr><tr><th style=\"text-align: center; background-color: white; border-right: 1px solid black; \">...</th><td style=\"text-align: center\" colspan=\"12\">...</td></tr><tr><th style=\"text-align: center; background-color: white; border-right: 1px solid black; \">27678</th><td style=\"text-align: center\">0/0</td><td style=\"text-align: center\">0/0</td><td style=\"text-align: center\">0/0</td><td style=\"text-align: center\">0/0</td><td style=\"text-align: center\">0/0</td><td style=\"text-align: center\">...</td><td style=\"text-align: center\">0/0</td><td style=\"text-align: center\">0/0</td><td style=\"text-align: center\">0/0</td><td style=\"text-align: center\">0/0</td><td style=\"text-align: center\">0/0</td></tr><tr><th style=\"text-align: center; background-color: white; border-right: 1px solid black; \">27679</th><td style=\"text-align: center\">1/1</td><td style=\"text-align: center\">1/1</td><td style=\"text-align: center\">1/1</td><td style=\"text-align: center\">0/1</td><td style=\"text-align: center\">0/0</td><td style=\"text-align: center\">...</td><td style=\"text-align: center\">1/1</td><td style=\"text-align: center\">1/1</td><td style=\"text-align: center\">0/1</td><td style=\"text-align: center\">1/1</td><td style=\"text-align: center\">0/1</td></tr><tr><th style=\"text-align: center; background-color: white; border-right: 1px solid black; \">27680</th><td style=\"text-align: center\">0/0</td><td style=\"text-align: center\">0/0</td><td style=\"text-align: center\">0/0</td><td style=\"text-align: center\">0/0</td><td style=\"text-align: center\">0/0</td><td style=\"text-align: center\">...</td><td style=\"text-align: center\">0/0</td><td style=\"text-align: center\">0/0</td><td style=\"text-align: center\">0/0</td><td style=\"text-align: center\">0/0</td><td style=\"text-align: center\">0/0</td></tr></tbody></table></div>"
      ],
      "text/plain": [
       "<GenotypeArray shape=(27681, 300, 2) dtype=int8>\n",
       "0/0 0/0 0/0 0/0 0/0 ... 0/0 0/0 0/0 0/0 0/0\n",
       "0/0 0/0 0/0 0/0 0/0 ... 0/0 0/0 0/0 0/0 0/0\n",
       "0/0 0/0 0/0 0/0 0/0 ... 0/0 0/0 0/0 0/0 0/0\n",
       "...\n",
       "0/0 0/0 0/0 0/0 0/0 ... 0/0 0/0 0/0 0/0 0/0\n",
       "1/1 1/1 1/1 0/1 0/0 ... 1/1 1/1 0/1 1/1 0/1\n",
       "0/0 0/0 0/0 0/0 0/0 ... 0/0 0/0 0/0 0/0 0/0"
      ]
     },
     "execution_count": 52,
     "metadata": {},
     "output_type": "execute_result"
    }
   ],
   "source": [
    "geno_subset"
   ]
  },
  {
   "cell_type": "code",
   "execution_count": 53,
   "metadata": {},
   "outputs": [
    {
     "data": {
      "text/html": [
       "<div>\n",
       "<style scoped>\n",
       "    .dataframe tbody tr th:only-of-type {\n",
       "        vertical-align: middle;\n",
       "    }\n",
       "\n",
       "    .dataframe tbody tr th {\n",
       "        vertical-align: top;\n",
       "    }\n",
       "\n",
       "    .dataframe thead th {\n",
       "        text-align: right;\n",
       "    }\n",
       "</style>\n",
       "<table border=\"1\" class=\"dataframe\">\n",
       "  <thead>\n",
       "    <tr style=\"text-align: right;\">\n",
       "      <th></th>\n",
       "      <th>ox_code</th>\n",
       "      <th>src_code</th>\n",
       "      <th>population</th>\n",
       "      <th>country</th>\n",
       "      <th>location</th>\n",
       "      <th>site</th>\n",
       "      <th>contributor</th>\n",
       "      <th>contact</th>\n",
       "      <th>year</th>\n",
       "      <th>m_s</th>\n",
       "      <th>sex</th>\n",
       "      <th>n_sequences</th>\n",
       "      <th>mean_coverage</th>\n",
       "      <th>ebi_sample_acc</th>\n",
       "      <th>latitude</th>\n",
       "      <th>longitude</th>\n",
       "    </tr>\n",
       "  </thead>\n",
       "  <tbody>\n",
       "    <tr>\n",
       "      <th>0</th>\n",
       "      <td>AA0040-C</td>\n",
       "      <td>Twifo_Praso__E2</td>\n",
       "      <td>GHcol</td>\n",
       "      <td>Ghana</td>\n",
       "      <td>Twifo Praso</td>\n",
       "      <td>Twifo Praso</td>\n",
       "      <td>David Weetman</td>\n",
       "      <td>David Weetman</td>\n",
       "      <td>2012</td>\n",
       "      <td>M</td>\n",
       "      <td>F</td>\n",
       "      <td>95033368</td>\n",
       "      <td>30.99</td>\n",
       "      <td>ERS311878</td>\n",
       "      <td>5.60858</td>\n",
       "      <td>-1.54926</td>\n",
       "    </tr>\n",
       "    <tr>\n",
       "      <th>1</th>\n",
       "      <td>AA0041-C</td>\n",
       "      <td>Twifo_Praso__H3</td>\n",
       "      <td>GHcol</td>\n",
       "      <td>Ghana</td>\n",
       "      <td>Twifo Praso</td>\n",
       "      <td>Twifo Praso</td>\n",
       "      <td>David Weetman</td>\n",
       "      <td>David Weetman</td>\n",
       "      <td>2012</td>\n",
       "      <td>M</td>\n",
       "      <td>F</td>\n",
       "      <td>95843804</td>\n",
       "      <td>31.70</td>\n",
       "      <td>ERS311886</td>\n",
       "      <td>5.60858</td>\n",
       "      <td>-1.54926</td>\n",
       "    </tr>\n",
       "    <tr>\n",
       "      <th>2</th>\n",
       "      <td>AA0042-C</td>\n",
       "      <td>Takoradi_C7</td>\n",
       "      <td>GHcol</td>\n",
       "      <td>Ghana</td>\n",
       "      <td>Takoradi</td>\n",
       "      <td>Takoradi</td>\n",
       "      <td>David Weetman</td>\n",
       "      <td>David Weetman</td>\n",
       "      <td>2012</td>\n",
       "      <td>M</td>\n",
       "      <td>F</td>\n",
       "      <td>107420666</td>\n",
       "      <td>35.65</td>\n",
       "      <td>ERS311894</td>\n",
       "      <td>4.91217</td>\n",
       "      <td>-1.77397</td>\n",
       "    </tr>\n",
       "    <tr>\n",
       "      <th>3</th>\n",
       "      <td>AA0043-C</td>\n",
       "      <td>Takoradi_H8</td>\n",
       "      <td>GHcol</td>\n",
       "      <td>Ghana</td>\n",
       "      <td>Takoradi</td>\n",
       "      <td>Takoradi</td>\n",
       "      <td>David Weetman</td>\n",
       "      <td>David Weetman</td>\n",
       "      <td>2012</td>\n",
       "      <td>M</td>\n",
       "      <td>F</td>\n",
       "      <td>95993752</td>\n",
       "      <td>29.46</td>\n",
       "      <td>ERS311902</td>\n",
       "      <td>4.91217</td>\n",
       "      <td>-1.77397</td>\n",
       "    </tr>\n",
       "    <tr>\n",
       "      <th>4</th>\n",
       "      <td>AA0044-C</td>\n",
       "      <td>Takoradi_D10</td>\n",
       "      <td>GHcol</td>\n",
       "      <td>Ghana</td>\n",
       "      <td>Takoradi</td>\n",
       "      <td>Takoradi</td>\n",
       "      <td>David Weetman</td>\n",
       "      <td>David Weetman</td>\n",
       "      <td>2012</td>\n",
       "      <td>M</td>\n",
       "      <td>F</td>\n",
       "      <td>103044262</td>\n",
       "      <td>33.67</td>\n",
       "      <td>ERS311910</td>\n",
       "      <td>4.91217</td>\n",
       "      <td>-1.77397</td>\n",
       "    </tr>\n",
       "  </tbody>\n",
       "</table>\n",
       "</div>"
      ],
      "text/plain": [
       "    ox_code         src_code population country     location         site  \\\n",
       "0  AA0040-C  Twifo_Praso__E2      GHcol   Ghana  Twifo Praso  Twifo Praso   \n",
       "1  AA0041-C  Twifo_Praso__H3      GHcol   Ghana  Twifo Praso  Twifo Praso   \n",
       "2  AA0042-C      Takoradi_C7      GHcol   Ghana     Takoradi     Takoradi   \n",
       "3  AA0043-C      Takoradi_H8      GHcol   Ghana     Takoradi     Takoradi   \n",
       "4  AA0044-C     Takoradi_D10      GHcol   Ghana     Takoradi     Takoradi   \n",
       "\n",
       "     contributor        contact  year m_s sex  n_sequences  mean_coverage  \\\n",
       "0  David Weetman  David Weetman  2012   M   F     95033368          30.99   \n",
       "1  David Weetman  David Weetman  2012   M   F     95843804          31.70   \n",
       "2  David Weetman  David Weetman  2012   M   F    107420666          35.65   \n",
       "3  David Weetman  David Weetman  2012   M   F     95993752          29.46   \n",
       "4  David Weetman  David Weetman  2012   M   F    103044262          33.67   \n",
       "\n",
       "  ebi_sample_acc  latitude  longitude  \n",
       "0      ERS311878   5.60858   -1.54926  \n",
       "1      ERS311886   5.60858   -1.54926  \n",
       "2      ERS311894   4.91217   -1.77397  \n",
       "3      ERS311902   4.91217   -1.77397  \n",
       "4      ERS311910   4.91217   -1.77397  "
      ]
     },
     "execution_count": 53,
     "metadata": {},
     "output_type": "execute_result"
    }
   ],
   "source": [
    "metadata.head()"
   ]
  },
  {
   "cell_type": "code",
   "execution_count": 54,
   "metadata": {},
   "outputs": [],
   "source": [
    "grp = metadata.groupby(\"population\")"
   ]
  },
  {
   "cell_type": "code",
   "execution_count": 55,
   "metadata": {},
   "outputs": [
    {
     "data": {
      "text/plain": [
       "{'AOcol': array([880, 881, 882, 883, 884, 885, 886, 887, 888, 889, 890, 891, 892,\n",
       "        893, 894, 895, 896, 897, 898, 899, 900, 901, 902, 903, 904, 905,\n",
       "        906, 907, 908, 909, 910, 911, 912, 913, 914, 915, 916, 917, 918,\n",
       "        919, 920, 921, 922, 923, 924, 925, 926, 927, 928, 929, 930, 931,\n",
       "        932, 933, 934, 935, 936, 937, 938, 939, 940, 941, 942, 943, 944,\n",
       "        945, 946, 947, 948, 949, 950, 951, 952, 953, 954, 955, 956, 957]),\n",
       " 'BFcol': array([ 68,  69,  70,  71,  72,  73,  74,  75,  76,  77,  78,  79,  80,\n",
       "         84,  85,  86,  87,  88,  89,  90,  94,  95,  96, 106, 107, 108,\n",
       "        109, 110, 141, 142, 143, 144, 145, 146, 147, 148, 149, 150, 151,\n",
       "        152, 153, 154, 162, 167, 168, 170, 171, 172, 175, 176, 177, 178,\n",
       "        179, 180, 181, 183, 187, 190, 193, 195, 196, 198, 199, 200, 201,\n",
       "        202, 208, 209, 212, 213, 216, 217, 225, 228, 231]),\n",
       " 'BFgam': array([ 67,  81,  82,  83,  91,  92,  93,  97,  98,  99, 100, 101, 102,\n",
       "        103, 104, 105, 111, 112, 113, 114, 115, 116, 117, 118, 119, 120,\n",
       "        121, 122, 123, 124, 125, 126, 127, 128, 129, 130, 131, 132, 133,\n",
       "        134, 135, 136, 137, 138, 139, 140, 155, 156, 157, 158, 159, 160,\n",
       "        161, 163, 164, 165, 166, 169, 173, 174, 182, 184, 185, 186, 188,\n",
       "        189, 191, 192, 194, 197, 203, 204, 205, 206, 207, 210, 211, 214,\n",
       "        215, 218, 219, 220, 221, 222, 223, 224, 226, 227, 229, 230, 232,\n",
       "        233]),\n",
       " 'CIcol': array([1071, 1072, 1073, 1074, 1075, 1076, 1077, 1078, 1079, 1080, 1081,\n",
       "        1082, 1083, 1084, 1085, 1086, 1087, 1088, 1089, 1090, 1091, 1092,\n",
       "        1093, 1094, 1095, 1096, 1097, 1098, 1099, 1100, 1101, 1102, 1103,\n",
       "        1104, 1105, 1106, 1107, 1108, 1109, 1110, 1111, 1112, 1113, 1114,\n",
       "        1115, 1116, 1117, 1118, 1119, 1120, 1121, 1122, 1123, 1124, 1125,\n",
       "        1126, 1127, 1128, 1129, 1130, 1131, 1132, 1133, 1134, 1135, 1136,\n",
       "        1137, 1138, 1139, 1140, 1141]),\n",
       " 'CMgam': array([550, 551, 552, 553, 554, 555, 556, 557, 558, 559, 560, 561, 562,\n",
       "        563, 564, 565, 566, 567, 568, 569, 570, 571, 572, 573, 574, 575,\n",
       "        576, 577, 578, 579, 580, 581, 582, 583, 584, 585, 586, 587, 588,\n",
       "        589, 590, 591, 592, 593, 594, 595, 596, 597, 598, 599, 600, 601,\n",
       "        602, 603, 604, 605, 606, 607, 608, 609, 610, 611, 612, 613, 614,\n",
       "        615, 616, 617, 618, 619, 620, 621, 622, 623, 624, 625, 626, 627,\n",
       "        628, 629, 630, 631, 632, 633, 634, 635, 636, 637, 638, 639, 640,\n",
       "        641, 642, 643, 644, 645, 646, 647, 648, 649, 650, 651, 652, 653,\n",
       "        654, 655, 656, 657, 658, 659, 660, 661, 662, 663, 664, 665, 666,\n",
       "        667, 668, 669, 670, 671, 672, 673, 674, 675, 676, 677, 678, 679,\n",
       "        680, 681, 682, 683, 684, 685, 686, 687, 688, 689, 690, 691, 692,\n",
       "        693, 694, 695, 696, 697, 698, 699, 700, 701, 702, 703, 704, 705,\n",
       "        706, 707, 708, 709, 710, 711, 712, 713, 714, 715, 716, 717, 718,\n",
       "        719, 720, 721, 722, 723, 724, 725, 726, 727, 728, 729, 730, 731,\n",
       "        732, 733, 734, 735, 736, 737, 738, 739, 740, 741, 742, 743, 744,\n",
       "        745, 746, 747, 748, 749, 750, 751, 752, 753, 754, 755, 756, 757,\n",
       "        758, 759, 760, 761, 762, 763, 764, 765, 766, 767, 768, 769, 770,\n",
       "        771, 772, 773, 774, 775, 776, 777, 778, 779, 780, 781, 782, 783,\n",
       "        784, 785, 786, 787, 788, 789, 790, 791, 792, 793, 794, 795, 796,\n",
       "        797, 798, 799, 800, 801, 802, 803, 804, 805, 806, 807, 808, 809,\n",
       "        810, 811, 812, 813, 814, 815, 816, 817, 818, 819, 820, 821, 822,\n",
       "        823, 824, 825, 826, 827, 828, 829, 830, 831, 832, 833, 834, 835,\n",
       "        836, 837, 838, 839, 840, 841, 842, 843, 844, 845, 846]),\n",
       " 'FRgam': array([847, 848, 849, 850, 851, 852, 853, 854, 855, 856, 857, 858, 859,\n",
       "        860, 861, 862, 863, 864, 865, 866, 867, 868, 869, 870]),\n",
       " 'GAgam': array([ 958,  959,  960,  961,  962,  963,  964,  965,  966,  967,  968,\n",
       "         969,  970,  971,  972,  973,  974,  975,  976,  977,  978,  979,\n",
       "         980,  981,  982,  983,  984,  985,  986,  987,  988,  989,  990,\n",
       "         991,  992,  993,  994,  995,  996,  997,  998,  999, 1000, 1001,\n",
       "        1002, 1003, 1004, 1005, 1006, 1007, 1008, 1009, 1010, 1011, 1012,\n",
       "        1013, 1014, 1015, 1016, 1017, 1018, 1019, 1020, 1021, 1022, 1023,\n",
       "        1024, 1025, 1026]),\n",
       " 'GHcol': array([ 0,  1,  2,  3,  4,  6,  8,  9, 10, 11, 12, 13, 16, 17, 18, 19, 20,\n",
       "        22, 23, 24, 25, 26, 27, 31, 32, 33, 34, 35, 37, 38, 39, 40, 41, 42,\n",
       "        43, 44, 45, 47, 48, 49, 50, 51, 52, 53, 55, 56, 57, 58, 59, 61, 62,\n",
       "        63, 64, 65, 66]),\n",
       " 'GHgam': array([ 5,  7, 14, 15, 21, 28, 29, 30, 36, 46, 54, 60]),\n",
       " 'GM': array([346, 347, 348, 349, 350, 351, 352, 353, 354, 355, 356, 357, 358,\n",
       "        359, 360, 361, 362, 363, 364, 365, 366, 367, 368, 369, 370, 371,\n",
       "        372, 373, 374, 375, 376, 377, 378, 379, 380, 381, 382, 383, 384,\n",
       "        385, 386, 387, 388, 389, 390, 391, 392, 393, 394, 395, 396, 397,\n",
       "        398, 399, 400, 401, 402, 403, 404, 405, 406, 407, 408, 409, 410]),\n",
       " 'GNcol': array([1061, 1063, 1065, 1069]),\n",
       " 'GNgam': array([1027, 1028, 1029, 1030, 1031, 1032, 1033, 1034, 1035, 1036, 1037,\n",
       "        1038, 1039, 1040, 1041, 1042, 1043, 1044, 1045, 1046, 1047, 1048,\n",
       "        1049, 1050, 1051, 1052, 1053, 1054, 1055, 1056, 1057, 1058, 1059,\n",
       "        1060, 1062, 1064, 1066, 1067, 1068, 1070]),\n",
       " 'GQgam': array([871, 872, 873, 874, 875, 876, 877, 878, 879]),\n",
       " 'GW': array([411, 412, 413, 414, 415, 416, 417, 418, 419, 420, 421, 422, 423,\n",
       "        424, 425, 426, 427, 428, 429, 430, 431, 432, 433, 434, 435, 436,\n",
       "        437, 438, 439, 440, 441, 442, 443, 444, 445, 446, 447, 448, 449,\n",
       "        450, 451, 452, 453, 454, 455, 456, 457, 458, 459, 460, 461, 462,\n",
       "        463, 464, 465, 466, 467, 468, 469, 470, 471, 472, 473, 474, 475,\n",
       "        476, 477, 478, 479, 480, 481, 482, 483, 484, 485, 486, 487, 488,\n",
       "        489, 490, 491, 492, 493, 494, 495, 496, 497, 498, 499, 500, 501]),\n",
       " 'KE': array([502, 503, 504, 505, 506, 507, 508, 509, 510, 511, 512, 513, 514,\n",
       "        515, 516, 517, 518, 519, 520, 521, 522, 523, 524, 525, 526, 527,\n",
       "        528, 529, 530, 531, 532, 533, 534, 535, 536, 537, 538, 539, 540,\n",
       "        541, 542, 543, 544, 545, 546, 547, 548, 549]),\n",
       " 'UGgam': array([234, 235, 236, 237, 238, 239, 240, 241, 242, 243, 244, 245, 246,\n",
       "        247, 248, 249, 250, 251, 252, 253, 254, 255, 256, 257, 258, 259,\n",
       "        260, 261, 262, 263, 264, 265, 266, 267, 268, 269, 270, 271, 272,\n",
       "        273, 274, 275, 276, 277, 278, 279, 280, 281, 282, 283, 284, 285,\n",
       "        286, 287, 288, 289, 290, 291, 292, 293, 294, 295, 296, 297, 298,\n",
       "        299, 300, 301, 302, 303, 304, 305, 306, 307, 308, 309, 310, 311,\n",
       "        312, 313, 314, 315, 316, 317, 318, 319, 320, 321, 322, 323, 324,\n",
       "        325, 326, 327, 328, 329, 330, 331, 332, 333, 334, 335, 336, 337,\n",
       "        338, 339, 340, 341, 342, 343, 344, 345])}"
      ]
     },
     "execution_count": 55,
     "metadata": {},
     "output_type": "execute_result"
    }
   ],
   "source": [
    "grp.indices"
   ]
  },
  {
   "cell_type": "code",
   "execution_count": 56,
   "metadata": {},
   "outputs": [
    {
     "data": {
      "text/plain": [
       "population\n",
       "AOcol    29.872692\n",
       "BFcol    33.142933\n",
       "BFgam    34.180543\n",
       "CIcol    30.688310\n",
       "CMgam    32.030000\n",
       "FRgam    31.204167\n",
       "GAgam    30.554493\n",
       "GHcol    31.917455\n",
       "GHgam    31.268333\n",
       "GM       30.398308\n",
       "GNcol    30.885000\n",
       "GNgam    28.610500\n",
       "GQgam    36.198889\n",
       "GW       31.059451\n",
       "KE       36.606458\n",
       "UGgam    32.185982\n",
       "Name: mean_coverage, dtype: float64"
      ]
     },
     "execution_count": 56,
     "metadata": {},
     "output_type": "execute_result"
    }
   ],
   "source": [
    "grp.mean_coverage.agg(np.mean)"
   ]
  },
  {
   "cell_type": "code",
   "execution_count": 59,
   "metadata": {},
   "outputs": [],
   "source": [
    "subpops = {\n",
    "    'all': list(range(len(pop_subset))),\n",
    "    'BFcol': pop_subset[pop_subset.population == 'BFcol'].index.tolist(),\n",
    "    'BFgam': pop_subset[pop_subset.population == 'BFgam'].index.tolist(),\n",
    "    'GHcol': pop_subset[pop_subset.population == 'GHcol'].index.tolist(),\n",
    "    'AOcol': pop_subset[pop_subset.population == 'AOcol'].index.tolist(),\n",
    "}"
   ]
  },
  {
   "cell_type": "code",
   "execution_count": 60,
   "metadata": {},
   "outputs": [
    {
     "ename": "ValueError",
     "evalue": "index out of bounds",
     "output_type": "error",
     "traceback": [
      "\u001b[0;31m---------------------------------------------------------------------------\u001b[0m",
      "\u001b[0;31mValueError\u001b[0m                                Traceback (most recent call last)",
      "\u001b[0;32m<ipython-input-60-311f4148286e>\u001b[0m in \u001b[0;36m<module>\u001b[0;34m\u001b[0m\n\u001b[0;32m----> 1\u001b[0;31m \u001b[0mgeno_subset\u001b[0m\u001b[0;34m.\u001b[0m\u001b[0mcount_alleles_subpops\u001b[0m\u001b[0;34m(\u001b[0m\u001b[0msubpops\u001b[0m\u001b[0;34m)\u001b[0m\u001b[0;34m\u001b[0m\u001b[0;34m\u001b[0m\u001b[0m\n\u001b[0m",
      "\u001b[0;32m/opt/conda/lib/python3.6/site-packages/allel/model/ndarray.py\u001b[0m in \u001b[0;36mcount_alleles_subpops\u001b[0;34m(self, subpops, max_allele)\u001b[0m\n\u001b[1;32m   1875\u001b[0m \u001b[0;34m\u001b[0m\u001b[0m\n\u001b[1;32m   1876\u001b[0m         out = {name: self.count_alleles(max_allele=max_allele, subpop=subpop)\n\u001b[0;32m-> 1877\u001b[0;31m                for name, subpop in subpops.items()}\n\u001b[0m\u001b[1;32m   1878\u001b[0m \u001b[0;34m\u001b[0m\u001b[0m\n\u001b[1;32m   1879\u001b[0m         \u001b[0;32mreturn\u001b[0m \u001b[0mout\u001b[0m\u001b[0;34m\u001b[0m\u001b[0;34m\u001b[0m\u001b[0m\n",
      "\u001b[0;32m/opt/conda/lib/python3.6/site-packages/allel/model/ndarray.py\u001b[0m in \u001b[0;36m<dictcomp>\u001b[0;34m(.0)\u001b[0m\n\u001b[1;32m   1875\u001b[0m \u001b[0;34m\u001b[0m\u001b[0m\n\u001b[1;32m   1876\u001b[0m         out = {name: self.count_alleles(max_allele=max_allele, subpop=subpop)\n\u001b[0;32m-> 1877\u001b[0;31m                for name, subpop in subpops.items()}\n\u001b[0m\u001b[1;32m   1878\u001b[0m \u001b[0;34m\u001b[0m\u001b[0m\n\u001b[1;32m   1879\u001b[0m         \u001b[0;32mreturn\u001b[0m \u001b[0mout\u001b[0m\u001b[0;34m\u001b[0m\u001b[0;34m\u001b[0m\u001b[0m\n",
      "\u001b[0;32m/opt/conda/lib/python3.6/site-packages/allel/model/ndarray.py\u001b[0m in \u001b[0;36mcount_alleles\u001b[0;34m(self, max_allele, subpop)\u001b[0m\n\u001b[1;32m   1833\u001b[0m \u001b[0;34m\u001b[0m\u001b[0m\n\u001b[1;32m   1834\u001b[0m         \u001b[0;31m# check inputs\u001b[0m\u001b[0;34m\u001b[0m\u001b[0;34m\u001b[0m\u001b[0;34m\u001b[0m\u001b[0m\n\u001b[0;32m-> 1835\u001b[0;31m         \u001b[0msubpop\u001b[0m \u001b[0;34m=\u001b[0m \u001b[0m_normalize_subpop_arg\u001b[0m\u001b[0;34m(\u001b[0m\u001b[0msubpop\u001b[0m\u001b[0;34m,\u001b[0m \u001b[0mself\u001b[0m\u001b[0;34m.\u001b[0m\u001b[0mshape\u001b[0m\u001b[0;34m[\u001b[0m\u001b[0;36m1\u001b[0m\u001b[0;34m]\u001b[0m\u001b[0;34m)\u001b[0m\u001b[0;34m\u001b[0m\u001b[0;34m\u001b[0m\u001b[0m\n\u001b[0m\u001b[1;32m   1836\u001b[0m \u001b[0;34m\u001b[0m\u001b[0m\n\u001b[1;32m   1837\u001b[0m         \u001b[0;31m# determine alleles to count\u001b[0m\u001b[0;34m\u001b[0m\u001b[0;34m\u001b[0m\u001b[0;34m\u001b[0m\u001b[0m\n",
      "\u001b[0;32m/opt/conda/lib/python3.6/site-packages/allel/model/ndarray.py\u001b[0m in \u001b[0;36m_normalize_subpop_arg\u001b[0;34m(subpop, n)\u001b[0m\n\u001b[1;32m   1348\u001b[0m     \u001b[0;32mif\u001b[0m \u001b[0msubpop\u001b[0m \u001b[0;32mis\u001b[0m \u001b[0;32mnot\u001b[0m \u001b[0;32mNone\u001b[0m\u001b[0;34m:\u001b[0m\u001b[0;34m\u001b[0m\u001b[0;34m\u001b[0m\u001b[0m\n\u001b[1;32m   1349\u001b[0m         \u001b[0;32mif\u001b[0m \u001b[0mnp\u001b[0m\u001b[0;34m.\u001b[0m\u001b[0many\u001b[0m\u001b[0;34m(\u001b[0m\u001b[0msubpop\u001b[0m \u001b[0;34m>=\u001b[0m \u001b[0mn\u001b[0m\u001b[0;34m)\u001b[0m\u001b[0;34m:\u001b[0m\u001b[0;34m\u001b[0m\u001b[0;34m\u001b[0m\u001b[0m\n\u001b[0;32m-> 1350\u001b[0;31m             \u001b[0;32mraise\u001b[0m \u001b[0mValueError\u001b[0m\u001b[0;34m(\u001b[0m\u001b[0;34m'index out of bounds'\u001b[0m\u001b[0;34m)\u001b[0m\u001b[0;34m\u001b[0m\u001b[0;34m\u001b[0m\u001b[0m\n\u001b[0m\u001b[1;32m   1351\u001b[0m         \u001b[0;32mif\u001b[0m \u001b[0mnp\u001b[0m\u001b[0;34m.\u001b[0m\u001b[0many\u001b[0m\u001b[0;34m(\u001b[0m\u001b[0msubpop\u001b[0m \u001b[0;34m<\u001b[0m \u001b[0;36m0\u001b[0m\u001b[0;34m)\u001b[0m\u001b[0;34m:\u001b[0m\u001b[0;34m\u001b[0m\u001b[0;34m\u001b[0m\u001b[0m\n\u001b[1;32m   1352\u001b[0m             \u001b[0;32mraise\u001b[0m \u001b[0mValueError\u001b[0m\u001b[0;34m(\u001b[0m\u001b[0;34m'negative indices not supported'\u001b[0m\u001b[0;34m)\u001b[0m\u001b[0;34m\u001b[0m\u001b[0;34m\u001b[0m\u001b[0m\n",
      "\u001b[0;31mValueError\u001b[0m: index out of bounds"
     ]
    }
   ],
   "source": [
    "geno_subset.count_alleles_subpops(subpops)"
   ]
  },
  {
   "cell_type": "code",
   "execution_count": null,
   "metadata": {},
   "outputs": [],
   "source": [
    "allel.patterson_d()"
   ]
  },
  {
   "cell_type": "markdown",
   "metadata": {},
   "source": [
    "--------------------------------------------"
   ]
  },
  {
   "cell_type": "code",
   "execution_count": 1,
   "metadata": {},
   "outputs": [],
   "source": [
    "import pandas as pd"
   ]
  },
  {
   "cell_type": "code",
   "execution_count": null,
   "metadata": {},
   "outputs": [],
   "source": []
  },
  {
   "cell_type": "code",
   "execution_count": null,
   "metadata": {},
   "outputs": [],
   "source": []
  },
  {
   "cell_type": "code",
   "execution_count": null,
   "metadata": {},
   "outputs": [],
   "source": []
  },
  {
   "cell_type": "code",
   "execution_count": null,
   "metadata": {},
   "outputs": [],
   "source": []
  },
  {
   "cell_type": "code",
   "execution_count": null,
   "metadata": {},
   "outputs": [],
   "source": []
  },
  {
   "cell_type": "code",
   "execution_count": null,
   "metadata": {},
   "outputs": [],
   "source": []
  },
  {
   "cell_type": "code",
   "execution_count": null,
   "metadata": {},
   "outputs": [],
   "source": []
  },
  {
   "cell_type": "code",
   "execution_count": null,
   "metadata": {},
   "outputs": [],
   "source": []
  }
 ],
 "metadata": {
  "kernelspec": {
   "display_name": "Python [conda env:root] *",
   "language": "python",
   "name": "conda-root-py"
  },
  "language_info": {
   "codemirror_mode": {
    "name": "ipython",
    "version": 3
   },
   "file_extension": ".py",
   "mimetype": "text/x-python",
   "name": "python",
   "nbconvert_exporter": "python",
   "pygments_lexer": "ipython3",
   "version": "3.6.7"
  }
 },
 "nbformat": 4,
 "nbformat_minor": 4
}
