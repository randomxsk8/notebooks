{
 "cells": [
  {
   "cell_type": "code",
   "execution_count": 1,
   "metadata": {},
   "outputs": [],
   "source": [
    "%run imports.ipynb \n",
    "import csv\n",
    "import getpass\n",
    "#import cython\n",
    "import dask"
   ]
  },
  {
   "cell_type": "code",
   "execution_count": 23,
   "metadata": {},
   "outputs": [],
   "source": [
    "callset_pass= callset_biallel\n",
    "allele_counts= zarr.open('phase2_biallel_allele_count.zarr')\n",
    "outgroup_allele_counts= zarr.open('outgroup_alleles_phase2.zarr')\n",
    "metadata = pd.read_csv(\"samples.meta.txt\", sep=\"\\t\")\n",
    "populations = ['AOcol', 'BFcol', 'CIcol', 'GHcol', 'GNcol','GHgam', 'CMgam', 'BFgam', 'GNgam', 'GQgam', 'UGgam', 'GAgam', 'FRgam','KE', 'GM', 'GW']"
   ]
  },
  {
   "cell_type": "markdown",
   "metadata": {},
   "source": [
    "------------------------"
   ]
  },
  {
   "cell_type": "code",
   "execution_count": 14,
   "metadata": {},
   "outputs": [],
   "source": [
    "def outgroup_ascertainment(chrom, start, stop, outgroups):\n",
    "    \n",
    "    # locate region\n",
    "    pos = allel.SortedIndex(callset_pass[chrom]['variants']['POS'][:])\n",
    "    locr = pos.locate_range(start, stop)\n",
    "    \n",
    "    # ascertain SNPs\n",
    "    loca = np.zeros(pos.shape, dtype='b1')\n",
    "    loca[locr] = True\n",
    "    log('outgroup ascertainment, initial', nnz(loca))\n",
    "    for s in outgroups:\n",
    "        ac = allel.AlleleCountsArray(outgroup_allele_counts[chrom][s][:])\n",
    "        # biallelic and non-missing\n",
    "        locs = (ac.max_allele() <= 1) & (ac.sum(axis=1) > 0)\n",
    "        loca &= locs\n",
    "        log(s, nnz(loca))\n",
    "        \n",
    "    return loca\n",
    "        "
   ]
  },
  {
   "cell_type": "code",
   "execution_count": 15,
   "metadata": {},
   "outputs": [],
   "source": [
    "def ingroup_ascertainment(chrom, start, stop, segpops):\n",
    "\n",
    "    # locate region\n",
    "    pos = allel.SortedIndex(callset_pass[chrom]['variants']['POS'][:])\n",
    "    locr = pos.locate_range(start, stop)\n",
    "\n",
    "    # ascertain SNPs\n",
    "    loca = np.zeros(pos.shape, dtype='b1')\n",
    "    loca[locr] = True\n",
    "    log('ingroup ascertainment, initial', nnz(loca))\n",
    "\n",
    "    \n",
    "    # require segregating\n",
    "    for pop in segpops:\n",
    "        ac = allel.AlleleCountsArray(allele_counts[chrom][pop][:])\n",
    "        loc_seg = ac.min(axis=1) > 0\n",
    "        loca &= loc_seg\n",
    "        log('after require segregating in', pop, nnz(loca))\n",
    "        \n",
    "    return loca\n",
    "        "
   ]
  },
  {
   "cell_type": "code",
   "execution_count": 27,
   "metadata": {},
   "outputs": [],
   "source": [
    "def ld_prune(pos, gn, size, step, threshold=.1, n_iter=1):\n",
    "    for i in range(n_iter):\n",
    "        loc_unlinked = allel.locate_unlinked(gn, size=size, step=step, threshold=threshold)\n",
    "        n = np.count_nonzero(loc_unlinked)\n",
    "        n_remove = gn.shape[0] - n\n",
    "        log('iteration', i+1, 'retaining', n, 'removing', n_remove, 'variants')\n",
    "        gn = gn.compress(loc_unlinked, axis=0)\n",
    "        pos = pos.compress(loc_unlinked)\n",
    "    return pos, gn"
   ]
  },
  {
   "cell_type": "code",
   "execution_count": 28,
   "metadata": {},
   "outputs": [],
   "source": [
    "def to_treemix(acs, fn):\n",
    "    pops = sorted(acs.keys())\n",
    "    n_variants = acs[pops[0]].shape[0]\n",
    "    n_alleles = acs[pops[0]].shape[1]\n",
    "    assert n_alleles == 2, 'only biallelic variants supported'\n",
    "    for pop in pops[1:]:\n",
    "        assert n_variants == acs[pop].shape[0], 'bad number of variants for pop %s' % pop\n",
    "        assert n_alleles == acs[pop].shape[1], 'bad number of alleles for pop %s' % pop\n",
    "        \n",
    "    with open(fn, 'wt', encoding='ascii') as f:\n",
    "        print(' '.join(pops), file=f)\n",
    "        for i in range(n_variants):\n",
    "            print(' '.join([','.join(map(str, acs[pop][i])) for pop in pops]), file=f)\n"
   ]
  },
  {
   "cell_type": "code",
   "execution_count": 36,
   "metadata": {},
   "outputs": [],
   "source": [
    "def downsample_and_prune(chrom, start, stop, loc_asc,\n",
    "                         n=100000, ldp_size=500, ldp_step=250, ldp_threshold=.1, ldp_n_iter=1):\n",
    "\n",
    "    # all variant positions\n",
    "    pos = allel.SortedIndex(callset_pass[chrom]['variants']['POS'][:])\n",
    "    posa = pos[loc_asc]\n",
    "\n",
    "    # randomly downsample\n",
    "    if n < posa.shape[0]:\n",
    "        posds = np.random.choice(posa, n, replace=False)\n",
    "        posds.sort()\n",
    "        posds = allel.SortedIndex(posds)\n",
    "    else:\n",
    "        # skip downsampling\n",
    "        posds = posa\n",
    "    locds = pos.locate_keys(posds)    \n",
    "\n",
    "    # load genotype data\n",
    "    genotype = allel.GenotypeChunkedArray(callset_pass[chrom]['calldata/GT'])\n",
    "    geno_subset = genotype.subset(sel0=loc_asc)\n",
    "    gn = geno_subset.to_n_alt()\n",
    "    \n",
    "    # prune\n",
    "    posu, gnu = ld_prune(posds, gn, size=ldp_size, step=ldp_step, threshold=ldp_threshold, n_iter=ldp_n_iter)\n",
    "    locu = pos.locate_keys(posu)\n",
    "    \n",
    "    return locu"
   ]
  },
  {
   "cell_type": "code",
   "execution_count": 37,
   "metadata": {},
   "outputs": [],
   "source": [
    "def run_analysis(rname, chrom, start, stop, outgroups, segpops,\n",
    "                 n=100000, ldp_size=500, ldp_step=250, ldp_threshold=.1, ldp_n_iter=1):\n",
    "\n",
    "    # initial ascertainment\n",
    "    loc_og_asc = outgroup_ascertainment(chrom, start, stop, outgroups=outgroups)\n",
    "    loc_ig_asc = ingroup_ascertainment(chrom, start, stop, segpops=segpops)\n",
    "    loc_asc = loc_og_asc & loc_ig_asc\n",
    "    log('initial ascertainment', nnz(loc_asc))\n",
    "    \n",
    "    # downsample and prune\n",
    "    locu = downsample_and_prune(chrom, start, stop, loc_asc, \n",
    "                                n=n, ldp_size=ldp_size, ldp_step=ldp_step, \n",
    "                                ldp_threshold=ldp_threshold, ldp_n_iter=ldp_n_iter)\n",
    "    \n",
    "    # write allele counts\n",
    "    acsu = dict()\n",
    "    for pop in populations:\n",
    "        acsu[pop] = allele_counts[chrom][pop][:, :2][locu]\n",
    "    for pop in outgroups:\n",
    "        acsu[pop] = outgroup_allele_counts[chrom][pop][:, :2][locu]\n",
    "\n",
    "    outdir = 'data/treemix/seg_%s_og_%s_ldp_%s' % ('_'.join(segpops), '_'.join(outgroups), ldp_n_iter)\n",
    "    !mkdir -pv {outdir}\n",
    "    fn = os.path.join(outdir, '%s.allele_counts.txt' % rname)\n",
    "    to_treemix(acsu, fn)\n",
    "    !gzip -fv {fn}\n"
   ]
  },
  {
   "cell_type": "code",
   "execution_count": 51,
   "metadata": {},
   "outputs": [],
   "source": [
    "outgroups = ['arab', 'quad', 'meru', 'mela', 'chri']\n",
    "segpops = ['AOcol', 'BFcol', 'CIcol', 'GHcol', 'GNcol','GHgam', 'CMgam', 'BFgam', 'GNgam', 'GQgam', 'UGgam', 'GAgam', 'FRgam','KE', 'GM', 'GW']\n",
    "n = 200000\n",
    "ldp_n_iter = 1\n",
    "region_X_speciation = 'X-speciation', 'X', 15000000, 24000000 \n",
    "region_X_free = 'X-free', 'X', 1, 14000000 \n",
    "region_3L_free = '3L-free', '3L', 15000000, 41000000\n",
    "region_3R_free = '3R-free', '3R', 1, 37000000 "
   ]
  },
  {
   "cell_type": "code",
   "execution_count": 57,
   "metadata": {},
   "outputs": [
    {
     "name": "stdout",
     "output_type": "stream",
     "text": [
      "3R-free 3R 1 37000000\n",
      "outgroup ascertainment, initial 8535400\n",
      "arab 8287227\n",
      "quad 8103306\n",
      "meru 7940246\n",
      "mela 7640565\n",
      "chri 5415388\n",
      "ingroup ascertainment, initial 8535400\n",
      "after require segregating in AOcol 944999\n",
      "after require segregating in BFcol 632162\n",
      "after require segregating in CIcol 555287\n",
      "after require segregating in GHcol 520052\n",
      "after require segregating in GNcol 270605\n",
      "after require segregating in GHgam 238337\n",
      "after require segregating in CMgam 238226\n",
      "after require segregating in BFgam 237796\n",
      "after require segregating in GNgam 236126\n",
      "after require segregating in GQgam 204576\n",
      "after require segregating in UGgam 204483\n",
      "after require segregating in GAgam 200000\n",
      "after require segregating in FRgam 134437\n",
      "after require segregating in KE 94097\n",
      "after require segregating in GM 94004\n",
      "after require segregating in GW 93998\n",
      "initial ascertainment 52336\n",
      "iteration 1 retaining 40187 removing 12149 variants\n",
      "data/treemix/seg_AOcol_BFcol_CIcol_GHcol_GNcol_GHgam_CMgam_BFgam_GNgam_GQgam_UGgam_GAgam_FRgam_KE_GM_GW_og_arab_quad_meru_mela_chri_ldp_1/3R-free.allele_counts.txt:\t 70.0% -- replaced with data/treemix/seg_AOcol_BFcol_CIcol_GHcol_GNcol_GHgam_CMgam_BFgam_GNgam_GQgam_UGgam_GAgam_FRgam_KE_GM_GW_og_arab_quad_meru_mela_chri_ldp_1/3R-free.allele_counts.txt.gz\n"
     ]
    }
   ],
   "source": [
    "rname, chrom, start, stop = region_3R_free\n",
    "log(rname, chrom, start, stop)\n",
    "run_analysis(rname, chrom, start, stop, outgroups, segpops,n=n, ldp_n_iter=ldp_n_iter)"
   ]
  },
  {
   "cell_type": "markdown",
   "metadata": {},
   "source": [
    "-------------------------"
   ]
  },
  {
   "cell_type": "code",
   "execution_count": 52,
   "metadata": {},
   "outputs": [
    {
     "name": "stdout",
     "output_type": "stream",
     "text": [
      "3L-free 3L 15000000 41000000\n",
      "outgroup ascertainment, initial 5989818\n",
      "arab 5798549\n",
      "quad 5631869\n",
      "meru 5508665\n",
      "mela 5237625\n",
      "chri 3579558\n",
      "ingroup ascertainment, initial 5989818\n",
      "after require segregating in AOcol 672596\n",
      "after require segregating in BFcol 448836\n",
      "after require segregating in CIcol 392968\n",
      "after require segregating in GHcol 368591\n",
      "after require segregating in GNcol 190540\n",
      "after require segregating in GHgam 168923\n",
      "after require segregating in CMgam 168833\n",
      "after require segregating in BFgam 168532\n",
      "after require segregating in GNgam 167228\n",
      "after require segregating in GQgam 146236\n",
      "after require segregating in UGgam 146178\n",
      "after require segregating in GAgam 142414\n",
      "after require segregating in FRgam 96294\n",
      "after require segregating in KE 68187\n",
      "after require segregating in GM 68141\n",
      "after require segregating in GW 68139\n",
      "initial ascertainment 35421\n",
      "iteration 1 retaining 27609 removing 7812 variants\n",
      "data/treemix/seg_AOcol_BFcol_CIcol_GHcol_GNcol_GHgam_CMgam_BFgam_GNgam_GQgam_UGgam_GAgam_FRgam_KE_GM_GW_og_arab_quad_meru_mela_chri_ldp_1/3L-free.allele_counts.txt:\t 70.0% -- replaced with data/treemix/seg_AOcol_BFcol_CIcol_GHcol_GNcol_GHgam_CMgam_BFgam_GNgam_GQgam_UGgam_GAgam_FRgam_KE_GM_GW_og_arab_quad_meru_mela_chri_ldp_1/3L-free.allele_counts.txt.gz\n"
     ]
    }
   ],
   "source": [
    "rname, chrom, start, stop = region_3L_free\n",
    "log(rname, chrom, start, stop)\n",
    "run_analysis(rname, chrom, start, stop, outgroups, segpops, n=n, ldp_n_iter=ldp_n_iter)"
   ]
  },
  {
   "cell_type": "code",
   "execution_count": 53,
   "metadata": {},
   "outputs": [
    {
     "name": "stdout",
     "output_type": "stream",
     "text": [
      "X-free X 1 14000000\n",
      "outgroup ascertainment, initial 3357129\n",
      "arab 2723145\n",
      "quad 2558263\n",
      "meru 2437057\n",
      "mela 2210408\n",
      "chri 951454\n",
      "ingroup ascertainment, initial 3357129\n",
      "after require segregating in AOcol 283965\n",
      "after require segregating in BFcol 173888\n",
      "after require segregating in CIcol 146215\n",
      "after require segregating in GHcol 135601\n",
      "after require segregating in GNcol 55134\n",
      "after require segregating in GHgam 48802\n",
      "after require segregating in CMgam 48790\n",
      "after require segregating in BFgam 48695\n",
      "after require segregating in GNgam 48384\n",
      "after require segregating in GQgam 40476\n",
      "after require segregating in UGgam 40466\n",
      "after require segregating in GAgam 38465\n",
      "after require segregating in FRgam 16632\n",
      "after require segregating in KE 9986\n",
      "after require segregating in GM 9980\n",
      "after require segregating in GW 9980\n",
      "initial ascertainment 1976\n",
      "iteration 1 retaining 1794 removing 182 variants\n",
      "data/treemix/seg_AOcol_BFcol_CIcol_GHcol_GNcol_GHgam_CMgam_BFgam_GNgam_GQgam_UGgam_GAgam_FRgam_KE_GM_GW_og_arab_quad_meru_mela_chri_ldp_1/X-free.allele_counts.txt:\t 69.9% -- replaced with data/treemix/seg_AOcol_BFcol_CIcol_GHcol_GNcol_GHgam_CMgam_BFgam_GNgam_GQgam_UGgam_GAgam_FRgam_KE_GM_GW_og_arab_quad_meru_mela_chri_ldp_1/X-free.allele_counts.txt.gz\n"
     ]
    }
   ],
   "source": [
    "rname, chrom, start, stop = region_X_free\n",
    "log(rname, chrom, start, stop)\n",
    "run_analysis(rname, chrom, start, stop, outgroups, segpops, n=n, ldp_n_iter=ldp_n_iter)"
   ]
  },
  {
   "cell_type": "code",
   "execution_count": 54,
   "metadata": {},
   "outputs": [
    {
     "name": "stdout",
     "output_type": "stream",
     "text": [
      "X-speciation X 15000000 24000000\n",
      "outgroup ascertainment, initial 883199\n",
      "arab 666309\n",
      "quad 634440\n",
      "meru 604703\n",
      "mela 572721\n",
      "chri 220762\n",
      "ingroup ascertainment, initial 883199\n",
      "after require segregating in AOcol 54420\n",
      "after require segregating in BFcol 22465\n",
      "after require segregating in CIcol 18595\n",
      "after require segregating in GHcol 17516\n",
      "after require segregating in GNcol 7051\n",
      "after require segregating in GHgam 2757\n",
      "after require segregating in CMgam 2734\n",
      "after require segregating in BFgam 2634\n",
      "after require segregating in GNgam 2549\n",
      "after require segregating in GQgam 1574\n",
      "after require segregating in UGgam 1570\n",
      "after require segregating in GAgam 1331\n",
      "after require segregating in FRgam 553\n",
      "after require segregating in KE 350\n",
      "after require segregating in GM 347\n",
      "after require segregating in GW 347\n",
      "initial ascertainment 73\n",
      "iteration 1 retaining 37 removing 36 variants\n",
      "data/treemix/seg_AOcol_BFcol_CIcol_GHcol_GNcol_GHgam_CMgam_BFgam_GNgam_GQgam_UGgam_GAgam_FRgam_KE_GM_GW_og_arab_quad_meru_mela_chri_ldp_1/X-speciation.allele_counts.txt:\t 60.0% -- replaced with data/treemix/seg_AOcol_BFcol_CIcol_GHcol_GNcol_GHgam_CMgam_BFgam_GNgam_GQgam_UGgam_GAgam_FRgam_KE_GM_GW_og_arab_quad_meru_mela_chri_ldp_1/X-speciation.allele_counts.txt.gz\n"
     ]
    }
   ],
   "source": [
    "rname, chrom, start, stop = region_X_speciation\n",
    "log(rname, chrom, start, stop)\n",
    "run_analysis(rname, chrom, start, stop, outgroups, segpops, n=n, ldp_n_iter=ldp_n_iter)"
   ]
  },
  {
   "cell_type": "code",
   "execution_count": null,
   "metadata": {},
   "outputs": [],
   "source": []
  }
 ],
 "metadata": {
  "kernelspec": {
   "display_name": "Python 3",
   "language": "python",
   "name": "python3"
  },
  "language_info": {
   "codemirror_mode": {
    "name": "ipython",
    "version": 3
   },
   "file_extension": ".py",
   "mimetype": "text/x-python",
   "name": "python",
   "nbconvert_exporter": "python",
   "pygments_lexer": "ipython3",
   "version": "3.6.7"
  }
 },
 "nbformat": 4,
 "nbformat_minor": 4
}
