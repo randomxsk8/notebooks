{
 "cells": [
  {
   "cell_type": "code",
   "execution_count": 1,
   "metadata": {},
   "outputs": [],
   "source": [
    "%run imports.ipynb"
   ]
  },
  {
   "cell_type": "code",
   "execution_count": 2,
   "metadata": {},
   "outputs": [],
   "source": [
    "import dadi\n",
    "from dadi import Numerics\n",
    "from dadi import PhiManip\n",
    "from dadi import Integration\n",
    "from dadi import Spectrum\n",
    "import pylab\n",
    "import sys\n",
    "import os\n",
    "import numpy\n",
    "from datetime import datetime\n",
    "import Models_2D"
   ]
  },
  {
   "cell_type": "code",
   "execution_count": 3,
   "metadata": {},
   "outputs": [],
   "source": [
    "pop_ids=[\"GM\", \"GW\"]"
   ]
  },
  {
   "cell_type": "code",
   "execution_count": 4,
   "metadata": {},
   "outputs": [
    {
     "data": {
      "text/plain": [
       "Spectrum([[-- 142068.0 37092.0 ... 0.0 0.0 0.0]\n",
       " [39777.0 17181.0 9725.0 ... 0.0 0.0 0.0]\n",
       " [14933.0 8036.0 5498.0 ... 0.0 0.0 0.0]\n",
       " ...\n",
       " [0.0 0.0 0.0 ... 0.0 2.0 1.0]\n",
       " [0.0 0.0 0.0 ... 0.0 2.0 3.0]\n",
       " [0.0 0.0 0.0 ... 3.0 8.0 --]], folded=False, pop_ids=['GM', 'GW'])"
      ]
     },
     "execution_count": 4,
     "metadata": {},
     "output_type": "execute_result"
    }
   ],
   "source": [
    "fs_fw = dadi.Spectrum(np.load(\"dadi/fs_2_pops/GM_GW.npy\"), pop_ids = ['GM', 'GW'])\n",
    "fs_fw"
   ]
  },
  {
   "cell_type": "code",
   "execution_count": 5,
   "metadata": {},
   "outputs": [
    {
     "data": {
      "text/plain": [
       "(130, 182)"
      ]
     },
     "execution_count": 5,
     "metadata": {},
     "output_type": "execute_result"
    }
   ],
   "source": [
    "proj = (fs_fw.sample_sizes[0], fs_fw.sample_sizes[1])\n",
    "proj"
   ]
  },
  {
   "cell_type": "code",
   "execution_count": 6,
   "metadata": {},
   "outputs": [
    {
     "name": "stdout",
     "output_type": "stream",
     "text": [
      "\n",
      "\n",
      "============================================================================\n",
      "\n",
      "Data for site frequency spectrum:\n",
      "\n",
      "Projection: (130, 182)\n",
      "Sample sizes: [130 182]\n",
      "Sum of SFS: 446514.0\n",
      "\n",
      "============================================================================\n",
      "\n"
     ]
    }
   ],
   "source": [
    "print(\"\\n\\n============================================================================\")\n",
    "print(\"\\nData for site frequency spectrum:\\n\")\n",
    "print(\"Projection: {}\".format(proj))\n",
    "print(\"Sample sizes: {}\".format(fs_fw.sample_sizes))\n",
    "print(\"Sum of SFS: {}\".format(np.around(fs_fw.S(), 2)))\n",
    "print(\"\\n============================================================================\\n\")"
   ]
  },
  {
   "cell_type": "code",
   "execution_count": 7,
   "metadata": {},
   "outputs": [],
   "source": [
    "def parse_params(param_number, in_params=None, in_upper=None, in_lower=None):\n",
    "    #--------------------------------------------------------------------------------------\n",
    "    # function to correctly deal with parameters and bounds, if none were provided, generate them automatically\n",
    "    \n",
    "    # Arguments\n",
    "    # param_number: number of parameters in the model selected (can count in params line for the model)\n",
    "    # in_params: a list of parameter values \n",
    "    # in_upper: a list of upper bound values\n",
    "    # in_lower: a list of lower bound values\n",
    "    #--------------------------------------------------------------------------------------\n",
    "    param_number = int(param_number)\n",
    "    \n",
    "    #param set\n",
    "    if in_params is None:\n",
    "        params = [1] * param_number\n",
    "    elif len(in_params) != param_number:\n",
    "        raise ValueError(\"Set of input parameters does not contain the correct number of values: {}\".format(param_number))\n",
    "    else:\n",
    "        params = in_params\n",
    "        \n",
    "    #upper bound    \n",
    "    if in_upper is None:\n",
    "        upper_bound = [30] * param_number\n",
    "    elif len(in_upper) != param_number:\n",
    "        raise ValueError(\"Upper bound set for parameters does not contain the correct number of values: {}\".format(param_number))\n",
    "    else:\n",
    "        upper_bound = in_upper\n",
    "        \n",
    "    #lower bounds\n",
    "    if in_lower is None:\n",
    "        lower_bound = [0.01] * param_number\n",
    "    elif len(in_lower) != param_number:\n",
    "        raise ValueError(\"Lower bound set for parameters does not contain the correct number of values: {}\".format(param_number))\n",
    "    else:\n",
    "        lower_bound = in_lower\n",
    "        \n",
    "    return params, upper_bound, lower_bound\n",
    "\n",
    "def parse_opt_settings(rounds, reps=None, maxiters=None, folds=None):\n",
    "    #--------------------------------------------------------------------------------------\n",
    "    # function to correctly deal with replicate numbers, maxiter and fold args\n",
    "    \n",
    "    # Arguments\n",
    "    # rounds: number of optimization rounds to perform\n",
    "    # reps: a list of integers controlling the number of replicates in each of three optimization rounds\n",
    "    # maxiters: a list of integers controlling the maxiter argument in each of three optimization rounds\n",
    "    # folds: a list of integers controlling the fold argument when perturbing input parameter values\n",
    "    #--------------------------------------------------------------------------------------\n",
    "    rounds = int(rounds)\n",
    "    \n",
    "    #rep set\n",
    "    #create scheme where final replicates will be 20, and all previous 10\n",
    "    if reps is None:\n",
    "        if rounds >= 2:\n",
    "            reps_list = [10] * (rounds-1)\n",
    "            reps_list.insert(len(reps_list),20)\n",
    "        else:\n",
    "            reps_list = [10] * rounds\n",
    "    elif len(reps) != rounds:\n",
    "        raise ValueError(\"List length of replicate values does match the number of rounds: {}\".format(rounds))\n",
    "    else:\n",
    "        reps_list = reps\n",
    "        \n",
    "    #maxiters   \n",
    "    if maxiters is None:\n",
    "        maxiters_list = [5] * rounds\n",
    "    elif len(maxiters) != rounds:\n",
    "        raise ValueError(\"List length of maxiter values does match the number of rounds: {}\".format(rounds))\n",
    "    else:\n",
    "        maxiters_list = maxiters\n",
    "        \n",
    "    #folds\n",
    "    #create scheme so if rounds is greater than three, will always end with two fold and then one fold\n",
    "    if folds is None:\n",
    "        if rounds >= 3:\n",
    "            folds_list = [3] * (rounds-2)\n",
    "            folds_list.insert(len(folds_list),2)\n",
    "            folds_list.insert(len(folds_list),1)\n",
    "        elif rounds == 2:\n",
    "            folds_list = [2] * (rounds-1)\n",
    "            folds_list.insert(len(folds_list),1)\n",
    "        else:\n",
    "            folds_list = [2] * rounds\n",
    "    elif len(folds) != rounds:\n",
    "        raise ValueError(\"List length of fold values does match the number of rounds: {}\".format(rounds))\n",
    "    else:\n",
    "        folds_list = folds\n",
    "        \n",
    "    return reps_list, maxiters_list, folds_list\n",
    "\n",
    "def collect_results(fs, sim_model, params_opt, roundrep, fs_folded):\n",
    "    #--------------------------------------------------------------------------------------\n",
    "    # gather up a bunch of results, return a list = [roundnum_repnum, log-likelihood, AIC, chi^2 test stat, theta, parameter values] \n",
    "    \n",
    "    # Arguments\n",
    "    # fs: spectrum object name\n",
    "    # sim_model: model fit with optimized parameters\n",
    "    # params_opt: list of the optimized parameters\n",
    "    # fs_folded: a Boolean (True, False) for whether empirical spectrum is folded or not\n",
    "    #--------------------------------------------------------------------------------------\n",
    "\n",
    "    #calculate likelihood\n",
    "    ll = dadi.Inference.ll_multinom(sim_model, fs)\n",
    "    ll = numpy.around(ll, 2)\n",
    "    print(\"\\t\\t\\tLikelihood = {:,}\".format(ll))\n",
    "\n",
    "    #calculate AIC \n",
    "    aic = ( -2*( float(ll))) + (2*len(params_opt))\n",
    "    print(\"\\t\\t\\tAIC = {:,}\".format(aic))\n",
    "\n",
    "    #calculate theta\n",
    "    theta = dadi.Inference.optimal_sfs_scaling(sim_model, fs)\n",
    "    theta = numpy.around(theta, 2)\n",
    "    print(\"\\t\\t\\tTheta = {:,}\".format(theta))\n",
    "\n",
    "    #get Chi^2\n",
    "    scaled_sim_model = sim_model*theta\n",
    "    if fs_folded is True:\n",
    "        #calculate Chi^2 statistic for folded\n",
    "        folded_sim_model = scaled_sim_model.fold()\n",
    "        chi2 = numpy.sum((folded_sim_model - fs)**2/folded_sim_model)\n",
    "        chi2 = numpy.around(chi2, 2)\n",
    "    elif fs_folded is False:\n",
    "        #calculate Chi^2 statistic for unfolded\n",
    "        chi2 = numpy.sum((scaled_sim_model - fs)**2/scaled_sim_model)\n",
    "        chi2 = numpy.around(chi2, 2)\n",
    "    print(\"\\t\\t\\tChi-Squared = {:,}\".format(chi2))        \n",
    "\n",
    "    #store key results in temporary sublist, append to larger results list\n",
    "    temp_results = [roundrep, ll, aic, chi2, theta, params_opt]\n",
    "\n",
    "    return temp_results\n",
    "\n",
    "def write_log(outfile, model_name, rep_results, roundrep):\n",
    "    #--------------------------------------------------------------------------------------\n",
    "    #reproduce replicate log to bigger log file, because constantly re-written\n",
    "    \n",
    "    # Arguments =\n",
    "    # outfile: prefix for output naming\n",
    "    # model_name: a label to slap on the output files; ex. \"no_mig\"\n",
    "    # rep_results: the list returned by collect_results function: [roundnum_repnum, log-likelihood, AIC, chi^2 test stat, theta, parameter values]\n",
    "    # roundrep: name of replicate (ex, \"Round_1_Replicate_10\")\n",
    "    #--------------------------------------------------------------------------------------\n",
    "    fh_log = open(\"{0}.{1}.log.txt\".format(outfile, model_name), 'a')\n",
    "    fh_log.write(\"\\n{}\\n\".format(roundrep))\n",
    "    templogname = \"{}.log.txt\".format(model_name)\n",
    "    try:\n",
    "        fh_templog = open(templogname, 'r')\n",
    "        for line in fh_templog:\n",
    "            fh_log.write(line)\n",
    "        fh_templog.close()\n",
    "    except IOError:\n",
    "        print(\"Nothing written to log file this replicate...\")\n",
    "    fh_log.write(\"likelihood = {}\\n\".format(rep_results[1]))\n",
    "    fh_log.write(\"theta = {}\\n\".format(rep_results[4]))\n",
    "    fh_log.write(\"Optimized parameters = {}\\n\".format(rep_results[5]))\n",
    "    fh_log.close()\n",
    "\n",
    "def Optimize_Routine(fs, pts, outfile, model_name, func, rounds, param_number, fs_folded=True,\n",
    "                         reps=None, maxiters=None, folds=None, in_params=None,\n",
    "                         in_upper=None, in_lower=None, param_labels=\" \"):\n",
    "    #--------------------------------------------------------------------------------------\n",
    "    # Mandatory Arguments =\n",
    "    #(1) fs:  spectrum object name\n",
    "    #(2) pts: grid size for extrapolation, list of three values\n",
    "    #(3) outfile:  prefix for output naming\n",
    "    #(4) model_name: a label to slap on the output files; ex. \"no_mig\"\n",
    "    #(5) func: access the model function from within 'moments_optimize.py' or from a separate python model script, ex. Models_2D.no_mig\n",
    "    #(6) rounds: number of optimization rounds to perform\n",
    "    #(7) param_number: number of parameters in the model selected (can count in params line for the model)\n",
    "    #(8) fs_folded: A Boolean value (True or False) indicating whether the empirical fs is folded (True) or not (False). Default is True.\n",
    "\n",
    "    # Optional Arguments =\n",
    "    #(9) reps: a list of integers controlling the number of replicates in each of three optimization rounds\n",
    "    #(10) maxiters: a list of integers controlling the maxiter argument in each of three optimization rounds\n",
    "    #(11) folds: a list of integers controlling the fold argument when perturbing input parameter values\n",
    "    #(12) in_params: a list of parameter values \n",
    "    #(13) in_upper: a list of upper bound values\n",
    "    #(14) in_lower: a list of lower bound values\n",
    "    #(15) param_labels: list of labels for parameters that will be written to the output file to keep track of their order\n",
    "    #--------------------------------------------------------------------------------------\n",
    "\n",
    "    #call function that determines if our params and bounds have been set or need to be generated for us\n",
    "    params, upper_bound, lower_bound = parse_params(param_number, in_params, in_upper, in_lower)\n",
    "\n",
    "    #call function that determines if our replicates, maxiter, and fold have been set or need to be generated for us\n",
    "    reps_list, maxiters_list, folds_list = parse_opt_settings(rounds, reps, maxiters, folds)\n",
    "    \n",
    "    print(\"\\n\\n============================================================================\"\n",
    "              \"\\nModel {}\\n============================================================================\\n\\n\".format(model_name))\n",
    "\n",
    "    #start keeping track of time it takes to complete optimizations for this model\n",
    "    tbr = datetime.now()\n",
    "    \n",
    "    # We need an output file that will store all summary info for each replicate, across rounds\n",
    "    outname = \"{0}.{1}.optimized.txt\".format(outfile, model_name)\n",
    "    with open(outname, 'a') as fh_out:\n",
    "        fh_out.write(\"Model\\tReplicate\\tlog-likelihood\\tAIC\\tchi-squared\\ttheta\\toptimized_params({})\\n\".format(param_labels))\n",
    "        \n",
    "    #Create list to store sublists of [roundnum_repnum, log-likelihood, AIC, chi^2 test stat, theta, parameter values] for every replicate\n",
    "    results_list = []\n",
    "    \n",
    "    #for every round, execute the assigned number of replicates with other round-defined args (maxiter, fold, best_params)\n",
    "    rounds = int(rounds)\n",
    "    for r in range(rounds):\n",
    "        print(\"\\tBeginning Optimizations for Round {}:\".format(r+1))\n",
    "       \n",
    "        #make sure first round params are assigned (either user input or auto generated)\n",
    "        if r == int(0):\n",
    "            best_params = params\n",
    "        #and that all subsequent rounds use the params from a previous best scoring replicate\n",
    "        else:\n",
    "            best_params = results_list[0][5]\n",
    "\n",
    "        #perform an optimization routine for each rep number in this round number\n",
    "        for rep in range(1, (reps_list[r]+1) ):\n",
    "            print(\"\\n\\t\\tRound {0} Replicate {1} of {2}:\".format(r+1, rep, (reps_list[r])))\n",
    "            \n",
    "            #keep track of start time for rep\n",
    "            tb_rep = datetime.now()\n",
    "            \n",
    "            #create an extrapolating function \n",
    "            func_exec = dadi.Numerics.make_extrap_log_func(func)\n",
    "            \n",
    "            #perturb starting parameters\n",
    "            params_perturbed = dadi.Misc.perturb_params(best_params, fold=folds_list[r],\n",
    "                                                            upper_bound=upper_bound, lower_bound=lower_bound)\n",
    "            \n",
    "            print(\"\\n\\t\\t\\tStarting parameters = [{}]\".format(\", \".join([str(numpy.around(x, 6)) for x in params_perturbed])))\n",
    "            \n",
    "            #optimize from perturbed parameters\n",
    "            params_opt = dadi.Inference.optimize_log_fmin(params_perturbed, fs, func_exec, pts,\n",
    "                                                              lower_bound=lower_bound, upper_bound=upper_bound,\n",
    "                                                              verbose=1, maxiter=maxiters_list[r],\n",
    "                                                              output_file = \"{}.log.txt\".format(model_name))\n",
    "            \n",
    "            print(\"\\t\\t\\tOptimized parameters =[{}]\\n\".format(\", \".join([str(numpy.around(x, 6)) for x in params_opt[0]])))\n",
    "            \n",
    "            #simulate the model with the optimized parameters\n",
    "            sim_model = func_exec(params_opt[0], fs.sample_sizes, pts)\n",
    "\n",
    "            #collect results into a list using function above - [roundnum_repnum, log-likelihood, AIC, chi^2 test stat, theta, parameter values]\n",
    "            roundrep = \"Round_{0}_Replicate_{1}\".format(r+1, rep)\n",
    "            rep_results = collect_results(fs, sim_model, params_opt[0], roundrep, fs_folded)\n",
    "            \n",
    "            #reproduce replicate log to bigger log file, because constantly re-written\n",
    "            write_log(outfile, model_name, rep_results, roundrep)\n",
    "            \n",
    "            #append results from this sim to larger list\n",
    "            results_list.append(rep_results)\n",
    "            \n",
    "            #write all this info to our main results file\n",
    "            with open(outname, 'a') as fh_out:\n",
    "                #join the param values together with commas\n",
    "                easy_p = \",\".join([str(numpy.around(x, 4)) for x in rep_results[5]])\n",
    "                fh_out.write(\"{0}\\t{1}\\t{2}\\t{3}\\t{4}\\t{5}\\t{6}\\n\".format(model_name, rep_results[0],\n",
    "                                                                              rep_results[1], rep_results[2],\n",
    "                                                                              rep_results[3], rep_results[4],\n",
    "                                                                              easy_p))\n",
    "\n",
    "            #calculate elapsed time for replicate\n",
    "            tf_rep = datetime.now()\n",
    "            te_rep = tf_rep - tb_rep\n",
    "            print(\"\\n\\t\\t\\tReplicate time: {0} (H:M:S)\\n\".format(te_rep))\n",
    "\n",
    "        #Now that this round is over, sort results in order of likelihood score\n",
    "        #we'll use the parameters from the best rep to start the next round as the loop continues\n",
    "        results_list.sort(key=lambda x: float(x[1]), reverse=True)\n",
    "        print(\"\\n\\t----------------------------------------------\\n\"\n",
    "                  \"\\tBest replicate: {0}\\n\"\n",
    "                  \"\\t\\tLikelihood = {1:,}\\n\\t\\tAIC = {2:,}\\n\"\n",
    "                  \"\\t\\tChi-Squared = {3:,}\\n\\t\\tParams = [{4}]\\n\"\n",
    "                  \"\\t----------------------------------------------\\n\\n\".format(results_list[0][0],\n",
    "                                                                              results_list[0][1],\n",
    "                                                                              results_list[0][2],\n",
    "                                                                              results_list[0][3],\n",
    "                                                                              \", \".join([str(numpy.around(x, 4)) for x in rep_results[5]])))\n",
    "\n",
    "    #Now that all rounds are over, calculate elapsed time for the whole model\n",
    "    tfr = datetime.now()\n",
    "    ter = tfr - tbr\n",
    "    print(\"\\nAnalysis Time for Model '{0}': {1} (H:M:S)\\n\\n\"\n",
    "              \"============================================================================\".format(model_name, ter))\n",
    "\n",
    "    #cleanup file\n",
    "    os.remove(\"{}.log.txt\".format(model_name))\n"
   ]
  },
  {
   "cell_type": "code",
   "execution_count": 8,
   "metadata": {},
   "outputs": [],
   "source": [
    "prefix = \"_\".join(pop_ids)"
   ]
  },
  {
   "cell_type": "code",
   "execution_count": 9,
   "metadata": {},
   "outputs": [
    {
     "data": {
      "text/plain": [
       "[140, 150, 160]"
      ]
     },
     "execution_count": 9,
     "metadata": {},
     "output_type": "execute_result"
    }
   ],
   "source": [
    "pts = [proj[0] + 10, proj[0] + 20, proj[0] + 30]\n",
    "pts"
   ]
  },
  {
   "cell_type": "code",
   "execution_count": 10,
   "metadata": {},
   "outputs": [],
   "source": [
    "rounds = 4"
   ]
  },
  {
   "cell_type": "code",
   "execution_count": 11,
   "metadata": {},
   "outputs": [],
   "source": [
    "reps = [10,20,30,40]\n",
    "maxiters = [3,5,10,15]\n",
    "folds = [3,2,2,1]"
   ]
  },
  {
   "cell_type": "code",
   "execution_count": 12,
   "metadata": {},
   "outputs": [],
   "source": [
    "fs_folded = False"
   ]
  },
  {
   "cell_type": "code",
   "execution_count": null,
   "metadata": {},
   "outputs": [
    {
     "name": "stdout",
     "output_type": "stream",
     "text": [
      "\n",
      "\n",
      "============================================================================\n",
      "Model sec_contact_asym_mig_size\n",
      "============================================================================\n",
      "\n",
      "\n",
      "\tBeginning Optimizations for Round 1:\n",
      "\n",
      "\t\tRound 1 Replicate 1 of 10:\n",
      "\n",
      "\t\t\tStarting parameters = [4.59167, 0.395364, 3.165227, 3.367333, 0.751804, 5.908105, 2.354943, 4.507739]\n"
     ]
    },
    {
     "name": "stderr",
     "output_type": "stream",
     "text": [
      "WARNING:Numerics:Extrapolation may have failed. Check resulting frequency spectrum for unexpected results.\n",
      "WARNING:Numerics:Extrapolation may have failed. Check resulting frequency spectrum for unexpected results.\n",
      "WARNING:Numerics:Extrapolation may have failed. Check resulting frequency spectrum for unexpected results.\n",
      "WARNING:Numerics:Extrapolation may have failed. Check resulting frequency spectrum for unexpected results.\n",
      "WARNING:Numerics:Extrapolation may have failed. Check resulting frequency spectrum for unexpected results.\n",
      "WARNING:Numerics:Extrapolation may have failed. Check resulting frequency spectrum for unexpected results.\n",
      "WARNING:Numerics:Extrapolation may have failed. Check resulting frequency spectrum for unexpected results.\n",
      "WARNING:Numerics:Extrapolation may have failed. Check resulting frequency spectrum for unexpected results.\n",
      "WARNING:Numerics:Extrapolation may have failed. Check resulting frequency spectrum for unexpected results.\n",
      "WARNING:Numerics:Extrapolation may have failed. Check resulting frequency spectrum for unexpected results.\n",
      "WARNING:Numerics:Extrapolation may have failed. Check resulting frequency spectrum for unexpected results.\n"
     ]
    },
    {
     "name": "stdout",
     "output_type": "stream",
     "text": [
      "\t\t\tOptimized parameters =[4.59167, 0.395364, 3.165227, 3.578083, 0.751804, 5.908105, 2.354943, 4.507739]\n",
      "\n"
     ]
    },
    {
     "name": "stderr",
     "output_type": "stream",
     "text": [
      "WARNING:Numerics:Extrapolation may have failed. Check resulting frequency spectrum for unexpected results.\n"
     ]
    },
    {
     "name": "stdout",
     "output_type": "stream",
     "text": [
      "\t\t\tLikelihood = -165,599.37\n",
      "\t\t\tAIC = 331,214.74\n",
      "\t\t\tTheta = 15,005.41\n",
      "\t\t\tChi-Squared = 296,538.48\n",
      "\n",
      "\t\t\tReplicate time: 0:13:16.468584 (H:M:S)\n",
      "\n",
      "\n",
      "\t\tRound 1 Replicate 2 of 10:\n",
      "\n",
      "\t\t\tStarting parameters = [3.484419, 1.97698, 3.665723, 0.302331, 0.139227, 6.770782, 1.275282, 7.225726]\n",
      "\t\t\tOptimized parameters =[3.566936, 2.002407, 3.756104, 0.340748, 0.134174, 7.017999, 1.28111, 7.498692]\n",
      "\n",
      "\t\t\tLikelihood = -586,974.28\n",
      "\t\t\tAIC = 1,173,964.56\n",
      "\t\t\tTheta = 19,983.99\n",
      "\t\t\tChi-Squared = 2,671,553.74\n",
      "\n",
      "\t\t\tReplicate time: 0:25:20.617467 (H:M:S)\n",
      "\n",
      "\n",
      "\t\tRound 1 Replicate 3 of 10:\n",
      "\n",
      "\t\t\tStarting parameters = [0.343533, 0.312176, 0.746951, 0.413036, 5.612767, 0.573346, 0.221982, 2.27303]\n"
     ]
    },
    {
     "name": "stderr",
     "output_type": "stream",
     "text": [
      "WARNING:Numerics:Extrapolation may have failed. Check resulting frequency spectrum for unexpected results.\n",
      "WARNING:Numerics:Extrapolation may have failed. Check resulting frequency spectrum for unexpected results.\n",
      "WARNING:Numerics:Extrapolation may have failed. Check resulting frequency spectrum for unexpected results.\n",
      "WARNING:Numerics:Extrapolation may have failed. Check resulting frequency spectrum for unexpected results.\n",
      "WARNING:Numerics:Extrapolation may have failed. Check resulting frequency spectrum for unexpected results.\n",
      "WARNING:Numerics:Extrapolation may have failed. Check resulting frequency spectrum for unexpected results.\n",
      "WARNING:Numerics:Extrapolation may have failed. Check resulting frequency spectrum for unexpected results.\n",
      "WARNING:Numerics:Extrapolation may have failed. Check resulting frequency spectrum for unexpected results.\n",
      "WARNING:Numerics:Extrapolation may have failed. Check resulting frequency spectrum for unexpected results.\n",
      "WARNING:Numerics:Extrapolation may have failed. Check resulting frequency spectrum for unexpected results.\n",
      "WARNING:Numerics:Extrapolation may have failed. Check resulting frequency spectrum for unexpected results.\n"
     ]
    },
    {
     "name": "stdout",
     "output_type": "stream",
     "text": [
      "\t\t\tOptimized parameters =[0.343533, 0.312176, 0.746951, 0.413036, 6.118372, 0.573346, 0.221982, 2.27303]\n",
      "\n"
     ]
    },
    {
     "name": "stderr",
     "output_type": "stream",
     "text": [
      "WARNING:Numerics:Extrapolation may have failed. Check resulting frequency spectrum for unexpected results.\n"
     ]
    },
    {
     "name": "stdout",
     "output_type": "stream",
     "text": [
      "\t\t\tLikelihood = -460,500.96\n",
      "\t\t\tAIC = 921,017.92\n",
      "\t\t\tTheta = 80,254.16\n",
      "\t\t\tChi-Squared = 1,486,726.6\n",
      "\n",
      "\t\t\tReplicate time: 0:06:19.345181 (H:M:S)\n",
      "\n",
      "\n",
      "\t\tRound 1 Replicate 4 of 10:\n",
      "\n",
      "\t\t\tStarting parameters = [4.694848, 0.511175, 5.932198, 0.15006, 4.127129, 0.222739, 0.756072, 0.520474]\n"
     ]
    },
    {
     "name": "stderr",
     "output_type": "stream",
     "text": [
      "WARNING:Numerics:Extrapolation may have failed. Check resulting frequency spectrum for unexpected results.\n",
      "WARNING:Numerics:Extrapolation may have failed. Check resulting frequency spectrum for unexpected results.\n",
      "WARNING:Numerics:Extrapolation may have failed. Check resulting frequency spectrum for unexpected results.\n",
      "WARNING:Numerics:Extrapolation may have failed. Check resulting frequency spectrum for unexpected results.\n",
      "WARNING:Numerics:Extrapolation may have failed. Check resulting frequency spectrum for unexpected results.\n",
      "WARNING:Numerics:Extrapolation may have failed. Check resulting frequency spectrum for unexpected results.\n",
      "WARNING:Numerics:Extrapolation may have failed. Check resulting frequency spectrum for unexpected results.\n",
      "WARNING:Numerics:Extrapolation may have failed. Check resulting frequency spectrum for unexpected results.\n",
      "WARNING:Numerics:Extrapolation may have failed. Check resulting frequency spectrum for unexpected results.\n",
      "WARNING:Numerics:Extrapolation may have failed. Check resulting frequency spectrum for unexpected results.\n",
      "WARNING:Numerics:Extrapolation may have failed. Check resulting frequency spectrum for unexpected results.\n",
      "WARNING:Numerics:Extrapolation may have failed. Check resulting frequency spectrum for unexpected results.\n"
     ]
    },
    {
     "name": "stdout",
     "output_type": "stream",
     "text": [
      "\t\t\tOptimized parameters =[4.832974, 0.504784, 6.133572, 0.1814, 4.238298, 0.216554, 0.752118, 0.51414]\n",
      "\n"
     ]
    },
    {
     "name": "stderr",
     "output_type": "stream",
     "text": [
      "WARNING:Numerics:Extrapolation may have failed. Check resulting frequency spectrum for unexpected results.\n"
     ]
    },
    {
     "name": "stdout",
     "output_type": "stream",
     "text": [
      "\t\t\tLikelihood = -1,041,754.73\n",
      "\t\t\tAIC = 2,083,525.46\n",
      "\t\t\tTheta = 32,701.33\n",
      "\t\t\tChi-Squared = 9,315,303.3\n",
      "\n",
      "\t\t\tReplicate time: 0:01:34.817251 (H:M:S)\n",
      "\n",
      "\n",
      "\t\tRound 1 Replicate 5 of 10:\n",
      "\n",
      "\t\t\tStarting parameters = [0.380193, 2.378742, 2.482152, 0.199694, 1.413668, 3.239633, 0.688159, 3.095954]\n",
      "\t\t\tOptimized parameters =[0.373362, 2.417708, 2.524825, 0.2346, 1.422874, 3.311826, 0.683354, 3.162255]\n",
      "\n",
      "\t\t\tLikelihood = -706,243.92\n",
      "\t\t\tAIC = 1,412,503.84\n",
      "\t\t\tTheta = 33,200.36\n",
      "\t\t\tChi-Squared = 3,536,109.77\n",
      "\n",
      "\t\t\tReplicate time: 0:05:36.955587 (H:M:S)\n",
      "\n",
      "\n",
      "\t\tRound 1 Replicate 6 of 10:\n",
      "\n",
      "\t\t\tStarting parameters = [0.524333, 0.497846, 0.18364, 0.295658, 0.851086, 0.202951, 4.476528, 2.402501]\n",
      "\t\t\tOptimized parameters =[0.518024, 0.491378, 0.177896, 0.333972, 0.848517, 0.196972, 4.604118, 2.442311]\n",
      "\n",
      "\t\t\tLikelihood = -958,929.71\n",
      "\t\t\tAIC = 1,917,875.42\n",
      "\t\t\tTheta = 91,387.01\n",
      "\t\t\tChi-Squared = 15,612,293.19\n",
      "\n",
      "\t\t\tReplicate time: 0:03:06.429427 (H:M:S)\n",
      "\n",
      "\n",
      "\t\tRound 1 Replicate 7 of 10:\n",
      "\n",
      "\t\t\tStarting parameters = [0.16468, 1.162444, 1.291297, 7.136223, 0.153656, 1.568094, 0.146784, 0.173178]\n"
     ]
    },
    {
     "name": "stderr",
     "output_type": "stream",
     "text": [
      "WARNING:Numerics:Extrapolation may have failed. Check resulting frequency spectrum for unexpected results.\n",
      "WARNING:Numerics:Extrapolation may have failed. Check resulting frequency spectrum for unexpected results.\n",
      "WARNING:Numerics:Extrapolation may have failed. Check resulting frequency spectrum for unexpected results.\n",
      "WARNING:Numerics:Extrapolation may have failed. Check resulting frequency spectrum for unexpected results.\n",
      "WARNING:Numerics:Extrapolation may have failed. Check resulting frequency spectrum for unexpected results.\n",
      "WARNING:Numerics:Extrapolation may have failed. Check resulting frequency spectrum for unexpected results.\n",
      "WARNING:Numerics:Extrapolation may have failed. Check resulting frequency spectrum for unexpected results.\n",
      "WARNING:Numerics:Extrapolation may have failed. Check resulting frequency spectrum for unexpected results.\n",
      "WARNING:Numerics:Extrapolation may have failed. Check resulting frequency spectrum for unexpected results.\n",
      "WARNING:Numerics:Extrapolation may have failed. Check resulting frequency spectrum for unexpected results.\n",
      "WARNING:Numerics:Extrapolation may have failed. Check resulting frequency spectrum for unexpected results.\n",
      "WARNING:Numerics:Extrapolation may have failed. Check resulting frequency spectrum for unexpected results.\n"
     ]
    },
    {
     "name": "stdout",
     "output_type": "stream",
     "text": [
      "\t\t\tOptimized parameters =[0.159203, 1.165729, 1.297502, 7.404078, 0.148354, 1.581376, 0.141597, 0.206368]\n",
      "\n"
     ]
    },
    {
     "name": "stderr",
     "output_type": "stream",
     "text": [
      "WARNING:Numerics:Extrapolation may have failed. Check resulting frequency spectrum for unexpected results.\n"
     ]
    },
    {
     "name": "stdout",
     "output_type": "stream",
     "text": [
      "\t\t\tLikelihood = -331,575.75\n",
      "\t\t\tAIC = 663,167.5\n",
      "\t\t\tTheta = 25,776.43\n",
      "\t\t\tChi-Squared = 1,581,355.83\n",
      "\n",
      "\t\t\tReplicate time: 0:00:35.056022 (H:M:S)\n",
      "\n",
      "\n",
      "\t\tRound 1 Replicate 8 of 10:\n",
      "\n",
      "\t\t\tStarting parameters = [0.836176, 1.470097, 0.353137, 2.379782, 4.811212, 1.904168, 5.192639, 0.468443]\n"
     ]
    },
    {
     "name": "stderr",
     "output_type": "stream",
     "text": [
      "WARNING:Numerics:Extrapolation may have failed. Check resulting frequency spectrum for unexpected results.\n",
      "WARNING:Numerics:Extrapolation may have failed. Check resulting frequency spectrum for unexpected results.\n",
      "WARNING:Numerics:Extrapolation may have failed. Check resulting frequency spectrum for unexpected results.\n",
      "WARNING:Numerics:Extrapolation may have failed. Check resulting frequency spectrum for unexpected results.\n",
      "WARNING:Numerics:Extrapolation may have failed. Check resulting frequency spectrum for unexpected results.\n",
      "WARNING:Numerics:Extrapolation may have failed. Check resulting frequency spectrum for unexpected results.\n",
      "WARNING:Numerics:Extrapolation may have failed. Check resulting frequency spectrum for unexpected results.\n",
      "WARNING:Numerics:Extrapolation may have failed. Check resulting frequency spectrum for unexpected results.\n"
     ]
    },
    {
     "name": "stdout",
     "output_type": "stream",
     "text": [
      "\t\t\tOptimized parameters =[0.833375, 1.480756, 0.346311, 2.418784, 4.955035, 1.927302, 4.40402, 0.46183]\n",
      "\n"
     ]
    },
    {
     "name": "stderr",
     "output_type": "stream",
     "text": [
      "WARNING:Numerics:Extrapolation may have failed. Check resulting frequency spectrum for unexpected results.\n"
     ]
    },
    {
     "name": "stdout",
     "output_type": "stream",
     "text": [
      "\t\t\tLikelihood = -389,686.25\n",
      "\t\t\tAIC = 779,388.5\n",
      "\t\t\tTheta = 26,151.01\n",
      "\t\t\tChi-Squared = 1,035,988.19\n",
      "\n",
      "\t\t\tReplicate time: 0:02:12.634281 (H:M:S)\n",
      "\n",
      "\n",
      "\t\tRound 1 Replicate 9 of 10:\n",
      "\n",
      "\t\t\tStarting parameters = [5.094323, 3.26736, 0.990694, 7.476458, 0.135489, 0.49036, 0.307505, 0.583581]\n",
      "\t\t\tOptimized parameters =[5.252238, 3.340706, 0.99052, 7.76386, 0.165468, 0.483851, 0.300781, 0.577717]\n",
      "\n",
      "\t\t\tLikelihood = -421,626.04\n",
      "\t\t\tAIC = 843,268.08\n",
      "\t\t\tTheta = 17,351.91\n",
      "\t\t\tChi-Squared = 2,293,252.08\n",
      "\n",
      "\t\t\tReplicate time: 0:00:29.114732 (H:M:S)\n",
      "\n",
      "\n",
      "\t\tRound 1 Replicate 10 of 10:\n",
      "\n",
      "\t\t\tStarting parameters = [0.131328, 0.131329, 0.886993, 1.080201, 0.983603, 0.25684, 0.469131, 0.345818]\n",
      "\t\t\tOptimized parameters =[0.126423, 0.126424, 0.885, 1.081765, 0.983298, 0.294236, 0.46252, 0.339001]\n",
      "\n",
      "\t\t\tLikelihood = -513,142.94\n",
      "\t\t\tAIC = 1,026,301.88\n",
      "\t\t\tTheta = 52,492.8\n",
      "\t\t\tChi-Squared = 2,370,632.05\n",
      "\n",
      "\t\t\tReplicate time: 0:00:57.460621 (H:M:S)\n",
      "\n",
      "\n",
      "\t----------------------------------------------\n",
      "\tBest replicate: Round_1_Replicate_1\n",
      "\t\tLikelihood = -165,599.37\n",
      "\t\tAIC = 331,214.74\n",
      "\t\tChi-Squared = 296,538.48\n",
      "\t\tParams = [0.1264, 0.1264, 0.885, 1.0818, 0.9833, 0.2942, 0.4625, 0.339]\n",
      "\t----------------------------------------------\n",
      "\n",
      "\n",
      "\tBeginning Optimizations for Round 2:\n",
      "\n",
      "\t\tRound 2 Replicate 1 of 20:\n",
      "\n",
      "\t\t\tStarting parameters = [9.443258, 0.85986, 2.770632, 2.838698, 0.189864, 6.388207, 0.797002, 2.782382]\n"
     ]
    },
    {
     "name": "stderr",
     "output_type": "stream",
     "text": [
      "WARNING:Numerics:Extrapolation may have failed. Check resulting frequency spectrum for unexpected results.\n",
      "WARNING:Numerics:Extrapolation may have failed. Check resulting frequency spectrum for unexpected results.\n",
      "WARNING:Numerics:Extrapolation may have failed. Check resulting frequency spectrum for unexpected results.\n",
      "WARNING:Numerics:Extrapolation may have failed. Check resulting frequency spectrum for unexpected results.\n",
      "WARNING:Numerics:Extrapolation may have failed. Check resulting frequency spectrum for unexpected results.\n",
      "WARNING:Numerics:Extrapolation may have failed. Check resulting frequency spectrum for unexpected results.\n",
      "WARNING:Numerics:Extrapolation may have failed. Check resulting frequency spectrum for unexpected results.\n",
      "WARNING:Numerics:Extrapolation may have failed. Check resulting frequency spectrum for unexpected results.\n",
      "WARNING:Numerics:Extrapolation may have failed. Check resulting frequency spectrum for unexpected results.\n",
      "WARNING:Numerics:Extrapolation may have failed. Check resulting frequency spectrum for unexpected results.\n",
      "WARNING:Numerics:Extrapolation may have failed. Check resulting frequency spectrum for unexpected results.\n",
      "WARNING:Numerics:Extrapolation may have failed. Check resulting frequency spectrum for unexpected results.\n",
      "WARNING:Numerics:Extrapolation may have failed. Check resulting frequency spectrum for unexpected results.\n",
      "WARNING:Numerics:Extrapolation may have failed. Check resulting frequency spectrum for unexpected results.\n"
     ]
    },
    {
     "name": "stdout",
     "output_type": "stream",
     "text": [
      "\t\t\tOptimized parameters =[9.325969, 0.855118, 2.875985, 2.949258, 0.195016, 6.837115, 0.790407, 2.700205]\n",
      "\n"
     ]
    },
    {
     "name": "stderr",
     "output_type": "stream",
     "text": [
      "WARNING:Numerics:Extrapolation may have failed. Check resulting frequency spectrum for unexpected results.\n"
     ]
    },
    {
     "name": "stdout",
     "output_type": "stream",
     "text": [
      "\t\t\tLikelihood = -157,572.48\n",
      "\t\t\tAIC = 315,160.96\n",
      "\t\t\tTheta = 19,098.54\n",
      "\t\t\tChi-Squared = 287,960.94\n",
      "\n",
      "\t\t\tReplicate time: 0:10:50.702391 (H:M:S)\n",
      "\n",
      "\n",
      "\t\tRound 2 Replicate 2 of 20:\n",
      "\n",
      "\t\t\tStarting parameters = [4.777429, 0.500664, 7.186287, 4.923472, 1.835087, 2.829993, 0.731648, 3.590399]\n"
     ]
    },
    {
     "name": "stderr",
     "output_type": "stream",
     "text": [
      "WARNING:Numerics:Extrapolation may have failed. Check resulting frequency spectrum for unexpected results.\n",
      "WARNING:Numerics:Extrapolation may have failed. Check resulting frequency spectrum for unexpected results.\n",
      "WARNING:Numerics:Extrapolation may have failed. Check resulting frequency spectrum for unexpected results.\n",
      "WARNING:Numerics:Extrapolation may have failed. Check resulting frequency spectrum for unexpected results.\n",
      "WARNING:Numerics:Extrapolation may have failed. Check resulting frequency spectrum for unexpected results.\n",
      "WARNING:Numerics:Extrapolation may have failed. Check resulting frequency spectrum for unexpected results.\n",
      "WARNING:Numerics:Extrapolation may have failed. Check resulting frequency spectrum for unexpected results.\n",
      "WARNING:Numerics:Extrapolation may have failed. Check resulting frequency spectrum for unexpected results.\n",
      "WARNING:Numerics:Extrapolation may have failed. Check resulting frequency spectrum for unexpected results.\n",
      "WARNING:Numerics:Extrapolation may have failed. Check resulting frequency spectrum for unexpected results.\n",
      "WARNING:Numerics:Extrapolation may have failed. Check resulting frequency spectrum for unexpected results.\n",
      "WARNING:Numerics:Extrapolation may have failed. Check resulting frequency spectrum for unexpected results.\n",
      "WARNING:Numerics:Extrapolation may have failed. Check resulting frequency spectrum for unexpected results.\n"
     ]
    },
    {
     "name": "stdout",
     "output_type": "stream",
     "text": [
      "\t\t\tOptimized parameters =[4.777429, 0.500664, 7.186287, 5.331937, 1.835087, 2.829993, 0.731648, 3.590399]\n",
      "\n"
     ]
    },
    {
     "name": "stderr",
     "output_type": "stream",
     "text": [
      "WARNING:Numerics:Extrapolation may have failed. Check resulting frequency spectrum for unexpected results.\n"
     ]
    },
    {
     "name": "stdout",
     "output_type": "stream",
     "text": [
      "\t\t\tLikelihood = -124,257.46\n",
      "\t\t\tAIC = 248,530.92\n",
      "\t\t\tTheta = 8,547.84\n",
      "\t\t\tChi-Squared = 261,572.26\n",
      "\n",
      "\t\t\tReplicate time: 0:05:59.249339 (H:M:S)\n",
      "\n",
      "\n",
      "\t\tRound 2 Replicate 3 of 20:\n",
      "\n",
      "\t\t\tStarting parameters = [1.271421, 0.512004, 8.601092, 3.269889, 2.842623, 7.288305, 8.325787, 3.008412]\n"
     ]
    },
    {
     "name": "stderr",
     "output_type": "stream",
     "text": [
      "WARNING:Numerics:Extrapolation may have failed. Check resulting frequency spectrum for unexpected results.\n",
      "WARNING:Numerics:Extrapolation may have failed. Check resulting frequency spectrum for unexpected results.\n",
      "WARNING:Numerics:Extrapolation may have failed. Check resulting frequency spectrum for unexpected results.\n",
      "WARNING:Numerics:Extrapolation may have failed. Check resulting frequency spectrum for unexpected results.\n",
      "WARNING:Numerics:Extrapolation may have failed. Check resulting frequency spectrum for unexpected results.\n",
      "WARNING:Numerics:Extrapolation may have failed. Check resulting frequency spectrum for unexpected results.\n",
      "WARNING:Numerics:Extrapolation may have failed. Check resulting frequency spectrum for unexpected results.\n",
      "WARNING:Numerics:Extrapolation may have failed. Check resulting frequency spectrum for unexpected results.\n",
      "WARNING:Numerics:Extrapolation may have failed. Check resulting frequency spectrum for unexpected results.\n",
      "WARNING:Numerics:Extrapolation may have failed. Check resulting frequency spectrum for unexpected results.\n",
      "WARNING:Numerics:Extrapolation may have failed. Check resulting frequency spectrum for unexpected results.\n",
      "WARNING:Numerics:Extrapolation may have failed. Check resulting frequency spectrum for unexpected results.\n",
      "WARNING:Numerics:Extrapolation may have failed. Check resulting frequency spectrum for unexpected results.\n",
      "WARNING:Numerics:Extrapolation may have failed. Check resulting frequency spectrum for unexpected results.\n"
     ]
    },
    {
     "name": "stdout",
     "output_type": "stream",
     "text": [
      "\t\t\tOptimized parameters =[1.277158, 0.505617, 8.955225, 3.34334, 2.898855, 7.564858, 6.7357, 3.071186]\n",
      "\n"
     ]
    },
    {
     "name": "stderr",
     "output_type": "stream",
     "text": [
      "WARNING:Numerics:Extrapolation may have failed. Check resulting frequency spectrum for unexpected results.\n"
     ]
    },
    {
     "name": "stdout",
     "output_type": "stream",
     "text": [
      "\t\t\tLikelihood = -164,055.98\n",
      "\t\t\tAIC = 328,127.96\n",
      "\t\t\tTheta = 8,272.96\n",
      "\t\t\tChi-Squared = 388,699.43\n",
      "\n",
      "\t\t\tReplicate time: 0:15:25.483993 (H:M:S)\n",
      "\n",
      "\n",
      "\t\tRound 2 Replicate 4 of 20:\n",
      "\n",
      "\t\t\tStarting parameters = [9.119617, 0.373542, 8.488983, 2.428384, 0.329409, 9.176469, 8.953838, 3.814913]\n"
     ]
    },
    {
     "name": "stderr",
     "output_type": "stream",
     "text": [
      "WARNING:Numerics:Extrapolation may have failed. Check resulting frequency spectrum for unexpected results.\n",
      "WARNING:Numerics:Extrapolation may have failed. Check resulting frequency spectrum for unexpected results.\n",
      "WARNING:Numerics:Extrapolation may have failed. Check resulting frequency spectrum for unexpected results.\n",
      "WARNING:Numerics:Extrapolation may have failed. Check resulting frequency spectrum for unexpected results.\n",
      "WARNING:Numerics:Extrapolation may have failed. Check resulting frequency spectrum for unexpected results.\n",
      "WARNING:Numerics:Extrapolation may have failed. Check resulting frequency spectrum for unexpected results.\n",
      "WARNING:Numerics:Extrapolation may have failed. Check resulting frequency spectrum for unexpected results.\n",
      "WARNING:Numerics:Extrapolation may have failed. Check resulting frequency spectrum for unexpected results.\n",
      "WARNING:Numerics:Extrapolation may have failed. Check resulting frequency spectrum for unexpected results.\n",
      "WARNING:Numerics:Extrapolation may have failed. Check resulting frequency spectrum for unexpected results.\n",
      "WARNING:Numerics:Extrapolation may have failed. Check resulting frequency spectrum for unexpected results.\n",
      "WARNING:Numerics:Extrapolation may have failed. Check resulting frequency spectrum for unexpected results.\n",
      "WARNING:Numerics:Extrapolation may have failed. Check resulting frequency spectrum for unexpected results.\n",
      "WARNING:Numerics:Extrapolation may have failed. Check resulting frequency spectrum for unexpected results.\n"
     ]
    },
    {
     "name": "stdout",
     "output_type": "stream",
     "text": [
      "\t\t\tOptimized parameters =[9.505526, 0.366708, 8.836325, 2.469119, 0.322622, 9.565898, 7.191315, 3.911897]\n",
      "\n"
     ]
    },
    {
     "name": "stderr",
     "output_type": "stream",
     "text": [
      "WARNING:Numerics:Extrapolation may have failed. Check resulting frequency spectrum for unexpected results.\n"
     ]
    },
    {
     "name": "stdout",
     "output_type": "stream",
     "text": [
      "\t\t\tLikelihood = -209,446.56\n",
      "\t\t\tAIC = 418,909.12\n",
      "\t\t\tTheta = 8,297.55\n",
      "\t\t\tChi-Squared = 504,091.49\n",
      "\n",
      "\t\t\tReplicate time: 0:24:24.605658 (H:M:S)\n",
      "\n",
      "\n",
      "\t\tRound 2 Replicate 5 of 20:\n",
      "\n",
      "\t\t\tStarting parameters = [4.550021, 0.30866, 4.348544, 4.042117, 2.355414, 11.19331, 2.481783, 8.44462]\n"
     ]
    },
    {
     "name": "stderr",
     "output_type": "stream",
     "text": [
      "WARNING:Numerics:Extrapolation may have failed. Check resulting frequency spectrum for unexpected results.\n",
      "WARNING:Numerics:Extrapolation may have failed. Check resulting frequency spectrum for unexpected results.\n",
      "WARNING:Numerics:Extrapolation may have failed. Check resulting frequency spectrum for unexpected results.\n",
      "WARNING:Numerics:Extrapolation may have failed. Check resulting frequency spectrum for unexpected results.\n",
      "WARNING:Numerics:Extrapolation may have failed. Check resulting frequency spectrum for unexpected results.\n",
      "WARNING:Numerics:Extrapolation may have failed. Check resulting frequency spectrum for unexpected results.\n",
      "WARNING:Numerics:Extrapolation may have failed. Check resulting frequency spectrum for unexpected results.\n",
      "WARNING:Numerics:Extrapolation may have failed. Check resulting frequency spectrum for unexpected results.\n",
      "WARNING:Numerics:Extrapolation may have failed. Check resulting frequency spectrum for unexpected results.\n",
      "WARNING:Numerics:Extrapolation may have failed. Check resulting frequency spectrum for unexpected results.\n",
      "WARNING:Numerics:Extrapolation may have failed. Check resulting frequency spectrum for unexpected results.\n",
      "WARNING:Numerics:Extrapolation may have failed. Check resulting frequency spectrum for unexpected results.\n",
      "WARNING:Numerics:Extrapolation may have failed. Check resulting frequency spectrum for unexpected results.\n",
      "WARNING:Numerics:Extrapolation may have failed. Check resulting frequency spectrum for unexpected results.\n"
     ]
    },
    {
     "name": "stdout",
     "output_type": "stream",
     "text": [
      "\t\t\tOptimized parameters =[4.809618, 0.295655, 4.246763, 4.254256, 2.344209, 12.228482, 2.303257, 7.93294]\n",
      "\n"
     ]
    },
    {
     "name": "stderr",
     "output_type": "stream",
     "text": [
      "WARNING:Numerics:Extrapolation may have failed. Check resulting frequency spectrum for unexpected results.\n"
     ]
    },
    {
     "name": "stdout",
     "output_type": "stream",
     "text": [
      "\t\t\tLikelihood = -152,093.26\n",
      "\t\t\tAIC = 304,202.52\n",
      "\t\t\tTheta = 11,704.57\n",
      "\t\t\tChi-Squared = 284,213.3\n",
      "\n",
      "\t\t\tReplicate time: 0:56:15.965026 (H:M:S)\n",
      "\n",
      "\n",
      "\t\tRound 2 Replicate 6 of 20:\n",
      "\n",
      "\t\t\tStarting parameters = [5.097496, 0.73869, 3.026884, 3.540373, 1.156608, 4.653458, 2.769941, 2.617537]\n"
     ]
    },
    {
     "name": "stderr",
     "output_type": "stream",
     "text": [
      "WARNING:Numerics:Extrapolation may have failed. Check resulting frequency spectrum for unexpected results.\n",
      "WARNING:Numerics:Extrapolation may have failed. Check resulting frequency spectrum for unexpected results.\n",
      "WARNING:Numerics:Extrapolation may have failed. Check resulting frequency spectrum for unexpected results.\n",
      "WARNING:Numerics:Extrapolation may have failed. Check resulting frequency spectrum for unexpected results.\n",
      "WARNING:Numerics:Extrapolation may have failed. Check resulting frequency spectrum for unexpected results.\n",
      "WARNING:Numerics:Extrapolation may have failed. Check resulting frequency spectrum for unexpected results.\n",
      "WARNING:Numerics:Extrapolation may have failed. Check resulting frequency spectrum for unexpected results.\n",
      "WARNING:Numerics:Extrapolation may have failed. Check resulting frequency spectrum for unexpected results.\n",
      "WARNING:Numerics:Extrapolation may have failed. Check resulting frequency spectrum for unexpected results.\n",
      "WARNING:Numerics:Extrapolation may have failed. Check resulting frequency spectrum for unexpected results.\n",
      "WARNING:Numerics:Extrapolation may have failed. Check resulting frequency spectrum for unexpected results.\n",
      "WARNING:Numerics:Extrapolation may have failed. Check resulting frequency spectrum for unexpected results.\n",
      "WARNING:Numerics:Extrapolation may have failed. Check resulting frequency spectrum for unexpected results.\n",
      "WARNING:Numerics:Extrapolation may have failed. Check resulting frequency spectrum for unexpected results.\n"
     ]
    },
    {
     "name": "stdout",
     "output_type": "stream",
     "text": [
      "\t\t\tOptimized parameters =[5.051489, 0.730542, 3.152175, 3.708137, 1.162786, 4.923008, 2.688484, 2.577266]\n",
      "\n"
     ]
    },
    {
     "name": "stderr",
     "output_type": "stream",
     "text": [
      "WARNING:Numerics:Extrapolation may have failed. Check resulting frequency spectrum for unexpected results.\n"
     ]
    },
    {
     "name": "stdout",
     "output_type": "stream",
     "text": [
      "\t\t\tLikelihood = -163,615.51\n",
      "\t\t\tAIC = 327,247.02\n",
      "\t\t\tTheta = 14,173.5\n",
      "\t\t\tChi-Squared = 298,578.69\n",
      "\n",
      "\t\t\tReplicate time: 0:07:57.939693 (H:M:S)\n",
      "\n",
      "\n",
      "\t\tRound 2 Replicate 7 of 20:\n",
      "\n",
      "\t\t\tStarting parameters = [1.272054, 0.328845, 10.140264, 1.974664, 0.791809, 15.135371, 1.522696, 1.676852]\n"
     ]
    },
    {
     "name": "stderr",
     "output_type": "stream",
     "text": [
      "WARNING:Numerics:Extrapolation may have failed. Check resulting frequency spectrum for unexpected results.\n",
      "WARNING:Numerics:Extrapolation may have failed. Check resulting frequency spectrum for unexpected results.\n",
      "WARNING:Numerics:Extrapolation may have failed. Check resulting frequency spectrum for unexpected results.\n",
      "WARNING:Numerics:Extrapolation may have failed. Check resulting frequency spectrum for unexpected results.\n",
      "WARNING:Numerics:Extrapolation may have failed. Check resulting frequency spectrum for unexpected results.\n",
      "WARNING:Numerics:Extrapolation may have failed. Check resulting frequency spectrum for unexpected results.\n",
      "WARNING:Numerics:Extrapolation may have failed. Check resulting frequency spectrum for unexpected results.\n",
      "WARNING:Numerics:Extrapolation may have failed. Check resulting frequency spectrum for unexpected results.\n",
      "WARNING:Numerics:Extrapolation may have failed. Check resulting frequency spectrum for unexpected results.\n",
      "WARNING:Numerics:Extrapolation may have failed. Check resulting frequency spectrum for unexpected results.\n",
      "WARNING:Numerics:Extrapolation may have failed. Check resulting frequency spectrum for unexpected results.\n",
      "WARNING:Numerics:Extrapolation may have failed. Check resulting frequency spectrum for unexpected results.\n",
      "WARNING:Numerics:Extrapolation may have failed. Check resulting frequency spectrum for unexpected results.\n"
     ]
    },
    {
     "name": "stdout",
     "output_type": "stream",
     "text": [
      "\t\t\tOptimized parameters =[1.272054, 0.328845, 10.140264, 1.974664, 0.791809, 17.337749, 1.522696, 1.676852]\n",
      "\n"
     ]
    },
    {
     "name": "stderr",
     "output_type": "stream",
     "text": [
      "WARNING:Numerics:Extrapolation may have failed. Check resulting frequency spectrum for unexpected results.\n"
     ]
    },
    {
     "name": "stdout",
     "output_type": "stream",
     "text": [
      "\t\t\tLikelihood = -114,209.93\n",
      "\t\t\tAIC = 228,435.86\n",
      "\t\t\tTheta = 11,329.88\n",
      "\t\t\tChi-Squared = 303,375.28\n",
      "\n",
      "\t\t\tReplicate time: 0:14:51.235748 (H:M:S)\n",
      "\n",
      "\n",
      "\t\tRound 2 Replicate 8 of 20:\n",
      "\n",
      "\t\t\tStarting parameters = [8.303088, 0.927667, 8.27558, 9.846255, 0.726808, 14.804951, 7.198878, 1.643516]\n"
     ]
    },
    {
     "name": "stderr",
     "output_type": "stream",
     "text": [
      "WARNING:Numerics:Extrapolation may have failed. Check resulting frequency spectrum for unexpected results.\n",
      "WARNING:Numerics:Extrapolation may have failed. Check resulting frequency spectrum for unexpected results.\n",
      "WARNING:Numerics:Extrapolation may have failed. Check resulting frequency spectrum for unexpected results.\n",
      "WARNING:Numerics:Extrapolation may have failed. Check resulting frequency spectrum for unexpected results.\n",
      "WARNING:Numerics:Extrapolation may have failed. Check resulting frequency spectrum for unexpected results.\n",
      "WARNING:Numerics:Extrapolation may have failed. Check resulting frequency spectrum for unexpected results.\n",
      "WARNING:Numerics:Extrapolation may have failed. Check resulting frequency spectrum for unexpected results.\n",
      "WARNING:Numerics:Extrapolation may have failed. Check resulting frequency spectrum for unexpected results.\n",
      "WARNING:Numerics:Extrapolation may have failed. Check resulting frequency spectrum for unexpected results.\n",
      "WARNING:Numerics:Extrapolation may have failed. Check resulting frequency spectrum for unexpected results.\n",
      "WARNING:Numerics:Extrapolation may have failed. Check resulting frequency spectrum for unexpected results.\n",
      "WARNING:Numerics:Extrapolation may have failed. Check resulting frequency spectrum for unexpected results.\n",
      "WARNING:Numerics:Extrapolation may have failed. Check resulting frequency spectrum for unexpected results.\n",
      "WARNING:Numerics:Extrapolation may have failed. Check resulting frequency spectrum for unexpected results.\n"
     ]
    },
    {
     "name": "stdout",
     "output_type": "stream",
     "text": [
      "\t\t\tOptimized parameters =[8.639237, 0.926362, 8.61008, 10.277676, 0.722473, 11.307492, 7.470309, 1.658898]\n",
      "\n"
     ]
    },
    {
     "name": "stderr",
     "output_type": "stream",
     "text": [
      "WARNING:Numerics:Extrapolation may have failed. Check resulting frequency spectrum for unexpected results.\n"
     ]
    },
    {
     "name": "stdout",
     "output_type": "stream",
     "text": [
      "\t\t\tLikelihood = -106,513.92\n",
      "\t\t\tAIC = 213,043.84\n",
      "\t\t\tTheta = 7,508.75\n",
      "\t\t\tChi-Squared = 716,858.33\n",
      "\n",
      "\t\t\tReplicate time: 0:14:43.445962 (H:M:S)\n",
      "\n",
      "\n",
      "\t\tRound 2 Replicate 9 of 20:\n",
      "\n",
      "\t\t\tStarting parameters = [2.993745, 0.235074, 1.423362, 2.711487, 1.343562, 1.692739, 0.754042, 13.604272]\n"
     ]
    },
    {
     "name": "stderr",
     "output_type": "stream",
     "text": [
      "WARNING:Numerics:Extrapolation may have failed. Check resulting frequency spectrum for unexpected results.\n",
      "WARNING:Numerics:Extrapolation may have failed. Check resulting frequency spectrum for unexpected results.\n",
      "WARNING:Numerics:Extrapolation may have failed. Check resulting frequency spectrum for unexpected results.\n",
      "WARNING:Numerics:Extrapolation may have failed. Check resulting frequency spectrum for unexpected results.\n",
      "WARNING:Numerics:Extrapolation may have failed. Check resulting frequency spectrum for unexpected results.\n",
      "WARNING:Numerics:Extrapolation may have failed. Check resulting frequency spectrum for unexpected results.\n",
      "WARNING:Numerics:Extrapolation may have failed. Check resulting frequency spectrum for unexpected results.\n",
      "WARNING:Numerics:Extrapolation may have failed. Check resulting frequency spectrum for unexpected results.\n",
      "WARNING:Numerics:Extrapolation may have failed. Check resulting frequency spectrum for unexpected results.\n",
      "WARNING:Numerics:Extrapolation may have failed. Check resulting frequency spectrum for unexpected results.\n",
      "WARNING:Numerics:Extrapolation may have failed. Check resulting frequency spectrum for unexpected results.\n",
      "WARNING:Numerics:Extrapolation may have failed. Check resulting frequency spectrum for unexpected results.\n",
      "WARNING:Numerics:Extrapolation may have failed. Check resulting frequency spectrum for unexpected results.\n"
     ]
    },
    {
     "name": "stdout",
     "output_type": "stream",
     "text": [
      "\t\t\tOptimized parameters =[2.993745, 0.235074, 1.423362, 2.850151, 1.343562, 1.692739, 0.754042, 13.604272]\n",
      "\n"
     ]
    }
   ],
   "source": [
    "Optimize_Routine(fs_fw, pts, prefix, \"sec_contact_asym_mig_size\", Models_2D.sec_contact_asym_mig_size, rounds, 8, fs_folded=fs_folded,\n",
    "                                        reps=reps, maxiters=maxiters, folds=folds, param_labels = \"nu1a, nu2a, nu1b, nu2b, m12, m21, T1, T2\")"
   ]
  },
  {
   "cell_type": "markdown",
   "metadata": {},
   "source": [
    "--------------------------------------------\n",
    "Summarize"
   ]
  },
  {
   "cell_type": "code",
   "execution_count": 16,
   "metadata": {},
   "outputs": [
    {
     "name": "stdout",
     "output_type": "stream",
     "text": [
      "Directory changed\n"
     ]
    }
   ],
   "source": [
    "os.chdir(\"output_files/sec_contact/\") \n",
    "  \n",
    "print(\"Directory changed\") "
   ]
  },
  {
   "cell_type": "code",
   "execution_count": 17,
   "metadata": {},
   "outputs": [
    {
     "name": "stdout",
     "output_type": "stream",
     "text": [
      "\n",
      "\n",
      "Found 1 output files to summarize:\n",
      "\tGM_GW.sec_contact_asym_mig.optimized.txt\n",
      "\n",
      "Extracting contents from: GM_GW.sec_contact_asym_mig.optimized.txt\n",
      "\tFound 100 row entries.\n",
      "\tRemoved 1 row entries due to presence of 'nan' values or incomplete data.\n",
      "\n",
      "\n",
      "Summary files 'Results_Summary_Extended.txt' and 'Results_Summary_Short.txt' have been written to: \n",
      "\t../sec_contact/\n",
      "\n",
      "\n"
     ]
    }
   ],
   "source": [
    "'''\n",
    "usage: python Summarize_Outputs.py [full path to directory with results files]\n",
    "\n",
    "example: python Summarize_Outputs.py users/dan/moments_analyses/results/\n",
    "\n",
    "The purpose of this script is to make sense of the results files\n",
    "that are produced after optimizations have been run on multiple\n",
    "models, as there will be an output file for every model included\n",
    "that is filled with many replicates across several rounds.\n",
    "\n",
    "Two summary files will be produced:\n",
    "1. Results_Summary_Extended.txt\n",
    "    This contains the top five replicates for each results file, with all the information\n",
    "    including: \"Model\"\t\"Replicate\"\t\"log-likelihood\"\t\"AIC\"\t\"chi-squared\"\t\"theta\"\t\"optimized_params\"\n",
    "\n",
    "2. Results_Summary_Short.txt\n",
    "    This is essentially a simplified version of the above file, and only contains the\n",
    "    top scoring replicate per model and it is already sorted in order of AIC.\n",
    "\n",
    "You should probably inspect that the top-scoring replicates were ERROR-FREE. \n",
    "Often errors are logged on screen and log-likelihoods are still produced.\n",
    "\n",
    "-------------------------\n",
    "Written for Python 2.7 and 3.7\n",
    "No dependencies\n",
    "-------------------------\n",
    "\n",
    "Daniel Portik\n",
    "daniel.portik@gmail.com\n",
    "https://github.com/dportik\n",
    "Updated September 2019\n",
    "'''\n",
    "\n",
    "#===========================================================================\n",
    "file_dir = \"../sec_contact/\"\n",
    "os.chdir(file_dir)\n",
    "\n",
    "#check if summary files already exist in output directory\n",
    "results = sorted([os.path.abspath(f) for f in os.listdir(file_dir) if f.startswith(\"Results_Summary\")])\n",
    "if results:\n",
    "    raise ValueError(\"\\n\\n\\nWARNING: Summary files are already located in the directory specified.\"\n",
    "                         \" Please remove them before running this script.\\n\\n\")\n",
    "    \n",
    "\n",
    "#initiate empty lists that we will fill with summary information\n",
    "summary_list = []\n",
    "simple_list = []\n",
    "\n",
    "#list comprehension to find output files\n",
    "flist = sorted([os.path.abspath(f) for f in os.listdir(file_dir) if f.endswith(\"optimized.txt\")])\n",
    "\n",
    "#do tasks depending on whether files located or not\n",
    "if flist:\n",
    "    print(\"\\n\\nFound {} output files to summarize:\".format(len(flist)))\n",
    "    for f in flist:\n",
    "        print(\"\\t{}\".format(f.split('/')[-1]))\n",
    "else:\n",
    "    print(\"\\n\\nFound {} output files to summarize!\\n\\n\".format(len(flist)))\n",
    "    print(\"Please check to make sure the output files end with '.optimized.txt' and are\"\n",
    "              \"located in the directory specified:\\n\\t{}\".format(file_dir))\n",
    "\n",
    "#iterate over output files\n",
    "for f in flist:\n",
    "    print(\"\\nExtracting contents from: {}\".format(f.split('/')[-1]))\n",
    "    #content list items will have order: \"Model\"\t\"Replicate\"\t\"log-likelihood\"\t\"AIC\"\t\"chi-squared\"\t\"theta\"\t\"optimized_params(xxx)\"\n",
    "    with open(f, 'r') as fh:\n",
    "        lines = [line.strip().split('\\t') for line in fh if not line.startswith(\"Model\")]\n",
    "    #strict filtering: sublists must have 7 elements and not contain any \"nan\" entries\n",
    "    content = [l for l in lines if len(l) == 7 and \"nan\" not in l]\n",
    "    if len(lines) == len(content):\n",
    "        print(\"\\tFound {} total replicates.\".format(len(lines)))\n",
    "    else:\n",
    "        print(\"\\tFound {} row entries.\".format(len(lines)))\n",
    "        print(\"\\tRemoved {} row entries due to presence of 'nan' values or incomplete data.\".format(len(lines)-len(content)))\n",
    "        \n",
    "    #let's sort all the rows by AIC, lowest to highest\n",
    "    content.sort(key=lambda x: float(x[3]))\n",
    "        \n",
    "    #add top five entries to summary list\n",
    "    for i in content[:5]:\n",
    "        summary_list.append(i)\n",
    "        \n",
    "    #add top entry to easy list\n",
    "    simple_list.append(content[0])\n",
    "   \n",
    "#make sure results are actually in lists\n",
    "if simple_list and summary_list:\n",
    "    \n",
    "    #sort the list containing only the top entry for each model by order of AIC\n",
    "    simple_list.sort(key=lambda x: float(x[3]))\n",
    "\n",
    "    #create output file 1\n",
    "    out1 = \"Results_Summary_Extended.txt\"\n",
    "    with open(out1, 'a') as fh:\n",
    "        #write tab-delimited file with extended results\n",
    "        fh.write(\"Model\\tReplicate\\tlog-likelihood\\tAIC\\tchi-squared\\ttheta\\toptimized_params\\n\")\n",
    "        for row in summary_list:\n",
    "            for val in row:\n",
    "                fh.write(\"{}\\t\".format(val))\n",
    "            fh.write(\"\\n\")\n",
    "\n",
    "    #create output file 2\n",
    "    out2 = \"Results_Summary_Short.txt\"\n",
    "    with open(out2, 'a') as fh:\n",
    "        #write tab-delimited file with simplified results\n",
    "        fh.write(\"Model\\tReplicate\\tlog-likelihood\\tAIC\\tchi-squared\\ttheta\\toptimized_params\\n\")\n",
    "        for row in simple_list:\n",
    "            for val in row:\n",
    "                fh.write(\"{}\\t\".format(val))\n",
    "            fh.write(\"\\n\")\n",
    "\n",
    "    print(\"\\n\\nSummary files '{0}' and '{1}' have been written to: \\n\\t{2}\\n\\n\".format(out1, out2, file_dir))\n",
    "\n",
    "else:\n",
    "    print(\"\\n\\nNo results were written!\\n\\n\")\n"
   ]
  },
  {
   "cell_type": "code",
   "execution_count": 18,
   "metadata": {},
   "outputs": [
    {
     "data": {
      "text/html": [
       "<div>\n",
       "<style scoped>\n",
       "    .dataframe tbody tr th:only-of-type {\n",
       "        vertical-align: middle;\n",
       "    }\n",
       "\n",
       "    .dataframe tbody tr th {\n",
       "        vertical-align: top;\n",
       "    }\n",
       "\n",
       "    .dataframe thead th {\n",
       "        text-align: right;\n",
       "    }\n",
       "</style>\n",
       "<table border=\"1\" class=\"dataframe\">\n",
       "  <thead>\n",
       "    <tr style=\"text-align: right;\">\n",
       "      <th></th>\n",
       "      <th>Model</th>\n",
       "      <th>Replicate</th>\n",
       "      <th>log-likelihood</th>\n",
       "      <th>AIC</th>\n",
       "      <th>chi-squared</th>\n",
       "      <th>theta</th>\n",
       "      <th>optimized_params</th>\n",
       "    </tr>\n",
       "  </thead>\n",
       "  <tbody>\n",
       "    <tr>\n",
       "      <th>sec_contact_asym_mig</th>\n",
       "      <td>Round_4_Replicate_17</td>\n",
       "      <td>-21780.01</td>\n",
       "      <td>43572.02</td>\n",
       "      <td>40129.46</td>\n",
       "      <td>8739.95</td>\n",
       "      <td>1.1258,21.2238,28.2526,0.5488,0.9698,0.2225</td>\n",
       "      <td>NaN</td>\n",
       "    </tr>\n",
       "    <tr>\n",
       "      <th>sec_contact_asym_mig</th>\n",
       "      <td>Round_4_Replicate_12</td>\n",
       "      <td>-21815.91</td>\n",
       "      <td>43643.82</td>\n",
       "      <td>42539.42</td>\n",
       "      <td>9237.27</td>\n",
       "      <td>1.425,19.8704,23.6051,0.3832,0.7827,0.3152</td>\n",
       "      <td>NaN</td>\n",
       "    </tr>\n",
       "    <tr>\n",
       "      <th>sec_contact_asym_mig</th>\n",
       "      <td>Round_4_Replicate_37</td>\n",
       "      <td>-22109.71</td>\n",
       "      <td>44231.42</td>\n",
       "      <td>48496.79</td>\n",
       "      <td>7444.41</td>\n",
       "      <td>1.5311,24.2985,22.1332,0.3457,1.1208,0.358</td>\n",
       "      <td>NaN</td>\n",
       "    </tr>\n",
       "    <tr>\n",
       "      <th>sec_contact_asym_mig</th>\n",
       "      <td>Round_4_Replicate_1</td>\n",
       "      <td>-22256.82</td>\n",
       "      <td>44525.64</td>\n",
       "      <td>46714.29</td>\n",
       "      <td>7301.60</td>\n",
       "      <td>1.4518,24.084,23.1261,0.2603,1.3692,0.2218</td>\n",
       "      <td>NaN</td>\n",
       "    </tr>\n",
       "    <tr>\n",
       "      <th>sec_contact_asym_mig</th>\n",
       "      <td>Round_4_Replicate_25</td>\n",
       "      <td>-22353.98</td>\n",
       "      <td>44719.96</td>\n",
       "      <td>43353.15</td>\n",
       "      <td>8547.80</td>\n",
       "      <td>1.9233,21.2819,17.32,0.1985,0.8415,0.3525</td>\n",
       "      <td>NaN</td>\n",
       "    </tr>\n",
       "  </tbody>\n",
       "</table>\n",
       "</div>"
      ],
      "text/plain": [
       "                                     Model  Replicate  log-likelihood  \\\n",
       "sec_contact_asym_mig  Round_4_Replicate_17  -21780.01        43572.02   \n",
       "sec_contact_asym_mig  Round_4_Replicate_12  -21815.91        43643.82   \n",
       "sec_contact_asym_mig  Round_4_Replicate_37  -22109.71        44231.42   \n",
       "sec_contact_asym_mig   Round_4_Replicate_1  -22256.82        44525.64   \n",
       "sec_contact_asym_mig  Round_4_Replicate_25  -22353.98        44719.96   \n",
       "\n",
       "                           AIC  chi-squared  \\\n",
       "sec_contact_asym_mig  40129.46      8739.95   \n",
       "sec_contact_asym_mig  42539.42      9237.27   \n",
       "sec_contact_asym_mig  48496.79      7444.41   \n",
       "sec_contact_asym_mig  46714.29      7301.60   \n",
       "sec_contact_asym_mig  43353.15      8547.80   \n",
       "\n",
       "                                                            theta  \\\n",
       "sec_contact_asym_mig  1.1258,21.2238,28.2526,0.5488,0.9698,0.2225   \n",
       "sec_contact_asym_mig   1.425,19.8704,23.6051,0.3832,0.7827,0.3152   \n",
       "sec_contact_asym_mig   1.5311,24.2985,22.1332,0.3457,1.1208,0.358   \n",
       "sec_contact_asym_mig   1.4518,24.084,23.1261,0.2603,1.3692,0.2218   \n",
       "sec_contact_asym_mig    1.9233,21.2819,17.32,0.1985,0.8415,0.3525   \n",
       "\n",
       "                      optimized_params  \n",
       "sec_contact_asym_mig               NaN  \n",
       "sec_contact_asym_mig               NaN  \n",
       "sec_contact_asym_mig               NaN  \n",
       "sec_contact_asym_mig               NaN  \n",
       "sec_contact_asym_mig               NaN  "
      ]
     },
     "execution_count": 18,
     "metadata": {},
     "output_type": "execute_result"
    }
   ],
   "source": [
    "pd.read_csv(\"Results_Summary_Extended.txt\", sep = \"\\t\")"
   ]
  },
  {
   "cell_type": "code",
   "execution_count": 19,
   "metadata": {},
   "outputs": [
    {
     "data": {
      "text/html": [
       "<div>\n",
       "<style scoped>\n",
       "    .dataframe tbody tr th:only-of-type {\n",
       "        vertical-align: middle;\n",
       "    }\n",
       "\n",
       "    .dataframe tbody tr th {\n",
       "        vertical-align: top;\n",
       "    }\n",
       "\n",
       "    .dataframe thead th {\n",
       "        text-align: right;\n",
       "    }\n",
       "</style>\n",
       "<table border=\"1\" class=\"dataframe\">\n",
       "  <thead>\n",
       "    <tr style=\"text-align: right;\">\n",
       "      <th></th>\n",
       "      <th>Model</th>\n",
       "      <th>Replicate</th>\n",
       "      <th>log-likelihood</th>\n",
       "      <th>AIC</th>\n",
       "      <th>chi-squared</th>\n",
       "      <th>theta</th>\n",
       "      <th>optimized_params</th>\n",
       "    </tr>\n",
       "  </thead>\n",
       "  <tbody>\n",
       "    <tr>\n",
       "      <th>sec_contact_asym_mig</th>\n",
       "      <td>Round_4_Replicate_17</td>\n",
       "      <td>-21780.01</td>\n",
       "      <td>43572.02</td>\n",
       "      <td>40129.46</td>\n",
       "      <td>8739.95</td>\n",
       "      <td>1.1258,21.2238,28.2526,0.5488,0.9698,0.2225</td>\n",
       "      <td>NaN</td>\n",
       "    </tr>\n",
       "  </tbody>\n",
       "</table>\n",
       "</div>"
      ],
      "text/plain": [
       "                                     Model  Replicate  log-likelihood  \\\n",
       "sec_contact_asym_mig  Round_4_Replicate_17  -21780.01        43572.02   \n",
       "\n",
       "                           AIC  chi-squared  \\\n",
       "sec_contact_asym_mig  40129.46      8739.95   \n",
       "\n",
       "                                                            theta  \\\n",
       "sec_contact_asym_mig  1.1258,21.2238,28.2526,0.5488,0.9698,0.2225   \n",
       "\n",
       "                      optimized_params  \n",
       "sec_contact_asym_mig               NaN  "
      ]
     },
     "execution_count": 19,
     "metadata": {},
     "output_type": "execute_result"
    }
   ],
   "source": [
    "pd.read_csv(\"Results_Summary_Short.txt\", sep = \"\\t\")"
   ]
  },
  {
   "cell_type": "markdown",
   "metadata": {},
   "source": [
    "----------------------------\n",
    "Plotting model"
   ]
  },
  {
   "cell_type": "code",
   "execution_count": 20,
   "metadata": {},
   "outputs": [],
   "source": [
    "file_dir = '../../'\n",
    "os.chdir(file_dir)"
   ]
  },
  {
   "cell_type": "code",
   "execution_count": 21,
   "metadata": {},
   "outputs": [],
   "source": [
    "import Plotting_Functions"
   ]
  },
  {
   "cell_type": "code",
   "execution_count": 22,
   "metadata": {},
   "outputs": [],
   "source": [
    "def sec_contact_asym_mig(params, ns, pts):\n",
    "    \"\"\"\n",
    "    Split with no gene flow, followed by period of asymmetrical gene flow.\n",
    "\n",
    "    nu1: Size of population 1 after split.\n",
    "    nu2: Size of population 2 after split.\n",
    "    m12: Migration from pop 2 to pop 1 (2*Na*m12).\n",
    "    m21: Migration from pop 1 to pop 2.\n",
    "    T1: The scaled time between the split and the secondary contact (in units of 2*Na generations).\n",
    "    T2: The scaled time between the secondary contact and present.\n",
    "    \"\"\"\n",
    "    nu1, nu2, m12, m21, T1, T2 = params\n",
    "\n",
    "    xx = Numerics.default_grid(pts)\n",
    "    \n",
    "    phi = PhiManip.phi_1D(xx)\n",
    "    phi = PhiManip.phi_1D_to_2D(xx, phi)\n",
    "\n",
    "    phi = Integration.two_pops(phi, xx, T1, nu1, nu2, m12=0, m21=0)\n",
    "\n",
    "    phi = Integration.two_pops(phi, xx, T2, nu1, nu2, m12=m12, m21=m21)\n",
    "\n",
    "    fs = Spectrum.from_phi(phi, ns, (xx,xx))\n",
    "    return fs"
   ]
  },
  {
   "cell_type": "code",
   "execution_count": 24,
   "metadata": {},
   "outputs": [
    {
     "name": "stdout",
     "output_type": "stream",
     "text": [
      "============================================================================\n",
      "Fitting model 'sec_contact_asym_mig' to empirical data...\n",
      "============================================================================\n",
      "\n",
      "Input parameters = [1.1258, 21.2238, 28.2526, 0.5488, 0.9698, 0.2225]\n",
      "\n"
     ]
    },
    {
     "name": "stderr",
     "output_type": "stream",
     "text": [
      "WARNING:Numerics:Extrapolation may have failed. Check resulting frequency spectrum for unexpected results.\n"
     ]
    },
    {
     "name": "stdout",
     "output_type": "stream",
     "text": [
      "\t\t\tLikelihood = -21,780.15\n",
      "\t\t\tAIC = 43,572.3\n",
      "\t\t\tTheta = 8,739.99\n",
      "\t\t\tChi-Squared = 40,132.46\n",
      "\n",
      "============================================================================\n",
      "Creating plots\n",
      "============================================================================\n",
      "\n"
     ]
    }
   ],
   "source": [
    "emp_params = [1.1258,21.2238,28.2526,0.5488,0.9698,0.2225]\n",
    "\n",
    "#**************\n",
    "#Fit the model using these parameters and return the model SFS.\n",
    "model_fit = Plotting_Functions.Fit_Empirical(fs_fw, pts, prefix, \"sec_contact_asym_mig\", sec_contact_asym_mig, emp_params, fs_folded=False)"
   ]
  },
  {
   "cell_type": "code",
   "execution_count": 25,
   "metadata": {},
   "outputs": [],
   "source": [
    "def Plot_2d(fs, model_fit, model_name, outfile, vmin_val=None):\n",
    "    #Routine for plotting with 2D jsfs\n",
    "    fig = pylab.figure(num = 1, figsize = (15,10))\n",
    "    fig.clear()\n",
    "    if vmin_val is None:\n",
    "        dadi.Plotting.plot_2d_comp_multinom(model_fit, fs, resid_range = 3)\n",
    "    else:\n",
    "        dadi.Plotting.plot_2d_comp_multinom(model_fit, fs, resid_range = 3, vmin = vmin_val)\n",
    "    print('\\nPlotting {0}_{1}.pdf'.format(outfile, model_name))\n",
    "    print(\"\\nNOTE - CLOSE PLOT TO ADVANCE.\")\n",
    "    outname = '{0}_{1}.pdf'.format(outfile, model_name)\n",
    "    fig.savefig(outname)"
   ]
  },
  {
   "cell_type": "code",
   "execution_count": 27,
   "metadata": {},
   "outputs": [
    {
     "name": "stderr",
     "output_type": "stream",
     "text": [
      "WARNING:matplotlib.font_manager:findfont: Font family ['arial'] not found. Falling back to DejaVu Sans.\n"
     ]
    },
    {
     "data": {
      "image/png": "[encoded data removed]",
      "text/plain": [
       "<Figure size 1080x720 with 6 Axes>"
      ]
     },
     "metadata": {
      "needs_background": "light"
     },
     "output_type": "display_data"
    },
    {
     "name": "stdout",
     "output_type": "stream",
     "text": [
      "\n",
      "Plotting sec_contact_asym_mig_GM_GW.pdf\n",
      "\n",
      "NOTE - CLOSE PLOT TO ADVANCE.\n"
     ]
    }
   ],
   "source": [
    "Plot_2d(fs_fw, model_fit, prefix, \"sec_contact_asym_mig\", vmin_val=0.0001)"
   ]
  },
  {
   "cell_type": "code",
   "execution_count": null,
   "metadata": {},
   "outputs": [],
   "source": []
  }
 ],
 "metadata": {
  "kernelspec": {
   "display_name": "Python [conda env:root] *",
   "language": "python",
   "name": "conda-root-py"
  },
  "language_info": {
   "codemirror_mode": {
    "name": "ipython",
    "version": 3
   },
   "file_extension": ".py",
   "mimetype": "text/x-python",
   "name": "python",
   "nbconvert_exporter": "python",
   "pygments_lexer": "ipython3",
   "version": "3.6.7"
  }
 },
 "nbformat": 4,
 "nbformat_minor": 4
}
