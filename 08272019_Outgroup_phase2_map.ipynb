{
 "cells": [
  {
   "cell_type": "markdown",
   "metadata": {},
   "source": [
    "# Loading Modules"
   ]
  },
  {
   "cell_type": "code",
   "execution_count": 1,
   "metadata": {},
   "outputs": [],
   "source": [
    "import gcsfs #module for google cloud connection\n",
    "import os\n",
    "import allel\n",
    "import zarr\n",
    "import pandas as pd\n",
    "import numpy as np\n",
    "from matplotlib import pyplot\n",
    "import seaborn as sns\n",
    "import h5py"
   ]
  },
  {
   "cell_type": "markdown",
   "metadata": {},
   "source": [
    "Phase1 and Phase2 are different, either the outgroup alleles are different from phase2. They're based on phase 1 pass and REF and ALT alleles are different on the 2 phases. \n",
    "So the 1st step is find the positions shared from phase1 and phase2. After do that, apply these positions to phase2. Then map outgroup chromosomes."
   ]
  },
  {
   "cell_type": "markdown",
   "metadata": {},
   "source": [
    "### Loading datasets of phase1 and phase2"
   ]
  },
  {
   "cell_type": "code",
   "execution_count": 2,
   "metadata": {},
   "outputs": [],
   "source": [
    "gcs_orig = gcsfs.GCSFileSystem(project='malariagen-jupyterhub', token='cache')\n",
    "gcs =  gcsfs.GCSFileSystem(project='malariagen-jupyterhub', token=gcs_orig.session.credentials)"
   ]
  },
  {
   "cell_type": "code",
   "execution_count": 3,
   "metadata": {},
   "outputs": [],
   "source": [
    "#phase2path = os.path.join(\"ag1000g-release\", \"phase2.AR1\", \"variation\", \"main\", \"zarr\", \"pass\", \"ag1000g.phase2.ar1.pass\")\n",
    "phase2path = os.path.join(\"ag1000g-release\", \"phase2.AR1\", \"variation\", \"main\", \"zarr\", \"biallelic\", \"ag1000g.phase2.ar1.pass.biallelic\")"
   ]
  },
  {
   "cell_type": "code",
   "execution_count": 4,
   "metadata": {},
   "outputs": [],
   "source": [
    "gcsmap2 = gcsfs.mapping.GCSMap(phase2path, gcs=gcs)"
   ]
  },
  {
   "cell_type": "code",
   "execution_count": 5,
   "metadata": {},
   "outputs": [],
   "source": [
    "calldata_phase2= zarr.Group(gcsmap2, read_only=True)"
   ]
  },
  {
   "cell_type": "code",
   "execution_count": 6,
   "metadata": {},
   "outputs": [],
   "source": [
    "phase1path = os.path.join(\"ag1000g-release\", \"phase1.AR3\", \"variation\", \"main\", \"zarr\", \"ag1000g.phase1.ar3.pass\")"
   ]
  },
  {
   "cell_type": "code",
   "execution_count": 7,
   "metadata": {},
   "outputs": [],
   "source": [
    "gcsmap1 = gcsfs.mapping.GCSMap(phase1path, gcs=gcs)"
   ]
  },
  {
   "cell_type": "code",
   "execution_count": 8,
   "metadata": {},
   "outputs": [],
   "source": [
    "calldata_phase1= zarr.Group(gcsmap1, read_only=True)"
   ]
  },
  {
   "cell_type": "markdown",
   "metadata": {},
   "source": [
    "-----------------------------------------------------"
   ]
  },
  {
   "cell_type": "markdown",
   "metadata": {},
   "source": [
    "### Loading positions"
   ]
  },
  {
   "cell_type": "code",
   "execution_count": 9,
   "metadata": {},
   "outputs": [
    {
     "data": {
      "text/html": [
       "<div class=\"allel allel-DisplayAs1D\"><span>&lt;SortedIndex shape=(10377280,) dtype=int32&gt;</span><table><thead><tr><th style=\"text-align: center\">0</th><th style=\"text-align: center\">1</th><th style=\"text-align: center\">2</th><th style=\"text-align: center\">3</th><th style=\"text-align: center\">4</th><th style=\"text-align: center\">...</th><th style=\"text-align: center\">10377275</th><th style=\"text-align: center\">10377276</th><th style=\"text-align: center\">10377277</th><th style=\"text-align: center\">10377278</th><th style=\"text-align: center\">10377279</th></tr></thead><tbody><tr><td style=\"text-align: center\">44688</td><td style=\"text-align: center\">44691</td><td style=\"text-align: center\">44732</td><td style=\"text-align: center\">44736</td><td style=\"text-align: center\">44756</td><td style=\"text-align: center\">...</td><td style=\"text-align: center\">49356424</td><td style=\"text-align: center\">49356425</td><td style=\"text-align: center\">49356426</td><td style=\"text-align: center\">49356429</td><td style=\"text-align: center\">49356435</td></tr></tbody></table></div>"
      ],
      "text/plain": [
       "<SortedIndex shape=(10377280,) dtype=int32>\n",
       "[44688, 44691, 44732, 44736, 44756, ..., 49356424, 49356425, 49356426, 49356429, 49356435]"
      ]
     },
     "execution_count": 9,
     "metadata": {},
     "output_type": "execute_result"
    }
   ],
   "source": [
    "pos_phase1 = allel.SortedIndex(calldata_phase1[\"2L\"][\"variants/POS\"][:])\n",
    "pos_phase1"
   ]
  },
  {
   "cell_type": "code",
   "execution_count": 10,
   "metadata": {},
   "outputs": [
    {
     "data": {
      "text/html": [
       "<div class=\"allel allel-DisplayAs1D\"><span>&lt;SortedIndex shape=(8906423,) dtype=int32&gt;</span><table><thead><tr><th style=\"text-align: center\">0</th><th style=\"text-align: center\">1</th><th style=\"text-align: center\">2</th><th style=\"text-align: center\">3</th><th style=\"text-align: center\">4</th><th style=\"text-align: center\">...</th><th style=\"text-align: center\">8906418</th><th style=\"text-align: center\">8906419</th><th style=\"text-align: center\">8906420</th><th style=\"text-align: center\">8906421</th><th style=\"text-align: center\">8906422</th></tr></thead><tbody><tr><td style=\"text-align: center\">25050</td><td style=\"text-align: center\">51212</td><td style=\"text-align: center\">51214</td><td style=\"text-align: center\">51226</td><td style=\"text-align: center\">51245</td><td style=\"text-align: center\">...</td><td style=\"text-align: center\">49356421</td><td style=\"text-align: center\">49356424</td><td style=\"text-align: center\">49356425</td><td style=\"text-align: center\">49356426</td><td style=\"text-align: center\">49356429</td></tr></tbody></table></div>"
      ],
      "text/plain": [
       "<SortedIndex shape=(8906423,) dtype=int32>\n",
       "[25050, 51212, 51214, 51226, 51245, ..., 49356421, 49356424, 49356425, 49356426, 49356429]"
      ]
     },
     "execution_count": 10,
     "metadata": {},
     "output_type": "execute_result"
    }
   ],
   "source": [
    "pos_phase2 = allel.SortedIndex(calldata_phase2[\"2L\"][\"variants/POS\"])\n",
    "pos_phase2"
   ]
  },
  {
   "cell_type": "markdown",
   "metadata": {},
   "source": [
    "Now I have to take only phase1 positions in phase2"
   ]
  },
  {
   "cell_type": "code",
   "execution_count": 11,
   "metadata": {},
   "outputs": [
    {
     "data": {
      "text/plain": [
       "(array([False,  True,  True, ...,  True,  True,  True]),\n",
       " array([False, False, False, ...,  True,  True, False]))"
      ]
     },
     "execution_count": 11,
     "metadata": {},
     "output_type": "execute_result"
    }
   ],
   "source": [
    "loc1, loc2 = pos_phase2.locate_intersection(pos_phase1)\n",
    "loc1, loc2"
   ]
  },
  {
   "cell_type": "code",
   "execution_count": 12,
   "metadata": {},
   "outputs": [
    {
     "data": {
      "text/html": [
       "<div class=\"allel allel-DisplayAs1D\"><span>&lt;SortedIndex shape=(7635924,) dtype=int32&gt;</span><table><thead><tr><th style=\"text-align: center\">0</th><th style=\"text-align: center\">1</th><th style=\"text-align: center\">2</th><th style=\"text-align: center\">3</th><th style=\"text-align: center\">4</th><th style=\"text-align: center\">...</th><th style=\"text-align: center\">7635919</th><th style=\"text-align: center\">7635920</th><th style=\"text-align: center\">7635921</th><th style=\"text-align: center\">7635922</th><th style=\"text-align: center\">7635923</th></tr></thead><tbody><tr><td style=\"text-align: center\">51212</td><td style=\"text-align: center\">51214</td><td style=\"text-align: center\">51226</td><td style=\"text-align: center\">51245</td><td style=\"text-align: center\">51251</td><td style=\"text-align: center\">...</td><td style=\"text-align: center\">49356421</td><td style=\"text-align: center\">49356424</td><td style=\"text-align: center\">49356425</td><td style=\"text-align: center\">49356426</td><td style=\"text-align: center\">49356429</td></tr></tbody></table></div>"
      ],
      "text/plain": [
       "<SortedIndex shape=(7635924,) dtype=int32>\n",
       "[51212, 51214, 51226, 51245, 51251, ..., 49356421, 49356424, 49356425, 49356426, 49356429]"
      ]
     },
     "execution_count": 12,
     "metadata": {},
     "output_type": "execute_result"
    }
   ],
   "source": [
    "pos_p2_sel = pos_phase2[loc1]\n",
    "pos_p2_sel"
   ]
  },
  {
   "cell_type": "code",
   "execution_count": 13,
   "metadata": {},
   "outputs": [
    {
     "data": {
      "text/html": [
       "<div class=\"allel allel-DisplayAs1D\"><span>&lt;SortedIndex shape=(7635924,) dtype=int32&gt;</span><table><thead><tr><th style=\"text-align: center\">0</th><th style=\"text-align: center\">1</th><th style=\"text-align: center\">2</th><th style=\"text-align: center\">3</th><th style=\"text-align: center\">4</th><th style=\"text-align: center\">...</th><th style=\"text-align: center\">7635919</th><th style=\"text-align: center\">7635920</th><th style=\"text-align: center\">7635921</th><th style=\"text-align: center\">7635922</th><th style=\"text-align: center\">7635923</th></tr></thead><tbody><tr><td style=\"text-align: center\">51212</td><td style=\"text-align: center\">51214</td><td style=\"text-align: center\">51226</td><td style=\"text-align: center\">51245</td><td style=\"text-align: center\">51251</td><td style=\"text-align: center\">...</td><td style=\"text-align: center\">49356421</td><td style=\"text-align: center\">49356424</td><td style=\"text-align: center\">49356425</td><td style=\"text-align: center\">49356426</td><td style=\"text-align: center\">49356429</td></tr></tbody></table></div>"
      ],
      "text/plain": [
       "<SortedIndex shape=(7635924,) dtype=int32>\n",
       "[51212, 51214, 51226, 51245, 51251, ..., 49356421, 49356424, 49356425, 49356426, 49356429]"
      ]
     },
     "execution_count": 13,
     "metadata": {},
     "output_type": "execute_result"
    }
   ],
   "source": [
    "pos_p1_sel = pos_phase1[loc2]\n",
    "pos_p1_sel"
   ]
  },
  {
   "cell_type": "markdown",
   "metadata": {},
   "source": [
    "------------------------------"
   ]
  },
  {
   "cell_type": "code",
   "execution_count": 14,
   "metadata": {},
   "outputs": [
    {
     "data": {
      "text/html": [
       "<div class=\"allel allel-DisplayAsTable\"><span>&lt;VariantChunkedTable shape=(10377280,) dtype=[('POS', '&lt;i4'), ('REF', 'S1'), ('ALT', 'S1', (3,)), ('DP', '&lt;i4'), ('MQ', '&lt;f4'), ('QD', '&lt;f4'), ('numalt', '&lt;i4')]\n",
       "   nbytes=237.5M cbytes=-7 cratio=-35579245.7\n",
       "   values=zarr.hierarchy.Group&gt;</span><table><thead><tr><th></th><th style=\"text-align: center\">POS</th><th style=\"text-align: center\">REF</th><th style=\"text-align: center\">ALT</th><th style=\"text-align: center\">DP</th><th style=\"text-align: center\">MQ</th><th style=\"text-align: center\">QD</th><th style=\"text-align: center\">numalt</th></tr></thead><tbody><tr><th style=\"text-align: center; background-color: white; border-right: 1px solid black; \">0</th><td style=\"text-align: center\">44688</td><td style=\"text-align: center\">b'C'</td><td style=\"text-align: center\">[b'T' b'' b'']</td><td style=\"text-align: center\">27446</td><td style=\"text-align: center\">48.74</td><td style=\"text-align: center\">7.0</td><td style=\"text-align: center\">1</td></tr><tr><th style=\"text-align: center; background-color: white; border-right: 1px solid black; \">1</th><td style=\"text-align: center\">44691</td><td style=\"text-align: center\">b'C'</td><td style=\"text-align: center\">[b'A' b'' b'']</td><td style=\"text-align: center\">27568</td><td style=\"text-align: center\">48.91</td><td style=\"text-align: center\">11.43</td><td style=\"text-align: center\">1</td></tr><tr><th style=\"text-align: center; background-color: white; border-right: 1px solid black; \">2</th><td style=\"text-align: center\">44732</td><td style=\"text-align: center\">b'C'</td><td style=\"text-align: center\">[b'T' b'' b'']</td><td style=\"text-align: center\">28429</td><td style=\"text-align: center\">50.41</td><td style=\"text-align: center\">15.6</td><td style=\"text-align: center\">1</td></tr><tr><th style=\"text-align: center; background-color: white; border-right: 1px solid black; \">...</th><td style=\"text-align: center\" colspan=\"8\">...</td></tr><tr><th style=\"text-align: center; background-color: white; border-right: 1px solid black; \">10377277</th><td style=\"text-align: center\">49356426</td><td style=\"text-align: center\">b'G'</td><td style=\"text-align: center\">[b'T' b'' b'']</td><td style=\"text-align: center\">19560</td><td style=\"text-align: center\">41.48</td><td style=\"text-align: center\">10.36</td><td style=\"text-align: center\">1</td></tr><tr><th style=\"text-align: center; background-color: white; border-right: 1px solid black; \">10377278</th><td style=\"text-align: center\">49356429</td><td style=\"text-align: center\">b'A'</td><td style=\"text-align: center\">[b'G' b'' b'']</td><td style=\"text-align: center\">19450</td><td style=\"text-align: center\">40.82</td><td style=\"text-align: center\">10.0</td><td style=\"text-align: center\">1</td></tr><tr><th style=\"text-align: center; background-color: white; border-right: 1px solid black; \">10377279</th><td style=\"text-align: center\">49356435</td><td style=\"text-align: center\">b'G'</td><td style=\"text-align: center\">[b'A' b'' b'']</td><td style=\"text-align: center\">18687</td><td style=\"text-align: center\">39.57</td><td style=\"text-align: center\">14.0</td><td style=\"text-align: center\">1</td></tr></tbody></table></div>"
      ],
      "text/plain": [
       "<VariantChunkedTable shape=(10377280,) dtype=[('POS', '<i4'), ('REF', 'S1'), ('ALT', 'S1', (3,)), ('DP', '<i4'), ('MQ', '<f4'), ('QD', '<f4'), ('numalt', '<i4')]\n",
       "   nbytes=237.5M cbytes=-7 cratio=-35579245.7\n",
       "   values=zarr.hierarchy.Group>"
      ]
     },
     "execution_count": 14,
     "metadata": {},
     "output_type": "execute_result"
    }
   ],
   "source": [
    "variants_phase1 = allel.VariantChunkedTable(calldata_phase1[\"2L\"][\"variants\"], \n",
    "                                     names=['POS', 'REF', 'ALT', 'DP', 'MQ', 'QD', 'numalt'],\n",
    "                                     index='POS')\n",
    "variants_phase1"
   ]
  },
  {
   "cell_type": "code",
   "execution_count": 15,
   "metadata": {},
   "outputs": [
    {
     "data": {
      "text/html": [
       "<div class=\"allel allel-DisplayAsTable\"><span>&lt;VariantChunkedTable shape=(7635924,) dtype=[('POS', '&lt;i4'), ('REF', 'S1'), ('ALT', 'S1', (3,)), ('DP', '&lt;i4'), ('MQ', '&lt;f4'), ('QD', '&lt;f4'), ('numalt', '&lt;i4')]\n",
       "   nbytes=174.8M cbytes=77.7M cratio=2.2\n",
       "   values=allel.chunked.storage_zarr.ZarrTable&gt;</span><table><thead><tr><th></th><th style=\"text-align: center\">POS</th><th style=\"text-align: center\">REF</th><th style=\"text-align: center\">ALT</th><th style=\"text-align: center\">DP</th><th style=\"text-align: center\">MQ</th><th style=\"text-align: center\">QD</th><th style=\"text-align: center\">numalt</th></tr></thead><tbody><tr><th style=\"text-align: center; background-color: white; border-right: 1px solid black; \">0</th><td style=\"text-align: center\">51212</td><td style=\"text-align: center\">b'T'</td><td style=\"text-align: center\">[b'A' b'' b'']</td><td style=\"text-align: center\">27003</td><td style=\"text-align: center\">55.53</td><td style=\"text-align: center\">13.54</td><td style=\"text-align: center\">1</td></tr><tr><th style=\"text-align: center; background-color: white; border-right: 1px solid black; \">1</th><td style=\"text-align: center\">51214</td><td style=\"text-align: center\">b'G'</td><td style=\"text-align: center\">[b'C' b'' b'']</td><td style=\"text-align: center\">26881</td><td style=\"text-align: center\">55.51</td><td style=\"text-align: center\">20.72</td><td style=\"text-align: center\">1</td></tr><tr><th style=\"text-align: center; background-color: white; border-right: 1px solid black; \">2</th><td style=\"text-align: center\">51226</td><td style=\"text-align: center\">b'A'</td><td style=\"text-align: center\">[b'G' b'' b'']</td><td style=\"text-align: center\">26931</td><td style=\"text-align: center\">55.34</td><td style=\"text-align: center\">17.93</td><td style=\"text-align: center\">1</td></tr><tr><th style=\"text-align: center; background-color: white; border-right: 1px solid black; \">...</th><td style=\"text-align: center\" colspan=\"8\">...</td></tr><tr><th style=\"text-align: center; background-color: white; border-right: 1px solid black; \">7635921</th><td style=\"text-align: center\">49356425</td><td style=\"text-align: center\">b'G'</td><td style=\"text-align: center\">[b'T' b'' b'']</td><td style=\"text-align: center\">19432</td><td style=\"text-align: center\">41.73</td><td style=\"text-align: center\">9.65</td><td style=\"text-align: center\">1</td></tr><tr><th style=\"text-align: center; background-color: white; border-right: 1px solid black; \">7635922</th><td style=\"text-align: center\">49356426</td><td style=\"text-align: center\">b'G'</td><td style=\"text-align: center\">[b'T' b'' b'']</td><td style=\"text-align: center\">19560</td><td style=\"text-align: center\">41.48</td><td style=\"text-align: center\">10.36</td><td style=\"text-align: center\">1</td></tr><tr><th style=\"text-align: center; background-color: white; border-right: 1px solid black; \">7635923</th><td style=\"text-align: center\">49356429</td><td style=\"text-align: center\">b'A'</td><td style=\"text-align: center\">[b'G' b'' b'']</td><td style=\"text-align: center\">19450</td><td style=\"text-align: center\">40.82</td><td style=\"text-align: center\">10.0</td><td style=\"text-align: center\">1</td></tr></tbody></table></div>"
      ],
      "text/plain": [
       "<VariantChunkedTable shape=(7635924,) dtype=[('POS', '<i4'), ('REF', 'S1'), ('ALT', 'S1', (3,)), ('DP', '<i4'), ('MQ', '<f4'), ('QD', '<f4'), ('numalt', '<i4')]\n",
       "   nbytes=174.8M cbytes=77.7M cratio=2.2\n",
       "   values=allel.chunked.storage_zarr.ZarrTable>"
      ]
     },
     "execution_count": 15,
     "metadata": {},
     "output_type": "execute_result"
    }
   ],
   "source": [
    "variants_phase1_filt = variants_phase1.compress(loc2)\n",
    "variants_phase1_filt"
   ]
  },
  {
   "cell_type": "code",
   "execution_count": 16,
   "metadata": {},
   "outputs": [
    {
     "data": {
      "text/plain": [
       "(array([b'T', b'G', b'A', ..., b'G', b'G', b'A'], dtype='|S1'), (7635924,))"
      ]
     },
     "execution_count": 16,
     "metadata": {},
     "output_type": "execute_result"
    }
   ],
   "source": [
    "phase1_ref = variants_phase1_filt[\"REF\"][:]\n",
    "phase1_ref, phase1_ref.shape"
   ]
  },
  {
   "cell_type": "code",
   "execution_count": 17,
   "metadata": {},
   "outputs": [
    {
     "data": {
      "text/plain": [
       "(array([[b'A', b'', b''],\n",
       "        [b'C', b'', b''],\n",
       "        [b'G', b'', b''],\n",
       "        ...,\n",
       "        [b'T', b'', b''],\n",
       "        [b'T', b'', b''],\n",
       "        [b'G', b'', b'']], dtype='|S1'), (7635924,))"
      ]
     },
     "execution_count": 17,
     "metadata": {},
     "output_type": "execute_result"
    }
   ],
   "source": [
    "phase1_alt = variants_phase1_filt[\"ALT\"][:]\n",
    "phase1_alt, phase1_ref.shape"
   ]
  },
  {
   "cell_type": "markdown",
   "metadata": {},
   "source": [
    "------------------------------------------------"
   ]
  },
  {
   "cell_type": "code",
   "execution_count": 18,
   "metadata": {},
   "outputs": [
    {
     "data": {
      "text/html": [
       "<div class=\"allel allel-DisplayAsTable\"><span>&lt;VariantChunkedTable shape=(8906423,) dtype=[('POS', '&lt;i4'), ('REF', 'S1'), ('ALT', 'S1'), ('DP', '&lt;i4'), ('MQ', '&lt;f4'), ('QD', '&lt;f4'), ('numalt', '&lt;i4')]\n",
       "   nbytes=186.9M cbytes=-7 cratio=-27991615.1\n",
       "   values=zarr.hierarchy.Group&gt;</span><table><thead><tr><th></th><th style=\"text-align: center\">POS</th><th style=\"text-align: center\">REF</th><th style=\"text-align: center\">ALT</th><th style=\"text-align: center\">DP</th><th style=\"text-align: center\">MQ</th><th style=\"text-align: center\">QD</th><th style=\"text-align: center\">numalt</th></tr></thead><tbody><tr><th style=\"text-align: center; background-color: white; border-right: 1px solid black; \">0</th><td style=\"text-align: center\">25050</td><td style=\"text-align: center\">b'G'</td><td style=\"text-align: center\">b'T'</td><td style=\"text-align: center\">38417</td><td style=\"text-align: center\">51.53</td><td style=\"text-align: center\">8.02</td><td style=\"text-align: center\">1</td></tr><tr><th style=\"text-align: center; background-color: white; border-right: 1px solid black; \">1</th><td style=\"text-align: center\">51212</td><td style=\"text-align: center\">b'T'</td><td style=\"text-align: center\">b'A'</td><td style=\"text-align: center\">39639</td><td style=\"text-align: center\">55.75</td><td style=\"text-align: center\">13.58</td><td style=\"text-align: center\">1</td></tr><tr><th style=\"text-align: center; background-color: white; border-right: 1px solid black; \">2</th><td style=\"text-align: center\">51214</td><td style=\"text-align: center\">b'G'</td><td style=\"text-align: center\">b'C'</td><td style=\"text-align: center\">39461</td><td style=\"text-align: center\">55.73</td><td style=\"text-align: center\">19.83</td><td style=\"text-align: center\">1</td></tr><tr><th style=\"text-align: center; background-color: white; border-right: 1px solid black; \">...</th><td style=\"text-align: center\" colspan=\"8\">...</td></tr><tr><th style=\"text-align: center; background-color: white; border-right: 1px solid black; \">8906420</th><td style=\"text-align: center\">49356425</td><td style=\"text-align: center\">b'G'</td><td style=\"text-align: center\">b'T'</td><td style=\"text-align: center\">28138</td><td style=\"text-align: center\">41.81</td><td style=\"text-align: center\">9.58</td><td style=\"text-align: center\">1</td></tr><tr><th style=\"text-align: center; background-color: white; border-right: 1px solid black; \">8906421</th><td style=\"text-align: center\">49356426</td><td style=\"text-align: center\">b'G'</td><td style=\"text-align: center\">b'T'</td><td style=\"text-align: center\">28311</td><td style=\"text-align: center\">41.57</td><td style=\"text-align: center\">10.3</td><td style=\"text-align: center\">1</td></tr><tr><th style=\"text-align: center; background-color: white; border-right: 1px solid black; \">8906422</th><td style=\"text-align: center\">49356429</td><td style=\"text-align: center\">b'A'</td><td style=\"text-align: center\">b'G'</td><td style=\"text-align: center\">28106</td><td style=\"text-align: center\">40.92</td><td style=\"text-align: center\">10.13</td><td style=\"text-align: center\">1</td></tr></tbody></table></div>"
      ],
      "text/plain": [
       "<VariantChunkedTable shape=(8906423,) dtype=[('POS', '<i4'), ('REF', 'S1'), ('ALT', 'S1'), ('DP', '<i4'), ('MQ', '<f4'), ('QD', '<f4'), ('numalt', '<i4')]\n",
       "   nbytes=186.9M cbytes=-7 cratio=-27991615.1\n",
       "   values=zarr.hierarchy.Group>"
      ]
     },
     "execution_count": 18,
     "metadata": {},
     "output_type": "execute_result"
    }
   ],
   "source": [
    "variants_phase2 = allel.VariantChunkedTable(calldata_phase2[\"2L\"][\"variants\"], \n",
    "                                     names=['POS', 'REF', 'ALT', 'DP', 'MQ', 'QD', 'numalt'],\n",
    "                                     index='POS')\n",
    "variants_phase2"
   ]
  },
  {
   "cell_type": "code",
   "execution_count": 19,
   "metadata": {},
   "outputs": [
    {
     "data": {
      "text/html": [
       "<div class=\"allel allel-DisplayAsTable\"><span>&lt;VariantChunkedTable shape=(7635924,) dtype=[('POS', '&lt;i4'), ('REF', 'S1'), ('ALT', 'S1'), ('DP', '&lt;i4'), ('MQ', '&lt;f4'), ('QD', '&lt;f4'), ('numalt', '&lt;i4')]\n",
       "   nbytes=160.2M cbytes=74.2M cratio=2.2\n",
       "   values=allel.chunked.storage_zarr.ZarrTable&gt;</span><table><thead><tr><th></th><th style=\"text-align: center\">POS</th><th style=\"text-align: center\">REF</th><th style=\"text-align: center\">ALT</th><th style=\"text-align: center\">DP</th><th style=\"text-align: center\">MQ</th><th style=\"text-align: center\">QD</th><th style=\"text-align: center\">numalt</th></tr></thead><tbody><tr><th style=\"text-align: center; background-color: white; border-right: 1px solid black; \">0</th><td style=\"text-align: center\">51212</td><td style=\"text-align: center\">b'T'</td><td style=\"text-align: center\">b'A'</td><td style=\"text-align: center\">39639</td><td style=\"text-align: center\">55.75</td><td style=\"text-align: center\">13.58</td><td style=\"text-align: center\">1</td></tr><tr><th style=\"text-align: center; background-color: white; border-right: 1px solid black; \">1</th><td style=\"text-align: center\">51214</td><td style=\"text-align: center\">b'G'</td><td style=\"text-align: center\">b'C'</td><td style=\"text-align: center\">39461</td><td style=\"text-align: center\">55.73</td><td style=\"text-align: center\">19.83</td><td style=\"text-align: center\">1</td></tr><tr><th style=\"text-align: center; background-color: white; border-right: 1px solid black; \">2</th><td style=\"text-align: center\">51226</td><td style=\"text-align: center\">b'A'</td><td style=\"text-align: center\">b'G'</td><td style=\"text-align: center\">39518</td><td style=\"text-align: center\">55.61</td><td style=\"text-align: center\">17.28</td><td style=\"text-align: center\">1</td></tr><tr><th style=\"text-align: center; background-color: white; border-right: 1px solid black; \">...</th><td style=\"text-align: center\" colspan=\"8\">...</td></tr><tr><th style=\"text-align: center; background-color: white; border-right: 1px solid black; \">7635921</th><td style=\"text-align: center\">49356425</td><td style=\"text-align: center\">b'G'</td><td style=\"text-align: center\">b'T'</td><td style=\"text-align: center\">28138</td><td style=\"text-align: center\">41.81</td><td style=\"text-align: center\">9.58</td><td style=\"text-align: center\">1</td></tr><tr><th style=\"text-align: center; background-color: white; border-right: 1px solid black; \">7635922</th><td style=\"text-align: center\">49356426</td><td style=\"text-align: center\">b'G'</td><td style=\"text-align: center\">b'T'</td><td style=\"text-align: center\">28311</td><td style=\"text-align: center\">41.57</td><td style=\"text-align: center\">10.3</td><td style=\"text-align: center\">1</td></tr><tr><th style=\"text-align: center; background-color: white; border-right: 1px solid black; \">7635923</th><td style=\"text-align: center\">49356429</td><td style=\"text-align: center\">b'A'</td><td style=\"text-align: center\">b'G'</td><td style=\"text-align: center\">28106</td><td style=\"text-align: center\">40.92</td><td style=\"text-align: center\">10.13</td><td style=\"text-align: center\">1</td></tr></tbody></table></div>"
      ],
      "text/plain": [
       "<VariantChunkedTable shape=(7635924,) dtype=[('POS', '<i4'), ('REF', 'S1'), ('ALT', 'S1'), ('DP', '<i4'), ('MQ', '<f4'), ('QD', '<f4'), ('numalt', '<i4')]\n",
       "   nbytes=160.2M cbytes=74.2M cratio=2.2\n",
       "   values=allel.chunked.storage_zarr.ZarrTable>"
      ]
     },
     "execution_count": 19,
     "metadata": {},
     "output_type": "execute_result"
    }
   ],
   "source": [
    "variants_phase2_filt = variants_phase2.compress(loc1)\n",
    "variants_phase2_filt"
   ]
  },
  {
   "cell_type": "code",
   "execution_count": 20,
   "metadata": {},
   "outputs": [
    {
     "data": {
      "text/plain": [
       "(array([b'T', b'G', b'A', ..., b'G', b'G', b'A'], dtype='|S1'), (7635924,))"
      ]
     },
     "execution_count": 20,
     "metadata": {},
     "output_type": "execute_result"
    }
   ],
   "source": [
    "phase2_ref = variants_phase2_filt[\"REF\"][:]\n",
    "phase2_ref, phase2_ref.shape"
   ]
  },
  {
   "cell_type": "code",
   "execution_count": 21,
   "metadata": {},
   "outputs": [
    {
     "data": {
      "text/plain": [
       "(array([b'A', b'C', b'G', ..., b'T', b'T', b'G'], dtype='|S1'), (7635924,))"
      ]
     },
     "execution_count": 21,
     "metadata": {},
     "output_type": "execute_result"
    }
   ],
   "source": [
    "phase2_alt = variants_phase2_filt[\"ALT\"][:]\n",
    "phase2_alt, phase2_ref.shape"
   ]
  },
  {
   "cell_type": "code",
   "execution_count": 22,
   "metadata": {},
   "outputs": [
    {
     "data": {
      "text/plain": [
       "(array([[b'T', b'A'],\n",
       "        [b'G', b'C'],\n",
       "        [b'A', b'G'],\n",
       "        ...,\n",
       "        [b'G', b'T'],\n",
       "        [b'G', b'T'],\n",
       "        [b'A', b'G']], dtype='|S1'), (7635924, 2))"
      ]
     },
     "execution_count": 22,
     "metadata": {},
     "output_type": "execute_result"
    }
   ],
   "source": [
    "phase2refalt = np.column_stack([phase2_ref, phase2_alt])\n",
    "phase2refalt, phase2refalt.shape"
   ]
  },
  {
   "cell_type": "code",
   "execution_count": 23,
   "metadata": {},
   "outputs": [
    {
     "data": {
      "text/plain": [
       "array([[ 0,  1, -1, -1],\n",
       "       [ 0,  1, -1, -1],\n",
       "       [ 0,  1, -1, -1],\n",
       "       ...,\n",
       "       [ 0,  1, -1, -1],\n",
       "       [ 0,  1, -1, -1],\n",
       "       [ 0,  1, -1, -1]], dtype=int8)"
      ]
     },
     "execution_count": 23,
     "metadata": {},
     "output_type": "execute_result"
    }
   ],
   "source": [
    "mapping = allel.create_allele_mapping(phase1_ref, phase1_alt, phase2refalt)\n",
    "mapping"
   ]
  },
  {
   "cell_type": "markdown",
   "metadata": {},
   "source": [
    "this will case an error\n",
    "you can combine a [N, 1] + [N, 3]\n",
    "but not [N,] + [N, 3]\n",
    "phase2refalt = np.hstack([phase2_ref, phase2_alt])\n",
    "\n",
    "assert phase2refalt.shape[1] == 4"
   ]
  },
  {
   "cell_type": "code",
   "execution_count": 24,
   "metadata": {},
   "outputs": [
    {
     "data": {
      "text/plain": [
       "array([[ 0,  1, -1, -1],\n",
       "       [ 0,  1, -1, -1],\n",
       "       [ 0,  1, -1, -1],\n",
       "       ...,\n",
       "       [ 0,  1, -1, -1],\n",
       "       [ 0,  1, -1, -1],\n",
       "       [ 0,  1, -1, -1]], dtype=int8)"
      ]
     },
     "execution_count": 24,
     "metadata": {},
     "output_type": "execute_result"
    }
   ],
   "source": [
    "mapping = allel.create_allele_mapping(phase1_ref, phase1_alt, phase2refalt)\n",
    "mapping"
   ]
  },
  {
   "cell_type": "markdown",
   "metadata": {},
   "source": [
    "------------------------------"
   ]
  },
  {
   "cell_type": "markdown",
   "metadata": {},
   "source": [
    "### Selecting same SNPs from christi dataset"
   ]
  },
  {
   "cell_type": "code",
   "execution_count": 25,
   "metadata": {},
   "outputs": [
    {
     "data": {
      "text/plain": [
       "<HDF5 file \"outgroup_allele_counts.h5\" (mode r)>"
      ]
     },
     "execution_count": 25,
     "metadata": {},
     "output_type": "execute_result"
    }
   ],
   "source": [
    "calldata_out= h5py.File('/gcs/phase1.AR3/extras/outgroup_allele_counts.h5', mode='r')\n",
    "calldata_out"
   ]
  },
  {
   "cell_type": "code",
   "execution_count": 26,
   "metadata": {},
   "outputs": [
    {
     "data": {
      "text/plain": [
       "(array([[0, 0, 0, 0],\n",
       "        [0, 0, 0, 0],\n",
       "        [0, 0, 0, 0],\n",
       "        ...,\n",
       "        [0, 0, 0, 0],\n",
       "        [0, 0, 0, 0],\n",
       "        [0, 0, 0, 0]], dtype=int32), (10377280, 4))"
      ]
     },
     "execution_count": 26,
     "metadata": {},
     "output_type": "execute_result"
    }
   ],
   "source": [
    "calldata_chr = calldata_out['2L']['chri']\n",
    "calldata_chr[:], calldata_chr.shape"
   ]
  },
  {
   "cell_type": "code",
   "execution_count": 27,
   "metadata": {},
   "outputs": [
    {
     "data": {
      "text/plain": [
       "((10377280,), (10377280, 4))"
      ]
     },
     "execution_count": 27,
     "metadata": {},
     "output_type": "execute_result"
    }
   ],
   "source": [
    "loc2.shape, calldata_chr.shape"
   ]
  },
  {
   "cell_type": "code",
   "execution_count": 28,
   "metadata": {},
   "outputs": [
    {
     "data": {
      "text/plain": [
       "array([False, False, False, ...,  True,  True, False])"
      ]
     },
     "execution_count": 28,
     "metadata": {},
     "output_type": "execute_result"
    }
   ],
   "source": [
    "loc2"
   ]
  },
  {
   "cell_type": "code",
   "execution_count": 29,
   "metadata": {},
   "outputs": [
    {
     "data": {
      "text/html": [
       "<div class=\"allel allel-DisplayAs2D\"><span>&lt;AlleleCountsArray shape=(10377280, 4) dtype=int32&gt;</span><table><thead><tr><th></th><th style=\"text-align: center\">0</th><th style=\"text-align: center\">1</th><th style=\"text-align: center\">2</th><th style=\"text-align: center\">3</th></tr></thead><tbody><tr><th style=\"text-align: center; background-color: white; border-right: 1px solid black; \">0</th><td style=\"text-align: center\">0</td><td style=\"text-align: center\">0</td><td style=\"text-align: center\">0</td><td style=\"text-align: center\">0</td></tr><tr><th style=\"text-align: center; background-color: white; border-right: 1px solid black; \">1</th><td style=\"text-align: center\">0</td><td style=\"text-align: center\">0</td><td style=\"text-align: center\">0</td><td style=\"text-align: center\">0</td></tr><tr><th style=\"text-align: center; background-color: white; border-right: 1px solid black; \">2</th><td style=\"text-align: center\">0</td><td style=\"text-align: center\">0</td><td style=\"text-align: center\">0</td><td style=\"text-align: center\">0</td></tr><tr><th style=\"text-align: center; background-color: white; border-right: 1px solid black; \">...</th><td style=\"text-align: center\" colspan=\"5\">...</td></tr><tr><th style=\"text-align: center; background-color: white; border-right: 1px solid black; \">10377277</th><td style=\"text-align: center\">0</td><td style=\"text-align: center\">0</td><td style=\"text-align: center\">0</td><td style=\"text-align: center\">0</td></tr><tr><th style=\"text-align: center; background-color: white; border-right: 1px solid black; \">10377278</th><td style=\"text-align: center\">0</td><td style=\"text-align: center\">0</td><td style=\"text-align: center\">0</td><td style=\"text-align: center\">0</td></tr><tr><th style=\"text-align: center; background-color: white; border-right: 1px solid black; \">10377279</th><td style=\"text-align: center\">0</td><td style=\"text-align: center\">0</td><td style=\"text-align: center\">0</td><td style=\"text-align: center\">0</td></tr></tbody></table></div>"
      ],
      "text/plain": [
       "<AlleleCountsArray shape=(10377280, 4) dtype=int32>\n",
       "0 0 0 0\n",
       "0 0 0 0\n",
       "0 0 0 0\n",
       "...\n",
       "0 0 0 0\n",
       "0 0 0 0\n",
       "0 0 0 0"
      ]
     },
     "execution_count": 29,
     "metadata": {},
     "output_type": "execute_result"
    }
   ],
   "source": [
    "ac_snp_chri = allel.AlleleCountsArray(calldata_chr)\n",
    "ac_snp_chri"
   ]
  },
  {
   "cell_type": "code",
   "execution_count": 30,
   "metadata": {},
   "outputs": [
    {
     "data": {
      "text/html": [
       "<div class=\"allel allel-DisplayAs2D\"><span>&lt;AlleleCountsArray shape=(7635924, 4) dtype=int32&gt;</span><table><thead><tr><th></th><th style=\"text-align: center\">0</th><th style=\"text-align: center\">1</th><th style=\"text-align: center\">2</th><th style=\"text-align: center\">3</th></tr></thead><tbody><tr><th style=\"text-align: center; background-color: white; border-right: 1px solid black; \">0</th><td style=\"text-align: center\">0</td><td style=\"text-align: center\">0</td><td style=\"text-align: center\">0</td><td style=\"text-align: center\">0</td></tr><tr><th style=\"text-align: center; background-color: white; border-right: 1px solid black; \">1</th><td style=\"text-align: center\">0</td><td style=\"text-align: center\">0</td><td style=\"text-align: center\">0</td><td style=\"text-align: center\">0</td></tr><tr><th style=\"text-align: center; background-color: white; border-right: 1px solid black; \">2</th><td style=\"text-align: center\">0</td><td style=\"text-align: center\">0</td><td style=\"text-align: center\">0</td><td style=\"text-align: center\">0</td></tr><tr><th style=\"text-align: center; background-color: white; border-right: 1px solid black; \">...</th><td style=\"text-align: center\" colspan=\"5\">...</td></tr><tr><th style=\"text-align: center; background-color: white; border-right: 1px solid black; \">7635921</th><td style=\"text-align: center\">0</td><td style=\"text-align: center\">0</td><td style=\"text-align: center\">0</td><td style=\"text-align: center\">0</td></tr><tr><th style=\"text-align: center; background-color: white; border-right: 1px solid black; \">7635922</th><td style=\"text-align: center\">0</td><td style=\"text-align: center\">0</td><td style=\"text-align: center\">0</td><td style=\"text-align: center\">0</td></tr><tr><th style=\"text-align: center; background-color: white; border-right: 1px solid black; \">7635923</th><td style=\"text-align: center\">0</td><td style=\"text-align: center\">0</td><td style=\"text-align: center\">0</td><td style=\"text-align: center\">0</td></tr></tbody></table></div>"
      ],
      "text/plain": [
       "<AlleleCountsArray shape=(7635924, 4) dtype=int32>\n",
       "0 0 0 0\n",
       "0 0 0 0\n",
       "0 0 0 0\n",
       "...\n",
       "0 0 0 0\n",
       "0 0 0 0\n",
       "0 0 0 0"
      ]
     },
     "execution_count": 30,
     "metadata": {},
     "output_type": "execute_result"
    }
   ],
   "source": [
    "ac_snp_chri = ac_snp_chri.compress(loc2)\n",
    "ac_snp_chri"
   ]
  },
  {
   "cell_type": "code",
   "execution_count": 31,
   "metadata": {},
   "outputs": [
    {
     "data": {
      "text/plain": [
       "((7635924, 4), (7635924, 4))"
      ]
     },
     "execution_count": 31,
     "metadata": {},
     "output_type": "execute_result"
    }
   ],
   "source": [
    "mapping.shape, ac_snp_chri.shape"
   ]
  },
  {
   "cell_type": "code",
   "execution_count": 32,
   "metadata": {},
   "outputs": [
    {
     "data": {
      "text/html": [
       "<div class=\"allel allel-DisplayAs2D\"><span>&lt;AlleleCountsArray shape=(7635924, 2) dtype=int32&gt;</span><table><thead><tr><th></th><th style=\"text-align: center\">0</th><th style=\"text-align: center\">1</th></tr></thead><tbody><tr><th style=\"text-align: center; background-color: white; border-right: 1px solid black; \">0</th><td style=\"text-align: center\">0</td><td style=\"text-align: center\">0</td></tr><tr><th style=\"text-align: center; background-color: white; border-right: 1px solid black; \">1</th><td style=\"text-align: center\">0</td><td style=\"text-align: center\">0</td></tr><tr><th style=\"text-align: center; background-color: white; border-right: 1px solid black; \">2</th><td style=\"text-align: center\">0</td><td style=\"text-align: center\">0</td></tr><tr><th style=\"text-align: center; background-color: white; border-right: 1px solid black; \">...</th><td style=\"text-align: center\" colspan=\"3\">...</td></tr><tr><th style=\"text-align: center; background-color: white; border-right: 1px solid black; \">7635921</th><td style=\"text-align: center\">0</td><td style=\"text-align: center\">0</td></tr><tr><th style=\"text-align: center; background-color: white; border-right: 1px solid black; \">7635922</th><td style=\"text-align: center\">0</td><td style=\"text-align: center\">0</td></tr><tr><th style=\"text-align: center; background-color: white; border-right: 1px solid black; \">7635923</th><td style=\"text-align: center\">0</td><td style=\"text-align: center\">0</td></tr></tbody></table></div>"
      ],
      "text/plain": [
       "<AlleleCountsArray shape=(7635924, 2) dtype=int32>\n",
       "0 0\n",
       "0 0\n",
       "0 0\n",
       "...\n",
       "0 0\n",
       "0 0\n",
       "0 0"
      ]
     },
     "execution_count": 32,
     "metadata": {},
     "output_type": "execute_result"
    }
   ],
   "source": [
    "chri_allele_count = ac_snp_chri.map_alleles(mapping)\n",
    "chri_allele_count"
   ]
  },
  {
   "cell_type": "markdown",
   "metadata": {},
   "source": [
    "----------------------------"
   ]
  },
  {
   "cell_type": "markdown",
   "metadata": {},
   "source": [
    "### Phase2 allele count subset"
   ]
  },
  {
   "cell_type": "code",
   "execution_count": 35,
   "metadata": {},
   "outputs": [],
   "source": [
    "metadata = pd.read_csv(\"samples.meta.txt\", sep=\"\\t\")\n",
    "pop_select = metadata.population.isin({'BFgam', 'GAgam', 'AOcol'}).values\n",
    "pop_subset = metadata[pop_select]"
   ]
  },
  {
   "cell_type": "code",
   "execution_count": 36,
   "metadata": {},
   "outputs": [],
   "source": [
    "genotypes_phase2_call = calldata_phase2[\"2L\"][\"calldata/GT\"]\n",
    "genotypes_phase2 = allel.GenotypeChunkedArray(genotypes_phase2_call)"
   ]
  },
  {
   "cell_type": "code",
   "execution_count": 37,
   "metadata": {},
   "outputs": [
    {
     "data": {
      "text/html": [
       "<div class=\"allel allel-DisplayAs2D\"><span>&lt;GenotypeChunkedArray shape=(8906423, 1142, 2) dtype=int8 chunks=(524288, 61, 2)\n",
       "   nbytes=18.9G cbytes=-1 cratio=-20342270132.0\n",
       "   compression=blosc compression_opts={'cname': 'zstd', 'clevel': 1, 'shuffle': -1, 'blocksize': 0}\n",
       "   values=zarr.core.Array&gt;</span><table><thead><tr><th></th><th style=\"text-align: center\">0</th><th style=\"text-align: center\">1</th><th style=\"text-align: center\">2</th><th style=\"text-align: center\">3</th><th style=\"text-align: center\">4</th><th style=\"text-align: center\">...</th><th style=\"text-align: center\">1137</th><th style=\"text-align: center\">1138</th><th style=\"text-align: center\">1139</th><th style=\"text-align: center\">1140</th><th style=\"text-align: center\">1141</th></tr></thead><tbody><tr><th style=\"text-align: center; background-color: white; border-right: 1px solid black; \">0</th><td style=\"text-align: center\">0/0</td><td style=\"text-align: center\">0/0</td><td style=\"text-align: center\">0/0</td><td style=\"text-align: center\">0/0</td><td style=\"text-align: center\">0/0</td><td style=\"text-align: center\">...</td><td style=\"text-align: center\">0/0</td><td style=\"text-align: center\">0/0</td><td style=\"text-align: center\">0/0</td><td style=\"text-align: center\">0/0</td><td style=\"text-align: center\">0/0</td></tr><tr><th style=\"text-align: center; background-color: white; border-right: 1px solid black; \">1</th><td style=\"text-align: center\">0/0</td><td style=\"text-align: center\">0/0</td><td style=\"text-align: center\">0/0</td><td style=\"text-align: center\">0/0</td><td style=\"text-align: center\">0/0</td><td style=\"text-align: center\">...</td><td style=\"text-align: center\">0/0</td><td style=\"text-align: center\">0/0</td><td style=\"text-align: center\">0/0</td><td style=\"text-align: center\">0/0</td><td style=\"text-align: center\">0/0</td></tr><tr><th style=\"text-align: center; background-color: white; border-right: 1px solid black; \">2</th><td style=\"text-align: center\">0/0</td><td style=\"text-align: center\">0/0</td><td style=\"text-align: center\">0/0</td><td style=\"text-align: center\">0/0</td><td style=\"text-align: center\">0/0</td><td style=\"text-align: center\">...</td><td style=\"text-align: center\">0/0</td><td style=\"text-align: center\">0/0</td><td style=\"text-align: center\">0/0</td><td style=\"text-align: center\">0/0</td><td style=\"text-align: center\">0/0</td></tr><tr><th style=\"text-align: center; background-color: white; border-right: 1px solid black; \">...</th><td style=\"text-align: center\" colspan=\"12\">...</td></tr><tr><th style=\"text-align: center; background-color: white; border-right: 1px solid black; \">8906420</th><td style=\"text-align: center\">0/0</td><td style=\"text-align: center\">0/0</td><td style=\"text-align: center\">0/0</td><td style=\"text-align: center\">0/0</td><td style=\"text-align: center\">0/0</td><td style=\"text-align: center\">...</td><td style=\"text-align: center\">0/0</td><td style=\"text-align: center\">0/0</td><td style=\"text-align: center\">0/0</td><td style=\"text-align: center\">0/0</td><td style=\"text-align: center\">0/0</td></tr><tr><th style=\"text-align: center; background-color: white; border-right: 1px solid black; \">8906421</th><td style=\"text-align: center\">0/0</td><td style=\"text-align: center\">0/0</td><td style=\"text-align: center\">0/0</td><td style=\"text-align: center\">0/0</td><td style=\"text-align: center\">0/0</td><td style=\"text-align: center\">...</td><td style=\"text-align: center\">0/0</td><td style=\"text-align: center\">0/0</td><td style=\"text-align: center\">0/0</td><td style=\"text-align: center\">0/0</td><td style=\"text-align: center\">0/0</td></tr><tr><th style=\"text-align: center; background-color: white; border-right: 1px solid black; \">8906422</th><td style=\"text-align: center\">0/0</td><td style=\"text-align: center\">0/0</td><td style=\"text-align: center\">0/0</td><td style=\"text-align: center\">0/0</td><td style=\"text-align: center\">0/0</td><td style=\"text-align: center\">...</td><td style=\"text-align: center\">0/0</td><td style=\"text-align: center\">0/0</td><td style=\"text-align: center\">0/0</td><td style=\"text-align: center\">0/0</td><td style=\"text-align: center\">0/0</td></tr></tbody></table></div>"
      ],
      "text/plain": [
       "<GenotypeChunkedArray shape=(8906423, 1142, 2) dtype=int8 chunks=(524288, 61, 2)\n",
       "   nbytes=18.9G cbytes=-1 cratio=-20342270132.0\n",
       "   compression=blosc compression_opts={'cname': 'zstd', 'clevel': 1, 'shuffle': -1, 'blocksize': 0}\n",
       "   values=zarr.core.Array>"
      ]
     },
     "execution_count": 37,
     "metadata": {},
     "output_type": "execute_result"
    }
   ],
   "source": [
    "genotypes_phase2"
   ]
  },
  {
   "cell_type": "code",
   "execution_count": 39,
   "metadata": {},
   "outputs": [
    {
     "data": {
      "text/plain": [
       "((8906423, 1142, 2), (8906423,))"
      ]
     },
     "execution_count": 39,
     "metadata": {},
     "output_type": "execute_result"
    }
   ],
   "source": [
    "genotypes_phase2.shape, loc1.shape"
   ]
  },
  {
   "cell_type": "code",
   "execution_count": 40,
   "metadata": {},
   "outputs": [
    {
     "data": {
      "text/html": [
       "<div class=\"allel allel-DisplayAs2D\"><span>&lt;GenotypeChunkedArray shape=(7635924, 239, 2) dtype=int8 chunks=(7457, 239, 2)\n",
       "   nbytes=3.4G cbytes=152.1M cratio=22.9\n",
       "   compression=blosc compression_opts={'cname': 'lz4', 'clevel': 5, 'shuffle': 1, 'blocksize': 0}\n",
       "   values=zarr.core.Array&gt;</span><table><thead><tr><th></th><th style=\"text-align: center\">0</th><th style=\"text-align: center\">1</th><th style=\"text-align: center\">2</th><th style=\"text-align: center\">3</th><th style=\"text-align: center\">4</th><th style=\"text-align: center\">...</th><th style=\"text-align: center\">234</th><th style=\"text-align: center\">235</th><th style=\"text-align: center\">236</th><th style=\"text-align: center\">237</th><th style=\"text-align: center\">238</th></tr></thead><tbody><tr><th style=\"text-align: center; background-color: white; border-right: 1px solid black; \">0</th><td style=\"text-align: center\">0/0</td><td style=\"text-align: center\">0/0</td><td style=\"text-align: center\">0/0</td><td style=\"text-align: center\">0/0</td><td style=\"text-align: center\">0/0</td><td style=\"text-align: center\">...</td><td style=\"text-align: center\">0/0</td><td style=\"text-align: center\">0/0</td><td style=\"text-align: center\">0/0</td><td style=\"text-align: center\">0/0</td><td style=\"text-align: center\">0/0</td></tr><tr><th style=\"text-align: center; background-color: white; border-right: 1px solid black; \">1</th><td style=\"text-align: center\">0/0</td><td style=\"text-align: center\">0/0</td><td style=\"text-align: center\">0/0</td><td style=\"text-align: center\">0/0</td><td style=\"text-align: center\">0/1</td><td style=\"text-align: center\">...</td><td style=\"text-align: center\">0/0</td><td style=\"text-align: center\">0/0</td><td style=\"text-align: center\">0/0</td><td style=\"text-align: center\">0/0</td><td style=\"text-align: center\">0/0</td></tr><tr><th style=\"text-align: center; background-color: white; border-right: 1px solid black; \">2</th><td style=\"text-align: center\">0/0</td><td style=\"text-align: center\">0/0</td><td style=\"text-align: center\">0/0</td><td style=\"text-align: center\">0/0</td><td style=\"text-align: center\">0/0</td><td style=\"text-align: center\">...</td><td style=\"text-align: center\">0/0</td><td style=\"text-align: center\">0/0</td><td style=\"text-align: center\">0/0</td><td style=\"text-align: center\">0/0</td><td style=\"text-align: center\">0/0</td></tr><tr><th style=\"text-align: center; background-color: white; border-right: 1px solid black; \">...</th><td style=\"text-align: center\" colspan=\"12\">...</td></tr><tr><th style=\"text-align: center; background-color: white; border-right: 1px solid black; \">7635921</th><td style=\"text-align: center\">0/0</td><td style=\"text-align: center\">0/0</td><td style=\"text-align: center\">0/0</td><td style=\"text-align: center\">0/0</td><td style=\"text-align: center\">0/0</td><td style=\"text-align: center\">...</td><td style=\"text-align: center\">0/0</td><td style=\"text-align: center\">0/0</td><td style=\"text-align: center\">0/0</td><td style=\"text-align: center\">0/0</td><td style=\"text-align: center\">0/0</td></tr><tr><th style=\"text-align: center; background-color: white; border-right: 1px solid black; \">7635922</th><td style=\"text-align: center\">0/0</td><td style=\"text-align: center\">0/0</td><td style=\"text-align: center\">0/0</td><td style=\"text-align: center\">0/0</td><td style=\"text-align: center\">0/0</td><td style=\"text-align: center\">...</td><td style=\"text-align: center\">0/0</td><td style=\"text-align: center\">0/0</td><td style=\"text-align: center\">0/0</td><td style=\"text-align: center\">0/0</td><td style=\"text-align: center\">0/0</td></tr><tr><th style=\"text-align: center; background-color: white; border-right: 1px solid black; \">7635923</th><td style=\"text-align: center\">0/0</td><td style=\"text-align: center\">0/0</td><td style=\"text-align: center\">0/0</td><td style=\"text-align: center\">0/0</td><td style=\"text-align: center\">0/0</td><td style=\"text-align: center\">...</td><td style=\"text-align: center\">0/0</td><td style=\"text-align: center\">0/0</td><td style=\"text-align: center\">0/0</td><td style=\"text-align: center\">0/0</td><td style=\"text-align: center\">0/0</td></tr></tbody></table></div>"
      ],
      "text/plain": [
       "<GenotypeChunkedArray shape=(7635924, 239, 2) dtype=int8 chunks=(7457, 239, 2)\n",
       "   nbytes=3.4G cbytes=152.1M cratio=22.9\n",
       "   compression=blosc compression_opts={'cname': 'lz4', 'clevel': 5, 'shuffle': 1, 'blocksize': 0}\n",
       "   values=zarr.core.Array>"
      ]
     },
     "execution_count": 40,
     "metadata": {},
     "output_type": "execute_result"
    }
   ],
   "source": [
    "geno_p2_subset = genotypes_phase2.subset(sel0=loc1, sel1=pop_select)\n",
    "geno_p2_subset"
   ]
  },
  {
   "cell_type": "code",
   "execution_count": 41,
   "metadata": {},
   "outputs": [],
   "source": [
    "#count alleles\n",
    "grp = pop_subset.groupby(\"population\")\n",
    "grp_indices = grp.indices\n",
    "ac_subpops = geno_p2_subset.count_alleles_subpops(grp_indices)"
   ]
  },
  {
   "cell_type": "code",
   "execution_count": 42,
   "metadata": {},
   "outputs": [
    {
     "data": {
      "text/html": [
       "<div class=\"allel allel-DisplayAsTable\"><span>&lt;AlleleCountsChunkedTable shape=(7635924,) dtype=[('AOcol', '&lt;i4', (2,)), ('BFgam', '&lt;i4', (2,)), ('GAgam', '&lt;i4', (2,))]\n",
       "   nbytes=174.8M cbytes=16.7M cratio=10.5\n",
       "   values=allel.chunked.storage_zarr.ZarrTable&gt;</span><table><thead><tr><th></th><th style=\"text-align: center\">AOcol</th><th style=\"text-align: center\">BFgam</th><th style=\"text-align: center\">GAgam</th></tr></thead><tbody><tr><th style=\"text-align: center; background-color: white; border-right: 1px solid black; \">0</th><td style=\"text-align: center\">[156   0]</td><td style=\"text-align: center\">[184   0]</td><td style=\"text-align: center\">[138   0]</td></tr><tr><th style=\"text-align: center; background-color: white; border-right: 1px solid black; \">1</th><td style=\"text-align: center\">[156   0]</td><td style=\"text-align: center\">[179   5]</td><td style=\"text-align: center\">[130   8]</td></tr><tr><th style=\"text-align: center; background-color: white; border-right: 1px solid black; \">2</th><td style=\"text-align: center\">[156   0]</td><td style=\"text-align: center\">[184   0]</td><td style=\"text-align: center\">[138   0]</td></tr><tr><th style=\"text-align: center; background-color: white; border-right: 1px solid black; \">...</th><td style=\"text-align: center\" colspan=\"4\">...</td></tr><tr><th style=\"text-align: center; background-color: white; border-right: 1px solid black; \">7635921</th><td style=\"text-align: center\">[156   0]</td><td style=\"text-align: center\">[184   0]</td><td style=\"text-align: center\">[138   0]</td></tr><tr><th style=\"text-align: center; background-color: white; border-right: 1px solid black; \">7635922</th><td style=\"text-align: center\">[156   0]</td><td style=\"text-align: center\">[184   0]</td><td style=\"text-align: center\">[138   0]</td></tr><tr><th style=\"text-align: center; background-color: white; border-right: 1px solid black; \">7635923</th><td style=\"text-align: center\">[125  31]</td><td style=\"text-align: center\">[184   0]</td><td style=\"text-align: center\">[137   1]</td></tr></tbody></table></div>"
      ],
      "text/plain": [
       "<AlleleCountsChunkedTable shape=(7635924,) dtype=[('AOcol', '<i4', (2,)), ('BFgam', '<i4', (2,)), ('GAgam', '<i4', (2,))]\n",
       "   nbytes=174.8M cbytes=16.7M cratio=10.5\n",
       "   values=allel.chunked.storage_zarr.ZarrTable>"
      ]
     },
     "execution_count": 42,
     "metadata": {},
     "output_type": "execute_result"
    }
   ],
   "source": [
    "ac_subpops"
   ]
  },
  {
   "cell_type": "markdown",
   "metadata": {},
   "source": [
    "----------------------------------------------------------"
   ]
  },
  {
   "cell_type": "markdown",
   "metadata": {},
   "source": [
    "### Perform ABBA BABA Test"
   ]
  },
  {
   "cell_type": "code",
   "execution_count": 43,
   "metadata": {},
   "outputs": [],
   "source": [
    "chrom = '2L'"
   ]
  },
  {
   "cell_type": "code",
   "execution_count": 44,
   "metadata": {},
   "outputs": [],
   "source": [
    "#perform abba baba test\n",
    "y = allel.average_patterson_d(ac_subpops['BFgam'], ac_subpops['GAgam'], ac_subpops['AOcol'], chri_allele_count, 10000)"
   ]
  },
  {
   "cell_type": "code",
   "execution_count": 45,
   "metadata": {},
   "outputs": [],
   "source": [
    "# compute windows with equal numbers of SNPs\n",
    "windows = allel.moving_statistic(pos_p2_sel, statistic=lambda v: [v[0], v[-1]], size=10000)\n",
    "x = np.asarray(windows).mean(axis=1) "
   ]
  },
  {
   "cell_type": "code",
   "execution_count": 46,
   "metadata": {},
   "outputs": [
    {
     "data": {
      "text/plain": [
       "(0, 49356429)"
      ]
     },
     "execution_count": 46,
     "metadata": {},
     "output_type": "execute_result"
    },
    {
     "data": {
      "image/png": "[encoded data removed]",
      "text/plain": [
       "<Figure size 864x288 with 1 Axes>"
      ]
     },
     "metadata": {
      "needs_background": "light"
     },
     "output_type": "display_data"
    }
   ],
   "source": [
    "# Plot the test\n",
    "fig, ax = pyplot.subplots(figsize=(12, 4))\n",
    "#sns.despine(ax=ax, offset=10)\n",
    "ax.plot(x, y[3], lw=.5)\n",
    "ax.set_ylabel(\"D Value\")\n",
    "ax.set_xlabel('Chromosome %s position (bp)' %chrom)\n",
    "ax.set_xlim(0, pos_p2_sel.max())"
   ]
  },
  {
   "cell_type": "markdown",
   "metadata": {},
   "source": [
    "----------------------------------------------------------------"
   ]
  },
  {
   "cell_type": "markdown",
   "metadata": {},
   "source": [
    "#### Sandbox"
   ]
  },
  {
   "cell_type": "code",
   "execution_count": 81,
   "metadata": {},
   "outputs": [
    {
     "data": {
      "text/html": [
       "<div class=\"allel allel-DisplayAsTable\"><span>&lt;VariantChunkedTable shape=(10377280,) dtype=[('POS', '&lt;i4'), ('REF', 'S1'), ('ALT', 'S1', (3,)), ('DP', '&lt;i4'), ('MQ', '&lt;f4'), ('QD', '&lt;f4'), ('numalt', '&lt;i4')]\n",
       "   nbytes=237.5M cbytes=-7 cratio=-35579245.7\n",
       "   values=zarr.hierarchy.Group&gt;</span><table><thead><tr><th></th><th style=\"text-align: center\">POS</th><th style=\"text-align: center\">REF</th><th style=\"text-align: center\">ALT</th><th style=\"text-align: center\">DP</th><th style=\"text-align: center\">MQ</th><th style=\"text-align: center\">QD</th><th style=\"text-align: center\">numalt</th></tr></thead><tbody><tr><th style=\"text-align: center; background-color: white; border-right: 1px solid black; \">0</th><td style=\"text-align: center\">44688</td><td style=\"text-align: center\">b'C'</td><td style=\"text-align: center\">[b'T' b'' b'']</td><td style=\"text-align: center\">27446</td><td style=\"text-align: center\">48.74</td><td style=\"text-align: center\">7.0</td><td style=\"text-align: center\">1</td></tr><tr><th style=\"text-align: center; background-color: white; border-right: 1px solid black; \">1</th><td style=\"text-align: center\">44691</td><td style=\"text-align: center\">b'C'</td><td style=\"text-align: center\">[b'A' b'' b'']</td><td style=\"text-align: center\">27568</td><td style=\"text-align: center\">48.91</td><td style=\"text-align: center\">11.43</td><td style=\"text-align: center\">1</td></tr><tr><th style=\"text-align: center; background-color: white; border-right: 1px solid black; \">2</th><td style=\"text-align: center\">44732</td><td style=\"text-align: center\">b'C'</td><td style=\"text-align: center\">[b'T' b'' b'']</td><td style=\"text-align: center\">28429</td><td style=\"text-align: center\">50.41</td><td style=\"text-align: center\">15.6</td><td style=\"text-align: center\">1</td></tr><tr><th style=\"text-align: center; background-color: white; border-right: 1px solid black; \">...</th><td style=\"text-align: center\" colspan=\"8\">...</td></tr><tr><th style=\"text-align: center; background-color: white; border-right: 1px solid black; \">10377277</th><td style=\"text-align: center\">49356426</td><td style=\"text-align: center\">b'G'</td><td style=\"text-align: center\">[b'T' b'' b'']</td><td style=\"text-align: center\">19560</td><td style=\"text-align: center\">41.48</td><td style=\"text-align: center\">10.36</td><td style=\"text-align: center\">1</td></tr><tr><th style=\"text-align: center; background-color: white; border-right: 1px solid black; \">10377278</th><td style=\"text-align: center\">49356429</td><td style=\"text-align: center\">b'A'</td><td style=\"text-align: center\">[b'G' b'' b'']</td><td style=\"text-align: center\">19450</td><td style=\"text-align: center\">40.82</td><td style=\"text-align: center\">10.0</td><td style=\"text-align: center\">1</td></tr><tr><th style=\"text-align: center; background-color: white; border-right: 1px solid black; \">10377279</th><td style=\"text-align: center\">49356435</td><td style=\"text-align: center\">b'G'</td><td style=\"text-align: center\">[b'A' b'' b'']</td><td style=\"text-align: center\">18687</td><td style=\"text-align: center\">39.57</td><td style=\"text-align: center\">14.0</td><td style=\"text-align: center\">1</td></tr></tbody></table></div>"
      ],
      "text/plain": [
       "<VariantChunkedTable shape=(10377280,) dtype=[('POS', '<i4'), ('REF', 'S1'), ('ALT', 'S1', (3,)), ('DP', '<i4'), ('MQ', '<f4'), ('QD', '<f4'), ('numalt', '<i4')]\n",
       "   nbytes=237.5M cbytes=-7 cratio=-35579245.7\n",
       "   values=zarr.hierarchy.Group>"
      ]
     },
     "execution_count": 81,
     "metadata": {},
     "output_type": "execute_result"
    }
   ],
   "source": [
    "variants_phase1 = allel.VariantChunkedTable(calldata_phase1[\"2L\"][\"variants\"], \n",
    "                                     names=['POS', 'REF', 'ALT', 'DP', 'MQ', 'QD', 'numalt'],\n",
    "                                     index='POS')\n",
    "variants_phase1"
   ]
  },
  {
   "cell_type": "code",
   "execution_count": 9,
   "metadata": {},
   "outputs": [],
   "source": [
    "calldata_phase2= zarr.Group(gcsmap2, read_only=True)"
   ]
  },
  {
   "cell_type": "code",
   "execution_count": 10,
   "metadata": {},
   "outputs": [
    {
     "data": {
      "text/html": [
       "<div class=\"allel allel-DisplayAsTable\"><span>&lt;VariantChunkedTable shape=(8906423,) dtype=[('POS', '&lt;i4'), ('REF', 'S1'), ('ALT', 'S1'), ('DP', '&lt;i4'), ('MQ', '&lt;f4'), ('QD', '&lt;f4'), ('numalt', '&lt;i4')]\n",
       "   nbytes=186.9M cbytes=-7 cratio=-27991615.1\n",
       "   values=zarr.hierarchy.Group&gt;</span><table><thead><tr><th></th><th style=\"text-align: center\">POS</th><th style=\"text-align: center\">REF</th><th style=\"text-align: center\">ALT</th><th style=\"text-align: center\">DP</th><th style=\"text-align: center\">MQ</th><th style=\"text-align: center\">QD</th><th style=\"text-align: center\">numalt</th></tr></thead><tbody><tr><th style=\"text-align: center; background-color: white; border-right: 1px solid black; \">0</th><td style=\"text-align: center\">25050</td><td style=\"text-align: center\">b'G'</td><td style=\"text-align: center\">b'T'</td><td style=\"text-align: center\">38417</td><td style=\"text-align: center\">51.53</td><td style=\"text-align: center\">8.02</td><td style=\"text-align: center\">1</td></tr><tr><th style=\"text-align: center; background-color: white; border-right: 1px solid black; \">1</th><td style=\"text-align: center\">51212</td><td style=\"text-align: center\">b'T'</td><td style=\"text-align: center\">b'A'</td><td style=\"text-align: center\">39639</td><td style=\"text-align: center\">55.75</td><td style=\"text-align: center\">13.58</td><td style=\"text-align: center\">1</td></tr><tr><th style=\"text-align: center; background-color: white; border-right: 1px solid black; \">2</th><td style=\"text-align: center\">51214</td><td style=\"text-align: center\">b'G'</td><td style=\"text-align: center\">b'C'</td><td style=\"text-align: center\">39461</td><td style=\"text-align: center\">55.73</td><td style=\"text-align: center\">19.83</td><td style=\"text-align: center\">1</td></tr><tr><th style=\"text-align: center; background-color: white; border-right: 1px solid black; \">...</th><td style=\"text-align: center\" colspan=\"8\">...</td></tr><tr><th style=\"text-align: center; background-color: white; border-right: 1px solid black; \">8906420</th><td style=\"text-align: center\">49356425</td><td style=\"text-align: center\">b'G'</td><td style=\"text-align: center\">b'T'</td><td style=\"text-align: center\">28138</td><td style=\"text-align: center\">41.81</td><td style=\"text-align: center\">9.58</td><td style=\"text-align: center\">1</td></tr><tr><th style=\"text-align: center; background-color: white; border-right: 1px solid black; \">8906421</th><td style=\"text-align: center\">49356426</td><td style=\"text-align: center\">b'G'</td><td style=\"text-align: center\">b'T'</td><td style=\"text-align: center\">28311</td><td style=\"text-align: center\">41.57</td><td style=\"text-align: center\">10.3</td><td style=\"text-align: center\">1</td></tr><tr><th style=\"text-align: center; background-color: white; border-right: 1px solid black; \">8906422</th><td style=\"text-align: center\">49356429</td><td style=\"text-align: center\">b'A'</td><td style=\"text-align: center\">b'G'</td><td style=\"text-align: center\">28106</td><td style=\"text-align: center\">40.92</td><td style=\"text-align: center\">10.13</td><td style=\"text-align: center\">1</td></tr></tbody></table></div>"
      ],
      "text/plain": [
       "<VariantChunkedTable shape=(8906423,) dtype=[('POS', '<i4'), ('REF', 'S1'), ('ALT', 'S1'), ('DP', '<i4'), ('MQ', '<f4'), ('QD', '<f4'), ('numalt', '<i4')]\n",
       "   nbytes=186.9M cbytes=-7 cratio=-27991615.1\n",
       "   values=zarr.hierarchy.Group>"
      ]
     },
     "execution_count": 10,
     "metadata": {},
     "output_type": "execute_result"
    }
   ],
   "source": [
    "variants_phase2 = allel.VariantChunkedTable(calldata_phase2[\"2L\"][\"variants\"], \n",
    "                                     names=['POS', 'REF', 'ALT', 'DP', 'MQ', 'QD', 'numalt'],\n",
    "                                     index='POS')\n",
    "variants_phase2"
   ]
  },
  {
   "cell_type": "code",
   "execution_count": 60,
   "metadata": {},
   "outputs": [
    {
     "data": {
      "text/plain": [
       "<HDF5 file \"outgroup_alleles.h5\" (mode r)>"
      ]
     },
     "execution_count": 60,
     "metadata": {},
     "output_type": "execute_result"
    }
   ],
   "source": [
    "calldata_out= h5py.File('/gcs/phase1.AR3/extras/outgroup_alleles.h5', mode='r')\n",
    "calldata_out"
   ]
  },
  {
   "cell_type": "code",
   "execution_count": 61,
   "metadata": {},
   "outputs": [
    {
     "data": {
      "text/plain": [
       "<KeysViewHDF5 ['2L', '2R', '3L', '3R', 'X']>"
      ]
     },
     "execution_count": 61,
     "metadata": {},
     "output_type": "execute_result"
    }
   ],
   "source": [
    "calldata_out.keys()"
   ]
  },
  {
   "cell_type": "code",
   "execution_count": 62,
   "metadata": {},
   "outputs": [
    {
     "data": {
      "text/plain": [
       "<KeysViewHDF5 ['arab', 'chri', 'epir', 'mela', 'meru', 'quad']>"
      ]
     },
     "execution_count": 62,
     "metadata": {},
     "output_type": "execute_result"
    }
   ],
   "source": [
    "calldata_out['2L'].keys()"
   ]
  },
  {
   "cell_type": "code",
   "execution_count": 63,
   "metadata": {},
   "outputs": [
    {
     "data": {
      "text/plain": [
       "array([b'C', b'G', b'C', b'C', b'C', b'C', b'G', b'C', b'C', b'T'],\n",
       "      dtype='|S1')"
      ]
     },
     "execution_count": 63,
     "metadata": {},
     "output_type": "execute_result"
    }
   ],
   "source": [
    "calldata_out['2L']['chri'][1000_000:1000_010]numpy.isnan(myarray).any()"
   ]
  },
  {
   "cell_type": "code",
   "execution_count": 64,
   "metadata": {},
   "outputs": [
    {
     "data": {
      "text/plain": [
       "(array([b'.', b'.', b'.', ..., b'.', b'.', b'.'], dtype='|S1'), (10377280,))"
      ]
     },
     "execution_count": 64,
     "metadata": {},
     "output_type": "execute_result"
    }
   ],
   "source": [
    "calldata_chr = calldata_out['2L']['chri']\n",
    "calldata_chr[:], calldata_chr.shape"
   ]
  },
  {
   "cell_type": "code",
   "execution_count": 65,
   "metadata": {},
   "outputs": [
    {
     "data": {
      "text/plain": [
       "<HDF5 file \"outgroup_allele_counts.h5\" (mode r)>"
      ]
     },
     "execution_count": 65,
     "metadata": {},
     "output_type": "execute_result"
    }
   ],
   "source": [
    "calldata_out_count= h5py.File('/gcs/phase1.AR3/extras/outgroup_allele_counts.h5', mode='r')\n",
    "calldata_out_count"
   ]
  },
  {
   "cell_type": "code",
   "execution_count": 66,
   "metadata": {},
   "outputs": [
    {
     "data": {
      "text/plain": [
       "<KeysViewHDF5 ['2L', '2R', '3L', '3R', 'X']>"
      ]
     },
     "execution_count": 66,
     "metadata": {},
     "output_type": "execute_result"
    }
   ],
   "source": [
    "calldata_out_count.keys()"
   ]
  },
  {
   "cell_type": "code",
   "execution_count": 67,
   "metadata": {},
   "outputs": [
    {
     "data": {
      "text/plain": [
       "<KeysViewHDF5 ['arab', 'chri', 'epir', 'mela', 'meru', 'quad']>"
      ]
     },
     "execution_count": 67,
     "metadata": {},
     "output_type": "execute_result"
    }
   ],
   "source": [
    "calldata_out_count['2L'].keys()"
   ]
  },
  {
   "cell_type": "code",
   "execution_count": null,
   "metadata": {},
   "outputs": [],
   "source": []
  },
  {
   "cell_type": "code",
   "execution_count": 68,
   "metadata": {},
   "outputs": [
    {
     "data": {
      "text/plain": [
       "array([[1, 0, 0, 0],\n",
       "       [1, 0, 0, 0],\n",
       "       [1, 0, 0, 0],\n",
       "       [1, 0, 0, 0],\n",
       "       [1, 0, 0, 0],\n",
       "       [1, 0, 0, 0],\n",
       "       [1, 0, 0, 0],\n",
       "       [1, 0, 0, 0],\n",
       "       [1, 0, 0, 0],\n",
       "       [0, 1, 0, 0]], dtype=int32)"
      ]
     },
     "execution_count": 68,
     "metadata": {},
     "output_type": "execute_result"
    }
   ],
   "source": [
    "calldata_out_count['2L']['chri'][1000_000:1000_010]"
   ]
  },
  {
   "cell_type": "code",
   "execution_count": 69,
   "metadata": {},
   "outputs": [
    {
     "data": {
      "text/plain": [
       "(array([[0, 0, 0, 0],\n",
       "        [0, 0, 0, 0],\n",
       "        [0, 0, 0, 0],\n",
       "        ...,\n",
       "        [0, 0, 0, 0],\n",
       "        [0, 0, 0, 0],\n",
       "        [0, 0, 0, 0]], dtype=int32), (10377280, 4))"
      ]
     },
     "execution_count": 69,
     "metadata": {},
     "output_type": "execute_result"
    }
   ],
   "source": [
    "calldata_chr_count = calldata_out_count['2L']['chri']\n",
    "calldata_chr_count[:], calldata_chr_count.shape"
   ]
  },
  {
   "cell_type": "code",
   "execution_count": 26,
   "metadata": {},
   "outputs": [],
   "source": [
    "b = np.asarray(calldata_chr)"
   ]
  },
  {
   "cell_type": "code",
   "execution_count": 41,
   "metadata": {},
   "outputs": [],
   "source": [
    "asd = b.tolist()"
   ]
  },
  {
   "cell_type": "code",
   "execution_count": 45,
   "metadata": {},
   "outputs": [],
   "source": [
    "a = list(filter(lambda x: x!= b'.', asd))"
   ]
  },
  {
   "cell_type": "code",
   "execution_count": 47,
   "metadata": {},
   "outputs": [
    {
     "data": {
      "text/plain": [
       "7793733"
      ]
     },
     "execution_count": 47,
     "metadata": {},
     "output_type": "execute_result"
    }
   ],
   "source": [
    "len(a)"
   ]
  },
  {
   "cell_type": "code",
   "execution_count": 94,
   "metadata": {},
   "outputs": [
    {
     "data": {
      "text/plain": [
       "(array([b'G', b'T', b'G', ..., b'G', b'G', b'A'], dtype='|S1'), (8906423,))"
      ]
     },
     "execution_count": 94,
     "metadata": {},
     "output_type": "execute_result"
    }
   ],
   "source": [
    "phase2_ref = calldata_phase2[\"2L\"][\"variants\"][\"REF\"][:]\n",
    "phase2_ref, phase2_ref.shape"
   ]
  },
  {
   "cell_type": "code",
   "execution_count": 95,
   "metadata": {},
   "outputs": [
    {
     "data": {
      "text/plain": [
       "(array([b'T', b'A', b'C', ..., b'T', b'T', b'G'], dtype='|S1'), (8906423,))"
      ]
     },
     "execution_count": 95,
     "metadata": {},
     "output_type": "execute_result"
    }
   ],
   "source": [
    "phase2_alt = calldata_phase2[\"2L\"][\"variants\"][\"ALT\"][:]\n",
    "phase2_alt, phase2_alt.shape"
   ]
  },
  {
   "cell_type": "code",
   "execution_count": 96,
   "metadata": {},
   "outputs": [
    {
     "ename": "ValueError",
     "evalue": "arrays do not have matching length for dimension 0",
     "output_type": "error",
     "traceback": [
      "\u001b[0;31m---------------------------------------------------------------------------\u001b[0m",
      "\u001b[0;31mValueError\u001b[0m                                Traceback (most recent call last)",
      "\u001b[0;32m<ipython-input-96-47650b23bc60>\u001b[0m in \u001b[0;36m<module>\u001b[0;34m\u001b[0m\n\u001b[0;32m----> 1\u001b[0;31m \u001b[0mallel\u001b[0m\u001b[0;34m.\u001b[0m\u001b[0mcreate_allele_mapping\u001b[0m\u001b[0;34m(\u001b[0m\u001b[0mphase2_ref\u001b[0m\u001b[0;34m,\u001b[0m \u001b[0mphase2_alt\u001b[0m\u001b[0;34m,\u001b[0m \u001b[0mcalldata_chr\u001b[0m\u001b[0;34m)\u001b[0m\u001b[0;34m\u001b[0m\u001b[0;34m\u001b[0m\u001b[0m\n\u001b[0m",
      "\u001b[0;32m/opt/conda/lib/python3.6/site-packages/allel/model/util.py\u001b[0m in \u001b[0;36mcreate_allele_mapping\u001b[0;34m(ref, alt, alleles, dtype)\u001b[0m\n\u001b[1;32m     76\u001b[0m     \u001b[0malt\u001b[0m \u001b[0;34m=\u001b[0m \u001b[0masarray_ndim\u001b[0m\u001b[0;34m(\u001b[0m\u001b[0malt\u001b[0m\u001b[0;34m,\u001b[0m \u001b[0;36m1\u001b[0m\u001b[0;34m,\u001b[0m \u001b[0;36m2\u001b[0m\u001b[0;34m)\u001b[0m\u001b[0;34m\u001b[0m\u001b[0;34m\u001b[0m\u001b[0m\n\u001b[1;32m     77\u001b[0m     \u001b[0malleles\u001b[0m \u001b[0;34m=\u001b[0m \u001b[0masarray_ndim\u001b[0m\u001b[0;34m(\u001b[0m\u001b[0malleles\u001b[0m\u001b[0;34m,\u001b[0m \u001b[0;36m1\u001b[0m\u001b[0;34m,\u001b[0m \u001b[0;36m2\u001b[0m\u001b[0;34m)\u001b[0m\u001b[0;34m\u001b[0m\u001b[0;34m\u001b[0m\u001b[0m\n\u001b[0;32m---> 78\u001b[0;31m     \u001b[0mcheck_dim0_aligned\u001b[0m\u001b[0;34m(\u001b[0m\u001b[0mref\u001b[0m\u001b[0;34m,\u001b[0m \u001b[0malt\u001b[0m\u001b[0;34m,\u001b[0m \u001b[0malleles\u001b[0m\u001b[0;34m)\u001b[0m\u001b[0;34m\u001b[0m\u001b[0;34m\u001b[0m\u001b[0m\n\u001b[0m\u001b[1;32m     79\u001b[0m \u001b[0;34m\u001b[0m\u001b[0m\n\u001b[1;32m     80\u001b[0m     \u001b[0;31m# reshape for convenience\u001b[0m\u001b[0;34m\u001b[0m\u001b[0;34m\u001b[0m\u001b[0;34m\u001b[0m\u001b[0m\n",
      "\u001b[0;32m/opt/conda/lib/python3.6/site-packages/allel/util.py\u001b[0m in \u001b[0;36mcheck_dim0_aligned\u001b[0;34m(*arrays)\u001b[0m\n\u001b[1;32m     88\u001b[0m \u001b[0;34m\u001b[0m\u001b[0m\n\u001b[1;32m     89\u001b[0m \u001b[0;32mdef\u001b[0m \u001b[0mcheck_dim0_aligned\u001b[0m\u001b[0;34m(\u001b[0m\u001b[0;34m*\u001b[0m\u001b[0marrays\u001b[0m\u001b[0;34m)\u001b[0m\u001b[0;34m:\u001b[0m\u001b[0;34m\u001b[0m\u001b[0;34m\u001b[0m\u001b[0m\n\u001b[0;32m---> 90\u001b[0;31m     \u001b[0mcheck_dim_aligned\u001b[0m\u001b[0;34m(\u001b[0m\u001b[0;36m0\u001b[0m\u001b[0;34m,\u001b[0m \u001b[0;34m*\u001b[0m\u001b[0marrays\u001b[0m\u001b[0;34m)\u001b[0m\u001b[0;34m\u001b[0m\u001b[0;34m\u001b[0m\u001b[0m\n\u001b[0m\u001b[1;32m     91\u001b[0m \u001b[0;34m\u001b[0m\u001b[0m\n\u001b[1;32m     92\u001b[0m \u001b[0;34m\u001b[0m\u001b[0m\n",
      "\u001b[0;32m/opt/conda/lib/python3.6/site-packages/allel/util.py\u001b[0m in \u001b[0;36mcheck_dim_aligned\u001b[0;34m(dim, *arrays)\u001b[0m\n\u001b[1;32m    100\u001b[0m         \u001b[0;32mif\u001b[0m \u001b[0mb\u001b[0m\u001b[0;34m.\u001b[0m\u001b[0mshape\u001b[0m\u001b[0;34m[\u001b[0m\u001b[0mdim\u001b[0m\u001b[0;34m]\u001b[0m \u001b[0;34m!=\u001b[0m \u001b[0ma\u001b[0m\u001b[0;34m.\u001b[0m\u001b[0mshape\u001b[0m\u001b[0;34m[\u001b[0m\u001b[0mdim\u001b[0m\u001b[0;34m]\u001b[0m\u001b[0;34m:\u001b[0m\u001b[0;34m\u001b[0m\u001b[0;34m\u001b[0m\u001b[0m\n\u001b[1;32m    101\u001b[0m             raise ValueError(\n\u001b[0;32m--> 102\u001b[0;31m                 \u001b[0;34m'arrays do not have matching length for dimension %s'\u001b[0m \u001b[0;34m%\u001b[0m \u001b[0mdim\u001b[0m\u001b[0;34m\u001b[0m\u001b[0;34m\u001b[0m\u001b[0m\n\u001b[0m\u001b[1;32m    103\u001b[0m             )\n\u001b[1;32m    104\u001b[0m \u001b[0;34m\u001b[0m\u001b[0m\n",
      "\u001b[0;31mValueError\u001b[0m: arrays do not have matching length for dimension 0"
     ]
    }
   ],
   "source": [
    "allel.create_allele_mapping(phase2_ref, phase2_alt, calldata_chr)"
   ]
  },
  {
   "cell_type": "code",
   "execution_count": null,
   "metadata": {},
   "outputs": [],
   "source": []
  },
  {
   "cell_type": "code",
   "execution_count": null,
   "metadata": {},
   "outputs": [],
   "source": []
  },
  {
   "cell_type": "code",
   "execution_count": null,
   "metadata": {},
   "outputs": [],
   "source": []
  },
  {
   "cell_type": "code",
   "execution_count": null,
   "metadata": {},
   "outputs": [],
   "source": []
  },
  {
   "cell_type": "code",
   "execution_count": null,
   "metadata": {},
   "outputs": [],
   "source": []
  },
  {
   "cell_type": "code",
   "execution_count": null,
   "metadata": {},
   "outputs": [],
   "source": []
  }
 ],
 "metadata": {
  "kernelspec": {
   "display_name": "Python 3",
   "language": "python",
   "name": "python3"
  },
  "language_info": {
   "codemirror_mode": {
    "name": "ipython",
    "version": 3
   },
   "file_extension": ".py",
   "mimetype": "text/x-python",
   "name": "python",
   "nbconvert_exporter": "python",
   "pygments_lexer": "ipython3",
   "version": "3.6.7"
  }
 },
 "nbformat": 4,
 "nbformat_minor": 4
}
