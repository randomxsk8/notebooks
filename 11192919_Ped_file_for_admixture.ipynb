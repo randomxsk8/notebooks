{
 "cells": [
  {
   "cell_type": "code",
   "execution_count": 43,
   "metadata": {},
   "outputs": [],
   "source": [
    "%run imports.ipynb\n",
    "from os.path import join, isdir, isfile\n",
    "import sh"
   ]
  },
  {
   "cell_type": "code",
   "execution_count": 44,
   "metadata": {},
   "outputs": [
    {
     "data": {
      "text/plain": []
     },
     "execution_count": 44,
     "metadata": {},
     "output_type": "execute_result"
    }
   ],
   "source": [
    "root_dir = \"/home/jovyan/notebooks/admixture\"\n",
    "wd = join(root_dir, \"preprocessed_data\", \"PLINK_v1.07\")\n",
    "sh.mkdir(\"-p\", wd)"
   ]
  },
  {
   "cell_type": "code",
   "execution_count": 45,
   "metadata": {},
   "outputs": [],
   "source": [
    "def estimate_gdist(pos, table):\n",
    "    which = np.searchsorted(table.pposition.tolist(), pos + 1)    \n",
    "    gap = pos - table.iloc[which - 1].pposition\n",
    "    rate = table.iloc[which - 1].rrate\n",
    "    return np.round(table.iloc[which - 1].gposition + ((gap/1e6) * rate), 7)"
   ]
  },
  {
   "cell_type": "code",
   "execution_count": 46,
   "metadata": {},
   "outputs": [],
   "source": [
    "def loadmap(path):\n",
    "    mapdata = pd.read_csv(path, sep=\"\\t\", index_col=None)\n",
    "    return mapdata"
   ]
  },
  {
   "cell_type": "code",
   "execution_count": 47,
   "metadata": {},
   "outputs": [],
   "source": [
    "mapfn = join(\"admixture/map/Ag_{chrom}.map\")"
   ]
  },
  {
   "cell_type": "code",
   "execution_count": 48,
   "metadata": {},
   "outputs": [],
   "source": [
    "from anhima import loc, gt\n",
    "import gzip"
   ]
  },
  {
   "cell_type": "code",
   "execution_count": 49,
   "metadata": {},
   "outputs": [],
   "source": [
    "meta_fn = \"samples.meta.txt\"\n",
    "dat = pd.read_csv(meta_fn, sep=\"\\t\", index_col=0)"
   ]
  },
  {
   "cell_type": "code",
   "execution_count": 50,
   "metadata": {},
   "outputs": [],
   "source": [
    "sex_d = {\"F\": \"2\", \"M\": \"1\"}\n",
    "fstem = \"{chrom}_{desc}_{start}_{stop}\""
   ]
  },
  {
   "cell_type": "code",
   "execution_count": 51,
   "metadata": {},
   "outputs": [],
   "source": [
    "callset_fn = callset_biallel"
   ]
  },
  {
   "cell_type": "code",
   "execution_count": 52,
   "metadata": {},
   "outputs": [
    {
     "data": {
      "text/plain": []
     },
     "execution_count": 52,
     "metadata": {},
     "output_type": "execute_result"
    }
   ],
   "source": [
    "script_d = join(wd, \"_script\")\n",
    "log_d = join(wd, \"_log\")\n",
    "sh.mkdir(\"-p\", script_d, log_d)"
   ]
  },
  {
   "cell_type": "code",
   "execution_count": 53,
   "metadata": {},
   "outputs": [],
   "source": [
    "plink_cmd = \"\"\"\n",
    "#! /bin/bash\n",
    "\n",
    "set -e \n",
    "set -o pipefail\n",
    "\n",
    "cd {wd}\n",
    "gunzip {file}.ped.gz {file}.map.gz\n",
    "plink --noweb --file {file} --out {file}.ld --indep-pairwise {nsnps} {slide} {r2}\n",
    "\n",
    "shuf -n 200000 {file}.ld.prune.in | sort > {file}.ld.prune.in.downsample\n",
    "\n",
    "plink --noweb --file {file} --extract {file}.ld.prune.in.downsample \\\\\n",
    "  --out {file}.ld.pruned --make-bed\n",
    "plink --noweb --file {file} --extract {file}.ld.prune.in.downsample \\\\\n",
    "  --out {file}.ld.pruned --recode\n",
    "\n",
    "gzip {file}.ped {file}.map\n",
    "\"\"\""
   ]
  },
  {
   "cell_type": "code",
   "execution_count": 54,
   "metadata": {},
   "outputs": [],
   "source": [
    "maf_min = 0.01\n",
    "r2_value = 0.1\n",
    "downsample_n = 100000"
   ]
  },
  {
   "cell_type": "code",
   "execution_count": 55,
   "metadata": {},
   "outputs": [],
   "source": [
    "regions = ((\"3R\", 1000000, 37000000, \"free\"),\n",
    "           (\"3L\", 15000000, 41000000, \"free\"))"
   ]
  },
  {
   "cell_type": "code",
   "execution_count": 56,
   "metadata": {},
   "outputs": [
    {
     "name": "stdout",
     "output_type": "stream",
     "text": [
      "3R free\n",
      "Downsampling... to 100000 from 1349635\n",
      "3L free\n",
      "Downsampling... to 100000 from 938716\n"
     ]
    }
   ],
   "source": [
    "for chrom, start, stop, description in regions:\n",
    "    print(chrom, description)\n",
    "    fh = callset_fn[chrom]\n",
    "    fh_samples = [str(s) for s in callset_fn[chrom][\"samples\"][:]]\n",
    "\n",
    "    region_stem = fstem.format(chrom=chrom, start=start, stop=stop, desc=description)\n",
    "\n",
    "    # plink command\n",
    "    cmd = plink_cmd.format(file=region_stem, wd=wd, nsnps=500, slide=100, r2=r2_value)\n",
    "    sfn = join(script_d, \"PLINK_\" + region_stem + \".sh\")\n",
    "    with open(sfn, \"w\") as sf:\n",
    "        print(cmd, file=sf)\n",
    "    \n",
    "    positions = fh['variants']['POS'][:]\n",
    "    loci = (positions >= start) & (positions <= stop)\n",
    "    \n",
    "    g = allel.GenotypeChunkedArray(fh['calldata/GT']).compress(loci, axis=0)\n",
    "        \n",
    "    pos = np.compress(loci, positions)\n",
    "    positions = None\n",
    "    \n",
    "    alleles = g.count_alleles()\n",
    "    \n",
    "    biallelic = alleles.max_allele() <= 1\n",
    "    g = g.compress(biallelic, axis=0)\n",
    "    pos = np.compress(np.array(biallelic), pos)\n",
    "    \n",
    "    freqs = g.count_alleles().to_frequencies()\n",
    "    maf_ok = np.min(np.array(freqs), axis=1) >= maf_min\n",
    "    g = g.compress(maf_ok, axis=0)\n",
    "    pos = np.compress(maf_ok, pos, axis=0)\n",
    "\n",
    "    if pos.size > downsample_n:\n",
    "        print(\"Downsampling... to {0} from {1}\".format(downsample_n, pos.size))\n",
    "        idx = np.random.choice(np.arange(0, pos.size), downsample_n, False)\n",
    "        idx.sort()\n",
    "        pos = np.take(pos, idx)\n",
    "        g = g.take(idx, axis=0)\n",
    "    \n",
    "    # create the ped file\n",
    "    fn = join(wd, region_stem + \".ped.gz\")\n",
    "    if not isfile(fn + \".ok\"):\n",
    "        with gzip.open(fn, \"wb\") as gz:\n",
    "            for i, sid in enumerate(fh_samples):\n",
    "                sex = sex_d[dat.loc[sid].sex]\n",
    "                if (chrom == \"X\") and (sex == \"1\"):\n",
    "                    continue\n",
    "                geno = np.array(g[:, i] + 1)\n",
    "                geno_str = \" \".join(np.apply_along_axis(\" \".join, 1, geno.astype(\"str\")))\n",
    "                line = \" \".join([sid, sid, \"0\", \"0\", sex, \"0\", geno_str]) + \"\\n\"\n",
    "                gz.write(line.encode())\n",
    "        \n",
    "        sh.touch(join(wd, fn + \".ok\"))"
   ]
  },
  {
   "cell_type": "markdown",
   "metadata": {},
   "source": [
    "------------------------------"
   ]
  }
 ],
 "metadata": {
  "kernelspec": {
   "display_name": "Python 3",
   "language": "python",
   "name": "python3"
  },
  "language_info": {
   "codemirror_mode": {
    "name": "ipython",
    "version": 3
   },
   "file_extension": ".py",
   "mimetype": "text/x-python",
   "name": "python",
   "nbconvert_exporter": "python",
   "pygments_lexer": "ipython3",
   "version": "3.6.7"
  }
 },
 "nbformat": 4,
 "nbformat_minor": 4
}
