{
 "cells": [
  {
   "cell_type": "code",
   "execution_count": 3,
   "metadata": {},
   "outputs": [],
   "source": [
    "import gcsfs #module for google cloud connection\n",
    "import os\n",
    "import allel\n",
    "import zarr\n",
    "import pandas as pd\n",
    "import h5py\n",
    "import petl as etl\n",
    "import numpy as np\n",
    "from matplotlib import pyplot\n",
    "import seaborn as sns\n",
    "import h5py\n",
    "import pyfasta"
   ]
  },
  {
   "cell_type": "code",
   "execution_count": 4,
   "metadata": {},
   "outputs": [],
   "source": [
    "gcs =  gcsfs.GCSFileSystem(project='malariagen-jupyterhub', token='cloud') ## cloud connection function"
   ]
  },
  {
   "cell_type": "code",
   "execution_count": 5,
   "metadata": {},
   "outputs": [],
   "source": [
    "geno_path = os.path.join(\"ag1000g-release/phase2.AR1/variation/main/zarr/all/ag1000g.phase2.ar1\")  ## Adding phase2 genotype path \n",
    "gcsmap = gcsfs.mapping.GCSMap(geno_path, gcs=gcs) ## link callset\n",
    "callset= zarr.Group(gcsmap, read_only=True) ## read data"
   ]
  },
  {
   "cell_type": "code",
   "execution_count": 6,
   "metadata": {},
   "outputs": [],
   "source": [
    "geno_path = os.path.join(\"ag1000g-release/phase2.AR1/variation/main/zarr/biallelic/ag1000g.phase2.ar1.pass.biallelic\")  ## Adding phase2 genotype path \n",
    "gcsmap = gcsfs.mapping.GCSMap(geno_path, gcs=gcs) ## link callset\n",
    "callset_biallel= zarr.Group(gcsmap, read_only=True) ## read data"
   ]
  },
  {
   "cell_type": "code",
   "execution_count": 7,
   "metadata": {},
   "outputs": [
    {
     "data": {
      "text/plain": [
       "<KeysViewHDF5 ['2L', '2R', '3L', '3R', 'X']>"
      ]
     },
     "execution_count": 7,
     "metadata": {},
     "output_type": "execute_result"
    }
   ],
   "source": [
    "calldata_out= h5py.File('data/outgroup_allele_counts_phase2.h5', mode='r')\n",
    "calldata_out.keys()"
   ]
  },
  {
   "cell_type": "markdown",
   "metadata": {},
   "source": [
    "---------------------------"
   ]
  },
  {
   "cell_type": "markdown",
   "metadata": {},
   "source": [
    "### Loading positions"
   ]
  },
  {
   "cell_type": "code",
   "execution_count": 62,
   "metadata": {},
   "outputs": [
    {
     "data": {
      "text/html": [
       "<div class=\"allel allel-DisplayAs1D\"><span>&lt;SortedIndex shape=(18167056,) dtype=int32&gt;</span><table><thead><tr><th style=\"text-align: center\">0</th><th style=\"text-align: center\">1</th><th style=\"text-align: center\">2</th><th style=\"text-align: center\">3</th><th style=\"text-align: center\">4</th><th style=\"text-align: center\">...</th><th style=\"text-align: center\">18167051</th><th style=\"text-align: center\">18167052</th><th style=\"text-align: center\">18167053</th><th style=\"text-align: center\">18167054</th><th style=\"text-align: center\">18167055</th></tr></thead><tbody><tr><td style=\"text-align: center\">15</td><td style=\"text-align: center\">19</td><td style=\"text-align: center\">20</td><td style=\"text-align: center\">23</td><td style=\"text-align: center\">24</td><td style=\"text-align: center\">...</td><td style=\"text-align: center\">41963165</td><td style=\"text-align: center\">41963183</td><td style=\"text-align: center\">41963184</td><td style=\"text-align: center\">41963288</td><td style=\"text-align: center\">41963345</td></tr></tbody></table></div>"
      ],
      "text/plain": [
       "<SortedIndex shape=(18167056,) dtype=int32>\n",
       "[15, 19, 20, 23, 24, ..., 41963165, 41963183, 41963184, 41963288, 41963345]"
      ]
     },
     "execution_count": 62,
     "metadata": {},
     "output_type": "execute_result"
    }
   ],
   "source": [
    "pos_all = allel.SortedIndex(callset[\"3L\"][\"variants/POS\"][:])\n",
    "pos_all"
   ]
  },
  {
   "cell_type": "code",
   "execution_count": 63,
   "metadata": {},
   "outputs": [
    {
     "data": {
      "text/html": [
       "<div class=\"allel allel-DisplayAs1D\"><span>&lt;SortedIndex shape=(7897666,) dtype=int32&gt;</span><table><thead><tr><th style=\"text-align: center\">0</th><th style=\"text-align: center\">1</th><th style=\"text-align: center\">2</th><th style=\"text-align: center\">3</th><th style=\"text-align: center\">4</th><th style=\"text-align: center\">...</th><th style=\"text-align: center\">7897661</th><th style=\"text-align: center\">7897662</th><th style=\"text-align: center\">7897663</th><th style=\"text-align: center\">7897664</th><th style=\"text-align: center\">7897665</th></tr></thead><tbody><tr><td style=\"text-align: center\">9790</td><td style=\"text-align: center\">9791</td><td style=\"text-align: center\">9798</td><td style=\"text-align: center\">9812</td><td style=\"text-align: center\">9815</td><td style=\"text-align: center\">...</td><td style=\"text-align: center\">41956530</td><td style=\"text-align: center\">41956532</td><td style=\"text-align: center\">41956537</td><td style=\"text-align: center\">41956541</td><td style=\"text-align: center\">41956551</td></tr></tbody></table></div>"
      ],
      "text/plain": [
       "<SortedIndex shape=(7897666,) dtype=int32>\n",
       "[9790, 9791, 9798, 9812, 9815, ..., 41956530, 41956532, 41956537, 41956541, 41956551]"
      ]
     },
     "execution_count": 63,
     "metadata": {},
     "output_type": "execute_result"
    }
   ],
   "source": [
    "pos_bi = allel.SortedIndex(callset_biallel[\"3L\"][\"variants/POS\"])\n",
    "pos_bi"
   ]
  },
  {
   "cell_type": "code",
   "execution_count": 61,
   "metadata": {},
   "outputs": [
    {
     "data": {
      "text/plain": [
       "(array([ True,  True,  True, ...,  True,  True,  True]),\n",
       " array([False, False, False, ..., False, False, False]))"
      ]
     },
     "execution_count": 61,
     "metadata": {},
     "output_type": "execute_result"
    }
   ],
   "source": [
    "loc1, loc2 = pos_bi.locate_intersection(pos_all)\n",
    "loc1, loc2"
   ]
  },
  {
   "cell_type": "code",
   "execution_count": 58,
   "metadata": {},
   "outputs": [
    {
     "data": {
      "text/html": [
       "<div class=\"allel allel-DisplayAs1D\"><span>&lt;SortedIndex shape=(8906423,) dtype=int32&gt;</span><table><thead><tr><th style=\"text-align: center\">0</th><th style=\"text-align: center\">1</th><th style=\"text-align: center\">2</th><th style=\"text-align: center\">3</th><th style=\"text-align: center\">4</th><th style=\"text-align: center\">...</th><th style=\"text-align: center\">8906418</th><th style=\"text-align: center\">8906419</th><th style=\"text-align: center\">8906420</th><th style=\"text-align: center\">8906421</th><th style=\"text-align: center\">8906422</th></tr></thead><tbody><tr><td style=\"text-align: center\">25050</td><td style=\"text-align: center\">51212</td><td style=\"text-align: center\">51214</td><td style=\"text-align: center\">51226</td><td style=\"text-align: center\">51245</td><td style=\"text-align: center\">...</td><td style=\"text-align: center\">49356421</td><td style=\"text-align: center\">49356424</td><td style=\"text-align: center\">49356425</td><td style=\"text-align: center\">49356426</td><td style=\"text-align: center\">49356429</td></tr></tbody></table></div>"
      ],
      "text/plain": [
       "<SortedIndex shape=(8906423,) dtype=int32>\n",
       "[25050, 51212, 51214, 51226, 51245, ..., 49356421, 49356424, 49356425, 49356426, 49356429]"
      ]
     },
     "execution_count": 58,
     "metadata": {},
     "output_type": "execute_result"
    }
   ],
   "source": [
    "pos_p2_sel = pos_bi[loc1]\n",
    "pos_p2_sel"
   ]
  },
  {
   "cell_type": "code",
   "execution_count": 32,
   "metadata": {},
   "outputs": [
    {
     "data": {
      "text/html": [
       "<div class=\"allel allel-DisplayAs1D\"><span>&lt;SortedIndex shape=(8906423,) dtype=int32&gt;</span><table><thead><tr><th style=\"text-align: center\">0</th><th style=\"text-align: center\">1</th><th style=\"text-align: center\">2</th><th style=\"text-align: center\">3</th><th style=\"text-align: center\">4</th><th style=\"text-align: center\">...</th><th style=\"text-align: center\">8906418</th><th style=\"text-align: center\">8906419</th><th style=\"text-align: center\">8906420</th><th style=\"text-align: center\">8906421</th><th style=\"text-align: center\">8906422</th></tr></thead><tbody><tr><td style=\"text-align: center\">25050</td><td style=\"text-align: center\">51212</td><td style=\"text-align: center\">51214</td><td style=\"text-align: center\">51226</td><td style=\"text-align: center\">51245</td><td style=\"text-align: center\">...</td><td style=\"text-align: center\">49356421</td><td style=\"text-align: center\">49356424</td><td style=\"text-align: center\">49356425</td><td style=\"text-align: center\">49356426</td><td style=\"text-align: center\">49356429</td></tr></tbody></table></div>"
      ],
      "text/plain": [
       "<SortedIndex shape=(8906423,) dtype=int32>\n",
       "[25050, 51212, 51214, 51226, 51245, ..., 49356421, 49356424, 49356425, 49356426, 49356429]"
      ]
     },
     "execution_count": 32,
     "metadata": {},
     "output_type": "execute_result"
    }
   ],
   "source": [
    "pos_p1_sel = pos_all[loc2]\n",
    "pos_p1_sel"
   ]
  },
  {
   "cell_type": "markdown",
   "metadata": {},
   "source": [
    "------------------------------"
   ]
  },
  {
   "cell_type": "code",
   "execution_count": 33,
   "metadata": {},
   "outputs": [
    {
     "data": {
      "text/html": [
       "<div class=\"allel allel-DisplayAsTable\"><span>&lt;VariantChunkedTable shape=(21442865,) dtype=[('POS', '&lt;i4'), ('REF', 'S1'), ('ALT', 'S1', (3,)), ('DP', '&lt;i4'), ('MQ', '&lt;f4'), ('QD', '&lt;f4'), ('numalt', '&lt;i4')]\n",
       "   nbytes=490.8M cbytes=-7 cratio=-73518394.3\n",
       "   values=zarr.hierarchy.Group&gt;</span><table><thead><tr><th></th><th style=\"text-align: center\">POS</th><th style=\"text-align: center\">REF</th><th style=\"text-align: center\">ALT</th><th style=\"text-align: center\">DP</th><th style=\"text-align: center\">MQ</th><th style=\"text-align: center\">QD</th><th style=\"text-align: center\">numalt</th></tr></thead><tbody><tr><th style=\"text-align: center; background-color: white; border-right: 1px solid black; \">0</th><td style=\"text-align: center\">20</td><td style=\"text-align: center\">b'C'</td><td style=\"text-align: center\">[b'T' b'' b'']</td><td style=\"text-align: center\">6</td><td style=\"text-align: center\">1.8</td><td style=\"text-align: center\">13.06</td><td style=\"text-align: center\">1</td></tr><tr><th style=\"text-align: center; background-color: white; border-right: 1px solid black; \">1</th><td style=\"text-align: center\">103</td><td style=\"text-align: center\">b'C'</td><td style=\"text-align: center\">[b'T' b'' b'']</td><td style=\"text-align: center\">252</td><td style=\"text-align: center\">1.54</td><td style=\"text-align: center\">1.47</td><td style=\"text-align: center\">1</td></tr><tr><th style=\"text-align: center; background-color: white; border-right: 1px solid black; \">2</th><td style=\"text-align: center\">163</td><td style=\"text-align: center\">b'G'</td><td style=\"text-align: center\">[b'A' b'' b'']</td><td style=\"text-align: center\">709</td><td style=\"text-align: center\">2.21</td><td style=\"text-align: center\">1.75</td><td style=\"text-align: center\">1</td></tr><tr><th style=\"text-align: center; background-color: white; border-right: 1px solid black; \">...</th><td style=\"text-align: center\" colspan=\"8\">...</td></tr><tr><th style=\"text-align: center; background-color: white; border-right: 1px solid black; \">21442862</th><td style=\"text-align: center\">49361815</td><td style=\"text-align: center\">b'A'</td><td style=\"text-align: center\">[b'G' b'' b'']</td><td style=\"text-align: center\">5011</td><td style=\"text-align: center\">0.62</td><td style=\"text-align: center\">0.08</td><td style=\"text-align: center\">1</td></tr><tr><th style=\"text-align: center; background-color: white; border-right: 1px solid black; \">21442863</th><td style=\"text-align: center\">49362329</td><td style=\"text-align: center\">b'C'</td><td style=\"text-align: center\">[b'T' b'' b'']</td><td style=\"text-align: center\">929</td><td style=\"text-align: center\">0.12</td><td style=\"text-align: center\">0.1</td><td style=\"text-align: center\">1</td></tr><tr><th style=\"text-align: center; background-color: white; border-right: 1px solid black; \">21442864</th><td style=\"text-align: center\">49362335</td><td style=\"text-align: center\">b'A'</td><td style=\"text-align: center\">[b'T' b'' b'']</td><td style=\"text-align: center\">916</td><td style=\"text-align: center\">0.1</td><td style=\"text-align: center\">0.06</td><td style=\"text-align: center\">1</td></tr></tbody></table></div>"
      ],
      "text/plain": [
       "<VariantChunkedTable shape=(21442865,) dtype=[('POS', '<i4'), ('REF', 'S1'), ('ALT', 'S1', (3,)), ('DP', '<i4'), ('MQ', '<f4'), ('QD', '<f4'), ('numalt', '<i4')]\n",
       "   nbytes=490.8M cbytes=-7 cratio=-73518394.3\n",
       "   values=zarr.hierarchy.Group>"
      ]
     },
     "execution_count": 33,
     "metadata": {},
     "output_type": "execute_result"
    }
   ],
   "source": [
    "variants_all = allel.VariantChunkedTable(callset[\"2L\"][\"variants\"], \n",
    "                                     names=['POS', 'REF', 'ALT', 'DP', 'MQ', 'QD', 'numalt'],\n",
    "                                     index='POS')\n",
    "variants_all"
   ]
  },
  {
   "cell_type": "code",
   "execution_count": 35,
   "metadata": {},
   "outputs": [
    {
     "data": {
      "text/html": [
       "<div class=\"allel allel-DisplayAsTable\"><span>&lt;VariantChunkedTable shape=(8906423,) dtype=[('POS', '&lt;i4'), ('REF', 'S1'), ('ALT', 'S1', (3,)), ('DP', '&lt;i4'), ('MQ', '&lt;f4'), ('QD', '&lt;f4'), ('numalt', '&lt;i4')]\n",
       "   nbytes=203.9M cbytes=90.6M cratio=2.2\n",
       "   values=allel.chunked.storage_zarr.ZarrTable&gt;</span><table><thead><tr><th></th><th style=\"text-align: center\">POS</th><th style=\"text-align: center\">REF</th><th style=\"text-align: center\">ALT</th><th style=\"text-align: center\">DP</th><th style=\"text-align: center\">MQ</th><th style=\"text-align: center\">QD</th><th style=\"text-align: center\">numalt</th></tr></thead><tbody><tr><th style=\"text-align: center; background-color: white; border-right: 1px solid black; \">0</th><td style=\"text-align: center\">25050</td><td style=\"text-align: center\">b'G'</td><td style=\"text-align: center\">[b'T' b'' b'']</td><td style=\"text-align: center\">38417</td><td style=\"text-align: center\">51.53</td><td style=\"text-align: center\">8.02</td><td style=\"text-align: center\">1</td></tr><tr><th style=\"text-align: center; background-color: white; border-right: 1px solid black; \">1</th><td style=\"text-align: center\">51212</td><td style=\"text-align: center\">b'T'</td><td style=\"text-align: center\">[b'A' b'' b'']</td><td style=\"text-align: center\">39639</td><td style=\"text-align: center\">55.75</td><td style=\"text-align: center\">13.58</td><td style=\"text-align: center\">1</td></tr><tr><th style=\"text-align: center; background-color: white; border-right: 1px solid black; \">2</th><td style=\"text-align: center\">51214</td><td style=\"text-align: center\">b'G'</td><td style=\"text-align: center\">[b'C' b'' b'']</td><td style=\"text-align: center\">39461</td><td style=\"text-align: center\">55.73</td><td style=\"text-align: center\">19.83</td><td style=\"text-align: center\">1</td></tr><tr><th style=\"text-align: center; background-color: white; border-right: 1px solid black; \">...</th><td style=\"text-align: center\" colspan=\"8\">...</td></tr><tr><th style=\"text-align: center; background-color: white; border-right: 1px solid black; \">8906420</th><td style=\"text-align: center\">49356425</td><td style=\"text-align: center\">b'G'</td><td style=\"text-align: center\">[b'T' b'' b'']</td><td style=\"text-align: center\">28138</td><td style=\"text-align: center\">41.81</td><td style=\"text-align: center\">9.58</td><td style=\"text-align: center\">1</td></tr><tr><th style=\"text-align: center; background-color: white; border-right: 1px solid black; \">8906421</th><td style=\"text-align: center\">49356426</td><td style=\"text-align: center\">b'G'</td><td style=\"text-align: center\">[b'T' b'' b'']</td><td style=\"text-align: center\">28311</td><td style=\"text-align: center\">41.57</td><td style=\"text-align: center\">10.3</td><td style=\"text-align: center\">1</td></tr><tr><th style=\"text-align: center; background-color: white; border-right: 1px solid black; \">8906422</th><td style=\"text-align: center\">49356429</td><td style=\"text-align: center\">b'A'</td><td style=\"text-align: center\">[b'G' b'' b'']</td><td style=\"text-align: center\">28106</td><td style=\"text-align: center\">40.92</td><td style=\"text-align: center\">10.13</td><td style=\"text-align: center\">1</td></tr></tbody></table></div>"
      ],
      "text/plain": [
       "<VariantChunkedTable shape=(8906423,) dtype=[('POS', '<i4'), ('REF', 'S1'), ('ALT', 'S1', (3,)), ('DP', '<i4'), ('MQ', '<f4'), ('QD', '<f4'), ('numalt', '<i4')]\n",
       "   nbytes=203.9M cbytes=90.6M cratio=2.2\n",
       "   values=allel.chunked.storage_zarr.ZarrTable>"
      ]
     },
     "execution_count": 35,
     "metadata": {},
     "output_type": "execute_result"
    }
   ],
   "source": [
    "variants_all_filt = variants_all.compress(loc2)\n",
    "variants_all_filt"
   ]
  },
  {
   "cell_type": "code",
   "execution_count": 44,
   "metadata": {},
   "outputs": [
    {
     "data": {
      "text/plain": [
       "(array([b'G', b'T', b'G', ..., b'G', b'G', b'A'], dtype='|S1'), (8906423,))"
      ]
     },
     "execution_count": 44,
     "metadata": {},
     "output_type": "execute_result"
    }
   ],
   "source": [
    "phase2_all_ref = variants_all_filt[\"REF\"][:]\n",
    "phase2_all_ref, phase2_all_ref.shape"
   ]
  },
  {
   "cell_type": "code",
   "execution_count": 45,
   "metadata": {},
   "outputs": [
    {
     "data": {
      "text/plain": [
       "(array([[b'T', b'', b''],\n",
       "        [b'A', b'', b''],\n",
       "        [b'C', b'', b''],\n",
       "        ...,\n",
       "        [b'T', b'', b''],\n",
       "        [b'T', b'', b''],\n",
       "        [b'G', b'', b'']], dtype='|S1'), (8906423, 3))"
      ]
     },
     "execution_count": 45,
     "metadata": {},
     "output_type": "execute_result"
    }
   ],
   "source": [
    "phase2_all_alt = variants_all_filt[\"ALT\"][:]\n",
    "phase2_all_alt, phase2_all_alt.shape"
   ]
  },
  {
   "cell_type": "code",
   "execution_count": 38,
   "metadata": {},
   "outputs": [
    {
     "data": {
      "text/html": [
       "<div class=\"allel allel-DisplayAsTable\"><span>&lt;VariantChunkedTable shape=(8906423,) dtype=[('POS', '&lt;i4'), ('REF', 'S1'), ('ALT', 'S1'), ('DP', '&lt;i4'), ('MQ', '&lt;f4'), ('QD', '&lt;f4'), ('numalt', '&lt;i4')]\n",
       "   nbytes=186.9M cbytes=-7 cratio=-27991615.1\n",
       "   values=zarr.hierarchy.Group&gt;</span><table><thead><tr><th></th><th style=\"text-align: center\">POS</th><th style=\"text-align: center\">REF</th><th style=\"text-align: center\">ALT</th><th style=\"text-align: center\">DP</th><th style=\"text-align: center\">MQ</th><th style=\"text-align: center\">QD</th><th style=\"text-align: center\">numalt</th></tr></thead><tbody><tr><th style=\"text-align: center; background-color: white; border-right: 1px solid black; \">0</th><td style=\"text-align: center\">25050</td><td style=\"text-align: center\">b'G'</td><td style=\"text-align: center\">b'T'</td><td style=\"text-align: center\">38417</td><td style=\"text-align: center\">51.53</td><td style=\"text-align: center\">8.02</td><td style=\"text-align: center\">1</td></tr><tr><th style=\"text-align: center; background-color: white; border-right: 1px solid black; \">1</th><td style=\"text-align: center\">51212</td><td style=\"text-align: center\">b'T'</td><td style=\"text-align: center\">b'A'</td><td style=\"text-align: center\">39639</td><td style=\"text-align: center\">55.75</td><td style=\"text-align: center\">13.58</td><td style=\"text-align: center\">1</td></tr><tr><th style=\"text-align: center; background-color: white; border-right: 1px solid black; \">2</th><td style=\"text-align: center\">51214</td><td style=\"text-align: center\">b'G'</td><td style=\"text-align: center\">b'C'</td><td style=\"text-align: center\">39461</td><td style=\"text-align: center\">55.73</td><td style=\"text-align: center\">19.83</td><td style=\"text-align: center\">1</td></tr><tr><th style=\"text-align: center; background-color: white; border-right: 1px solid black; \">...</th><td style=\"text-align: center\" colspan=\"8\">...</td></tr><tr><th style=\"text-align: center; background-color: white; border-right: 1px solid black; \">8906420</th><td style=\"text-align: center\">49356425</td><td style=\"text-align: center\">b'G'</td><td style=\"text-align: center\">b'T'</td><td style=\"text-align: center\">28138</td><td style=\"text-align: center\">41.81</td><td style=\"text-align: center\">9.58</td><td style=\"text-align: center\">1</td></tr><tr><th style=\"text-align: center; background-color: white; border-right: 1px solid black; \">8906421</th><td style=\"text-align: center\">49356426</td><td style=\"text-align: center\">b'G'</td><td style=\"text-align: center\">b'T'</td><td style=\"text-align: center\">28311</td><td style=\"text-align: center\">41.57</td><td style=\"text-align: center\">10.3</td><td style=\"text-align: center\">1</td></tr><tr><th style=\"text-align: center; background-color: white; border-right: 1px solid black; \">8906422</th><td style=\"text-align: center\">49356429</td><td style=\"text-align: center\">b'A'</td><td style=\"text-align: center\">b'G'</td><td style=\"text-align: center\">28106</td><td style=\"text-align: center\">40.92</td><td style=\"text-align: center\">10.13</td><td style=\"text-align: center\">1</td></tr></tbody></table></div>"
      ],
      "text/plain": [
       "<VariantChunkedTable shape=(8906423,) dtype=[('POS', '<i4'), ('REF', 'S1'), ('ALT', 'S1'), ('DP', '<i4'), ('MQ', '<f4'), ('QD', '<f4'), ('numalt', '<i4')]\n",
       "   nbytes=186.9M cbytes=-7 cratio=-27991615.1\n",
       "   values=zarr.hierarchy.Group>"
      ]
     },
     "execution_count": 38,
     "metadata": {},
     "output_type": "execute_result"
    }
   ],
   "source": [
    "variants_bi = allel.VariantChunkedTable(callset_biallel[\"2L\"][\"variants\"], \n",
    "                                     names=['POS', 'REF', 'ALT', 'DP', 'MQ', 'QD', 'numalt'],\n",
    "                                     index='POS')\n",
    "variants_bi"
   ]
  },
  {
   "cell_type": "code",
   "execution_count": 39,
   "metadata": {},
   "outputs": [
    {
     "data": {
      "text/html": [
       "<div class=\"allel allel-DisplayAsTable\"><span>&lt;VariantChunkedTable shape=(8906423,) dtype=[('POS', '&lt;i4'), ('REF', 'S1'), ('ALT', 'S1'), ('DP', '&lt;i4'), ('MQ', '&lt;f4'), ('QD', '&lt;f4'), ('numalt', '&lt;i4')]\n",
       "   nbytes=186.9M cbytes=85.9M cratio=2.2\n",
       "   values=allel.chunked.storage_zarr.ZarrTable&gt;</span><table><thead><tr><th></th><th style=\"text-align: center\">POS</th><th style=\"text-align: center\">REF</th><th style=\"text-align: center\">ALT</th><th style=\"text-align: center\">DP</th><th style=\"text-align: center\">MQ</th><th style=\"text-align: center\">QD</th><th style=\"text-align: center\">numalt</th></tr></thead><tbody><tr><th style=\"text-align: center; background-color: white; border-right: 1px solid black; \">0</th><td style=\"text-align: center\">25050</td><td style=\"text-align: center\">b'G'</td><td style=\"text-align: center\">b'T'</td><td style=\"text-align: center\">38417</td><td style=\"text-align: center\">51.53</td><td style=\"text-align: center\">8.02</td><td style=\"text-align: center\">1</td></tr><tr><th style=\"text-align: center; background-color: white; border-right: 1px solid black; \">1</th><td style=\"text-align: center\">51212</td><td style=\"text-align: center\">b'T'</td><td style=\"text-align: center\">b'A'</td><td style=\"text-align: center\">39639</td><td style=\"text-align: center\">55.75</td><td style=\"text-align: center\">13.58</td><td style=\"text-align: center\">1</td></tr><tr><th style=\"text-align: center; background-color: white; border-right: 1px solid black; \">2</th><td style=\"text-align: center\">51214</td><td style=\"text-align: center\">b'G'</td><td style=\"text-align: center\">b'C'</td><td style=\"text-align: center\">39461</td><td style=\"text-align: center\">55.73</td><td style=\"text-align: center\">19.83</td><td style=\"text-align: center\">1</td></tr><tr><th style=\"text-align: center; background-color: white; border-right: 1px solid black; \">...</th><td style=\"text-align: center\" colspan=\"8\">...</td></tr><tr><th style=\"text-align: center; background-color: white; border-right: 1px solid black; \">8906420</th><td style=\"text-align: center\">49356425</td><td style=\"text-align: center\">b'G'</td><td style=\"text-align: center\">b'T'</td><td style=\"text-align: center\">28138</td><td style=\"text-align: center\">41.81</td><td style=\"text-align: center\">9.58</td><td style=\"text-align: center\">1</td></tr><tr><th style=\"text-align: center; background-color: white; border-right: 1px solid black; \">8906421</th><td style=\"text-align: center\">49356426</td><td style=\"text-align: center\">b'G'</td><td style=\"text-align: center\">b'T'</td><td style=\"text-align: center\">28311</td><td style=\"text-align: center\">41.57</td><td style=\"text-align: center\">10.3</td><td style=\"text-align: center\">1</td></tr><tr><th style=\"text-align: center; background-color: white; border-right: 1px solid black; \">8906422</th><td style=\"text-align: center\">49356429</td><td style=\"text-align: center\">b'A'</td><td style=\"text-align: center\">b'G'</td><td style=\"text-align: center\">28106</td><td style=\"text-align: center\">40.92</td><td style=\"text-align: center\">10.13</td><td style=\"text-align: center\">1</td></tr></tbody></table></div>"
      ],
      "text/plain": [
       "<VariantChunkedTable shape=(8906423,) dtype=[('POS', '<i4'), ('REF', 'S1'), ('ALT', 'S1'), ('DP', '<i4'), ('MQ', '<f4'), ('QD', '<f4'), ('numalt', '<i4')]\n",
       "   nbytes=186.9M cbytes=85.9M cratio=2.2\n",
       "   values=allel.chunked.storage_zarr.ZarrTable>"
      ]
     },
     "execution_count": 39,
     "metadata": {},
     "output_type": "execute_result"
    }
   ],
   "source": [
    "variants_bi_filt = variants_bi.compress(loc1)\n",
    "variants_bi_filt"
   ]
  },
  {
   "cell_type": "code",
   "execution_count": 40,
   "metadata": {},
   "outputs": [
    {
     "data": {
      "text/plain": [
       "(array([b'G', b'T', b'G', ..., b'G', b'G', b'A'], dtype='|S1'), (8906423,))"
      ]
     },
     "execution_count": 40,
     "metadata": {},
     "output_type": "execute_result"
    }
   ],
   "source": [
    "phase2_bi_ref = variants_bi_filt[\"REF\"][:]\n",
    "phase2_bi_ref, phase2_bi_ref.shape"
   ]
  },
  {
   "cell_type": "code",
   "execution_count": 41,
   "metadata": {},
   "outputs": [
    {
     "data": {
      "text/plain": [
       "(array([b'T', b'A', b'C', ..., b'T', b'T', b'G'], dtype='|S1'), (8906423,))"
      ]
     },
     "execution_count": 41,
     "metadata": {},
     "output_type": "execute_result"
    }
   ],
   "source": [
    "phase2_bi_alt = variants_bi_filt[\"ALT\"][:]\n",
    "phase2_bi_alt, phase2_bi_ref.shape"
   ]
  },
  {
   "cell_type": "code",
   "execution_count": 42,
   "metadata": {},
   "outputs": [
    {
     "data": {
      "text/plain": [
       "(array([[b'G', b'T'],\n",
       "        [b'T', b'A'],\n",
       "        [b'G', b'C'],\n",
       "        ...,\n",
       "        [b'G', b'T'],\n",
       "        [b'G', b'T'],\n",
       "        [b'A', b'G']], dtype='|S1'), (8906423, 2))"
      ]
     },
     "execution_count": 42,
     "metadata": {},
     "output_type": "execute_result"
    }
   ],
   "source": [
    "phase2_bi_refalt = np.column_stack([phase2_bi_ref, phase2_bi_alt])\n",
    "phase2_bi_refalt, phase2_bi_refalt.shape"
   ]
  },
  {
   "cell_type": "code",
   "execution_count": 46,
   "metadata": {},
   "outputs": [
    {
     "data": {
      "text/plain": [
       "array([[ 0,  1, -1, -1],\n",
       "       [ 0,  1, -1, -1],\n",
       "       [ 0,  1, -1, -1],\n",
       "       ...,\n",
       "       [ 0,  1, -1, -1],\n",
       "       [ 0,  1, -1, -1],\n",
       "       [ 0,  1, -1, -1]], dtype=int8)"
      ]
     },
     "execution_count": 46,
     "metadata": {},
     "output_type": "execute_result"
    }
   ],
   "source": [
    "mapping = allel.create_allele_mapping(phase2_all_ref, phase2_all_alt, phase2_bi_refalt)\n",
    "mapping"
   ]
  },
  {
   "cell_type": "markdown",
   "metadata": {},
   "source": [
    "------------------------------"
   ]
  },
  {
   "cell_type": "markdown",
   "metadata": {},
   "source": [
    "### <i> An.christyi </i> dataset\n",
    "\n",
    "Subset christyi allele count and map its alleles"
   ]
  },
  {
   "cell_type": "code",
   "execution_count": 47,
   "metadata": {},
   "outputs": [
    {
     "data": {
      "text/plain": [
       "(array([[0, 0, 0, 0],\n",
       "        [0, 0, 0, 0],\n",
       "        [0, 0, 0, 0],\n",
       "        ...,\n",
       "        [0, 0, 0, 0],\n",
       "        [0, 0, 0, 0],\n",
       "        [0, 0, 0, 0]], dtype=int32), (21442865, 4))"
      ]
     },
     "execution_count": 47,
     "metadata": {},
     "output_type": "execute_result"
    }
   ],
   "source": [
    "calldata_chr = calldata_out['2L']['chri']\n",
    "calldata_chr[:], calldata_chr.shape"
   ]
  },
  {
   "cell_type": "code",
   "execution_count": 48,
   "metadata": {},
   "outputs": [
    {
     "data": {
      "text/plain": [
       "((21442865,), (21442865, 4))"
      ]
     },
     "execution_count": 48,
     "metadata": {},
     "output_type": "execute_result"
    }
   ],
   "source": [
    "loc2.shape, calldata_chr.shape"
   ]
  },
  {
   "cell_type": "code",
   "execution_count": 49,
   "metadata": {},
   "outputs": [
    {
     "data": {
      "text/plain": [
       "array([False, False, False, ..., False, False, False])"
      ]
     },
     "execution_count": 49,
     "metadata": {},
     "output_type": "execute_result"
    }
   ],
   "source": [
    "loc2"
   ]
  },
  {
   "cell_type": "code",
   "execution_count": 50,
   "metadata": {},
   "outputs": [
    {
     "data": {
      "text/html": [
       "<div class=\"allel allel-DisplayAs2D\"><span>&lt;AlleleCountsArray shape=(21442865, 4) dtype=int32&gt;</span><table><thead><tr><th></th><th style=\"text-align: center\">0</th><th style=\"text-align: center\">1</th><th style=\"text-align: center\">2</th><th style=\"text-align: center\">3</th></tr></thead><tbody><tr><th style=\"text-align: center; background-color: white; border-right: 1px solid black; \">0</th><td style=\"text-align: center\">0</td><td style=\"text-align: center\">0</td><td style=\"text-align: center\">0</td><td style=\"text-align: center\">0</td></tr><tr><th style=\"text-align: center; background-color: white; border-right: 1px solid black; \">1</th><td style=\"text-align: center\">0</td><td style=\"text-align: center\">0</td><td style=\"text-align: center\">0</td><td style=\"text-align: center\">0</td></tr><tr><th style=\"text-align: center; background-color: white; border-right: 1px solid black; \">2</th><td style=\"text-align: center\">0</td><td style=\"text-align: center\">0</td><td style=\"text-align: center\">0</td><td style=\"text-align: center\">0</td></tr><tr><th style=\"text-align: center; background-color: white; border-right: 1px solid black; \">...</th><td style=\"text-align: center\" colspan=\"5\">...</td></tr><tr><th style=\"text-align: center; background-color: white; border-right: 1px solid black; \">21442862</th><td style=\"text-align: center\">0</td><td style=\"text-align: center\">0</td><td style=\"text-align: center\">0</td><td style=\"text-align: center\">0</td></tr><tr><th style=\"text-align: center; background-color: white; border-right: 1px solid black; \">21442863</th><td style=\"text-align: center\">0</td><td style=\"text-align: center\">0</td><td style=\"text-align: center\">0</td><td style=\"text-align: center\">0</td></tr><tr><th style=\"text-align: center; background-color: white; border-right: 1px solid black; \">21442864</th><td style=\"text-align: center\">0</td><td style=\"text-align: center\">0</td><td style=\"text-align: center\">0</td><td style=\"text-align: center\">0</td></tr></tbody></table></div>"
      ],
      "text/plain": [
       "<AlleleCountsArray shape=(21442865, 4) dtype=int32>\n",
       "0 0 0 0\n",
       "0 0 0 0\n",
       "0 0 0 0\n",
       "...\n",
       "0 0 0 0\n",
       "0 0 0 0\n",
       "0 0 0 0"
      ]
     },
     "execution_count": 50,
     "metadata": {},
     "output_type": "execute_result"
    }
   ],
   "source": [
    "ac_snp_chri = allel.AlleleCountsArray(calldata_chr)\n",
    "ac_snp_chri"
   ]
  },
  {
   "cell_type": "code",
   "execution_count": 51,
   "metadata": {},
   "outputs": [
    {
     "data": {
      "text/html": [
       "<div class=\"allel allel-DisplayAs2D\"><span>&lt;AlleleCountsArray shape=(8906423, 4) dtype=int32&gt;</span><table><thead><tr><th></th><th style=\"text-align: center\">0</th><th style=\"text-align: center\">1</th><th style=\"text-align: center\">2</th><th style=\"text-align: center\">3</th></tr></thead><tbody><tr><th style=\"text-align: center; background-color: white; border-right: 1px solid black; \">0</th><td style=\"text-align: center\">0</td><td style=\"text-align: center\">0</td><td style=\"text-align: center\">0</td><td style=\"text-align: center\">0</td></tr><tr><th style=\"text-align: center; background-color: white; border-right: 1px solid black; \">1</th><td style=\"text-align: center\">0</td><td style=\"text-align: center\">0</td><td style=\"text-align: center\">0</td><td style=\"text-align: center\">0</td></tr><tr><th style=\"text-align: center; background-color: white; border-right: 1px solid black; \">2</th><td style=\"text-align: center\">0</td><td style=\"text-align: center\">0</td><td style=\"text-align: center\">0</td><td style=\"text-align: center\">0</td></tr><tr><th style=\"text-align: center; background-color: white; border-right: 1px solid black; \">...</th><td style=\"text-align: center\" colspan=\"5\">...</td></tr><tr><th style=\"text-align: center; background-color: white; border-right: 1px solid black; \">8906420</th><td style=\"text-align: center\">0</td><td style=\"text-align: center\">0</td><td style=\"text-align: center\">0</td><td style=\"text-align: center\">0</td></tr><tr><th style=\"text-align: center; background-color: white; border-right: 1px solid black; \">8906421</th><td style=\"text-align: center\">0</td><td style=\"text-align: center\">0</td><td style=\"text-align: center\">0</td><td style=\"text-align: center\">0</td></tr><tr><th style=\"text-align: center; background-color: white; border-right: 1px solid black; \">8906422</th><td style=\"text-align: center\">0</td><td style=\"text-align: center\">0</td><td style=\"text-align: center\">0</td><td style=\"text-align: center\">0</td></tr></tbody></table></div>"
      ],
      "text/plain": [
       "<AlleleCountsArray shape=(8906423, 4) dtype=int32>\n",
       "0 0 0 0\n",
       "0 0 0 0\n",
       "0 0 0 0\n",
       "...\n",
       "0 0 0 0\n",
       "0 0 0 0\n",
       "0 0 0 0"
      ]
     },
     "execution_count": 51,
     "metadata": {},
     "output_type": "execute_result"
    }
   ],
   "source": [
    "ac_snp_chri = ac_snp_chri.compress(loc2)\n",
    "ac_snp_chri"
   ]
  },
  {
   "cell_type": "code",
   "execution_count": 52,
   "metadata": {},
   "outputs": [
    {
     "data": {
      "text/plain": [
       "((8906423, 4), (8906423, 4))"
      ]
     },
     "execution_count": 52,
     "metadata": {},
     "output_type": "execute_result"
    }
   ],
   "source": [
    "mapping.shape, ac_snp_chri.shape"
   ]
  },
  {
   "cell_type": "code",
   "execution_count": 53,
   "metadata": {},
   "outputs": [
    {
     "data": {
      "text/html": [
       "<div class=\"allel allel-DisplayAs2D\"><span>&lt;AlleleCountsArray shape=(8906423, 2) dtype=int32&gt;</span><table><thead><tr><th></th><th style=\"text-align: center\">0</th><th style=\"text-align: center\">1</th></tr></thead><tbody><tr><th style=\"text-align: center; background-color: white; border-right: 1px solid black; \">0</th><td style=\"text-align: center\">0</td><td style=\"text-align: center\">0</td></tr><tr><th style=\"text-align: center; background-color: white; border-right: 1px solid black; \">1</th><td style=\"text-align: center\">0</td><td style=\"text-align: center\">0</td></tr><tr><th style=\"text-align: center; background-color: white; border-right: 1px solid black; \">2</th><td style=\"text-align: center\">0</td><td style=\"text-align: center\">0</td></tr><tr><th style=\"text-align: center; background-color: white; border-right: 1px solid black; \">...</th><td style=\"text-align: center\" colspan=\"3\">...</td></tr><tr><th style=\"text-align: center; background-color: white; border-right: 1px solid black; \">8906420</th><td style=\"text-align: center\">0</td><td style=\"text-align: center\">0</td></tr><tr><th style=\"text-align: center; background-color: white; border-right: 1px solid black; \">8906421</th><td style=\"text-align: center\">0</td><td style=\"text-align: center\">0</td></tr><tr><th style=\"text-align: center; background-color: white; border-right: 1px solid black; \">8906422</th><td style=\"text-align: center\">0</td><td style=\"text-align: center\">0</td></tr></tbody></table></div>"
      ],
      "text/plain": [
       "<AlleleCountsArray shape=(8906423, 2) dtype=int32>\n",
       "0 0\n",
       "0 0\n",
       "0 0\n",
       "...\n",
       "0 0\n",
       "0 0\n",
       "0 0"
      ]
     },
     "execution_count": 53,
     "metadata": {},
     "output_type": "execute_result"
    }
   ],
   "source": [
    "chri_allele_count = ac_snp_chri.map_alleles(mapping)\n",
    "chri_allele_count"
   ]
  },
  {
   "cell_type": "markdown",
   "metadata": {},
   "source": [
    "----------------------------"
   ]
  },
  {
   "cell_type": "code",
   "execution_count": 9,
   "metadata": {},
   "outputs": [],
   "source": [
    "def out_map(out_pop, chrom):\n",
    "\n",
    "    pos_all = allel.SortedIndex(callset[chrom][\"variants/POS\"][:])\n",
    "    pos_bi = allel.SortedIndex(callset_biallel[chrom][\"variants/POS\"])\n",
    "    loc1, loc2 = pos_bi.locate_intersection(pos_all)\n",
    "    pos_p2_sel = pos_bi[loc1]\n",
    "    pos_p1_sel = pos_all[loc2]\n",
    "    variants_all = allel.VariantChunkedTable(callset[chrom][\"variants\"], \n",
    "                                         names=['POS', 'REF', 'ALT', 'DP', 'MQ', 'QD', 'numalt'],\n",
    "                                         index='POS')\n",
    "    variants_bi = allel.VariantChunkedTable(callset_biallel[chrom][\"variants\"], \n",
    "                                         names=['POS', 'REF', 'ALT', 'DP', 'MQ', 'QD', 'numalt'],\n",
    "                                         index='POS')\n",
    "    \n",
    "    variants_all_filt = variants_all.compress(loc2)\n",
    "    phase2_all_ref = variants_all_filt[\"REF\"][:]\n",
    "    phase2_all_alt = variants_all_filt[\"ALT\"][:]\n",
    "\n",
    "    variants_bi_filt = variants_bi.compress(loc1)\n",
    "    phase2_bi_ref = variants_bi_filt[\"REF\"][:]\n",
    "    phase2_bi_alt = variants_bi_filt[\"ALT\"][:]\n",
    "    \n",
    "    phase2_bi_refalt = np.column_stack([phase2_bi_ref, phase2_bi_alt])\n",
    "    mapping = allel.create_allele_mapping(phase2_all_ref, phase2_all_alt, phase2_bi_refalt)\n",
    "    calldata_outgroup= h5py.File('data/outgroup_allele_counts_phase2.h5', mode='r')\n",
    "    calldata_out_pop = calldata_outgroup[chrom][out_pop]\n",
    "    ac_out_pop = allel.AlleleCountsArray(calldata_out_pop)\n",
    "    ac_out_pop = ac_out_pop.compress(loc2)\n",
    "    pop_map_ac = ac_out_pop.map_alleles(mapping)\n",
    "\n",
    "    return pop_map_ac   "
   ]
  },
  {
   "cell_type": "code",
   "execution_count": 10,
   "metadata": {},
   "outputs": [],
   "source": [
    "ac_chri_3L = out_map('chri', '3L')\n",
    "ac_chri_3R = out_map('chri', '3R')\n",
    "ac_chri_2L = out_map('chri', '2L')\n",
    "ac_chri_2R = out_map('chri', '2R')\n",
    "ac_chri_X = out_map('chri', 'X')"
   ]
  },
  {
   "cell_type": "code",
   "execution_count": null,
   "metadata": {},
   "outputs": [],
   "source": [
    "ac_chri_3L = out_map('chri', '3L')\n",
    "ac_chri_3R = out_map('chri', '3R')\n",
    "ac_chri_2L = out_map('chri', '2L')\n",
    "ac_chri_2R = out_map('chri', '2R')\n",
    "ac_chri_X = out_map('chri', 'X')"
   ]
  }
 ],
 "metadata": {
  "kernelspec": {
   "display_name": "Python 3",
   "language": "python",
   "name": "python3"
  },
  "language_info": {
   "codemirror_mode": {
    "name": "ipython",
    "version": 3
   },
   "file_extension": ".py",
   "mimetype": "text/x-python",
   "name": "python",
   "nbconvert_exporter": "python",
   "pygments_lexer": "ipython3",
   "version": "3.6.7"
  }
 },
 "nbformat": 4,
 "nbformat_minor": 4
}
