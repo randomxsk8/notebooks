{
 "cells": [
  {
   "cell_type": "markdown",
   "metadata": {},
   "source": [
    "# ABBA-BABA Test using FRgam as third group for <i>An.gambiae</i> populations\n",
    "In this notebook I performed the ABBA-BABA Test using the new outgroup allele counts <b>(see 09112019_outgroup_allele_count_phase2_dataset_creation)</b> and the new allele count dataset for the phase2.\n",
    "\n",
    "I have used part of <b>Alistair's notebook (20150529 Admixture, introgression.ipynb)</b> on the Ag1000G github repository\n",
    "\n",
    "-------------------"
   ]
  },
  {
   "cell_type": "markdown",
   "metadata": {},
   "source": [
    "Loading modules and callsets paths:"
   ]
  },
  {
   "cell_type": "code",
   "execution_count": 1,
   "metadata": {},
   "outputs": [],
   "source": [
    "%run imports.ipynb"
   ]
  },
  {
   "cell_type": "code",
   "execution_count": 2,
   "metadata": {},
   "outputs": [],
   "source": [
    "chromosomes = ['3L', '3R', '2L', '2R', 'X']"
   ]
  },
  {
   "cell_type": "code",
   "execution_count": 3,
   "metadata": {},
   "outputs": [],
   "source": [
    "out_species = ['arab', 'chri', 'epir', 'mela', 'meru', 'quad']"
   ]
  },
  {
   "cell_type": "code",
   "execution_count": 4,
   "metadata": {},
   "outputs": [],
   "source": [
    "an_gam = 'GHgam', 'CMgam', 'BFgam', 'GNgam', 'GQgam', 'UGgam', 'GAgam'"
   ]
  },
  {
   "cell_type": "code",
   "execution_count": 5,
   "metadata": {},
   "outputs": [
    {
     "data": {
      "text/html": [
       "<link rel=\"stylesheet\" href=\"//cdnjs.cloudflare.com/ajax/libs/jstree/3.3.3/themes/default/style.min.css\"/><div id=\"db860470-8e6b-4c99-a470-406ab7d8b914\" class=\"zarr-tree\"><ul><li data-jstree='{\"type\": \"Group\"}' class='jstree-open'><span>/</span><ul><li data-jstree='{\"type\": \"Group\"}' class=''><span>2L</span><ul><li data-jstree='{\"type\": \"Array\"}' class=''><span>arab (8906423, 2) int32</span></li><li data-jstree='{\"type\": \"Array\"}' class=''><span>chri (8906423, 2) int32</span></li><li data-jstree='{\"type\": \"Array\"}' class=''><span>epir (8906423, 2) int32</span></li><li data-jstree='{\"type\": \"Array\"}' class=''><span>mela (8906423, 2) int32</span></li><li data-jstree='{\"type\": \"Array\"}' class=''><span>meru (8906423, 2) int32</span></li><li data-jstree='{\"type\": \"Array\"}' class=''><span>quad (8906423, 2) int32</span></li></ul></li><li data-jstree='{\"type\": \"Group\"}' class=''><span>2R</span><ul><li data-jstree='{\"type\": \"Array\"}' class=''><span>arab (12047846, 2) int32</span></li><li data-jstree='{\"type\": \"Array\"}' class=''><span>chri (12047846, 2) int32</span></li><li data-jstree='{\"type\": \"Array\"}' class=''><span>epir (12047846, 2) int32</span></li><li data-jstree='{\"type\": \"Array\"}' class=''><span>mela (12047846, 2) int32</span></li><li data-jstree='{\"type\": \"Array\"}' class=''><span>meru (12047846, 2) int32</span></li><li data-jstree='{\"type\": \"Array\"}' class=''><span>quad (12047846, 2) int32</span></li></ul></li><li data-jstree='{\"type\": \"Group\"}' class=''><span>3L</span><ul><li data-jstree='{\"type\": \"Array\"}' class=''><span>arab (7897666, 2) int32</span></li><li data-jstree='{\"type\": \"Array\"}' class=''><span>chri (7897666, 2) int32</span></li><li data-jstree='{\"type\": \"Array\"}' class=''><span>epir (7897666, 2) int32</span></li><li data-jstree='{\"type\": \"Array\"}' class=''><span>mela (7897666, 2) int32</span></li><li data-jstree='{\"type\": \"Array\"}' class=''><span>meru (7897666, 2) int32</span></li><li data-jstree='{\"type\": \"Array\"}' class=''><span>quad (7897666, 2) int32</span></li></ul></li><li data-jstree='{\"type\": \"Group\"}' class=''><span>3R</span><ul><li data-jstree='{\"type\": \"Array\"}' class=''><span>arab (10752701, 2) int32</span></li><li data-jstree='{\"type\": \"Array\"}' class=''><span>chri (10752701, 2) int32</span></li><li data-jstree='{\"type\": \"Array\"}' class=''><span>epir (10752701, 2) int32</span></li><li data-jstree='{\"type\": \"Array\"}' class=''><span>mela (10752701, 2) int32</span></li><li data-jstree='{\"type\": \"Array\"}' class=''><span>meru (10752701, 2) int32</span></li><li data-jstree='{\"type\": \"Array\"}' class=''><span>quad (10752701, 2) int32</span></li></ul></li><li data-jstree='{\"type\": \"Group\"}' class=''><span>X</span><ul><li data-jstree='{\"type\": \"Array\"}' class=''><span>arab (4472265, 2) int32</span></li><li data-jstree='{\"type\": \"Array\"}' class=''><span>chri (4472265, 2) int32</span></li><li data-jstree='{\"type\": \"Array\"}' class=''><span>epir (4472265, 2) int32</span></li><li data-jstree='{\"type\": \"Array\"}' class=''><span>mela (4472265, 2) int32</span></li><li data-jstree='{\"type\": \"Array\"}' class=''><span>meru (4472265, 2) int32</span></li><li data-jstree='{\"type\": \"Array\"}' class=''><span>quad (4472265, 2) int32</span></li></ul></li></ul></li></ul></div>\n",
       "<script>\n",
       "    if (!require.defined('jquery')) {\n",
       "        require.config({\n",
       "            paths: {\n",
       "                jquery: '//cdnjs.cloudflare.com/ajax/libs/jquery/1.12.1/jquery.min'\n",
       "            },\n",
       "        });\n",
       "    }\n",
       "    if (!require.defined('jstree')) {\n",
       "        require.config({\n",
       "            paths: {\n",
       "                jstree: '//cdnjs.cloudflare.com/ajax/libs/jstree/3.3.3/jstree.min'\n",
       "            },\n",
       "        });\n",
       "    }\n",
       "    require(['jstree'], function() {\n",
       "        $('#db860470-8e6b-4c99-a470-406ab7d8b914').jstree({\n",
       "            types: {\n",
       "                Group: {\n",
       "                    icon: \"fa fa-folder\"\n",
       "                },\n",
       "                Array: {\n",
       "                    icon: \"fa fa-table\"\n",
       "                }\n",
       "            },\n",
       "            plugins: [\"types\"]\n",
       "        });\n",
       "    });\n",
       "</script>\n"
      ],
      "text/plain": [
       "/\n",
       " ├── 2L\n",
       " │   ├── arab (8906423, 2) int32\n",
       " │   ├── chri (8906423, 2) int32\n",
       " │   ├── epir (8906423, 2) int32\n",
       " │   ├── mela (8906423, 2) int32\n",
       " │   ├── meru (8906423, 2) int32\n",
       " │   └── quad (8906423, 2) int32\n",
       " ├── 2R\n",
       " │   ├── arab (12047846, 2) int32\n",
       " │   ├── chri (12047846, 2) int32\n",
       " │   ├── epir (12047846, 2) int32\n",
       " │   ├── mela (12047846, 2) int32\n",
       " │   ├── meru (12047846, 2) int32\n",
       " │   └── quad (12047846, 2) int32\n",
       " ├── 3L\n",
       " │   ├── arab (7897666, 2) int32\n",
       " │   ├── chri (7897666, 2) int32\n",
       " │   ├── epir (7897666, 2) int32\n",
       " │   ├── mela (7897666, 2) int32\n",
       " │   ├── meru (7897666, 2) int32\n",
       " │   └── quad (7897666, 2) int32\n",
       " ├── 3R\n",
       " │   ├── arab (10752701, 2) int32\n",
       " │   ├── chri (10752701, 2) int32\n",
       " │   ├── epir (10752701, 2) int32\n",
       " │   ├── mela (10752701, 2) int32\n",
       " │   ├── meru (10752701, 2) int32\n",
       " │   └── quad (10752701, 2) int32\n",
       " └── X\n",
       "     ├── arab (4472265, 2) int32\n",
       "     ├── chri (4472265, 2) int32\n",
       "     ├── epir (4472265, 2) int32\n",
       "     ├── mela (4472265, 2) int32\n",
       "     ├── meru (4472265, 2) int32\n",
       "     └── quad (4472265, 2) int32"
      ]
     },
     "execution_count": 5,
     "metadata": {},
     "output_type": "execute_result"
    }
   ],
   "source": [
    "calldata_out= zarr.open('data/outgroup_alleles_phase2.zarr')\n",
    "calldata_out.tree()"
   ]
  },
  {
   "cell_type": "code",
   "execution_count": 6,
   "metadata": {},
   "outputs": [
    {
     "data": {
      "text/html": [
       "<link rel=\"stylesheet\" href=\"//cdnjs.cloudflare.com/ajax/libs/jstree/3.3.3/themes/default/style.min.css\"/><div id=\"4354de4e-1d07-4be5-bca5-937574261399\" class=\"zarr-tree\"><ul><li data-jstree='{\"type\": \"Group\"}' class='jstree-open'><span>/</span><ul><li data-jstree='{\"type\": \"Group\"}' class=''><span>.zarr</span></li><li data-jstree='{\"type\": \"Group\"}' class=''><span>2L</span><ul><li data-jstree='{\"type\": \"Array\"}' class=''><span>AOcol (8906423, 2) int32</span></li><li data-jstree='{\"type\": \"Array\"}' class=''><span>BFcol (8906423, 2) int32</span></li><li data-jstree='{\"type\": \"Array\"}' class=''><span>BFgam (8906423, 2) int32</span></li><li data-jstree='{\"type\": \"Array\"}' class=''><span>CIcol (8906423, 2) int32</span></li><li data-jstree='{\"type\": \"Array\"}' class=''><span>CMgam (8906423, 2) int32</span></li><li data-jstree='{\"type\": \"Array\"}' class=''><span>FRgam (8906423, 2) int32</span></li><li data-jstree='{\"type\": \"Array\"}' class=''><span>GAgam (8906423, 2) int32</span></li><li data-jstree='{\"type\": \"Array\"}' class=''><span>GHcol (8906423, 2) int32</span></li><li data-jstree='{\"type\": \"Array\"}' class=''><span>GHgam (8906423, 2) int32</span></li><li data-jstree='{\"type\": \"Array\"}' class=''><span>GM (8906423, 2) int32</span></li><li data-jstree='{\"type\": \"Array\"}' class=''><span>GNcol (8906423, 2) int32</span></li><li data-jstree='{\"type\": \"Array\"}' class=''><span>GNgam (8906423, 2) int32</span></li><li data-jstree='{\"type\": \"Array\"}' class=''><span>GQgam (8906423, 2) int32</span></li><li data-jstree='{\"type\": \"Array\"}' class=''><span>GW (8906423, 2) int32</span></li><li data-jstree='{\"type\": \"Array\"}' class=''><span>KE (8906423, 2) int32</span></li><li data-jstree='{\"type\": \"Array\"}' class=''><span>UGgam (8906423, 2) int32</span></li></ul></li><li data-jstree='{\"type\": \"Group\"}' class=''><span>2R</span><ul><li data-jstree='{\"type\": \"Array\"}' class=''><span>AOcol (12047846, 2) int32</span></li><li data-jstree='{\"type\": \"Array\"}' class=''><span>BFcol (12047846, 2) int32</span></li><li data-jstree='{\"type\": \"Array\"}' class=''><span>BFgam (12047846, 2) int32</span></li><li data-jstree='{\"type\": \"Array\"}' class=''><span>CIcol (12047846, 2) int32</span></li><li data-jstree='{\"type\": \"Array\"}' class=''><span>CMgam (12047846, 2) int32</span></li><li data-jstree='{\"type\": \"Array\"}' class=''><span>FRgam (12047846, 2) int32</span></li><li data-jstree='{\"type\": \"Array\"}' class=''><span>GAgam (12047846, 2) int32</span></li><li data-jstree='{\"type\": \"Array\"}' class=''><span>GHcol (12047846, 2) int32</span></li><li data-jstree='{\"type\": \"Array\"}' class=''><span>GHgam (12047846, 2) int32</span></li><li data-jstree='{\"type\": \"Array\"}' class=''><span>GM (12047846, 2) int32</span></li><li data-jstree='{\"type\": \"Array\"}' class=''><span>GNcol (12047846, 2) int32</span></li><li data-jstree='{\"type\": \"Array\"}' class=''><span>GNgam (12047846, 2) int32</span></li><li data-jstree='{\"type\": \"Array\"}' class=''><span>GQgam (12047846, 2) int32</span></li><li data-jstree='{\"type\": \"Array\"}' class=''><span>GW (12047846, 2) int32</span></li><li data-jstree='{\"type\": \"Array\"}' class=''><span>KE (12047846, 2) int32</span></li><li data-jstree='{\"type\": \"Array\"}' class=''><span>UGgam (12047846, 2) int32</span></li></ul></li><li data-jstree='{\"type\": \"Group\"}' class=''><span>3L</span><ul><li data-jstree='{\"type\": \"Array\"}' class=''><span>AOcol (7897666, 2) int32</span></li><li data-jstree='{\"type\": \"Array\"}' class=''><span>BFcol (7897666, 2) int32</span></li><li data-jstree='{\"type\": \"Array\"}' class=''><span>BFgam (7897666, 2) int32</span></li><li data-jstree='{\"type\": \"Array\"}' class=''><span>CIcol (7897666, 2) int32</span></li><li data-jstree='{\"type\": \"Array\"}' class=''><span>CMgam (7897666, 2) int32</span></li><li data-jstree='{\"type\": \"Array\"}' class=''><span>FRgam (7897666, 2) int32</span></li><li data-jstree='{\"type\": \"Array\"}' class=''><span>GAgam (7897666, 2) int32</span></li><li data-jstree='{\"type\": \"Array\"}' class=''><span>GHcol (7897666, 2) int32</span></li><li data-jstree='{\"type\": \"Array\"}' class=''><span>GHgam (7897666, 2) int32</span></li><li data-jstree='{\"type\": \"Array\"}' class=''><span>GM (7897666, 2) int32</span></li><li data-jstree='{\"type\": \"Array\"}' class=''><span>GNcol (7897666, 2) int32</span></li><li data-jstree='{\"type\": \"Array\"}' class=''><span>GNgam (7897666, 2) int32</span></li><li data-jstree='{\"type\": \"Array\"}' class=''><span>GQgam (7897666, 2) int32</span></li><li data-jstree='{\"type\": \"Array\"}' class=''><span>GW (7897666, 2) int32</span></li><li data-jstree='{\"type\": \"Array\"}' class=''><span>KE (7897666, 2) int32</span></li><li data-jstree='{\"type\": \"Array\"}' class=''><span>UGgam (7897666, 2) int32</span></li></ul></li><li data-jstree='{\"type\": \"Group\"}' class=''><span>3R</span><ul><li data-jstree='{\"type\": \"Array\"}' class=''><span>AOcol (10752701, 2) int32</span></li><li data-jstree='{\"type\": \"Array\"}' class=''><span>BFcol (10752701, 2) int32</span></li><li data-jstree='{\"type\": \"Array\"}' class=''><span>BFgam (10752701, 2) int32</span></li><li data-jstree='{\"type\": \"Array\"}' class=''><span>CIcol (10752701, 2) int32</span></li><li data-jstree='{\"type\": \"Array\"}' class=''><span>CMgam (10752701, 2) int32</span></li><li data-jstree='{\"type\": \"Array\"}' class=''><span>FRgam (10752701, 2) int32</span></li><li data-jstree='{\"type\": \"Array\"}' class=''><span>GAgam (10752701, 2) int32</span></li><li data-jstree='{\"type\": \"Array\"}' class=''><span>GHcol (10752701, 2) int32</span></li><li data-jstree='{\"type\": \"Array\"}' class=''><span>GHgam (10752701, 2) int32</span></li><li data-jstree='{\"type\": \"Array\"}' class=''><span>GM (10752701, 2) int32</span></li><li data-jstree='{\"type\": \"Array\"}' class=''><span>GNcol (10752701, 2) int32</span></li><li data-jstree='{\"type\": \"Array\"}' class=''><span>GNgam (10752701, 2) int32</span></li><li data-jstree='{\"type\": \"Array\"}' class=''><span>GQgam (10752701, 2) int32</span></li><li data-jstree='{\"type\": \"Array\"}' class=''><span>GW (10752701, 2) int32</span></li><li data-jstree='{\"type\": \"Array\"}' class=''><span>KE (10752701, 2) int32</span></li><li data-jstree='{\"type\": \"Array\"}' class=''><span>UGgam (10752701, 2) int32</span></li></ul></li><li data-jstree='{\"type\": \"Group\"}' class=''><span>X</span><ul><li data-jstree='{\"type\": \"Array\"}' class=''><span>AOcol (4472265, 2) int32</span></li><li data-jstree='{\"type\": \"Array\"}' class=''><span>BFcol (4472265, 2) int32</span></li><li data-jstree='{\"type\": \"Array\"}' class=''><span>BFgam (4472265, 2) int32</span></li><li data-jstree='{\"type\": \"Array\"}' class=''><span>CIcol (4472265, 2) int32</span></li><li data-jstree='{\"type\": \"Array\"}' class=''><span>CMgam (4472265, 2) int32</span></li><li data-jstree='{\"type\": \"Array\"}' class=''><span>FRgam (4472265, 2) int32</span></li><li data-jstree='{\"type\": \"Array\"}' class=''><span>GAgam (4472265, 2) int32</span></li><li data-jstree='{\"type\": \"Array\"}' class=''><span>GHcol (4472265, 2) int32</span></li><li data-jstree='{\"type\": \"Array\"}' class=''><span>GHgam (4472265, 2) int32</span></li><li data-jstree='{\"type\": \"Array\"}' class=''><span>GM (4472265, 2) int32</span></li><li data-jstree='{\"type\": \"Array\"}' class=''><span>GNcol (4472265, 2) int32</span></li><li data-jstree='{\"type\": \"Array\"}' class=''><span>GNgam (4472265, 2) int32</span></li><li data-jstree='{\"type\": \"Array\"}' class=''><span>GQgam (4472265, 2) int32</span></li><li data-jstree='{\"type\": \"Array\"}' class=''><span>GW (4472265, 2) int32</span></li><li data-jstree='{\"type\": \"Array\"}' class=''><span>KE (4472265, 2) int32</span></li><li data-jstree='{\"type\": \"Array\"}' class=''><span>UGgam (4472265, 2) int32</span></li></ul></li></ul></li></ul></div>\n",
       "<script>\n",
       "    if (!require.defined('jquery')) {\n",
       "        require.config({\n",
       "            paths: {\n",
       "                jquery: '//cdnjs.cloudflare.com/ajax/libs/jquery/1.12.1/jquery.min'\n",
       "            },\n",
       "        });\n",
       "    }\n",
       "    if (!require.defined('jstree')) {\n",
       "        require.config({\n",
       "            paths: {\n",
       "                jstree: '//cdnjs.cloudflare.com/ajax/libs/jstree/3.3.3/jstree.min'\n",
       "            },\n",
       "        });\n",
       "    }\n",
       "    require(['jstree'], function() {\n",
       "        $('#4354de4e-1d07-4be5-bca5-937574261399').jstree({\n",
       "            types: {\n",
       "                Group: {\n",
       "                    icon: \"fa fa-folder\"\n",
       "                },\n",
       "                Array: {\n",
       "                    icon: \"fa fa-table\"\n",
       "                }\n",
       "            },\n",
       "            plugins: [\"types\"]\n",
       "        });\n",
       "    });\n",
       "</script>\n"
      ],
      "text/plain": [
       "/\n",
       " ├── .zarr\n",
       " ├── 2L\n",
       " │   ├── AOcol (8906423, 2) int32\n",
       " │   ├── BFcol (8906423, 2) int32\n",
       " │   ├── BFgam (8906423, 2) int32\n",
       " │   ├── CIcol (8906423, 2) int32\n",
       " │   ├── CMgam (8906423, 2) int32\n",
       " │   ├── FRgam (8906423, 2) int32\n",
       " │   ├── GAgam (8906423, 2) int32\n",
       " │   ├── GHcol (8906423, 2) int32\n",
       " │   ├── GHgam (8906423, 2) int32\n",
       " │   ├── GM (8906423, 2) int32\n",
       " │   ├── GNcol (8906423, 2) int32\n",
       " │   ├── GNgam (8906423, 2) int32\n",
       " │   ├── GQgam (8906423, 2) int32\n",
       " │   ├── GW (8906423, 2) int32\n",
       " │   ├── KE (8906423, 2) int32\n",
       " │   └── UGgam (8906423, 2) int32\n",
       " ├── 2R\n",
       " │   ├── AOcol (12047846, 2) int32\n",
       " │   ├── BFcol (12047846, 2) int32\n",
       " │   ├── BFgam (12047846, 2) int32\n",
       " │   ├── CIcol (12047846, 2) int32\n",
       " │   ├── CMgam (12047846, 2) int32\n",
       " │   ├── FRgam (12047846, 2) int32\n",
       " │   ├── GAgam (12047846, 2) int32\n",
       " │   ├── GHcol (12047846, 2) int32\n",
       " │   ├── GHgam (12047846, 2) int32\n",
       " │   ├── GM (12047846, 2) int32\n",
       " │   ├── GNcol (12047846, 2) int32\n",
       " │   ├── GNgam (12047846, 2) int32\n",
       " │   ├── GQgam (12047846, 2) int32\n",
       " │   ├── GW (12047846, 2) int32\n",
       " │   ├── KE (12047846, 2) int32\n",
       " │   └── UGgam (12047846, 2) int32\n",
       " ├── 3L\n",
       " │   ├── AOcol (7897666, 2) int32\n",
       " │   ├── BFcol (7897666, 2) int32\n",
       " │   ├── BFgam (7897666, 2) int32\n",
       " │   ├── CIcol (7897666, 2) int32\n",
       " │   ├── CMgam (7897666, 2) int32\n",
       " │   ├── FRgam (7897666, 2) int32\n",
       " │   ├── GAgam (7897666, 2) int32\n",
       " │   ├── GHcol (7897666, 2) int32\n",
       " │   ├── GHgam (7897666, 2) int32\n",
       " │   ├── GM (7897666, 2) int32\n",
       " │   ├── GNcol (7897666, 2) int32\n",
       " │   ├── GNgam (7897666, 2) int32\n",
       " │   ├── GQgam (7897666, 2) int32\n",
       " │   ├── GW (7897666, 2) int32\n",
       " │   ├── KE (7897666, 2) int32\n",
       " │   └── UGgam (7897666, 2) int32\n",
       " ├── 3R\n",
       " │   ├── AOcol (10752701, 2) int32\n",
       " │   ├── BFcol (10752701, 2) int32\n",
       " │   ├── BFgam (10752701, 2) int32\n",
       " │   ├── CIcol (10752701, 2) int32\n",
       " │   ├── CMgam (10752701, 2) int32\n",
       " │   ├── FRgam (10752701, 2) int32\n",
       " │   ├── GAgam (10752701, 2) int32\n",
       " │   ├── GHcol (10752701, 2) int32\n",
       " │   ├── GHgam (10752701, 2) int32\n",
       " │   ├── GM (10752701, 2) int32\n",
       " │   ├── GNcol (10752701, 2) int32\n",
       " │   ├── GNgam (10752701, 2) int32\n",
       " │   ├── GQgam (10752701, 2) int32\n",
       " │   ├── GW (10752701, 2) int32\n",
       " │   ├── KE (10752701, 2) int32\n",
       " │   └── UGgam (10752701, 2) int32\n",
       " └── X\n",
       "     ├── AOcol (4472265, 2) int32\n",
       "     ├── BFcol (4472265, 2) int32\n",
       "     ├── BFgam (4472265, 2) int32\n",
       "     ├── CIcol (4472265, 2) int32\n",
       "     ├── CMgam (4472265, 2) int32\n",
       "     ├── FRgam (4472265, 2) int32\n",
       "     ├── GAgam (4472265, 2) int32\n",
       "     ├── GHcol (4472265, 2) int32\n",
       "     ├── GHgam (4472265, 2) int32\n",
       "     ├── GM (4472265, 2) int32\n",
       "     ├── GNcol (4472265, 2) int32\n",
       "     ├── GNgam (4472265, 2) int32\n",
       "     ├── GQgam (4472265, 2) int32\n",
       "     ├── GW (4472265, 2) int32\n",
       "     ├── KE (4472265, 2) int32\n",
       "     └── UGgam (4472265, 2) int32"
      ]
     },
     "execution_count": 6,
     "metadata": {},
     "output_type": "execute_result"
    }
   ],
   "source": [
    "calldata_biallel= zarr.open('data/phase2_biallel_allele_count.zarr')\n",
    "calldata_biallel.tree()"
   ]
  },
  {
   "cell_type": "code",
   "execution_count": 7,
   "metadata": {},
   "outputs": [
    {
     "data": {
      "text/html": [
       "<div>\n",
       "<style scoped>\n",
       "    .dataframe tbody tr th:only-of-type {\n",
       "        vertical-align: middle;\n",
       "    }\n",
       "\n",
       "    .dataframe tbody tr th {\n",
       "        vertical-align: top;\n",
       "    }\n",
       "\n",
       "    .dataframe thead th {\n",
       "        text-align: right;\n",
       "    }\n",
       "</style>\n",
       "<table border=\"1\" class=\"dataframe\">\n",
       "  <thead>\n",
       "    <tr style=\"text-align: right;\">\n",
       "      <th></th>\n",
       "      <th>ox_code</th>\n",
       "      <th>src_code</th>\n",
       "      <th>population</th>\n",
       "      <th>country</th>\n",
       "      <th>location</th>\n",
       "      <th>site</th>\n",
       "      <th>contributor</th>\n",
       "      <th>contact</th>\n",
       "      <th>year</th>\n",
       "      <th>m_s</th>\n",
       "      <th>sex</th>\n",
       "      <th>n_sequences</th>\n",
       "      <th>mean_coverage</th>\n",
       "      <th>ebi_sample_acc</th>\n",
       "      <th>latitude</th>\n",
       "      <th>longitude</th>\n",
       "    </tr>\n",
       "  </thead>\n",
       "  <tbody>\n",
       "    <tr>\n",
       "      <th>0</th>\n",
       "      <td>AA0040-C</td>\n",
       "      <td>Twifo_Praso__E2</td>\n",
       "      <td>GHcol</td>\n",
       "      <td>Ghana</td>\n",
       "      <td>Twifo Praso</td>\n",
       "      <td>Twifo Praso</td>\n",
       "      <td>David Weetman</td>\n",
       "      <td>David Weetman</td>\n",
       "      <td>2012</td>\n",
       "      <td>M</td>\n",
       "      <td>F</td>\n",
       "      <td>95033368</td>\n",
       "      <td>30.99</td>\n",
       "      <td>ERS311878</td>\n",
       "      <td>5.60858</td>\n",
       "      <td>-1.54926</td>\n",
       "    </tr>\n",
       "    <tr>\n",
       "      <th>1</th>\n",
       "      <td>AA0041-C</td>\n",
       "      <td>Twifo_Praso__H3</td>\n",
       "      <td>GHcol</td>\n",
       "      <td>Ghana</td>\n",
       "      <td>Twifo Praso</td>\n",
       "      <td>Twifo Praso</td>\n",
       "      <td>David Weetman</td>\n",
       "      <td>David Weetman</td>\n",
       "      <td>2012</td>\n",
       "      <td>M</td>\n",
       "      <td>F</td>\n",
       "      <td>95843804</td>\n",
       "      <td>31.70</td>\n",
       "      <td>ERS311886</td>\n",
       "      <td>5.60858</td>\n",
       "      <td>-1.54926</td>\n",
       "    </tr>\n",
       "    <tr>\n",
       "      <th>2</th>\n",
       "      <td>AA0042-C</td>\n",
       "      <td>Takoradi_C7</td>\n",
       "      <td>GHcol</td>\n",
       "      <td>Ghana</td>\n",
       "      <td>Takoradi</td>\n",
       "      <td>Takoradi</td>\n",
       "      <td>David Weetman</td>\n",
       "      <td>David Weetman</td>\n",
       "      <td>2012</td>\n",
       "      <td>M</td>\n",
       "      <td>F</td>\n",
       "      <td>107420666</td>\n",
       "      <td>35.65</td>\n",
       "      <td>ERS311894</td>\n",
       "      <td>4.91217</td>\n",
       "      <td>-1.77397</td>\n",
       "    </tr>\n",
       "    <tr>\n",
       "      <th>3</th>\n",
       "      <td>AA0043-C</td>\n",
       "      <td>Takoradi_H8</td>\n",
       "      <td>GHcol</td>\n",
       "      <td>Ghana</td>\n",
       "      <td>Takoradi</td>\n",
       "      <td>Takoradi</td>\n",
       "      <td>David Weetman</td>\n",
       "      <td>David Weetman</td>\n",
       "      <td>2012</td>\n",
       "      <td>M</td>\n",
       "      <td>F</td>\n",
       "      <td>95993752</td>\n",
       "      <td>29.46</td>\n",
       "      <td>ERS311902</td>\n",
       "      <td>4.91217</td>\n",
       "      <td>-1.77397</td>\n",
       "    </tr>\n",
       "    <tr>\n",
       "      <th>4</th>\n",
       "      <td>AA0044-C</td>\n",
       "      <td>Takoradi_D10</td>\n",
       "      <td>GHcol</td>\n",
       "      <td>Ghana</td>\n",
       "      <td>Takoradi</td>\n",
       "      <td>Takoradi</td>\n",
       "      <td>David Weetman</td>\n",
       "      <td>David Weetman</td>\n",
       "      <td>2012</td>\n",
       "      <td>M</td>\n",
       "      <td>F</td>\n",
       "      <td>103044262</td>\n",
       "      <td>33.67</td>\n",
       "      <td>ERS311910</td>\n",
       "      <td>4.91217</td>\n",
       "      <td>-1.77397</td>\n",
       "    </tr>\n",
       "  </tbody>\n",
       "</table>\n",
       "</div>"
      ],
      "text/plain": [
       "    ox_code         src_code population country     location         site  \\\n",
       "0  AA0040-C  Twifo_Praso__E2      GHcol   Ghana  Twifo Praso  Twifo Praso   \n",
       "1  AA0041-C  Twifo_Praso__H3      GHcol   Ghana  Twifo Praso  Twifo Praso   \n",
       "2  AA0042-C      Takoradi_C7      GHcol   Ghana     Takoradi     Takoradi   \n",
       "3  AA0043-C      Takoradi_H8      GHcol   Ghana     Takoradi     Takoradi   \n",
       "4  AA0044-C     Takoradi_D10      GHcol   Ghana     Takoradi     Takoradi   \n",
       "\n",
       "     contributor        contact  year m_s sex  n_sequences  mean_coverage  \\\n",
       "0  David Weetman  David Weetman  2012   M   F     95033368          30.99   \n",
       "1  David Weetman  David Weetman  2012   M   F     95843804          31.70   \n",
       "2  David Weetman  David Weetman  2012   M   F    107420666          35.65   \n",
       "3  David Weetman  David Weetman  2012   M   F     95993752          29.46   \n",
       "4  David Weetman  David Weetman  2012   M   F    103044262          33.67   \n",
       "\n",
       "  ebi_sample_acc  latitude  longitude  \n",
       "0      ERS311878   5.60858   -1.54926  \n",
       "1      ERS311886   5.60858   -1.54926  \n",
       "2      ERS311894   4.91217   -1.77397  \n",
       "3      ERS311902   4.91217   -1.77397  \n",
       "4      ERS311910   4.91217   -1.77397  "
      ]
     },
     "execution_count": 7,
     "metadata": {},
     "output_type": "execute_result"
    }
   ],
   "source": [
    "metadata = pd.read_csv(\"samples.meta.txt\", sep=\"\\t\")\n",
    "metadata.head()"
   ]
  },
  {
   "cell_type": "markdown",
   "metadata": {},
   "source": [
    "Create dictionary for caching allele counts and populations data:"
   ]
  },
  {
   "cell_type": "code",
   "execution_count": 8,
   "metadata": {},
   "outputs": [],
   "source": [
    "ac_cache = dict()\n",
    "\n",
    "def load_ac(chrom, pop):\n",
    "    if (chrom, pop) in ac_cache:\n",
    "        return ac_cache[chrom, pop]\n",
    "    else:\n",
    "        if pop in out_species:\n",
    "            ac = calldata_out[chrom][pop]\n",
    "        else:\n",
    "            ac = calldata_biallel[chrom][pop]\n",
    "            ac_cache[chrom, pop] = ac\n",
    "        return ac"
   ]
  },
  {
   "cell_type": "code",
   "execution_count": 9,
   "metadata": {},
   "outputs": [],
   "source": [
    "fourpop_cache = dict()"
   ]
  },
  {
   "cell_type": "markdown",
   "metadata": {},
   "source": [
    "Define functions for run the ABBA-BABA test with populations and plot results:"
   ]
  },
  {
   "cell_type": "code",
   "execution_count": 10,
   "metadata": {},
   "outputs": [],
   "source": [
    "#this is the function that perform the test\n",
    "def f4_analysis(chrom, A, B, C, D, blen=100000, plot=False, ax=None):\n",
    "    \n",
    "    key = (chrom, A, B, C, D, blen)\n",
    "    if key in fourpop_cache:\n",
    "        # re-use from cache\n",
    "        d, d_se, d_z, d_vb, d_vj = fourpop_cache[key]\n",
    "        \n",
    "    else:\n",
    "        # load allele counts\n",
    "        aca = load_ac(chrom, A)\n",
    "        acb = load_ac(chrom, B)\n",
    "        acc = load_ac(chrom, C)\n",
    "        acd = load_ac(chrom, D)\n",
    "\n",
    "        # run D test\n",
    "        d, d_se, d_z, d_vb, d_vj = allel.blockwise_patterson_d(aca, acb, acc, acd, blen=blen)\n",
    "        \n",
    "        # cache for re-use\n",
    "        fourpop_cache[key] = d, d_se, d_z, d_vb, d_vj\n",
    "    \n",
    "    return d, d_se, d_z, d_vb, d_vj\n",
    "\n",
    "#this is the function that give me to display multiple tests on a table\n",
    "def f4_analyses(As, Bs, Cs, Ds, chroms=chromosomes, blen=100000):\n",
    "    \n",
    "    # normalise inputs\n",
    "    if not isinstance(chroms, (list, tuple)):\n",
    "        chroms = [chroms]\n",
    "    if not isinstance(As, (list, tuple)):\n",
    "        As = [As]\n",
    "    if not isinstance(Bs, (list, tuple)):\n",
    "        Bs = [Bs]\n",
    "    if not isinstance(Cs, (list, tuple)):\n",
    "        Cs = [Cs]\n",
    "    if not isinstance(Ds, (list, tuple)):\n",
    "        Ds = [Ds]\n",
    "        \n",
    "    # setup output table\n",
    "    tbl = [['chromosome', 'test', 'D', 'SE', 'Z']]\n",
    "    for chrom in chroms:\n",
    "        for A in As:\n",
    "            for B in Bs:\n",
    "                if A != B:\n",
    "                    for C in Cs:\n",
    "                        for D in Ds:\n",
    "                            if C != D:\n",
    "                                d, d_se, d_z, _, _ = f4_analysis(chrom, A, B, C, D, blen=blen)\n",
    "                                test = 'D(%s, %s; %s, %s)' % (A, B, C, D)\n",
    "                                row = [chrom, test, d, d_se, d_z]\n",
    "                                tbl += [row]\n",
    "    \n",
    "    # display results\n",
    "    (etl\n",
    "     .wrap(tbl)\n",
    "     .interpolate('D', '%.3f')\n",
    "     .interpolate('SE', '%.4f')\n",
    "     .interpolate('Z', '%.1f')\n",
    "     .displayall(index_header=False, tr_style=lambda row: 'background-color: %s' % ('#afa' if float(row.Z) > 5 else '#aaf' if float(row.Z) < -5 else 'white')))\n",
    "\n",
    "#these are the function for visualizing the test along the genome    \n",
    "def f4_plot(chrom, A, B, C, D, blen=100000, ax=None, ylim=(-.6, .6)):\n",
    "    d, d_se, d_z, d_vb, d_vj = f4_analysis(chrom, A, B, C, D, blen=blen)\n",
    "\n",
    "    # load variant positions\n",
    "    pos = callset_biallel[chrom]['variants']['POS'][:]\n",
    "\n",
    "    block_starts = allel.moving_statistic(pos, statistic=np.min, size=blen)\n",
    "    block_stops = allel.moving_statistic(pos, statistic=np.max, size=blen)\n",
    "    block_widths = block_stops - block_starts\n",
    "\n",
    "    if ax is None:\n",
    "        fig, ax = subplots(figsize=(7, 2))\n",
    "    ax.bar(block_starts, d_vb, width=block_widths, linewidth=0)\n",
    "    ax.axhline(0, color='k', linestyle='--')\n",
    "    ax.set_ylabel('D', rotation=0, ha='center', va='center')\n",
    "    ax.set_ylim(*ylim)\n",
    "    \n",
    "    return ax\n",
    "\n",
    "    \n",
    "def f4_fig(A, B, C, D, blen=100000, ylim=(-.6, .6)):\n",
    "    gf = GenomeFigure(genome, figsize=(8, 5))\n",
    "    gf.apply(lambda chrom, ax: f4_plot(chrom, A, B, C, D, ax=ax, ylim=ylim))\n",
    "    gf.fig.suptitle('D(%s, %s; %s, %s)' % (A, B, C, D), fontsize=12, fontweight='bold')\n",
    "    gf.fig.tight_layout()\n",
    "    return gf\n"
   ]
  },
  {
   "cell_type": "markdown",
   "metadata": {},
   "source": [
    "-----------------------------------------"
   ]
  },
  {
   "cell_type": "markdown",
   "metadata": {},
   "source": [
    "### Using <i>An.christyi</i> as outgroup:"
   ]
  },
  {
   "cell_type": "code",
   "execution_count": 11,
   "metadata": {},
   "outputs": [],
   "source": [
    "A = an_gam\n",
    "B = an_gam\n",
    "C = 'FRgam'\n",
    "D = 'chri'"
   ]
  },
  {
   "cell_type": "code",
   "execution_count": null,
   "metadata": {},
   "outputs": [],
   "source": [
    "f4_analyses(A, B, C, D)"
   ]
  },
  {
   "cell_type": "markdown",
   "metadata": {},
   "source": [
    "### Using <i>An.melas</i> as outgroup:"
   ]
  },
  {
   "cell_type": "code",
   "execution_count": null,
   "metadata": {},
   "outputs": [],
   "source": [
    "A = an_gam\n",
    "B = an_gam\n",
    "C = 'FRfam'\n",
    "D = 'mela'"
   ]
  },
  {
   "cell_type": "code",
   "execution_count": null,
   "metadata": {},
   "outputs": [],
   "source": [
    "f4_analyses(A, B, C, D)"
   ]
  },
  {
   "cell_type": "markdown",
   "metadata": {},
   "source": [
    "### Using <i>An.arabiensis</i> as outgroup:"
   ]
  },
  {
   "cell_type": "code",
   "execution_count": null,
   "metadata": {},
   "outputs": [],
   "source": [
    "A = an_gam\n",
    "B = an_gam\n",
    "C = 'FRgam'\n",
    "D = 'arab'"
   ]
  },
  {
   "cell_type": "code",
   "execution_count": null,
   "metadata": {},
   "outputs": [],
   "source": [
    "f4_analyses(A, B, C, D)"
   ]
  },
  {
   "cell_type": "markdown",
   "metadata": {},
   "source": [
    "----------------------------------"
   ]
  },
  {
   "cell_type": "markdown",
   "metadata": {},
   "source": [
    "## Representing ABBA-BABA Test for each block with its mean and percentile.\n",
    "\n"
   ]
  },
  {
   "cell_type": "code",
   "execution_count": null,
   "metadata": {},
   "outputs": [],
   "source": [
    "def plot_test(chroms, As,Bs,Cs,Ds, blen=100000):\n",
    "    # normalise inputs\n",
    "    if not isinstance(chroms, (list, tuple)):\n",
    "        chroms = [chroms]\n",
    "    if not isinstance(As, (list, tuple)):\n",
    "        As = [As]\n",
    "    if not isinstance(Bs, (list, tuple)):\n",
    "        Bs = [Bs]\n",
    "    if not isinstance(Cs, (list, tuple)):\n",
    "        Cs = [Cs]\n",
    "    if not isinstance(Ds, (list, tuple)):\n",
    "        Ds = [Ds]\n",
    "        \n",
    "    tbl = []\n",
    "    for chrom in chroms:\n",
    "        for A in As:\n",
    "            for B in Bs:\n",
    "                if A != B:\n",
    "                    for C in Cs:\n",
    "                        for D in Ds:\n",
    "                            if C != D:\n",
    "                                d, d_se, d_z, b1, _ = f4_analysis(chrom, A, B, C, D, blen=blen)\n",
    "                                test = 'D(%s, %s; %s, %s)' % (A, B, C, D)\n",
    "                                row = b1\n",
    "                                tbl += [row]\n",
    "    tbl=np.array(tbl)\n",
    "    #print (tbl)\n",
    "    fig, ax = plt.subplots(figsize=(14, 4))\n",
    "    # median\n",
    "    pos = callset_biallel[chrom]['variants']['POS'][:]\n",
    "    windows = allel.moving_statistic(pos, statistic=lambda v: [v[0], v[-1]], size=blen)\n",
    "    x = np.asarray(windows).mean(axis=1)    \n",
    "    y = np.median(tbl, axis=0)\n",
    "    plt.plot(x, y, lw=1, label = \"median\", color=palette[1]) \n",
    "    \n",
    "    #min and max\n",
    "    y5 = np.max(tbl, axis=0)\n",
    "    y6 = np.min(tbl, axis=0)\n",
    "    ax.fill_between(x, y5, y6,label = \"min and max\", color=palette[3], alpha=.4)\n",
    "    \n",
    "    # interquartile range\n",
    "    y1 = np.percentile(tbl, 25, axis=0)\n",
    "    y2 = np.percentile(tbl, 75, axis=0)\n",
    "    ax.fill_between(x, y1, y2, label = \"interquartile range\", color=palette[0], alpha=.6)\n",
    "    # 5-95 range\n",
    "    y3 = np.percentile(tbl, 5, axis=0)\n",
    "    y4 = np.percentile(tbl, 95, axis=0)\n",
    "    ax.fill_between(x, y3, y4,label = \"5-95 range\", color=palette[2], alpha=.4)\n",
    "\n",
    "    \n",
    "    ax.set_title(('ABBA BABA Test between Agam populations vs %s and %s populations on chromosome %s') % (C,D, chrom))\n",
    "    sns.despine(ax=ax, offset=10)\n",
    "    ax.set_xlim(0, pos.max())\n",
    "    ax.set_xlabel('position (bp)')\n",
    "    #ax.set_ylim(0,0.018)\n",
    "    sns.despine(ax=ax, offset=10)\n",
    "    fig.tight_layout()\n",
    "    # show a legend on the plot \n",
    "    plt.legend() \n",
    "\n",
    "    # function to show the plot \n",
    "    plt.show()"
   ]
  },
  {
   "cell_type": "markdown",
   "metadata": {},
   "source": [
    "-----------------------------------------------------------"
   ]
  },
  {
   "cell_type": "markdown",
   "metadata": {},
   "source": [
    "## Block analysis using <i>An.christyi</i> as outgroup:"
   ]
  },
  {
   "cell_type": "code",
   "execution_count": null,
   "metadata": {},
   "outputs": [],
   "source": [
    "A = an_gam\n",
    "B = an_gam\n",
    "C = 'FRgam'\n",
    "D = 'chri'"
   ]
  },
  {
   "cell_type": "code",
   "execution_count": null,
   "metadata": {},
   "outputs": [],
   "source": [
    "plot_test('3R', A,B,C,D, blen=50000)"
   ]
  },
  {
   "cell_type": "code",
   "execution_count": null,
   "metadata": {},
   "outputs": [],
   "source": [
    "plot_test('3R', A,B,C,D, blen=100000)"
   ]
  },
  {
   "cell_type": "code",
   "execution_count": null,
   "metadata": {},
   "outputs": [],
   "source": [
    "plot_test('3R', A,B,C,D, blen=200000)"
   ]
  },
  {
   "cell_type": "code",
   "execution_count": null,
   "metadata": {},
   "outputs": [],
   "source": [
    "plot_test('3L', A,B,C,D, blen=50000)"
   ]
  },
  {
   "cell_type": "code",
   "execution_count": null,
   "metadata": {},
   "outputs": [],
   "source": [
    "plot_test('3L', A,B,C,D, blen=100000)"
   ]
  },
  {
   "cell_type": "code",
   "execution_count": null,
   "metadata": {},
   "outputs": [],
   "source": [
    "plot_test('3L', A,B,C,D, blen=200000)"
   ]
  },
  {
   "cell_type": "markdown",
   "metadata": {},
   "source": [
    "## Block analysis using <i>An.melas</i> as outgroup:"
   ]
  },
  {
   "cell_type": "code",
   "execution_count": null,
   "metadata": {},
   "outputs": [],
   "source": [
    "A = an_gam\n",
    "B = an_gam\n",
    "C = 'FRgam'\n",
    "D = 'mela'"
   ]
  },
  {
   "cell_type": "code",
   "execution_count": null,
   "metadata": {},
   "outputs": [],
   "source": [
    "plot_test('3R', A,B,C,D, blen=50000)"
   ]
  },
  {
   "cell_type": "code",
   "execution_count": null,
   "metadata": {},
   "outputs": [],
   "source": [
    "plot_test('3R', A,B,C,D, blen=100000)"
   ]
  },
  {
   "cell_type": "code",
   "execution_count": null,
   "metadata": {},
   "outputs": [],
   "source": [
    "plot_test('3R', A,B,C,D, blen=200000)"
   ]
  },
  {
   "cell_type": "code",
   "execution_count": null,
   "metadata": {},
   "outputs": [],
   "source": [
    "plot_test('3L', A,B,C,D, blen=50000)"
   ]
  },
  {
   "cell_type": "code",
   "execution_count": null,
   "metadata": {},
   "outputs": [],
   "source": [
    "plot_test('3L', A,B,C,D, blen=100000)"
   ]
  },
  {
   "cell_type": "code",
   "execution_count": null,
   "metadata": {},
   "outputs": [],
   "source": [
    "plot_test('3L', A,B,C,D, blen=200000)"
   ]
  },
  {
   "cell_type": "markdown",
   "metadata": {},
   "source": [
    "## Block analysis using <i>An.arabiensis</i> as outgroup:"
   ]
  },
  {
   "cell_type": "code",
   "execution_count": null,
   "metadata": {},
   "outputs": [],
   "source": [
    "A = an_gam\n",
    "B = an_gam\n",
    "C = 'FRgam'\n",
    "D = 'arab'"
   ]
  },
  {
   "cell_type": "code",
   "execution_count": null,
   "metadata": {},
   "outputs": [],
   "source": [
    "plot_test('3R', A,B,C,D, blen=50000)"
   ]
  },
  {
   "cell_type": "code",
   "execution_count": null,
   "metadata": {},
   "outputs": [],
   "source": [
    "plot_test('3R', A,B,C,D, blen=100000)"
   ]
  },
  {
   "cell_type": "code",
   "execution_count": null,
   "metadata": {},
   "outputs": [],
   "source": [
    "plot_test('3R', A,B,C,D, blen=200000)"
   ]
  },
  {
   "cell_type": "code",
   "execution_count": null,
   "metadata": {},
   "outputs": [],
   "source": [
    "plot_test('3L', A,B,C,D, blen=50000)"
   ]
  },
  {
   "cell_type": "code",
   "execution_count": null,
   "metadata": {},
   "outputs": [],
   "source": [
    "plot_test('3L', A,B,C,D, blen=100000)"
   ]
  },
  {
   "cell_type": "code",
   "execution_count": null,
   "metadata": {},
   "outputs": [],
   "source": [
    "plot_test('3L', A,B,C,D, blen=200000)"
   ]
  },
  {
   "cell_type": "code",
   "execution_count": null,
   "metadata": {},
   "outputs": [],
   "source": []
  }
 ],
 "metadata": {
  "kernelspec": {
   "display_name": "Python [conda env:root] *",
   "language": "python",
   "name": "conda-root-py"
  },
  "language_info": {
   "codemirror_mode": {
    "name": "ipython",
    "version": 3
   },
   "file_extension": ".py",
   "mimetype": "text/x-python",
   "name": "python",
   "nbconvert_exporter": "python",
   "pygments_lexer": "ipython3",
   "version": "3.6.7"
  }
 },
 "nbformat": 4,
 "nbformat_minor": 4
}
