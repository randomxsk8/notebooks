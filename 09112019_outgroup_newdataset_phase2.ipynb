{
 "cells": [
  {
   "cell_type": "markdown",
   "metadata": {},
   "source": [
    "# Notebook for create a new outgroup dataset for phase2\n",
    "\n",
    "Import modules:"
   ]
  },
  {
   "cell_type": "code",
   "execution_count": 74,
   "metadata": {},
   "outputs": [],
   "source": [
    "import gcsfs #module for google cloud connection\n",
    "import os\n",
    "import allel\n",
    "import zarr\n",
    "import pandas as pd\n",
    "import h5py\n",
    "import petl as etl\n",
    "import numpy as np\n",
    "from matplotlib import pyplot\n",
    "import seaborn as sns\n",
    "import h5py\n",
    "import pyfasta"
   ]
  },
  {
   "cell_type": "markdown",
   "metadata": {},
   "source": [
    "Import Alistair modules:"
   ]
  },
  {
   "cell_type": "code",
   "execution_count": 75,
   "metadata": {},
   "outputs": [
    {
     "name": "stdout",
     "output_type": "stream",
     "text": [
      "allel 1.2.1\n"
     ]
    }
   ],
   "source": [
    "%run '../../imports_20150407.ipynb'"
   ]
  },
  {
   "cell_type": "markdown",
   "metadata": {},
   "source": [
    "-----------------------------"
   ]
  },
  {
   "cell_type": "markdown",
   "metadata": {},
   "source": [
    "Loading phase2 calldata:"
   ]
  },
  {
   "cell_type": "code",
   "execution_count": 76,
   "metadata": {},
   "outputs": [],
   "source": [
    "gcs =  gcsfs.GCSFileSystem(project='malariagen-jupyterhub', token='cloud') ## cloud connection function"
   ]
  },
  {
   "cell_type": "code",
   "execution_count": 77,
   "metadata": {},
   "outputs": [],
   "source": [
    "geno_path = os.path.join(\"ag1000g-release/phase2.AR1/variation/main/zarr/all/ag1000g.phase2.ar1\")  ## Adding phase2 genotype path \n",
    "gcsmap = gcsfs.mapping.GCSMap(geno_path, gcs=gcs) ## link callset\n",
    "callset= zarr.Group(gcsmap, read_only=True) ## read data"
   ]
  },
  {
   "cell_type": "markdown",
   "metadata": {},
   "source": [
    "Loading outgroup calldata:"
   ]
  },
  {
   "cell_type": "code",
   "execution_count": 84,
   "metadata": {},
   "outputs": [],
   "source": [
    "outgroup_species = ['chri', 'epir']"
   ]
  },
  {
   "cell_type": "code",
   "execution_count": 80,
   "metadata": {},
   "outputs": [],
   "source": [
    "outgroup_variants_fn_template = '/home/jovyan/notebooks/data/{species}_fake_cnvrt_sort.vcf.gz.vcfnp_cache/variants.{chrom}.npy'"
   ]
  },
  {
   "cell_type": "markdown",
   "metadata": {},
   "source": [
    "--------------------------"
   ]
  },
  {
   "cell_type": "markdown",
   "metadata": {},
   "source": [
    "Align outgroup calldata to the phase2 calldata:"
   ]
  },
  {
   "cell_type": "code",
   "execution_count": 81,
   "metadata": {},
   "outputs": [],
   "source": [
    "def align_outgroup_ac(chrom, species):\n",
    "\n",
    "    # load Ag1000G variant positions and alternate alleles\n",
    "    variants = callset[chrom]['variants']\n",
    "    pos = allel.SortedIndex(variants['POS'][:], copy=False)\n",
    "    alt = variants['ALT'][:]\n",
    "    \n",
    "    # load outgroup variant positions and alternate alleles\n",
    "    variants_other = np.load(outgroup_variants_fn_template.format(species=species, chrom=chrom), mmap_mode='r')\n",
    "    pos_other = allel.SortedIndex(variants_other['POS'], copy=False)\n",
    "    alt_other = variants_other['ALT']\n",
    "\n",
    "    # locate intersection between callsets\n",
    "    loc_isec, loc_other_isec = pos.locate_intersection(pos_other)\n",
    "    # exclude duplicates\n",
    "    loc_other_dup = pos_other == np.roll(pos_other, 1)\n",
    "    loc_other_isec &= ~loc_other_dup\n",
    "    assert nnz(loc_isec) == nnz(loc_other_isec)\n",
    "    log(pos.size, 'variants in Ag1000G')\n",
    "    log(nnz(loc_isec), 'variants in intersection')\n",
    "\n",
    "    # filter data to the intersection\n",
    "    alt_isec = alt[loc_isec]\n",
    "    alt_other_isec = alt_other[loc_other_isec]\n",
    "\n",
    "    # setup array to store outgroup allele counts with alleles remapped to Ag1000G\n",
    "    n_variants_isec = nnz(loc_isec)\n",
    "    ac_am = np.zeros((n_variants_isec, 4), dtype='i4')\n",
    "    \n",
    "    # reference allele observed\n",
    "    loc_ref = alt_other_isec == b'.'\n",
    "    loc_a1 = alt_isec[:, 0] == alt_other_isec\n",
    "    loc_a2 = alt_isec[:, 1] == alt_other_isec\n",
    "    loc_a3 = alt_isec[:, 2] == alt_other_isec\n",
    "    ac_am[loc_ref, 0] = 1\n",
    "    ac_am[loc_a1, 1] = 1\n",
    "    ac_am[loc_a2, 2] = 1\n",
    "    ac_am[loc_a3, 3] = 1\n",
    "\n",
    "    # finally extend to all Ag1000G variant positions\n",
    "    ac_aligned = np.zeros((pos.shape[0], 4), dtype='i4')\n",
    "    ac_aligned[loc_isec] = ac_am\n",
    "    for i in range(4):\n",
    "        log(i, nnz(ac_aligned[:, i]))\n",
    "    \n",
    "    return ac_aligned"
   ]
  },
  {
   "cell_type": "markdown",
   "metadata": {},
   "source": [
    "christyi try:"
   ]
  },
  {
   "cell_type": "code",
   "execution_count": 82,
   "metadata": {},
   "outputs": [
    {
     "name": "stdout",
     "output_type": "stream",
     "text": [
      "18167056 variants in Ag1000G\n",
      "9887983 variants in intersection\n",
      "0 7203267\n",
      "1 1189266\n",
      "2 300458\n",
      "3 36233\n"
     ]
    },
    {
     "data": {
      "text/plain": [
       "array([[0, 0, 0, 0],\n",
       "       [0, 0, 0, 0],\n",
       "       [0, 0, 0, 0],\n",
       "       ...,\n",
       "       [0, 0, 0, 0],\n",
       "       [0, 0, 0, 0],\n",
       "       [0, 0, 0, 0]], dtype=int32)"
      ]
     },
     "execution_count": 82,
     "metadata": {},
     "output_type": "execute_result"
    }
   ],
   "source": [
    "ac_aligned = align_outgroup_ac('3L', 'chri')\n",
    "ac_aligned"
   ]
  },
  {
   "cell_type": "markdown",
   "metadata": {},
   "source": [
    "--------------------------------"
   ]
  },
  {
   "cell_type": "markdown",
   "metadata": {},
   "source": [
    "Write the align on a new hdf5 dataset:"
   ]
  },
  {
   "cell_type": "code",
   "execution_count": 87,
   "metadata": {},
   "outputs": [
    {
     "name": "stdout",
     "output_type": "stream",
     "text": [
      "2R chri skipping\n",
      "2R epir skipping\n",
      "2L chri skipping\n",
      "2L epir building\n",
      "21442865 variants in Ag1000G\n",
      "12910149 variants in intersection\n",
      "0 8914412\n",
      "1 1718989\n",
      "2 400287\n",
      "3 39988\n",
      "3R chri skipping\n",
      "3R epir building\n",
      "24943504 variants in Ag1000G\n",
      "14216276 variants in intersection\n",
      "0 9957236\n",
      "1 1807128\n",
      "2 469254\n",
      "3 54642\n",
      "3L chri skipping\n",
      "3L epir building\n",
      "18167056 variants in Ag1000G\n",
      "10108545 variants in intersection\n",
      "0 7099424\n",
      "1 1277364\n",
      "2 324472\n",
      "3 36962\n",
      "X chri skipping\n",
      "X epir building\n",
      "9389639 variants in Ag1000G\n",
      "2325640 variants in intersection\n",
      "0 1570560\n",
      "1 315456\n",
      "2 61950\n",
      "3 5518\n"
     ]
    }
   ],
   "source": [
    "with h5py.File('outgroup_allele_counts_phase2.h5',\n",
    "               mode='a') as outgroup_allele_counts:\n",
    "    for chrom in chromosomes:\n",
    "        h5g = outgroup_allele_counts.require_group(chrom)\n",
    "        for species in outgroup_species:\n",
    "            if species in h5g:\n",
    "                log(chrom, species, 'skipping')\n",
    "            else:\n",
    "                log(chrom, species, 'building')\n",
    "                ac_aligned = align_outgroup_ac(chrom, species)\n",
    "                h5d = h5g.create_dataset(species, data=ac_aligned, chunks=True)"
   ]
  },
  {
   "cell_type": "code",
   "execution_count": null,
   "metadata": {},
   "outputs": [],
   "source": []
  }
 ],
 "metadata": {
  "kernelspec": {
   "display_name": "Python 3",
   "language": "python",
   "name": "python3"
  },
  "language_info": {
   "codemirror_mode": {
    "name": "ipython",
    "version": 3
   },
   "file_extension": ".py",
   "mimetype": "text/x-python",
   "name": "python",
   "nbconvert_exporter": "python",
   "pygments_lexer": "ipython3",
   "version": "3.6.7"
  }
 },
 "nbformat": 4,
 "nbformat_minor": 4
}
