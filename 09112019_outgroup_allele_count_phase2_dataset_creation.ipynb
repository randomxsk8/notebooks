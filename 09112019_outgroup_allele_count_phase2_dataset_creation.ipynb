{
 "cells": [
  {
   "cell_type": "markdown",
   "metadata": {},
   "source": [
    "# Outgroup allele counts phase2 dataset creation\n",
    "\n",
    "In this notebook I created the new dataset with allele counts for outgroups.\n",
    "This notebook is structured in 5 steps:\n",
    "\n",
    "1) <b>Loading step</b>, I loaded the Ag1000G phase2 pass data, the ingroup data and the outgroup data\n",
    "\n",
    "2) <b>Alignment step</b>, I aligned the each outgroup genome with the phase2 pass dataset\n",
    "\n",
    "3) <b>Writing step</b>, I wrote the new allele count of the outgroups on a zarr dataset\n",
    "\n",
    "4) <b>Mapping step</b>, I mapped the outgroup alle count dataset to the phase2 biallelic daset to take only the biallelic variants for each outgroup\n",
    "\n",
    "5) <b>Building step</b>, I wrote the new biallelic allele count of the outgroups in a new dataset\n",
    "\n",
    "\n",
    "Import modules:"
   ]
  },
  {
   "cell_type": "code",
   "execution_count": 19,
   "metadata": {},
   "outputs": [],
   "source": [
    "#import gcsfs #module for google cloud connectioimport gcsfs #module for google cloud connection\n",
    "import os\n",
    "import allel\n",
    "import zarr\n",
    "import pandas as pd\n",
    "import h5py\n",
    "import petl as etl\n",
    "import numpy as np\n",
    "from matplotlib import pyplot\n",
    "import seaborn as sns\n",
    "import h5py\n",
    "#import pyfasta"
   ]
  },
  {
   "cell_type": "markdown",
   "metadata": {},
   "source": [
    "Import Alistair modules:"
   ]
  },
  {
   "cell_type": "code",
   "execution_count": 20,
   "metadata": {},
   "outputs": [],
   "source": [
    "%run 'imports_20150407.ipynb'"
   ]
  },
  {
   "cell_type": "markdown",
   "metadata": {},
   "source": [
    "-----------------------------"
   ]
  },
  {
   "cell_type": "markdown",
   "metadata": {},
   "source": [
    "## 1) Loading step"
   ]
  },
  {
   "cell_type": "markdown",
   "metadata": {},
   "source": [
    "Loading phase2 calldata:"
   ]
  },
  {
   "cell_type": "code",
   "execution_count": null,
   "metadata": {},
   "outputs": [],
   "source": [
    "geno_path = os.path.join(\"ag1000g-release/phase2.AR1/variation/main/zarr/pass/ag1000g.phase2.ar1.pass\")  ## Adding phase2 genotype path \n",
    "gcsmap_p2 = gcsfs.mapping.GCSMap(geno_path, gcs=gcs) ## link callset\n",
    "callset= zarr.Group(gcsmap_p2, read_only=True) ## read data"
   ]
  },
  {
   "cell_type": "markdown",
   "metadata": {},
   "source": [
    "---------------------------"
   ]
  },
  {
   "cell_type": "markdown",
   "metadata": {},
   "source": [
    "Load ingroup calldata:"
   ]
  },
  {
   "cell_type": "code",
   "execution_count": 22,
   "metadata": {},
   "outputs": [],
   "source": [
    "ingroup_species = 'arab', 'meru', 'mela', 'quad'\n",
    "ingroup_callset_fn_template = '/bucket/outgroup/UnifiedGenotyper/{species}_ref_ug_vqsr_cnvrt_sort.h5'\n",
    "agc_callsets = {species: h5py.File(ingroup_callset_fn_template.format(species=species), mode='r')\n",
    "                    for species in ingroup_species}"
   ]
  },
  {
   "cell_type": "markdown",
   "metadata": {},
   "source": [
    "Test mela:"
   ]
  },
  {
   "cell_type": "code",
   "execution_count": 23,
   "metadata": {},
   "outputs": [
    {
     "data": {
      "text/plain": [
       "<HDF5 file \"mela_ref_ug_vqsr_cnvrt_sort.h5\" (mode r)>"
      ]
     },
     "execution_count": 23,
     "metadata": {},
     "output_type": "execute_result"
    }
   ],
   "source": [
    "agc_callsets['mela']"
   ]
  },
  {
   "cell_type": "markdown",
   "metadata": {},
   "source": [
    "Loading outgroup calldata:"
   ]
  },
  {
   "cell_type": "code",
   "execution_count": 24,
   "metadata": {},
   "outputs": [],
   "source": [
    "outgroup_species = ['chri', 'epir']"
   ]
  },
  {
   "cell_type": "code",
   "execution_count": 25,
   "metadata": {},
   "outputs": [],
   "source": [
    "outgroup_variants_fn_template = '/bucket/{species}_fake_cnvrt_sort.vcf.gz.vcfnp_cache/variants.{chrom}.npy'"
   ]
  },
  {
   "cell_type": "markdown",
   "metadata": {},
   "source": [
    "--------------------------"
   ]
  },
  {
   "cell_type": "markdown",
   "metadata": {},
   "source": [
    "## 2) Align step"
   ]
  },
  {
   "cell_type": "markdown",
   "metadata": {},
   "source": [
    "Align ingroup calldata to the phase2 calldata:"
   ]
  },
  {
   "cell_type": "code",
   "execution_count": 26,
   "metadata": {},
   "outputs": [],
   "source": [
    "def align_ingroup_ac(chrom, species):\n",
    "    \n",
    "    # load Ag1000G variant positions and alternate alleles\n",
    "    variants = callset[chrom]['variants']\n",
    "    pos = allel.SortedIndex(variants['POS'][:], copy=False)\n",
    "    alt = variants['ALT'][:]\n",
    "    \n",
    "    # load ingroup variant positions and alternate alleles\n",
    "    variants_other = agc_callsets[species][chrom]['variants']\n",
    "    pos_other = allel.SortedIndex(variants_other['POS'][:], copy=False)\n",
    "    alt_other = agc_callsets[species][chrom]['variants']['ALT'][:]\n",
    "    \n",
    "    # locate intersection between callsets\n",
    "    loc_isec, loc_other_isec = pos.locate_intersection(pos_other)\n",
    "    # exclude duplicates\n",
    "    loc_other_dup = pos_other == np.roll(pos_other, 1)\n",
    "    loc_other_isec &= ~loc_other_dup\n",
    "    assert nnz(loc_isec) == nnz(loc_other_isec)\n",
    "    log(pos.size, 'variants in Ag1000G')\n",
    "    log(nnz(loc_isec), 'variants in intersection')\n",
    "    \n",
    "    # filter data to the intersection\n",
    "    alt_isec = alt[loc_isec]\n",
    "    alt_other_isec = alt_other[loc_other_isec]\n",
    "    \n",
    "    # load ingroup genotypes and count alleles\n",
    "    genotype_other_isec = allel.GenotypeChunkedArray(agc_callsets[species][chrom]['calldata']['genotype']).compress(loc_other_isec, axis=0)\n",
    "    ac_other_isec = genotype_other_isec.count_alleles()[:]\n",
    "\n",
    "    # setup array to store ingroup allele counts with alleles remapped to Ag1000G\n",
    "    n_variants_isec = nnz(loc_isec)\n",
    "    ac_am = np.zeros((n_variants_isec, 4), dtype='i4')\n",
    "\n",
    "    # fill in reference allele counts\n",
    "    ac_am[:, 0] = ac_other_isec[:, 0]\n",
    "    \n",
    "    # fill in alternate allele counts\n",
    "    loc_a1 = alt_isec[:, 0] == alt_other_isec\n",
    "    loc_a2 = alt_isec[:, 1] == alt_other_isec\n",
    "    loc_a3 = alt_isec[:, 2] == alt_other_isec\n",
    "    ac_am[loc_a1, 1] = ac_other_isec[loc_a1, 1]\n",
    "    ac_am[loc_a2, 2] = ac_other_isec[loc_a2, 1]\n",
    "    ac_am[loc_a3, 3] = ac_other_isec[loc_a3, 1]    \n",
    "    \n",
    "    # finally extend to all Ag1000G variant positions\n",
    "    ac_aligned = np.zeros((pos.shape[0], 4), dtype='i4')\n",
    "    ac_aligned[loc_isec] = ac_am\n",
    "    for i in range(4):\n",
    "        log(i, nnz(ac_aligned[:, i]))\n",
    "    \n",
    "    return ac_aligned"
   ]
  },
  {
   "cell_type": "code",
   "execution_count": 27,
   "metadata": {},
   "outputs": [
    {
     "name": "stdout",
     "output_type": "stream",
     "text": [
      "10640388 variants in Ag1000G\n",
      "9769468 variants in intersection\n",
      "0 9259374\n",
      "1 330829\n",
      "2 87100\n",
      "3 8495\n"
     ]
    },
    {
     "data": {
      "text/plain": [
       "array([[0, 0, 0, 0],\n",
       "       [0, 0, 0, 0],\n",
       "       [0, 0, 0, 0],\n",
       "       ...,\n",
       "       [0, 0, 0, 0],\n",
       "       [0, 0, 0, 0],\n",
       "       [0, 0, 0, 0]], dtype=int32)"
      ]
     },
     "execution_count": 27,
     "metadata": {},
     "output_type": "execute_result"
    }
   ],
   "source": [
    "ac_aligned = align_ingroup_ac('3L', 'mela')\n",
    "ac_aligned"
   ]
  },
  {
   "cell_type": "markdown",
   "metadata": {},
   "source": [
    "Align outgroup calldata to the phase2 calldata:"
   ]
  },
  {
   "cell_type": "code",
   "execution_count": 29,
   "metadata": {},
   "outputs": [],
   "source": [
    "def align_outgroup_ac(chrom, species):\n",
    "\n",
    "    # load Ag1000G variant positions and alternate alleles\n",
    "    variants = callset[chrom]['variants']\n",
    "    pos = allel.SortedIndex(variants['POS'][:], copy=False)\n",
    "    alt = variants['ALT'][:]\n",
    "    \n",
    "    # load outgroup variant positions and alternate alleles\n",
    "    variants_other = np.load(outgroup_variants_fn_template.format(species=species, chrom=chrom), mmap_mode='r')\n",
    "    pos_other = allel.SortedIndex(variants_other['POS'], copy=False)\n",
    "    alt_other = variants_other['ALT']\n",
    "\n",
    "    # locate intersection between callsets\n",
    "    loc_isec, loc_other_isec = pos.locate_intersection(pos_other)\n",
    "    # exclude duplicates\n",
    "    loc_other_dup = pos_other == np.roll(pos_other, 1)\n",
    "    loc_other_isec &= ~loc_other_dup\n",
    "    assert nnz(loc_isec) == nnz(loc_other_isec)\n",
    "    log(pos.size, 'variants in Ag1000G')\n",
    "    log(nnz(loc_isec), 'variants in intersection')\n",
    "\n",
    "    # filter data to the intersection\n",
    "    alt_isec = alt[loc_isec]\n",
    "    alt_other_isec = alt_other[loc_other_isec]\n",
    "\n",
    "    # setup array to store outgroup allele counts with alleles remapped to Ag1000G\n",
    "    n_variants_isec = nnz(loc_isec)\n",
    "    ac_am = np.zeros((n_variants_isec, 4), dtype='i4')\n",
    "    \n",
    "    # reference allele observed\n",
    "    loc_ref = alt_other_isec == b'.'\n",
    "    loc_a1 = alt_isec[:, 0] == alt_other_isec\n",
    "    loc_a2 = alt_isec[:, 1] == alt_other_isec\n",
    "    loc_a3 = alt_isec[:, 2] == alt_other_isec\n",
    "    ac_am[loc_ref, 0] = 1\n",
    "    ac_am[loc_a1, 1] = 1\n",
    "    ac_am[loc_a2, 2] = 1\n",
    "    ac_am[loc_a3, 3] = 1\n",
    "\n",
    "    # finally extend to all Ag1000G variant positions\n",
    "    ac_aligned = np.zeros((pos.shape[0], 4), dtype='i4')\n",
    "    ac_aligned[loc_isec] = ac_am\n",
    "    for i in range(4):\n",
    "        log(i, nnz(ac_aligned[:, i]))\n",
    "    \n",
    "    return ac_aligned"
   ]
  },
  {
   "cell_type": "markdown",
   "metadata": {},
   "source": [
    "christyi try:"
   ]
  },
  {
   "cell_type": "code",
   "execution_count": 11,
   "metadata": {},
   "outputs": [
    {
     "name": "stdout",
     "output_type": "stream",
     "text": [
      "18167056 variants in Ag1000G\n",
      "9887983 variants in intersection\n",
      "0 7203267\n",
      "1 1189266\n",
      "2 300458\n",
      "3 36233\n"
     ]
    },
    {
     "data": {
      "text/plain": [
       "array([[0, 0, 0, 0],\n",
       "       [0, 0, 0, 0],\n",
       "       [0, 0, 0, 0],\n",
       "       ...,\n",
       "       [0, 0, 0, 0],\n",
       "       [0, 0, 0, 0],\n",
       "       [0, 0, 0, 0]], dtype=int32)"
      ]
     },
     "execution_count": 11,
     "metadata": {},
     "output_type": "execute_result"
    }
   ],
   "source": [
    "ac_aligned = align_outgroup_ac('3L', 'chri')\n",
    "ac_aligned"
   ]
  },
  {
   "cell_type": "markdown",
   "metadata": {},
   "source": [
    "--------------------------------"
   ]
  },
  {
   "cell_type": "markdown",
   "metadata": {},
   "source": [
    "## 3) Writing step"
   ]
  },
  {
   "cell_type": "markdown",
   "metadata": {},
   "source": [
    "Write the align on a new hdf5 dataset:"
   ]
  },
  {
   "cell_type": "code",
   "execution_count": 22,
   "metadata": {
    "scrolled": true
   },
   "outputs": [
    {
     "name": "stdout",
     "output_type": "stream",
     "text": [
      "2R arab building\n",
      "15425222 variants in Ag1000G\n",
      "14834299 variants in intersection\n",
      "0 14576684\n",
      "1 428646\n",
      "2 94803\n",
      "3 7051\n",
      "2R meru building\n",
      "15425222 variants in Ag1000G\n",
      "14685803 variants in intersection\n",
      "0 13977209\n",
      "1 523340\n",
      "2 118070\n",
      "3 9512\n",
      "2R mela building\n",
      "15425222 variants in Ag1000G\n",
      "14362070 variants in intersection\n",
      "0 13635602\n",
      "1 503871\n",
      "2 112333\n",
      "3 9142\n",
      "2R quad building\n",
      "15425222 variants in Ag1000G\n",
      "14709343 variants in intersection\n",
      "0 14292439\n",
      "1 412504\n",
      "2 93303\n",
      "3 7233\n",
      "2R chri building\n",
      "15425222 variants in Ag1000G\n",
      "11969950 variants in intersection\n",
      "0 8806507\n",
      "1 1437481\n",
      "2 300048\n",
      "3 28887\n",
      "2R epir building\n",
      "15425222 variants in Ag1000G\n",
      "12052087 variants in intersection\n",
      "0 8480598\n",
      "1 1539524\n",
      "2 323175\n",
      "3 28921\n",
      "2L arab building\n",
      "11524923 variants in Ag1000G\n",
      "11049210 variants in intersection\n",
      "0 10800836\n",
      "1 332781\n",
      "2 78528\n",
      "3 5890\n",
      "2L meru building\n",
      "11524923 variants in Ag1000G\n",
      "10957865 variants in intersection\n",
      "0 10484963\n",
      "1 352624\n",
      "2 82733\n",
      "3 6598\n",
      "2L mela building\n",
      "11524923 variants in Ag1000G\n",
      "10669729 variants in intersection\n",
      "0 10183040\n",
      "1 335285\n",
      "2 78229\n",
      "3 6200\n",
      "2L quad building\n",
      "11524923 variants in Ag1000G\n",
      "11002175 variants in intersection\n",
      "0 10741227\n",
      "1 287142\n",
      "2 68294\n",
      "3 5239\n",
      "2L chri building\n",
      "11524923 variants in Ag1000G\n",
      "8698859 variants in intersection\n",
      "0 6460610\n",
      "1 1011379\n",
      "2 219444\n",
      "3 21097\n",
      "2L epir building\n",
      "11524923 variants in Ag1000G\n",
      "8946167 variants in intersection\n",
      "0 6367722\n",
      "1 1112990\n",
      "2 243532\n",
      "3 21983\n",
      "3R arab building\n",
      "14481509 variants in Ag1000G\n",
      "13844006 variants in intersection\n",
      "0 13629146\n",
      "1 347478\n",
      "2 90752\n",
      "3 8024\n",
      "3R meru building\n",
      "14481509 variants in Ag1000G\n",
      "13701897 variants in intersection\n",
      "0 13141502\n",
      "1 429645\n",
      "2 113427\n",
      "3 10564\n",
      "3R mela building\n",
      "14481509 variants in Ag1000G\n",
      "13423604 variants in intersection\n",
      "0 12808583\n",
      "1 421087\n",
      "2 110927\n",
      "3 10501\n",
      "3R quad building\n",
      "14481509 variants in Ag1000G\n",
      "13630995 variants in intersection\n",
      "0 13327118\n",
      "1 338985\n",
      "2 91671\n",
      "3 8280\n",
      "3R chri building\n",
      "14481509 variants in Ag1000G\n",
      "10955945 variants in intersection\n",
      "0 8183726\n",
      "1 1241231\n",
      "2 305502\n",
      "3 34852\n",
      "3R epir building\n",
      "14481509 variants in Ag1000G\n",
      "11118937 variants in intersection\n",
      "0 7941572\n",
      "1 1351708\n",
      "2 336149\n",
      "3 35907\n",
      "3L arab building\n",
      "10640388 variants in Ag1000G\n",
      "10183178 variants in intersection\n",
      "0 10046488\n",
      "1 223066\n",
      "2 56379\n",
      "3 4734\n",
      "3L meru building\n",
      "10640388 variants in Ag1000G\n",
      "10028245 variants in intersection\n",
      "0 9614885\n",
      "1 318169\n",
      "2 83439\n",
      "3 7765\n",
      "3L mela building\n",
      "10640388 variants in Ag1000G\n",
      "9769468 variants in intersection\n",
      "0 9259374\n",
      "1 330829\n",
      "2 87100\n",
      "3 8495\n",
      "3L quad building\n",
      "10640388 variants in Ag1000G\n",
      "9998661 variants in intersection\n",
      "0 9715061\n",
      "1 264026\n",
      "2 69492\n",
      "3 6415\n",
      "3L chri building\n",
      "10640388 variants in Ag1000G\n",
      "7686523 variants in intersection\n",
      "0 5713588\n",
      "1 875566\n",
      "2 213949\n",
      "3 24162\n",
      "3L epir building\n",
      "10640388 variants in Ag1000G\n",
      "7938359 variants in intersection\n",
      "0 5680360\n",
      "1 959139\n",
      "2 237004\n",
      "3 25403\n",
      "X arab building\n",
      "5765843 variants in Ag1000G\n",
      "4651686 variants in intersection\n",
      "0 4365962\n",
      "1 171734\n",
      "2 39219\n",
      "3 3564\n",
      "X meru building\n",
      "5765843 variants in Ag1000G\n",
      "4655902 variants in intersection\n",
      "0 4349296\n",
      "1 177756\n",
      "2 40063\n",
      "3 3564\n",
      "X mela building\n",
      "5765843 variants in Ag1000G\n",
      "4338123 variants in intersection\n",
      "0 4034976\n",
      "1 164720\n",
      "2 37018\n",
      "3 3342\n",
      "X quad building\n",
      "5765843 variants in Ag1000G\n",
      "4532022 variants in intersection\n",
      "0 4274829\n",
      "1 159423\n",
      "2 36259\n",
      "3 3337\n",
      "X chri building\n",
      "5765843 variants in Ag1000G\n",
      "2121295 variants in intersection\n",
      "0 1468577\n",
      "1 288591\n",
      "2 55394\n",
      "3 4957\n",
      "X epir building\n",
      "5765843 variants in Ag1000G\n",
      "1982526 variants in intersection\n",
      "0 1346567\n",
      "1 266567\n",
      "2 49838\n",
      "3 4045\n"
     ]
    }
   ],
   "source": [
    "with h5py.File('data/outgroup_allele_counts_phase2.h5',\n",
    "               mode='a') as outgroup_allele_counts:\n",
    "    for chrom in chromosomes:\n",
    "        h5g = outgroup_allele_counts.require_group(chrom)\n",
    "        for species in ingroup_species:\n",
    "            if species in h5g:\n",
    "                log(chrom, species, 'skipping')\n",
    "            else:\n",
    "                log(chrom, species, 'building')\n",
    "                ac_aligned = align_ingroup_ac(chrom, species)\n",
    "                h5d = h5g.create_dataset(species, data=ac_aligned, chunks=True)\n",
    "\n",
    "        for species in outgroup_species:\n",
    "            if species in h5g:\n",
    "                log(chrom, species, 'skipping')\n",
    "            else:\n",
    "                log(chrom, species, 'building')\n",
    "                ac_aligned = align_outgroup_ac(chrom, species)\n",
    "                h5d = h5g.create_dataset(species, data=ac_aligned, chunks=True)"
   ]
  },
  {
   "cell_type": "markdown",
   "metadata": {},
   "source": [
    "----------------------------------------------"
   ]
  },
  {
   "cell_type": "markdown",
   "metadata": {},
   "source": [
    "## 4 Mapping step"
   ]
  },
  {
   "cell_type": "code",
   "execution_count": 30,
   "metadata": {},
   "outputs": [
    {
     "data": {
      "text/plain": [
       "<KeysViewHDF5 ['2L', '2R', '3L', '3R', 'X']>"
      ]
     },
     "execution_count": 30,
     "metadata": {},
     "output_type": "execute_result"
    }
   ],
   "source": [
    "calldata_out= h5py.File('data/outgroup_allele_counts_phase2.h5', mode='r')\n",
    "calldata_out.keys()"
   ]
  },
  {
   "cell_type": "code",
   "execution_count": null,
   "metadata": {},
   "outputs": [],
   "source": [
    "geno_bi_path = os.path.join(\"ag1000g-release/phase2.AR1/variation/main/zarr/biallelic/ag1000g.phase2.ar1.pass.biallelic\")  ## Adding phase2 biallelic genotype path \n",
    "gcsmap_bi = gcsfs.mapping.GCSMap(geno_bi_path, gcs=gcs) ## link callset\n",
    "callset_biallel= zarr.Group(gcsmap_bi, read_only=True) ## read data"
   ]
  },
  {
   "cell_type": "code",
   "execution_count": 35,
   "metadata": {},
   "outputs": [],
   "source": [
    "def out_map(out_pop, chrom):\n",
    "    \n",
    "            pos_all = allel.SortedIndex(callset[chrom][\"variants/POS\"][:])\n",
    "            pos_bi = allel.SortedIndex(callset_biallel[chrom][\"variants/POS\"])\n",
    "            loc1, loc2 = pos_bi.locate_intersection(pos_all)\n",
    "            pos_p2_sel = pos_bi[loc1]\n",
    "            pos_p1_sel = pos_all[loc2]\n",
    "            variants_all = allel.VariantChunkedTable(callset[chrom][\"variants\"], \n",
    "                                                 names=['POS', 'REF', 'ALT', 'DP', 'MQ', 'QD'],\n",
    "                                                 index='POS')\n",
    "            variants_bi = allel.VariantChunkedTable(callset_biallel[chrom][\"variants\"], \n",
    "                                                 names=['POS', 'REF', 'ALT', 'DP', 'MQ', 'QD', 'numalt'],\n",
    "                                                 index='POS')\n",
    "\n",
    "            variants_all_filt = variants_all.compress(loc2)\n",
    "            phase2_all_ref = variants_all_filt[\"REF\"][:]\n",
    "            phase2_all_alt = variants_all_filt[\"ALT\"][:]\n",
    "\n",
    "            variants_bi_filt = variants_bi.compress(loc1)\n",
    "            phase2_bi_ref = variants_bi_filt[\"REF\"][:]\n",
    "            phase2_bi_alt = variants_bi_filt[\"ALT\"][:]\n",
    "\n",
    "            phase2_bi_refalt = np.column_stack([phase2_bi_ref, phase2_bi_alt])\n",
    "            mapping = allel.create_allele_mapping(phase2_all_ref, phase2_all_alt, phase2_bi_refalt)\n",
    "            calldata_outgroup= h5py.File('outgroup_allele_counts_phase2.h5', mode='r')\n",
    "            calldata_out_pop = calldata_outgroup[chrom][out_pop]\n",
    "            ac_out_pop = allel.AlleleCountsArray(calldata_out_pop)\n",
    "            ac_out_pop = ac_out_pop.compress(loc2)\n",
    "            pop_map_ac = ac_out_pop.map_alleles(mapping)\n",
    "            \n",
    "\n",
    "            return pop_map_ac   "
   ]
  },
  {
   "cell_type": "code",
   "execution_count": 37,
   "metadata": {},
   "outputs": [],
   "source": [
    "chri_2R = out_map('chri' , '2R')\n",
    "chri_2L = out_map('chri' , '2L')\n",
    "chri_3R = out_map('chri' , '3R')\n",
    "chri_3L = out_map('chri' , '3L')\n",
    "chri_X = out_map('chri' , 'X')"
   ]
  },
  {
   "cell_type": "code",
   "execution_count": 38,
   "metadata": {},
   "outputs": [],
   "source": [
    "epir_2R = out_map('epir' , '2R')\n",
    "epir_2L = out_map('epir' , '2L')\n",
    "epir_3R = out_map('epir' , '3R')\n",
    "epir_3L = out_map('epir' , '3L')\n",
    "epir_X = out_map('epir' , 'X')"
   ]
  },
  {
   "cell_type": "code",
   "execution_count": 39,
   "metadata": {},
   "outputs": [],
   "source": [
    "arab_2R = out_map('arab' , '2R')\n",
    "arab_2L = out_map('arab' , '2L')\n",
    "arab_3R = out_map('arab' , '3R')\n",
    "arab_3L = out_map('arab' , '3L')\n",
    "arab_X = out_map('arab' , 'X')"
   ]
  },
  {
   "cell_type": "code",
   "execution_count": 40,
   "metadata": {},
   "outputs": [],
   "source": [
    "meru_2R = out_map('meru' , '2R')\n",
    "meru_2L = out_map('meru' , '2L')\n",
    "meru_3R = out_map('meru' , '3R')\n",
    "meru_3L = out_map('meru' , '3L')\n",
    "meru_X = out_map('meru' , 'X')"
   ]
  },
  {
   "cell_type": "code",
   "execution_count": 41,
   "metadata": {},
   "outputs": [],
   "source": [
    "mela_2R = out_map('mela' , '2R')\n",
    "mela_2L = out_map('mela' , '2L')\n",
    "mela_3R = out_map('mela' , '3R')\n",
    "mela_3L = out_map('mela' , '3L')\n",
    "mela_X = out_map('mela' , 'X')"
   ]
  },
  {
   "cell_type": "code",
   "execution_count": 42,
   "metadata": {},
   "outputs": [],
   "source": [
    "quad_2R = out_map('quad' , '2R')\n",
    "quad_2L = out_map('quad' , '2L')\n",
    "quad_3R = out_map('quad' , '3R')\n",
    "quad_3L = out_map('quad' , '3L')\n",
    "quad_X = out_map('quad' , 'X')"
   ]
  },
  {
   "cell_type": "markdown",
   "metadata": {},
   "source": [
    "## 5) Writing step"
   ]
  },
  {
   "cell_type": "code",
   "execution_count": 43,
   "metadata": {},
   "outputs": [],
   "source": [
    "root = zarr.open('outgroup_alleles_phase2.zarr', mode='a')"
   ]
  },
  {
   "cell_type": "code",
   "execution_count": 44,
   "metadata": {},
   "outputs": [],
   "source": [
    "#foo = root.create_group('foo')\n",
    "#bar = foo.create_dataset('bar', data=my_array)\n",
    "# shortcuts\n",
    "bar = root.create_dataset('2R/chri', data=chri_2R)\n",
    "bar = root.create_dataset('2R/epir', data=epir_2R)\n",
    "bar = root.create_dataset('2R/mela', data=mela_2R)\n",
    "bar = root.create_dataset('2R/meru', data=meru_2R)\n",
    "bar = root.create_dataset('2R/arab', data=arab_2R)\n",
    "bar = root.create_dataset('2R/quad', data=quad_2R)"
   ]
  },
  {
   "cell_type": "code",
   "execution_count": 45,
   "metadata": {},
   "outputs": [],
   "source": [
    "bar = root.create_dataset('2L/chri', data=chri_2L)\n",
    "bar = root.create_dataset('2L/epir', data=epir_2L)\n",
    "bar = root.create_dataset('2L/mela', data=mela_2L)\n",
    "bar = root.create_dataset('2L/meru', data=meru_2L)\n",
    "bar = root.create_dataset('2L/arab', data=arab_2L)\n",
    "bar = root.create_dataset('2L/quad', data=quad_2L)"
   ]
  },
  {
   "cell_type": "code",
   "execution_count": 46,
   "metadata": {},
   "outputs": [],
   "source": [
    "bar = root.create_dataset('3R/chri', data=chri_3R)\n",
    "bar = root.create_dataset('3R/epir', data=epir_3R)\n",
    "bar = root.create_dataset('3R/mela', data=mela_3R)\n",
    "bar = root.create_dataset('3R/meru', data=meru_3R)\n",
    "bar = root.create_dataset('3R/arab', data=arab_3R)\n",
    "bar = root.create_dataset('3R/quad', data=quad_3R)"
   ]
  },
  {
   "cell_type": "code",
   "execution_count": 47,
   "metadata": {},
   "outputs": [],
   "source": [
    "bar = root.create_dataset('3L/chri', data=chri_3L)\n",
    "bar = root.create_dataset('3L/epir', data=epir_3L)\n",
    "bar = root.create_dataset('3L/mela', data=mela_3L)\n",
    "bar = root.create_dataset('3L/meru', data=meru_3L)\n",
    "bar = root.create_dataset('3L/arab', data=arab_3L)\n",
    "bar = root.create_dataset('3L/quad', data=quad_3L)"
   ]
  },
  {
   "cell_type": "code",
   "execution_count": 48,
   "metadata": {},
   "outputs": [],
   "source": [
    "bar = root.create_dataset('X/chri', data=chri_X)\n",
    "bar = root.create_dataset('X/epir', data=epir_X)\n",
    "bar = root.create_dataset('X/mela', data=mela_X)\n",
    "bar = root.create_dataset('X/meru', data=meru_X)\n",
    "bar = root.create_dataset('X/arab', data=arab_X)\n",
    "bar = root.create_dataset('X/quad', data=quad_X)"
   ]
  },
  {
   "cell_type": "code",
   "execution_count": 49,
   "metadata": {
    "scrolled": true
   },
   "outputs": [
    {
     "data": {
      "text/html": [
       "<link rel=\"stylesheet\" href=\"//cdnjs.cloudflare.com/ajax/libs/jstree/3.3.3/themes/default/style.min.css\"/><div id=\"8c0f4fd4-512a-4dac-9021-f390b0ffc1c8\" class=\"zarr-tree\"><ul><li data-jstree='{\"type\": \"Group\"}' class='jstree-open'><span>/</span><ul><li data-jstree='{\"type\": \"Group\"}' class=''><span>2L</span><ul><li data-jstree='{\"type\": \"Array\"}' class=''><span>arab (8906423, 2) int32</span></li><li data-jstree='{\"type\": \"Array\"}' class=''><span>chri (8906423, 2) int32</span></li><li data-jstree='{\"type\": \"Array\"}' class=''><span>epir (8906423, 2) int32</span></li><li data-jstree='{\"type\": \"Array\"}' class=''><span>mela (8906423, 2) int32</span></li><li data-jstree='{\"type\": \"Array\"}' class=''><span>meru (8906423, 2) int32</span></li><li data-jstree='{\"type\": \"Array\"}' class=''><span>quad (8906423, 2) int32</span></li></ul></li><li data-jstree='{\"type\": \"Group\"}' class=''><span>2R</span><ul><li data-jstree='{\"type\": \"Array\"}' class=''><span>arab (12047846, 2) int32</span></li><li data-jstree='{\"type\": \"Array\"}' class=''><span>chri (12047846, 2) int32</span></li><li data-jstree='{\"type\": \"Array\"}' class=''><span>epir (12047846, 2) int32</span></li><li data-jstree='{\"type\": \"Array\"}' class=''><span>mela (12047846, 2) int32</span></li><li data-jstree='{\"type\": \"Array\"}' class=''><span>meru (12047846, 2) int32</span></li><li data-jstree='{\"type\": \"Array\"}' class=''><span>quad (12047846, 2) int32</span></li></ul></li><li data-jstree='{\"type\": \"Group\"}' class=''><span>3L</span><ul><li data-jstree='{\"type\": \"Array\"}' class=''><span>arab (7897666, 2) int32</span></li><li data-jstree='{\"type\": \"Array\"}' class=''><span>chri (7897666, 2) int32</span></li><li data-jstree='{\"type\": \"Array\"}' class=''><span>epir (7897666, 2) int32</span></li><li data-jstree='{\"type\": \"Array\"}' class=''><span>mela (7897666, 2) int32</span></li><li data-jstree='{\"type\": \"Array\"}' class=''><span>meru (7897666, 2) int32</span></li><li data-jstree='{\"type\": \"Array\"}' class=''><span>quad (7897666, 2) int32</span></li></ul></li><li data-jstree='{\"type\": \"Group\"}' class=''><span>3R</span><ul><li data-jstree='{\"type\": \"Array\"}' class=''><span>arab (10752701, 2) int32</span></li><li data-jstree='{\"type\": \"Array\"}' class=''><span>chri (10752701, 2) int32</span></li><li data-jstree='{\"type\": \"Array\"}' class=''><span>epir (10752701, 2) int32</span></li><li data-jstree='{\"type\": \"Array\"}' class=''><span>mela (10752701, 2) int32</span></li><li data-jstree='{\"type\": \"Array\"}' class=''><span>meru (10752701, 2) int32</span></li><li data-jstree='{\"type\": \"Array\"}' class=''><span>quad (10752701, 2) int32</span></li></ul></li><li data-jstree='{\"type\": \"Group\"}' class=''><span>X</span><ul><li data-jstree='{\"type\": \"Array\"}' class=''><span>arab (4472265, 2) int32</span></li><li data-jstree='{\"type\": \"Array\"}' class=''><span>chri (4472265, 2) int32</span></li><li data-jstree='{\"type\": \"Array\"}' class=''><span>epir (4472265, 2) int32</span></li><li data-jstree='{\"type\": \"Array\"}' class=''><span>mela (4472265, 2) int32</span></li><li data-jstree='{\"type\": \"Array\"}' class=''><span>meru (4472265, 2) int32</span></li><li data-jstree='{\"type\": \"Array\"}' class=''><span>quad (4472265, 2) int32</span></li></ul></li></ul></li></ul></div>\n",
       "<script>\n",
       "    if (!require.defined('jquery')) {\n",
       "        require.config({\n",
       "            paths: {\n",
       "                jquery: '//cdnjs.cloudflare.com/ajax/libs/jquery/1.12.1/jquery.min'\n",
       "            },\n",
       "        });\n",
       "    }\n",
       "    if (!require.defined('jstree')) {\n",
       "        require.config({\n",
       "            paths: {\n",
       "                jstree: '//cdnjs.cloudflare.com/ajax/libs/jstree/3.3.3/jstree.min'\n",
       "            },\n",
       "        });\n",
       "    }\n",
       "    require(['jstree'], function() {\n",
       "        $('#8c0f4fd4-512a-4dac-9021-f390b0ffc1c8').jstree({\n",
       "            types: {\n",
       "                Group: {\n",
       "                    icon: \"fa fa-folder\"\n",
       "                },\n",
       "                Array: {\n",
       "                    icon: \"fa fa-table\"\n",
       "                }\n",
       "            },\n",
       "            plugins: [\"types\"]\n",
       "        });\n",
       "    });\n",
       "</script>\n"
      ],
      "text/plain": [
       "/\n",
       " ├── 2L\n",
       " │   ├── arab (8906423, 2) int32\n",
       " │   ├── chri (8906423, 2) int32\n",
       " │   ├── epir (8906423, 2) int32\n",
       " │   ├── mela (8906423, 2) int32\n",
       " │   ├── meru (8906423, 2) int32\n",
       " │   └── quad (8906423, 2) int32\n",
       " ├── 2R\n",
       " │   ├── arab (12047846, 2) int32\n",
       " │   ├── chri (12047846, 2) int32\n",
       " │   ├── epir (12047846, 2) int32\n",
       " │   ├── mela (12047846, 2) int32\n",
       " │   ├── meru (12047846, 2) int32\n",
       " │   └── quad (12047846, 2) int32\n",
       " ├── 3L\n",
       " │   ├── arab (7897666, 2) int32\n",
       " │   ├── chri (7897666, 2) int32\n",
       " │   ├── epir (7897666, 2) int32\n",
       " │   ├── mela (7897666, 2) int32\n",
       " │   ├── meru (7897666, 2) int32\n",
       " │   └── quad (7897666, 2) int32\n",
       " ├── 3R\n",
       " │   ├── arab (10752701, 2) int32\n",
       " │   ├── chri (10752701, 2) int32\n",
       " │   ├── epir (10752701, 2) int32\n",
       " │   ├── mela (10752701, 2) int32\n",
       " │   ├── meru (10752701, 2) int32\n",
       " │   └── quad (10752701, 2) int32\n",
       " └── X\n",
       "     ├── arab (4472265, 2) int32\n",
       "     ├── chri (4472265, 2) int32\n",
       "     ├── epir (4472265, 2) int32\n",
       "     ├── mela (4472265, 2) int32\n",
       "     ├── meru (4472265, 2) int32\n",
       "     └── quad (4472265, 2) int32"
      ]
     },
     "execution_count": 49,
     "metadata": {},
     "output_type": "execute_result"
    }
   ],
   "source": [
    "root.tree()"
   ]
  },
  {
   "cell_type": "code",
   "execution_count": 50,
   "metadata": {},
   "outputs": [
    {
     "data": {
      "text/plain": [
       "array([[24,  0],\n",
       "       [24,  0],\n",
       "       [24,  0],\n",
       "       ...,\n",
       "       [ 0,  0],\n",
       "       [ 0,  0],\n",
       "       [ 0,  0]], dtype=int32)"
      ]
     },
     "execution_count": 50,
     "metadata": {},
     "output_type": "execute_result"
    }
   ],
   "source": [
    "# read data again\n",
    "my_array= root['2L/arab'][:]\n",
    "my_array"
   ]
  },
  {
   "cell_type": "markdown",
   "metadata": {},
   "source": [
    "----------------------------------"
   ]
  },
  {
   "cell_type": "code",
   "execution_count": 51,
   "metadata": {},
   "outputs": [
    {
     "data": {
      "text/html": [
       "<div class=\"allel allel-DisplayAs2D\"><span>&lt;AlleleCountsArray shape=(8906423, 2) dtype=int32&gt;</span><table><thead><tr><th></th><th style=\"text-align: center\">0</th><th style=\"text-align: center\">1</th></tr></thead><tbody><tr><th style=\"text-align: center; background-color: white; border-right: 1px solid black; \">0</th><td style=\"text-align: center\">24</td><td style=\"text-align: center\"> 0</td></tr><tr><th style=\"text-align: center; background-color: white; border-right: 1px solid black; \">1</th><td style=\"text-align: center\">24</td><td style=\"text-align: center\"> 0</td></tr><tr><th style=\"text-align: center; background-color: white; border-right: 1px solid black; \">2</th><td style=\"text-align: center\">24</td><td style=\"text-align: center\"> 0</td></tr><tr><th style=\"text-align: center; background-color: white; border-right: 1px solid black; \">...</th><td style=\"text-align: center\" colspan=\"3\">...</td></tr><tr><th style=\"text-align: center; background-color: white; border-right: 1px solid black; \">8906420</th><td style=\"text-align: center\">0</td><td style=\"text-align: center\">0</td></tr><tr><th style=\"text-align: center; background-color: white; border-right: 1px solid black; \">8906421</th><td style=\"text-align: center\">0</td><td style=\"text-align: center\">0</td></tr><tr><th style=\"text-align: center; background-color: white; border-right: 1px solid black; \">8906422</th><td style=\"text-align: center\">0</td><td style=\"text-align: center\">0</td></tr></tbody></table></div>"
      ],
      "text/plain": [
       "<AlleleCountsArray shape=(8906423, 2) dtype=int32>\n",
       "24  0\n",
       "24  0\n",
       "24  0\n",
       "...\n",
       "0 0\n",
       "0 0\n",
       "0 0"
      ]
     },
     "execution_count": 51,
     "metadata": {},
     "output_type": "execute_result"
    }
   ],
   "source": [
    "allel.AlleleCountsArray(root['2L/arab'])"
   ]
  },
  {
   "cell_type": "code",
   "execution_count": 52,
   "metadata": {},
   "outputs": [
    {
     "data": {
      "text/html": [
       "<div class=\"allel allel-DisplayAs2D\"><span>&lt;AlleleCountsArray shape=(11524923, 4) dtype=int32&gt;</span><table><thead><tr><th></th><th style=\"text-align: center\">0</th><th style=\"text-align: center\">1</th><th style=\"text-align: center\">2</th><th style=\"text-align: center\">3</th></tr></thead><tbody><tr><th style=\"text-align: center; background-color: white; border-right: 1px solid black; \">0</th><td style=\"text-align: center\">24</td><td style=\"text-align: center\"> 0</td><td style=\"text-align: center\"> 0</td><td style=\"text-align: center\"> 0</td></tr><tr><th style=\"text-align: center; background-color: white; border-right: 1px solid black; \">1</th><td style=\"text-align: center\">24</td><td style=\"text-align: center\"> 0</td><td style=\"text-align: center\"> 0</td><td style=\"text-align: center\"> 0</td></tr><tr><th style=\"text-align: center; background-color: white; border-right: 1px solid black; \">2</th><td style=\"text-align: center\">24</td><td style=\"text-align: center\"> 0</td><td style=\"text-align: center\"> 0</td><td style=\"text-align: center\"> 0</td></tr><tr><th style=\"text-align: center; background-color: white; border-right: 1px solid black; \">...</th><td style=\"text-align: center\" colspan=\"5\">...</td></tr><tr><th style=\"text-align: center; background-color: white; border-right: 1px solid black; \">11524920</th><td style=\"text-align: center\">0</td><td style=\"text-align: center\">0</td><td style=\"text-align: center\">0</td><td style=\"text-align: center\">0</td></tr><tr><th style=\"text-align: center; background-color: white; border-right: 1px solid black; \">11524921</th><td style=\"text-align: center\">0</td><td style=\"text-align: center\">0</td><td style=\"text-align: center\">0</td><td style=\"text-align: center\">0</td></tr><tr><th style=\"text-align: center; background-color: white; border-right: 1px solid black; \">11524922</th><td style=\"text-align: center\">0</td><td style=\"text-align: center\">0</td><td style=\"text-align: center\">0</td><td style=\"text-align: center\">0</td></tr></tbody></table></div>"
      ],
      "text/plain": [
       "<AlleleCountsArray shape=(11524923, 4) dtype=int32>\n",
       "24  0  0  0\n",
       "24  0  0  0\n",
       "24  0  0  0\n",
       "...\n",
       "0 0 0 0\n",
       "0 0 0 0\n",
       "0 0 0 0"
      ]
     },
     "execution_count": 52,
     "metadata": {},
     "output_type": "execute_result"
    }
   ],
   "source": [
    "allel.AlleleCountsArray(calldata_out['2L/arab'])"
   ]
  },
  {
   "cell_type": "code",
   "execution_count": 53,
   "metadata": {},
   "outputs": [],
   "source": [
    "calldata_out= zarr.open('outgroup_alleles_phase2.zarr')\n"
   ]
  },
  {
   "cell_type": "code",
   "execution_count": 54,
   "metadata": {
    "scrolled": true
   },
   "outputs": [
    {
     "data": {
      "text/html": [
       "<link rel=\"stylesheet\" href=\"//cdnjs.cloudflare.com/ajax/libs/jstree/3.3.3/themes/default/style.min.css\"/><div id=\"cf450538-a399-4d51-a913-148936c8b088\" class=\"zarr-tree\"><ul><li data-jstree='{\"type\": \"Group\"}' class='jstree-open'><span>/</span><ul><li data-jstree='{\"type\": \"Group\"}' class=''><span>2L</span><ul><li data-jstree='{\"type\": \"Array\"}' class=''><span>arab (8906423, 2) int32</span></li><li data-jstree='{\"type\": \"Array\"}' class=''><span>chri (8906423, 2) int32</span></li><li data-jstree='{\"type\": \"Array\"}' class=''><span>epir (8906423, 2) int32</span></li><li data-jstree='{\"type\": \"Array\"}' class=''><span>mela (8906423, 2) int32</span></li><li data-jstree='{\"type\": \"Array\"}' class=''><span>meru (8906423, 2) int32</span></li><li data-jstree='{\"type\": \"Array\"}' class=''><span>quad (8906423, 2) int32</span></li></ul></li><li data-jstree='{\"type\": \"Group\"}' class=''><span>2R</span><ul><li data-jstree='{\"type\": \"Array\"}' class=''><span>arab (12047846, 2) int32</span></li><li data-jstree='{\"type\": \"Array\"}' class=''><span>chri (12047846, 2) int32</span></li><li data-jstree='{\"type\": \"Array\"}' class=''><span>epir (12047846, 2) int32</span></li><li data-jstree='{\"type\": \"Array\"}' class=''><span>mela (12047846, 2) int32</span></li><li data-jstree='{\"type\": \"Array\"}' class=''><span>meru (12047846, 2) int32</span></li><li data-jstree='{\"type\": \"Array\"}' class=''><span>quad (12047846, 2) int32</span></li></ul></li><li data-jstree='{\"type\": \"Group\"}' class=''><span>3L</span><ul><li data-jstree='{\"type\": \"Array\"}' class=''><span>arab (7897666, 2) int32</span></li><li data-jstree='{\"type\": \"Array\"}' class=''><span>chri (7897666, 2) int32</span></li><li data-jstree='{\"type\": \"Array\"}' class=''><span>epir (7897666, 2) int32</span></li><li data-jstree='{\"type\": \"Array\"}' class=''><span>mela (7897666, 2) int32</span></li><li data-jstree='{\"type\": \"Array\"}' class=''><span>meru (7897666, 2) int32</span></li><li data-jstree='{\"type\": \"Array\"}' class=''><span>quad (7897666, 2) int32</span></li></ul></li><li data-jstree='{\"type\": \"Group\"}' class=''><span>3R</span><ul><li data-jstree='{\"type\": \"Array\"}' class=''><span>arab (10752701, 2) int32</span></li><li data-jstree='{\"type\": \"Array\"}' class=''><span>chri (10752701, 2) int32</span></li><li data-jstree='{\"type\": \"Array\"}' class=''><span>epir (10752701, 2) int32</span></li><li data-jstree='{\"type\": \"Array\"}' class=''><span>mela (10752701, 2) int32</span></li><li data-jstree='{\"type\": \"Array\"}' class=''><span>meru (10752701, 2) int32</span></li><li data-jstree='{\"type\": \"Array\"}' class=''><span>quad (10752701, 2) int32</span></li></ul></li><li data-jstree='{\"type\": \"Group\"}' class=''><span>X</span><ul><li data-jstree='{\"type\": \"Array\"}' class=''><span>arab (4472265, 2) int32</span></li><li data-jstree='{\"type\": \"Array\"}' class=''><span>chri (4472265, 2) int32</span></li><li data-jstree='{\"type\": \"Array\"}' class=''><span>epir (4472265, 2) int32</span></li><li data-jstree='{\"type\": \"Array\"}' class=''><span>mela (4472265, 2) int32</span></li><li data-jstree='{\"type\": \"Array\"}' class=''><span>meru (4472265, 2) int32</span></li><li data-jstree='{\"type\": \"Array\"}' class=''><span>quad (4472265, 2) int32</span></li></ul></li></ul></li></ul></div>\n",
       "<script>\n",
       "    if (!require.defined('jquery')) {\n",
       "        require.config({\n",
       "            paths: {\n",
       "                jquery: '//cdnjs.cloudflare.com/ajax/libs/jquery/1.12.1/jquery.min'\n",
       "            },\n",
       "        });\n",
       "    }\n",
       "    if (!require.defined('jstree')) {\n",
       "        require.config({\n",
       "            paths: {\n",
       "                jstree: '//cdnjs.cloudflare.com/ajax/libs/jstree/3.3.3/jstree.min'\n",
       "            },\n",
       "        });\n",
       "    }\n",
       "    require(['jstree'], function() {\n",
       "        $('#cf450538-a399-4d51-a913-148936c8b088').jstree({\n",
       "            types: {\n",
       "                Group: {\n",
       "                    icon: \"fa fa-folder\"\n",
       "                },\n",
       "                Array: {\n",
       "                    icon: \"fa fa-table\"\n",
       "                }\n",
       "            },\n",
       "            plugins: [\"types\"]\n",
       "        });\n",
       "    });\n",
       "</script>\n"
      ],
      "text/plain": [
       "/\n",
       " ├── 2L\n",
       " │   ├── arab (8906423, 2) int32\n",
       " │   ├── chri (8906423, 2) int32\n",
       " │   ├── epir (8906423, 2) int32\n",
       " │   ├── mela (8906423, 2) int32\n",
       " │   ├── meru (8906423, 2) int32\n",
       " │   └── quad (8906423, 2) int32\n",
       " ├── 2R\n",
       " │   ├── arab (12047846, 2) int32\n",
       " │   ├── chri (12047846, 2) int32\n",
       " │   ├── epir (12047846, 2) int32\n",
       " │   ├── mela (12047846, 2) int32\n",
       " │   ├── meru (12047846, 2) int32\n",
       " │   └── quad (12047846, 2) int32\n",
       " ├── 3L\n",
       " │   ├── arab (7897666, 2) int32\n",
       " │   ├── chri (7897666, 2) int32\n",
       " │   ├── epir (7897666, 2) int32\n",
       " │   ├── mela (7897666, 2) int32\n",
       " │   ├── meru (7897666, 2) int32\n",
       " │   └── quad (7897666, 2) int32\n",
       " ├── 3R\n",
       " │   ├── arab (10752701, 2) int32\n",
       " │   ├── chri (10752701, 2) int32\n",
       " │   ├── epir (10752701, 2) int32\n",
       " │   ├── mela (10752701, 2) int32\n",
       " │   ├── meru (10752701, 2) int32\n",
       " │   └── quad (10752701, 2) int32\n",
       " └── X\n",
       "     ├── arab (4472265, 2) int32\n",
       "     ├── chri (4472265, 2) int32\n",
       "     ├── epir (4472265, 2) int32\n",
       "     ├── mela (4472265, 2) int32\n",
       "     ├── meru (4472265, 2) int32\n",
       "     └── quad (4472265, 2) int32"
      ]
     },
     "execution_count": 54,
     "metadata": {},
     "output_type": "execute_result"
    }
   ],
   "source": [
    "calldata_out.tree()"
   ]
  }
 ],
 "metadata": {
  "kernelspec": {
   "display_name": "Python 3",
   "language": "python",
   "name": "python3"
  },
  "language_info": {
   "codemirror_mode": {
    "name": "ipython",
    "version": 3
   },
   "file_extension": ".py",
   "mimetype": "text/x-python",
   "name": "python",
   "nbconvert_exporter": "python",
   "pygments_lexer": "ipython3",
   "version": "3.6.7"
  }
 },
 "nbformat": 4,
 "nbformat_minor": 4
}
