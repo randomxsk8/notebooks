{
 "cells": [
  {
   "cell_type": "code",
   "execution_count": 1,
   "metadata": {},
   "outputs": [],
   "source": [
    "%run imports.ipynb"
   ]
  },
  {
   "cell_type": "code",
   "execution_count": 2,
   "metadata": {},
   "outputs": [],
   "source": [
    "import dadi\n",
    "import sys\n",
    "import os\n",
    "import numpy\n",
    "import dadi\n",
    "from datetime import datetime"
   ]
  },
  {
   "cell_type": "code",
   "execution_count": 8,
   "metadata": {},
   "outputs": [
    {
     "data": {
      "text/plain": [
       "(130, 182)"
      ]
     },
     "execution_count": 8,
     "metadata": {},
     "output_type": "execute_result"
    }
   ],
   "source": [
    "proj = (fs_fw.sample_sizes[0], fs_fw.sample_sizes[1])\n",
    "proj"
   ]
  },
  {
   "cell_type": "code",
   "execution_count": 13,
   "metadata": {},
   "outputs": [],
   "source": [
    "pop_ids=[\"GM\", \"GW\"]"
   ]
  },
  {
   "cell_type": "code",
   "execution_count": 9,
   "metadata": {},
   "outputs": [
    {
     "data": {
      "text/plain": [
       "Spectrum([[-- 142068.0 37092.0 ... 0.0 0.0 0.0]\n",
       " [39777.0 17181.0 9725.0 ... 0.0 0.0 0.0]\n",
       " [14933.0 8036.0 5498.0 ... 0.0 0.0 0.0]\n",
       " ...\n",
       " [0.0 0.0 0.0 ... 0.0 2.0 1.0]\n",
       " [0.0 0.0 0.0 ... 0.0 2.0 3.0]\n",
       " [0.0 0.0 0.0 ... 3.0 8.0 --]], folded=False, pop_ids=['GM', 'GW'])"
      ]
     },
     "execution_count": 9,
     "metadata": {},
     "output_type": "execute_result"
    }
   ],
   "source": [
    "fs_fw = dadi.Spectrum(np.load(\"dadi/fs_2_pops/GM_GW.npy\"), pop_ids = ['GM', 'GW'])\n",
    "fs_fw"
   ]
  },
  {
   "cell_type": "code",
   "execution_count": 11,
   "metadata": {},
   "outputs": [
    {
     "name": "stdout",
     "output_type": "stream",
     "text": [
      "\n",
      "\n",
      "============================================================================\n",
      "\n",
      "Data for site frequency spectrum:\n",
      "\n",
      "Projection: (130, 182)\n",
      "Sample sizes: [130 182]\n",
      "Sum of SFS: 446514.0\n",
      "\n",
      "============================================================================\n",
      "\n"
     ]
    }
   ],
   "source": [
    "print(\"\\n\\n============================================================================\")\n",
    "print(\"\\nData for site frequency spectrum:\\n\")\n",
    "print(\"Projection: {}\".format(proj))\n",
    "print(\"Sample sizes: {}\".format(fs_fw.sample_sizes))\n",
    "print(\"Sum of SFS: {}\".format(np.around(fs_fw.S(), 2)))\n",
    "print(\"\\n============================================================================\\n\")"
   ]
  },
  {
   "cell_type": "code",
   "execution_count": 123,
   "metadata": {},
   "outputs": [
    {
     "ename": "FileNotFoundError",
     "evalue": "[Errno 2] No such file or directory: '../output_files/'",
     "output_type": "error",
     "traceback": [
      "\u001b[0;31m---------------------------------------------------------------------------\u001b[0m",
      "\u001b[0;31mFileNotFoundError\u001b[0m                         Traceback (most recent call last)",
      "\u001b[0;32m<ipython-input-123-be67f1a77af2>\u001b[0m in \u001b[0;36m<module>\u001b[0;34m\u001b[0m\n\u001b[1;32m    293\u001b[0m \u001b[0;34m\u001b[0m\u001b[0m\n\u001b[1;32m    294\u001b[0m \u001b[0;31m#check if summary files already exist in output directory\u001b[0m\u001b[0;34m\u001b[0m\u001b[0;34m\u001b[0m\u001b[0;34m\u001b[0m\u001b[0m\n\u001b[0;32m--> 295\u001b[0;31m \u001b[0mresults\u001b[0m \u001b[0;34m=\u001b[0m \u001b[0msorted\u001b[0m\u001b[0;34m(\u001b[0m\u001b[0;34m[\u001b[0m\u001b[0mos\u001b[0m\u001b[0;34m.\u001b[0m\u001b[0mpath\u001b[0m\u001b[0;34m.\u001b[0m\u001b[0mabspath\u001b[0m\u001b[0;34m(\u001b[0m\u001b[0mf\u001b[0m\u001b[0;34m)\u001b[0m \u001b[0;32mfor\u001b[0m \u001b[0mf\u001b[0m \u001b[0;32min\u001b[0m \u001b[0mos\u001b[0m\u001b[0;34m.\u001b[0m\u001b[0mlistdir\u001b[0m\u001b[0;34m(\u001b[0m\u001b[0mfile_dir\u001b[0m\u001b[0;34m)\u001b[0m \u001b[0;32mif\u001b[0m \u001b[0mf\u001b[0m\u001b[0;34m.\u001b[0m\u001b[0mstartswith\u001b[0m\u001b[0;34m(\u001b[0m\u001b[0;34m\"Results_Summary\"\u001b[0m\u001b[0;34m)\u001b[0m\u001b[0;34m]\u001b[0m\u001b[0;34m)\u001b[0m\u001b[0;34m\u001b[0m\u001b[0;34m\u001b[0m\u001b[0m\n\u001b[0m\u001b[1;32m    296\u001b[0m \u001b[0;32mif\u001b[0m \u001b[0mresults\u001b[0m\u001b[0;34m:\u001b[0m\u001b[0;34m\u001b[0m\u001b[0;34m\u001b[0m\u001b[0m\n\u001b[1;32m    297\u001b[0m     raise ValueError(\"\\n\\n\\nWARNING: Summary files are already located in the directory specified.\"\n",
      "\u001b[0;31mFileNotFoundError\u001b[0m: [Errno 2] No such file or directory: '../output_files/'"
     ]
    }
   ],
   "source": [
    "def parse_params(param_number, in_params=None, in_upper=None, in_lower=None):\n",
    "    #--------------------------------------------------------------------------------------\n",
    "    # function to correctly deal with parameters and bounds, if none were provided, generate them automatically\n",
    "    \n",
    "    # Arguments\n",
    "    # param_number: number of parameters in the model selected (can count in params line for the model)\n",
    "    # in_params: a list of parameter values \n",
    "    # in_upper: a list of upper bound values\n",
    "    # in_lower: a list of lower bound values\n",
    "    #--------------------------------------------------------------------------------------\n",
    "    param_number = int(param_number)\n",
    "    \n",
    "    #param set\n",
    "    if in_params is None:\n",
    "        params = [1] * param_number\n",
    "    elif len(in_params) != param_number:\n",
    "        raise ValueError(\"Set of input parameters does not contain the correct number of values: {}\".format(param_number))\n",
    "    else:\n",
    "        params = in_params\n",
    "        \n",
    "    #upper bound    \n",
    "    if in_upper is None:\n",
    "        upper_bound = [30] * param_number\n",
    "    elif len(in_upper) != param_number:\n",
    "        raise ValueError(\"Upper bound set for parameters does not contain the correct number of values: {}\".format(param_number))\n",
    "    else:\n",
    "        upper_bound = in_upper\n",
    "        \n",
    "    #lower bounds\n",
    "    if in_lower is None:\n",
    "        lower_bound = [0.01] * param_number\n",
    "    elif len(in_lower) != param_number:\n",
    "        raise ValueError(\"Lower bound set for parameters does not contain the correct number of values: {}\".format(param_number))\n",
    "    else:\n",
    "        lower_bound = in_lower\n",
    "        \n",
    "    return params, upper_bound, lower_bound\n",
    "\n",
    "def parse_opt_settings(rounds, reps=None, maxiters=None, folds=None):\n",
    "    #--------------------------------------------------------------------------------------\n",
    "    # function to correctly deal with replicate numbers, maxiter and fold args\n",
    "    \n",
    "    # Arguments\n",
    "    # rounds: number of optimization rounds to perform\n",
    "    # reps: a list of integers controlling the number of replicates in each of three optimization rounds\n",
    "    # maxiters: a list of integers controlling the maxiter argument in each of three optimization rounds\n",
    "    # folds: a list of integers controlling the fold argument when perturbing input parameter values\n",
    "    #--------------------------------------------------------------------------------------\n",
    "    rounds = int(rounds)\n",
    "    \n",
    "    #rep set\n",
    "    #create scheme where final replicates will be 20, and all previous 10\n",
    "    if reps is None:\n",
    "        if rounds >= 2:\n",
    "            reps_list = [10] * (rounds-1)\n",
    "            reps_list.insert(len(reps_list),20)\n",
    "        else:\n",
    "            reps_list = [10] * rounds\n",
    "    elif len(reps) != rounds:\n",
    "        raise ValueError(\"List length of replicate values does match the number of rounds: {}\".format(rounds))\n",
    "    else:\n",
    "        reps_list = reps\n",
    "        \n",
    "    #maxiters   \n",
    "    if maxiters is None:\n",
    "        maxiters_list = [5] * rounds\n",
    "    elif len(maxiters) != rounds:\n",
    "        raise ValueError(\"List length of maxiter values does match the number of rounds: {}\".format(rounds))\n",
    "    else:\n",
    "        maxiters_list = maxiters\n",
    "        \n",
    "    #folds\n",
    "    #create scheme so if rounds is greater than three, will always end with two fold and then one fold\n",
    "    if folds is None:\n",
    "        if rounds >= 3:\n",
    "            folds_list = [3] * (rounds-2)\n",
    "            folds_list.insert(len(folds_list),2)\n",
    "            folds_list.insert(len(folds_list),1)\n",
    "        elif rounds == 2:\n",
    "            folds_list = [2] * (rounds-1)\n",
    "            folds_list.insert(len(folds_list),1)\n",
    "        else:\n",
    "            folds_list = [2] * rounds\n",
    "    elif len(folds) != rounds:\n",
    "        raise ValueError(\"List length of fold values does match the number of rounds: {}\".format(rounds))\n",
    "    else:\n",
    "        folds_list = folds\n",
    "        \n",
    "    return reps_list, maxiters_list, folds_list\n",
    "\n",
    "def collect_results(fs, sim_model, params_opt, roundrep, fs_folded):\n",
    "    #--------------------------------------------------------------------------------------\n",
    "    # gather up a bunch of results, return a list = [roundnum_repnum, log-likelihood, AIC, chi^2 test stat, theta, parameter values] \n",
    "    \n",
    "    # Arguments\n",
    "    # fs: spectrum object name\n",
    "    # sim_model: model fit with optimized parameters\n",
    "    # params_opt: list of the optimized parameters\n",
    "    # fs_folded: a Boolean (True, False) for whether empirical spectrum is folded or not\n",
    "    #--------------------------------------------------------------------------------------\n",
    "\n",
    "    #calculate likelihood\n",
    "    ll = dadi.Inference.ll_multinom(sim_model, fs)\n",
    "    ll = numpy.around(ll, 2)\n",
    "    print(\"\\t\\t\\tLikelihood = {:,}\".format(ll))\n",
    "\n",
    "    #calculate AIC \n",
    "    aic = ( -2*( float(ll))) + (2*len(params_opt))\n",
    "    print(\"\\t\\t\\tAIC = {:,}\".format(aic))\n",
    "\n",
    "    #calculate theta\n",
    "    theta = dadi.Inference.optimal_sfs_scaling(sim_model, fs)\n",
    "    theta = numpy.around(theta, 2)\n",
    "    print(\"\\t\\t\\tTheta = {:,}\".format(theta))\n",
    "\n",
    "    #get Chi^2\n",
    "    scaled_sim_model = sim_model*theta\n",
    "    if fs_folded is True:\n",
    "        #calculate Chi^2 statistic for folded\n",
    "        folded_sim_model = scaled_sim_model.fold()\n",
    "        chi2 = numpy.sum((folded_sim_model - fs)**2/folded_sim_model)\n",
    "        chi2 = numpy.around(chi2, 2)\n",
    "    elif fs_folded is False:\n",
    "        #calculate Chi^2 statistic for unfolded\n",
    "        chi2 = numpy.sum((scaled_sim_model - fs)**2/scaled_sim_model)\n",
    "        chi2 = numpy.around(chi2, 2)\n",
    "    print(\"\\t\\t\\tChi-Squared = {:,}\".format(chi2))        \n",
    "\n",
    "    #store key results in temporary sublist, append to larger results list\n",
    "    temp_results = [roundrep, ll, aic, chi2, theta, params_opt]\n",
    "\n",
    "    return temp_results\n",
    "\n",
    "def write_log(outfile, model_name, rep_results, roundrep):\n",
    "    #--------------------------------------------------------------------------------------\n",
    "    #reproduce replicate log to bigger log file, because constantly re-written\n",
    "    \n",
    "    # Arguments =\n",
    "    # outfile: prefix for output naming\n",
    "    # model_name: a label to slap on the output files; ex. \"no_mig\"\n",
    "    # rep_results: the list returned by collect_results function: [roundnum_repnum, log-likelihood, AIC, chi^2 test stat, theta, parameter values]\n",
    "    # roundrep: name of replicate (ex, \"Round_1_Replicate_10\")\n",
    "    #--------------------------------------------------------------------------------------\n",
    "    fh_log = open(\"{0}.{1}.log.txt\".format(outfile, model_name), 'a')\n",
    "    fh_log.write(\"\\n{}\\n\".format(roundrep))\n",
    "    templogname = \"{}.log.txt\".format(model_name)\n",
    "    try:\n",
    "        fh_templog = open(templogname, 'r')\n",
    "        for line in fh_templog:\n",
    "            fh_log.write(line)\n",
    "        fh_templog.close()\n",
    "    except IOError:\n",
    "        print(\"Nothing written to log file this replicate...\")\n",
    "    fh_log.write(\"likelihood = {}\\n\".format(rep_results[1]))\n",
    "    fh_log.write(\"theta = {}\\n\".format(rep_results[4]))\n",
    "    fh_log.write(\"Optimized parameters = {}\\n\".format(rep_results[5]))\n",
    "    fh_log.close()\n",
    "\n",
    "def Optimize_Routine(fs, pts, outfile, model_name, func, rounds, param_number, fs_folded=True,\n",
    "                         reps=None, maxiters=None, folds=None, in_params=None,\n",
    "                         in_upper=None, in_lower=None, param_labels=\" \"):\n",
    "    #--------------------------------------------------------------------------------------\n",
    "    # Mandatory Arguments =\n",
    "    #(1) fs:  spectrum object name\n",
    "    #(2) pts: grid size for extrapolation, list of three values\n",
    "    #(3) outfile:  prefix for output naming\n",
    "    #(4) model_name: a label to slap on the output files; ex. \"no_mig\"\n",
    "    #(5) func: access the model function from within 'moments_optimize.py' or from a separate python model script, ex. Models_2D.no_mig\n",
    "    #(6) rounds: number of optimization rounds to perform\n",
    "    #(7) param_number: number of parameters in the model selected (can count in params line for the model)\n",
    "    #(8) fs_folded: A Boolean value (True or False) indicating whether the empirical fs is folded (True) or not (False). Default is True.\n",
    "\n",
    "    # Optional Arguments =\n",
    "    #(9) reps: a list of integers controlling the number of replicates in each of three optimization rounds\n",
    "    #(10) maxiters: a list of integers controlling the maxiter argument in each of three optimization rounds\n",
    "    #(11) folds: a list of integers controlling the fold argument when perturbing input parameter values\n",
    "    #(12) in_params: a list of parameter values \n",
    "    #(13) in_upper: a list of upper bound values\n",
    "    #(14) in_lower: a list of lower bound values\n",
    "    #(15) param_labels: list of labels for parameters that will be written to the output file to keep track of their order\n",
    "    #--------------------------------------------------------------------------------------\n",
    "\n",
    "    #call function that determines if our params and bounds have been set or need to be generated for us\n",
    "    params, upper_bound, lower_bound = parse_params(param_number, in_params, in_upper, in_lower)\n",
    "\n",
    "    #call function that determines if our replicates, maxiter, and fold have been set or need to be generated for us\n",
    "    reps_list, maxiters_list, folds_list = parse_opt_settings(rounds, reps, maxiters, folds)\n",
    "    \n",
    "    print(\"\\n\\n============================================================================\"\n",
    "              \"\\nModel {}\\n============================================================================\\n\\n\".format(model_name))\n",
    "\n",
    "    #start keeping track of time it takes to complete optimizations for this model\n",
    "    tbr = datetime.now()\n",
    "    \n",
    "    # We need an output file that will store all summary info for each replicate, across rounds\n",
    "    outname = \"{0}.{1}.optimized.txt\".format(outfile, model_name)\n",
    "    with open(outname, 'a') as fh_out:\n",
    "        fh_out.write(\"Model\\tReplicate\\tlog-likelihood\\tAIC\\tchi-squared\\ttheta\\toptimized_params({})\\n\".format(param_labels))\n",
    "        \n",
    "    #Create list to store sublists of [roundnum_repnum, log-likelihood, AIC, chi^2 test stat, theta, parameter values] for every replicate\n",
    "    results_list = []\n",
    "    \n",
    "    #for every round, execute the assigned number of replicates with other round-defined args (maxiter, fold, best_params)\n",
    "    rounds = int(rounds)\n",
    "    for r in range(rounds):\n",
    "        print(\"\\tBeginning Optimizations for Round {}:\".format(r+1))\n",
    "       \n",
    "        #make sure first round params are assigned (either user input or auto generated)\n",
    "        if r == int(0):\n",
    "            best_params = params\n",
    "        #and that all subsequent rounds use the params from a previous best scoring replicate\n",
    "        else:\n",
    "            best_params = results_list[0][5]\n",
    "\n",
    "        #perform an optimization routine for each rep number in this round number\n",
    "        for rep in range(1, (reps_list[r]+1) ):\n",
    "            print(\"\\n\\t\\tRound {0} Replicate {1} of {2}:\".format(r+1, rep, (reps_list[r])))\n",
    "            \n",
    "            #keep track of start time for rep\n",
    "            tb_rep = datetime.now()\n",
    "            \n",
    "            #create an extrapolating function \n",
    "            func_exec = dadi.Numerics.make_extrap_log_func(func)\n",
    "            \n",
    "            #perturb starting parameters\n",
    "            params_perturbed = dadi.Misc.perturb_params(best_params, fold=folds_list[r],\n",
    "                                                            upper_bound=upper_bound, lower_bound=lower_bound)\n",
    "            \n",
    "            print(\"\\n\\t\\t\\tStarting parameters = [{}]\".format(\", \".join([str(numpy.around(x, 6)) for x in params_perturbed])))\n",
    "            \n",
    "            #optimize from perturbed parameters\n",
    "            params_opt = dadi.Inference.optimize_log_fmin(params_perturbed, fs, func_exec, pts,\n",
    "                                                              lower_bound=lower_bound, upper_bound=upper_bound,\n",
    "                                                              verbose=1, maxiter=maxiters_list[r],\n",
    "                                                              output_file = \"{}.log.txt\".format(model_name))\n",
    "            \n",
    "            print(\"\\t\\t\\tOptimized parameters =[{}]\\n\".format(\", \".join([str(numpy.around(x, 6)) for x in params_opt[0]])))\n",
    "            \n",
    "            #simulate the model with the optimized parameters\n",
    "            sim_model = func_exec(params_opt[0], fs.sample_sizes, pts)\n",
    "\n",
    "            #collect results into a list using function above - [roundnum_repnum, log-likelihood, AIC, chi^2 test stat, theta, parameter values]\n",
    "            roundrep = \"Round_{0}_Replicate_{1}\".format(r+1, rep)\n",
    "            rep_results = collect_results(fs, sim_model, params_opt[0], roundrep, fs_folded)\n",
    "            \n",
    "            #reproduce replicate log to bigger log file, because constantly re-written\n",
    "            write_log(outfile, model_name, rep_results, roundrep)\n",
    "            \n",
    "            #append results from this sim to larger list\n",
    "            results_list.append(rep_results)\n",
    "            \n",
    "            #write all this info to our main results file\n",
    "            with open(outname, 'a') as fh_out:\n",
    "                #join the param values together with commas\n",
    "                easy_p = \",\".join([str(numpy.around(x, 4)) for x in rep_results[5]])\n",
    "                fh_out.write(\"{0}\\t{1}\\t{2}\\t{3}\\t{4}\\t{5}\\t{6}\\n\".format(model_name, rep_results[0],\n",
    "                                                                              rep_results[1], rep_results[2],\n",
    "                                                                              rep_results[3], rep_results[4],\n",
    "                                                                              easy_p))\n",
    "\n",
    "            #calculate elapsed time for replicate\n",
    "            tf_rep = datetime.now()\n",
    "            te_rep = tf_rep - tb_rep\n",
    "            print(\"\\n\\t\\t\\tReplicate time: {0} (H:M:S)\\n\".format(te_rep))\n",
    "\n",
    "        #Now that this round is over, sort results in order of likelihood score\n",
    "        #we'll use the parameters from the best rep to start the next round as the loop continues\n",
    "        results_list.sort(key=lambda x: float(x[1]), reverse=True)\n",
    "        print(\"\\n\\t----------------------------------------------\\n\"\n",
    "                  \"\\tBest replicate: {0}\\n\"\n",
    "                  \"\\t\\tLikelihood = {1:,}\\n\\t\\tAIC = {2:,}\\n\"\n",
    "                  \"\\t\\tChi-Squared = {3:,}\\n\\t\\tParams = [{4}]\\n\"\n",
    "                  \"\\t----------------------------------------------\\n\\n\".format(results_list[0][0],\n",
    "                                                                              results_list[0][1],\n",
    "                                                                              results_list[0][2],\n",
    "                                                                              results_list[0][3],\n",
    "                                                                              \", \".join([str(numpy.around(x, 4)) for x in rep_results[5]])))\n",
    "\n",
    "    #Now that all rounds are over, calculate elapsed time for the whole model\n",
    "    tfr = datetime.now()\n",
    "    ter = tfr - tbr\n",
    "    print(\"\\nAnalysis Time for Model '{0}': {1} (H:M:S)\\n\\n\"\n",
    "              \"============================================================================\".format(model_name, ter))\n",
    "\n",
    "    #cleanup file\n",
    "    os.remove(\"{}.log.txt\".format(model_name))\n",
    "    \n",
    "\n"
   ]
  },
  {
   "cell_type": "code",
   "execution_count": 14,
   "metadata": {},
   "outputs": [],
   "source": [
    "prefix = \"_\".join(pop_ids)"
   ]
  },
  {
   "cell_type": "code",
   "execution_count": 15,
   "metadata": {},
   "outputs": [
    {
     "data": {
      "text/plain": [
       "[140, 150, 160]"
      ]
     },
     "execution_count": 15,
     "metadata": {},
     "output_type": "execute_result"
    }
   ],
   "source": [
    "pts = [proj[0] + 10, proj[0] + 20, proj[0] + 30]\n",
    "pts"
   ]
  },
  {
   "cell_type": "code",
   "execution_count": 16,
   "metadata": {},
   "outputs": [],
   "source": [
    "rounds = 4"
   ]
  },
  {
   "cell_type": "code",
   "execution_count": 31,
   "metadata": {},
   "outputs": [],
   "source": [
    "reps = [10,20,30,40]\n",
    "maxiters = [3,5,10,15]\n",
    "folds = [3,2,2,1]"
   ]
  },
  {
   "cell_type": "code",
   "execution_count": 17,
   "metadata": {},
   "outputs": [],
   "source": [
    "fs_folded = False"
   ]
  },
  {
   "cell_type": "code",
   "execution_count": 29,
   "metadata": {},
   "outputs": [],
   "source": [
    "import Models_2D"
   ]
  },
  {
   "cell_type": "code",
   "execution_count": 32,
   "metadata": {},
   "outputs": [
    {
     "name": "stdout",
     "output_type": "stream",
     "text": [
      "\n",
      "\n",
      "============================================================================\n",
      "Model no_mig\n",
      "============================================================================\n",
      "\n",
      "\n",
      "\tBeginning Optimizations for Round 1:\n",
      "\n",
      "\t\tRound 1 Replicate 1 of 10:\n",
      "\n",
      "\t\t\tStarting parameters = [1.262893, 0.920315, 1.70867]\n",
      "\t\t\tOptimized parameters =[1.277718, 0.916502, 1.619542]\n",
      "\n",
      "\t\t\tLikelihood = -1,383,161.45\n",
      "\t\t\tAIC = 2,766,328.9\n",
      "\t\t\tTheta = 35,655.11\n",
      "\t\t\tChi-Squared = 559,139,269.36\n",
      "\n",
      "\t\t\tReplicate time: 0:00:21.114153 (H:M:S)\n",
      "\n",
      "\n",
      "\t\tRound 1 Replicate 2 of 10:\n",
      "\n",
      "\t\t\tStarting parameters = [6.137284, 0.259988, 1.612716]\n",
      "\t\t\tOptimized parameters =[6.720089, 0.29748, 1.651718]\n",
      "\n",
      "\t\t\tLikelihood = -2,044,329.58\n",
      "\t\t\tAIC = 4,088,665.16\n",
      "\t\t\tTheta = 18,402.7\n",
      "\t\t\tChi-Squared = 10,403,219,791.88\n",
      "\n",
      "\t\t\tReplicate time: 0:00:39.906152 (H:M:S)\n",
      "\n",
      "\n",
      "\t\tRound 1 Replicate 3 of 10:\n",
      "\n",
      "\t\t\tStarting parameters = [3.259672, 2.550368, 0.835904]\n",
      "\t\t\tOptimized parameters =[3.072665, 2.800678, 0.821055]\n",
      "\n",
      "\t\t\tLikelihood = -844,602.9\n",
      "\t\t\tAIC = 1,689,211.8\n",
      "\t\t\tTheta = 20,588.93\n",
      "\t\t\tChi-Squared = 34,700,199.85\n",
      "\n",
      "\t\t\tReplicate time: 0:00:15.844493 (H:M:S)\n",
      "\n",
      "\n",
      "\t\tRound 1 Replicate 4 of 10:\n",
      "\n",
      "\t\t\tStarting parameters = [3.018028, 0.474487, 0.496191]\n",
      "\t\t\tOptimized parameters =[3.189403, 0.511213, 0.479105]\n",
      "\n",
      "\t\t\tLikelihood = -1,143,311.6\n",
      "\t\t\tAIC = 2,286,629.2\n",
      "\t\t\tTheta = 33,695.4\n",
      "\t\t\tChi-Squared = 67,628,097.69\n",
      "\n",
      "\t\t\tReplicate time: 0:00:17.333940 (H:M:S)\n",
      "\n",
      "\n",
      "\t\tRound 1 Replicate 5 of 10:\n",
      "\n",
      "\t\t\tStarting parameters = [6.034629, 0.343177, 0.6165]\n",
      "\t\t\tOptimized parameters =[6.602116, 0.381915, 0.601768]\n",
      "\n",
      "\t\t\tLikelihood = -1,390,980.59\n",
      "\t\t\tAIC = 2,781,967.18\n",
      "\t\t\tTheta = 24,186.3\n",
      "\t\t\tChi-Squared = 175,659,565.92\n",
      "\n",
      "\t\t\tReplicate time: 0:00:20.389488 (H:M:S)\n",
      "\n",
      "\n",
      "\t\tRound 1 Replicate 6 of 10:\n",
      "\n",
      "\t\t\tStarting parameters = [3.761636, 0.60986, 0.893063]\n",
      "\t\t\tOptimized parameters =[3.520529, 0.640777, 0.883019]\n",
      "\n",
      "\t\t\tLikelihood = -1,274,500.02\n",
      "\t\t\tAIC = 2,549,006.04\n",
      "\t\t\tTheta = 27,527.02\n",
      "\t\t\tChi-Squared = 147,096,652.61\n",
      "\n",
      "\t\t\tReplicate time: 0:00:21.893535 (H:M:S)\n",
      "\n",
      "\n",
      "\t\tRound 1 Replicate 7 of 10:\n",
      "\n",
      "\t\t\tStarting parameters = [0.401319, 0.367944, 0.16892]\n",
      "\t\t\tOptimized parameters =[0.420064, 0.406634, 0.1414]\n",
      "\n",
      "\t\t\tLikelihood = -875,438.89\n",
      "\t\t\tAIC = 1,750,883.78\n",
      "\t\t\tTheta = 77,198.86\n",
      "\t\t\tChi-Squared = 22,834,728.03\n",
      "\n",
      "\t\t\tReplicate time: 0:00:16.379874 (H:M:S)\n",
      "\n",
      "\n",
      "\t\tRound 1 Replicate 8 of 10:\n",
      "\n",
      "\t\t\tStarting parameters = [1.163706, 2.092819, 0.565584]\n",
      "\t\t\tOptimized parameters =[1.154918, 2.253226, 0.534253]\n",
      "\n",
      "\t\t\tLikelihood = -840,021.59\n",
      "\t\t\tAIC = 1,680,049.18\n",
      "\t\t\tTheta = 31,335.13\n",
      "\t\t\tChi-Squared = 36,466,452.46\n",
      "\n",
      "\t\t\tReplicate time: 0:00:16.780104 (H:M:S)\n",
      "\n",
      "\n",
      "\t\tRound 1 Replicate 9 of 10:\n",
      "\n",
      "\t\t\tStarting parameters = [4.779824, 3.070955, 0.719994]\n",
      "\t\t\tOptimized parameters =[4.420193, 3.435585, 0.696726]\n",
      "\n",
      "\t\t\tLikelihood = -734,530.42\n",
      "\t\t\tAIC = 1,469,066.84\n",
      "\t\t\tTheta = 18,083.34\n",
      "\t\t\tChi-Squared = 20,869,745.39\n",
      "\n",
      "\t\t\tReplicate time: 0:00:15.231258 (H:M:S)\n",
      "\n",
      "\n",
      "\t\tRound 1 Replicate 10 of 10:\n",
      "\n",
      "\t\t\tStarting parameters = [1.507742, 2.46103, 1.580932]\n",
      "\t\t\tOptimized parameters =[1.539017, 2.574381, 1.510156]\n",
      "\n",
      "\t\t\tLikelihood = -1,117,967.64\n",
      "\t\t\tAIC = 2,235,941.28\n",
      "\t\t\tTheta = 22,903.65\n",
      "\t\t\tChi-Squared = 153,590,906.19\n",
      "\n",
      "\t\t\tReplicate time: 0:00:17.425289 (H:M:S)\n",
      "\n",
      "\n",
      "\t----------------------------------------------\n",
      "\tBest replicate: Round_1_Replicate_9\n",
      "\t\tLikelihood = -734,530.42\n",
      "\t\tAIC = 1,469,066.84\n",
      "\t\tChi-Squared = 20,869,745.39\n",
      "\t\tParams = [1.539, 2.5744, 1.5102]\n",
      "\t----------------------------------------------\n",
      "\n",
      "\n",
      "\tBeginning Optimizations for Round 2:\n",
      "\n",
      "\t\tRound 2 Replicate 1 of 20:\n",
      "\n",
      "\t\t\tStarting parameters = [1.305913, 2.023602, 1.437473]\n",
      "\t\t\tOptimized parameters =[1.353223, 2.302756, 1.273698]\n",
      "\n",
      "\t\t\tLikelihood = -1,093,461.08\n",
      "\t\t\tAIC = 2,186,928.16\n",
      "\t\t\tTheta = 25,640.93\n",
      "\t\t\tChi-Squared = 128,810,931.1\n",
      "\n",
      "\t\t\tReplicate time: 0:00:26.317896 (H:M:S)\n",
      "\n",
      "\n",
      "\t\tRound 2 Replicate 2 of 20:\n",
      "\n",
      "\t\t\tStarting parameters = [1.451671, 1.355477, 2.029527]\n",
      "\t\t\tOptimized parameters =[1.525635, 1.433208, 1.602986]\n",
      "\n",
      "\t\t\tLikelihood = -1,247,960.48\n",
      "\t\t\tAIC = 2,495,926.96\n",
      "\t\t\tTheta = 28,679.43\n",
      "\t\t\tChi-Squared = 266,377,241.52\n",
      "\n",
      "\t\t\tReplicate time: 0:00:28.593752 (H:M:S)\n",
      "\n",
      "\n",
      "\t\tRound 2 Replicate 3 of 20:\n",
      "\n",
      "\t\t\tStarting parameters = [7.499264, 5.134965, 0.384485]\n"
     ]
    },
    {
     "name": "stderr",
     "output_type": "stream",
     "text": [
      "WARNING:Numerics:Extrapolation may have failed. Check resulting frequency spectrum for unexpected results.\n",
      "WARNING:Numerics:Extrapolation may have failed. Check resulting frequency spectrum for unexpected results.\n",
      "WARNING:Numerics:Extrapolation may have failed. Check resulting frequency spectrum for unexpected results.\n",
      "WARNING:Numerics:Extrapolation may have failed. Check resulting frequency spectrum for unexpected results.\n",
      "WARNING:Numerics:Extrapolation may have failed. Check resulting frequency spectrum for unexpected results.\n",
      "WARNING:Numerics:Extrapolation may have failed. Check resulting frequency spectrum for unexpected results.\n",
      "WARNING:Numerics:Extrapolation may have failed. Check resulting frequency spectrum for unexpected results.\n",
      "WARNING:Numerics:Extrapolation may have failed. Check resulting frequency spectrum for unexpected results.\n",
      "WARNING:Numerics:Extrapolation may have failed. Check resulting frequency spectrum for unexpected results.\n",
      "WARNING:Numerics:Extrapolation may have failed. Check resulting frequency spectrum for unexpected results.\n",
      "WARNING:Numerics:Extrapolation may have failed. Check resulting frequency spectrum for unexpected results.\n"
     ]
    },
    {
     "name": "stdout",
     "output_type": "stream",
     "text": [
      "\t\t\tOptimized parameters =[7.499264, 6.931109, 0.317582]\n",
      "\n"
     ]
    },
    {
     "name": "stderr",
     "output_type": "stream",
     "text": [
      "WARNING:Numerics:Extrapolation may have failed. Check resulting frequency spectrum for unexpected results.\n"
     ]
    },
    {
     "name": "stdout",
     "output_type": "stream",
     "text": [
      "\t\t\tLikelihood = -363,037.58\n",
      "\t\t\tAIC = 726,081.16\n",
      "\t\t\tTheta = 17,236.39\n",
      "\t\t\tChi-Squared = 3,079,569.42\n",
      "\n",
      "\t\t\tReplicate time: 0:00:19.550877 (H:M:S)\n",
      "\n",
      "\n",
      "\t\tRound 2 Replicate 4 of 20:\n",
      "\n",
      "\t\t\tStarting parameters = [11.4387, 0.960081, 0.813497]\n",
      "\t\t\tOptimized parameters =[5.076734, 0.957478, 0.783288]\n",
      "\n",
      "\t\t\tLikelihood = -1,116,079.44\n",
      "\t\t\tAIC = 2,232,164.88\n",
      "\t\t\tTheta = 22,528.66\n",
      "\t\t\tChi-Squared = 73,111,355.65\n",
      "\n",
      "\t\t\tReplicate time: 0:00:24.856331 (H:M:S)\n",
      "\n",
      "\n",
      "\t\tRound 2 Replicate 5 of 20:\n",
      "\n",
      "\t\t\tStarting parameters = [1.849432, 1.52955, 2.1853]\n",
      "\t\t\tOptimized parameters =[2.007444, 1.653486, 1.683995]\n",
      "\n",
      "\t\t\tLikelihood = -1,212,995.65\n",
      "\t\t\tAIC = 2,425,997.3\n",
      "\t\t\tTheta = 24,521.45\n",
      "\t\t\tChi-Squared = 212,712,547.74\n",
      "\n",
      "\t\t\tReplicate time: 0:00:27.910243 (H:M:S)\n",
      "\n",
      "\n",
      "\t\tRound 2 Replicate 6 of 20:\n",
      "\n",
      "\t\t\tStarting parameters = [1.36815, 2.339583, 2.677096]\n",
      "\t\t\tOptimized parameters =[1.426543, 2.734097, 1.92801]\n",
      "\n",
      "\t\t\tLikelihood = -1,206,275.05\n",
      "\t\t\tAIC = 2,412,556.1\n",
      "\t\t\tTheta = 21,732.47\n",
      "\t\t\tChi-Squared = 285,305,454.27\n",
      "\n",
      "\t\t\tReplicate time: 0:00:31.000699 (H:M:S)\n",
      "\n",
      "\n",
      "\t\tRound 2 Replicate 7 of 20:\n",
      "\n",
      "\t\t\tStarting parameters = [8.112135, 0.95974, 1.944075]\n",
      "\t\t\tOptimized parameters =[8.112135, 0.951885, 1.490142]\n",
      "\n",
      "\t\t\tLikelihood = -1,377,246.46\n",
      "\t\t\tAIC = 2,754,498.92\n",
      "\t\t\tTheta = 15,383.74\n",
      "\t\t\tChi-Squared = 258,170,724.15\n",
      "\n",
      "\t\t\tReplicate time: 0:00:34.740030 (H:M:S)\n",
      "\n",
      "\n",
      "\t\tRound 2 Replicate 8 of 20:\n",
      "\n",
      "\t\t\tStarting parameters = [4.612324, 0.943255, 0.249722]\n",
      "\t\t\tOptimized parameters =[3.958474, 0.945093, 0.198168]\n",
      "\n",
      "\t\t\tLikelihood = -662,911.67\n",
      "\t\t\tAIC = 1,325,829.34\n",
      "\t\t\tTheta = 34,701.61\n",
      "\t\t\tChi-Squared = 8,292,281.21\n",
      "\n",
      "\t\t\tReplicate time: 0:00:19.148053 (H:M:S)\n",
      "\n",
      "\n",
      "\t\tRound 2 Replicate 9 of 20:\n",
      "\n",
      "\t\t\tStarting parameters = [7.832402, 1.114949, 1.290285]\n",
      "\t\t\tOptimized parameters =[3.438246, 1.145694, 1.290285]\n",
      "\n",
      "\t\t\tLikelihood = -1,210,057.48\n",
      "\t\t\tAIC = 2,420,120.96\n",
      "\t\t\tTheta = 23,020.86\n",
      "\t\t\tChi-Squared = 144,094,119.79\n",
      "\n",
      "\t\t\tReplicate time: 0:00:29.575574 (H:M:S)\n",
      "\n",
      "\n",
      "\t\tRound 2 Replicate 10 of 20:\n",
      "\n",
      "\t\t\tStarting parameters = [4.096904, 5.299997, 1.135508]\n",
      "\t\t\tOptimized parameters =[5.43184, 8.041639, 1.07923]\n",
      "\n",
      "\t\t\tLikelihood = -723,846.34\n",
      "\t\t\tAIC = 1,447,698.68\n",
      "\t\t\tTheta = 11,438.56\n",
      "\t\t\tChi-Squared = 24,921,071.94\n",
      "\n",
      "\t\t\tReplicate time: 0:00:22.406132 (H:M:S)\n",
      "\n",
      "\n",
      "\t\tRound 2 Replicate 11 of 20:\n",
      "\n",
      "\t\t\tStarting parameters = [4.66447, 10.572204, 1.9704]\n",
      "\t\t\tOptimized parameters =[5.727643, 16.290304, 1.5717]\n",
      "\n",
      "\t\t\tLikelihood = -765,627.03\n",
      "\t\t\tAIC = 1,531,260.06\n",
      "\t\t\tTheta = 7,674.16\n",
      "\t\t\tChi-Squared = 35,855,289.13\n",
      "\n",
      "\t\t\tReplicate time: 0:00:21.384569 (H:M:S)\n",
      "\n",
      "\n",
      "\t\tRound 2 Replicate 12 of 20:\n",
      "\n",
      "\t\t\tStarting parameters = [3.048694, 1.612134, 0.211403]\n",
      "\t\t\tOptimized parameters =[2.937493, 1.625016, 0.163166]\n",
      "\n",
      "\t\t\tLikelihood = -465,032.98\n",
      "\t\t\tAIC = 930,071.96\n",
      "\t\t\tTheta = 35,232.2\n",
      "\t\t\tChi-Squared = 3,845,343.13\n",
      "\n",
      "\t\t\tReplicate time: 0:00:18.433034 (H:M:S)\n",
      "\n",
      "\n",
      "\t\tRound 2 Replicate 13 of 20:\n",
      "\n",
      "\t\t\tStarting parameters = [7.091698, 1.575379, 0.191133]\n"
     ]
    },
    {
     "name": "stderr",
     "output_type": "stream",
     "text": [
      "WARNING:Numerics:Extrapolation may have failed. Check resulting frequency spectrum for unexpected results.\n",
      "WARNING:Numerics:Extrapolation may have failed. Check resulting frequency spectrum for unexpected results.\n",
      "WARNING:Numerics:Extrapolation may have failed. Check resulting frequency spectrum for unexpected results.\n",
      "WARNING:Numerics:Extrapolation may have failed. Check resulting frequency spectrum for unexpected results.\n",
      "WARNING:Numerics:Extrapolation may have failed. Check resulting frequency spectrum for unexpected results.\n",
      "WARNING:Numerics:Extrapolation may have failed. Check resulting frequency spectrum for unexpected results.\n",
      "WARNING:Numerics:Extrapolation may have failed. Check resulting frequency spectrum for unexpected results.\n",
      "WARNING:Numerics:Extrapolation may have failed. Check resulting frequency spectrum for unexpected results.\n",
      "WARNING:Numerics:Extrapolation may have failed. Check resulting frequency spectrum for unexpected results.\n",
      "WARNING:Numerics:Extrapolation may have failed. Check resulting frequency spectrum for unexpected results.\n",
      "WARNING:Numerics:Extrapolation may have failed. Check resulting frequency spectrum for unexpected results.\n"
     ]
    },
    {
     "name": "stdout",
     "output_type": "stream",
     "text": [
      "\t\t\tOptimized parameters =[6.430025, 1.599427, 0.129912]\n",
      "\n"
     ]
    },
    {
     "name": "stderr",
     "output_type": "stream",
     "text": [
      "WARNING:Numerics:Extrapolation may have failed. Check resulting frequency spectrum for unexpected results.\n"
     ]
    },
    {
     "name": "stdout",
     "output_type": "stream",
     "text": [
      "\t\t\tLikelihood = -406,420.22\n",
      "\t\t\tAIC = 812,846.44\n",
      "\t\t\tTheta = 32,580.9\n",
      "\t\t\tChi-Squared = 2,249,176.28\n",
      "\n",
      "\t\t\tReplicate time: 0:00:19.696510 (H:M:S)\n",
      "\n",
      "\n",
      "\t\tRound 2 Replicate 14 of 20:\n",
      "\n",
      "\t\t\tStarting parameters = [1.211959, 13.026294, 1.558126]\n",
      "\t\t\tOptimized parameters =[1.255435, 18.342717, 1.344007]\n",
      "\n",
      "\t\t\tLikelihood = -1,003,407.55\n",
      "\t\t\tAIC = 2,006,821.1\n",
      "\t\t\tTheta = 9,506.54\n",
      "\t\t\tChi-Squared = 155,198,250.6\n",
      "\n",
      "\t\t\tReplicate time: 0:00:27.387148 (H:M:S)\n",
      "\n",
      "\n",
      "\t\tRound 2 Replicate 15 of 20:\n",
      "\n",
      "\t\t\tStarting parameters = [3.618552, 2.962161, 2.461609]\n",
      "\t\t\tOptimized parameters =[4.295425, 3.614683, 1.823109]\n",
      "\n",
      "\t\t\tLikelihood = -1,034,236.75\n",
      "\t\t\tAIC = 2,068,479.5\n",
      "\t\t\tTheta = 14,118.22\n",
      "\t\t\tChi-Squared = 89,307,447.12\n",
      "\n",
      "\t\t\tReplicate time: 0:00:23.829593 (H:M:S)\n",
      "\n",
      "\n",
      "\t\tRound 2 Replicate 16 of 20:\n",
      "\n",
      "\t\t\tStarting parameters = [1.275187, 3.981892, 0.294548]\n",
      "\t\t\tOptimized parameters =[1.264896, 4.074656, 0.24026]\n",
      "\n",
      "\t\t\tLikelihood = -516,439.15\n",
      "\t\t\tAIC = 1,032,884.3\n",
      "\t\t\tTheta = 29,587.97\n",
      "\t\t\tChi-Squared = 8,677,421.64\n",
      "\n",
      "\t\t\tReplicate time: 0:00:18.807482 (H:M:S)\n",
      "\n",
      "\n",
      "\t\tRound 2 Replicate 17 of 20:\n",
      "\n",
      "\t\t\tStarting parameters = [2.311633, 4.735504, 0.708428]\n",
      "\t\t\tOptimized parameters =[2.444444, 6.29772, 0.676605]\n",
      "\n",
      "\t\t\tLikelihood = -695,976.95\n",
      "\t\t\tAIC = 1,391,959.9\n",
      "\t\t\tTheta = 17,110.83\n",
      "\t\t\tChi-Squared = 23,077,521.95\n",
      "\n",
      "\t\t\tReplicate time: 0:00:21.038432 (H:M:S)\n",
      "\n",
      "\n",
      "\t\tRound 2 Replicate 18 of 20:\n",
      "\n",
      "\t\t\tStarting parameters = [8.552546, 1.418519, 0.425774]\n",
      "\t\t\tOptimized parameters =[3.624576, 1.521256, 0.343933]\n",
      "\n",
      "\t\t\tLikelihood = -699,811.78\n",
      "\t\t\tAIC = 1,399,629.56\n",
      "\t\t\tTheta = 28,335.94\n",
      "\t\t\tChi-Squared = 13,074,206.54\n",
      "\n",
      "\t\t\tReplicate time: 0:00:22.573271 (H:M:S)\n",
      "\n",
      "\n",
      "\t\tRound 2 Replicate 19 of 20:\n",
      "\n",
      "\t\t\tStarting parameters = [4.013798, 5.194878, 0.493841]\n",
      "\t\t\tOptimized parameters =[4.403444, 7.026906, 0.449502]\n",
      "\n",
      "\t\t\tLikelihood = -489,920.86\n",
      "\t\t\tAIC = 979,847.72\n",
      "\t\t\tTheta = 16,659.71\n",
      "\t\t\tChi-Squared = 7,633,530.23\n",
      "\n",
      "\t\t\tReplicate time: 0:00:19.877316 (H:M:S)\n",
      "\n",
      "\n",
      "\t\tRound 2 Replicate 20 of 20:\n",
      "\n",
      "\t\t\tStarting parameters = [1.381958, 1.123724, 0.381238]\n",
      "\t\t\tOptimized parameters =[1.367136, 1.125911, 0.324635]\n",
      "\n",
      "\t\t\tLikelihood = -787,623.8\n",
      "\t\t\tAIC = 1,575,253.6\n",
      "\t\t\tTheta = 40,927.84\n",
      "\t\t\tChi-Squared = 21,538,527.91\n",
      "\n",
      "\t\t\tReplicate time: 0:00:19.415411 (H:M:S)\n",
      "\n",
      "\n",
      "\t----------------------------------------------\n",
      "\tBest replicate: Round_2_Replicate_3\n",
      "\t\tLikelihood = -363,037.58\n",
      "\t\tAIC = 726,081.16\n",
      "\t\tChi-Squared = 3,079,569.42\n",
      "\t\tParams = [1.3671, 1.1259, 0.3246]\n",
      "\t----------------------------------------------\n",
      "\n",
      "\n",
      "\tBeginning Optimizations for Round 3:\n",
      "\n",
      "\t\tRound 3 Replicate 1 of 30:\n",
      "\n",
      "\t\t\tStarting parameters = [18.703858, 21.500166, 0.348123]\n"
     ]
    },
    {
     "name": "stderr",
     "output_type": "stream",
     "text": [
      "WARNING:Numerics:Extrapolation may have failed. Check resulting frequency spectrum for unexpected results.\n",
      "WARNING:Numerics:Extrapolation may have failed. Check resulting frequency spectrum for unexpected results.\n",
      "WARNING:Numerics:Extrapolation may have failed. Check resulting frequency spectrum for unexpected results.\n",
      "WARNING:Numerics:Extrapolation may have failed. Check resulting frequency spectrum for unexpected results.\n",
      "WARNING:Numerics:Extrapolation may have failed. Check resulting frequency spectrum for unexpected results.\n",
      "WARNING:Numerics:Extrapolation may have failed. Check resulting frequency spectrum for unexpected results.\n",
      "WARNING:Numerics:Extrapolation may have failed. Check resulting frequency spectrum for unexpected results.\n",
      "WARNING:Numerics:Extrapolation may have failed. Check resulting frequency spectrum for unexpected results.\n",
      "WARNING:Numerics:Extrapolation may have failed. Check resulting frequency spectrum for unexpected results.\n",
      "WARNING:Numerics:Extrapolation may have failed. Check resulting frequency spectrum for unexpected results.\n",
      "WARNING:Numerics:Extrapolation may have failed. Check resulting frequency spectrum for unexpected results.\n",
      "WARNING:Numerics:Extrapolation may have failed. Check resulting frequency spectrum for unexpected results.\n",
      "WARNING:Numerics:Extrapolation may have failed. Check resulting frequency spectrum for unexpected results.\n",
      "WARNING:Numerics:Extrapolation may have failed. Check resulting frequency spectrum for unexpected results.\n",
      "WARNING:Numerics:Extrapolation may have failed. Check resulting frequency spectrum for unexpected results.\n",
      "WARNING:Numerics:Extrapolation may have failed. Check resulting frequency spectrum for unexpected results.\n",
      "WARNING:Numerics:Extrapolation may have failed. Check resulting frequency spectrum for unexpected results.\n",
      "WARNING:Numerics:Extrapolation may have failed. Check resulting frequency spectrum for unexpected results.\n"
     ]
    },
    {
     "name": "stdout",
     "output_type": "stream",
     "text": [
      "\t\t\tOptimized parameters =[16.42105, 20.897984, 0.208636]\n",
      "\n"
     ]
    },
    {
     "name": "stderr",
     "output_type": "stream",
     "text": [
      "WARNING:Numerics:Extrapolation may have failed. Check resulting frequency spectrum for unexpected results.\n"
     ]
    },
    {
     "name": "stdout",
     "output_type": "stream",
     "text": [
      "\t\t\tLikelihood = -196,078.56\n",
      "\t\t\tAIC = 392,163.12\n",
      "\t\t\tTheta = 15,898.32\n",
      "\t\t\tChi-Squared = 781,746.98\n",
      "\n",
      "\t\t\tReplicate time: 0:00:30.578625 (H:M:S)\n",
      "\n",
      "\n",
      "\t\tRound 3 Replicate 2 of 30:\n",
      "\n",
      "\t\t\tStarting parameters = [3.093587, 16.130077, 0.142236]\n"
     ]
    },
    {
     "name": "stderr",
     "output_type": "stream",
     "text": [
      "WARNING:Numerics:Extrapolation may have failed. Check resulting frequency spectrum for unexpected results.\n",
      "WARNING:Numerics:Extrapolation may have failed. Check resulting frequency spectrum for unexpected results.\n",
      "WARNING:Numerics:Extrapolation may have failed. Check resulting frequency spectrum for unexpected results.\n",
      "WARNING:Numerics:Extrapolation may have failed. Check resulting frequency spectrum for unexpected results.\n",
      "WARNING:Numerics:Extrapolation may have failed. Check resulting frequency spectrum for unexpected results.\n",
      "WARNING:Numerics:Extrapolation may have failed. Check resulting frequency spectrum for unexpected results.\n",
      "WARNING:Numerics:Extrapolation may have failed. Check resulting frequency spectrum for unexpected results.\n",
      "WARNING:Numerics:Extrapolation may have failed. Check resulting frequency spectrum for unexpected results.\n",
      "WARNING:Numerics:Extrapolation may have failed. Check resulting frequency spectrum for unexpected results.\n",
      "WARNING:Numerics:Extrapolation may have failed. Check resulting frequency spectrum for unexpected results.\n",
      "WARNING:Numerics:Extrapolation may have failed. Check resulting frequency spectrum for unexpected results.\n",
      "WARNING:Numerics:Extrapolation may have failed. Check resulting frequency spectrum for unexpected results.\n",
      "WARNING:Numerics:Extrapolation may have failed. Check resulting frequency spectrum for unexpected results.\n",
      "WARNING:Numerics:Extrapolation may have failed. Check resulting frequency spectrum for unexpected results.\n",
      "WARNING:Numerics:Extrapolation may have failed. Check resulting frequency spectrum for unexpected results.\n",
      "WARNING:Numerics:Extrapolation may have failed. Check resulting frequency spectrum for unexpected results.\n",
      "WARNING:Numerics:Extrapolation may have failed. Check resulting frequency spectrum for unexpected results.\n",
      "WARNING:Numerics:Extrapolation may have failed. Check resulting frequency spectrum for unexpected results.\n",
      "WARNING:Numerics:Extrapolation may have failed. Check resulting frequency spectrum for unexpected results.\n"
     ]
    },
    {
     "name": "stdout",
     "output_type": "stream",
     "text": [
      "\t\t\tOptimized parameters =[3.463447, 8.430525, 0.04136]\n",
      "\n"
     ]
    },
    {
     "name": "stderr",
     "output_type": "stream",
     "text": [
      "WARNING:Numerics:Extrapolation may have failed. Check resulting frequency spectrum for unexpected results.\n"
     ]
    },
    {
     "name": "stdout",
     "output_type": "stream",
     "text": [
      "\t\t\tLikelihood = -108,722.53\n",
      "\t\t\tAIC = 217,451.06\n",
      "\t\t\tTheta = 41,377.76\n",
      "\t\t\tChi-Squared = 204,571.48\n",
      "\n",
      "\t\t\tReplicate time: 0:00:32.425417 (H:M:S)\n",
      "\n",
      "\n",
      "\t\tRound 3 Replicate 3 of 30:\n",
      "\n",
      "\t\t\tStarting parameters = [8.970305, 25.864269, 0.106177]\n"
     ]
    },
    {
     "name": "stderr",
     "output_type": "stream",
     "text": [
      "WARNING:Numerics:Extrapolation may have failed. Check resulting frequency spectrum for unexpected results.\n",
      "WARNING:Numerics:Extrapolation may have failed. Check resulting frequency spectrum for unexpected results.\n",
      "WARNING:Numerics:Extrapolation may have failed. Check resulting frequency spectrum for unexpected results.\n",
      "WARNING:Numerics:Extrapolation may have failed. Check resulting frequency spectrum for unexpected results.\n",
      "WARNING:Numerics:Extrapolation may have failed. Check resulting frequency spectrum for unexpected results.\n",
      "WARNING:Numerics:Extrapolation may have failed. Check resulting frequency spectrum for unexpected results.\n",
      "WARNING:Numerics:Extrapolation may have failed. Check resulting frequency spectrum for unexpected results.\n",
      "WARNING:Numerics:Extrapolation may have failed. Check resulting frequency spectrum for unexpected results.\n",
      "WARNING:Numerics:Extrapolation may have failed. Check resulting frequency spectrum for unexpected results.\n",
      "WARNING:Numerics:Extrapolation may have failed. Check resulting frequency spectrum for unexpected results.\n",
      "WARNING:Numerics:Extrapolation may have failed. Check resulting frequency spectrum for unexpected results.\n",
      "WARNING:Numerics:Extrapolation may have failed. Check resulting frequency spectrum for unexpected results.\n",
      "WARNING:Numerics:Extrapolation may have failed. Check resulting frequency spectrum for unexpected results.\n",
      "WARNING:Numerics:Extrapolation may have failed. Check resulting frequency spectrum for unexpected results.\n",
      "WARNING:Numerics:Extrapolation may have failed. Check resulting frequency spectrum for unexpected results.\n",
      "WARNING:Numerics:Extrapolation may have failed. Check resulting frequency spectrum for unexpected results.\n",
      "WARNING:Numerics:Extrapolation may have failed. Check resulting frequency spectrum for unexpected results.\n"
     ]
    },
    {
     "name": "stdout",
     "output_type": "stream",
     "text": [
      "\t\t\tOptimized parameters =[5.318392, 14.949755, 0.048232]\n",
      "\n"
     ]
    },
    {
     "name": "stderr",
     "output_type": "stream",
     "text": [
      "WARNING:Numerics:Extrapolation may have failed. Check resulting frequency spectrum for unexpected results.\n"
     ]
    },
    {
     "name": "stdout",
     "output_type": "stream",
     "text": [
      "\t\t\tLikelihood = -109,223.39\n",
      "\t\t\tAIC = 218,452.78\n",
      "\t\t\tTheta = 37,013.14\n",
      "\t\t\tChi-Squared = 216,630.84\n",
      "\n",
      "\t\t\tReplicate time: 0:00:28.864786 (H:M:S)\n",
      "\n",
      "\n",
      "\t\tRound 3 Replicate 4 of 30:\n",
      "\n",
      "\t\t\tStarting parameters = [6.98259, 6.632478, 0.592983]\n"
     ]
    },
    {
     "name": "stderr",
     "output_type": "stream",
     "text": [
      "WARNING:Numerics:Extrapolation may have failed. Check resulting frequency spectrum for unexpected results.\n",
      "WARNING:Numerics:Extrapolation may have failed. Check resulting frequency spectrum for unexpected results.\n",
      "WARNING:Numerics:Extrapolation may have failed. Check resulting frequency spectrum for unexpected results.\n",
      "WARNING:Numerics:Extrapolation may have failed. Check resulting frequency spectrum for unexpected results.\n",
      "WARNING:Numerics:Extrapolation may have failed. Check resulting frequency spectrum for unexpected results.\n",
      "WARNING:Numerics:Extrapolation may have failed. Check resulting frequency spectrum for unexpected results.\n",
      "WARNING:Numerics:Extrapolation may have failed. Check resulting frequency spectrum for unexpected results.\n",
      "WARNING:Numerics:Extrapolation may have failed. Check resulting frequency spectrum for unexpected results.\n"
     ]
    },
    {
     "name": "stdout",
     "output_type": "stream",
     "text": [
      "\t\t\tOptimized parameters =[7.695155, 25.736145, 0.468718]\n",
      "\n"
     ]
    },
    {
     "name": "stderr",
     "output_type": "stream",
     "text": [
      "WARNING:Numerics:Extrapolation may have failed. Check resulting frequency spectrum for unexpected results.\n"
     ]
    },
    {
     "name": "stdout",
     "output_type": "stream",
     "text": [
      "\t\t\tLikelihood = -362,333.32\n",
      "\t\t\tAIC = 724,672.64\n",
      "\t\t\tTheta = 10,557.12\n",
      "\t\t\tChi-Squared = 4,145,010.77\n",
      "\n",
      "\t\t\tReplicate time: 0:00:32.922866 (H:M:S)\n",
      "\n",
      "\n",
      "\t\tRound 3 Replicate 5 of 30:\n",
      "\n",
      "\t\t\tStarting parameters = [14.146123, 4.055677, 0.223933]\n"
     ]
    },
    {
     "name": "stderr",
     "output_type": "stream",
     "text": [
      "WARNING:Numerics:Extrapolation may have failed. Check resulting frequency spectrum for unexpected results.\n",
      "WARNING:Numerics:Extrapolation may have failed. Check resulting frequency spectrum for unexpected results.\n",
      "WARNING:Numerics:Extrapolation may have failed. Check resulting frequency spectrum for unexpected results.\n",
      "WARNING:Numerics:Extrapolation may have failed. Check resulting frequency spectrum for unexpected results.\n",
      "WARNING:Numerics:Extrapolation may have failed. Check resulting frequency spectrum for unexpected results.\n",
      "WARNING:Numerics:Extrapolation may have failed. Check resulting frequency spectrum for unexpected results.\n",
      "WARNING:Numerics:Extrapolation may have failed. Check resulting frequency spectrum for unexpected results.\n",
      "WARNING:Numerics:Extrapolation may have failed. Check resulting frequency spectrum for unexpected results.\n",
      "WARNING:Numerics:Extrapolation may have failed. Check resulting frequency spectrum for unexpected results.\n",
      "WARNING:Numerics:Extrapolation may have failed. Check resulting frequency spectrum for unexpected results.\n",
      "WARNING:Numerics:Extrapolation may have failed. Check resulting frequency spectrum for unexpected results.\n",
      "WARNING:Numerics:Extrapolation may have failed. Check resulting frequency spectrum for unexpected results.\n",
      "WARNING:Numerics:Extrapolation may have failed. Check resulting frequency spectrum for unexpected results.\n",
      "WARNING:Numerics:Extrapolation may have failed. Check resulting frequency spectrum for unexpected results.\n",
      "WARNING:Numerics:Extrapolation may have failed. Check resulting frequency spectrum for unexpected results.\n",
      "WARNING:Numerics:Extrapolation may have failed. Check resulting frequency spectrum for unexpected results.\n",
      "WARNING:Numerics:Extrapolation may have failed. Check resulting frequency spectrum for unexpected results.\n",
      "WARNING:Numerics:Extrapolation may have failed. Check resulting frequency spectrum for unexpected results.\n",
      "WARNING:Numerics:Extrapolation may have failed. Check resulting frequency spectrum for unexpected results.\n",
      "WARNING:Numerics:Extrapolation may have failed. Check resulting frequency spectrum for unexpected results.\n"
     ]
    },
    {
     "name": "stdout",
     "output_type": "stream",
     "text": [
      "\t\t\tOptimized parameters =[3.420764, 5.206416, 0.097515]\n",
      "\n"
     ]
    },
    {
     "name": "stderr",
     "output_type": "stream",
     "text": [
      "WARNING:Numerics:Extrapolation may have failed. Check resulting frequency spectrum for unexpected results.\n"
     ]
    },
    {
     "name": "stdout",
     "output_type": "stream",
     "text": [
      "\t\t\tLikelihood = -186,663.62\n",
      "\t\t\tAIC = 373,333.24\n",
      "\t\t\tTheta = 32,113.78\n",
      "\t\t\tChi-Squared = 700,050.43\n",
      "\n",
      "\t\t\tReplicate time: 0:00:34.078305 (H:M:S)\n",
      "\n",
      "\n",
      "\t\tRound 3 Replicate 6 of 30:\n",
      "\n",
      "\t\t\tStarting parameters = [13.351727, 16.810895, 0.179042]\n"
     ]
    },
    {
     "name": "stderr",
     "output_type": "stream",
     "text": [
      "WARNING:Numerics:Extrapolation may have failed. Check resulting frequency spectrum for unexpected results.\n",
      "WARNING:Numerics:Extrapolation may have failed. Check resulting frequency spectrum for unexpected results.\n",
      "WARNING:Numerics:Extrapolation may have failed. Check resulting frequency spectrum for unexpected results.\n",
      "WARNING:Numerics:Extrapolation may have failed. Check resulting frequency spectrum for unexpected results.\n",
      "WARNING:Numerics:Extrapolation may have failed. Check resulting frequency spectrum for unexpected results.\n",
      "WARNING:Numerics:Extrapolation may have failed. Check resulting frequency spectrum for unexpected results.\n",
      "WARNING:Numerics:Extrapolation may have failed. Check resulting frequency spectrum for unexpected results.\n",
      "WARNING:Numerics:Extrapolation may have failed. Check resulting frequency spectrum for unexpected results.\n",
      "WARNING:Numerics:Extrapolation may have failed. Check resulting frequency spectrum for unexpected results.\n",
      "WARNING:Numerics:Extrapolation may have failed. Check resulting frequency spectrum for unexpected results.\n",
      "WARNING:Numerics:Extrapolation may have failed. Check resulting frequency spectrum for unexpected results.\n",
      "WARNING:Numerics:Extrapolation may have failed. Check resulting frequency spectrum for unexpected results.\n",
      "WARNING:Numerics:Extrapolation may have failed. Check resulting frequency spectrum for unexpected results.\n",
      "WARNING:Numerics:Extrapolation may have failed. Check resulting frequency spectrum for unexpected results.\n",
      "WARNING:Numerics:Extrapolation may have failed. Check resulting frequency spectrum for unexpected results.\n",
      "WARNING:Numerics:Extrapolation may have failed. Check resulting frequency spectrum for unexpected results.\n",
      "WARNING:Numerics:Extrapolation may have failed. Check resulting frequency spectrum for unexpected results.\n",
      "WARNING:Numerics:Extrapolation may have failed. Check resulting frequency spectrum for unexpected results.\n",
      "WARNING:Numerics:Extrapolation may have failed. Check resulting frequency spectrum for unexpected results.\n",
      "WARNING:Numerics:Extrapolation may have failed. Check resulting frequency spectrum for unexpected results.\n"
     ]
    },
    {
     "name": "stdout",
     "output_type": "stream",
     "text": [
      "\t\t\tOptimized parameters =[2.529124, 18.793568, 0.029665]\n",
      "\n"
     ]
    },
    {
     "name": "stderr",
     "output_type": "stream",
     "text": [
      "WARNING:Numerics:Extrapolation may have failed. Check resulting frequency spectrum for unexpected results.\n"
     ]
    },
    {
     "name": "stdout",
     "output_type": "stream",
     "text": [
      "\t\t\tLikelihood = -108,753.25\n",
      "\t\t\tAIC = 217,512.5\n",
      "\t\t\tTheta = 45,110.19\n",
      "\t\t\tChi-Squared = 190,349.67\n",
      "\n",
      "\t\t\tReplicate time: 0:00:33.741879 (H:M:S)\n",
      "\n",
      "\n",
      "\t\tRound 3 Replicate 7 of 30:\n",
      "\n",
      "\t\t\tStarting parameters = [22.366987, 2.653659, 0.470035]\n",
      "\t\t\tOptimized parameters =[6.453042, 3.614621, 0.365461]\n",
      "\n",
      "\t\t\tLikelihood = -512,234.48\n",
      "\t\t\tAIC = 1,024,474.96\n",
      "\t\t\tTheta = 19,621.29\n",
      "\t\t\tChi-Squared = 6,252,149.28\n",
      "\n",
      "\t\t\tReplicate time: 0:00:36.617022 (H:M:S)\n",
      "\n",
      "\n",
      "\t\tRound 3 Replicate 8 of 30:\n",
      "\n",
      "\t\t\tStarting parameters = [2.542194, 3.943458, 0.809213]\n",
      "\t\t\tOptimized parameters =[5.279856, 29.726309, 0.843217]\n",
      "\n",
      "\t\t\tLikelihood = -563,118.39\n",
      "\t\t\tAIC = 1,126,242.78\n",
      "\t\t\tTheta = 8,043.62\n",
      "\t\t\tChi-Squared = 14,874,779.79\n",
      "\n",
      "\t\t\tReplicate time: 0:00:36.584989 (H:M:S)\n",
      "\n",
      "\n",
      "\t\tRound 3 Replicate 9 of 30:\n",
      "\n",
      "\t\t\tStarting parameters = [9.611345, 5.267423, 0.958935]\n",
      "\t\t\tOptimized parameters =[5.668496, 15.087263, 0.954922]\n",
      "\n",
      "\t\t\tLikelihood = -620,202.2\n",
      "\t\t\tAIC = 1,240,410.4\n",
      "\t\t\tTheta = 9,450.5\n",
      "\t\t\tChi-Squared = 17,662,121.69\n",
      "\n",
      "\t\t\tReplicate time: 0:00:32.050692 (H:M:S)\n",
      "\n",
      "\n",
      "\t\tRound 3 Replicate 10 of 30:\n",
      "\n",
      "\t\t\tStarting parameters = [18.793989, 3.883255, 0.09478]\n"
     ]
    },
    {
     "name": "stderr",
     "output_type": "stream",
     "text": [
      "WARNING:Numerics:Extrapolation may have failed. Check resulting frequency spectrum for unexpected results.\n",
      "WARNING:Numerics:Extrapolation may have failed. Check resulting frequency spectrum for unexpected results.\n",
      "WARNING:Numerics:Extrapolation may have failed. Check resulting frequency spectrum for unexpected results.\n",
      "WARNING:Numerics:Extrapolation may have failed. Check resulting frequency spectrum for unexpected results.\n",
      "WARNING:Numerics:Extrapolation may have failed. Check resulting frequency spectrum for unexpected results.\n",
      "WARNING:Numerics:Extrapolation may have failed. Check resulting frequency spectrum for unexpected results.\n",
      "WARNING:Numerics:Extrapolation may have failed. Check resulting frequency spectrum for unexpected results.\n",
      "WARNING:Numerics:Extrapolation may have failed. Check resulting frequency spectrum for unexpected results.\n",
      "WARNING:Numerics:Extrapolation may have failed. Check resulting frequency spectrum for unexpected results.\n",
      "WARNING:Numerics:Extrapolation may have failed. Check resulting frequency spectrum for unexpected results.\n",
      "WARNING:Numerics:Extrapolation may have failed. Check resulting frequency spectrum for unexpected results.\n",
      "WARNING:Numerics:Extrapolation may have failed. Check resulting frequency spectrum for unexpected results.\n",
      "WARNING:Numerics:Extrapolation may have failed. Check resulting frequency spectrum for unexpected results.\n",
      "WARNING:Numerics:Extrapolation may have failed. Check resulting frequency spectrum for unexpected results.\n",
      "WARNING:Numerics:Extrapolation may have failed. Check resulting frequency spectrum for unexpected results.\n",
      "WARNING:Numerics:Extrapolation may have failed. Check resulting frequency spectrum for unexpected results.\n",
      "WARNING:Numerics:Extrapolation may have failed. Check resulting frequency spectrum for unexpected results.\n",
      "WARNING:Numerics:Extrapolation may have failed. Check resulting frequency spectrum for unexpected results.\n",
      "WARNING:Numerics:Extrapolation may have failed. Check resulting frequency spectrum for unexpected results.\n",
      "WARNING:Numerics:Extrapolation may have failed. Check resulting frequency spectrum for unexpected results.\n"
     ]
    },
    {
     "name": "stdout",
     "output_type": "stream",
     "text": [
      "\t\t\tOptimized parameters =[2.93184, 5.329359, 0.029179]\n",
      "\n"
     ]
    },
    {
     "name": "stderr",
     "output_type": "stream",
     "text": [
      "WARNING:Numerics:Extrapolation may have failed. Check resulting frequency spectrum for unexpected results.\n"
     ]
    },
    {
     "name": "stdout",
     "output_type": "stream",
     "text": [
      "\t\t\tLikelihood = -116,124.47\n",
      "\t\t\tAIC = 232,254.94\n",
      "\t\t\tTheta = 47,684.32\n",
      "\t\t\tChi-Squared = 196,034.22\n",
      "\n",
      "\t\t\tReplicate time: 0:00:33.554796 (H:M:S)\n",
      "\n",
      "\n",
      "\t\tRound 3 Replicate 11 of 30:\n",
      "\n",
      "\t\t\tStarting parameters = [3.678143, 26.098074, 0.536186]\n"
     ]
    },
    {
     "name": "stderr",
     "output_type": "stream",
     "text": [
      "WARNING:Numerics:Extrapolation may have failed. Check resulting frequency spectrum for unexpected results.\n",
      "WARNING:Numerics:Extrapolation may have failed. Check resulting frequency spectrum for unexpected results.\n",
      "WARNING:Numerics:Extrapolation may have failed. Check resulting frequency spectrum for unexpected results.\n",
      "WARNING:Numerics:Extrapolation may have failed. Check resulting frequency spectrum for unexpected results.\n",
      "WARNING:Numerics:Extrapolation may have failed. Check resulting frequency spectrum for unexpected results.\n",
      "WARNING:Numerics:Extrapolation may have failed. Check resulting frequency spectrum for unexpected results.\n",
      "WARNING:Numerics:Extrapolation may have failed. Check resulting frequency spectrum for unexpected results.\n",
      "WARNING:Numerics:Extrapolation may have failed. Check resulting frequency spectrum for unexpected results.\n",
      "WARNING:Numerics:Extrapolation may have failed. Check resulting frequency spectrum for unexpected results.\n",
      "WARNING:Numerics:Extrapolation may have failed. Check resulting frequency spectrum for unexpected results.\n",
      "WARNING:Numerics:Extrapolation may have failed. Check resulting frequency spectrum for unexpected results.\n",
      "WARNING:Numerics:Extrapolation may have failed. Check resulting frequency spectrum for unexpected results.\n",
      "WARNING:Numerics:Extrapolation may have failed. Check resulting frequency spectrum for unexpected results.\n",
      "WARNING:Numerics:Extrapolation may have failed. Check resulting frequency spectrum for unexpected results.\n",
      "WARNING:Numerics:Extrapolation may have failed. Check resulting frequency spectrum for unexpected results.\n",
      "WARNING:Numerics:Extrapolation may have failed. Check resulting frequency spectrum for unexpected results.\n",
      "WARNING:Numerics:Extrapolation may have failed. Check resulting frequency spectrum for unexpected results.\n"
     ]
    },
    {
     "name": "stdout",
     "output_type": "stream",
     "text": [
      "\t\t\tOptimized parameters =[17.177331, 13.592106, 0.339479]\n",
      "\n"
     ]
    },
    {
     "name": "stderr",
     "output_type": "stream",
     "text": [
      "WARNING:Numerics:Extrapolation may have failed. Check resulting frequency spectrum for unexpected results.\n"
     ]
    },
    {
     "name": "stdout",
     "output_type": "stream",
     "text": [
      "\t\t\tLikelihood = -292,643.41\n",
      "\t\t\tAIC = 585,292.82\n",
      "\t\t\tTheta = 12,807.57\n",
      "\t\t\tChi-Squared = 1,822,092.44\n",
      "\n",
      "\t\t\tReplicate time: 0:00:32.952573 (H:M:S)\n",
      "\n",
      "\n",
      "\t\tRound 3 Replicate 12 of 30:\n",
      "\n",
      "\t\t\tStarting parameters = [3.573177, 19.649294, 0.100561]\n"
     ]
    },
    {
     "name": "stderr",
     "output_type": "stream",
     "text": [
      "WARNING:Numerics:Extrapolation may have failed. Check resulting frequency spectrum for unexpected results.\n",
      "WARNING:Numerics:Extrapolation may have failed. Check resulting frequency spectrum for unexpected results.\n",
      "WARNING:Numerics:Extrapolation may have failed. Check resulting frequency spectrum for unexpected results.\n",
      "WARNING:Numerics:Extrapolation may have failed. Check resulting frequency spectrum for unexpected results.\n",
      "WARNING:Numerics:Extrapolation may have failed. Check resulting frequency spectrum for unexpected results.\n",
      "WARNING:Numerics:Extrapolation may have failed. Check resulting frequency spectrum for unexpected results.\n",
      "WARNING:Numerics:Extrapolation may have failed. Check resulting frequency spectrum for unexpected results.\n",
      "WARNING:Numerics:Extrapolation may have failed. Check resulting frequency spectrum for unexpected results.\n",
      "WARNING:Numerics:Extrapolation may have failed. Check resulting frequency spectrum for unexpected results.\n",
      "WARNING:Numerics:Extrapolation may have failed. Check resulting frequency spectrum for unexpected results.\n",
      "WARNING:Numerics:Extrapolation may have failed. Check resulting frequency spectrum for unexpected results.\n",
      "WARNING:Numerics:Extrapolation may have failed. Check resulting frequency spectrum for unexpected results.\n",
      "WARNING:Numerics:Extrapolation may have failed. Check resulting frequency spectrum for unexpected results.\n",
      "WARNING:Numerics:Extrapolation may have failed. Check resulting frequency spectrum for unexpected results.\n",
      "WARNING:Numerics:Extrapolation may have failed. Check resulting frequency spectrum for unexpected results.\n",
      "WARNING:Numerics:Extrapolation may have failed. Check resulting frequency spectrum for unexpected results.\n",
      "WARNING:Numerics:Extrapolation may have failed. Check resulting frequency spectrum for unexpected results.\n",
      "WARNING:Numerics:Extrapolation may have failed. Check resulting frequency spectrum for unexpected results.\n",
      "WARNING:Numerics:Extrapolation may have failed. Check resulting frequency spectrum for unexpected results.\n",
      "WARNING:Numerics:Extrapolation may have failed. Check resulting frequency spectrum for unexpected results.\n"
     ]
    },
    {
     "name": "stdout",
     "output_type": "stream",
     "text": [
      "\t\t\tOptimized parameters =[3.883668, 13.729866, 0.045715]\n",
      "\n"
     ]
    },
    {
     "name": "stderr",
     "output_type": "stream",
     "text": [
      "WARNING:Numerics:Extrapolation may have failed. Check resulting frequency spectrum for unexpected results.\n"
     ]
    },
    {
     "name": "stdout",
     "output_type": "stream",
     "text": [
      "\t\t\tLikelihood = -107,065.72\n",
      "\t\t\tAIC = 214,137.44\n",
      "\t\t\tTheta = 38,510.25\n",
      "\t\t\tChi-Squared = 210,226.22\n",
      "\n",
      "\t\t\tReplicate time: 0:00:33.650791 (H:M:S)\n",
      "\n",
      "\n",
      "\t\tRound 3 Replicate 13 of 30:\n",
      "\n",
      "\t\t\tStarting parameters = [2.473778, 3.836272, 0.23348]\n"
     ]
    },
    {
     "name": "stderr",
     "output_type": "stream",
     "text": [
      "WARNING:Numerics:Extrapolation may have failed. Check resulting frequency spectrum for unexpected results.\n",
      "WARNING:Numerics:Extrapolation may have failed. Check resulting frequency spectrum for unexpected results.\n",
      "WARNING:Numerics:Extrapolation may have failed. Check resulting frequency spectrum for unexpected results.\n",
      "WARNING:Numerics:Extrapolation may have failed. Check resulting frequency spectrum for unexpected results.\n",
      "WARNING:Numerics:Extrapolation may have failed. Check resulting frequency spectrum for unexpected results.\n",
      "WARNING:Numerics:Extrapolation may have failed. Check resulting frequency spectrum for unexpected results.\n",
      "WARNING:Numerics:Extrapolation may have failed. Check resulting frequency spectrum for unexpected results.\n",
      "WARNING:Numerics:Extrapolation may have failed. Check resulting frequency spectrum for unexpected results.\n",
      "WARNING:Numerics:Extrapolation may have failed. Check resulting frequency spectrum for unexpected results.\n",
      "WARNING:Numerics:Extrapolation may have failed. Check resulting frequency spectrum for unexpected results.\n",
      "WARNING:Numerics:Extrapolation may have failed. Check resulting frequency spectrum for unexpected results.\n",
      "WARNING:Numerics:Extrapolation may have failed. Check resulting frequency spectrum for unexpected results.\n",
      "WARNING:Numerics:Extrapolation may have failed. Check resulting frequency spectrum for unexpected results.\n",
      "WARNING:Numerics:Extrapolation may have failed. Check resulting frequency spectrum for unexpected results.\n",
      "WARNING:Numerics:Extrapolation may have failed. Check resulting frequency spectrum for unexpected results.\n",
      "WARNING:Numerics:Extrapolation may have failed. Check resulting frequency spectrum for unexpected results.\n"
     ]
    },
    {
     "name": "stdout",
     "output_type": "stream",
     "text": [
      "\t\t\tOptimized parameters =[1.721934, 11.247006, 0.021177]\n",
      "\n"
     ]
    },
    {
     "name": "stderr",
     "output_type": "stream",
     "text": [
      "WARNING:Numerics:Extrapolation may have failed. Check resulting frequency spectrum for unexpected results.\n"
     ]
    },
    {
     "name": "stdout",
     "output_type": "stream",
     "text": [
      "\t\t\tLikelihood = -114,736.23\n",
      "\t\t\tAIC = 229,478.46\n",
      "\t\t\tTheta = 51,093.09\n",
      "\t\t\tChi-Squared = 183,870.15\n",
      "\n",
      "\t\t\tReplicate time: 0:00:35.509012 (H:M:S)\n",
      "\n",
      "\n",
      "\t\tRound 3 Replicate 14 of 30:\n",
      "\n",
      "\t\t\tStarting parameters = [8.915043, 2.976957, 0.274166]\n"
     ]
    },
    {
     "name": "stderr",
     "output_type": "stream",
     "text": [
      "WARNING:Numerics:Extrapolation may have failed. Check resulting frequency spectrum for unexpected results.\n",
      "WARNING:Numerics:Extrapolation may have failed. Check resulting frequency spectrum for unexpected results.\n",
      "WARNING:Numerics:Extrapolation may have failed. Check resulting frequency spectrum for unexpected results.\n",
      "WARNING:Numerics:Extrapolation may have failed. Check resulting frequency spectrum for unexpected results.\n",
      "WARNING:Numerics:Extrapolation may have failed. Check resulting frequency spectrum for unexpected results.\n",
      "WARNING:Numerics:Extrapolation may have failed. Check resulting frequency spectrum for unexpected results.\n",
      "WARNING:Numerics:Extrapolation may have failed. Check resulting frequency spectrum for unexpected results.\n",
      "WARNING:Numerics:Extrapolation may have failed. Check resulting frequency spectrum for unexpected results.\n",
      "WARNING:Numerics:Extrapolation may have failed. Check resulting frequency spectrum for unexpected results.\n",
      "WARNING:Numerics:Extrapolation may have failed. Check resulting frequency spectrum for unexpected results.\n",
      "WARNING:Numerics:Extrapolation may have failed. Check resulting frequency spectrum for unexpected results.\n",
      "WARNING:Numerics:Extrapolation may have failed. Check resulting frequency spectrum for unexpected results.\n",
      "WARNING:Numerics:Extrapolation may have failed. Check resulting frequency spectrum for unexpected results.\n",
      "WARNING:Numerics:Extrapolation may have failed. Check resulting frequency spectrum for unexpected results.\n",
      "WARNING:Numerics:Extrapolation may have failed. Check resulting frequency spectrum for unexpected results.\n",
      "WARNING:Numerics:Extrapolation may have failed. Check resulting frequency spectrum for unexpected results.\n",
      "WARNING:Numerics:Extrapolation may have failed. Check resulting frequency spectrum for unexpected results.\n",
      "WARNING:Numerics:Extrapolation may have failed. Check resulting frequency spectrum for unexpected results.\n",
      "WARNING:Numerics:Extrapolation may have failed. Check resulting frequency spectrum for unexpected results.\n",
      "WARNING:Numerics:Extrapolation may have failed. Check resulting frequency spectrum for unexpected results.\n"
     ]
    },
    {
     "name": "stdout",
     "output_type": "stream",
     "text": [
      "\t\t\tOptimized parameters =[1.093223, 5.613873, 0.093259]\n",
      "\n"
     ]
    },
    {
     "name": "stderr",
     "output_type": "stream",
     "text": [
      "WARNING:Numerics:Extrapolation may have failed. Check resulting frequency spectrum for unexpected results.\n"
     ]
    },
    {
     "name": "stdout",
     "output_type": "stream",
     "text": [
      "\t\t\tLikelihood = -277,480.85\n",
      "\t\t\tAIC = 554,967.7\n",
      "\t\t\tTheta = 36,288.23\n",
      "\t\t\tChi-Squared = 1,785,740.96\n",
      "\n",
      "\t\t\tReplicate time: 0:00:34.202886 (H:M:S)\n",
      "\n",
      "\n",
      "\t\tRound 3 Replicate 15 of 30:\n",
      "\n",
      "\t\t\tStarting parameters = [15.708391, 7.78788, 0.256488]\n"
     ]
    },
    {
     "name": "stderr",
     "output_type": "stream",
     "text": [
      "WARNING:Numerics:Extrapolation may have failed. Check resulting frequency spectrum for unexpected results.\n",
      "WARNING:Numerics:Extrapolation may have failed. Check resulting frequency spectrum for unexpected results.\n",
      "WARNING:Numerics:Extrapolation may have failed. Check resulting frequency spectrum for unexpected results.\n",
      "WARNING:Numerics:Extrapolation may have failed. Check resulting frequency spectrum for unexpected results.\n",
      "WARNING:Numerics:Extrapolation may have failed. Check resulting frequency spectrum for unexpected results.\n",
      "WARNING:Numerics:Extrapolation may have failed. Check resulting frequency spectrum for unexpected results.\n",
      "WARNING:Numerics:Extrapolation may have failed. Check resulting frequency spectrum for unexpected results.\n",
      "WARNING:Numerics:Extrapolation may have failed. Check resulting frequency spectrum for unexpected results.\n",
      "WARNING:Numerics:Extrapolation may have failed. Check resulting frequency spectrum for unexpected results.\n",
      "WARNING:Numerics:Extrapolation may have failed. Check resulting frequency spectrum for unexpected results.\n",
      "WARNING:Numerics:Extrapolation may have failed. Check resulting frequency spectrum for unexpected results.\n",
      "WARNING:Numerics:Extrapolation may have failed. Check resulting frequency spectrum for unexpected results.\n",
      "WARNING:Numerics:Extrapolation may have failed. Check resulting frequency spectrum for unexpected results.\n",
      "WARNING:Numerics:Extrapolation may have failed. Check resulting frequency spectrum for unexpected results.\n",
      "WARNING:Numerics:Extrapolation may have failed. Check resulting frequency spectrum for unexpected results.\n",
      "WARNING:Numerics:Extrapolation may have failed. Check resulting frequency spectrum for unexpected results.\n",
      "WARNING:Numerics:Extrapolation may have failed. Check resulting frequency spectrum for unexpected results.\n",
      "WARNING:Numerics:Extrapolation may have failed. Check resulting frequency spectrum for unexpected results.\n"
     ]
    },
    {
     "name": "stdout",
     "output_type": "stream",
     "text": [
      "\t\t\tOptimized parameters =[7.309251, 13.496823, 0.171099]\n",
      "\n"
     ]
    },
    {
     "name": "stderr",
     "output_type": "stream",
     "text": [
      "WARNING:Numerics:Extrapolation may have failed. Check resulting frequency spectrum for unexpected results.\n"
     ]
    },
    {
     "name": "stdout",
     "output_type": "stream",
     "text": [
      "\t\t\tLikelihood = -192,388.4\n",
      "\t\t\tAIC = 384,782.8\n",
      "\t\t\tTheta = 20,139.0\n",
      "\t\t\tChi-Squared = 862,916.48\n",
      "\n",
      "\t\t\tReplicate time: 0:00:30.361765 (H:M:S)\n",
      "\n",
      "\n",
      "\t\tRound 3 Replicate 16 of 30:\n",
      "\n",
      "\t\t\tStarting parameters = [3.802854, 6.247405, 1.226827]\n",
      "\t\t\tOptimized parameters =[6.733916, 26.964098, 0.966502]\n",
      "\n",
      "\t\t\tLikelihood = -569,988.63\n",
      "\t\t\tAIC = 1,139,983.26\n",
      "\t\t\tTheta = 7,512.16\n",
      "\t\t\tChi-Squared = 14,895,471.09\n",
      "\n",
      "\t\t\tReplicate time: 0:00:34.181460 (H:M:S)\n",
      "\n",
      "\n",
      "\t\tRound 3 Replicate 17 of 30:\n",
      "\n",
      "\t\t\tStarting parameters = [2.083856, 20.185459, 0.101215]\n"
     ]
    },
    {
     "name": "stderr",
     "output_type": "stream",
     "text": [
      "WARNING:Numerics:Extrapolation may have failed. Check resulting frequency spectrum for unexpected results.\n",
      "WARNING:Numerics:Extrapolation may have failed. Check resulting frequency spectrum for unexpected results.\n",
      "WARNING:Numerics:Extrapolation may have failed. Check resulting frequency spectrum for unexpected results.\n",
      "WARNING:Numerics:Extrapolation may have failed. Check resulting frequency spectrum for unexpected results.\n",
      "WARNING:Numerics:Extrapolation may have failed. Check resulting frequency spectrum for unexpected results.\n",
      "WARNING:Numerics:Extrapolation may have failed. Check resulting frequency spectrum for unexpected results.\n",
      "WARNING:Numerics:Extrapolation may have failed. Check resulting frequency spectrum for unexpected results.\n",
      "WARNING:Numerics:Extrapolation may have failed. Check resulting frequency spectrum for unexpected results.\n",
      "WARNING:Numerics:Extrapolation may have failed. Check resulting frequency spectrum for unexpected results.\n",
      "WARNING:Numerics:Extrapolation may have failed. Check resulting frequency spectrum for unexpected results.\n",
      "WARNING:Numerics:Extrapolation may have failed. Check resulting frequency spectrum for unexpected results.\n",
      "WARNING:Numerics:Extrapolation may have failed. Check resulting frequency spectrum for unexpected results.\n",
      "WARNING:Numerics:Extrapolation may have failed. Check resulting frequency spectrum for unexpected results.\n",
      "WARNING:Numerics:Extrapolation may have failed. Check resulting frequency spectrum for unexpected results.\n",
      "WARNING:Numerics:Extrapolation may have failed. Check resulting frequency spectrum for unexpected results.\n",
      "WARNING:Numerics:Extrapolation may have failed. Check resulting frequency spectrum for unexpected results.\n",
      "WARNING:Numerics:Extrapolation may have failed. Check resulting frequency spectrum for unexpected results.\n",
      "WARNING:Numerics:Extrapolation may have failed. Check resulting frequency spectrum for unexpected results.\n",
      "WARNING:Numerics:Extrapolation may have failed. Check resulting frequency spectrum for unexpected results.\n",
      "WARNING:Numerics:Extrapolation may have failed. Check resulting frequency spectrum for unexpected results.\n",
      "WARNING:Numerics:Extrapolation may have failed. Check resulting frequency spectrum for unexpected results.\n"
     ]
    },
    {
     "name": "stdout",
     "output_type": "stream",
     "text": [
      "\t\t\tOptimized parameters =[2.276407, 11.442774, 0.029582]\n",
      "\n"
     ]
    },
    {
     "name": "stderr",
     "output_type": "stream",
     "text": [
      "WARNING:Numerics:Extrapolation may have failed. Check resulting frequency spectrum for unexpected results.\n"
     ]
    },
    {
     "name": "stdout",
     "output_type": "stream",
     "text": [
      "\t\t\tLikelihood = -108,401.51\n",
      "\t\t\tAIC = 216,809.02\n",
      "\t\t\tTheta = 46,111.39\n",
      "\t\t\tChi-Squared = 186,621.64\n",
      "\n",
      "\t\t\tReplicate time: 0:00:35.028570 (H:M:S)\n",
      "\n",
      "\n",
      "\t\tRound 3 Replicate 18 of 30:\n",
      "\n",
      "\t\t\tStarting parameters = [28.03834, 9.356025, 0.588685]\n"
     ]
    },
    {
     "name": "stderr",
     "output_type": "stream",
     "text": [
      "WARNING:Numerics:Extrapolation may have failed. Check resulting frequency spectrum for unexpected results.\n",
      "WARNING:Numerics:Extrapolation may have failed. Check resulting frequency spectrum for unexpected results.\n",
      "WARNING:Numerics:Extrapolation may have failed. Check resulting frequency spectrum for unexpected results.\n",
      "WARNING:Numerics:Extrapolation may have failed. Check resulting frequency spectrum for unexpected results.\n",
      "WARNING:Numerics:Extrapolation may have failed. Check resulting frequency spectrum for unexpected results.\n",
      "WARNING:Numerics:Extrapolation may have failed. Check resulting frequency spectrum for unexpected results.\n",
      "WARNING:Numerics:Extrapolation may have failed. Check resulting frequency spectrum for unexpected results.\n",
      "WARNING:Numerics:Extrapolation may have failed. Check resulting frequency spectrum for unexpected results.\n",
      "WARNING:Numerics:Extrapolation may have failed. Check resulting frequency spectrum for unexpected results.\n",
      "WARNING:Numerics:Extrapolation may have failed. Check resulting frequency spectrum for unexpected results.\n",
      "WARNING:Numerics:Extrapolation may have failed. Check resulting frequency spectrum for unexpected results.\n",
      "WARNING:Numerics:Extrapolation may have failed. Check resulting frequency spectrum for unexpected results.\n",
      "WARNING:Numerics:Extrapolation may have failed. Check resulting frequency spectrum for unexpected results.\n",
      "WARNING:Numerics:Extrapolation may have failed. Check resulting frequency spectrum for unexpected results.\n",
      "WARNING:Numerics:Extrapolation may have failed. Check resulting frequency spectrum for unexpected results.\n",
      "WARNING:Numerics:Extrapolation may have failed. Check resulting frequency spectrum for unexpected results.\n",
      "WARNING:Numerics:Extrapolation may have failed. Check resulting frequency spectrum for unexpected results.\n",
      "WARNING:Numerics:Extrapolation may have failed. Check resulting frequency spectrum for unexpected results.\n"
     ]
    },
    {
     "name": "stdout",
     "output_type": "stream",
     "text": [
      "\t\t\tOptimized parameters =[11.107054, 23.459451, 0.54531]\n",
      "\n"
     ]
    },
    {
     "name": "stderr",
     "output_type": "stream",
     "text": [
      "WARNING:Numerics:Extrapolation may have failed. Check resulting frequency spectrum for unexpected results.\n"
     ]
    },
    {
     "name": "stdout",
     "output_type": "stream",
     "text": [
      "\t\t\tLikelihood = -372,726.84\n",
      "\t\t\tAIC = 745,459.68\n",
      "\t\t\tTheta = 9,466.88\n",
      "\t\t\tChi-Squared = 4,150,357.95\n",
      "\n",
      "\t\t\tReplicate time: 0:00:30.726799 (H:M:S)\n",
      "\n",
      "\n",
      "\t\tRound 3 Replicate 19 of 30:\n",
      "\n",
      "\t\t\tStarting parameters = [21.820261, 9.765305, 0.290762]\n"
     ]
    },
    {
     "name": "stderr",
     "output_type": "stream",
     "text": [
      "WARNING:Numerics:Extrapolation may have failed. Check resulting frequency spectrum for unexpected results.\n",
      "WARNING:Numerics:Extrapolation may have failed. Check resulting frequency spectrum for unexpected results.\n",
      "WARNING:Numerics:Extrapolation may have failed. Check resulting frequency spectrum for unexpected results.\n",
      "WARNING:Numerics:Extrapolation may have failed. Check resulting frequency spectrum for unexpected results.\n",
      "WARNING:Numerics:Extrapolation may have failed. Check resulting frequency spectrum for unexpected results.\n",
      "WARNING:Numerics:Extrapolation may have failed. Check resulting frequency spectrum for unexpected results.\n",
      "WARNING:Numerics:Extrapolation may have failed. Check resulting frequency spectrum for unexpected results.\n",
      "WARNING:Numerics:Extrapolation may have failed. Check resulting frequency spectrum for unexpected results.\n",
      "WARNING:Numerics:Extrapolation may have failed. Check resulting frequency spectrum for unexpected results.\n",
      "WARNING:Numerics:Extrapolation may have failed. Check resulting frequency spectrum for unexpected results.\n",
      "WARNING:Numerics:Extrapolation may have failed. Check resulting frequency spectrum for unexpected results.\n",
      "WARNING:Numerics:Extrapolation may have failed. Check resulting frequency spectrum for unexpected results.\n",
      "WARNING:Numerics:Extrapolation may have failed. Check resulting frequency spectrum for unexpected results.\n",
      "WARNING:Numerics:Extrapolation may have failed. Check resulting frequency spectrum for unexpected results.\n",
      "WARNING:Numerics:Extrapolation may have failed. Check resulting frequency spectrum for unexpected results.\n",
      "WARNING:Numerics:Extrapolation may have failed. Check resulting frequency spectrum for unexpected results.\n",
      "WARNING:Numerics:Extrapolation may have failed. Check resulting frequency spectrum for unexpected results.\n",
      "WARNING:Numerics:Extrapolation may have failed. Check resulting frequency spectrum for unexpected results.\n",
      "WARNING:Numerics:Extrapolation may have failed. Check resulting frequency spectrum for unexpected results.\n"
     ]
    },
    {
     "name": "stdout",
     "output_type": "stream",
     "text": [
      "\t\t\tOptimized parameters =[9.267325, 19.346017, 0.190001]\n",
      "\n"
     ]
    },
    {
     "name": "stderr",
     "output_type": "stream",
     "text": [
      "WARNING:Numerics:Extrapolation may have failed. Check resulting frequency spectrum for unexpected results.\n"
     ]
    },
    {
     "name": "stdout",
     "output_type": "stream",
     "text": [
      "\t\t\tLikelihood = -192,034.94\n",
      "\t\t\tAIC = 384,075.88\n",
      "\t\t\tTheta = 17,694.65\n",
      "\t\t\tChi-Squared = 850,694.65\n",
      "\n",
      "\t\t\tReplicate time: 0:00:32.056790 (H:M:S)\n",
      "\n",
      "\n",
      "\t\tRound 3 Replicate 20 of 30:\n",
      "\n",
      "\t\t\tStarting parameters = [2.338297, 23.477419, 0.140772]\n"
     ]
    },
    {
     "name": "stderr",
     "output_type": "stream",
     "text": [
      "WARNING:Numerics:Extrapolation may have failed. Check resulting frequency spectrum for unexpected results.\n",
      "WARNING:Numerics:Extrapolation may have failed. Check resulting frequency spectrum for unexpected results.\n",
      "WARNING:Numerics:Extrapolation may have failed. Check resulting frequency spectrum for unexpected results.\n",
      "WARNING:Numerics:Extrapolation may have failed. Check resulting frequency spectrum for unexpected results.\n",
      "WARNING:Numerics:Extrapolation may have failed. Check resulting frequency spectrum for unexpected results.\n",
      "WARNING:Numerics:Extrapolation may have failed. Check resulting frequency spectrum for unexpected results.\n",
      "WARNING:Numerics:Extrapolation may have failed. Check resulting frequency spectrum for unexpected results.\n",
      "WARNING:Numerics:Extrapolation may have failed. Check resulting frequency spectrum for unexpected results.\n",
      "WARNING:Numerics:Extrapolation may have failed. Check resulting frequency spectrum for unexpected results.\n",
      "WARNING:Numerics:Extrapolation may have failed. Check resulting frequency spectrum for unexpected results.\n",
      "WARNING:Numerics:Extrapolation may have failed. Check resulting frequency spectrum for unexpected results.\n",
      "WARNING:Numerics:Extrapolation may have failed. Check resulting frequency spectrum for unexpected results.\n",
      "WARNING:Numerics:Extrapolation may have failed. Check resulting frequency spectrum for unexpected results.\n",
      "WARNING:Numerics:Extrapolation may have failed. Check resulting frequency spectrum for unexpected results.\n",
      "WARNING:Numerics:Extrapolation may have failed. Check resulting frequency spectrum for unexpected results.\n",
      "WARNING:Numerics:Extrapolation may have failed. Check resulting frequency spectrum for unexpected results.\n",
      "WARNING:Numerics:Extrapolation may have failed. Check resulting frequency spectrum for unexpected results.\n",
      "WARNING:Numerics:Extrapolation may have failed. Check resulting frequency spectrum for unexpected results.\n",
      "WARNING:Numerics:Extrapolation may have failed. Check resulting frequency spectrum for unexpected results.\n",
      "WARNING:Numerics:Extrapolation may have failed. Check resulting frequency spectrum for unexpected results.\n"
     ]
    },
    {
     "name": "stdout",
     "output_type": "stream",
     "text": [
      "\t\t\tOptimized parameters =[2.557638, 11.241699, 0.038933]\n",
      "\n"
     ]
    },
    {
     "name": "stderr",
     "output_type": "stream",
     "text": [
      "WARNING:Numerics:Extrapolation may have failed. Check resulting frequency spectrum for unexpected results.\n"
     ]
    },
    {
     "name": "stdout",
     "output_type": "stream",
     "text": [
      "\t\t\tLikelihood = -107,929.7\n",
      "\t\t\tAIC = 215,865.4\n",
      "\t\t\tTheta = 42,055.7\n",
      "\t\t\tChi-Squared = 207,858.71\n",
      "\n",
      "\t\t\tReplicate time: 0:00:33.783644 (H:M:S)\n",
      "\n",
      "\n",
      "\t\tRound 3 Replicate 21 of 30:\n",
      "\n",
      "\t\t\tStarting parameters = [13.066773, 4.482161, 0.347529]\n"
     ]
    },
    {
     "name": "stderr",
     "output_type": "stream",
     "text": [
      "WARNING:Numerics:Extrapolation may have failed. Check resulting frequency spectrum for unexpected results.\n",
      "WARNING:Numerics:Extrapolation may have failed. Check resulting frequency spectrum for unexpected results.\n",
      "WARNING:Numerics:Extrapolation may have failed. Check resulting frequency spectrum for unexpected results.\n",
      "WARNING:Numerics:Extrapolation may have failed. Check resulting frequency spectrum for unexpected results.\n",
      "WARNING:Numerics:Extrapolation may have failed. Check resulting frequency spectrum for unexpected results.\n",
      "WARNING:Numerics:Extrapolation may have failed. Check resulting frequency spectrum for unexpected results.\n",
      "WARNING:Numerics:Extrapolation may have failed. Check resulting frequency spectrum for unexpected results.\n",
      "WARNING:Numerics:Extrapolation may have failed. Check resulting frequency spectrum for unexpected results.\n",
      "WARNING:Numerics:Extrapolation may have failed. Check resulting frequency spectrum for unexpected results.\n",
      "WARNING:Numerics:Extrapolation may have failed. Check resulting frequency spectrum for unexpected results.\n",
      "WARNING:Numerics:Extrapolation may have failed. Check resulting frequency spectrum for unexpected results.\n",
      "WARNING:Numerics:Extrapolation may have failed. Check resulting frequency spectrum for unexpected results.\n",
      "WARNING:Numerics:Extrapolation may have failed. Check resulting frequency spectrum for unexpected results.\n",
      "WARNING:Numerics:Extrapolation may have failed. Check resulting frequency spectrum for unexpected results.\n",
      "WARNING:Numerics:Extrapolation may have failed. Check resulting frequency spectrum for unexpected results.\n",
      "WARNING:Numerics:Extrapolation may have failed. Check resulting frequency spectrum for unexpected results.\n",
      "WARNING:Numerics:Extrapolation may have failed. Check resulting frequency spectrum for unexpected results.\n",
      "WARNING:Numerics:Extrapolation may have failed. Check resulting frequency spectrum for unexpected results.\n",
      "WARNING:Numerics:Extrapolation may have failed. Check resulting frequency spectrum for unexpected results.\n"
     ]
    },
    {
     "name": "stdout",
     "output_type": "stream",
     "text": [
      "\t\t\tOptimized parameters =[4.964582, 7.542187, 0.235878]\n",
      "\n"
     ]
    },
    {
     "name": "stderr",
     "output_type": "stream",
     "text": [
      "WARNING:Numerics:Extrapolation may have failed. Check resulting frequency spectrum for unexpected results.\n"
     ]
    },
    {
     "name": "stdout",
     "output_type": "stream",
     "text": [
      "\t\t\tLikelihood = -303,023.75\n",
      "\t\t\tAIC = 606,053.5\n",
      "\t\t\tTheta = 20,370.77\n",
      "\t\t\tChi-Squared = 2,233,795.86\n",
      "\n",
      "\t\t\tReplicate time: 0:00:32.467943 (H:M:S)\n",
      "\n",
      "\n",
      "\t\tRound 3 Replicate 22 of 30:\n",
      "\n",
      "\t\t\tStarting parameters = [7.27564, 3.832653, 1.038753]\n"
     ]
    },
    {
     "name": "stderr",
     "output_type": "stream",
     "text": [
      "WARNING:Numerics:Extrapolation may have failed. Check resulting frequency spectrum for unexpected results.\n"
     ]
    },
    {
     "name": "stdout",
     "output_type": "stream",
     "text": [
      "\t\t\tOptimized parameters =[11.560443, 26.293526, 1.013396]\n",
      "\n"
     ]
    },
    {
     "name": "stderr",
     "output_type": "stream",
     "text": [
      "WARNING:Numerics:Extrapolation may have failed. Check resulting frequency spectrum for unexpected results.\n"
     ]
    },
    {
     "name": "stdout",
     "output_type": "stream",
     "text": [
      "\t\t\tLikelihood = -523,473.76\n",
      "\t\t\tAIC = 1,046,953.52\n",
      "\t\t\tTheta = 6,760.61\n",
      "\t\t\tChi-Squared = 10,687,489.19\n",
      "\n",
      "\t\t\tReplicate time: 0:00:35.641720 (H:M:S)\n",
      "\n",
      "\n",
      "\t\tRound 3 Replicate 23 of 30:\n",
      "\n",
      "\t\t\tStarting parameters = [6.50604, 7.346669, 0.462506]\n"
     ]
    },
    {
     "name": "stderr",
     "output_type": "stream",
     "text": [
      "WARNING:Numerics:Extrapolation may have failed. Check resulting frequency spectrum for unexpected results.\n",
      "WARNING:Numerics:Extrapolation may have failed. Check resulting frequency spectrum for unexpected results.\n",
      "WARNING:Numerics:Extrapolation may have failed. Check resulting frequency spectrum for unexpected results.\n",
      "WARNING:Numerics:Extrapolation may have failed. Check resulting frequency spectrum for unexpected results.\n",
      "WARNING:Numerics:Extrapolation may have failed. Check resulting frequency spectrum for unexpected results.\n",
      "WARNING:Numerics:Extrapolation may have failed. Check resulting frequency spectrum for unexpected results.\n",
      "WARNING:Numerics:Extrapolation may have failed. Check resulting frequency spectrum for unexpected results.\n",
      "WARNING:Numerics:Extrapolation may have failed. Check resulting frequency spectrum for unexpected results.\n",
      "WARNING:Numerics:Extrapolation may have failed. Check resulting frequency spectrum for unexpected results.\n",
      "WARNING:Numerics:Extrapolation may have failed. Check resulting frequency spectrum for unexpected results.\n",
      "WARNING:Numerics:Extrapolation may have failed. Check resulting frequency spectrum for unexpected results.\n",
      "WARNING:Numerics:Extrapolation may have failed. Check resulting frequency spectrum for unexpected results.\n",
      "WARNING:Numerics:Extrapolation may have failed. Check resulting frequency spectrum for unexpected results.\n",
      "WARNING:Numerics:Extrapolation may have failed. Check resulting frequency spectrum for unexpected results.\n",
      "WARNING:Numerics:Extrapolation may have failed. Check resulting frequency spectrum for unexpected results.\n",
      "WARNING:Numerics:Extrapolation may have failed. Check resulting frequency spectrum for unexpected results.\n"
     ]
    },
    {
     "name": "stdout",
     "output_type": "stream",
     "text": [
      "\t\t\tOptimized parameters =[10.071418, 19.912953, 0.371735]\n",
      "\n"
     ]
    },
    {
     "name": "stderr",
     "output_type": "stream",
     "text": [
      "WARNING:Numerics:Extrapolation may have failed. Check resulting frequency spectrum for unexpected results.\n"
     ]
    },
    {
     "name": "stdout",
     "output_type": "stream",
     "text": [
      "\t\t\tLikelihood = -300,994.48\n",
      "\t\t\tAIC = 601,994.96\n",
      "\t\t\tTheta = 12,130.29\n",
      "\t\t\tChi-Squared = 2,408,128.71\n",
      "\n",
      "\t\t\tReplicate time: 0:00:30.747114 (H:M:S)\n",
      "\n",
      "\n",
      "\t\tRound 3 Replicate 24 of 30:\n",
      "\n",
      "\t\t\tStarting parameters = [16.706382, 15.450708, 0.113888]\n"
     ]
    },
    {
     "name": "stderr",
     "output_type": "stream",
     "text": [
      "WARNING:Numerics:Extrapolation may have failed. Check resulting frequency spectrum for unexpected results.\n",
      "WARNING:Numerics:Extrapolation may have failed. Check resulting frequency spectrum for unexpected results.\n",
      "WARNING:Numerics:Extrapolation may have failed. Check resulting frequency spectrum for unexpected results.\n",
      "WARNING:Numerics:Extrapolation may have failed. Check resulting frequency spectrum for unexpected results.\n",
      "WARNING:Numerics:Extrapolation may have failed. Check resulting frequency spectrum for unexpected results.\n",
      "WARNING:Numerics:Extrapolation may have failed. Check resulting frequency spectrum for unexpected results.\n",
      "WARNING:Numerics:Extrapolation may have failed. Check resulting frequency spectrum for unexpected results.\n",
      "WARNING:Numerics:Extrapolation may have failed. Check resulting frequency spectrum for unexpected results.\n",
      "WARNING:Numerics:Extrapolation may have failed. Check resulting frequency spectrum for unexpected results.\n",
      "WARNING:Numerics:Extrapolation may have failed. Check resulting frequency spectrum for unexpected results.\n",
      "WARNING:Numerics:Extrapolation may have failed. Check resulting frequency spectrum for unexpected results.\n",
      "WARNING:Numerics:Extrapolation may have failed. Check resulting frequency spectrum for unexpected results.\n",
      "WARNING:Numerics:Extrapolation may have failed. Check resulting frequency spectrum for unexpected results.\n",
      "WARNING:Numerics:Extrapolation may have failed. Check resulting frequency spectrum for unexpected results.\n",
      "WARNING:Numerics:Extrapolation may have failed. Check resulting frequency spectrum for unexpected results.\n",
      "WARNING:Numerics:Extrapolation may have failed. Check resulting frequency spectrum for unexpected results.\n",
      "WARNING:Numerics:Extrapolation may have failed. Check resulting frequency spectrum for unexpected results.\n",
      "WARNING:Numerics:Extrapolation may have failed. Check resulting frequency spectrum for unexpected results.\n"
     ]
    },
    {
     "name": "stdout",
     "output_type": "stream",
     "text": [
      "\t\t\tOptimized parameters =[2.807955, 24.384083, 0.033252]\n",
      "\n"
     ]
    },
    {
     "name": "stderr",
     "output_type": "stream",
     "text": [
      "WARNING:Numerics:Extrapolation may have failed. Check resulting frequency spectrum for unexpected results.\n"
     ]
    },
    {
     "name": "stdout",
     "output_type": "stream",
     "text": [
      "\t\t\tLikelihood = -108,954.65\n",
      "\t\t\tAIC = 217,915.3\n",
      "\t\t\tTheta = 42,918.29\n",
      "\t\t\tChi-Squared = 199,494.83\n",
      "\n",
      "\t\t\tReplicate time: 0:00:30.415566 (H:M:S)\n",
      "\n",
      "\n",
      "\t\tRound 3 Replicate 25 of 30:\n",
      "\n",
      "\t\t\tStarting parameters = [15.424744, 13.363616, 0.413927]\n"
     ]
    },
    {
     "name": "stderr",
     "output_type": "stream",
     "text": [
      "WARNING:Numerics:Extrapolation may have failed. Check resulting frequency spectrum for unexpected results.\n",
      "WARNING:Numerics:Extrapolation may have failed. Check resulting frequency spectrum for unexpected results.\n",
      "WARNING:Numerics:Extrapolation may have failed. Check resulting frequency spectrum for unexpected results.\n",
      "WARNING:Numerics:Extrapolation may have failed. Check resulting frequency spectrum for unexpected results.\n",
      "WARNING:Numerics:Extrapolation may have failed. Check resulting frequency spectrum for unexpected results.\n",
      "WARNING:Numerics:Extrapolation may have failed. Check resulting frequency spectrum for unexpected results.\n",
      "WARNING:Numerics:Extrapolation may have failed. Check resulting frequency spectrum for unexpected results.\n",
      "WARNING:Numerics:Extrapolation may have failed. Check resulting frequency spectrum for unexpected results.\n",
      "WARNING:Numerics:Extrapolation may have failed. Check resulting frequency spectrum for unexpected results.\n",
      "WARNING:Numerics:Extrapolation may have failed. Check resulting frequency spectrum for unexpected results.\n",
      "WARNING:Numerics:Extrapolation may have failed. Check resulting frequency spectrum for unexpected results.\n",
      "WARNING:Numerics:Extrapolation may have failed. Check resulting frequency spectrum for unexpected results.\n",
      "WARNING:Numerics:Extrapolation may have failed. Check resulting frequency spectrum for unexpected results.\n",
      "WARNING:Numerics:Extrapolation may have failed. Check resulting frequency spectrum for unexpected results.\n",
      "WARNING:Numerics:Extrapolation may have failed. Check resulting frequency spectrum for unexpected results.\n",
      "WARNING:Numerics:Extrapolation may have failed. Check resulting frequency spectrum for unexpected results.\n",
      "WARNING:Numerics:Extrapolation may have failed. Check resulting frequency spectrum for unexpected results.\n",
      "WARNING:Numerics:Extrapolation may have failed. Check resulting frequency spectrum for unexpected results.\n"
     ]
    },
    {
     "name": "stdout",
     "output_type": "stream",
     "text": [
      "\t\t\tOptimized parameters =[13.452626, 25.550828, 0.254819]\n",
      "\n"
     ]
    },
    {
     "name": "stderr",
     "output_type": "stream",
     "text": [
      "WARNING:Numerics:Extrapolation may have failed. Check resulting frequency spectrum for unexpected results.\n"
     ]
    },
    {
     "name": "stdout",
     "output_type": "stream",
     "text": [
      "\t\t\tLikelihood = -220,004.16\n",
      "\t\t\tAIC = 440,014.32\n",
      "\t\t\tTheta = 13,918.14\n",
      "\t\t\tChi-Squared = 1,088,673.97\n",
      "\n",
      "\t\t\tReplicate time: 0:00:30.449260 (H:M:S)\n",
      "\n",
      "\n",
      "\t\tRound 3 Replicate 26 of 30:\n",
      "\n",
      "\t\t\tStarting parameters = [19.130803, 13.368672, 0.114676]\n"
     ]
    },
    {
     "name": "stderr",
     "output_type": "stream",
     "text": [
      "WARNING:Numerics:Extrapolation may have failed. Check resulting frequency spectrum for unexpected results.\n",
      "WARNING:Numerics:Extrapolation may have failed. Check resulting frequency spectrum for unexpected results.\n",
      "WARNING:Numerics:Extrapolation may have failed. Check resulting frequency spectrum for unexpected results.\n",
      "WARNING:Numerics:Extrapolation may have failed. Check resulting frequency spectrum for unexpected results.\n",
      "WARNING:Numerics:Extrapolation may have failed. Check resulting frequency spectrum for unexpected results.\n",
      "WARNING:Numerics:Extrapolation may have failed. Check resulting frequency spectrum for unexpected results.\n",
      "WARNING:Numerics:Extrapolation may have failed. Check resulting frequency spectrum for unexpected results.\n",
      "WARNING:Numerics:Extrapolation may have failed. Check resulting frequency spectrum for unexpected results.\n",
      "WARNING:Numerics:Extrapolation may have failed. Check resulting frequency spectrum for unexpected results.\n",
      "WARNING:Numerics:Extrapolation may have failed. Check resulting frequency spectrum for unexpected results.\n",
      "WARNING:Numerics:Extrapolation may have failed. Check resulting frequency spectrum for unexpected results.\n",
      "WARNING:Numerics:Extrapolation may have failed. Check resulting frequency spectrum for unexpected results.\n",
      "WARNING:Numerics:Extrapolation may have failed. Check resulting frequency spectrum for unexpected results.\n",
      "WARNING:Numerics:Extrapolation may have failed. Check resulting frequency spectrum for unexpected results.\n",
      "WARNING:Numerics:Extrapolation may have failed. Check resulting frequency spectrum for unexpected results.\n",
      "WARNING:Numerics:Extrapolation may have failed. Check resulting frequency spectrum for unexpected results.\n",
      "WARNING:Numerics:Extrapolation may have failed. Check resulting frequency spectrum for unexpected results.\n",
      "WARNING:Numerics:Extrapolation may have failed. Check resulting frequency spectrum for unexpected results.\n",
      "WARNING:Numerics:Extrapolation may have failed. Check resulting frequency spectrum for unexpected results.\n"
     ]
    },
    {
     "name": "stdout",
     "output_type": "stream",
     "text": [
      "\t\t\tOptimized parameters =[2.950998, 24.481736, 0.038833]\n",
      "\n"
     ]
    },
    {
     "name": "stderr",
     "output_type": "stream",
     "text": [
      "WARNING:Numerics:Extrapolation may have failed. Check resulting frequency spectrum for unexpected results.\n"
     ]
    },
    {
     "name": "stdout",
     "output_type": "stream",
     "text": [
      "\t\t\tLikelihood = -108,956.97\n",
      "\t\t\tAIC = 217,919.94\n",
      "\t\t\tTheta = 40,439.39\n",
      "\t\t\tChi-Squared = 210,605.36\n",
      "\n",
      "\t\t\tReplicate time: 0:00:31.966469 (H:M:S)\n",
      "\n",
      "\n",
      "\t\tRound 3 Replicate 27 of 30:\n",
      "\n",
      "\t\t\tStarting parameters = [21.759101, 20.194362, 0.264331]\n"
     ]
    },
    {
     "name": "stderr",
     "output_type": "stream",
     "text": [
      "WARNING:Numerics:Extrapolation may have failed. Check resulting frequency spectrum for unexpected results.\n",
      "WARNING:Numerics:Extrapolation may have failed. Check resulting frequency spectrum for unexpected results.\n",
      "WARNING:Numerics:Extrapolation may have failed. Check resulting frequency spectrum for unexpected results.\n",
      "WARNING:Numerics:Extrapolation may have failed. Check resulting frequency spectrum for unexpected results.\n",
      "WARNING:Numerics:Extrapolation may have failed. Check resulting frequency spectrum for unexpected results.\n",
      "WARNING:Numerics:Extrapolation may have failed. Check resulting frequency spectrum for unexpected results.\n",
      "WARNING:Numerics:Extrapolation may have failed. Check resulting frequency spectrum for unexpected results.\n",
      "WARNING:Numerics:Extrapolation may have failed. Check resulting frequency spectrum for unexpected results.\n",
      "WARNING:Numerics:Extrapolation may have failed. Check resulting frequency spectrum for unexpected results.\n",
      "WARNING:Numerics:Extrapolation may have failed. Check resulting frequency spectrum for unexpected results.\n",
      "WARNING:Numerics:Extrapolation may have failed. Check resulting frequency spectrum for unexpected results.\n",
      "WARNING:Numerics:Extrapolation may have failed. Check resulting frequency spectrum for unexpected results.\n",
      "WARNING:Numerics:Extrapolation may have failed. Check resulting frequency spectrum for unexpected results.\n",
      "WARNING:Numerics:Extrapolation may have failed. Check resulting frequency spectrum for unexpected results.\n",
      "WARNING:Numerics:Extrapolation may have failed. Check resulting frequency spectrum for unexpected results.\n",
      "WARNING:Numerics:Extrapolation may have failed. Check resulting frequency spectrum for unexpected results.\n",
      "WARNING:Numerics:Extrapolation may have failed. Check resulting frequency spectrum for unexpected results.\n",
      "WARNING:Numerics:Extrapolation may have failed. Check resulting frequency spectrum for unexpected results.\n",
      "WARNING:Numerics:Extrapolation may have failed. Check resulting frequency spectrum for unexpected results.\n"
     ]
    },
    {
     "name": "stdout",
     "output_type": "stream",
     "text": [
      "\t\t\tOptimized parameters =[5.927332, 14.142826, 0.04769]\n",
      "\n"
     ]
    },
    {
     "name": "stderr",
     "output_type": "stream",
     "text": [
      "WARNING:Numerics:Extrapolation may have failed. Check resulting frequency spectrum for unexpected results.\n"
     ]
    },
    {
     "name": "stdout",
     "output_type": "stream",
     "text": [
      "\t\t\tLikelihood = -109,417.27\n",
      "\t\t\tAIC = 218,840.54\n",
      "\t\t\tTheta = 37,242.49\n",
      "\t\t\tChi-Squared = 214,081.78\n",
      "\n",
      "\t\t\tReplicate time: 0:00:32.119088 (H:M:S)\n",
      "\n",
      "\n",
      "\t\tRound 3 Replicate 28 of 30:\n",
      "\n",
      "\t\t\tStarting parameters = [26.6241, 5.969117, 0.278128]\n"
     ]
    },
    {
     "name": "stderr",
     "output_type": "stream",
     "text": [
      "WARNING:Numerics:Extrapolation may have failed. Check resulting frequency spectrum for unexpected results.\n",
      "WARNING:Numerics:Extrapolation may have failed. Check resulting frequency spectrum for unexpected results.\n",
      "WARNING:Numerics:Extrapolation may have failed. Check resulting frequency spectrum for unexpected results.\n",
      "WARNING:Numerics:Extrapolation may have failed. Check resulting frequency spectrum for unexpected results.\n",
      "WARNING:Numerics:Extrapolation may have failed. Check resulting frequency spectrum for unexpected results.\n",
      "WARNING:Numerics:Extrapolation may have failed. Check resulting frequency spectrum for unexpected results.\n",
      "WARNING:Numerics:Extrapolation may have failed. Check resulting frequency spectrum for unexpected results.\n",
      "WARNING:Numerics:Extrapolation may have failed. Check resulting frequency spectrum for unexpected results.\n",
      "WARNING:Numerics:Extrapolation may have failed. Check resulting frequency spectrum for unexpected results.\n",
      "WARNING:Numerics:Extrapolation may have failed. Check resulting frequency spectrum for unexpected results.\n",
      "WARNING:Numerics:Extrapolation may have failed. Check resulting frequency spectrum for unexpected results.\n",
      "WARNING:Numerics:Extrapolation may have failed. Check resulting frequency spectrum for unexpected results.\n",
      "WARNING:Numerics:Extrapolation may have failed. Check resulting frequency spectrum for unexpected results.\n",
      "WARNING:Numerics:Extrapolation may have failed. Check resulting frequency spectrum for unexpected results.\n",
      "WARNING:Numerics:Extrapolation may have failed. Check resulting frequency spectrum for unexpected results.\n",
      "WARNING:Numerics:Extrapolation may have failed. Check resulting frequency spectrum for unexpected results.\n",
      "WARNING:Numerics:Extrapolation may have failed. Check resulting frequency spectrum for unexpected results.\n"
     ]
    },
    {
     "name": "stdout",
     "output_type": "stream",
     "text": [
      "\t\t\tOptimized parameters =[3.716293, 13.381553, 0.150552]\n",
      "\n"
     ]
    },
    {
     "name": "stderr",
     "output_type": "stream",
     "text": [
      "WARNING:Numerics:Extrapolation may have failed. Check resulting frequency spectrum for unexpected results.\n"
     ]
    },
    {
     "name": "stdout",
     "output_type": "stream",
     "text": [
      "\t\t\tLikelihood = -206,531.61\n",
      "\t\t\tAIC = 413,069.22\n",
      "\t\t\tTheta = 22,952.97\n",
      "\t\t\tChi-Squared = 1,103,752.79\n",
      "\n",
      "\t\t\tReplicate time: 0:00:29.603917 (H:M:S)\n",
      "\n",
      "\n",
      "\t\tRound 3 Replicate 29 of 30:\n",
      "\n",
      "\t\t\tStarting parameters = [11.50415, 24.204698, 0.13913]\n"
     ]
    },
    {
     "name": "stderr",
     "output_type": "stream",
     "text": [
      "WARNING:Numerics:Extrapolation may have failed. Check resulting frequency spectrum for unexpected results.\n",
      "WARNING:Numerics:Extrapolation may have failed. Check resulting frequency spectrum for unexpected results.\n",
      "WARNING:Numerics:Extrapolation may have failed. Check resulting frequency spectrum for unexpected results.\n",
      "WARNING:Numerics:Extrapolation may have failed. Check resulting frequency spectrum for unexpected results.\n",
      "WARNING:Numerics:Extrapolation may have failed. Check resulting frequency spectrum for unexpected results.\n",
      "WARNING:Numerics:Extrapolation may have failed. Check resulting frequency spectrum for unexpected results.\n",
      "WARNING:Numerics:Extrapolation may have failed. Check resulting frequency spectrum for unexpected results.\n",
      "WARNING:Numerics:Extrapolation may have failed. Check resulting frequency spectrum for unexpected results.\n",
      "WARNING:Numerics:Extrapolation may have failed. Check resulting frequency spectrum for unexpected results.\n",
      "WARNING:Numerics:Extrapolation may have failed. Check resulting frequency spectrum for unexpected results.\n",
      "WARNING:Numerics:Extrapolation may have failed. Check resulting frequency spectrum for unexpected results.\n",
      "WARNING:Numerics:Extrapolation may have failed. Check resulting frequency spectrum for unexpected results.\n",
      "WARNING:Numerics:Extrapolation may have failed. Check resulting frequency spectrum for unexpected results.\n",
      "WARNING:Numerics:Extrapolation may have failed. Check resulting frequency spectrum for unexpected results.\n",
      "WARNING:Numerics:Extrapolation may have failed. Check resulting frequency spectrum for unexpected results.\n",
      "WARNING:Numerics:Extrapolation may have failed. Check resulting frequency spectrum for unexpected results.\n",
      "WARNING:Numerics:Extrapolation may have failed. Check resulting frequency spectrum for unexpected results.\n",
      "WARNING:Numerics:Extrapolation may have failed. Check resulting frequency spectrum for unexpected results.\n",
      "WARNING:Numerics:Extrapolation may have failed. Check resulting frequency spectrum for unexpected results.\n",
      "WARNING:Numerics:Extrapolation may have failed. Check resulting frequency spectrum for unexpected results.\n",
      "WARNING:Numerics:Extrapolation may have failed. Check resulting frequency spectrum for unexpected results.\n"
     ]
    },
    {
     "name": "stdout",
     "output_type": "stream",
     "text": [
      "\t\t\tOptimized parameters =[3.580979, 11.507732, 0.038184]\n",
      "\n"
     ]
    },
    {
     "name": "stderr",
     "output_type": "stream",
     "text": [
      "WARNING:Numerics:Extrapolation may have failed. Check resulting frequency spectrum for unexpected results.\n"
     ]
    },
    {
     "name": "stdout",
     "output_type": "stream",
     "text": [
      "\t\t\tLikelihood = -106,839.13\n",
      "\t\t\tAIC = 213,684.26\n",
      "\t\t\tTheta = 41,647.52\n",
      "\t\t\tChi-Squared = 195,255.05\n",
      "\n",
      "\t\t\tReplicate time: 0:00:35.274004 (H:M:S)\n",
      "\n",
      "\n",
      "\t\tRound 3 Replicate 30 of 30:\n",
      "\n",
      "\t\t\tStarting parameters = [2.479859, 4.098203, 1.244034]\n",
      "\t\t\tOptimized parameters =[4.276447, 21.751823, 0.903119]\n",
      "\n",
      "\t\t\tLikelihood = -625,317.94\n",
      "\t\t\tAIC = 1,250,641.88\n",
      "\t\t\tTheta = 8,913.39\n",
      "\t\t\tChi-Squared = 20,019,217.17\n",
      "\n",
      "\t\t\tReplicate time: 0:00:37.996761 (H:M:S)\n",
      "\n",
      "\n",
      "\t----------------------------------------------\n",
      "\tBest replicate: Round_3_Replicate_29\n",
      "\t\tLikelihood = -106,839.13\n",
      "\t\tAIC = 213,684.26\n",
      "\t\tChi-Squared = 195,255.05\n",
      "\t\tParams = [4.2764, 21.7518, 0.9031]\n",
      "\t----------------------------------------------\n",
      "\n",
      "\n",
      "\tBeginning Optimizations for Round 4:\n",
      "\n",
      "\t\tRound 4 Replicate 1 of 40:\n",
      "\n",
      "\t\t\tStarting parameters = [5.658192, 10.33416, 0.061617]\n"
     ]
    },
    {
     "name": "stderr",
     "output_type": "stream",
     "text": [
      "WARNING:Numerics:Extrapolation may have failed. Check resulting frequency spectrum for unexpected results.\n",
      "WARNING:Numerics:Extrapolation may have failed. Check resulting frequency spectrum for unexpected results.\n",
      "WARNING:Numerics:Extrapolation may have failed. Check resulting frequency spectrum for unexpected results.\n",
      "WARNING:Numerics:Extrapolation may have failed. Check resulting frequency spectrum for unexpected results.\n",
      "WARNING:Numerics:Extrapolation may have failed. Check resulting frequency spectrum for unexpected results.\n",
      "WARNING:Numerics:Extrapolation may have failed. Check resulting frequency spectrum for unexpected results.\n",
      "WARNING:Numerics:Extrapolation may have failed. Check resulting frequency spectrum for unexpected results.\n",
      "WARNING:Numerics:Extrapolation may have failed. Check resulting frequency spectrum for unexpected results.\n",
      "WARNING:Numerics:Extrapolation may have failed. Check resulting frequency spectrum for unexpected results.\n",
      "WARNING:Numerics:Extrapolation may have failed. Check resulting frequency spectrum for unexpected results.\n",
      "WARNING:Numerics:Extrapolation may have failed. Check resulting frequency spectrum for unexpected results.\n",
      "WARNING:Numerics:Extrapolation may have failed. Check resulting frequency spectrum for unexpected results.\n",
      "WARNING:Numerics:Extrapolation may have failed. Check resulting frequency spectrum for unexpected results.\n",
      "WARNING:Numerics:Extrapolation may have failed. Check resulting frequency spectrum for unexpected results.\n",
      "WARNING:Numerics:Extrapolation may have failed. Check resulting frequency spectrum for unexpected results.\n",
      "WARNING:Numerics:Extrapolation may have failed. Check resulting frequency spectrum for unexpected results.\n",
      "WARNING:Numerics:Extrapolation may have failed. Check resulting frequency spectrum for unexpected results.\n",
      "WARNING:Numerics:Extrapolation may have failed. Check resulting frequency spectrum for unexpected results.\n",
      "WARNING:Numerics:Extrapolation may have failed. Check resulting frequency spectrum for unexpected results.\n",
      "WARNING:Numerics:Extrapolation may have failed. Check resulting frequency spectrum for unexpected results.\n",
      "WARNING:Numerics:Extrapolation may have failed. Check resulting frequency spectrum for unexpected results.\n",
      "WARNING:Numerics:Extrapolation may have failed. Check resulting frequency spectrum for unexpected results.\n",
      "WARNING:Numerics:Extrapolation may have failed. Check resulting frequency spectrum for unexpected results.\n",
      "WARNING:Numerics:Extrapolation may have failed. Check resulting frequency spectrum for unexpected results.\n",
      "WARNING:Numerics:Extrapolation may have failed. Check resulting frequency spectrum for unexpected results.\n",
      "WARNING:Numerics:Extrapolation may have failed. Check resulting frequency spectrum for unexpected results.\n",
      "WARNING:Numerics:Extrapolation may have failed. Check resulting frequency spectrum for unexpected results.\n",
      "WARNING:Numerics:Extrapolation may have failed. Check resulting frequency spectrum for unexpected results.\n",
      "WARNING:Numerics:Extrapolation may have failed. Check resulting frequency spectrum for unexpected results.\n",
      "WARNING:Numerics:Extrapolation may have failed. Check resulting frequency spectrum for unexpected results.\n"
     ]
    },
    {
     "name": "stdout",
     "output_type": "stream",
     "text": [
      "\t\t\tOptimized parameters =[3.187306, 13.731271, 0.038008]\n",
      "\n"
     ]
    },
    {
     "name": "stderr",
     "output_type": "stream",
     "text": [
      "WARNING:Numerics:Extrapolation may have failed. Check resulting frequency spectrum for unexpected results.\n"
     ]
    },
    {
     "name": "stdout",
     "output_type": "stream",
     "text": [
      "\t\t\tLikelihood = -106,270.16\n",
      "\t\t\tAIC = 212,546.32\n",
      "\t\t\tTheta = 41,591.49\n",
      "\t\t\tChi-Squared = 196,039.11\n",
      "\n",
      "\t\t\tReplicate time: 0:00:49.753263 (H:M:S)\n",
      "\n",
      "\n",
      "\t\tRound 4 Replicate 2 of 40:\n",
      "\n",
      "\t\t\tStarting parameters = [1.878009, 10.321917, 0.065815]\n"
     ]
    },
    {
     "name": "stderr",
     "output_type": "stream",
     "text": [
      "WARNING:Numerics:Extrapolation may have failed. Check resulting frequency spectrum for unexpected results.\n",
      "WARNING:Numerics:Extrapolation may have failed. Check resulting frequency spectrum for unexpected results.\n",
      "WARNING:Numerics:Extrapolation may have failed. Check resulting frequency spectrum for unexpected results.\n",
      "WARNING:Numerics:Extrapolation may have failed. Check resulting frequency spectrum for unexpected results.\n",
      "WARNING:Numerics:Extrapolation may have failed. Check resulting frequency spectrum for unexpected results.\n",
      "WARNING:Numerics:Extrapolation may have failed. Check resulting frequency spectrum for unexpected results.\n",
      "WARNING:Numerics:Extrapolation may have failed. Check resulting frequency spectrum for unexpected results.\n",
      "WARNING:Numerics:Extrapolation may have failed. Check resulting frequency spectrum for unexpected results.\n",
      "WARNING:Numerics:Extrapolation may have failed. Check resulting frequency spectrum for unexpected results.\n",
      "WARNING:Numerics:Extrapolation may have failed. Check resulting frequency spectrum for unexpected results.\n",
      "WARNING:Numerics:Extrapolation may have failed. Check resulting frequency spectrum for unexpected results.\n",
      "WARNING:Numerics:Extrapolation may have failed. Check resulting frequency spectrum for unexpected results.\n",
      "WARNING:Numerics:Extrapolation may have failed. Check resulting frequency spectrum for unexpected results.\n",
      "WARNING:Numerics:Extrapolation may have failed. Check resulting frequency spectrum for unexpected results.\n",
      "WARNING:Numerics:Extrapolation may have failed. Check resulting frequency spectrum for unexpected results.\n",
      "WARNING:Numerics:Extrapolation may have failed. Check resulting frequency spectrum for unexpected results.\n",
      "WARNING:Numerics:Extrapolation may have failed. Check resulting frequency spectrum for unexpected results.\n",
      "WARNING:Numerics:Extrapolation may have failed. Check resulting frequency spectrum for unexpected results.\n",
      "WARNING:Numerics:Extrapolation may have failed. Check resulting frequency spectrum for unexpected results.\n",
      "WARNING:Numerics:Extrapolation may have failed. Check resulting frequency spectrum for unexpected results.\n",
      "WARNING:Numerics:Extrapolation may have failed. Check resulting frequency spectrum for unexpected results.\n",
      "WARNING:Numerics:Extrapolation may have failed. Check resulting frequency spectrum for unexpected results.\n",
      "WARNING:Numerics:Extrapolation may have failed. Check resulting frequency spectrum for unexpected results.\n",
      "WARNING:Numerics:Extrapolation may have failed. Check resulting frequency spectrum for unexpected results.\n",
      "WARNING:Numerics:Extrapolation may have failed. Check resulting frequency spectrum for unexpected results.\n",
      "WARNING:Numerics:Extrapolation may have failed. Check resulting frequency spectrum for unexpected results.\n",
      "WARNING:Numerics:Extrapolation may have failed. Check resulting frequency spectrum for unexpected results.\n",
      "WARNING:Numerics:Extrapolation may have failed. Check resulting frequency spectrum for unexpected results.\n"
     ]
    },
    {
     "name": "stdout",
     "output_type": "stream",
     "text": [
      "\t\t\tOptimized parameters =[1.792935, 10.154726, 0.029218]\n",
      "\n"
     ]
    },
    {
     "name": "stderr",
     "output_type": "stream",
     "text": [
      "WARNING:Numerics:Extrapolation may have failed. Check resulting frequency spectrum for unexpected results.\n"
     ]
    },
    {
     "name": "stdout",
     "output_type": "stream",
     "text": [
      "\t\t\tLikelihood = -110,846.8\n",
      "\t\t\tAIC = 221,699.6\n",
      "\t\t\tTheta = 47,016.52\n",
      "\t\t\tChi-Squared = 195,906.73\n",
      "\n",
      "\t\t\tReplicate time: 0:00:46.586463 (H:M:S)\n",
      "\n",
      "\n",
      "\t\tRound 4 Replicate 3 of 40:\n",
      "\n",
      "\t\t\tStarting parameters = [3.640281, 9.903858, 0.031018]\n"
     ]
    },
    {
     "name": "stderr",
     "output_type": "stream",
     "text": [
      "WARNING:Numerics:Extrapolation may have failed. Check resulting frequency spectrum for unexpected results.\n",
      "WARNING:Numerics:Extrapolation may have failed. Check resulting frequency spectrum for unexpected results.\n",
      "WARNING:Numerics:Extrapolation may have failed. Check resulting frequency spectrum for unexpected results.\n",
      "WARNING:Numerics:Extrapolation may have failed. Check resulting frequency spectrum for unexpected results.\n",
      "WARNING:Numerics:Extrapolation may have failed. Check resulting frequency spectrum for unexpected results.\n",
      "WARNING:Numerics:Extrapolation may have failed. Check resulting frequency spectrum for unexpected results.\n",
      "WARNING:Numerics:Extrapolation may have failed. Check resulting frequency spectrum for unexpected results.\n",
      "WARNING:Numerics:Extrapolation may have failed. Check resulting frequency spectrum for unexpected results.\n",
      "WARNING:Numerics:Extrapolation may have failed. Check resulting frequency spectrum for unexpected results.\n",
      "WARNING:Numerics:Extrapolation may have failed. Check resulting frequency spectrum for unexpected results.\n",
      "WARNING:Numerics:Extrapolation may have failed. Check resulting frequency spectrum for unexpected results.\n",
      "WARNING:Numerics:Extrapolation may have failed. Check resulting frequency spectrum for unexpected results.\n",
      "WARNING:Numerics:Extrapolation may have failed. Check resulting frequency spectrum for unexpected results.\n",
      "WARNING:Numerics:Extrapolation may have failed. Check resulting frequency spectrum for unexpected results.\n",
      "WARNING:Numerics:Extrapolation may have failed. Check resulting frequency spectrum for unexpected results.\n",
      "WARNING:Numerics:Extrapolation may have failed. Check resulting frequency spectrum for unexpected results.\n",
      "WARNING:Numerics:Extrapolation may have failed. Check resulting frequency spectrum for unexpected results.\n",
      "WARNING:Numerics:Extrapolation may have failed. Check resulting frequency spectrum for unexpected results.\n",
      "WARNING:Numerics:Extrapolation may have failed. Check resulting frequency spectrum for unexpected results.\n",
      "WARNING:Numerics:Extrapolation may have failed. Check resulting frequency spectrum for unexpected results.\n",
      "WARNING:Numerics:Extrapolation may have failed. Check resulting frequency spectrum for unexpected results.\n",
      "WARNING:Numerics:Extrapolation may have failed. Check resulting frequency spectrum for unexpected results.\n",
      "WARNING:Numerics:Extrapolation may have failed. Check resulting frequency spectrum for unexpected results.\n",
      "WARNING:Numerics:Extrapolation may have failed. Check resulting frequency spectrum for unexpected results.\n",
      "WARNING:Numerics:Extrapolation may have failed. Check resulting frequency spectrum for unexpected results.\n",
      "WARNING:Numerics:Extrapolation may have failed. Check resulting frequency spectrum for unexpected results.\n",
      "WARNING:Numerics:Extrapolation may have failed. Check resulting frequency spectrum for unexpected results.\n",
      "WARNING:Numerics:Extrapolation may have failed. Check resulting frequency spectrum for unexpected results.\n",
      "WARNING:Numerics:Extrapolation may have failed. Check resulting frequency spectrum for unexpected results.\n",
      "WARNING:Numerics:Extrapolation may have failed. Check resulting frequency spectrum for unexpected results.\n"
     ]
    },
    {
     "name": "stdout",
     "output_type": "stream",
     "text": [
      "\t\t\tOptimized parameters =[3.248465, 13.600396, 0.038949]\n",
      "\n"
     ]
    },
    {
     "name": "stderr",
     "output_type": "stream",
     "text": [
      "WARNING:Numerics:Extrapolation may have failed. Check resulting frequency spectrum for unexpected results.\n"
     ]
    },
    {
     "name": "stdout",
     "output_type": "stream",
     "text": [
      "\t\t\tLikelihood = -106,238.21\n",
      "\t\t\tAIC = 212,482.42\n",
      "\t\t\tTheta = 41,219.76\n",
      "\t\t\tChi-Squared = 197,498.68\n",
      "\n",
      "\t\t\tReplicate time: 0:00:49.378326 (H:M:S)\n",
      "\n",
      "\n",
      "\t\tRound 4 Replicate 4 of 40:\n",
      "\n",
      "\t\t\tStarting parameters = [6.182351, 18.609114, 0.075838]\n"
     ]
    },
    {
     "name": "stderr",
     "output_type": "stream",
     "text": [
      "WARNING:Numerics:Extrapolation may have failed. Check resulting frequency spectrum for unexpected results.\n",
      "WARNING:Numerics:Extrapolation may have failed. Check resulting frequency spectrum for unexpected results.\n",
      "WARNING:Numerics:Extrapolation may have failed. Check resulting frequency spectrum for unexpected results.\n",
      "WARNING:Numerics:Extrapolation may have failed. Check resulting frequency spectrum for unexpected results.\n",
      "WARNING:Numerics:Extrapolation may have failed. Check resulting frequency spectrum for unexpected results.\n",
      "WARNING:Numerics:Extrapolation may have failed. Check resulting frequency spectrum for unexpected results.\n",
      "WARNING:Numerics:Extrapolation may have failed. Check resulting frequency spectrum for unexpected results.\n",
      "WARNING:Numerics:Extrapolation may have failed. Check resulting frequency spectrum for unexpected results.\n",
      "WARNING:Numerics:Extrapolation may have failed. Check resulting frequency spectrum for unexpected results.\n",
      "WARNING:Numerics:Extrapolation may have failed. Check resulting frequency spectrum for unexpected results.\n",
      "WARNING:Numerics:Extrapolation may have failed. Check resulting frequency spectrum for unexpected results.\n",
      "WARNING:Numerics:Extrapolation may have failed. Check resulting frequency spectrum for unexpected results.\n",
      "WARNING:Numerics:Extrapolation may have failed. Check resulting frequency spectrum for unexpected results.\n",
      "WARNING:Numerics:Extrapolation may have failed. Check resulting frequency spectrum for unexpected results.\n",
      "WARNING:Numerics:Extrapolation may have failed. Check resulting frequency spectrum for unexpected results.\n",
      "WARNING:Numerics:Extrapolation may have failed. Check resulting frequency spectrum for unexpected results.\n",
      "WARNING:Numerics:Extrapolation may have failed. Check resulting frequency spectrum for unexpected results.\n",
      "WARNING:Numerics:Extrapolation may have failed. Check resulting frequency spectrum for unexpected results.\n",
      "WARNING:Numerics:Extrapolation may have failed. Check resulting frequency spectrum for unexpected results.\n",
      "WARNING:Numerics:Extrapolation may have failed. Check resulting frequency spectrum for unexpected results.\n",
      "WARNING:Numerics:Extrapolation may have failed. Check resulting frequency spectrum for unexpected results.\n",
      "WARNING:Numerics:Extrapolation may have failed. Check resulting frequency spectrum for unexpected results.\n",
      "WARNING:Numerics:Extrapolation may have failed. Check resulting frequency spectrum for unexpected results.\n",
      "WARNING:Numerics:Extrapolation may have failed. Check resulting frequency spectrum for unexpected results.\n",
      "WARNING:Numerics:Extrapolation may have failed. Check resulting frequency spectrum for unexpected results.\n",
      "WARNING:Numerics:Extrapolation may have failed. Check resulting frequency spectrum for unexpected results.\n",
      "WARNING:Numerics:Extrapolation may have failed. Check resulting frequency spectrum for unexpected results.\n",
      "WARNING:Numerics:Extrapolation may have failed. Check resulting frequency spectrum for unexpected results.\n",
      "WARNING:Numerics:Extrapolation may have failed. Check resulting frequency spectrum for unexpected results.\n",
      "WARNING:Numerics:Extrapolation may have failed. Check resulting frequency spectrum for unexpected results.\n",
      "WARNING:Numerics:Extrapolation may have failed. Check resulting frequency spectrum for unexpected results.\n"
     ]
    },
    {
     "name": "stdout",
     "output_type": "stream",
     "text": [
      "\t\t\tOptimized parameters =[3.379767, 14.20588, 0.040026]\n",
      "\n"
     ]
    },
    {
     "name": "stderr",
     "output_type": "stream",
     "text": [
      "WARNING:Numerics:Extrapolation may have failed. Check resulting frequency spectrum for unexpected results.\n"
     ]
    },
    {
     "name": "stdout",
     "output_type": "stream",
     "text": [
      "\t\t\tLikelihood = -106,352.38\n",
      "\t\t\tAIC = 212,710.76\n",
      "\t\t\tTheta = 40,655.72\n",
      "\t\t\tChi-Squared = 199,735.8\n",
      "\n",
      "\t\t\tReplicate time: 0:00:51.204103 (H:M:S)\n",
      "\n",
      "\n",
      "\t\tRound 4 Replicate 5 of 40:\n",
      "\n",
      "\t\t\tStarting parameters = [5.14768, 6.87604, 0.037446]\n"
     ]
    },
    {
     "name": "stderr",
     "output_type": "stream",
     "text": [
      "WARNING:Numerics:Extrapolation may have failed. Check resulting frequency spectrum for unexpected results.\n",
      "WARNING:Numerics:Extrapolation may have failed. Check resulting frequency spectrum for unexpected results.\n",
      "WARNING:Numerics:Extrapolation may have failed. Check resulting frequency spectrum for unexpected results.\n",
      "WARNING:Numerics:Extrapolation may have failed. Check resulting frequency spectrum for unexpected results.\n",
      "WARNING:Numerics:Extrapolation may have failed. Check resulting frequency spectrum for unexpected results.\n",
      "WARNING:Numerics:Extrapolation may have failed. Check resulting frequency spectrum for unexpected results.\n",
      "WARNING:Numerics:Extrapolation may have failed. Check resulting frequency spectrum for unexpected results.\n",
      "WARNING:Numerics:Extrapolation may have failed. Check resulting frequency spectrum for unexpected results.\n",
      "WARNING:Numerics:Extrapolation may have failed. Check resulting frequency spectrum for unexpected results.\n",
      "WARNING:Numerics:Extrapolation may have failed. Check resulting frequency spectrum for unexpected results.\n",
      "WARNING:Numerics:Extrapolation may have failed. Check resulting frequency spectrum for unexpected results.\n",
      "WARNING:Numerics:Extrapolation may have failed. Check resulting frequency spectrum for unexpected results.\n",
      "WARNING:Numerics:Extrapolation may have failed. Check resulting frequency spectrum for unexpected results.\n",
      "WARNING:Numerics:Extrapolation may have failed. Check resulting frequency spectrum for unexpected results.\n",
      "WARNING:Numerics:Extrapolation may have failed. Check resulting frequency spectrum for unexpected results.\n",
      "WARNING:Numerics:Extrapolation may have failed. Check resulting frequency spectrum for unexpected results.\n",
      "WARNING:Numerics:Extrapolation may have failed. Check resulting frequency spectrum for unexpected results.\n",
      "WARNING:Numerics:Extrapolation may have failed. Check resulting frequency spectrum for unexpected results.\n",
      "WARNING:Numerics:Extrapolation may have failed. Check resulting frequency spectrum for unexpected results.\n",
      "WARNING:Numerics:Extrapolation may have failed. Check resulting frequency spectrum for unexpected results.\n",
      "WARNING:Numerics:Extrapolation may have failed. Check resulting frequency spectrum for unexpected results.\n",
      "WARNING:Numerics:Extrapolation may have failed. Check resulting frequency spectrum for unexpected results.\n",
      "WARNING:Numerics:Extrapolation may have failed. Check resulting frequency spectrum for unexpected results.\n",
      "WARNING:Numerics:Extrapolation may have failed. Check resulting frequency spectrum for unexpected results.\n",
      "WARNING:Numerics:Extrapolation may have failed. Check resulting frequency spectrum for unexpected results.\n",
      "WARNING:Numerics:Extrapolation may have failed. Check resulting frequency spectrum for unexpected results.\n"
     ]
    },
    {
     "name": "stdout",
     "output_type": "stream",
     "text": [
      "\t\t\tOptimized parameters =[3.289019, 11.463722, 0.039713]\n",
      "\n"
     ]
    },
    {
     "name": "stderr",
     "output_type": "stream",
     "text": [
      "WARNING:Numerics:Extrapolation may have failed. Check resulting frequency spectrum for unexpected results.\n"
     ]
    },
    {
     "name": "stdout",
     "output_type": "stream",
     "text": [
      "\t\t\tLikelihood = -106,470.36\n",
      "\t\t\tAIC = 212,946.72\n",
      "\t\t\tTheta = 41,267.37\n",
      "\t\t\tChi-Squared = 198,365.76\n",
      "\n",
      "\t\t\tReplicate time: 0:00:43.061909 (H:M:S)\n",
      "\n",
      "\n",
      "\t\tRound 4 Replicate 6 of 40:\n",
      "\n",
      "\t\t\tStarting parameters = [2.142641, 6.326695, 0.031408]\n"
     ]
    },
    {
     "name": "stderr",
     "output_type": "stream",
     "text": [
      "WARNING:Numerics:Extrapolation may have failed. Check resulting frequency spectrum for unexpected results.\n",
      "WARNING:Numerics:Extrapolation may have failed. Check resulting frequency spectrum for unexpected results.\n",
      "WARNING:Numerics:Extrapolation may have failed. Check resulting frequency spectrum for unexpected results.\n",
      "WARNING:Numerics:Extrapolation may have failed. Check resulting frequency spectrum for unexpected results.\n",
      "WARNING:Numerics:Extrapolation may have failed. Check resulting frequency spectrum for unexpected results.\n",
      "WARNING:Numerics:Extrapolation may have failed. Check resulting frequency spectrum for unexpected results.\n",
      "WARNING:Numerics:Extrapolation may have failed. Check resulting frequency spectrum for unexpected results.\n",
      "WARNING:Numerics:Extrapolation may have failed. Check resulting frequency spectrum for unexpected results.\n",
      "WARNING:Numerics:Extrapolation may have failed. Check resulting frequency spectrum for unexpected results.\n",
      "WARNING:Numerics:Extrapolation may have failed. Check resulting frequency spectrum for unexpected results.\n",
      "WARNING:Numerics:Extrapolation may have failed. Check resulting frequency spectrum for unexpected results.\n",
      "WARNING:Numerics:Extrapolation may have failed. Check resulting frequency spectrum for unexpected results.\n",
      "WARNING:Numerics:Extrapolation may have failed. Check resulting frequency spectrum for unexpected results.\n",
      "WARNING:Numerics:Extrapolation may have failed. Check resulting frequency spectrum for unexpected results.\n",
      "WARNING:Numerics:Extrapolation may have failed. Check resulting frequency spectrum for unexpected results.\n",
      "WARNING:Numerics:Extrapolation may have failed. Check resulting frequency spectrum for unexpected results.\n",
      "WARNING:Numerics:Extrapolation may have failed. Check resulting frequency spectrum for unexpected results.\n",
      "WARNING:Numerics:Extrapolation may have failed. Check resulting frequency spectrum for unexpected results.\n",
      "WARNING:Numerics:Extrapolation may have failed. Check resulting frequency spectrum for unexpected results.\n",
      "WARNING:Numerics:Extrapolation may have failed. Check resulting frequency spectrum for unexpected results.\n",
      "WARNING:Numerics:Extrapolation may have failed. Check resulting frequency spectrum for unexpected results.\n",
      "WARNING:Numerics:Extrapolation may have failed. Check resulting frequency spectrum for unexpected results.\n",
      "WARNING:Numerics:Extrapolation may have failed. Check resulting frequency spectrum for unexpected results.\n",
      "WARNING:Numerics:Extrapolation may have failed. Check resulting frequency spectrum for unexpected results.\n",
      "WARNING:Numerics:Extrapolation may have failed. Check resulting frequency spectrum for unexpected results.\n",
      "WARNING:Numerics:Extrapolation may have failed. Check resulting frequency spectrum for unexpected results.\n",
      "WARNING:Numerics:Extrapolation may have failed. Check resulting frequency spectrum for unexpected results.\n",
      "WARNING:Numerics:Extrapolation may have failed. Check resulting frequency spectrum for unexpected results.\n"
     ]
    },
    {
     "name": "stdout",
     "output_type": "stream",
     "text": [
      "\t\t\tOptimized parameters =[2.742847, 12.358748, 0.03663]\n",
      "\n"
     ]
    },
    {
     "name": "stderr",
     "output_type": "stream",
     "text": [
      "WARNING:Numerics:Extrapolation may have failed. Check resulting frequency spectrum for unexpected results.\n"
     ]
    },
    {
     "name": "stdout",
     "output_type": "stream",
     "text": [
      "\t\t\tLikelihood = -106,810.79\n",
      "\t\t\tAIC = 213,627.58\n",
      "\t\t\tTheta = 42,573.21\n",
      "\t\t\tChi-Squared = 197,160.4\n",
      "\n",
      "\t\t\tReplicate time: 0:00:46.588815 (H:M:S)\n",
      "\n",
      "\n",
      "\t\tRound 4 Replicate 7 of 40:\n",
      "\n",
      "\t\t\tStarting parameters = [6.278175, 17.666608, 0.039963]\n"
     ]
    },
    {
     "name": "stderr",
     "output_type": "stream",
     "text": [
      "WARNING:Numerics:Extrapolation may have failed. Check resulting frequency spectrum for unexpected results.\n",
      "WARNING:Numerics:Extrapolation may have failed. Check resulting frequency spectrum for unexpected results.\n",
      "WARNING:Numerics:Extrapolation may have failed. Check resulting frequency spectrum for unexpected results.\n",
      "WARNING:Numerics:Extrapolation may have failed. Check resulting frequency spectrum for unexpected results.\n",
      "WARNING:Numerics:Extrapolation may have failed. Check resulting frequency spectrum for unexpected results.\n",
      "WARNING:Numerics:Extrapolation may have failed. Check resulting frequency spectrum for unexpected results.\n",
      "WARNING:Numerics:Extrapolation may have failed. Check resulting frequency spectrum for unexpected results.\n",
      "WARNING:Numerics:Extrapolation may have failed. Check resulting frequency spectrum for unexpected results.\n",
      "WARNING:Numerics:Extrapolation may have failed. Check resulting frequency spectrum for unexpected results.\n",
      "WARNING:Numerics:Extrapolation may have failed. Check resulting frequency spectrum for unexpected results.\n",
      "WARNING:Numerics:Extrapolation may have failed. Check resulting frequency spectrum for unexpected results.\n",
      "WARNING:Numerics:Extrapolation may have failed. Check resulting frequency spectrum for unexpected results.\n",
      "WARNING:Numerics:Extrapolation may have failed. Check resulting frequency spectrum for unexpected results.\n",
      "WARNING:Numerics:Extrapolation may have failed. Check resulting frequency spectrum for unexpected results.\n",
      "WARNING:Numerics:Extrapolation may have failed. Check resulting frequency spectrum for unexpected results.\n",
      "WARNING:Numerics:Extrapolation may have failed. Check resulting frequency spectrum for unexpected results.\n",
      "WARNING:Numerics:Extrapolation may have failed. Check resulting frequency spectrum for unexpected results.\n",
      "WARNING:Numerics:Extrapolation may have failed. Check resulting frequency spectrum for unexpected results.\n",
      "WARNING:Numerics:Extrapolation may have failed. Check resulting frequency spectrum for unexpected results.\n",
      "WARNING:Numerics:Extrapolation may have failed. Check resulting frequency spectrum for unexpected results.\n",
      "WARNING:Numerics:Extrapolation may have failed. Check resulting frequency spectrum for unexpected results.\n",
      "WARNING:Numerics:Extrapolation may have failed. Check resulting frequency spectrum for unexpected results.\n",
      "WARNING:Numerics:Extrapolation may have failed. Check resulting frequency spectrum for unexpected results.\n",
      "WARNING:Numerics:Extrapolation may have failed. Check resulting frequency spectrum for unexpected results.\n",
      "WARNING:Numerics:Extrapolation may have failed. Check resulting frequency spectrum for unexpected results.\n",
      "WARNING:Numerics:Extrapolation may have failed. Check resulting frequency spectrum for unexpected results.\n",
      "WARNING:Numerics:Extrapolation may have failed. Check resulting frequency spectrum for unexpected results.\n"
     ]
    },
    {
     "name": "stdout",
     "output_type": "stream",
     "text": [
      "\t\t\tOptimized parameters =[3.613461, 19.891401, 0.041188]\n",
      "\n"
     ]
    },
    {
     "name": "stderr",
     "output_type": "stream",
     "text": [
      "WARNING:Numerics:Extrapolation may have failed. Check resulting frequency spectrum for unexpected results.\n"
     ]
    },
    {
     "name": "stdout",
     "output_type": "stream",
     "text": [
      "\t\t\tLikelihood = -107,897.61\n",
      "\t\t\tAIC = 215,801.22\n",
      "\t\t\tTheta = 39,507.2\n",
      "\t\t\tChi-Squared = 208,010.27\n",
      "\n",
      "\t\t\tReplicate time: 0:00:44.820272 (H:M:S)\n",
      "\n",
      "\n",
      "\t\tRound 4 Replicate 8 of 40:\n",
      "\n",
      "\t\t\tStarting parameters = [3.786775, 15.995781, 0.033481]\n"
     ]
    },
    {
     "name": "stderr",
     "output_type": "stream",
     "text": [
      "WARNING:Numerics:Extrapolation may have failed. Check resulting frequency spectrum for unexpected results.\n",
      "WARNING:Numerics:Extrapolation may have failed. Check resulting frequency spectrum for unexpected results.\n",
      "WARNING:Numerics:Extrapolation may have failed. Check resulting frequency spectrum for unexpected results.\n",
      "WARNING:Numerics:Extrapolation may have failed. Check resulting frequency spectrum for unexpected results.\n",
      "WARNING:Numerics:Extrapolation may have failed. Check resulting frequency spectrum for unexpected results.\n",
      "WARNING:Numerics:Extrapolation may have failed. Check resulting frequency spectrum for unexpected results.\n",
      "WARNING:Numerics:Extrapolation may have failed. Check resulting frequency spectrum for unexpected results.\n",
      "WARNING:Numerics:Extrapolation may have failed. Check resulting frequency spectrum for unexpected results.\n",
      "WARNING:Numerics:Extrapolation may have failed. Check resulting frequency spectrum for unexpected results.\n",
      "WARNING:Numerics:Extrapolation may have failed. Check resulting frequency spectrum for unexpected results.\n",
      "WARNING:Numerics:Extrapolation may have failed. Check resulting frequency spectrum for unexpected results.\n",
      "WARNING:Numerics:Extrapolation may have failed. Check resulting frequency spectrum for unexpected results.\n",
      "WARNING:Numerics:Extrapolation may have failed. Check resulting frequency spectrum for unexpected results.\n",
      "WARNING:Numerics:Extrapolation may have failed. Check resulting frequency spectrum for unexpected results.\n",
      "WARNING:Numerics:Extrapolation may have failed. Check resulting frequency spectrum for unexpected results.\n",
      "WARNING:Numerics:Extrapolation may have failed. Check resulting frequency spectrum for unexpected results.\n",
      "WARNING:Numerics:Extrapolation may have failed. Check resulting frequency spectrum for unexpected results.\n",
      "WARNING:Numerics:Extrapolation may have failed. Check resulting frequency spectrum for unexpected results.\n",
      "WARNING:Numerics:Extrapolation may have failed. Check resulting frequency spectrum for unexpected results.\n",
      "WARNING:Numerics:Extrapolation may have failed. Check resulting frequency spectrum for unexpected results.\n",
      "WARNING:Numerics:Extrapolation may have failed. Check resulting frequency spectrum for unexpected results.\n",
      "WARNING:Numerics:Extrapolation may have failed. Check resulting frequency spectrum for unexpected results.\n",
      "WARNING:Numerics:Extrapolation may have failed. Check resulting frequency spectrum for unexpected results.\n",
      "WARNING:Numerics:Extrapolation may have failed. Check resulting frequency spectrum for unexpected results.\n",
      "WARNING:Numerics:Extrapolation may have failed. Check resulting frequency spectrum for unexpected results.\n",
      "WARNING:Numerics:Extrapolation may have failed. Check resulting frequency spectrum for unexpected results.\n",
      "WARNING:Numerics:Extrapolation may have failed. Check resulting frequency spectrum for unexpected results.\n",
      "WARNING:Numerics:Extrapolation may have failed. Check resulting frequency spectrum for unexpected results.\n",
      "WARNING:Numerics:Extrapolation may have failed. Check resulting frequency spectrum for unexpected results.\n",
      "WARNING:Numerics:Extrapolation may have failed. Check resulting frequency spectrum for unexpected results.\n"
     ]
    },
    {
     "name": "stdout",
     "output_type": "stream",
     "text": [
      "\t\t\tOptimized parameters =[3.626403, 14.95123, 0.041178]\n",
      "\n"
     ]
    },
    {
     "name": "stderr",
     "output_type": "stream",
     "text": [
      "WARNING:Numerics:Extrapolation may have failed. Check resulting frequency spectrum for unexpected results.\n"
     ]
    },
    {
     "name": "stdout",
     "output_type": "stream",
     "text": [
      "\t\t\tLikelihood = -106,707.87\n",
      "\t\t\tAIC = 213,421.74\n",
      "\t\t\tTheta = 39,996.18\n",
      "\t\t\tChi-Squared = 202,460.58\n",
      "\n",
      "\t\t\tReplicate time: 0:00:49.722793 (H:M:S)\n",
      "\n",
      "\n",
      "\t\tRound 4 Replicate 9 of 40:\n",
      "\n",
      "\t\t\tStarting parameters = [5.390582, 19.861104, 0.020273]\n"
     ]
    },
    {
     "name": "stderr",
     "output_type": "stream",
     "text": [
      "WARNING:Numerics:Extrapolation may have failed. Check resulting frequency spectrum for unexpected results.\n",
      "WARNING:Numerics:Extrapolation may have failed. Check resulting frequency spectrum for unexpected results.\n",
      "WARNING:Numerics:Extrapolation may have failed. Check resulting frequency spectrum for unexpected results.\n",
      "WARNING:Numerics:Extrapolation may have failed. Check resulting frequency spectrum for unexpected results.\n",
      "WARNING:Numerics:Extrapolation may have failed. Check resulting frequency spectrum for unexpected results.\n",
      "WARNING:Numerics:Extrapolation may have failed. Check resulting frequency spectrum for unexpected results.\n",
      "WARNING:Numerics:Extrapolation may have failed. Check resulting frequency spectrum for unexpected results.\n",
      "WARNING:Numerics:Extrapolation may have failed. Check resulting frequency spectrum for unexpected results.\n",
      "WARNING:Numerics:Extrapolation may have failed. Check resulting frequency spectrum for unexpected results.\n",
      "WARNING:Numerics:Extrapolation may have failed. Check resulting frequency spectrum for unexpected results.\n",
      "WARNING:Numerics:Extrapolation may have failed. Check resulting frequency spectrum for unexpected results.\n",
      "WARNING:Numerics:Extrapolation may have failed. Check resulting frequency spectrum for unexpected results.\n",
      "WARNING:Numerics:Extrapolation may have failed. Check resulting frequency spectrum for unexpected results.\n",
      "WARNING:Numerics:Extrapolation may have failed. Check resulting frequency spectrum for unexpected results.\n",
      "WARNING:Numerics:Extrapolation may have failed. Check resulting frequency spectrum for unexpected results.\n",
      "WARNING:Numerics:Extrapolation may have failed. Check resulting frequency spectrum for unexpected results.\n",
      "WARNING:Numerics:Extrapolation may have failed. Check resulting frequency spectrum for unexpected results.\n",
      "WARNING:Numerics:Extrapolation may have failed. Check resulting frequency spectrum for unexpected results.\n",
      "WARNING:Numerics:Extrapolation may have failed. Check resulting frequency spectrum for unexpected results.\n",
      "WARNING:Numerics:Extrapolation may have failed. Check resulting frequency spectrum for unexpected results.\n",
      "WARNING:Numerics:Extrapolation may have failed. Check resulting frequency spectrum for unexpected results.\n",
      "WARNING:Numerics:Extrapolation may have failed. Check resulting frequency spectrum for unexpected results.\n",
      "WARNING:Numerics:Extrapolation may have failed. Check resulting frequency spectrum for unexpected results.\n",
      "WARNING:Numerics:Extrapolation may have failed. Check resulting frequency spectrum for unexpected results.\n",
      "WARNING:Numerics:Extrapolation may have failed. Check resulting frequency spectrum for unexpected results.\n",
      "WARNING:Numerics:Extrapolation may have failed. Check resulting frequency spectrum for unexpected results.\n",
      "WARNING:Numerics:Extrapolation may have failed. Check resulting frequency spectrum for unexpected results.\n",
      "WARNING:Numerics:Extrapolation may have failed. Check resulting frequency spectrum for unexpected results.\n"
     ]
    },
    {
     "name": "stdout",
     "output_type": "stream",
     "text": [
      "\t\t\tOptimized parameters =[6.116222, 15.450629, 0.048007]\n",
      "\n"
     ]
    },
    {
     "name": "stderr",
     "output_type": "stream",
     "text": [
      "WARNING:Numerics:Extrapolation may have failed. Check resulting frequency spectrum for unexpected results.\n"
     ]
    },
    {
     "name": "stdout",
     "output_type": "stream",
     "text": [
      "\t\t\tLikelihood = -110,051.13\n",
      "\t\t\tAIC = 220,108.26\n",
      "\t\t\tTheta = 36,916.54\n",
      "\t\t\tChi-Squared = 218,052.08\n",
      "\n",
      "\t\t\tReplicate time: 0:00:46.676089 (H:M:S)\n",
      "\n",
      "\n",
      "\t\tRound 4 Replicate 10 of 40:\n",
      "\n",
      "\t\t\tStarting parameters = [3.36821, 6.726147, 0.0231]\n"
     ]
    },
    {
     "name": "stderr",
     "output_type": "stream",
     "text": [
      "WARNING:Numerics:Extrapolation may have failed. Check resulting frequency spectrum for unexpected results.\n",
      "WARNING:Numerics:Extrapolation may have failed. Check resulting frequency spectrum for unexpected results.\n",
      "WARNING:Numerics:Extrapolation may have failed. Check resulting frequency spectrum for unexpected results.\n",
      "WARNING:Numerics:Extrapolation may have failed. Check resulting frequency spectrum for unexpected results.\n",
      "WARNING:Numerics:Extrapolation may have failed. Check resulting frequency spectrum for unexpected results.\n",
      "WARNING:Numerics:Extrapolation may have failed. Check resulting frequency spectrum for unexpected results.\n",
      "WARNING:Numerics:Extrapolation may have failed. Check resulting frequency spectrum for unexpected results.\n",
      "WARNING:Numerics:Extrapolation may have failed. Check resulting frequency spectrum for unexpected results.\n",
      "WARNING:Numerics:Extrapolation may have failed. Check resulting frequency spectrum for unexpected results.\n",
      "WARNING:Numerics:Extrapolation may have failed. Check resulting frequency spectrum for unexpected results.\n",
      "WARNING:Numerics:Extrapolation may have failed. Check resulting frequency spectrum for unexpected results.\n",
      "WARNING:Numerics:Extrapolation may have failed. Check resulting frequency spectrum for unexpected results.\n",
      "WARNING:Numerics:Extrapolation may have failed. Check resulting frequency spectrum for unexpected results.\n",
      "WARNING:Numerics:Extrapolation may have failed. Check resulting frequency spectrum for unexpected results.\n",
      "WARNING:Numerics:Extrapolation may have failed. Check resulting frequency spectrum for unexpected results.\n",
      "WARNING:Numerics:Extrapolation may have failed. Check resulting frequency spectrum for unexpected results.\n",
      "WARNING:Numerics:Extrapolation may have failed. Check resulting frequency spectrum for unexpected results.\n",
      "WARNING:Numerics:Extrapolation may have failed. Check resulting frequency spectrum for unexpected results.\n",
      "WARNING:Numerics:Extrapolation may have failed. Check resulting frequency spectrum for unexpected results.\n",
      "WARNING:Numerics:Extrapolation may have failed. Check resulting frequency spectrum for unexpected results.\n",
      "WARNING:Numerics:Extrapolation may have failed. Check resulting frequency spectrum for unexpected results.\n",
      "WARNING:Numerics:Extrapolation may have failed. Check resulting frequency spectrum for unexpected results.\n",
      "WARNING:Numerics:Extrapolation may have failed. Check resulting frequency spectrum for unexpected results.\n",
      "WARNING:Numerics:Extrapolation may have failed. Check resulting frequency spectrum for unexpected results.\n",
      "WARNING:Numerics:Extrapolation may have failed. Check resulting frequency spectrum for unexpected results.\n",
      "WARNING:Numerics:Extrapolation may have failed. Check resulting frequency spectrum for unexpected results.\n",
      "WARNING:Numerics:Extrapolation may have failed. Check resulting frequency spectrum for unexpected results.\n",
      "WARNING:Numerics:Extrapolation may have failed. Check resulting frequency spectrum for unexpected results.\n"
     ]
    },
    {
     "name": "stdout",
     "output_type": "stream",
     "text": [
      "\t\t\tOptimized parameters =[3.343458, 12.839433, 0.038149]\n",
      "\n"
     ]
    },
    {
     "name": "stderr",
     "output_type": "stream",
     "text": [
      "WARNING:Numerics:Extrapolation may have failed. Check resulting frequency spectrum for unexpected results.\n"
     ]
    },
    {
     "name": "stdout",
     "output_type": "stream",
     "text": [
      "\t\t\tLikelihood = -106,417.16\n",
      "\t\t\tAIC = 212,840.32\n",
      "\t\t\tTheta = 41,568.17\n",
      "\t\t\tChi-Squared = 195,710.87\n",
      "\n",
      "\t\t\tReplicate time: 0:00:46.707873 (H:M:S)\n",
      "\n",
      "\n",
      "\t\tRound 4 Replicate 11 of 40:\n",
      "\n",
      "\t\t\tStarting parameters = [5.42841, 13.777965, 0.065656]\n"
     ]
    },
    {
     "name": "stderr",
     "output_type": "stream",
     "text": [
      "WARNING:Numerics:Extrapolation may have failed. Check resulting frequency spectrum for unexpected results.\n",
      "WARNING:Numerics:Extrapolation may have failed. Check resulting frequency spectrum for unexpected results.\n",
      "WARNING:Numerics:Extrapolation may have failed. Check resulting frequency spectrum for unexpected results.\n",
      "WARNING:Numerics:Extrapolation may have failed. Check resulting frequency spectrum for unexpected results.\n",
      "WARNING:Numerics:Extrapolation may have failed. Check resulting frequency spectrum for unexpected results.\n",
      "WARNING:Numerics:Extrapolation may have failed. Check resulting frequency spectrum for unexpected results.\n",
      "WARNING:Numerics:Extrapolation may have failed. Check resulting frequency spectrum for unexpected results.\n",
      "WARNING:Numerics:Extrapolation may have failed. Check resulting frequency spectrum for unexpected results.\n",
      "WARNING:Numerics:Extrapolation may have failed. Check resulting frequency spectrum for unexpected results.\n",
      "WARNING:Numerics:Extrapolation may have failed. Check resulting frequency spectrum for unexpected results.\n",
      "WARNING:Numerics:Extrapolation may have failed. Check resulting frequency spectrum for unexpected results.\n",
      "WARNING:Numerics:Extrapolation may have failed. Check resulting frequency spectrum for unexpected results.\n",
      "WARNING:Numerics:Extrapolation may have failed. Check resulting frequency spectrum for unexpected results.\n",
      "WARNING:Numerics:Extrapolation may have failed. Check resulting frequency spectrum for unexpected results.\n",
      "WARNING:Numerics:Extrapolation may have failed. Check resulting frequency spectrum for unexpected results.\n",
      "WARNING:Numerics:Extrapolation may have failed. Check resulting frequency spectrum for unexpected results.\n",
      "WARNING:Numerics:Extrapolation may have failed. Check resulting frequency spectrum for unexpected results.\n",
      "WARNING:Numerics:Extrapolation may have failed. Check resulting frequency spectrum for unexpected results.\n",
      "WARNING:Numerics:Extrapolation may have failed. Check resulting frequency spectrum for unexpected results.\n",
      "WARNING:Numerics:Extrapolation may have failed. Check resulting frequency spectrum for unexpected results.\n",
      "WARNING:Numerics:Extrapolation may have failed. Check resulting frequency spectrum for unexpected results.\n",
      "WARNING:Numerics:Extrapolation may have failed. Check resulting frequency spectrum for unexpected results.\n",
      "WARNING:Numerics:Extrapolation may have failed. Check resulting frequency spectrum for unexpected results.\n",
      "WARNING:Numerics:Extrapolation may have failed. Check resulting frequency spectrum for unexpected results.\n",
      "WARNING:Numerics:Extrapolation may have failed. Check resulting frequency spectrum for unexpected results.\n",
      "WARNING:Numerics:Extrapolation may have failed. Check resulting frequency spectrum for unexpected results.\n",
      "WARNING:Numerics:Extrapolation may have failed. Check resulting frequency spectrum for unexpected results.\n"
     ]
    },
    {
     "name": "stdout",
     "output_type": "stream",
     "text": [
      "\t\t\tOptimized parameters =[3.512064, 10.894843, 0.041631]\n",
      "\n"
     ]
    },
    {
     "name": "stderr",
     "output_type": "stream",
     "text": [
      "WARNING:Numerics:Extrapolation may have failed. Check resulting frequency spectrum for unexpected results.\n"
     ]
    },
    {
     "name": "stdout",
     "output_type": "stream",
     "text": [
      "\t\t\tLikelihood = -106,809.23\n",
      "\t\t\tAIC = 213,624.46\n",
      "\t\t\tTheta = 40,588.07\n",
      "\t\t\tChi-Squared = 201,630.48\n",
      "\n",
      "\t\t\tReplicate time: 0:00:45.038487 (H:M:S)\n",
      "\n",
      "\n",
      "\t\tRound 4 Replicate 12 of 40:\n",
      "\n",
      "\t\t\tStarting parameters = [5.822053, 7.26866, 0.028184]\n"
     ]
    },
    {
     "name": "stderr",
     "output_type": "stream",
     "text": [
      "WARNING:Numerics:Extrapolation may have failed. Check resulting frequency spectrum for unexpected results.\n",
      "WARNING:Numerics:Extrapolation may have failed. Check resulting frequency spectrum for unexpected results.\n",
      "WARNING:Numerics:Extrapolation may have failed. Check resulting frequency spectrum for unexpected results.\n",
      "WARNING:Numerics:Extrapolation may have failed. Check resulting frequency spectrum for unexpected results.\n",
      "WARNING:Numerics:Extrapolation may have failed. Check resulting frequency spectrum for unexpected results.\n",
      "WARNING:Numerics:Extrapolation may have failed. Check resulting frequency spectrum for unexpected results.\n",
      "WARNING:Numerics:Extrapolation may have failed. Check resulting frequency spectrum for unexpected results.\n",
      "WARNING:Numerics:Extrapolation may have failed. Check resulting frequency spectrum for unexpected results.\n",
      "WARNING:Numerics:Extrapolation may have failed. Check resulting frequency spectrum for unexpected results.\n",
      "WARNING:Numerics:Extrapolation may have failed. Check resulting frequency spectrum for unexpected results.\n",
      "WARNING:Numerics:Extrapolation may have failed. Check resulting frequency spectrum for unexpected results.\n",
      "WARNING:Numerics:Extrapolation may have failed. Check resulting frequency spectrum for unexpected results.\n",
      "WARNING:Numerics:Extrapolation may have failed. Check resulting frequency spectrum for unexpected results.\n",
      "WARNING:Numerics:Extrapolation may have failed. Check resulting frequency spectrum for unexpected results.\n",
      "WARNING:Numerics:Extrapolation may have failed. Check resulting frequency spectrum for unexpected results.\n",
      "WARNING:Numerics:Extrapolation may have failed. Check resulting frequency spectrum for unexpected results.\n",
      "WARNING:Numerics:Extrapolation may have failed. Check resulting frequency spectrum for unexpected results.\n",
      "WARNING:Numerics:Extrapolation may have failed. Check resulting frequency spectrum for unexpected results.\n",
      "WARNING:Numerics:Extrapolation may have failed. Check resulting frequency spectrum for unexpected results.\n",
      "WARNING:Numerics:Extrapolation may have failed. Check resulting frequency spectrum for unexpected results.\n",
      "WARNING:Numerics:Extrapolation may have failed. Check resulting frequency spectrum for unexpected results.\n",
      "WARNING:Numerics:Extrapolation may have failed. Check resulting frequency spectrum for unexpected results.\n",
      "WARNING:Numerics:Extrapolation may have failed. Check resulting frequency spectrum for unexpected results.\n",
      "WARNING:Numerics:Extrapolation may have failed. Check resulting frequency spectrum for unexpected results.\n",
      "WARNING:Numerics:Extrapolation may have failed. Check resulting frequency spectrum for unexpected results.\n",
      "WARNING:Numerics:Extrapolation may have failed. Check resulting frequency spectrum for unexpected results.\n",
      "WARNING:Numerics:Extrapolation may have failed. Check resulting frequency spectrum for unexpected results.\n",
      "WARNING:Numerics:Extrapolation may have failed. Check resulting frequency spectrum for unexpected results.\n",
      "WARNING:Numerics:Extrapolation may have failed. Check resulting frequency spectrum for unexpected results.\n",
      "WARNING:Numerics:Extrapolation may have failed. Check resulting frequency spectrum for unexpected results.\n"
     ]
    },
    {
     "name": "stdout",
     "output_type": "stream",
     "text": [
      "\t\t\tOptimized parameters =[3.196288, 12.527145, 0.03631]\n",
      "\n"
     ]
    },
    {
     "name": "stderr",
     "output_type": "stream",
     "text": [
      "WARNING:Numerics:Extrapolation may have failed. Check resulting frequency spectrum for unexpected results.\n"
     ]
    },
    {
     "name": "stdout",
     "output_type": "stream",
     "text": [
      "\t\t\tLikelihood = -106,535.5\n",
      "\t\t\tAIC = 213,077.0\n",
      "\t\t\tTheta = 42,416.18\n",
      "\t\t\tChi-Squared = 192,780.9\n",
      "\n",
      "\t\t\tReplicate time: 0:00:49.768771 (H:M:S)\n",
      "\n",
      "\n",
      "\t\tRound 4 Replicate 13 of 40:\n",
      "\n",
      "\t\t\tStarting parameters = [2.50861, 21.751206, 0.02774]\n"
     ]
    },
    {
     "name": "stderr",
     "output_type": "stream",
     "text": [
      "WARNING:Numerics:Extrapolation may have failed. Check resulting frequency spectrum for unexpected results.\n",
      "WARNING:Numerics:Extrapolation may have failed. Check resulting frequency spectrum for unexpected results.\n",
      "WARNING:Numerics:Extrapolation may have failed. Check resulting frequency spectrum for unexpected results.\n",
      "WARNING:Numerics:Extrapolation may have failed. Check resulting frequency spectrum for unexpected results.\n",
      "WARNING:Numerics:Extrapolation may have failed. Check resulting frequency spectrum for unexpected results.\n",
      "WARNING:Numerics:Extrapolation may have failed. Check resulting frequency spectrum for unexpected results.\n",
      "WARNING:Numerics:Extrapolation may have failed. Check resulting frequency spectrum for unexpected results.\n",
      "WARNING:Numerics:Extrapolation may have failed. Check resulting frequency spectrum for unexpected results.\n",
      "WARNING:Numerics:Extrapolation may have failed. Check resulting frequency spectrum for unexpected results.\n",
      "WARNING:Numerics:Extrapolation may have failed. Check resulting frequency spectrum for unexpected results.\n",
      "WARNING:Numerics:Extrapolation may have failed. Check resulting frequency spectrum for unexpected results.\n",
      "WARNING:Numerics:Extrapolation may have failed. Check resulting frequency spectrum for unexpected results.\n",
      "WARNING:Numerics:Extrapolation may have failed. Check resulting frequency spectrum for unexpected results.\n",
      "WARNING:Numerics:Extrapolation may have failed. Check resulting frequency spectrum for unexpected results.\n",
      "WARNING:Numerics:Extrapolation may have failed. Check resulting frequency spectrum for unexpected results.\n",
      "WARNING:Numerics:Extrapolation may have failed. Check resulting frequency spectrum for unexpected results.\n",
      "WARNING:Numerics:Extrapolation may have failed. Check resulting frequency spectrum for unexpected results.\n",
      "WARNING:Numerics:Extrapolation may have failed. Check resulting frequency spectrum for unexpected results.\n",
      "WARNING:Numerics:Extrapolation may have failed. Check resulting frequency spectrum for unexpected results.\n",
      "WARNING:Numerics:Extrapolation may have failed. Check resulting frequency spectrum for unexpected results.\n",
      "WARNING:Numerics:Extrapolation may have failed. Check resulting frequency spectrum for unexpected results.\n",
      "WARNING:Numerics:Extrapolation may have failed. Check resulting frequency spectrum for unexpected results.\n",
      "WARNING:Numerics:Extrapolation may have failed. Check resulting frequency spectrum for unexpected results.\n",
      "WARNING:Numerics:Extrapolation may have failed. Check resulting frequency spectrum for unexpected results.\n",
      "WARNING:Numerics:Extrapolation may have failed. Check resulting frequency spectrum for unexpected results.\n",
      "WARNING:Numerics:Extrapolation may have failed. Check resulting frequency spectrum for unexpected results.\n",
      "WARNING:Numerics:Extrapolation may have failed. Check resulting frequency spectrum for unexpected results.\n"
     ]
    },
    {
     "name": "stdout",
     "output_type": "stream",
     "text": [
      "\t\t\tOptimized parameters =[2.969628, 13.663801, 0.037154]\n",
      "\n"
     ]
    },
    {
     "name": "stderr",
     "output_type": "stream",
     "text": [
      "WARNING:Numerics:Extrapolation may have failed. Check resulting frequency spectrum for unexpected results.\n"
     ]
    },
    {
     "name": "stdout",
     "output_type": "stream",
     "text": [
      "\t\t\tLikelihood = -106,455.9\n",
      "\t\t\tAIC = 212,917.8\n",
      "\t\t\tTheta = 42,034.78\n",
      "\t\t\tChi-Squared = 196,166.14\n",
      "\n",
      "\t\t\tReplicate time: 0:00:44.837089 (H:M:S)\n",
      "\n",
      "\n",
      "\t\tRound 4 Replicate 14 of 40:\n",
      "\n",
      "\t\t\tStarting parameters = [2.730131, 11.023865, 0.024421]\n"
     ]
    },
    {
     "name": "stderr",
     "output_type": "stream",
     "text": [
      "WARNING:Numerics:Extrapolation may have failed. Check resulting frequency spectrum for unexpected results.\n",
      "WARNING:Numerics:Extrapolation may have failed. Check resulting frequency spectrum for unexpected results.\n",
      "WARNING:Numerics:Extrapolation may have failed. Check resulting frequency spectrum for unexpected results.\n",
      "WARNING:Numerics:Extrapolation may have failed. Check resulting frequency spectrum for unexpected results.\n",
      "WARNING:Numerics:Extrapolation may have failed. Check resulting frequency spectrum for unexpected results.\n",
      "WARNING:Numerics:Extrapolation may have failed. Check resulting frequency spectrum for unexpected results.\n",
      "WARNING:Numerics:Extrapolation may have failed. Check resulting frequency spectrum for unexpected results.\n",
      "WARNING:Numerics:Extrapolation may have failed. Check resulting frequency spectrum for unexpected results.\n",
      "WARNING:Numerics:Extrapolation may have failed. Check resulting frequency spectrum for unexpected results.\n",
      "WARNING:Numerics:Extrapolation may have failed. Check resulting frequency spectrum for unexpected results.\n",
      "WARNING:Numerics:Extrapolation may have failed. Check resulting frequency spectrum for unexpected results.\n",
      "WARNING:Numerics:Extrapolation may have failed. Check resulting frequency spectrum for unexpected results.\n",
      "WARNING:Numerics:Extrapolation may have failed. Check resulting frequency spectrum for unexpected results.\n",
      "WARNING:Numerics:Extrapolation may have failed. Check resulting frequency spectrum for unexpected results.\n",
      "WARNING:Numerics:Extrapolation may have failed. Check resulting frequency spectrum for unexpected results.\n",
      "WARNING:Numerics:Extrapolation may have failed. Check resulting frequency spectrum for unexpected results.\n",
      "WARNING:Numerics:Extrapolation may have failed. Check resulting frequency spectrum for unexpected results.\n",
      "WARNING:Numerics:Extrapolation may have failed. Check resulting frequency spectrum for unexpected results.\n",
      "WARNING:Numerics:Extrapolation may have failed. Check resulting frequency spectrum for unexpected results.\n",
      "WARNING:Numerics:Extrapolation may have failed. Check resulting frequency spectrum for unexpected results.\n",
      "WARNING:Numerics:Extrapolation may have failed. Check resulting frequency spectrum for unexpected results.\n",
      "WARNING:Numerics:Extrapolation may have failed. Check resulting frequency spectrum for unexpected results.\n",
      "WARNING:Numerics:Extrapolation may have failed. Check resulting frequency spectrum for unexpected results.\n",
      "WARNING:Numerics:Extrapolation may have failed. Check resulting frequency spectrum for unexpected results.\n",
      "WARNING:Numerics:Extrapolation may have failed. Check resulting frequency spectrum for unexpected results.\n",
      "WARNING:Numerics:Extrapolation may have failed. Check resulting frequency spectrum for unexpected results.\n",
      "WARNING:Numerics:Extrapolation may have failed. Check resulting frequency spectrum for unexpected results.\n",
      "WARNING:Numerics:Extrapolation may have failed. Check resulting frequency spectrum for unexpected results.\n"
     ]
    },
    {
     "name": "stdout",
     "output_type": "stream",
     "text": [
      "\t\t\tOptimized parameters =[3.017444, 12.234913, 0.036572]\n",
      "\n"
     ]
    },
    {
     "name": "stderr",
     "output_type": "stream",
     "text": [
      "WARNING:Numerics:Extrapolation may have failed. Check resulting frequency spectrum for unexpected results.\n"
     ]
    },
    {
     "name": "stdout",
     "output_type": "stream",
     "text": [
      "\t\t\tLikelihood = -106,391.28\n",
      "\t\t\tAIC = 212,788.56\n",
      "\t\t\tTheta = 42,470.45\n",
      "\t\t\tChi-Squared = 193,423.86\n",
      "\n",
      "\t\t\tReplicate time: 0:00:46.727844 (H:M:S)\n",
      "\n",
      "\n",
      "\t\tRound 4 Replicate 15 of 40:\n",
      "\n",
      "\t\t\tStarting parameters = [7.079421, 6.851663, 0.072315]\n"
     ]
    },
    {
     "name": "stderr",
     "output_type": "stream",
     "text": [
      "WARNING:Numerics:Extrapolation may have failed. Check resulting frequency spectrum for unexpected results.\n",
      "WARNING:Numerics:Extrapolation may have failed. Check resulting frequency spectrum for unexpected results.\n",
      "WARNING:Numerics:Extrapolation may have failed. Check resulting frequency spectrum for unexpected results.\n",
      "WARNING:Numerics:Extrapolation may have failed. Check resulting frequency spectrum for unexpected results.\n",
      "WARNING:Numerics:Extrapolation may have failed. Check resulting frequency spectrum for unexpected results.\n",
      "WARNING:Numerics:Extrapolation may have failed. Check resulting frequency spectrum for unexpected results.\n",
      "WARNING:Numerics:Extrapolation may have failed. Check resulting frequency spectrum for unexpected results.\n",
      "WARNING:Numerics:Extrapolation may have failed. Check resulting frequency spectrum for unexpected results.\n",
      "WARNING:Numerics:Extrapolation may have failed. Check resulting frequency spectrum for unexpected results.\n",
      "WARNING:Numerics:Extrapolation may have failed. Check resulting frequency spectrum for unexpected results.\n",
      "WARNING:Numerics:Extrapolation may have failed. Check resulting frequency spectrum for unexpected results.\n",
      "WARNING:Numerics:Extrapolation may have failed. Check resulting frequency spectrum for unexpected results.\n",
      "WARNING:Numerics:Extrapolation may have failed. Check resulting frequency spectrum for unexpected results.\n",
      "WARNING:Numerics:Extrapolation may have failed. Check resulting frequency spectrum for unexpected results.\n",
      "WARNING:Numerics:Extrapolation may have failed. Check resulting frequency spectrum for unexpected results.\n",
      "WARNING:Numerics:Extrapolation may have failed. Check resulting frequency spectrum for unexpected results.\n",
      "WARNING:Numerics:Extrapolation may have failed. Check resulting frequency spectrum for unexpected results.\n",
      "WARNING:Numerics:Extrapolation may have failed. Check resulting frequency spectrum for unexpected results.\n",
      "WARNING:Numerics:Extrapolation may have failed. Check resulting frequency spectrum for unexpected results.\n",
      "WARNING:Numerics:Extrapolation may have failed. Check resulting frequency spectrum for unexpected results.\n",
      "WARNING:Numerics:Extrapolation may have failed. Check resulting frequency spectrum for unexpected results.\n",
      "WARNING:Numerics:Extrapolation may have failed. Check resulting frequency spectrum for unexpected results.\n",
      "WARNING:Numerics:Extrapolation may have failed. Check resulting frequency spectrum for unexpected results.\n",
      "WARNING:Numerics:Extrapolation may have failed. Check resulting frequency spectrum for unexpected results.\n",
      "WARNING:Numerics:Extrapolation may have failed. Check resulting frequency spectrum for unexpected results.\n",
      "WARNING:Numerics:Extrapolation may have failed. Check resulting frequency spectrum for unexpected results.\n",
      "WARNING:Numerics:Extrapolation may have failed. Check resulting frequency spectrum for unexpected results.\n",
      "WARNING:Numerics:Extrapolation may have failed. Check resulting frequency spectrum for unexpected results.\n",
      "WARNING:Numerics:Extrapolation may have failed. Check resulting frequency spectrum for unexpected results.\n"
     ]
    },
    {
     "name": "stdout",
     "output_type": "stream",
     "text": [
      "\t\t\tOptimized parameters =[3.235926, 12.204916, 0.037501]\n",
      "\n"
     ]
    },
    {
     "name": "stderr",
     "output_type": "stream",
     "text": [
      "WARNING:Numerics:Extrapolation may have failed. Check resulting frequency spectrum for unexpected results.\n"
     ]
    },
    {
     "name": "stdout",
     "output_type": "stream",
     "text": [
      "\t\t\tLikelihood = -106,404.0\n",
      "\t\t\tAIC = 212,814.0\n",
      "\t\t\tTheta = 41,986.43\n",
      "\t\t\tChi-Squared = 194,355.89\n",
      "\n",
      "\t\t\tReplicate time: 0:00:48.000965 (H:M:S)\n",
      "\n",
      "\n",
      "\t\tRound 4 Replicate 16 of 40:\n",
      "\n",
      "\t\t\tStarting parameters = [2.386435, 6.145619, 0.021822]\n"
     ]
    },
    {
     "name": "stderr",
     "output_type": "stream",
     "text": [
      "WARNING:Numerics:Extrapolation may have failed. Check resulting frequency spectrum for unexpected results.\n",
      "WARNING:Numerics:Extrapolation may have failed. Check resulting frequency spectrum for unexpected results.\n",
      "WARNING:Numerics:Extrapolation may have failed. Check resulting frequency spectrum for unexpected results.\n",
      "WARNING:Numerics:Extrapolation may have failed. Check resulting frequency spectrum for unexpected results.\n",
      "WARNING:Numerics:Extrapolation may have failed. Check resulting frequency spectrum for unexpected results.\n",
      "WARNING:Numerics:Extrapolation may have failed. Check resulting frequency spectrum for unexpected results.\n",
      "WARNING:Numerics:Extrapolation may have failed. Check resulting frequency spectrum for unexpected results.\n",
      "WARNING:Numerics:Extrapolation may have failed. Check resulting frequency spectrum for unexpected results.\n",
      "WARNING:Numerics:Extrapolation may have failed. Check resulting frequency spectrum for unexpected results.\n",
      "WARNING:Numerics:Extrapolation may have failed. Check resulting frequency spectrum for unexpected results.\n",
      "WARNING:Numerics:Extrapolation may have failed. Check resulting frequency spectrum for unexpected results.\n",
      "WARNING:Numerics:Extrapolation may have failed. Check resulting frequency spectrum for unexpected results.\n",
      "WARNING:Numerics:Extrapolation may have failed. Check resulting frequency spectrum for unexpected results.\n",
      "WARNING:Numerics:Extrapolation may have failed. Check resulting frequency spectrum for unexpected results.\n",
      "WARNING:Numerics:Extrapolation may have failed. Check resulting frequency spectrum for unexpected results.\n",
      "WARNING:Numerics:Extrapolation may have failed. Check resulting frequency spectrum for unexpected results.\n",
      "WARNING:Numerics:Extrapolation may have failed. Check resulting frequency spectrum for unexpected results.\n",
      "WARNING:Numerics:Extrapolation may have failed. Check resulting frequency spectrum for unexpected results.\n",
      "WARNING:Numerics:Extrapolation may have failed. Check resulting frequency spectrum for unexpected results.\n",
      "WARNING:Numerics:Extrapolation may have failed. Check resulting frequency spectrum for unexpected results.\n",
      "WARNING:Numerics:Extrapolation may have failed. Check resulting frequency spectrum for unexpected results.\n",
      "WARNING:Numerics:Extrapolation may have failed. Check resulting frequency spectrum for unexpected results.\n",
      "WARNING:Numerics:Extrapolation may have failed. Check resulting frequency spectrum for unexpected results.\n",
      "WARNING:Numerics:Extrapolation may have failed. Check resulting frequency spectrum for unexpected results.\n",
      "WARNING:Numerics:Extrapolation may have failed. Check resulting frequency spectrum for unexpected results.\n",
      "WARNING:Numerics:Extrapolation may have failed. Check resulting frequency spectrum for unexpected results.\n",
      "WARNING:Numerics:Extrapolation may have failed. Check resulting frequency spectrum for unexpected results.\n",
      "WARNING:Numerics:Extrapolation may have failed. Check resulting frequency spectrum for unexpected results.\n"
     ]
    },
    {
     "name": "stdout",
     "output_type": "stream",
     "text": [
      "\t\t\tOptimized parameters =[2.289862, 9.630699, 0.033711]\n",
      "\n"
     ]
    },
    {
     "name": "stderr",
     "output_type": "stream",
     "text": [
      "WARNING:Numerics:Extrapolation may have failed. Check resulting frequency spectrum for unexpected results.\n"
     ]
    },
    {
     "name": "stdout",
     "output_type": "stream",
     "text": [
      "\t\t\tLikelihood = -108,687.75\n",
      "\t\t\tAIC = 217,381.5\n",
      "\t\t\tTheta = 44,659.19\n",
      "\t\t\tChi-Squared = 197,464.85\n",
      "\n",
      "\t\t\tReplicate time: 0:00:46.465576 (H:M:S)\n",
      "\n",
      "\n",
      "\t\tRound 4 Replicate 17 of 40:\n",
      "\n",
      "\t\t\tStarting parameters = [4.074428, 6.325365, 0.050816]\n"
     ]
    },
    {
     "name": "stderr",
     "output_type": "stream",
     "text": [
      "WARNING:Numerics:Extrapolation may have failed. Check resulting frequency spectrum for unexpected results.\n",
      "WARNING:Numerics:Extrapolation may have failed. Check resulting frequency spectrum for unexpected results.\n",
      "WARNING:Numerics:Extrapolation may have failed. Check resulting frequency spectrum for unexpected results.\n",
      "WARNING:Numerics:Extrapolation may have failed. Check resulting frequency spectrum for unexpected results.\n",
      "WARNING:Numerics:Extrapolation may have failed. Check resulting frequency spectrum for unexpected results.\n",
      "WARNING:Numerics:Extrapolation may have failed. Check resulting frequency spectrum for unexpected results.\n",
      "WARNING:Numerics:Extrapolation may have failed. Check resulting frequency spectrum for unexpected results.\n",
      "WARNING:Numerics:Extrapolation may have failed. Check resulting frequency spectrum for unexpected results.\n",
      "WARNING:Numerics:Extrapolation may have failed. Check resulting frequency spectrum for unexpected results.\n",
      "WARNING:Numerics:Extrapolation may have failed. Check resulting frequency spectrum for unexpected results.\n",
      "WARNING:Numerics:Extrapolation may have failed. Check resulting frequency spectrum for unexpected results.\n",
      "WARNING:Numerics:Extrapolation may have failed. Check resulting frequency spectrum for unexpected results.\n",
      "WARNING:Numerics:Extrapolation may have failed. Check resulting frequency spectrum for unexpected results.\n",
      "WARNING:Numerics:Extrapolation may have failed. Check resulting frequency spectrum for unexpected results.\n",
      "WARNING:Numerics:Extrapolation may have failed. Check resulting frequency spectrum for unexpected results.\n",
      "WARNING:Numerics:Extrapolation may have failed. Check resulting frequency spectrum for unexpected results.\n",
      "WARNING:Numerics:Extrapolation may have failed. Check resulting frequency spectrum for unexpected results.\n",
      "WARNING:Numerics:Extrapolation may have failed. Check resulting frequency spectrum for unexpected results.\n",
      "WARNING:Numerics:Extrapolation may have failed. Check resulting frequency spectrum for unexpected results.\n",
      "WARNING:Numerics:Extrapolation may have failed. Check resulting frequency spectrum for unexpected results.\n",
      "WARNING:Numerics:Extrapolation may have failed. Check resulting frequency spectrum for unexpected results.\n",
      "WARNING:Numerics:Extrapolation may have failed. Check resulting frequency spectrum for unexpected results.\n",
      "WARNING:Numerics:Extrapolation may have failed. Check resulting frequency spectrum for unexpected results.\n",
      "WARNING:Numerics:Extrapolation may have failed. Check resulting frequency spectrum for unexpected results.\n",
      "WARNING:Numerics:Extrapolation may have failed. Check resulting frequency spectrum for unexpected results.\n",
      "WARNING:Numerics:Extrapolation may have failed. Check resulting frequency spectrum for unexpected results.\n",
      "WARNING:Numerics:Extrapolation may have failed. Check resulting frequency spectrum for unexpected results.\n",
      "WARNING:Numerics:Extrapolation may have failed. Check resulting frequency spectrum for unexpected results.\n",
      "WARNING:Numerics:Extrapolation may have failed. Check resulting frequency spectrum for unexpected results.\n"
     ]
    },
    {
     "name": "stdout",
     "output_type": "stream",
     "text": [
      "\t\t\tOptimized parameters =[3.424659, 13.180892, 0.040868]\n",
      "\n"
     ]
    },
    {
     "name": "stderr",
     "output_type": "stream",
     "text": [
      "WARNING:Numerics:Extrapolation may have failed. Check resulting frequency spectrum for unexpected results.\n"
     ]
    },
    {
     "name": "stdout",
     "output_type": "stream",
     "text": [
      "\t\t\tLikelihood = -106,326.63\n",
      "\t\t\tAIC = 212,659.26\n",
      "\t\t\tTheta = 40,480.22\n",
      "\t\t\tChi-Squared = 200,578.62\n",
      "\n",
      "\t\t\tReplicate time: 0:00:47.873938 (H:M:S)\n",
      "\n",
      "\n",
      "\t\tRound 4 Replicate 18 of 40:\n",
      "\n",
      "\t\t\tStarting parameters = [4.512534, 16.633426, 0.053984]\n"
     ]
    },
    {
     "name": "stderr",
     "output_type": "stream",
     "text": [
      "WARNING:Numerics:Extrapolation may have failed. Check resulting frequency spectrum for unexpected results.\n",
      "WARNING:Numerics:Extrapolation may have failed. Check resulting frequency spectrum for unexpected results.\n",
      "WARNING:Numerics:Extrapolation may have failed. Check resulting frequency spectrum for unexpected results.\n",
      "WARNING:Numerics:Extrapolation may have failed. Check resulting frequency spectrum for unexpected results.\n",
      "WARNING:Numerics:Extrapolation may have failed. Check resulting frequency spectrum for unexpected results.\n",
      "WARNING:Numerics:Extrapolation may have failed. Check resulting frequency spectrum for unexpected results.\n",
      "WARNING:Numerics:Extrapolation may have failed. Check resulting frequency spectrum for unexpected results.\n",
      "WARNING:Numerics:Extrapolation may have failed. Check resulting frequency spectrum for unexpected results.\n",
      "WARNING:Numerics:Extrapolation may have failed. Check resulting frequency spectrum for unexpected results.\n",
      "WARNING:Numerics:Extrapolation may have failed. Check resulting frequency spectrum for unexpected results.\n",
      "WARNING:Numerics:Extrapolation may have failed. Check resulting frequency spectrum for unexpected results.\n",
      "WARNING:Numerics:Extrapolation may have failed. Check resulting frequency spectrum for unexpected results.\n",
      "WARNING:Numerics:Extrapolation may have failed. Check resulting frequency spectrum for unexpected results.\n",
      "WARNING:Numerics:Extrapolation may have failed. Check resulting frequency spectrum for unexpected results.\n",
      "WARNING:Numerics:Extrapolation may have failed. Check resulting frequency spectrum for unexpected results.\n",
      "WARNING:Numerics:Extrapolation may have failed. Check resulting frequency spectrum for unexpected results.\n",
      "WARNING:Numerics:Extrapolation may have failed. Check resulting frequency spectrum for unexpected results.\n",
      "WARNING:Numerics:Extrapolation may have failed. Check resulting frequency spectrum for unexpected results.\n",
      "WARNING:Numerics:Extrapolation may have failed. Check resulting frequency spectrum for unexpected results.\n",
      "WARNING:Numerics:Extrapolation may have failed. Check resulting frequency spectrum for unexpected results.\n",
      "WARNING:Numerics:Extrapolation may have failed. Check resulting frequency spectrum for unexpected results.\n",
      "WARNING:Numerics:Extrapolation may have failed. Check resulting frequency spectrum for unexpected results.\n",
      "WARNING:Numerics:Extrapolation may have failed. Check resulting frequency spectrum for unexpected results.\n",
      "WARNING:Numerics:Extrapolation may have failed. Check resulting frequency spectrum for unexpected results.\n",
      "WARNING:Numerics:Extrapolation may have failed. Check resulting frequency spectrum for unexpected results.\n",
      "WARNING:Numerics:Extrapolation may have failed. Check resulting frequency spectrum for unexpected results.\n"
     ]
    },
    {
     "name": "stdout",
     "output_type": "stream",
     "text": [
      "\t\t\tOptimized parameters =[3.190511, 13.159032, 0.039159]\n",
      "\n"
     ]
    },
    {
     "name": "stderr",
     "output_type": "stream",
     "text": [
      "WARNING:Numerics:Extrapolation may have failed. Check resulting frequency spectrum for unexpected results.\n"
     ]
    },
    {
     "name": "stdout",
     "output_type": "stream",
     "text": [
      "\t\t\tLikelihood = -106,339.5\n",
      "\t\t\tAIC = 212,685.0\n",
      "\t\t\tTheta = 41,217.76\n",
      "\t\t\tChi-Squared = 198,533.51\n",
      "\n",
      "\t\t\tReplicate time: 0:00:43.075883 (H:M:S)\n",
      "\n",
      "\n",
      "\t\tRound 4 Replicate 19 of 40:\n",
      "\n",
      "\t\t\tStarting parameters = [6.886928, 7.808425, 0.036898]\n"
     ]
    },
    {
     "name": "stderr",
     "output_type": "stream",
     "text": [
      "WARNING:Numerics:Extrapolation may have failed. Check resulting frequency spectrum for unexpected results.\n",
      "WARNING:Numerics:Extrapolation may have failed. Check resulting frequency spectrum for unexpected results.\n",
      "WARNING:Numerics:Extrapolation may have failed. Check resulting frequency spectrum for unexpected results.\n",
      "WARNING:Numerics:Extrapolation may have failed. Check resulting frequency spectrum for unexpected results.\n",
      "WARNING:Numerics:Extrapolation may have failed. Check resulting frequency spectrum for unexpected results.\n",
      "WARNING:Numerics:Extrapolation may have failed. Check resulting frequency spectrum for unexpected results.\n",
      "WARNING:Numerics:Extrapolation may have failed. Check resulting frequency spectrum for unexpected results.\n",
      "WARNING:Numerics:Extrapolation may have failed. Check resulting frequency spectrum for unexpected results.\n",
      "WARNING:Numerics:Extrapolation may have failed. Check resulting frequency spectrum for unexpected results.\n",
      "WARNING:Numerics:Extrapolation may have failed. Check resulting frequency spectrum for unexpected results.\n",
      "WARNING:Numerics:Extrapolation may have failed. Check resulting frequency spectrum for unexpected results.\n",
      "WARNING:Numerics:Extrapolation may have failed. Check resulting frequency spectrum for unexpected results.\n",
      "WARNING:Numerics:Extrapolation may have failed. Check resulting frequency spectrum for unexpected results.\n",
      "WARNING:Numerics:Extrapolation may have failed. Check resulting frequency spectrum for unexpected results.\n",
      "WARNING:Numerics:Extrapolation may have failed. Check resulting frequency spectrum for unexpected results.\n",
      "WARNING:Numerics:Extrapolation may have failed. Check resulting frequency spectrum for unexpected results.\n",
      "WARNING:Numerics:Extrapolation may have failed. Check resulting frequency spectrum for unexpected results.\n",
      "WARNING:Numerics:Extrapolation may have failed. Check resulting frequency spectrum for unexpected results.\n",
      "WARNING:Numerics:Extrapolation may have failed. Check resulting frequency spectrum for unexpected results.\n",
      "WARNING:Numerics:Extrapolation may have failed. Check resulting frequency spectrum for unexpected results.\n",
      "WARNING:Numerics:Extrapolation may have failed. Check resulting frequency spectrum for unexpected results.\n",
      "WARNING:Numerics:Extrapolation may have failed. Check resulting frequency spectrum for unexpected results.\n",
      "WARNING:Numerics:Extrapolation may have failed. Check resulting frequency spectrum for unexpected results.\n",
      "WARNING:Numerics:Extrapolation may have failed. Check resulting frequency spectrum for unexpected results.\n",
      "WARNING:Numerics:Extrapolation may have failed. Check resulting frequency spectrum for unexpected results.\n",
      "WARNING:Numerics:Extrapolation may have failed. Check resulting frequency spectrum for unexpected results.\n",
      "WARNING:Numerics:Extrapolation may have failed. Check resulting frequency spectrum for unexpected results.\n",
      "WARNING:Numerics:Extrapolation may have failed. Check resulting frequency spectrum for unexpected results.\n",
      "WARNING:Numerics:Extrapolation may have failed. Check resulting frequency spectrum for unexpected results.\n"
     ]
    },
    {
     "name": "stdout",
     "output_type": "stream",
     "text": [
      "\t\t\tOptimized parameters =[2.902293, 12.771611, 0.035809]\n",
      "\n"
     ]
    },
    {
     "name": "stderr",
     "output_type": "stream",
     "text": [
      "WARNING:Numerics:Extrapolation may have failed. Check resulting frequency spectrum for unexpected results.\n"
     ]
    },
    {
     "name": "stdout",
     "output_type": "stream",
     "text": [
      "\t\t\tLikelihood = -106,496.82\n",
      "\t\t\tAIC = 212,999.64\n",
      "\t\t\tTheta = 42,750.78\n",
      "\t\t\tChi-Squared = 193,116.47\n",
      "\n",
      "\t\t\tReplicate time: 0:00:47.921746 (H:M:S)\n",
      "\n",
      "\n",
      "\t\tRound 4 Replicate 20 of 40:\n",
      "\n",
      "\t\t\tStarting parameters = [6.519313, 15.074661, 0.024983]\n"
     ]
    },
    {
     "name": "stderr",
     "output_type": "stream",
     "text": [
      "WARNING:Numerics:Extrapolation may have failed. Check resulting frequency spectrum for unexpected results.\n",
      "WARNING:Numerics:Extrapolation may have failed. Check resulting frequency spectrum for unexpected results.\n",
      "WARNING:Numerics:Extrapolation may have failed. Check resulting frequency spectrum for unexpected results.\n",
      "WARNING:Numerics:Extrapolation may have failed. Check resulting frequency spectrum for unexpected results.\n",
      "WARNING:Numerics:Extrapolation may have failed. Check resulting frequency spectrum for unexpected results.\n",
      "WARNING:Numerics:Extrapolation may have failed. Check resulting frequency spectrum for unexpected results.\n",
      "WARNING:Numerics:Extrapolation may have failed. Check resulting frequency spectrum for unexpected results.\n",
      "WARNING:Numerics:Extrapolation may have failed. Check resulting frequency spectrum for unexpected results.\n",
      "WARNING:Numerics:Extrapolation may have failed. Check resulting frequency spectrum for unexpected results.\n",
      "WARNING:Numerics:Extrapolation may have failed. Check resulting frequency spectrum for unexpected results.\n",
      "WARNING:Numerics:Extrapolation may have failed. Check resulting frequency spectrum for unexpected results.\n",
      "WARNING:Numerics:Extrapolation may have failed. Check resulting frequency spectrum for unexpected results.\n",
      "WARNING:Numerics:Extrapolation may have failed. Check resulting frequency spectrum for unexpected results.\n",
      "WARNING:Numerics:Extrapolation may have failed. Check resulting frequency spectrum for unexpected results.\n",
      "WARNING:Numerics:Extrapolation may have failed. Check resulting frequency spectrum for unexpected results.\n",
      "WARNING:Numerics:Extrapolation may have failed. Check resulting frequency spectrum for unexpected results.\n",
      "WARNING:Numerics:Extrapolation may have failed. Check resulting frequency spectrum for unexpected results.\n",
      "WARNING:Numerics:Extrapolation may have failed. Check resulting frequency spectrum for unexpected results.\n",
      "WARNING:Numerics:Extrapolation may have failed. Check resulting frequency spectrum for unexpected results.\n",
      "WARNING:Numerics:Extrapolation may have failed. Check resulting frequency spectrum for unexpected results.\n",
      "WARNING:Numerics:Extrapolation may have failed. Check resulting frequency spectrum for unexpected results.\n",
      "WARNING:Numerics:Extrapolation may have failed. Check resulting frequency spectrum for unexpected results.\n",
      "WARNING:Numerics:Extrapolation may have failed. Check resulting frequency spectrum for unexpected results.\n",
      "WARNING:Numerics:Extrapolation may have failed. Check resulting frequency spectrum for unexpected results.\n",
      "WARNING:Numerics:Extrapolation may have failed. Check resulting frequency spectrum for unexpected results.\n",
      "WARNING:Numerics:Extrapolation may have failed. Check resulting frequency spectrum for unexpected results.\n"
     ]
    },
    {
     "name": "stdout",
     "output_type": "stream",
     "text": [
      "\t\t\tOptimized parameters =[5.762136, 14.61896, 0.041751]\n",
      "\n"
     ]
    },
    {
     "name": "stderr",
     "output_type": "stream",
     "text": [
      "WARNING:Numerics:Extrapolation may have failed. Check resulting frequency spectrum for unexpected results.\n"
     ]
    },
    {
     "name": "stdout",
     "output_type": "stream",
     "text": [
      "\t\t\tLikelihood = -110,274.62\n",
      "\t\t\tAIC = 220,555.24\n",
      "\t\t\tTheta = 39,188.47\n",
      "\t\t\tChi-Squared = 213,475.6\n",
      "\n",
      "\t\t\tReplicate time: 0:00:43.160889 (H:M:S)\n",
      "\n",
      "\n",
      "\t\tRound 4 Replicate 21 of 40:\n",
      "\n",
      "\t\t\tStarting parameters = [2.302478, 20.400757, 0.024313]\n"
     ]
    },
    {
     "name": "stderr",
     "output_type": "stream",
     "text": [
      "WARNING:Numerics:Extrapolation may have failed. Check resulting frequency spectrum for unexpected results.\n",
      "WARNING:Numerics:Extrapolation may have failed. Check resulting frequency spectrum for unexpected results.\n",
      "WARNING:Numerics:Extrapolation may have failed. Check resulting frequency spectrum for unexpected results.\n",
      "WARNING:Numerics:Extrapolation may have failed. Check resulting frequency spectrum for unexpected results.\n",
      "WARNING:Numerics:Extrapolation may have failed. Check resulting frequency spectrum for unexpected results.\n",
      "WARNING:Numerics:Extrapolation may have failed. Check resulting frequency spectrum for unexpected results.\n",
      "WARNING:Numerics:Extrapolation may have failed. Check resulting frequency spectrum for unexpected results.\n",
      "WARNING:Numerics:Extrapolation may have failed. Check resulting frequency spectrum for unexpected results.\n",
      "WARNING:Numerics:Extrapolation may have failed. Check resulting frequency spectrum for unexpected results.\n",
      "WARNING:Numerics:Extrapolation may have failed. Check resulting frequency spectrum for unexpected results.\n",
      "WARNING:Numerics:Extrapolation may have failed. Check resulting frequency spectrum for unexpected results.\n",
      "WARNING:Numerics:Extrapolation may have failed. Check resulting frequency spectrum for unexpected results.\n",
      "WARNING:Numerics:Extrapolation may have failed. Check resulting frequency spectrum for unexpected results.\n",
      "WARNING:Numerics:Extrapolation may have failed. Check resulting frequency spectrum for unexpected results.\n",
      "WARNING:Numerics:Extrapolation may have failed. Check resulting frequency spectrum for unexpected results.\n",
      "WARNING:Numerics:Extrapolation may have failed. Check resulting frequency spectrum for unexpected results.\n",
      "WARNING:Numerics:Extrapolation may have failed. Check resulting frequency spectrum for unexpected results.\n",
      "WARNING:Numerics:Extrapolation may have failed. Check resulting frequency spectrum for unexpected results.\n",
      "WARNING:Numerics:Extrapolation may have failed. Check resulting frequency spectrum for unexpected results.\n",
      "WARNING:Numerics:Extrapolation may have failed. Check resulting frequency spectrum for unexpected results.\n",
      "WARNING:Numerics:Extrapolation may have failed. Check resulting frequency spectrum for unexpected results.\n",
      "WARNING:Numerics:Extrapolation may have failed. Check resulting frequency spectrum for unexpected results.\n",
      "WARNING:Numerics:Extrapolation may have failed. Check resulting frequency spectrum for unexpected results.\n",
      "WARNING:Numerics:Extrapolation may have failed. Check resulting frequency spectrum for unexpected results.\n",
      "WARNING:Numerics:Extrapolation may have failed. Check resulting frequency spectrum for unexpected results.\n",
      "WARNING:Numerics:Extrapolation may have failed. Check resulting frequency spectrum for unexpected results.\n",
      "WARNING:Numerics:Extrapolation may have failed. Check resulting frequency spectrum for unexpected results.\n",
      "WARNING:Numerics:Extrapolation may have failed. Check resulting frequency spectrum for unexpected results.\n",
      "WARNING:Numerics:Extrapolation may have failed. Check resulting frequency spectrum for unexpected results.\n"
     ]
    },
    {
     "name": "stdout",
     "output_type": "stream",
     "text": [
      "\t\t\tOptimized parameters =[2.59279, 13.050424, 0.035052]\n",
      "\n"
     ]
    },
    {
     "name": "stderr",
     "output_type": "stream",
     "text": [
      "WARNING:Numerics:Extrapolation may have failed. Check resulting frequency spectrum for unexpected results.\n"
     ]
    },
    {
     "name": "stdout",
     "output_type": "stream",
     "text": [
      "\t\t\tLikelihood = -106,977.82\n",
      "\t\t\tAIC = 213,961.64\n",
      "\t\t\tTheta = 43,205.81\n",
      "\t\t\tChi-Squared = 195,265.08\n",
      "\n",
      "\t\t\tReplicate time: 0:00:47.996932 (H:M:S)\n",
      "\n",
      "\n",
      "\t\tRound 4 Replicate 22 of 40:\n",
      "\n",
      "\t\t\tStarting parameters = [1.866594, 6.419197, 0.026246]\n"
     ]
    },
    {
     "name": "stderr",
     "output_type": "stream",
     "text": [
      "WARNING:Numerics:Extrapolation may have failed. Check resulting frequency spectrum for unexpected results.\n",
      "WARNING:Numerics:Extrapolation may have failed. Check resulting frequency spectrum for unexpected results.\n",
      "WARNING:Numerics:Extrapolation may have failed. Check resulting frequency spectrum for unexpected results.\n",
      "WARNING:Numerics:Extrapolation may have failed. Check resulting frequency spectrum for unexpected results.\n",
      "WARNING:Numerics:Extrapolation may have failed. Check resulting frequency spectrum for unexpected results.\n",
      "WARNING:Numerics:Extrapolation may have failed. Check resulting frequency spectrum for unexpected results.\n",
      "WARNING:Numerics:Extrapolation may have failed. Check resulting frequency spectrum for unexpected results.\n",
      "WARNING:Numerics:Extrapolation may have failed. Check resulting frequency spectrum for unexpected results.\n",
      "WARNING:Numerics:Extrapolation may have failed. Check resulting frequency spectrum for unexpected results.\n",
      "WARNING:Numerics:Extrapolation may have failed. Check resulting frequency spectrum for unexpected results.\n",
      "WARNING:Numerics:Extrapolation may have failed. Check resulting frequency spectrum for unexpected results.\n",
      "WARNING:Numerics:Extrapolation may have failed. Check resulting frequency spectrum for unexpected results.\n",
      "WARNING:Numerics:Extrapolation may have failed. Check resulting frequency spectrum for unexpected results.\n",
      "WARNING:Numerics:Extrapolation may have failed. Check resulting frequency spectrum for unexpected results.\n",
      "WARNING:Numerics:Extrapolation may have failed. Check resulting frequency spectrum for unexpected results.\n",
      "WARNING:Numerics:Extrapolation may have failed. Check resulting frequency spectrum for unexpected results.\n",
      "WARNING:Numerics:Extrapolation may have failed. Check resulting frequency spectrum for unexpected results.\n",
      "WARNING:Numerics:Extrapolation may have failed. Check resulting frequency spectrum for unexpected results.\n",
      "WARNING:Numerics:Extrapolation may have failed. Check resulting frequency spectrum for unexpected results.\n",
      "WARNING:Numerics:Extrapolation may have failed. Check resulting frequency spectrum for unexpected results.\n",
      "WARNING:Numerics:Extrapolation may have failed. Check resulting frequency spectrum for unexpected results.\n",
      "WARNING:Numerics:Extrapolation may have failed. Check resulting frequency spectrum for unexpected results.\n",
      "WARNING:Numerics:Extrapolation may have failed. Check resulting frequency spectrum for unexpected results.\n",
      "WARNING:Numerics:Extrapolation may have failed. Check resulting frequency spectrum for unexpected results.\n",
      "WARNING:Numerics:Extrapolation may have failed. Check resulting frequency spectrum for unexpected results.\n",
      "WARNING:Numerics:Extrapolation may have failed. Check resulting frequency spectrum for unexpected results.\n"
     ]
    },
    {
     "name": "stdout",
     "output_type": "stream",
     "text": [
      "\t\t\tOptimized parameters =[2.187679, 14.533609, 0.031913]\n",
      "\n"
     ]
    },
    {
     "name": "stderr",
     "output_type": "stream",
     "text": [
      "WARNING:Numerics:Extrapolation may have failed. Check resulting frequency spectrum for unexpected results.\n"
     ]
    },
    {
     "name": "stdout",
     "output_type": "stream",
     "text": [
      "\t\t\tLikelihood = -108,068.27\n",
      "\t\t\tAIC = 216,142.54\n",
      "\t\t\tTheta = 44,693.07\n",
      "\t\t\tChi-Squared = 194,077.97\n",
      "\n",
      "\t\t\tReplicate time: 0:00:43.212205 (H:M:S)\n",
      "\n",
      "\n",
      "\t\tRound 4 Replicate 23 of 40:\n",
      "\n",
      "\t\t\tStarting parameters = [4.178515, 7.499597, 0.021798]\n"
     ]
    },
    {
     "name": "stderr",
     "output_type": "stream",
     "text": [
      "WARNING:Numerics:Extrapolation may have failed. Check resulting frequency spectrum for unexpected results.\n",
      "WARNING:Numerics:Extrapolation may have failed. Check resulting frequency spectrum for unexpected results.\n",
      "WARNING:Numerics:Extrapolation may have failed. Check resulting frequency spectrum for unexpected results.\n",
      "WARNING:Numerics:Extrapolation may have failed. Check resulting frequency spectrum for unexpected results.\n",
      "WARNING:Numerics:Extrapolation may have failed. Check resulting frequency spectrum for unexpected results.\n",
      "WARNING:Numerics:Extrapolation may have failed. Check resulting frequency spectrum for unexpected results.\n",
      "WARNING:Numerics:Extrapolation may have failed. Check resulting frequency spectrum for unexpected results.\n",
      "WARNING:Numerics:Extrapolation may have failed. Check resulting frequency spectrum for unexpected results.\n",
      "WARNING:Numerics:Extrapolation may have failed. Check resulting frequency spectrum for unexpected results.\n",
      "WARNING:Numerics:Extrapolation may have failed. Check resulting frequency spectrum for unexpected results.\n",
      "WARNING:Numerics:Extrapolation may have failed. Check resulting frequency spectrum for unexpected results.\n",
      "WARNING:Numerics:Extrapolation may have failed. Check resulting frequency spectrum for unexpected results.\n",
      "WARNING:Numerics:Extrapolation may have failed. Check resulting frequency spectrum for unexpected results.\n",
      "WARNING:Numerics:Extrapolation may have failed. Check resulting frequency spectrum for unexpected results.\n",
      "WARNING:Numerics:Extrapolation may have failed. Check resulting frequency spectrum for unexpected results.\n",
      "WARNING:Numerics:Extrapolation may have failed. Check resulting frequency spectrum for unexpected results.\n",
      "WARNING:Numerics:Extrapolation may have failed. Check resulting frequency spectrum for unexpected results.\n",
      "WARNING:Numerics:Extrapolation may have failed. Check resulting frequency spectrum for unexpected results.\n",
      "WARNING:Numerics:Extrapolation may have failed. Check resulting frequency spectrum for unexpected results.\n",
      "WARNING:Numerics:Extrapolation may have failed. Check resulting frequency spectrum for unexpected results.\n",
      "WARNING:Numerics:Extrapolation may have failed. Check resulting frequency spectrum for unexpected results.\n",
      "WARNING:Numerics:Extrapolation may have failed. Check resulting frequency spectrum for unexpected results.\n",
      "WARNING:Numerics:Extrapolation may have failed. Check resulting frequency spectrum for unexpected results.\n",
      "WARNING:Numerics:Extrapolation may have failed. Check resulting frequency spectrum for unexpected results.\n",
      "WARNING:Numerics:Extrapolation may have failed. Check resulting frequency spectrum for unexpected results.\n",
      "WARNING:Numerics:Extrapolation may have failed. Check resulting frequency spectrum for unexpected results.\n"
     ]
    },
    {
     "name": "stdout",
     "output_type": "stream",
     "text": [
      "\t\t\tOptimized parameters =[4.212852, 12.850791, 0.042466]\n",
      "\n"
     ]
    },
    {
     "name": "stderr",
     "output_type": "stream",
     "text": [
      "WARNING:Numerics:Extrapolation may have failed. Check resulting frequency spectrum for unexpected results.\n"
     ]
    },
    {
     "name": "stdout",
     "output_type": "stream",
     "text": [
      "\t\t\tLikelihood = -107,310.23\n",
      "\t\t\tAIC = 214,626.46\n",
      "\t\t\tTheta = 39,571.36\n",
      "\t\t\tChi-Squared = 203,353.61\n",
      "\n",
      "\t\t\tReplicate time: 0:00:43.036977 (H:M:S)\n",
      "\n",
      "\n",
      "\t\tRound 4 Replicate 24 of 40:\n",
      "\n",
      "\t\t\tStarting parameters = [4.330579, 13.644539, 0.041032]\n"
     ]
    },
    {
     "name": "stderr",
     "output_type": "stream",
     "text": [
      "WARNING:Numerics:Extrapolation may have failed. Check resulting frequency spectrum for unexpected results.\n",
      "WARNING:Numerics:Extrapolation may have failed. Check resulting frequency spectrum for unexpected results.\n",
      "WARNING:Numerics:Extrapolation may have failed. Check resulting frequency spectrum for unexpected results.\n",
      "WARNING:Numerics:Extrapolation may have failed. Check resulting frequency spectrum for unexpected results.\n",
      "WARNING:Numerics:Extrapolation may have failed. Check resulting frequency spectrum for unexpected results.\n",
      "WARNING:Numerics:Extrapolation may have failed. Check resulting frequency spectrum for unexpected results.\n",
      "WARNING:Numerics:Extrapolation may have failed. Check resulting frequency spectrum for unexpected results.\n",
      "WARNING:Numerics:Extrapolation may have failed. Check resulting frequency spectrum for unexpected results.\n",
      "WARNING:Numerics:Extrapolation may have failed. Check resulting frequency spectrum for unexpected results.\n",
      "WARNING:Numerics:Extrapolation may have failed. Check resulting frequency spectrum for unexpected results.\n",
      "WARNING:Numerics:Extrapolation may have failed. Check resulting frequency spectrum for unexpected results.\n",
      "WARNING:Numerics:Extrapolation may have failed. Check resulting frequency spectrum for unexpected results.\n",
      "WARNING:Numerics:Extrapolation may have failed. Check resulting frequency spectrum for unexpected results.\n",
      "WARNING:Numerics:Extrapolation may have failed. Check resulting frequency spectrum for unexpected results.\n",
      "WARNING:Numerics:Extrapolation may have failed. Check resulting frequency spectrum for unexpected results.\n",
      "WARNING:Numerics:Extrapolation may have failed. Check resulting frequency spectrum for unexpected results.\n",
      "WARNING:Numerics:Extrapolation may have failed. Check resulting frequency spectrum for unexpected results.\n",
      "WARNING:Numerics:Extrapolation may have failed. Check resulting frequency spectrum for unexpected results.\n",
      "WARNING:Numerics:Extrapolation may have failed. Check resulting frequency spectrum for unexpected results.\n",
      "WARNING:Numerics:Extrapolation may have failed. Check resulting frequency spectrum for unexpected results.\n",
      "WARNING:Numerics:Extrapolation may have failed. Check resulting frequency spectrum for unexpected results.\n",
      "WARNING:Numerics:Extrapolation may have failed. Check resulting frequency spectrum for unexpected results.\n",
      "WARNING:Numerics:Extrapolation may have failed. Check resulting frequency spectrum for unexpected results.\n",
      "WARNING:Numerics:Extrapolation may have failed. Check resulting frequency spectrum for unexpected results.\n",
      "WARNING:Numerics:Extrapolation may have failed. Check resulting frequency spectrum for unexpected results.\n",
      "WARNING:Numerics:Extrapolation may have failed. Check resulting frequency spectrum for unexpected results.\n",
      "WARNING:Numerics:Extrapolation may have failed. Check resulting frequency spectrum for unexpected results.\n",
      "WARNING:Numerics:Extrapolation may have failed. Check resulting frequency spectrum for unexpected results.\n",
      "WARNING:Numerics:Extrapolation may have failed. Check resulting frequency spectrum for unexpected results.\n"
     ]
    },
    {
     "name": "stdout",
     "output_type": "stream",
     "text": [
      "\t\t\tOptimized parameters =[3.156955, 12.463249, 0.038003]\n",
      "\n"
     ]
    },
    {
     "name": "stderr",
     "output_type": "stream",
     "text": [
      "WARNING:Numerics:Extrapolation may have failed. Check resulting frequency spectrum for unexpected results.\n"
     ]
    },
    {
     "name": "stdout",
     "output_type": "stream",
     "text": [
      "\t\t\tLikelihood = -106,268.79\n",
      "\t\t\tAIC = 212,543.58\n",
      "\t\t\tTheta = 41,807.23\n",
      "\t\t\tChi-Squared = 195,462.74\n",
      "\n",
      "\t\t\tReplicate time: 0:00:48.039744 (H:M:S)\n",
      "\n",
      "\n",
      "\t\tRound 4 Replicate 25 of 40:\n",
      "\n",
      "\t\t\tStarting parameters = [4.815954, 13.197475, 0.029821]\n"
     ]
    },
    {
     "name": "stderr",
     "output_type": "stream",
     "text": [
      "WARNING:Numerics:Extrapolation may have failed. Check resulting frequency spectrum for unexpected results.\n",
      "WARNING:Numerics:Extrapolation may have failed. Check resulting frequency spectrum for unexpected results.\n",
      "WARNING:Numerics:Extrapolation may have failed. Check resulting frequency spectrum for unexpected results.\n",
      "WARNING:Numerics:Extrapolation may have failed. Check resulting frequency spectrum for unexpected results.\n",
      "WARNING:Numerics:Extrapolation may have failed. Check resulting frequency spectrum for unexpected results.\n",
      "WARNING:Numerics:Extrapolation may have failed. Check resulting frequency spectrum for unexpected results.\n",
      "WARNING:Numerics:Extrapolation may have failed. Check resulting frequency spectrum for unexpected results.\n",
      "WARNING:Numerics:Extrapolation may have failed. Check resulting frequency spectrum for unexpected results.\n",
      "WARNING:Numerics:Extrapolation may have failed. Check resulting frequency spectrum for unexpected results.\n",
      "WARNING:Numerics:Extrapolation may have failed. Check resulting frequency spectrum for unexpected results.\n",
      "WARNING:Numerics:Extrapolation may have failed. Check resulting frequency spectrum for unexpected results.\n",
      "WARNING:Numerics:Extrapolation may have failed. Check resulting frequency spectrum for unexpected results.\n",
      "WARNING:Numerics:Extrapolation may have failed. Check resulting frequency spectrum for unexpected results.\n",
      "WARNING:Numerics:Extrapolation may have failed. Check resulting frequency spectrum for unexpected results.\n",
      "WARNING:Numerics:Extrapolation may have failed. Check resulting frequency spectrum for unexpected results.\n",
      "WARNING:Numerics:Extrapolation may have failed. Check resulting frequency spectrum for unexpected results.\n",
      "WARNING:Numerics:Extrapolation may have failed. Check resulting frequency spectrum for unexpected results.\n",
      "WARNING:Numerics:Extrapolation may have failed. Check resulting frequency spectrum for unexpected results.\n",
      "WARNING:Numerics:Extrapolation may have failed. Check resulting frequency spectrum for unexpected results.\n",
      "WARNING:Numerics:Extrapolation may have failed. Check resulting frequency spectrum for unexpected results.\n",
      "WARNING:Numerics:Extrapolation may have failed. Check resulting frequency spectrum for unexpected results.\n",
      "WARNING:Numerics:Extrapolation may have failed. Check resulting frequency spectrum for unexpected results.\n",
      "WARNING:Numerics:Extrapolation may have failed. Check resulting frequency spectrum for unexpected results.\n",
      "WARNING:Numerics:Extrapolation may have failed. Check resulting frequency spectrum for unexpected results.\n",
      "WARNING:Numerics:Extrapolation may have failed. Check resulting frequency spectrum for unexpected results.\n",
      "WARNING:Numerics:Extrapolation may have failed. Check resulting frequency spectrum for unexpected results.\n",
      "WARNING:Numerics:Extrapolation may have failed. Check resulting frequency spectrum for unexpected results.\n",
      "WARNING:Numerics:Extrapolation may have failed. Check resulting frequency spectrum for unexpected results.\n",
      "WARNING:Numerics:Extrapolation may have failed. Check resulting frequency spectrum for unexpected results.\n"
     ]
    },
    {
     "name": "stdout",
     "output_type": "stream",
     "text": [
      "\t\t\tOptimized parameters =[3.495236, 13.86583, 0.041462]\n",
      "\n"
     ]
    },
    {
     "name": "stderr",
     "output_type": "stream",
     "text": [
      "WARNING:Numerics:Extrapolation may have failed. Check resulting frequency spectrum for unexpected results.\n"
     ]
    },
    {
     "name": "stdout",
     "output_type": "stream",
     "text": [
      "\t\t\tLikelihood = -106,415.6\n",
      "\t\t\tAIC = 212,837.2\n",
      "\t\t\tTheta = 40,123.95\n",
      "\t\t\tChi-Squared = 202,048.21\n",
      "\n",
      "\t\t\tReplicate time: 0:00:47.637665 (H:M:S)\n",
      "\n",
      "\n",
      "\t\tRound 4 Replicate 26 of 40:\n",
      "\n",
      "\t\t\tStarting parameters = [5.299986, 12.109882, 0.023116]\n"
     ]
    },
    {
     "name": "stderr",
     "output_type": "stream",
     "text": [
      "WARNING:Numerics:Extrapolation may have failed. Check resulting frequency spectrum for unexpected results.\n",
      "WARNING:Numerics:Extrapolation may have failed. Check resulting frequency spectrum for unexpected results.\n",
      "WARNING:Numerics:Extrapolation may have failed. Check resulting frequency spectrum for unexpected results.\n",
      "WARNING:Numerics:Extrapolation may have failed. Check resulting frequency spectrum for unexpected results.\n",
      "WARNING:Numerics:Extrapolation may have failed. Check resulting frequency spectrum for unexpected results.\n",
      "WARNING:Numerics:Extrapolation may have failed. Check resulting frequency spectrum for unexpected results.\n",
      "WARNING:Numerics:Extrapolation may have failed. Check resulting frequency spectrum for unexpected results.\n",
      "WARNING:Numerics:Extrapolation may have failed. Check resulting frequency spectrum for unexpected results.\n",
      "WARNING:Numerics:Extrapolation may have failed. Check resulting frequency spectrum for unexpected results.\n",
      "WARNING:Numerics:Extrapolation may have failed. Check resulting frequency spectrum for unexpected results.\n",
      "WARNING:Numerics:Extrapolation may have failed. Check resulting frequency spectrum for unexpected results.\n",
      "WARNING:Numerics:Extrapolation may have failed. Check resulting frequency spectrum for unexpected results.\n",
      "WARNING:Numerics:Extrapolation may have failed. Check resulting frequency spectrum for unexpected results.\n",
      "WARNING:Numerics:Extrapolation may have failed. Check resulting frequency spectrum for unexpected results.\n",
      "WARNING:Numerics:Extrapolation may have failed. Check resulting frequency spectrum for unexpected results.\n",
      "WARNING:Numerics:Extrapolation may have failed. Check resulting frequency spectrum for unexpected results.\n",
      "WARNING:Numerics:Extrapolation may have failed. Check resulting frequency spectrum for unexpected results.\n",
      "WARNING:Numerics:Extrapolation may have failed. Check resulting frequency spectrum for unexpected results.\n",
      "WARNING:Numerics:Extrapolation may have failed. Check resulting frequency spectrum for unexpected results.\n",
      "WARNING:Numerics:Extrapolation may have failed. Check resulting frequency spectrum for unexpected results.\n",
      "WARNING:Numerics:Extrapolation may have failed. Check resulting frequency spectrum for unexpected results.\n",
      "WARNING:Numerics:Extrapolation may have failed. Check resulting frequency spectrum for unexpected results.\n",
      "WARNING:Numerics:Extrapolation may have failed. Check resulting frequency spectrum for unexpected results.\n",
      "WARNING:Numerics:Extrapolation may have failed. Check resulting frequency spectrum for unexpected results.\n",
      "WARNING:Numerics:Extrapolation may have failed. Check resulting frequency spectrum for unexpected results.\n",
      "WARNING:Numerics:Extrapolation may have failed. Check resulting frequency spectrum for unexpected results.\n",
      "WARNING:Numerics:Extrapolation may have failed. Check resulting frequency spectrum for unexpected results.\n",
      "WARNING:Numerics:Extrapolation may have failed. Check resulting frequency spectrum for unexpected results.\n"
     ]
    },
    {
     "name": "stdout",
     "output_type": "stream",
     "text": [
      "\t\t\tOptimized parameters =[3.921285, 10.783797, 0.043681]\n",
      "\n"
     ]
    },
    {
     "name": "stderr",
     "output_type": "stream",
     "text": [
      "WARNING:Numerics:Extrapolation may have failed. Check resulting frequency spectrum for unexpected results.\n"
     ]
    },
    {
     "name": "stdout",
     "output_type": "stream",
     "text": [
      "\t\t\tLikelihood = -107,367.55\n",
      "\t\t\tAIC = 214,741.1\n",
      "\t\t\tTheta = 39,694.39\n",
      "\t\t\tChi-Squared = 205,098.39\n",
      "\n",
      "\t\t\tReplicate time: 0:00:46.053445 (H:M:S)\n",
      "\n",
      "\n",
      "\t\tRound 4 Replicate 27 of 40:\n",
      "\n",
      "\t\t\tStarting parameters = [2.4173, 13.848313, 0.01934]\n"
     ]
    },
    {
     "name": "stderr",
     "output_type": "stream",
     "text": [
      "WARNING:Numerics:Extrapolation may have failed. Check resulting frequency spectrum for unexpected results.\n",
      "WARNING:Numerics:Extrapolation may have failed. Check resulting frequency spectrum for unexpected results.\n",
      "WARNING:Numerics:Extrapolation may have failed. Check resulting frequency spectrum for unexpected results.\n",
      "WARNING:Numerics:Extrapolation may have failed. Check resulting frequency spectrum for unexpected results.\n",
      "WARNING:Numerics:Extrapolation may have failed. Check resulting frequency spectrum for unexpected results.\n",
      "WARNING:Numerics:Extrapolation may have failed. Check resulting frequency spectrum for unexpected results.\n",
      "WARNING:Numerics:Extrapolation may have failed. Check resulting frequency spectrum for unexpected results.\n",
      "WARNING:Numerics:Extrapolation may have failed. Check resulting frequency spectrum for unexpected results.\n",
      "WARNING:Numerics:Extrapolation may have failed. Check resulting frequency spectrum for unexpected results.\n",
      "WARNING:Numerics:Extrapolation may have failed. Check resulting frequency spectrum for unexpected results.\n",
      "WARNING:Numerics:Extrapolation may have failed. Check resulting frequency spectrum for unexpected results.\n",
      "WARNING:Numerics:Extrapolation may have failed. Check resulting frequency spectrum for unexpected results.\n",
      "WARNING:Numerics:Extrapolation may have failed. Check resulting frequency spectrum for unexpected results.\n",
      "WARNING:Numerics:Extrapolation may have failed. Check resulting frequency spectrum for unexpected results.\n",
      "WARNING:Numerics:Extrapolation may have failed. Check resulting frequency spectrum for unexpected results.\n",
      "WARNING:Numerics:Extrapolation may have failed. Check resulting frequency spectrum for unexpected results.\n",
      "WARNING:Numerics:Extrapolation may have failed. Check resulting frequency spectrum for unexpected results.\n",
      "WARNING:Numerics:Extrapolation may have failed. Check resulting frequency spectrum for unexpected results.\n",
      "WARNING:Numerics:Extrapolation may have failed. Check resulting frequency spectrum for unexpected results.\n",
      "WARNING:Numerics:Extrapolation may have failed. Check resulting frequency spectrum for unexpected results.\n",
      "WARNING:Numerics:Extrapolation may have failed. Check resulting frequency spectrum for unexpected results.\n",
      "WARNING:Numerics:Extrapolation may have failed. Check resulting frequency spectrum for unexpected results.\n",
      "WARNING:Numerics:Extrapolation may have failed. Check resulting frequency spectrum for unexpected results.\n",
      "WARNING:Numerics:Extrapolation may have failed. Check resulting frequency spectrum for unexpected results.\n",
      "WARNING:Numerics:Extrapolation may have failed. Check resulting frequency spectrum for unexpected results.\n",
      "WARNING:Numerics:Extrapolation may have failed. Check resulting frequency spectrum for unexpected results.\n",
      "WARNING:Numerics:Extrapolation may have failed. Check resulting frequency spectrum for unexpected results.\n",
      "WARNING:Numerics:Extrapolation may have failed. Check resulting frequency spectrum for unexpected results.\n",
      "WARNING:Numerics:Extrapolation may have failed. Check resulting frequency spectrum for unexpected results.\n"
     ]
    },
    {
     "name": "stdout",
     "output_type": "stream",
     "text": [
      "\t\t\tOptimized parameters =[2.571373, 12.403105, 0.034152]\n",
      "\n"
     ]
    },
    {
     "name": "stderr",
     "output_type": "stream",
     "text": [
      "WARNING:Numerics:Extrapolation may have failed. Check resulting frequency spectrum for unexpected results.\n"
     ]
    },
    {
     "name": "stdout",
     "output_type": "stream",
     "text": [
      "\t\t\tLikelihood = -107,057.83\n",
      "\t\t\tAIC = 214,121.66\n",
      "\t\t\tTheta = 43,696.42\n",
      "\t\t\tChi-Squared = 193,048.3\n",
      "\n",
      "\t\t\tReplicate time: 0:00:47.928210 (H:M:S)\n",
      "\n",
      "\n",
      "\t\tRound 4 Replicate 28 of 40:\n",
      "\n",
      "\t\t\tStarting parameters = [3.582886, 20.532074, 0.044865]\n"
     ]
    },
    {
     "name": "stderr",
     "output_type": "stream",
     "text": [
      "WARNING:Numerics:Extrapolation may have failed. Check resulting frequency spectrum for unexpected results.\n",
      "WARNING:Numerics:Extrapolation may have failed. Check resulting frequency spectrum for unexpected results.\n",
      "WARNING:Numerics:Extrapolation may have failed. Check resulting frequency spectrum for unexpected results.\n",
      "WARNING:Numerics:Extrapolation may have failed. Check resulting frequency spectrum for unexpected results.\n",
      "WARNING:Numerics:Extrapolation may have failed. Check resulting frequency spectrum for unexpected results.\n",
      "WARNING:Numerics:Extrapolation may have failed. Check resulting frequency spectrum for unexpected results.\n",
      "WARNING:Numerics:Extrapolation may have failed. Check resulting frequency spectrum for unexpected results.\n",
      "WARNING:Numerics:Extrapolation may have failed. Check resulting frequency spectrum for unexpected results.\n",
      "WARNING:Numerics:Extrapolation may have failed. Check resulting frequency spectrum for unexpected results.\n",
      "WARNING:Numerics:Extrapolation may have failed. Check resulting frequency spectrum for unexpected results.\n",
      "WARNING:Numerics:Extrapolation may have failed. Check resulting frequency spectrum for unexpected results.\n",
      "WARNING:Numerics:Extrapolation may have failed. Check resulting frequency spectrum for unexpected results.\n",
      "WARNING:Numerics:Extrapolation may have failed. Check resulting frequency spectrum for unexpected results.\n",
      "WARNING:Numerics:Extrapolation may have failed. Check resulting frequency spectrum for unexpected results.\n",
      "WARNING:Numerics:Extrapolation may have failed. Check resulting frequency spectrum for unexpected results.\n",
      "WARNING:Numerics:Extrapolation may have failed. Check resulting frequency spectrum for unexpected results.\n",
      "WARNING:Numerics:Extrapolation may have failed. Check resulting frequency spectrum for unexpected results.\n",
      "WARNING:Numerics:Extrapolation may have failed. Check resulting frequency spectrum for unexpected results.\n",
      "WARNING:Numerics:Extrapolation may have failed. Check resulting frequency spectrum for unexpected results.\n",
      "WARNING:Numerics:Extrapolation may have failed. Check resulting frequency spectrum for unexpected results.\n",
      "WARNING:Numerics:Extrapolation may have failed. Check resulting frequency spectrum for unexpected results.\n",
      "WARNING:Numerics:Extrapolation may have failed. Check resulting frequency spectrum for unexpected results.\n",
      "WARNING:Numerics:Extrapolation may have failed. Check resulting frequency spectrum for unexpected results.\n",
      "WARNING:Numerics:Extrapolation may have failed. Check resulting frequency spectrum for unexpected results.\n",
      "WARNING:Numerics:Extrapolation may have failed. Check resulting frequency spectrum for unexpected results.\n",
      "WARNING:Numerics:Extrapolation may have failed. Check resulting frequency spectrum for unexpected results.\n",
      "WARNING:Numerics:Extrapolation may have failed. Check resulting frequency spectrum for unexpected results.\n"
     ]
    },
    {
     "name": "stdout",
     "output_type": "stream",
     "text": [
      "\t\t\tOptimized parameters =[3.396567, 12.958765, 0.041221]\n",
      "\n"
     ]
    },
    {
     "name": "stderr",
     "output_type": "stream",
     "text": [
      "WARNING:Numerics:Extrapolation may have failed. Check resulting frequency spectrum for unexpected results.\n"
     ]
    },
    {
     "name": "stdout",
     "output_type": "stream",
     "text": [
      "\t\t\tLikelihood = -106,406.81\n",
      "\t\t\tAIC = 212,819.62\n",
      "\t\t\tTheta = 40,390.44\n",
      "\t\t\tChi-Squared = 201,695.57\n",
      "\n",
      "\t\t\tReplicate time: 0:00:44.383277 (H:M:S)\n",
      "\n",
      "\n",
      "\t\tRound 4 Replicate 29 of 40:\n",
      "\n",
      "\t\t\tStarting parameters = [2.654251, 7.378087, 0.047984]\n"
     ]
    },
    {
     "name": "stderr",
     "output_type": "stream",
     "text": [
      "WARNING:Numerics:Extrapolation may have failed. Check resulting frequency spectrum for unexpected results.\n",
      "WARNING:Numerics:Extrapolation may have failed. Check resulting frequency spectrum for unexpected results.\n",
      "WARNING:Numerics:Extrapolation may have failed. Check resulting frequency spectrum for unexpected results.\n",
      "WARNING:Numerics:Extrapolation may have failed. Check resulting frequency spectrum for unexpected results.\n",
      "WARNING:Numerics:Extrapolation may have failed. Check resulting frequency spectrum for unexpected results.\n",
      "WARNING:Numerics:Extrapolation may have failed. Check resulting frequency spectrum for unexpected results.\n",
      "WARNING:Numerics:Extrapolation may have failed. Check resulting frequency spectrum for unexpected results.\n",
      "WARNING:Numerics:Extrapolation may have failed. Check resulting frequency spectrum for unexpected results.\n",
      "WARNING:Numerics:Extrapolation may have failed. Check resulting frequency spectrum for unexpected results.\n",
      "WARNING:Numerics:Extrapolation may have failed. Check resulting frequency spectrum for unexpected results.\n",
      "WARNING:Numerics:Extrapolation may have failed. Check resulting frequency spectrum for unexpected results.\n",
      "WARNING:Numerics:Extrapolation may have failed. Check resulting frequency spectrum for unexpected results.\n",
      "WARNING:Numerics:Extrapolation may have failed. Check resulting frequency spectrum for unexpected results.\n",
      "WARNING:Numerics:Extrapolation may have failed. Check resulting frequency spectrum for unexpected results.\n",
      "WARNING:Numerics:Extrapolation may have failed. Check resulting frequency spectrum for unexpected results.\n",
      "WARNING:Numerics:Extrapolation may have failed. Check resulting frequency spectrum for unexpected results.\n",
      "WARNING:Numerics:Extrapolation may have failed. Check resulting frequency spectrum for unexpected results.\n",
      "WARNING:Numerics:Extrapolation may have failed. Check resulting frequency spectrum for unexpected results.\n",
      "WARNING:Numerics:Extrapolation may have failed. Check resulting frequency spectrum for unexpected results.\n",
      "WARNING:Numerics:Extrapolation may have failed. Check resulting frequency spectrum for unexpected results.\n",
      "WARNING:Numerics:Extrapolation may have failed. Check resulting frequency spectrum for unexpected results.\n",
      "WARNING:Numerics:Extrapolation may have failed. Check resulting frequency spectrum for unexpected results.\n",
      "WARNING:Numerics:Extrapolation may have failed. Check resulting frequency spectrum for unexpected results.\n",
      "WARNING:Numerics:Extrapolation may have failed. Check resulting frequency spectrum for unexpected results.\n",
      "WARNING:Numerics:Extrapolation may have failed. Check resulting frequency spectrum for unexpected results.\n",
      "WARNING:Numerics:Extrapolation may have failed. Check resulting frequency spectrum for unexpected results.\n",
      "WARNING:Numerics:Extrapolation may have failed. Check resulting frequency spectrum for unexpected results.\n",
      "WARNING:Numerics:Extrapolation may have failed. Check resulting frequency spectrum for unexpected results.\n",
      "WARNING:Numerics:Extrapolation may have failed. Check resulting frequency spectrum for unexpected results.\n",
      "WARNING:Numerics:Extrapolation may have failed. Check resulting frequency spectrum for unexpected results.\n"
     ]
    },
    {
     "name": "stdout",
     "output_type": "stream",
     "text": [
      "\t\t\tOptimized parameters =[2.8278, 13.478961, 0.038014]\n",
      "\n"
     ]
    },
    {
     "name": "stderr",
     "output_type": "stream",
     "text": [
      "WARNING:Numerics:Extrapolation may have failed. Check resulting frequency spectrum for unexpected results.\n"
     ]
    },
    {
     "name": "stdout",
     "output_type": "stream",
     "text": [
      "\t\t\tLikelihood = -106,748.82\n",
      "\t\t\tAIC = 213,503.64\n",
      "\t\t\tTheta = 41,800.84\n",
      "\t\t\tChi-Squared = 200,212.0\n",
      "\n",
      "\t\t\tReplicate time: 0:00:49.509830 (H:M:S)\n",
      "\n",
      "\n",
      "\t\tRound 4 Replicate 30 of 40:\n",
      "\n",
      "\t\t\tStarting parameters = [2.195278, 12.296074, 0.027075]\n"
     ]
    },
    {
     "name": "stderr",
     "output_type": "stream",
     "text": [
      "WARNING:Numerics:Extrapolation may have failed. Check resulting frequency spectrum for unexpected results.\n",
      "WARNING:Numerics:Extrapolation may have failed. Check resulting frequency spectrum for unexpected results.\n",
      "WARNING:Numerics:Extrapolation may have failed. Check resulting frequency spectrum for unexpected results.\n",
      "WARNING:Numerics:Extrapolation may have failed. Check resulting frequency spectrum for unexpected results.\n",
      "WARNING:Numerics:Extrapolation may have failed. Check resulting frequency spectrum for unexpected results.\n",
      "WARNING:Numerics:Extrapolation may have failed. Check resulting frequency spectrum for unexpected results.\n",
      "WARNING:Numerics:Extrapolation may have failed. Check resulting frequency spectrum for unexpected results.\n",
      "WARNING:Numerics:Extrapolation may have failed. Check resulting frequency spectrum for unexpected results.\n",
      "WARNING:Numerics:Extrapolation may have failed. Check resulting frequency spectrum for unexpected results.\n",
      "WARNING:Numerics:Extrapolation may have failed. Check resulting frequency spectrum for unexpected results.\n",
      "WARNING:Numerics:Extrapolation may have failed. Check resulting frequency spectrum for unexpected results.\n",
      "WARNING:Numerics:Extrapolation may have failed. Check resulting frequency spectrum for unexpected results.\n",
      "WARNING:Numerics:Extrapolation may have failed. Check resulting frequency spectrum for unexpected results.\n",
      "WARNING:Numerics:Extrapolation may have failed. Check resulting frequency spectrum for unexpected results.\n",
      "WARNING:Numerics:Extrapolation may have failed. Check resulting frequency spectrum for unexpected results.\n",
      "WARNING:Numerics:Extrapolation may have failed. Check resulting frequency spectrum for unexpected results.\n",
      "WARNING:Numerics:Extrapolation may have failed. Check resulting frequency spectrum for unexpected results.\n",
      "WARNING:Numerics:Extrapolation may have failed. Check resulting frequency spectrum for unexpected results.\n",
      "WARNING:Numerics:Extrapolation may have failed. Check resulting frequency spectrum for unexpected results.\n",
      "WARNING:Numerics:Extrapolation may have failed. Check resulting frequency spectrum for unexpected results.\n",
      "WARNING:Numerics:Extrapolation may have failed. Check resulting frequency spectrum for unexpected results.\n",
      "WARNING:Numerics:Extrapolation may have failed. Check resulting frequency spectrum for unexpected results.\n",
      "WARNING:Numerics:Extrapolation may have failed. Check resulting frequency spectrum for unexpected results.\n",
      "WARNING:Numerics:Extrapolation may have failed. Check resulting frequency spectrum for unexpected results.\n",
      "WARNING:Numerics:Extrapolation may have failed. Check resulting frequency spectrum for unexpected results.\n",
      "WARNING:Numerics:Extrapolation may have failed. Check resulting frequency spectrum for unexpected results.\n",
      "WARNING:Numerics:Extrapolation may have failed. Check resulting frequency spectrum for unexpected results.\n"
     ]
    },
    {
     "name": "stdout",
     "output_type": "stream",
     "text": [
      "\t\t\tOptimized parameters =[3.02385, 12.297485, 0.035885]\n",
      "\n"
     ]
    },
    {
     "name": "stderr",
     "output_type": "stream",
     "text": [
      "WARNING:Numerics:Extrapolation may have failed. Check resulting frequency spectrum for unexpected results.\n"
     ]
    },
    {
     "name": "stdout",
     "output_type": "stream",
     "text": [
      "\t\t\tLikelihood = -106,429.8\n",
      "\t\t\tAIC = 212,865.6\n",
      "\t\t\tTheta = 42,740.39\n",
      "\t\t\tChi-Squared = 191,998.88\n",
      "\n",
      "\t\t\tReplicate time: 0:00:44.807960 (H:M:S)\n",
      "\n",
      "\n",
      "\t\tRound 4 Replicate 31 of 40:\n",
      "\n",
      "\t\t\tStarting parameters = [5.099705, 14.429687, 0.034763]\n"
     ]
    },
    {
     "name": "stderr",
     "output_type": "stream",
     "text": [
      "WARNING:Numerics:Extrapolation may have failed. Check resulting frequency spectrum for unexpected results.\n",
      "WARNING:Numerics:Extrapolation may have failed. Check resulting frequency spectrum for unexpected results.\n",
      "WARNING:Numerics:Extrapolation may have failed. Check resulting frequency spectrum for unexpected results.\n",
      "WARNING:Numerics:Extrapolation may have failed. Check resulting frequency spectrum for unexpected results.\n",
      "WARNING:Numerics:Extrapolation may have failed. Check resulting frequency spectrum for unexpected results.\n",
      "WARNING:Numerics:Extrapolation may have failed. Check resulting frequency spectrum for unexpected results.\n",
      "WARNING:Numerics:Extrapolation may have failed. Check resulting frequency spectrum for unexpected results.\n",
      "WARNING:Numerics:Extrapolation may have failed. Check resulting frequency spectrum for unexpected results.\n",
      "WARNING:Numerics:Extrapolation may have failed. Check resulting frequency spectrum for unexpected results.\n",
      "WARNING:Numerics:Extrapolation may have failed. Check resulting frequency spectrum for unexpected results.\n",
      "WARNING:Numerics:Extrapolation may have failed. Check resulting frequency spectrum for unexpected results.\n",
      "WARNING:Numerics:Extrapolation may have failed. Check resulting frequency spectrum for unexpected results.\n",
      "WARNING:Numerics:Extrapolation may have failed. Check resulting frequency spectrum for unexpected results.\n",
      "WARNING:Numerics:Extrapolation may have failed. Check resulting frequency spectrum for unexpected results.\n",
      "WARNING:Numerics:Extrapolation may have failed. Check resulting frequency spectrum for unexpected results.\n",
      "WARNING:Numerics:Extrapolation may have failed. Check resulting frequency spectrum for unexpected results.\n",
      "WARNING:Numerics:Extrapolation may have failed. Check resulting frequency spectrum for unexpected results.\n",
      "WARNING:Numerics:Extrapolation may have failed. Check resulting frequency spectrum for unexpected results.\n",
      "WARNING:Numerics:Extrapolation may have failed. Check resulting frequency spectrum for unexpected results.\n",
      "WARNING:Numerics:Extrapolation may have failed. Check resulting frequency spectrum for unexpected results.\n",
      "WARNING:Numerics:Extrapolation may have failed. Check resulting frequency spectrum for unexpected results.\n",
      "WARNING:Numerics:Extrapolation may have failed. Check resulting frequency spectrum for unexpected results.\n",
      "WARNING:Numerics:Extrapolation may have failed. Check resulting frequency spectrum for unexpected results.\n",
      "WARNING:Numerics:Extrapolation may have failed. Check resulting frequency spectrum for unexpected results.\n",
      "WARNING:Numerics:Extrapolation may have failed. Check resulting frequency spectrum for unexpected results.\n",
      "WARNING:Numerics:Extrapolation may have failed. Check resulting frequency spectrum for unexpected results.\n",
      "WARNING:Numerics:Extrapolation may have failed. Check resulting frequency spectrum for unexpected results.\n",
      "WARNING:Numerics:Extrapolation may have failed. Check resulting frequency spectrum for unexpected results.\n"
     ]
    },
    {
     "name": "stdout",
     "output_type": "stream",
     "text": [
      "\t\t\tOptimized parameters =[3.071991, 12.815466, 0.036765]\n",
      "\n"
     ]
    },
    {
     "name": "stderr",
     "output_type": "stream",
     "text": [
      "WARNING:Numerics:Extrapolation may have failed. Check resulting frequency spectrum for unexpected results.\n"
     ]
    },
    {
     "name": "stdout",
     "output_type": "stream",
     "text": [
      "\t\t\tLikelihood = -106,301.62\n",
      "\t\t\tAIC = 212,609.24\n",
      "\t\t\tTheta = 42,281.26\n",
      "\t\t\tChi-Squared = 193,555.5\n",
      "\n",
      "\t\t\tReplicate time: 0:00:46.463839 (H:M:S)\n",
      "\n",
      "\n",
      "\t\tRound 4 Replicate 32 of 40:\n",
      "\n",
      "\t\t\tStarting parameters = [1.8989, 8.795133, 0.068329]\n"
     ]
    },
    {
     "name": "stderr",
     "output_type": "stream",
     "text": [
      "WARNING:Numerics:Extrapolation may have failed. Check resulting frequency spectrum for unexpected results.\n",
      "WARNING:Numerics:Extrapolation may have failed. Check resulting frequency spectrum for unexpected results.\n",
      "WARNING:Numerics:Extrapolation may have failed. Check resulting frequency spectrum for unexpected results.\n",
      "WARNING:Numerics:Extrapolation may have failed. Check resulting frequency spectrum for unexpected results.\n",
      "WARNING:Numerics:Extrapolation may have failed. Check resulting frequency spectrum for unexpected results.\n",
      "WARNING:Numerics:Extrapolation may have failed. Check resulting frequency spectrum for unexpected results.\n",
      "WARNING:Numerics:Extrapolation may have failed. Check resulting frequency spectrum for unexpected results.\n",
      "WARNING:Numerics:Extrapolation may have failed. Check resulting frequency spectrum for unexpected results.\n",
      "WARNING:Numerics:Extrapolation may have failed. Check resulting frequency spectrum for unexpected results.\n",
      "WARNING:Numerics:Extrapolation may have failed. Check resulting frequency spectrum for unexpected results.\n",
      "WARNING:Numerics:Extrapolation may have failed. Check resulting frequency spectrum for unexpected results.\n",
      "WARNING:Numerics:Extrapolation may have failed. Check resulting frequency spectrum for unexpected results.\n",
      "WARNING:Numerics:Extrapolation may have failed. Check resulting frequency spectrum for unexpected results.\n",
      "WARNING:Numerics:Extrapolation may have failed. Check resulting frequency spectrum for unexpected results.\n",
      "WARNING:Numerics:Extrapolation may have failed. Check resulting frequency spectrum for unexpected results.\n",
      "WARNING:Numerics:Extrapolation may have failed. Check resulting frequency spectrum for unexpected results.\n",
      "WARNING:Numerics:Extrapolation may have failed. Check resulting frequency spectrum for unexpected results.\n",
      "WARNING:Numerics:Extrapolation may have failed. Check resulting frequency spectrum for unexpected results.\n",
      "WARNING:Numerics:Extrapolation may have failed. Check resulting frequency spectrum for unexpected results.\n",
      "WARNING:Numerics:Extrapolation may have failed. Check resulting frequency spectrum for unexpected results.\n",
      "WARNING:Numerics:Extrapolation may have failed. Check resulting frequency spectrum for unexpected results.\n",
      "WARNING:Numerics:Extrapolation may have failed. Check resulting frequency spectrum for unexpected results.\n",
      "WARNING:Numerics:Extrapolation may have failed. Check resulting frequency spectrum for unexpected results.\n",
      "WARNING:Numerics:Extrapolation may have failed. Check resulting frequency spectrum for unexpected results.\n",
      "WARNING:Numerics:Extrapolation may have failed. Check resulting frequency spectrum for unexpected results.\n",
      "WARNING:Numerics:Extrapolation may have failed. Check resulting frequency spectrum for unexpected results.\n",
      "WARNING:Numerics:Extrapolation may have failed. Check resulting frequency spectrum for unexpected results.\n",
      "WARNING:Numerics:Extrapolation may have failed. Check resulting frequency spectrum for unexpected results.\n"
     ]
    },
    {
     "name": "stdout",
     "output_type": "stream",
     "text": [
      "\t\t\tOptimized parameters =[1.707529, 10.473497, 0.029436]\n",
      "\n"
     ]
    },
    {
     "name": "stderr",
     "output_type": "stream",
     "text": [
      "WARNING:Numerics:Extrapolation may have failed. Check resulting frequency spectrum for unexpected results.\n"
     ]
    },
    {
     "name": "stdout",
     "output_type": "stream",
     "text": [
      "\t\t\tLikelihood = -111,603.0\n",
      "\t\t\tAIC = 223,212.0\n",
      "\t\t\tTheta = 46,953.17\n",
      "\t\t\tChi-Squared = 200,367.58\n",
      "\n",
      "\t\t\tReplicate time: 0:00:46.392090 (H:M:S)\n",
      "\n",
      "\n",
      "\t\tRound 4 Replicate 33 of 40:\n",
      "\n",
      "\t\t\tStarting parameters = [4.639015, 9.827983, 0.024286]\n"
     ]
    },
    {
     "name": "stderr",
     "output_type": "stream",
     "text": [
      "WARNING:Numerics:Extrapolation may have failed. Check resulting frequency spectrum for unexpected results.\n",
      "WARNING:Numerics:Extrapolation may have failed. Check resulting frequency spectrum for unexpected results.\n",
      "WARNING:Numerics:Extrapolation may have failed. Check resulting frequency spectrum for unexpected results.\n",
      "WARNING:Numerics:Extrapolation may have failed. Check resulting frequency spectrum for unexpected results.\n",
      "WARNING:Numerics:Extrapolation may have failed. Check resulting frequency spectrum for unexpected results.\n",
      "WARNING:Numerics:Extrapolation may have failed. Check resulting frequency spectrum for unexpected results.\n",
      "WARNING:Numerics:Extrapolation may have failed. Check resulting frequency spectrum for unexpected results.\n",
      "WARNING:Numerics:Extrapolation may have failed. Check resulting frequency spectrum for unexpected results.\n",
      "WARNING:Numerics:Extrapolation may have failed. Check resulting frequency spectrum for unexpected results.\n",
      "WARNING:Numerics:Extrapolation may have failed. Check resulting frequency spectrum for unexpected results.\n",
      "WARNING:Numerics:Extrapolation may have failed. Check resulting frequency spectrum for unexpected results.\n",
      "WARNING:Numerics:Extrapolation may have failed. Check resulting frequency spectrum for unexpected results.\n",
      "WARNING:Numerics:Extrapolation may have failed. Check resulting frequency spectrum for unexpected results.\n",
      "WARNING:Numerics:Extrapolation may have failed. Check resulting frequency spectrum for unexpected results.\n",
      "WARNING:Numerics:Extrapolation may have failed. Check resulting frequency spectrum for unexpected results.\n",
      "WARNING:Numerics:Extrapolation may have failed. Check resulting frequency spectrum for unexpected results.\n",
      "WARNING:Numerics:Extrapolation may have failed. Check resulting frequency spectrum for unexpected results.\n",
      "WARNING:Numerics:Extrapolation may have failed. Check resulting frequency spectrum for unexpected results.\n",
      "WARNING:Numerics:Extrapolation may have failed. Check resulting frequency spectrum for unexpected results.\n",
      "WARNING:Numerics:Extrapolation may have failed. Check resulting frequency spectrum for unexpected results.\n",
      "WARNING:Numerics:Extrapolation may have failed. Check resulting frequency spectrum for unexpected results.\n",
      "WARNING:Numerics:Extrapolation may have failed. Check resulting frequency spectrum for unexpected results.\n",
      "WARNING:Numerics:Extrapolation may have failed. Check resulting frequency spectrum for unexpected results.\n",
      "WARNING:Numerics:Extrapolation may have failed. Check resulting frequency spectrum for unexpected results.\n",
      "WARNING:Numerics:Extrapolation may have failed. Check resulting frequency spectrum for unexpected results.\n",
      "WARNING:Numerics:Extrapolation may have failed. Check resulting frequency spectrum for unexpected results.\n",
      "WARNING:Numerics:Extrapolation may have failed. Check resulting frequency spectrum for unexpected results.\n",
      "WARNING:Numerics:Extrapolation may have failed. Check resulting frequency spectrum for unexpected results.\n"
     ]
    },
    {
     "name": "stdout",
     "output_type": "stream",
     "text": [
      "\t\t\tOptimized parameters =[4.897514, 11.939052, 0.041045]\n",
      "\n"
     ]
    },
    {
     "name": "stderr",
     "output_type": "stream",
     "text": [
      "WARNING:Numerics:Extrapolation may have failed. Check resulting frequency spectrum for unexpected results.\n"
     ]
    },
    {
     "name": "stdout",
     "output_type": "stream",
     "text": [
      "\t\t\tLikelihood = -108,226.18\n",
      "\t\t\tAIC = 216,458.36\n",
      "\t\t\tTheta = 40,079.67\n",
      "\t\t\tChi-Squared = 200,966.38\n",
      "\n",
      "\t\t\tReplicate time: 0:00:46.044709 (H:M:S)\n",
      "\n",
      "\n",
      "\t\tRound 4 Replicate 34 of 40:\n",
      "\n",
      "\t\t\tStarting parameters = [6.045214, 8.436986, 0.021724]\n"
     ]
    },
    {
     "name": "stderr",
     "output_type": "stream",
     "text": [
      "WARNING:Numerics:Extrapolation may have failed. Check resulting frequency spectrum for unexpected results.\n",
      "WARNING:Numerics:Extrapolation may have failed. Check resulting frequency spectrum for unexpected results.\n",
      "WARNING:Numerics:Extrapolation may have failed. Check resulting frequency spectrum for unexpected results.\n",
      "WARNING:Numerics:Extrapolation may have failed. Check resulting frequency spectrum for unexpected results.\n",
      "WARNING:Numerics:Extrapolation may have failed. Check resulting frequency spectrum for unexpected results.\n",
      "WARNING:Numerics:Extrapolation may have failed. Check resulting frequency spectrum for unexpected results.\n",
      "WARNING:Numerics:Extrapolation may have failed. Check resulting frequency spectrum for unexpected results.\n",
      "WARNING:Numerics:Extrapolation may have failed. Check resulting frequency spectrum for unexpected results.\n",
      "WARNING:Numerics:Extrapolation may have failed. Check resulting frequency spectrum for unexpected results.\n",
      "WARNING:Numerics:Extrapolation may have failed. Check resulting frequency spectrum for unexpected results.\n",
      "WARNING:Numerics:Extrapolation may have failed. Check resulting frequency spectrum for unexpected results.\n",
      "WARNING:Numerics:Extrapolation may have failed. Check resulting frequency spectrum for unexpected results.\n",
      "WARNING:Numerics:Extrapolation may have failed. Check resulting frequency spectrum for unexpected results.\n",
      "WARNING:Numerics:Extrapolation may have failed. Check resulting frequency spectrum for unexpected results.\n",
      "WARNING:Numerics:Extrapolation may have failed. Check resulting frequency spectrum for unexpected results.\n",
      "WARNING:Numerics:Extrapolation may have failed. Check resulting frequency spectrum for unexpected results.\n",
      "WARNING:Numerics:Extrapolation may have failed. Check resulting frequency spectrum for unexpected results.\n",
      "WARNING:Numerics:Extrapolation may have failed. Check resulting frequency spectrum for unexpected results.\n",
      "WARNING:Numerics:Extrapolation may have failed. Check resulting frequency spectrum for unexpected results.\n",
      "WARNING:Numerics:Extrapolation may have failed. Check resulting frequency spectrum for unexpected results.\n",
      "WARNING:Numerics:Extrapolation may have failed. Check resulting frequency spectrum for unexpected results.\n",
      "WARNING:Numerics:Extrapolation may have failed. Check resulting frequency spectrum for unexpected results.\n",
      "WARNING:Numerics:Extrapolation may have failed. Check resulting frequency spectrum for unexpected results.\n",
      "WARNING:Numerics:Extrapolation may have failed. Check resulting frequency spectrum for unexpected results.\n",
      "WARNING:Numerics:Extrapolation may have failed. Check resulting frequency spectrum for unexpected results.\n",
      "WARNING:Numerics:Extrapolation may have failed. Check resulting frequency spectrum for unexpected results.\n",
      "WARNING:Numerics:Extrapolation may have failed. Check resulting frequency spectrum for unexpected results.\n",
      "WARNING:Numerics:Extrapolation may have failed. Check resulting frequency spectrum for unexpected results.\n"
     ]
    },
    {
     "name": "stdout",
     "output_type": "stream",
     "text": [
      "\t\t\tOptimized parameters =[5.022343, 13.688127, 0.04136]\n",
      "\n"
     ]
    },
    {
     "name": "stderr",
     "output_type": "stream",
     "text": [
      "WARNING:Numerics:Extrapolation may have failed. Check resulting frequency spectrum for unexpected results.\n"
     ]
    },
    {
     "name": "stdout",
     "output_type": "stream",
     "text": [
      "\t\t\tLikelihood = -108,412.38\n",
      "\t\t\tAIC = 216,830.76\n",
      "\t\t\tTheta = 39,655.55\n",
      "\t\t\tChi-Squared = 203,969.48\n",
      "\n",
      "\t\t\tReplicate time: 0:00:46.595294 (H:M:S)\n",
      "\n",
      "\n",
      "\t\tRound 4 Replicate 35 of 40:\n",
      "\n",
      "\t\t\tStarting parameters = [4.887238, 10.78738, 0.020484]\n"
     ]
    },
    {
     "name": "stderr",
     "output_type": "stream",
     "text": [
      "WARNING:Numerics:Extrapolation may have failed. Check resulting frequency spectrum for unexpected results.\n",
      "WARNING:Numerics:Extrapolation may have failed. Check resulting frequency spectrum for unexpected results.\n",
      "WARNING:Numerics:Extrapolation may have failed. Check resulting frequency spectrum for unexpected results.\n",
      "WARNING:Numerics:Extrapolation may have failed. Check resulting frequency spectrum for unexpected results.\n",
      "WARNING:Numerics:Extrapolation may have failed. Check resulting frequency spectrum for unexpected results.\n",
      "WARNING:Numerics:Extrapolation may have failed. Check resulting frequency spectrum for unexpected results.\n",
      "WARNING:Numerics:Extrapolation may have failed. Check resulting frequency spectrum for unexpected results.\n",
      "WARNING:Numerics:Extrapolation may have failed. Check resulting frequency spectrum for unexpected results.\n",
      "WARNING:Numerics:Extrapolation may have failed. Check resulting frequency spectrum for unexpected results.\n",
      "WARNING:Numerics:Extrapolation may have failed. Check resulting frequency spectrum for unexpected results.\n",
      "WARNING:Numerics:Extrapolation may have failed. Check resulting frequency spectrum for unexpected results.\n",
      "WARNING:Numerics:Extrapolation may have failed. Check resulting frequency spectrum for unexpected results.\n",
      "WARNING:Numerics:Extrapolation may have failed. Check resulting frequency spectrum for unexpected results.\n",
      "WARNING:Numerics:Extrapolation may have failed. Check resulting frequency spectrum for unexpected results.\n",
      "WARNING:Numerics:Extrapolation may have failed. Check resulting frequency spectrum for unexpected results.\n",
      "WARNING:Numerics:Extrapolation may have failed. Check resulting frequency spectrum for unexpected results.\n",
      "WARNING:Numerics:Extrapolation may have failed. Check resulting frequency spectrum for unexpected results.\n",
      "WARNING:Numerics:Extrapolation may have failed. Check resulting frequency spectrum for unexpected results.\n",
      "WARNING:Numerics:Extrapolation may have failed. Check resulting frequency spectrum for unexpected results.\n",
      "WARNING:Numerics:Extrapolation may have failed. Check resulting frequency spectrum for unexpected results.\n",
      "WARNING:Numerics:Extrapolation may have failed. Check resulting frequency spectrum for unexpected results.\n",
      "WARNING:Numerics:Extrapolation may have failed. Check resulting frequency spectrum for unexpected results.\n",
      "WARNING:Numerics:Extrapolation may have failed. Check resulting frequency spectrum for unexpected results.\n",
      "WARNING:Numerics:Extrapolation may have failed. Check resulting frequency spectrum for unexpected results.\n",
      "WARNING:Numerics:Extrapolation may have failed. Check resulting frequency spectrum for unexpected results.\n",
      "WARNING:Numerics:Extrapolation may have failed. Check resulting frequency spectrum for unexpected results.\n",
      "WARNING:Numerics:Extrapolation may have failed. Check resulting frequency spectrum for unexpected results.\n",
      "WARNING:Numerics:Extrapolation may have failed. Check resulting frequency spectrum for unexpected results.\n",
      "WARNING:Numerics:Extrapolation may have failed. Check resulting frequency spectrum for unexpected results.\n"
     ]
    },
    {
     "name": "stdout",
     "output_type": "stream",
     "text": [
      "\t\t\tOptimized parameters =[5.124544, 12.792978, 0.041441]\n",
      "\n"
     ]
    },
    {
     "name": "stderr",
     "output_type": "stream",
     "text": [
      "WARNING:Numerics:Extrapolation may have failed. Check resulting frequency spectrum for unexpected results.\n"
     ]
    },
    {
     "name": "stdout",
     "output_type": "stream",
     "text": [
      "\t\t\tLikelihood = -108,396.41\n",
      "\t\t\tAIC = 216,798.82\n",
      "\t\t\tTheta = 39,756.35\n",
      "\t\t\tChi-Squared = 202,680.04\n",
      "\n",
      "\t\t\tReplicate time: 0:00:47.993210 (H:M:S)\n",
      "\n",
      "\n",
      "\t\tRound 4 Replicate 36 of 40:\n",
      "\n",
      "\t\t\tStarting parameters = [4.417751, 10.258033, 0.049876]\n"
     ]
    },
    {
     "name": "stderr",
     "output_type": "stream",
     "text": [
      "WARNING:Numerics:Extrapolation may have failed. Check resulting frequency spectrum for unexpected results.\n",
      "WARNING:Numerics:Extrapolation may have failed. Check resulting frequency spectrum for unexpected results.\n",
      "WARNING:Numerics:Extrapolation may have failed. Check resulting frequency spectrum for unexpected results.\n",
      "WARNING:Numerics:Extrapolation may have failed. Check resulting frequency spectrum for unexpected results.\n",
      "WARNING:Numerics:Extrapolation may have failed. Check resulting frequency spectrum for unexpected results.\n",
      "WARNING:Numerics:Extrapolation may have failed. Check resulting frequency spectrum for unexpected results.\n",
      "WARNING:Numerics:Extrapolation may have failed. Check resulting frequency spectrum for unexpected results.\n",
      "WARNING:Numerics:Extrapolation may have failed. Check resulting frequency spectrum for unexpected results.\n",
      "WARNING:Numerics:Extrapolation may have failed. Check resulting frequency spectrum for unexpected results.\n",
      "WARNING:Numerics:Extrapolation may have failed. Check resulting frequency spectrum for unexpected results.\n",
      "WARNING:Numerics:Extrapolation may have failed. Check resulting frequency spectrum for unexpected results.\n",
      "WARNING:Numerics:Extrapolation may have failed. Check resulting frequency spectrum for unexpected results.\n",
      "WARNING:Numerics:Extrapolation may have failed. Check resulting frequency spectrum for unexpected results.\n",
      "WARNING:Numerics:Extrapolation may have failed. Check resulting frequency spectrum for unexpected results.\n",
      "WARNING:Numerics:Extrapolation may have failed. Check resulting frequency spectrum for unexpected results.\n",
      "WARNING:Numerics:Extrapolation may have failed. Check resulting frequency spectrum for unexpected results.\n",
      "WARNING:Numerics:Extrapolation may have failed. Check resulting frequency spectrum for unexpected results.\n",
      "WARNING:Numerics:Extrapolation may have failed. Check resulting frequency spectrum for unexpected results.\n",
      "WARNING:Numerics:Extrapolation may have failed. Check resulting frequency spectrum for unexpected results.\n",
      "WARNING:Numerics:Extrapolation may have failed. Check resulting frequency spectrum for unexpected results.\n",
      "WARNING:Numerics:Extrapolation may have failed. Check resulting frequency spectrum for unexpected results.\n",
      "WARNING:Numerics:Extrapolation may have failed. Check resulting frequency spectrum for unexpected results.\n",
      "WARNING:Numerics:Extrapolation may have failed. Check resulting frequency spectrum for unexpected results.\n",
      "WARNING:Numerics:Extrapolation may have failed. Check resulting frequency spectrum for unexpected results.\n",
      "WARNING:Numerics:Extrapolation may have failed. Check resulting frequency spectrum for unexpected results.\n"
     ]
    },
    {
     "name": "stdout",
     "output_type": "stream",
     "text": [
      "\t\t\tOptimized parameters =[3.199652, 12.916526, 0.03873]\n",
      "\n"
     ]
    },
    {
     "name": "stderr",
     "output_type": "stream",
     "text": [
      "WARNING:Numerics:Extrapolation may have failed. Check resulting frequency spectrum for unexpected results.\n"
     ]
    },
    {
     "name": "stdout",
     "output_type": "stream",
     "text": [
      "\t\t\tLikelihood = -106,275.43\n",
      "\t\t\tAIC = 212,556.86\n",
      "\t\t\tTheta = 41,420.0\n",
      "\t\t\tChi-Squared = 197,135.65\n",
      "\n",
      "\t\t\tReplicate time: 0:00:41.522848 (H:M:S)\n",
      "\n",
      "\n",
      "\t\tRound 4 Replicate 37 of 40:\n",
      "\n",
      "\t\t\tStarting parameters = [1.806611, 17.524959, 0.041826]\n"
     ]
    },
    {
     "name": "stderr",
     "output_type": "stream",
     "text": [
      "WARNING:Numerics:Extrapolation may have failed. Check resulting frequency spectrum for unexpected results.\n",
      "WARNING:Numerics:Extrapolation may have failed. Check resulting frequency spectrum for unexpected results.\n",
      "WARNING:Numerics:Extrapolation may have failed. Check resulting frequency spectrum for unexpected results.\n",
      "WARNING:Numerics:Extrapolation may have failed. Check resulting frequency spectrum for unexpected results.\n",
      "WARNING:Numerics:Extrapolation may have failed. Check resulting frequency spectrum for unexpected results.\n",
      "WARNING:Numerics:Extrapolation may have failed. Check resulting frequency spectrum for unexpected results.\n",
      "WARNING:Numerics:Extrapolation may have failed. Check resulting frequency spectrum for unexpected results.\n",
      "WARNING:Numerics:Extrapolation may have failed. Check resulting frequency spectrum for unexpected results.\n",
      "WARNING:Numerics:Extrapolation may have failed. Check resulting frequency spectrum for unexpected results.\n",
      "WARNING:Numerics:Extrapolation may have failed. Check resulting frequency spectrum for unexpected results.\n",
      "WARNING:Numerics:Extrapolation may have failed. Check resulting frequency spectrum for unexpected results.\n",
      "WARNING:Numerics:Extrapolation may have failed. Check resulting frequency spectrum for unexpected results.\n",
      "WARNING:Numerics:Extrapolation may have failed. Check resulting frequency spectrum for unexpected results.\n",
      "WARNING:Numerics:Extrapolation may have failed. Check resulting frequency spectrum for unexpected results.\n",
      "WARNING:Numerics:Extrapolation may have failed. Check resulting frequency spectrum for unexpected results.\n",
      "WARNING:Numerics:Extrapolation may have failed. Check resulting frequency spectrum for unexpected results.\n",
      "WARNING:Numerics:Extrapolation may have failed. Check resulting frequency spectrum for unexpected results.\n",
      "WARNING:Numerics:Extrapolation may have failed. Check resulting frequency spectrum for unexpected results.\n",
      "WARNING:Numerics:Extrapolation may have failed. Check resulting frequency spectrum for unexpected results.\n",
      "WARNING:Numerics:Extrapolation may have failed. Check resulting frequency spectrum for unexpected results.\n",
      "WARNING:Numerics:Extrapolation may have failed. Check resulting frequency spectrum for unexpected results.\n",
      "WARNING:Numerics:Extrapolation may have failed. Check resulting frequency spectrum for unexpected results.\n",
      "WARNING:Numerics:Extrapolation may have failed. Check resulting frequency spectrum for unexpected results.\n",
      "WARNING:Numerics:Extrapolation may have failed. Check resulting frequency spectrum for unexpected results.\n",
      "WARNING:Numerics:Extrapolation may have failed. Check resulting frequency spectrum for unexpected results.\n",
      "WARNING:Numerics:Extrapolation may have failed. Check resulting frequency spectrum for unexpected results.\n",
      "WARNING:Numerics:Extrapolation may have failed. Check resulting frequency spectrum for unexpected results.\n",
      "WARNING:Numerics:Extrapolation may have failed. Check resulting frequency spectrum for unexpected results.\n"
     ]
    },
    {
     "name": "stdout",
     "output_type": "stream",
     "text": [
      "\t\t\tOptimized parameters =[2.711363, 11.839006, 0.037444]\n",
      "\n"
     ]
    },
    {
     "name": "stderr",
     "output_type": "stream",
     "text": [
      "WARNING:Numerics:Extrapolation may have failed. Check resulting frequency spectrum for unexpected results.\n"
     ]
    },
    {
     "name": "stdout",
     "output_type": "stream",
     "text": [
      "\t\t\tLikelihood = -107,038.29\n",
      "\t\t\tAIC = 214,082.58\n",
      "\t\t\tTheta = 42,366.78\n",
      "\t\t\tChi-Squared = 199,939.83\n",
      "\n",
      "\t\t\tReplicate time: 0:00:46.516455 (H:M:S)\n",
      "\n",
      "\n",
      "\t\tRound 4 Replicate 38 of 40:\n",
      "\n",
      "\t\t\tStarting parameters = [4.357552, 12.405455, 0.066706]\n"
     ]
    },
    {
     "name": "stderr",
     "output_type": "stream",
     "text": [
      "WARNING:Numerics:Extrapolation may have failed. Check resulting frequency spectrum for unexpected results.\n",
      "WARNING:Numerics:Extrapolation may have failed. Check resulting frequency spectrum for unexpected results.\n",
      "WARNING:Numerics:Extrapolation may have failed. Check resulting frequency spectrum for unexpected results.\n",
      "WARNING:Numerics:Extrapolation may have failed. Check resulting frequency spectrum for unexpected results.\n",
      "WARNING:Numerics:Extrapolation may have failed. Check resulting frequency spectrum for unexpected results.\n",
      "WARNING:Numerics:Extrapolation may have failed. Check resulting frequency spectrum for unexpected results.\n",
      "WARNING:Numerics:Extrapolation may have failed. Check resulting frequency spectrum for unexpected results.\n",
      "WARNING:Numerics:Extrapolation may have failed. Check resulting frequency spectrum for unexpected results.\n",
      "WARNING:Numerics:Extrapolation may have failed. Check resulting frequency spectrum for unexpected results.\n",
      "WARNING:Numerics:Extrapolation may have failed. Check resulting frequency spectrum for unexpected results.\n",
      "WARNING:Numerics:Extrapolation may have failed. Check resulting frequency spectrum for unexpected results.\n",
      "WARNING:Numerics:Extrapolation may have failed. Check resulting frequency spectrum for unexpected results.\n",
      "WARNING:Numerics:Extrapolation may have failed. Check resulting frequency spectrum for unexpected results.\n",
      "WARNING:Numerics:Extrapolation may have failed. Check resulting frequency spectrum for unexpected results.\n",
      "WARNING:Numerics:Extrapolation may have failed. Check resulting frequency spectrum for unexpected results.\n",
      "WARNING:Numerics:Extrapolation may have failed. Check resulting frequency spectrum for unexpected results.\n",
      "WARNING:Numerics:Extrapolation may have failed. Check resulting frequency spectrum for unexpected results.\n",
      "WARNING:Numerics:Extrapolation may have failed. Check resulting frequency spectrum for unexpected results.\n",
      "WARNING:Numerics:Extrapolation may have failed. Check resulting frequency spectrum for unexpected results.\n",
      "WARNING:Numerics:Extrapolation may have failed. Check resulting frequency spectrum for unexpected results.\n",
      "WARNING:Numerics:Extrapolation may have failed. Check resulting frequency spectrum for unexpected results.\n",
      "WARNING:Numerics:Extrapolation may have failed. Check resulting frequency spectrum for unexpected results.\n",
      "WARNING:Numerics:Extrapolation may have failed. Check resulting frequency spectrum for unexpected results.\n",
      "WARNING:Numerics:Extrapolation may have failed. Check resulting frequency spectrum for unexpected results.\n",
      "WARNING:Numerics:Extrapolation may have failed. Check resulting frequency spectrum for unexpected results.\n",
      "WARNING:Numerics:Extrapolation may have failed. Check resulting frequency spectrum for unexpected results.\n",
      "WARNING:Numerics:Extrapolation may have failed. Check resulting frequency spectrum for unexpected results.\n",
      "WARNING:Numerics:Extrapolation may have failed. Check resulting frequency spectrum for unexpected results.\n"
     ]
    },
    {
     "name": "stdout",
     "output_type": "stream",
     "text": [
      "\t\t\tOptimized parameters =[3.406686, 13.97692, 0.040287]\n",
      "\n"
     ]
    },
    {
     "name": "stderr",
     "output_type": "stream",
     "text": [
      "WARNING:Numerics:Extrapolation may have failed. Check resulting frequency spectrum for unexpected results.\n"
     ]
    },
    {
     "name": "stdout",
     "output_type": "stream",
     "text": [
      "\t\t\tLikelihood = -106,351.46\n",
      "\t\t\tAIC = 212,708.92\n",
      "\t\t\tTheta = 40,576.9\n",
      "\t\t\tChi-Squared = 200,017.92\n",
      "\n",
      "\t\t\tReplicate time: 0:00:46.418705 (H:M:S)\n",
      "\n",
      "\n",
      "\t\tRound 4 Replicate 39 of 40:\n",
      "\n",
      "\t\t\tStarting parameters = [4.40042, 10.392877, 0.03944]\n"
     ]
    },
    {
     "name": "stderr",
     "output_type": "stream",
     "text": [
      "WARNING:Numerics:Extrapolation may have failed. Check resulting frequency spectrum for unexpected results.\n",
      "WARNING:Numerics:Extrapolation may have failed. Check resulting frequency spectrum for unexpected results.\n",
      "WARNING:Numerics:Extrapolation may have failed. Check resulting frequency spectrum for unexpected results.\n",
      "WARNING:Numerics:Extrapolation may have failed. Check resulting frequency spectrum for unexpected results.\n",
      "WARNING:Numerics:Extrapolation may have failed. Check resulting frequency spectrum for unexpected results.\n",
      "WARNING:Numerics:Extrapolation may have failed. Check resulting frequency spectrum for unexpected results.\n",
      "WARNING:Numerics:Extrapolation may have failed. Check resulting frequency spectrum for unexpected results.\n",
      "WARNING:Numerics:Extrapolation may have failed. Check resulting frequency spectrum for unexpected results.\n",
      "WARNING:Numerics:Extrapolation may have failed. Check resulting frequency spectrum for unexpected results.\n",
      "WARNING:Numerics:Extrapolation may have failed. Check resulting frequency spectrum for unexpected results.\n",
      "WARNING:Numerics:Extrapolation may have failed. Check resulting frequency spectrum for unexpected results.\n",
      "WARNING:Numerics:Extrapolation may have failed. Check resulting frequency spectrum for unexpected results.\n",
      "WARNING:Numerics:Extrapolation may have failed. Check resulting frequency spectrum for unexpected results.\n",
      "WARNING:Numerics:Extrapolation may have failed. Check resulting frequency spectrum for unexpected results.\n",
      "WARNING:Numerics:Extrapolation may have failed. Check resulting frequency spectrum for unexpected results.\n",
      "WARNING:Numerics:Extrapolation may have failed. Check resulting frequency spectrum for unexpected results.\n",
      "WARNING:Numerics:Extrapolation may have failed. Check resulting frequency spectrum for unexpected results.\n",
      "WARNING:Numerics:Extrapolation may have failed. Check resulting frequency spectrum for unexpected results.\n",
      "WARNING:Numerics:Extrapolation may have failed. Check resulting frequency spectrum for unexpected results.\n",
      "WARNING:Numerics:Extrapolation may have failed. Check resulting frequency spectrum for unexpected results.\n",
      "WARNING:Numerics:Extrapolation may have failed. Check resulting frequency spectrum for unexpected results.\n",
      "WARNING:Numerics:Extrapolation may have failed. Check resulting frequency spectrum for unexpected results.\n",
      "WARNING:Numerics:Extrapolation may have failed. Check resulting frequency spectrum for unexpected results.\n",
      "WARNING:Numerics:Extrapolation may have failed. Check resulting frequency spectrum for unexpected results.\n",
      "WARNING:Numerics:Extrapolation may have failed. Check resulting frequency spectrum for unexpected results.\n",
      "WARNING:Numerics:Extrapolation may have failed. Check resulting frequency spectrum for unexpected results.\n",
      "WARNING:Numerics:Extrapolation may have failed. Check resulting frequency spectrum for unexpected results.\n"
     ]
    },
    {
     "name": "stdout",
     "output_type": "stream",
     "text": [
      "\t\t\tOptimized parameters =[3.3789, 13.457311, 0.039027]\n",
      "\n"
     ]
    },
    {
     "name": "stderr",
     "output_type": "stream",
     "text": [
      "WARNING:Numerics:Extrapolation may have failed. Check resulting frequency spectrum for unexpected results.\n"
     ]
    },
    {
     "name": "stdout",
     "output_type": "stream",
     "text": [
      "\t\t\tLikelihood = -106,374.59\n",
      "\t\t\tAIC = 212,755.18\n",
      "\t\t\tTheta = 41,125.58\n",
      "\t\t\tChi-Squared = 197,510.96\n",
      "\n",
      "\t\t\tReplicate time: 0:00:44.709537 (H:M:S)\n",
      "\n",
      "\n",
      "\t\tRound 4 Replicate 40 of 40:\n",
      "\n",
      "\t\t\tStarting parameters = [2.208092, 15.902706, 0.05657]\n"
     ]
    },
    {
     "name": "stderr",
     "output_type": "stream",
     "text": [
      "WARNING:Numerics:Extrapolation may have failed. Check resulting frequency spectrum for unexpected results.\n",
      "WARNING:Numerics:Extrapolation may have failed. Check resulting frequency spectrum for unexpected results.\n",
      "WARNING:Numerics:Extrapolation may have failed. Check resulting frequency spectrum for unexpected results.\n",
      "WARNING:Numerics:Extrapolation may have failed. Check resulting frequency spectrum for unexpected results.\n",
      "WARNING:Numerics:Extrapolation may have failed. Check resulting frequency spectrum for unexpected results.\n",
      "WARNING:Numerics:Extrapolation may have failed. Check resulting frequency spectrum for unexpected results.\n",
      "WARNING:Numerics:Extrapolation may have failed. Check resulting frequency spectrum for unexpected results.\n",
      "WARNING:Numerics:Extrapolation may have failed. Check resulting frequency spectrum for unexpected results.\n",
      "WARNING:Numerics:Extrapolation may have failed. Check resulting frequency spectrum for unexpected results.\n",
      "WARNING:Numerics:Extrapolation may have failed. Check resulting frequency spectrum for unexpected results.\n",
      "WARNING:Numerics:Extrapolation may have failed. Check resulting frequency spectrum for unexpected results.\n",
      "WARNING:Numerics:Extrapolation may have failed. Check resulting frequency spectrum for unexpected results.\n",
      "WARNING:Numerics:Extrapolation may have failed. Check resulting frequency spectrum for unexpected results.\n",
      "WARNING:Numerics:Extrapolation may have failed. Check resulting frequency spectrum for unexpected results.\n",
      "WARNING:Numerics:Extrapolation may have failed. Check resulting frequency spectrum for unexpected results.\n",
      "WARNING:Numerics:Extrapolation may have failed. Check resulting frequency spectrum for unexpected results.\n",
      "WARNING:Numerics:Extrapolation may have failed. Check resulting frequency spectrum for unexpected results.\n",
      "WARNING:Numerics:Extrapolation may have failed. Check resulting frequency spectrum for unexpected results.\n",
      "WARNING:Numerics:Extrapolation may have failed. Check resulting frequency spectrum for unexpected results.\n",
      "WARNING:Numerics:Extrapolation may have failed. Check resulting frequency spectrum for unexpected results.\n",
      "WARNING:Numerics:Extrapolation may have failed. Check resulting frequency spectrum for unexpected results.\n",
      "WARNING:Numerics:Extrapolation may have failed. Check resulting frequency spectrum for unexpected results.\n",
      "WARNING:Numerics:Extrapolation may have failed. Check resulting frequency spectrum for unexpected results.\n",
      "WARNING:Numerics:Extrapolation may have failed. Check resulting frequency spectrum for unexpected results.\n",
      "WARNING:Numerics:Extrapolation may have failed. Check resulting frequency spectrum for unexpected results.\n",
      "WARNING:Numerics:Extrapolation may have failed. Check resulting frequency spectrum for unexpected results.\n",
      "WARNING:Numerics:Extrapolation may have failed. Check resulting frequency spectrum for unexpected results.\n",
      "WARNING:Numerics:Extrapolation may have failed. Check resulting frequency spectrum for unexpected results.\n"
     ]
    },
    {
     "name": "stdout",
     "output_type": "stream",
     "text": [
      "\t\t\tOptimized parameters =[2.577464, 15.368732, 0.034211]\n",
      "\n"
     ]
    },
    {
     "name": "stderr",
     "output_type": "stream",
     "text": [
      "WARNING:Numerics:Extrapolation may have failed. Check resulting frequency spectrum for unexpected results.\n"
     ]
    },
    {
     "name": "stdout",
     "output_type": "stream",
     "text": [
      "\t\t\tLikelihood = -107,151.31\n",
      "\t\t\tAIC = 214,308.62\n",
      "\t\t\tTheta = 43,275.26\n",
      "\t\t\tChi-Squared = 194,745.77\n",
      "\n",
      "\t\t\tReplicate time: 0:00:46.508971 (H:M:S)\n",
      "\n",
      "\n",
      "\t----------------------------------------------\n",
      "\tBest replicate: Round_4_Replicate_3\n",
      "\t\tLikelihood = -106,238.21\n",
      "\t\tAIC = 212,482.42\n",
      "\t\tChi-Squared = 197,498.68\n",
      "\t\tParams = [2.5775, 15.3687, 0.0342]\n",
      "\t----------------------------------------------\n",
      "\n",
      "\n",
      "\n",
      "Analysis Time for Model 'no_mig': 0:58:48.556801 (H:M:S)\n",
      "\n",
      "============================================================================\n"
     ]
    }
   ],
   "source": [
    "Optimize_Routine(fs_fw, pts, prefix, \"no_mig\", Models_2D.no_mig, rounds, 3, fs_folded=fs_folded,\n",
    "                                        reps=reps, maxiters=maxiters, folds=folds, param_labels = \"nu1, nu2, T\")"
   ]
  },
  {
   "cell_type": "markdown",
   "metadata": {},
   "source": [
    "--------------------------------------------\n",
    "Summarize"
   ]
  },
  {
   "cell_type": "code",
   "execution_count": 47,
   "metadata": {},
   "outputs": [
    {
     "name": "stdout",
     "output_type": "stream",
     "text": [
      "Directory changed\n"
     ]
    }
   ],
   "source": [
    "os.chdir(\"../output_files/\") \n",
    "  \n",
    "print(\"Directory changed\") "
   ]
  },
  {
   "cell_type": "code",
   "execution_count": 48,
   "metadata": {},
   "outputs": [
    {
     "name": "stdout",
     "output_type": "stream",
     "text": [
      "\n",
      "\n",
      "Found 1 output files to summarize:\n",
      "\tGM_GW.no_mig.optimized.txt\n",
      "\n",
      "Extracting contents from: GM_GW.no_mig.optimized.txt\n",
      "\tFound 100 total replicates.\n",
      "\n",
      "\n",
      "Summary files 'Results_Summary_Extended.txt' and 'Results_Summary_Short.txt' have been written to: \n",
      "\t../output_files/\n",
      "\n",
      "\n"
     ]
    }
   ],
   "source": [
    "import sys\n",
    "import os\n",
    "\n",
    "#===========================================================================\n",
    "file_dir = \"../output_files/\"\n",
    "os.chdir(file_dir)\n",
    "\n",
    "#check if summary files already exist in output directory\n",
    "results = sorted([os.path.abspath(f) for f in os.listdir(file_dir) if f.startswith(\"Results_Summary\")])\n",
    "if results:\n",
    "    raise ValueError(\"\\n\\n\\nWARNING: Summary files are already located in the directory specified.\"\n",
    "                         \" Please remove them before running this script.\\n\\n\")\n",
    "    \n",
    "\n",
    "#initiate empty lists that we will fill with summary information\n",
    "summary_list = []\n",
    "simple_list = []\n",
    "\n",
    "#list comprehension to find output files\n",
    "flist = sorted([os.path.abspath(f) for f in os.listdir(file_dir) if f.endswith(\"optimized.txt\")])\n",
    "\n",
    "#do tasks depending on whether files located or not\n",
    "if flist:\n",
    "    print(\"\\n\\nFound {} output files to summarize:\".format(len(flist)))\n",
    "    for f in flist:\n",
    "        print(\"\\t{}\".format(f.split('/')[-1]))\n",
    "else:\n",
    "    print(\"\\n\\nFound {} output files to summarize!\\n\\n\".format(len(flist)))\n",
    "    print(\"Please check to make sure the output files end with '.optimized.txt' and are\"\n",
    "              \"located in the directory specified:\\n\\t{}\".format(file_dir))\n",
    "\n",
    "#iterate over output files\n",
    "for f in flist:\n",
    "    print(\"\\nExtracting contents from: {}\".format(f.split('/')[-1]))\n",
    "    #content list items will have order: \"Model\"\t\"Replicate\"\t\"log-likelihood\"\t\"AIC\"\t\"chi-squared\"\t\"theta\"\t\"optimized_params(xxx)\"\n",
    "    with open(f, 'r') as fh:\n",
    "        lines = [line.strip().split('\\t') for line in fh if not line.startswith(\"Model\")]\n",
    "    #strict filtering: sublists must have 7 elements and not contain any \"nan\" entries\n",
    "    content = [l for l in lines if len(l) == 7 and \"nan\" not in l]\n",
    "    if len(lines) == len(content):\n",
    "        print(\"\\tFound {} total replicates.\".format(len(lines)))\n",
    "    else:\n",
    "        print(\"\\tFound {} row entries.\".format(len(lines)))\n",
    "        print(\"\\tRemoved {} row entries due to presence of 'nan' values or incomplete data.\".format(len(lines)-len(content)))\n",
    "        \n",
    "    #let's sort all the rows by AIC, lowest to highest\n",
    "    content.sort(key=lambda x: float(x[3]))\n",
    "        \n",
    "    #add top five entries to summary list\n",
    "    for i in content[:5]:\n",
    "        summary_list.append(i)\n",
    "        \n",
    "    #add top entry to easy list\n",
    "    simple_list.append(content[0])\n",
    "   \n",
    " #make sure results are actually in lists\n",
    "if simple_list and summary_list:\n",
    "    \n",
    "    #sort the list containing only the top entry for each model by order of AIC\n",
    "    simple_list.sort(key=lambda x: float(x[3]))\n",
    "\n",
    "    #create output file 1\n",
    "    out1 = \"Results_Summary_Extended.txt\"\n",
    "    with open(out1, 'a') as fh:\n",
    "        #write tab-delimited file with extended results\n",
    "        fh.write(\"Model\\tReplicate\\tlog-likelihood\\tAIC\\tchi-squared\\ttheta\\toptimized_params\\n\")\n",
    "        for row in summary_list:\n",
    "            for val in row:\n",
    "                fh.write(\"{}\\t\".format(val))\n",
    "            fh.write(\"\\n\")\n",
    "\n",
    "    #create output file 2\n",
    "    out2 = \"Results_Summary_Short.txt\"\n",
    "    with open(out2, 'a') as fh:\n",
    "        #write tab-delimited file with simplified results\n",
    "        fh.write(\"Model\\tReplicate\\tlog-likelihood\\tAIC\\tchi-squared\\ttheta\\toptimized_params\\n\")\n",
    "        for row in simple_list:\n",
    "            for val in row:\n",
    "                fh.write(\"{}\\t\".format(val))\n",
    "            fh.write(\"\\n\")\n",
    "\n",
    "    print(\"\\n\\nSummary files '{0}' and '{1}' have been written to: \\n\\t{2}\\n\\n\".format(out1, out2, file_dir))\n",
    "\n",
    "else:\n",
    "    print(\"\\n\\nNo results were written!\\n\\n\")\n"
   ]
  },
  {
   "cell_type": "code",
   "execution_count": 58,
   "metadata": {},
   "outputs": [
    {
     "data": {
      "text/html": [
       "<div>\n",
       "<style scoped>\n",
       "    .dataframe tbody tr th:only-of-type {\n",
       "        vertical-align: middle;\n",
       "    }\n",
       "\n",
       "    .dataframe tbody tr th {\n",
       "        vertical-align: top;\n",
       "    }\n",
       "\n",
       "    .dataframe thead th {\n",
       "        text-align: right;\n",
       "    }\n",
       "</style>\n",
       "<table border=\"1\" class=\"dataframe\">\n",
       "  <thead>\n",
       "    <tr style=\"text-align: right;\">\n",
       "      <th></th>\n",
       "      <th>Model</th>\n",
       "      <th>Replicate</th>\n",
       "      <th>log-likelihood</th>\n",
       "      <th>AIC</th>\n",
       "      <th>chi-squared</th>\n",
       "      <th>theta</th>\n",
       "      <th>optimized_params</th>\n",
       "    </tr>\n",
       "  </thead>\n",
       "  <tbody>\n",
       "    <tr>\n",
       "      <th>no_mig</th>\n",
       "      <td>Round_4_Replicate_3</td>\n",
       "      <td>-106238.21</td>\n",
       "      <td>212482.42</td>\n",
       "      <td>197498.68</td>\n",
       "      <td>41219.76</td>\n",
       "      <td>3.2485,13.6004,0.0389</td>\n",
       "      <td>NaN</td>\n",
       "    </tr>\n",
       "    <tr>\n",
       "      <th>no_mig</th>\n",
       "      <td>Round_4_Replicate_24</td>\n",
       "      <td>-106268.79</td>\n",
       "      <td>212543.58</td>\n",
       "      <td>195462.74</td>\n",
       "      <td>41807.23</td>\n",
       "      <td>3.157,12.4632,0.038</td>\n",
       "      <td>NaN</td>\n",
       "    </tr>\n",
       "    <tr>\n",
       "      <th>no_mig</th>\n",
       "      <td>Round_4_Replicate_1</td>\n",
       "      <td>-106270.16</td>\n",
       "      <td>212546.32</td>\n",
       "      <td>196039.11</td>\n",
       "      <td>41591.49</td>\n",
       "      <td>3.1873,13.7313,0.038</td>\n",
       "      <td>NaN</td>\n",
       "    </tr>\n",
       "    <tr>\n",
       "      <th>no_mig</th>\n",
       "      <td>Round_4_Replicate_36</td>\n",
       "      <td>-106275.43</td>\n",
       "      <td>212556.86</td>\n",
       "      <td>197135.65</td>\n",
       "      <td>41420.00</td>\n",
       "      <td>3.1997,12.9165,0.0387</td>\n",
       "      <td>NaN</td>\n",
       "    </tr>\n",
       "    <tr>\n",
       "      <th>no_mig</th>\n",
       "      <td>Round_4_Replicate_31</td>\n",
       "      <td>-106301.62</td>\n",
       "      <td>212609.24</td>\n",
       "      <td>193555.50</td>\n",
       "      <td>42281.26</td>\n",
       "      <td>3.072,12.8155,0.0368</td>\n",
       "      <td>NaN</td>\n",
       "    </tr>\n",
       "  </tbody>\n",
       "</table>\n",
       "</div>"
      ],
      "text/plain": [
       "                       Model  Replicate  log-likelihood        AIC  \\\n",
       "no_mig   Round_4_Replicate_3 -106238.21       212482.42  197498.68   \n",
       "no_mig  Round_4_Replicate_24 -106268.79       212543.58  195462.74   \n",
       "no_mig   Round_4_Replicate_1 -106270.16       212546.32  196039.11   \n",
       "no_mig  Round_4_Replicate_36 -106275.43       212556.86  197135.65   \n",
       "no_mig  Round_4_Replicate_31 -106301.62       212609.24  193555.50   \n",
       "\n",
       "        chi-squared                  theta  optimized_params  \n",
       "no_mig     41219.76  3.2485,13.6004,0.0389               NaN  \n",
       "no_mig     41807.23    3.157,12.4632,0.038               NaN  \n",
       "no_mig     41591.49   3.1873,13.7313,0.038               NaN  \n",
       "no_mig     41420.00  3.1997,12.9165,0.0387               NaN  \n",
       "no_mig     42281.26   3.072,12.8155,0.0368               NaN  "
      ]
     },
     "execution_count": 58,
     "metadata": {},
     "output_type": "execute_result"
    }
   ],
   "source": [
    "pd.read_csv(\"Results_Summary_Extended.txt\", sep = \"\\t\")"
   ]
  },
  {
   "cell_type": "code",
   "execution_count": 49,
   "metadata": {},
   "outputs": [
    {
     "data": {
      "text/html": [
       "<div>\n",
       "<style scoped>\n",
       "    .dataframe tbody tr th:only-of-type {\n",
       "        vertical-align: middle;\n",
       "    }\n",
       "\n",
       "    .dataframe tbody tr th {\n",
       "        vertical-align: top;\n",
       "    }\n",
       "\n",
       "    .dataframe thead th {\n",
       "        text-align: right;\n",
       "    }\n",
       "</style>\n",
       "<table border=\"1\" class=\"dataframe\">\n",
       "  <thead>\n",
       "    <tr style=\"text-align: right;\">\n",
       "      <th></th>\n",
       "      <th>Model</th>\n",
       "      <th>Replicate</th>\n",
       "      <th>log-likelihood</th>\n",
       "      <th>AIC</th>\n",
       "      <th>chi-squared</th>\n",
       "      <th>theta</th>\n",
       "      <th>optimized_params</th>\n",
       "    </tr>\n",
       "  </thead>\n",
       "  <tbody>\n",
       "    <tr>\n",
       "      <th>no_mig</th>\n",
       "      <td>Round_4_Replicate_3</td>\n",
       "      <td>-106238.21</td>\n",
       "      <td>212482.42</td>\n",
       "      <td>197498.68</td>\n",
       "      <td>41219.76</td>\n",
       "      <td>3.2485,13.6004,0.0389</td>\n",
       "      <td>NaN</td>\n",
       "    </tr>\n",
       "  </tbody>\n",
       "</table>\n",
       "</div>"
      ],
      "text/plain": [
       "                      Model  Replicate  log-likelihood        AIC  \\\n",
       "no_mig  Round_4_Replicate_3 -106238.21       212482.42  197498.68   \n",
       "\n",
       "        chi-squared                  theta  optimized_params  \n",
       "no_mig     41219.76  3.2485,13.6004,0.0389               NaN  "
      ]
     },
     "execution_count": 49,
     "metadata": {},
     "output_type": "execute_result"
    }
   ],
   "source": [
    "pd.read_csv(\"Results_Summary_Short.txt\", sep = \"\\t\")"
   ]
  },
  {
   "cell_type": "markdown",
   "metadata": {},
   "source": [
    "----------------------------\n",
    "Plotting model"
   ]
  },
  {
   "cell_type": "code",
   "execution_count": 65,
   "metadata": {},
   "outputs": [],
   "source": [
    "file_dir = \"../output_files/\"\n",
    "os.chdir(file_dir)"
   ]
  },
  {
   "cell_type": "code",
   "execution_count": 118,
   "metadata": {},
   "outputs": [],
   "source": [
    "import Plotting_Functions"
   ]
  },
  {
   "cell_type": "code",
   "execution_count": 119,
   "metadata": {},
   "outputs": [],
   "source": [
    "emp_params = [3.2485,13.6004,0.0389]"
   ]
  },
  {
   "cell_type": "code",
   "execution_count": 120,
   "metadata": {},
   "outputs": [
    {
     "name": "stdout",
     "output_type": "stream",
     "text": [
      "============================================================================\n",
      "Fitting model 'no_mig' to empirical data...\n",
      "============================================================================\n",
      "\n",
      "Input parameters = [3.2485, 13.6004, 0.0389]\n",
      "\n"
     ]
    },
    {
     "name": "stderr",
     "output_type": "stream",
     "text": [
      "WARNING:Numerics:Extrapolation may have failed. Check resulting frequency spectrum for unexpected results.\n"
     ]
    },
    {
     "name": "stdout",
     "output_type": "stream",
     "text": [
      "\t\t\tLikelihood = -106,242.03\n",
      "\t\t\tAIC = 212,490.06\n",
      "\t\t\tTheta = 41,237.56\n",
      "\t\t\tChi-Squared = nan\n",
      "\n",
      "============================================================================\n",
      "Creating plots\n",
      "============================================================================\n",
      "\n"
     ]
    }
   ],
   "source": [
    "model_fit = Plotting_Functions.Fit_Empirical(fs_fw, pts, prefix, \"no_mig\", no_mig, emp_params, fs_folded=False)"
   ]
  },
  {
   "cell_type": "code",
   "execution_count": 121,
   "metadata": {},
   "outputs": [
    {
     "name": "stdout",
     "output_type": "stream",
     "text": [
      "\n",
      "Plotting GM_GW_no_mig.pdf\n",
      "\n",
      "NOTE - CLOSE PLOT TO ADVANCE.\n"
     ]
    },
    {
     "data": {
      "image/png": "[encoded data removed]",
      "text/plain": [
       "<Figure size 432x288 with 6 Axes>"
      ]
     },
     "metadata": {
      "needs_background": "light"
     },
     "output_type": "display_data"
    }
   ],
   "source": [
    "Plotting_Functions.Plot_2D(fs_fw, model_fit, prefix, \"no_mig\", vmin_val=0.1)"
   ]
  },
  {
   "cell_type": "code",
   "execution_count": 146,
   "metadata": {},
   "outputs": [],
   "source": [
    "def Plot_2d(fs, model_fit, model_name, outfile, vmin_val=None):\n",
    "    #Routine for plotting with 2D jsfs\n",
    "    fig = pylab.figure(num = 1, figsize = (15,10))\n",
    "    fig.clear()\n",
    "    if vmin_val is None:\n",
    "        dadi.Plotting.plot_2d_comp_multinom(model_fit, fs, resid_range = 3)\n",
    "    else:\n",
    "        dadi.Plotting.plot_2d_comp_multinom(model_fit, fs, resid_range = 3, vmin = vmin_val)\n",
    "    print('\\nPlotting {0}_{1}.pdf'.format(outfile, model_name))\n",
    "    print(\"\\nNOTE - CLOSE PLOT TO ADVANCE.\")\n",
    "    outname = '{0}_{1}.pdf'.format(outfile, model_name)\n",
    "    fig.savefig(outname)"
   ]
  },
  {
   "cell_type": "code",
   "execution_count": 147,
   "metadata": {},
   "outputs": [
    {
     "data": {
      "image/png": "[encoded data removed]",
      "text/plain": [
       "<Figure size 1080x720 with 6 Axes>"
      ]
     },
     "metadata": {
      "needs_background": "light"
     },
     "output_type": "display_data"
    },
    {
     "name": "stdout",
     "output_type": "stream",
     "text": [
      "\n",
      "Plotting no_mig_GM_GW.png\n",
      "\n",
      "NOTE - CLOSE PLOT TO ADVANCE.\n"
     ]
    }
   ],
   "source": [
    "Plot_2d(fs_fw, model_fit, prefix, \"no_mig\", vmin_val=0.1)"
   ]
  },
  {
   "cell_type": "code",
   "execution_count": null,
   "metadata": {},
   "outputs": [],
   "source": []
  }
 ],
 "metadata": {
  "kernelspec": {
   "display_name": "Python 3",
   "language": "python",
   "name": "python3"
  },
  "language_info": {
   "codemirror_mode": {
    "name": "ipython",
    "version": 3
   },
   "file_extension": ".py",
   "mimetype": "text/x-python",
   "name": "python",
   "nbconvert_exporter": "python",
   "pygments_lexer": "ipython3",
   "version": "3.6.7"
  }
 },
 "nbformat": 4,
 "nbformat_minor": 4
}
