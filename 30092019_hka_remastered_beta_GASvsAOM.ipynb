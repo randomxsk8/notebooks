{
 "cells": [
  {
   "cell_type": "code",
   "execution_count": 1,
   "metadata": {},
   "outputs": [
    {
     "name": "stderr",
     "output_type": "stream",
     "text": [
      "/home/randomx/.conda/envs/pyenv1/lib/python3.5/site-packages/sklearn/utils/fixes.py:313: FutureWarning: numpy not_equal will not check object identity in the future. The comparison did not return the same result as suggested by the identity (`is`)) and will change.\n",
      "  _nan_object_mask = _nan_object_array != _nan_object_array\n"
     ]
    }
   ],
   "source": [
    "import h5py\n",
    "import numpy as np\n",
    "import matplotlib.pyplot as plt\n",
    "import petl as etl\n",
    "import anhima\n",
    "import zarr\n",
    "import allel\n",
    "import itertools\n",
    "import random\n",
    "import seaborn as sns\n",
    "import petlx.bio\n",
    "import csv\n",
    "import scipy\n",
    "import intervaltree"
   ]
  },
  {
   "cell_type": "code",
   "execution_count": 2,
   "metadata": {},
   "outputs": [],
   "source": [
    "call = zarr.open('/mnt/70D89269D8922CFA/Genomes/variation/ag1000g.phase2.ar1.pass.biallelic')\n",
    "out_alleles = h5py.File('/mnt/70D89269D8922CFA/Genomes/extras/outgroup_alleles_phase2.h5')\n",
    "ac_count = zarr.open('/mnt/70D89269D8922CFA/Genomes/extras/phase2_biallel_allele_count.zarr/')\n",
    "out_count = zarr.open('/mnt/70D89269D8922CFA/Genomes/extras/outgroup_alleles_phase2.zarr/')\n",
    "annotation = zarr.open('/mnt/70D89269D8922CFA/Genomes/variation/ag1000g.phase2.ar1.pass.biallelic_snpeff/')\n",
    "samples = list(call['3L/samples'])\n",
    "contigs = ['3L', '3R', '2R', '2L', 'X']\n",
    "samples = [str(s) for s in call[\"3L\"][\"samples\"][:]]\n",
    "tbl_samples = etl.fromcsv('/mnt/70D89269D8922CFA/Genomes/meta/samples.meta.txt', delimiter='\\t')"
   ]
  },
  {
   "cell_type": "code",
   "execution_count": 3,
   "metadata": {},
   "outputs": [
    {
     "data": {
      "text/html": [
       "<table class='petl'>\n",
       "<thead>\n",
       "<tr>\n",
       "<th>ox_code</th>\n",
       "<th>src_code</th>\n",
       "<th>population</th>\n",
       "<th>country</th>\n",
       "<th>location</th>\n",
       "<th>site</th>\n",
       "<th>contributor</th>\n",
       "<th>contact</th>\n",
       "<th>year</th>\n",
       "<th>m_s</th>\n",
       "<th>sex</th>\n",
       "<th>n_sequences</th>\n",
       "<th>mean_coverage</th>\n",
       "<th>ebi_sample_acc</th>\n",
       "<th>latitude</th>\n",
       "<th>longitude</th>\n",
       "</tr>\n",
       "</thead>\n",
       "<tbody>\n",
       "<tr>\n",
       "<td>AA0040-C</td>\n",
       "<td>Twifo_Praso__E2</td>\n",
       "<td>GHcol</td>\n",
       "<td>Ghana</td>\n",
       "<td>Twifo Praso</td>\n",
       "<td>Twifo Praso</td>\n",
       "<td>David Weetman</td>\n",
       "<td>David Weetman</td>\n",
       "<td>2012</td>\n",
       "<td>M</td>\n",
       "<td>F</td>\n",
       "<td>95033368</td>\n",
       "<td>30.99</td>\n",
       "<td>ERS311878</td>\n",
       "<td>5.60858</td>\n",
       "<td>-1.54926</td>\n",
       "</tr>\n",
       "<tr>\n",
       "<td>AA0041-C</td>\n",
       "<td>Twifo_Praso__H3</td>\n",
       "<td>GHcol</td>\n",
       "<td>Ghana</td>\n",
       "<td>Twifo Praso</td>\n",
       "<td>Twifo Praso</td>\n",
       "<td>David Weetman</td>\n",
       "<td>David Weetman</td>\n",
       "<td>2012</td>\n",
       "<td>M</td>\n",
       "<td>F</td>\n",
       "<td>95843804</td>\n",
       "<td>31.7</td>\n",
       "<td>ERS311886</td>\n",
       "<td>5.60858</td>\n",
       "<td>-1.54926</td>\n",
       "</tr>\n",
       "<tr>\n",
       "<td>AA0042-C</td>\n",
       "<td>Takoradi_C7</td>\n",
       "<td>GHcol</td>\n",
       "<td>Ghana</td>\n",
       "<td>Takoradi</td>\n",
       "<td>Takoradi</td>\n",
       "<td>David Weetman</td>\n",
       "<td>David Weetman</td>\n",
       "<td>2012</td>\n",
       "<td>M</td>\n",
       "<td>F</td>\n",
       "<td>107420666</td>\n",
       "<td>35.65</td>\n",
       "<td>ERS311894</td>\n",
       "<td>4.91217</td>\n",
       "<td>-1.77397</td>\n",
       "</tr>\n",
       "<tr>\n",
       "<td>AA0043-C</td>\n",
       "<td>Takoradi_H8</td>\n",
       "<td>GHcol</td>\n",
       "<td>Ghana</td>\n",
       "<td>Takoradi</td>\n",
       "<td>Takoradi</td>\n",
       "<td>David Weetman</td>\n",
       "<td>David Weetman</td>\n",
       "<td>2012</td>\n",
       "<td>M</td>\n",
       "<td>F</td>\n",
       "<td>95993752</td>\n",
       "<td>29.46</td>\n",
       "<td>ERS311902</td>\n",
       "<td>4.91217</td>\n",
       "<td>-1.77397</td>\n",
       "</tr>\n",
       "<tr>\n",
       "<td>AA0044-C</td>\n",
       "<td>Takoradi_D10</td>\n",
       "<td>GHcol</td>\n",
       "<td>Ghana</td>\n",
       "<td>Takoradi</td>\n",
       "<td>Takoradi</td>\n",
       "<td>David Weetman</td>\n",
       "<td>David Weetman</td>\n",
       "<td>2012</td>\n",
       "<td>M</td>\n",
       "<td>F</td>\n",
       "<td>103044262</td>\n",
       "<td>33.67</td>\n",
       "<td>ERS311910</td>\n",
       "<td>4.91217</td>\n",
       "<td>-1.77397</td>\n",
       "</tr>\n",
       "</tbody>\n",
       "</table>\n",
       "<p><strong>...</strong></p>"
      ],
      "text/plain": [
       "+------------+-------------------+------------+---------+---------------+---------------+-----------------+-----------------+--------+-----+-----+-------------+---------------+----------------+-----------+------------+\n",
       "| ox_code    | src_code          | population | country | location      | site          | contributor     | contact         | year   | m_s | sex | n_sequences | mean_coverage | ebi_sample_acc | latitude  | longitude  |\n",
       "+============+===================+============+=========+===============+===============+=================+=================+========+=====+=====+=============+===============+================+===========+============+\n",
       "| 'AA0040-C' | 'Twifo_Praso__E2' | 'GHcol'    | 'Ghana' | 'Twifo Praso' | 'Twifo Praso' | 'David Weetman' | 'David Weetman' | '2012' | 'M' | 'F' | '95033368'  | '30.99'       | 'ERS311878'    | '5.60858' | '-1.54926' |\n",
       "+------------+-------------------+------------+---------+---------------+---------------+-----------------+-----------------+--------+-----+-----+-------------+---------------+----------------+-----------+------------+\n",
       "| 'AA0041-C' | 'Twifo_Praso__H3' | 'GHcol'    | 'Ghana' | 'Twifo Praso' | 'Twifo Praso' | 'David Weetman' | 'David Weetman' | '2012' | 'M' | 'F' | '95843804'  | '31.7'        | 'ERS311886'    | '5.60858' | '-1.54926' |\n",
       "+------------+-------------------+------------+---------+---------------+---------------+-----------------+-----------------+--------+-----+-----+-------------+---------------+----------------+-----------+------------+\n",
       "| 'AA0042-C' | 'Takoradi_C7'     | 'GHcol'    | 'Ghana' | 'Takoradi'    | 'Takoradi'    | 'David Weetman' | 'David Weetman' | '2012' | 'M' | 'F' | '107420666' | '35.65'       | 'ERS311894'    | '4.91217' | '-1.77397' |\n",
       "+------------+-------------------+------------+---------+---------------+---------------+-----------------+-----------------+--------+-----+-----+-------------+---------------+----------------+-----------+------------+\n",
       "| 'AA0043-C' | 'Takoradi_H8'     | 'GHcol'    | 'Ghana' | 'Takoradi'    | 'Takoradi'    | 'David Weetman' | 'David Weetman' | '2012' | 'M' | 'F' | '95993752'  | '29.46'       | 'ERS311902'    | '4.91217' | '-1.77397' |\n",
       "+------------+-------------------+------------+---------+---------------+---------------+-----------------+-----------------+--------+-----+-----+-------------+---------------+----------------+-----------+------------+\n",
       "| 'AA0044-C' | 'Takoradi_D10'    | 'GHcol'    | 'Ghana' | 'Takoradi'    | 'Takoradi'    | 'David Weetman' | 'David Weetman' | '2012' | 'M' | 'F' | '103044262' | '33.67'       | 'ERS311910'    | '4.91217' | '-1.77397' |\n",
       "+------------+-------------------+------------+---------+---------------+---------------+-----------------+-----------------+--------+-----+-----+-------------+---------------+----------------+-----------+------------+\n",
       "..."
      ]
     },
     "execution_count": 3,
     "metadata": {},
     "output_type": "execute_result"
    }
   ],
   "source": [
    "tbl_samples"
   ]
  },
  {
   "cell_type": "markdown",
   "metadata": {},
   "source": [
    "----------------------"
   ]
  },
  {
   "cell_type": "code",
   "execution_count": 4,
   "metadata": {},
   "outputs": [],
   "source": [
    "m = tbl_samples.select(lambda r: r.m_s == 'M' and r.population == 'AOcol').values('ox_code').list()\n",
    "s = tbl_samples.select(lambda r: r.m_s == 'S' and r.population == 'GAgam').values('ox_code').list()\n",
    "index_m = [samples.index(i) for i in m]\n",
    "index_s = [samples.index(i) for i in s]"
   ]
  },
  {
   "cell_type": "code",
   "execution_count": 5,
   "metadata": {},
   "outputs": [
    {
     "name": "stdout",
     "output_type": "stream",
     "text": [
      "coluzzii samples: 78 \n",
      " gambiae samples: 69\n"
     ]
    }
   ],
   "source": [
    "print('coluzzii samples:', len(index_m), '\\n', 'gambiae samples:', len(index_s))"
   ]
  },
  {
   "cell_type": "code",
   "execution_count": 6,
   "metadata": {},
   "outputs": [],
   "source": [
    "ann = {chrom: annotation[chrom]['variants/ANN_Annotation'][:] for chrom in contigs}"
   ]
  },
  {
   "cell_type": "code",
   "execution_count": 7,
   "metadata": {},
   "outputs": [],
   "source": [
    "sel = {chrom: ((ann[chrom] != b'intergenic_variant') & (ann[chrom] != b'upstream_gene_variant') &\n",
    "(ann[chrom] != b'downstream_gene_variant')) for chrom in contigs}"
   ]
  },
  {
   "cell_type": "code",
   "execution_count": 8,
   "metadata": {},
   "outputs": [],
   "source": [
    "del ann"
   ]
  },
  {
   "cell_type": "code",
   "execution_count": 9,
   "metadata": {},
   "outputs": [],
   "source": [
    "#Changed from GenotypeDaskArray to GenotypeChunkedArray\n",
    "ga = {chrom: allel.GenotypeChunkedArray(call[chrom]['calldata/GT']) for chrom in contigs}"
   ]
  },
  {
   "cell_type": "code",
   "execution_count": 10,
   "metadata": {},
   "outputs": [],
   "source": [
    "# bool biallelic and in genes\n",
    "is_bial_genes = {chrom: sel[chrom] for chrom in contigs}"
   ]
  },
  {
   "cell_type": "code",
   "execution_count": 11,
   "metadata": {},
   "outputs": [],
   "source": [
    "#filter to get only biallelic in genes\n",
    "ga = {chrom: ga[chrom].compress(is_bial_genes[chrom], axis=0) for chrom in contigs}"
   ]
  },
  {
   "cell_type": "code",
   "execution_count": 12,
   "metadata": {},
   "outputs": [],
   "source": [
    "# get just bf coluzzii individuals\n",
    "random_index = random.sample(index_m, 69)\n",
    "gm = {chrom: ga[chrom].take(random_index, axis=1) for chrom in contigs}"
   ]
  },
  {
   "cell_type": "code",
   "execution_count": 13,
   "metadata": {},
   "outputs": [],
   "source": [
    "#take an equal number of samples\n",
    "gs = {chrom: ga[chrom].take(index_s, axis=1) for chrom in contigs}"
   ]
  },
  {
   "cell_type": "code",
   "execution_count": 14,
   "metadata": {},
   "outputs": [],
   "source": [
    "acm = {chrom: gm[chrom].count_alleles() for chrom in contigs}\n",
    "seg_m = {chrom: acm[chrom].count_segregating() for chrom in contigs}\n",
    "is_seg_m = {chrom: acm[chrom].is_segregating() for chrom in contigs}"
   ]
  },
  {
   "cell_type": "code",
   "execution_count": 15,
   "metadata": {},
   "outputs": [],
   "source": [
    "acs = {chrom: gs[chrom].count_alleles() for chrom in contigs}\n",
    "seg_s = {chrom: acs[chrom].count_segregating() for chrom in contigs}\n",
    "is_seg_s = {chrom: acs[chrom].is_segregating() for chrom in contigs}"
   ]
  },
  {
   "cell_type": "code",
   "execution_count": 16,
   "metadata": {},
   "outputs": [
    {
     "name": "stdout",
     "output_type": "stream",
     "text": [
      "seg sites coluzii chrom 3L: 887339\n",
      "seg sites coluzii chrom 3R: 1184963\n",
      "seg sites coluzii chrom 2R: 1240012\n",
      "seg sites coluzii chrom 2L: 950572\n",
      "seg sites coluzii chrom X: 347039\n"
     ]
    }
   ],
   "source": [
    "for chrom in contigs:\n",
    "    print('seg sites coluzii chrom %s:' % chrom, seg_m[chrom])"
   ]
  },
  {
   "cell_type": "code",
   "execution_count": 17,
   "metadata": {},
   "outputs": [
    {
     "name": "stdout",
     "output_type": "stream",
     "text": [
      "seg sites gambiae chrom 3L: 1146616\n",
      "seg sites gambiae chrom 3R: 1635111\n",
      "seg sites gambiae chrom 2R: 1752127\n",
      "seg sites gambiae chrom 2L: 1195164\n",
      "seg sites gambiae chrom X: 369285\n"
     ]
    }
   ],
   "source": [
    "for chrom in contigs:\n",
    "    print('seg sites gambiae chrom %s:' % chrom, seg_s[chrom])"
   ]
  },
  {
   "cell_type": "code",
   "execution_count": 18,
   "metadata": {},
   "outputs": [],
   "source": [
    "#allele frequency\n",
    "af_gambiae = {chrom: acs[chrom].to_frequencies() for chrom in contigs}"
   ]
  },
  {
   "cell_type": "code",
   "execution_count": null,
   "metadata": {},
   "outputs": [],
   "source": [
    "#allele frequency\n",
    "af_coluzzii = {chrom: acm[chrom].to_frequencies() for chrom in contigs}"
   ]
  },
  {
   "cell_type": "code",
   "execution_count": null,
   "metadata": {},
   "outputs": [],
   "source": [
    "outgroups = ['epir', 'chri', 'meru', 'mela']"
   ]
  },
  {
   "cell_type": "code",
   "execution_count": null,
   "metadata": {},
   "outputs": [],
   "source": [
    "pos = {chrom: call[chrom]['variants/POS'][:] for chrom in contigs}\n",
    "pos_bial_genes = {chrom: np.compress(is_bial_genes[chrom], pos[chrom]) for chrom in contigs}"
   ]
  },
  {
   "cell_type": "code",
   "execution_count": null,
   "metadata": {},
   "outputs": [],
   "source": [
    "segreg_c = {chrom: np.compress(is_seg_m[chrom], pos_bial_genes[chrom]) for chrom in contigs}\n",
    "segreg_g = {chrom: np.compress(is_seg_s[chrom], pos_bial_genes[chrom]) for chrom in contigs}"
   ]
  },
  {
   "cell_type": "code",
   "execution_count": null,
   "metadata": {},
   "outputs": [
    {
     "name": "stderr",
     "output_type": "stream",
     "text": [
      "/home/randomx/.conda/envs/pyenv1/lib/python3.5/site-packages/ipykernel_launcher.py:9: RuntimeWarning: invalid value encountered in true_divide\n",
      "  if __name__ == '__main__':\n"
     ]
    }
   ],
   "source": [
    "# af biallelic in genes\n",
    "af_out = {}\n",
    "for out in outgroups:\n",
    "    af_out[out] = {}\n",
    "    for chrom in contigs:\n",
    "        allele_count = out_count[chrom][out][:]\n",
    "        allele_count_bial_genes = np.compress(is_bial_genes[chrom], allele_count, axis=0)\n",
    "        allele_number = allele_count_bial_genes.sum(axis=1)[:, np.newaxis]\n",
    "        af_out[out][chrom] = np.where(allele_number > 0, allele_count_bial_genes / allele_number, 0)"
   ]
  },
  {
   "cell_type": "code",
   "execution_count": null,
   "metadata": {},
   "outputs": [],
   "source": [
    "#filter bial in genes\n",
    "out_al = {}\n",
    "for chrom in contigs:\n",
    "    out_al[chrom] = {}\n",
    "    for out in outgroups:\n",
    "        out_al[chrom][out] = out_alleles[chrom][out][:]\n",
    "        out_al[chrom][out] = np.compress(is_bial_genes[chrom], out_al[chrom][out])"
   ]
  },
  {
   "cell_type": "code",
   "execution_count": null,
   "metadata": {},
   "outputs": [],
   "source": [
    "assert out_al[chrom][out].shape[0] == af_out[out][chrom].shape[0]"
   ]
  },
  {
   "cell_type": "code",
   "execution_count": null,
   "metadata": {},
   "outputs": [],
   "source": [
    "def consensus_aa(chrom, out_alleles, outgroups):\n",
    "    aa = None\n",
    "    for out in outgroups:\n",
    "        if aa is None:\n",
    "            aa = out_alleles[chrom][out]\n",
    "        else:\n",
    "            loc_consensus = aa == out_alleles[chrom][out]\n",
    "            aa[~loc_consensus] = b'.'\n",
    "    return aa"
   ]
  },
  {
   "cell_type": "code",
   "execution_count": null,
   "metadata": {},
   "outputs": [],
   "source": [
    "aa = {chrom: consensus_aa(chrom, out_al, ['chri']) for chrom in contigs}"
   ]
  },
  {
   "cell_type": "code",
   "execution_count": null,
   "metadata": {},
   "outputs": [],
   "source": [
    "# load ag1000g alleles\n",
    "ref = {chrom: call[chrom]['variants/REF'][:] for chrom in contigs}\n",
    "alt = {chrom: call[chrom]['variants/ALT'][:] for chrom in contigs}"
   ]
  },
  {
   "cell_type": "code",
   "execution_count": null,
   "metadata": {},
   "outputs": [],
   "source": [
    "# filter for bial in genes\n",
    "ref_bial_genes = {chrom: np.compress(is_bial_genes[chrom], ref[chrom]) for chrom in contigs}\n",
    "\n",
    "alt_bial_genes = {chrom: np.compress(is_bial_genes[chrom], alt[chrom]) for chrom in contigs}"
   ]
  },
  {
   "cell_type": "code",
   "execution_count": null,
   "metadata": {},
   "outputs": [],
   "source": [
    "bool_aa_match = {chrom: (aa[chrom] != b'.') & ((aa[chrom] == ref_bial_genes[chrom]) | (aa[chrom] == alt_bial_genes[chrom])) for chrom in contigs}"
   ]
  },
  {
   "cell_type": "code",
   "execution_count": null,
   "metadata": {},
   "outputs": [],
   "source": [
    "for chrom in contigs:\n",
    "    ref[chrom] = ref_bial_genes[chrom][bool_aa_match[chrom]]\n",
    "    alt[chrom] = alt_bial_genes[chrom][bool_aa_match[chrom]]\n",
    "    af_coluzzii[chrom] =  af_coluzzii[chrom].compress(bool_aa_match[chrom], axis=0)\n",
    "    af_gambiae[chrom] = af_gambiae[chrom].compress(bool_aa_match[chrom], axis=0)\n",
    "    aa[chrom] = aa[chrom][bool_aa_match[chrom]]\n",
    "    pos_bial_genes[chrom] = pos_bial_genes[chrom][bool_aa_match[chrom]]\n",
    "    out = 'chri'\n",
    "    af_out[out][chrom] = af_out[out][chrom][bool_aa_match[chrom]]"
   ]
  },
  {
   "cell_type": "code",
   "execution_count": null,
   "metadata": {},
   "outputs": [],
   "source": [
    "bool_no_fixed = {chrom:(((af_out['chri'][chrom][:,1]  != 0) & (af_out['chri'][chrom][:,1] != 1)) \n",
    "                        ) for chrom in contigs}"
   ]
  },
  {
   "cell_type": "code",
   "execution_count": null,
   "metadata": {},
   "outputs": [],
   "source": [
    "af_gambiae_novar_out = {chrom: np.compress(~bool_no_fixed[chrom], af_gambiae[chrom], axis=0) for chrom in contigs}\n",
    "af_coluzzii_novar_out = {chrom: np.compress(~bool_no_fixed[chrom], af_coluzzii[chrom], axis=0) for chrom in contigs}\n",
    "af_novar_out = {}\n",
    "for out in ['chri']:\n",
    "        af_novar_out[out] = {chrom: np.compress(~bool_no_fixed[chrom], af_out[out][chrom], axis=0) for chrom in contigs}     "
   ]
  },
  {
   "cell_type": "code",
   "execution_count": null,
   "metadata": {},
   "outputs": [],
   "source": [
    "pos_bial_genes = {chrom: np.compress(~bool_no_fixed[chrom], pos_bial_genes[chrom]) for chrom in contigs}"
   ]
  },
  {
   "cell_type": "code",
   "execution_count": null,
   "metadata": {},
   "outputs": [],
   "source": [
    "def find_private_fixed_derived_gambiae(pos, af_gambiae, af_coluzzii, af_out, DAF=0.9):\n",
    "    fixed = {}\n",
    "    for chrom in contigs:\n",
    "        cond = ((abs(af_gambiae[chrom][:, 0] - af_coluzzii[chrom][:, 0]) >= DAF) & \n",
    "                (abs(af_coluzzii[chrom][:, 0] - af_novar_out['chri'][chrom][:, 0]) <= (1 - DAF)))\n",
    "        fixed[chrom] = np.compress(cond, pos[chrom])\n",
    "    return fixed\n",
    "                                   \n",
    "                        "
   ]
  },
  {
   "cell_type": "code",
   "execution_count": null,
   "metadata": {},
   "outputs": [],
   "source": [
    "def find_private_fixed_derived_coluzzii(pos, af_gambiae, af_coluzzii, af_out, DAF=0.9):\n",
    "    fixed = {}\n",
    "    for chrom in contigs:\n",
    "        cond = ((abs(af_gambiae[chrom][:, 0] - af_coluzzii[chrom][:, 0]) >= DAF) & \n",
    "                (abs(af_gambiae[chrom][:, 0] - af_novar_out['chri'][chrom][:, 0]) <= (1 - DAF)))\n",
    "        fixed[chrom] = np.compress(cond, pos[chrom])\n",
    "    return fixed\n",
    "                 "
   ]
  },
  {
   "cell_type": "code",
   "execution_count": null,
   "metadata": {},
   "outputs": [],
   "source": [
    "chrom = 'X'\n",
    "assert(af_gambiae_novar_out[chrom].shape[0] == af_gambiae_novar_out[chrom].shape[0] == pos_bial_genes[chrom].shape[0])"
   ]
  },
  {
   "cell_type": "markdown",
   "metadata": {},
   "source": [
    "## Sanity Check"
   ]
  },
  {
   "cell_type": "code",
   "execution_count": null,
   "metadata": {},
   "outputs": [
    {
     "data": {
      "text/plain": [
       "array([ 5528640, 10952921, 11989794, 16556513, 17163911, 25060879,\n",
       "       34883729, 34883742, 34884498, 35726249, 35726457, 35726718,\n",
       "       35726743, 35813922, 35814861, 35814873, 35815019, 41365173, 41775147], dtype=int32)"
      ]
     },
     "execution_count": 38,
     "metadata": {},
     "output_type": "execute_result"
    }
   ],
   "source": [
    "fixed_g = find_private_fixed_derived_gambiae(pos_bial_genes, af_gambiae_novar_out, af_coluzzii_novar_out, af_novar_out)\n",
    "fixed_g['3L']"
   ]
  },
  {
   "cell_type": "code",
   "execution_count": null,
   "metadata": {},
   "outputs": [
    {
     "data": {
      "text/plain": [
       "array([ 5527611, 11990120, 16557333, 16564670, 16690981, 17600983,\n",
       "       25060148, 25063740, 25070089, 25154529, 25154874, 29253861,\n",
       "       29253926, 29267523, 35721577, 35726424, 35726750, 35726960,\n",
       "       35736128, 35813220, 35813317, 35813913, 37162424, 39682874, 39801601], dtype=int32)"
      ]
     },
     "execution_count": 39,
     "metadata": {},
     "output_type": "execute_result"
    }
   ],
   "source": [
    "fixed_c = find_private_fixed_derived_coluzzii(pos_bial_genes, af_gambiae_novar_out, af_coluzzii_novar_out, af_novar_out)\n",
    "fixed_c['3L']"
   ]
  },
  {
   "cell_type": "code",
   "execution_count": null,
   "metadata": {},
   "outputs": [
    {
     "data": {
      "text/plain": [
       "array([[ 0.02898551,  0.97101449],\n",
       "       [ 0.07971014,  0.92028986],\n",
       "       [ 0.97101449,  0.02898551],\n",
       "       [ 0.99275362,  0.00724638],\n",
       "       [ 0.94202899,  0.05797101],\n",
       "       [ 0.        ,  1.        ],\n",
       "       [ 0.03623188,  0.96376812],\n",
       "       [ 0.07246377,  0.92753623],\n",
       "       [ 0.94202899,  0.05797101],\n",
       "       [ 0.98550725,  0.01449275]])"
      ]
     },
     "execution_count": 40,
     "metadata": {},
     "output_type": "execute_result"
    }
   ],
   "source": [
    "loc_3L = np.in1d(pos_bial_genes['3L'], fixed_c['3L'])\n",
    "np.compress(loc_3L, af_coluzzii_novar_out['3L'], axis=0)[:10]"
   ]
  },
  {
   "cell_type": "code",
   "execution_count": null,
   "metadata": {},
   "outputs": [
    {
     "data": {
      "text/plain": [
       "array([[ 0.93478261,  0.06521739],\n",
       "       [ 0.99275362,  0.00724638],\n",
       "       [ 0.03623188,  0.96376812],\n",
       "       [ 0.05797101,  0.94202899],\n",
       "       [ 0.02173913,  0.97826087],\n",
       "       [ 0.92028986,  0.07971014],\n",
       "       [ 0.94202899,  0.05797101],\n",
       "       [ 1.        ,  0.        ],\n",
       "       [ 0.01449275,  0.98550725],\n",
       "       [ 0.07971014,  0.92028986]])"
      ]
     },
     "execution_count": 41,
     "metadata": {},
     "output_type": "execute_result"
    }
   ],
   "source": [
    "np.compress(loc_3L, af_gambiae_novar_out['3L'], axis=0)[:10]"
   ]
  },
  {
   "cell_type": "code",
   "execution_count": null,
   "metadata": {},
   "outputs": [
    {
     "data": {
      "text/plain": [
       "array([[ 1.,  0.],\n",
       "       [ 1.,  0.],\n",
       "       [ 0.,  1.],\n",
       "       [ 0.,  1.],\n",
       "       [ 0.,  1.],\n",
       "       [ 1.,  0.],\n",
       "       [ 1.,  0.],\n",
       "       [ 1.,  0.],\n",
       "       [ 0.,  1.],\n",
       "       [ 0.,  1.]])"
      ]
     },
     "execution_count": 42,
     "metadata": {},
     "output_type": "execute_result"
    }
   ],
   "source": [
    "np.compress(loc_3L, af_novar_out['chri']['3L'], axis=0)[:10,:2]"
   ]
  },
  {
   "cell_type": "markdown",
   "metadata": {},
   "source": [
    "-----------------------------"
   ]
  },
  {
   "cell_type": "markdown",
   "metadata": {},
   "source": [
    "## Stat"
   ]
  },
  {
   "cell_type": "code",
   "execution_count": null,
   "metadata": {},
   "outputs": [],
   "source": [
    "def identify_variants_per_gene(chrom, pos, species):\n",
    "    gff = petlx.bio.gff3.fromgff3('/mnt/70D89269D8922CFA/Genomes/genome/Anopheles-gambiae-PEST_BASEFEATURES_AgamP4.2.gff3.gz')\n",
    "    gff_chrom = gff.select(lambda r: r.seqid == '%s' % chrom and r.end > r.start and r.type == 'gene')\n",
    "    array = np.core.records.fromarrays([pos[chrom]], names= 'pos')\n",
    "    tbl_pos = etl.fromarray(array).convert('pos', int)\n",
    "    interval_join = etl.intervaljoin(tbl_pos, gff_chrom, lstart='pos', lstop='pos', rstart='start', rstop='end', include_stop=True).sort('pos')\n",
    "    genes_names = [x[\"ID\"] for x in interval_join['attributes']]\n",
    "    interval_join = interval_join.addcolumn('genes', genes_names)\n",
    "    return interval_join"
   ]
  },
  {
   "cell_type": "code",
   "execution_count": null,
   "metadata": {},
   "outputs": [],
   "source": [
    "identify_fixex_coluzzii = {chrom: identify_variants_per_gene(chrom, fixed_c, 'coluzzii_segreg') for chrom in contigs}"
   ]
  },
  {
   "cell_type": "code",
   "execution_count": null,
   "metadata": {},
   "outputs": [],
   "source": [
    "identify_fixex_gambiae = {chrom: identify_variants_per_gene(chrom, fixed_g, 'coluzzii_segreg') for chrom in contigs}"
   ]
  },
  {
   "cell_type": "code",
   "execution_count": null,
   "metadata": {},
   "outputs": [],
   "source": [
    "def count_variants_per_gene(chrom, pos, species):\n",
    "    gff = petlx.bio.gff3.fromgff3('/mnt/70D89269D8922CFA/Genomes/genome/Anopheles-gambiae-PEST_BASEFEATURES_AgamP4.2.gff3.gz')\n",
    "    gff_chrom = gff.select(lambda r: r.seqid == '%s' % chrom and r.end > r.start and r.type == 'gene')\n",
    "    array = np.core.records.fromarrays([pos[chrom]], names= 'pos')\n",
    "    tbl_pos = etl.fromarray(array).convert('pos', int)\n",
    "    interval_join = etl.intervaljoin(tbl_pos, gff_chrom, lstart='pos', lstop='pos', rstart='start', rstop='end', include_stop=True).sort('pos')\n",
    "    genes_names = [x[\"ID\"] for x in interval_join['attributes']]\n",
    "    interval_join = interval_join.addcolumn('genes', genes_names)\n",
    "    aggregate = interval_join.aggregate('genes', len).rename('value', species)\n",
    "    return aggregate"
   ]
  },
  {
   "cell_type": "code",
   "execution_count": null,
   "metadata": {},
   "outputs": [],
   "source": [
    "#A\n",
    "count_segreg_coluzzii = {chrom: count_variants_per_gene(chrom, segreg_c, 'coluzzii_segreg') for chrom in contigs}"
   ]
  },
  {
   "cell_type": "code",
   "execution_count": null,
   "metadata": {},
   "outputs": [],
   "source": [
    "#B\n",
    "count_segreg_gambiae = {chrom: count_variants_per_gene(chrom, segreg_g, 'gambiae_segreg') for chrom in contigs}"
   ]
  },
  {
   "cell_type": "code",
   "execution_count": null,
   "metadata": {},
   "outputs": [],
   "source": [
    "#C\n",
    "count_fixed_coluzzii = {chrom: count_variants_per_gene(chrom, fixed_c, 'coluzzii_fixed') for chrom in contigs}"
   ]
  },
  {
   "cell_type": "code",
   "execution_count": null,
   "metadata": {},
   "outputs": [],
   "source": [
    "#D\n",
    "count_fixed_gambiae = {chrom: count_variants_per_gene(chrom, fixed_g, 'gambiae_fixed') for chrom in contigs}"
   ]
  },
  {
   "cell_type": "code",
   "execution_count": null,
   "metadata": {},
   "outputs": [],
   "source": [
    "# join (A and C) - (B and D)\n",
    "joi_seg_fix_coluzzii = {chrom: count_fixed_coluzzii[chrom].join(count_segreg_coluzzii[chrom], key='genes') for chrom in contigs}\n",
    "joi_seg_fix_gambiae  = {chrom: count_fixed_gambiae[chrom].join(count_segreg_gambiae[chrom], key='genes') for chrom in contigs}"
   ]
  },
  {
   "cell_type": "code",
   "execution_count": null,
   "metadata": {},
   "outputs": [],
   "source": [
    "# calculate the ratio for each gene\n",
    "joi_seg_fix_coluzzii= {chrom: joi_seg_fix_coluzzii[chrom].addfield('A/C (i.e.seg/fix)', lambda r: r.coluzzii_segreg / r.coluzzii_fixed)\n",
    "                       for chrom in contigs}\n",
    "joi_seg_fix_gambiae= {chrom: joi_seg_fix_gambiae[chrom].addfield('B/D (i.e.seg/fix)', lambda r: r.gambiae_segreg / r.gambiae_fixed)\n",
    "                       for chrom in contigs}\n",
    "joi_seg_fix_coluzzii['2R'].display()\n",
    "joi_seg_fix_gambiae['2R'].display()"
   ]
  },
  {
   "cell_type": "code",
   "execution_count": null,
   "metadata": {},
   "outputs": [],
   "source": [
    "etl.rowlengths(joi_seg_fix_gambiae['X'])"
   ]
  },
  {
   "cell_type": "code",
   "execution_count": null,
   "metadata": {},
   "outputs": [],
   "source": [
    "# calculate ABCD genome wide (in all genes with both fixed and segregating variants)\n",
    "A_geno_wide_coluzzii = sum([joi_seg_fix_coluzzii[chrom].stats('coluzzii_segreg')[2] for chrom in contigs])\n",
    "C_geno_wide_coluzzii = sum([joi_seg_fix_coluzzii[chrom].stats('coluzzii_fixed')[2] for chrom in contigs])\n",
    "B_geno_wide_gambiae = sum([joi_seg_fix_gambiae[chrom].stats('gambiae_segreg')[2] for chrom in contigs])\n",
    "D_geno_wide_gambiae = sum([joi_seg_fix_gambiae[chrom].stats('gambiae_fixed')[2] for chrom in contigs])"
   ]
  },
  {
   "cell_type": "code",
   "execution_count": null,
   "metadata": {},
   "outputs": [],
   "source": [
    "# calculate A/C and B/D genome wide\n",
    "AC_geno_wide = A_geno_wide_coluzzii / C_geno_wide_coluzzii\n",
    "print('\\n', 'A genome wide: ', A_geno_wide_coluzzii, '\\n', 'C genome wide: ', C_geno_wide_coluzzii, '\\n', 'A/C genome wide: ', AC_geno_wide)\n",
    "BD_geno_wide = B_geno_wide_gambiae / D_geno_wide_gambiae\n",
    "print('\\n', 'B genome wide: ', B_geno_wide_gambiae, '\\n', 'D genome wide: ', D_geno_wide_gambiae, '\\n', 'B/D genome wide: ', BD_geno_wide)"
   ]
  },
  {
   "cell_type": "code",
   "execution_count": null,
   "metadata": {},
   "outputs": [],
   "source": [
    "def get_conti(chrom, species, joi_seg_fix, seg_geno_wide, fixed_geno_wide):\n",
    "    conti_tbl = {}\n",
    "    for rec in joi_seg_fix[chrom].records():\n",
    "        if species == 'coluzzii':\n",
    "            A = rec.coluzzii_segreg\n",
    "            C = rec.coluzzii_fixed\n",
    "            gene = rec.genes\n",
    "            conti_tbl[gene] = [[A, C], [seg_geno_wide, fixed_geno_wide]]\n",
    "        if species == 'gambiae':\n",
    "            B = rec.gambiae_segreg\n",
    "            D = rec.gambiae_fixed\n",
    "            gene = rec.genes\n",
    "            conti_tbl[gene] = [[B, D], [seg_geno_wide, fixed_geno_wide]]\n",
    "    return conti_tbl"
   ]
  },
  {
   "cell_type": "code",
   "execution_count": null,
   "metadata": {},
   "outputs": [],
   "source": [
    "def perform_pear_chi(species):\n",
    "    pear_chi = {}\n",
    "    conti_tbl = {}\n",
    "    for chrom in contigs:\n",
    "        if species == 'coluzzii':\n",
    "            conti_tbl[chrom] = get_conti(chrom, 'coluzzii', joi_seg_fix_coluzzii, A_geno_wide_coluzzii, C_geno_wide_coluzzii)\n",
    "        if species == 'gambiae':\n",
    "            conti_tbl[chrom] = get_conti(chrom, 'gambiae', joi_seg_fix_gambiae, B_geno_wide_gambiae, D_geno_wide_gambiae)\n",
    "        pear_chi[chrom] = {}\n",
    "        for k in conti_tbl[chrom]:\n",
    "            pear_chi[chrom][k] = scipy.stats.chi2_contingency(conti_tbl[chrom][k])\n",
    "    return pear_chi"
   ]
  },
  {
   "cell_type": "code",
   "execution_count": null,
   "metadata": {},
   "outputs": [],
   "source": [
    "pear_chi_coluzzii = perform_pear_chi('coluzzii')\n",
    "pear_chi_gambiae = perform_pear_chi('gambiae')"
   ]
  },
  {
   "cell_type": "code",
   "execution_count": null,
   "metadata": {},
   "outputs": [],
   "source": [
    "conti_tbl_coluzzii = {}\n",
    "conti_tbl_gambiae = {}\n",
    "for chrom in contigs:\n",
    "    conti_tbl_gambiae[chrom] = get_conti(chrom, 'gambiae', joi_seg_fix_gambiae, B_geno_wide_gambiae, D_geno_wide_gambiae)\n",
    "    conti_tbl_coluzzii[chrom] = get_conti(chrom, 'coluzzii', joi_seg_fix_coluzzii, A_geno_wide_coluzzii, C_geno_wide_coluzzii)"
   ]
  },
  {
   "cell_type": "code",
   "execution_count": null,
   "metadata": {},
   "outputs": [],
   "source": [
    "with open('/home/randomx/hka/gambiae_hka_summary_beta.tab', 'w', newline='') as csvfile:\n",
    "    writer = csv.writer(csvfile, delimiter='\\t')\n",
    "    header = ['chrom', 'gene', 'segreg_g', 'pri_der_fix_g', 'score_g']\n",
    "    writer.writerow(header)\n",
    "    for chrom in contigs:\n",
    "        for gene, value in pear_chi_gambiae[chrom].items():\n",
    "            row = [chrom, gene, conti_tbl_gambiae[chrom][gene][0][0], conti_tbl_gambiae[chrom][gene][0][1], -(np.log10((value[1])))]\n",
    "            writer.writerow(row)\n"
   ]
  },
  {
   "cell_type": "code",
   "execution_count": null,
   "metadata": {},
   "outputs": [],
   "source": [
    "with open('/home/randomx/hka/coluzzii_hka_summary.tab_beta.tab', 'w', newline='') as csvfile:\n",
    "    writer = csv.writer(csvfile, delimiter='\\t')\n",
    "    header = ['chrom', 'gene', 'segreg_c', 'pri_der_fix_c', 'score_c']\n",
    "    writer.writerow(header)\n",
    "    for chrom in contigs:\n",
    "        for gene, value in pear_chi_coluzzii[chrom].items():\n",
    "            row = [chrom, gene, conti_tbl_coluzzii[chrom][gene][0][0], conti_tbl_coluzzii[chrom][gene][0][1], -(np.log10((value[1])))]\n",
    "            writer.writerow(row)\n"
   ]
  },
  {
   "cell_type": "markdown",
   "metadata": {},
   "source": [
    "------------------------------------------------------------"
   ]
  },
  {
   "cell_type": "code",
   "execution_count": null,
   "metadata": {},
   "outputs": [],
   "source": [
    "hka_gambiae = etl.fromtsv('/home/randomx/hka/gambiae_hka_summary_beta.tab', delimiter='\\t')\n",
    "hka_gambiae.convert('score_g', float).select(lambda rec: rec.score_g >= 1.3).displayall()"
   ]
  },
  {
   "cell_type": "code",
   "execution_count": null,
   "metadata": {
    "scrolled": false
   },
   "outputs": [],
   "source": [
    "hka_coluzzii = etl.fromtsv('/home/randomx/hka/coluzzii_hka_summary.tab_beta.tab', delimiter='\\t')\n",
    "hka_coluzzii.displayall()"
   ]
  },
  {
   "cell_type": "code",
   "execution_count": null,
   "metadata": {},
   "outputs": [],
   "source": [
    "hka_gambiae.convert('score_g', float).select(lambda r: (r.chrom == 'X') & (r.score_g >= 1.3)).rowlengths() "
   ]
  },
  {
   "cell_type": "code",
   "execution_count": null,
   "metadata": {},
   "outputs": [],
   "source": [
    "hka_coluzzii.convert('score_c', float).select(lambda r: (r.chrom == 'X') & (r.score_c >= 1.3)).rowlengths() "
   ]
  },
  {
   "cell_type": "markdown",
   "metadata": {},
   "source": [
    "-----------------------------"
   ]
  },
  {
   "cell_type": "markdown",
   "metadata": {},
   "source": [
    "## Distruptive selection"
   ]
  },
  {
   "cell_type": "code",
   "execution_count": null,
   "metadata": {},
   "outputs": [],
   "source": [
    "direct_select = (hka_coluzzii.join(hka_gambiae, key=['chrom', 'gene'])\n",
    "    .convert(['score_c', 'score_g'], float)\n",
    "    #.select(lambda r: (r.score_g >= 10) & (r.score_c >= 10))\n",
    "    .addfield('score_tot', lambda r: r.score_c + r.score_g)\n",
    "    .sort('score_tot', reverse=True)\n",
    "    )\n",
    "direct_select.tocsv('/home/randomx/hka/putative_directional_selection_beta.tab', delimiter='\\t')\n",
    "direct_select.display(10)"
   ]
  },
  {
   "cell_type": "code",
   "execution_count": null,
   "metadata": {},
   "outputs": [],
   "source": [
    "direct_select = (hka_coluzzii.join(hka_gambiae, key=['chrom', 'gene'])\n",
    "    .convert(['score_c', 'score_g'], float)\n",
    "    .select(lambda r: (r.score_g >= 10) & (r.score_c >= 10))\n",
    "    .addfield('score_tot', lambda r: r.score_c + r.score_g)\n",
    "    .sort('score_tot', reverse=True))\n",
    "direct_select.tocsv('/home/randomx/hka/putative_directional_selection_beta.tab', delimiter='\\t')\n",
    "direct_select.displayall()"
   ]
  },
  {
   "cell_type": "markdown",
   "metadata": {},
   "source": [
    "## Indentify genes which experienced private selection"
   ]
  },
  {
   "cell_type": "code",
   "execution_count": null,
   "metadata": {},
   "outputs": [],
   "source": [
    "hka_gambiae_coluzzii = hka_coluzzii.outerjoin(hka_gambiae, key=['chrom', 'gene']).convert(['score_g', 'score_c'], float)\n",
    "priv_sel_coluzzii =  (hka_gambiae_coluzzii.selectne('score_c', None).convert('score_g', {None: 0})\n",
    "                     .select(lambda r: r.score_c >= 1.3 and r.score_g <= 1.3).sort('score_c', reverse=True))\n",
    "priv_sel_coluzzii.displayall()"
   ]
  },
  {
   "cell_type": "code",
   "execution_count": null,
   "metadata": {},
   "outputs": [],
   "source": [
    "priv_sel_gambiae =  (hka_gambiae_coluzzii.selectne('score_g', None).convert('score_c', {None: 0})\n",
    "                     .select(lambda r: r.score_g >= 1.3 and r.score_c <= 1.3).sort('score_g', reverse=True))\n",
    "priv_sel_gambiae.displayall()"
   ]
  },
  {
   "cell_type": "markdown",
   "metadata": {},
   "source": [
    "## Plot genome wide HKA"
   ]
  },
  {
   "cell_type": "code",
   "execution_count": null,
   "metadata": {},
   "outputs": [],
   "source": [
    "def center_pos(r):\n",
    "    start = r.start\n",
    "    end = r.end\n",
    "    center = ((end - start) / 2) + start\n",
    "    return int(center)"
   ]
  },
  {
   "cell_type": "code",
   "execution_count": null,
   "metadata": {},
   "outputs": [],
   "source": [
    "tbl_genes  = (etl\n",
    "    .fromgff3('/mnt/70D89269D8922CFA/Genomes/genome/Anopheles-gambiae-PEST_BASEFEATURES_AgamP4.2.gff3.gz')\n",
    "    .unpackdict('attributes')\n",
    "    .cut(2,3,4,9)\n",
    "    .select(lambda rec: rec.type == 'gene')\n",
    "    .rename('ID', 'gene')\n",
    "    .addfield('center_gene', center_pos)\n",
    ")\n",
    "tbl_genes.display(10)"
   ]
  },
  {
   "cell_type": "code",
   "execution_count": null,
   "metadata": {},
   "outputs": [],
   "source": [
    "pos_hka_gambiae = hka_gambiae.join(tbl_genes, key='gene')\n",
    "pos_hka_coluzzii = hka_coluzzii.join(tbl_genes, key='gene')"
   ]
  },
  {
   "cell_type": "code",
   "execution_count": null,
   "metadata": {},
   "outputs": [],
   "source": [
    "def plot_genome_hka(species, chrom):\n",
    "    if species == 'gambiae':   \n",
    "        tbl_plot = pos_hka_gambiae.select(lambda r: r.chrom == chrom)\n",
    "        y = tbl_plot['score_g'].list()\n",
    "    if species == 'coluzzii':\n",
    "        tbl_plot = pos_hka_coluzzii.select(lambda r: r.chrom == chrom)\n",
    "        y = tbl_plot['score_c'].list()\n",
    "    fig, ax = plt.subplots(figsize=(15,2))\n",
    "    x = tbl_plot['center_gene'].list()\n",
    "    \n",
    "    ax.set_ylabel('HKA test score', fontsize=14)\n",
    "    ax.set_xlabel('Positions', fontsize=14)\n",
    "    ax.set_title('An. gambiae chrom: %s' % chrom, fontsize=14)\n",
    "    ax.plot(x, y, 'or')\n",
    "    len_chrom = {'X': 244e5, '3R': 532e5, '3L': 42e6, '2R': 616e5, '2L':493e5}\n",
    "    ax.set_xlim(0, len_chrom[chrom])\n",
    "    if chrom == 'X':\n",
    "        ax.set_ylim(0, 80)\n",
    "    else:\n",
    "        ax.set_ylim(0, 40)\n",
    "    sns.despine(offset=10)"
   ]
  },
  {
   "cell_type": "code",
   "execution_count": null,
   "metadata": {},
   "outputs": [],
   "source": [
    "for chrom in contigs:\n",
    "    plot_genome_hka('gambiae', chrom)"
   ]
  },
  {
   "cell_type": "code",
   "execution_count": null,
   "metadata": {},
   "outputs": [],
   "source": [
    "for chrom in contigs:\n",
    "    plot_genome_hka('coluzzii', chrom)"
   ]
  },
  {
   "cell_type": "markdown",
   "metadata": {},
   "source": [
    "## Plot seg fixed An coluzzii"
   ]
  },
  {
   "cell_type": "code",
   "execution_count": null,
   "metadata": {},
   "outputs": [],
   "source": [
    "fig, ax = plt.subplots(figsize=(7,5))\n",
    "for num, chrom in enumerate(contigs):\n",
    "    \n",
    "    colour = {0:'b', 1:'g', 2:'r', 3: 'c', 4:'m'}\n",
    "    conti_tbl = get_conti(chrom, 'coluzzii', joi_seg_fix_coluzzii, A_geno_wide_coluzzii, C_geno_wide_coluzzii)\n",
    "    segreg = [i[0][0] for i in conti_tbl.values()]\n",
    "    fixed = [i[0][1] for i in conti_tbl.values()]\n",
    "    ax.plot(segreg, fixed,  colour[num] + '.', alpha=0.7, label=chrom)\n",
    "    ax.plot([0, A_geno_wide_coluzzii], [0, C_geno_wide_coluzzii], 'k')\n",
    "    ax.set_xlabel('segregating')\n",
    "    ax.set_xlim(0,2000)\n",
    "    ax.set_ylim(0,15)\n",
    "    ax.set_title('An. coluzzii HKA')\n",
    "    ax.set_ylabel('fixed')\n",
    "    sns.set_style('ticks')\n",
    "    ax.legend(loc=7, fontsize='large')\n",
    "    sns.despine(offset=10)\n",
    "\n",
    "fig.tight_layout()"
   ]
  },
  {
   "cell_type": "code",
   "execution_count": null,
   "metadata": {},
   "outputs": [],
   "source": [
    "fig = plt.figure(figsize=(14, 12))\n",
    "for num, chrom in enumerate(contigs):\n",
    "    \n",
    "    ax = plt.subplot(3,2,num+1)\n",
    "    conti_tbl = get_conti(chrom, 'coluzzii', joi_seg_fix_coluzzii, A_geno_wide_coluzzii, C_geno_wide_coluzzii)\n",
    "    segreg = [i[0][0] for i in conti_tbl.values()]\n",
    "    fixed = [i[0][1] for i in conti_tbl.values()]\n",
    "    ax.plot(segreg, fixed, '.')\n",
    "    ax.plot([0, A_geno_wide_coluzzii], [0, C_geno_wide_coluzzii])\n",
    "    ax.set_xlabel('segregating')\n",
    "    ax.set_xlim(0,2000)\n",
    "    ax.set_ylim(0,15)\n",
    "    ax.set_title('HKA chrom: %s' % chrom)\n",
    "    ax.set_ylabel('fixed')\n",
    "    sns.set_style('ticks')\n",
    "    sns.despine(offset=10)\n",
    "fig.suptitle('An. coluzzii', y=1.05, fontsize=24)\n",
    "fig.tight_layout()"
   ]
  },
  {
   "cell_type": "markdown",
   "metadata": {},
   "source": [
    "## Plot seg fixed An. gambiae"
   ]
  },
  {
   "cell_type": "code",
   "execution_count": null,
   "metadata": {},
   "outputs": [],
   "source": [
    "fig = plt.figure(figsize=(14, 12))\n",
    "for num, chrom in enumerate(contigs):\n",
    "    \n",
    "    ax = plt.subplot(3,2,num+1)\n",
    "    conti_tbl = get_conti(chrom, 'gambiae', joi_seg_fix_gambiae, B_geno_wide_gambiae, D_geno_wide_gambiae)\n",
    "    segreg = [i[0][0] for i in conti_tbl.values()]\n",
    "    fixed = [i[0][1] for i in conti_tbl.values()]\n",
    "    ax.plot(segreg, fixed, '.')\n",
    "    ax.plot([0, B_geno_wide_gambiae], [0, D_geno_wide_gambiae])\n",
    "    ax.set_xlabel('segregating')\n",
    "    ax.set_xlim(0,2000)\n",
    "    ax.set_ylim(0,15)\n",
    "    ax.set_title('HKA chrom: %s' % chrom)\n",
    "    ax.set_ylabel('fixed')\n",
    "    sns.set_style('ticks')\n",
    "    sns.despine(offset=10)\n",
    "fig.suptitle('An. gambiae', y=1.05, fontsize=24)\n",
    "fig.tight_layout()"
   ]
  },
  {
   "cell_type": "markdown",
   "metadata": {},
   "source": [
    "## Plot homogeneity test"
   ]
  },
  {
   "cell_type": "code",
   "execution_count": null,
   "metadata": {},
   "outputs": [],
   "source": [
    "# get just the gene matching gambiae coluzzii\n",
    "joi_gambiae_coluzzii = {chrom: joi_seg_fix_coluzzii[chrom].join(joi_seg_fix_gambiae[chrom], key='genes') for chrom in contigs}"
   ]
  },
  {
   "cell_type": "code",
   "execution_count": null,
   "metadata": {},
   "outputs": [],
   "source": [
    "joi_gambiae_coluzzii['2L'].display()"
   ]
  },
  {
   "cell_type": "code",
   "execution_count": null,
   "metadata": {},
   "outputs": [],
   "source": [
    "fig = plt.figure(figsize=(14, 12))\n",
    "for num, chrom in enumerate(contigs):\n",
    "    \n",
    "    ax = plt.subplot(3,2,num+1)\n",
    "    \n",
    "    AC = joi_gambiae_coluzzii[chrom]['A/C (i.e.seg/fix)'].list()\n",
    "    BD = joi_gambiae_coluzzii[chrom]['B/D (i.e.seg/fix)'].list()\n",
    "    fixed = [i[0][1] for i in conti_tbl.values()]\n",
    "    ax.plot(BD, AC, '.')\n",
    "    lim = max(ax.get_xlim(), ax.get_ylim())\n",
    "    ax.plot(lim, lim)\n",
    "    #ax.set_xlim(0,2000)\n",
    "    #ax.set_ylim(0,2000)\n",
    "    ax.set_title('Homogeneity test chrom: %s' % chrom)\n",
    "    ax.set_ylabel('A/C An. coluzzii')\n",
    "    ax.set_xlabel('B/D An. gambiae')\n",
    "    sns.set_style('ticks')\n",
    "    sns.despine(offset=10)\n",
    "\n",
    "fig.tight_layout()"
   ]
  },
  {
   "cell_type": "markdown",
   "metadata": {},
   "source": [
    "## Homogeneity test"
   ]
  },
  {
   "cell_type": "code",
   "execution_count": null,
   "metadata": {},
   "outputs": [],
   "source": [
    "joi_gambiae_coluzzii[chrom]"
   ]
  },
  {
   "cell_type": "code",
   "execution_count": null,
   "metadata": {},
   "outputs": [],
   "source": [
    "def perform_homogen(joi_g_c):\n",
    "    conti_tbl = {}\n",
    "    pear_chi = {}\n",
    "    for chrom in contigs:\n",
    "        conti_tbl[chrom] = {}\n",
    "        pear_chi[chrom] = {}\n",
    "        for rec in joi_g_c[chrom].records():\n",
    "\n",
    "            A = rec.coluzzii_segreg\n",
    "            C = rec.coluzzii_fixed\n",
    "            B = rec.gambiae_segreg\n",
    "            D = rec.gambiae_fixed\n",
    "            gene = rec.genes\n",
    "            conti_tbl[chrom][gene] = [[A, B], [C, D]]\n",
    "        for k in conti_tbl[chrom]:\n",
    "            pear_chi[chrom][k] = scipy.stats.chi2_contingency(conti_tbl[chrom][k])\n",
    "    return pear_chi"
   ]
  },
  {
   "cell_type": "code",
   "execution_count": null,
   "metadata": {},
   "outputs": [],
   "source": [
    "pear_chi_homogen = perform_homogen(joi_gambiae_coluzzii)"
   ]
  },
  {
   "cell_type": "code",
   "execution_count": null,
   "metadata": {},
   "outputs": [],
   "source": [
    "with open('/home/randomx/hka/homogen_test/homogeneity_summary_beta.tab', 'w', newline='') as csvfile:\n",
    "    writer = csv.writer(csvfile, delimiter='\\t')\n",
    "    header = ['chrom', 'gene','score']\n",
    "    writer.writerow(header)\n",
    "    for chrom in contigs:\n",
    "        for gene, value in pear_chi_homogen[chrom].items():\n",
    "            row = [chrom, gene, -(np.log10((value[1])))]\n",
    "            writer.writerow(row)\n"
   ]
  },
  {
   "cell_type": "code",
   "execution_count": null,
   "metadata": {},
   "outputs": [],
   "source": [
    "homog_tbl = (etl.fromtsv('/home/randomx/hka/homogen_test/homogeneity_summary_beta.tab', delimiter='\\t')\n",
    "             .convert('score', float)\n",
    "             #.select(lambda r: r.score >= 1)\n",
    "             .sort(['chrom', 'score'], reverse=True)\n",
    "             )\n",
    "homog_tbl.displayall()"
   ]
  },
  {
   "cell_type": "code",
   "execution_count": null,
   "metadata": {},
   "outputs": [],
   "source": [
    "join_hom_direct = homog_tbl.join(direct_select, key='gene')\n",
    "join_hom_direct.displayall()"
   ]
  },
  {
   "cell_type": "markdown",
   "metadata": {},
   "source": [
    "---------------------------"
   ]
  },
  {
   "cell_type": "markdown",
   "metadata": {},
   "source": [
    "## Homogen selection coluzzii: (C/A > D/B)"
   ]
  },
  {
   "cell_type": "code",
   "execution_count": null,
   "metadata": {},
   "outputs": [],
   "source": [
    "for chrom in contigs:\n",
    "    joi_gambiae_coluzzii[chrom] = joi_gambiae_coluzzii[chrom].addfield('chrom', chrom)\n"
   ]
  },
  {
   "cell_type": "code",
   "execution_count": null,
   "metadata": {},
   "outputs": [],
   "source": [
    "joi_g_c_genome = etl.cat(*joi_gambiae_coluzzii.values())\n",
    "joi_g_c_genome.display()"
   ]
  },
  {
   "cell_type": "code",
   "execution_count": null,
   "metadata": {},
   "outputs": [],
   "source": [
    "homogen_select_coluzzii = (joi_g_c_genome.addfield('C/A', lambda r: r.coluzzii_fixed / r.coluzzii_segreg)\n",
    "                     .addfield('D/B', lambda r: r.gambiae_fixed / r.gambiae_segreg)\n",
    "                     .select(lambda r: r['C/A'] > r['D/B'])\n",
    "                     .rename('genes', 'gene')\n",
    "                     .join(homog_tbl, key=['gene', 'chrom'])\n",
    "                     .cut(0,7,-1)\n",
    "                     .sort('score', reverse=True)\n",
    "                     )\n",
    "homogen_select_coluzzii.displayall()"
   ]
  },
  {
   "cell_type": "code",
   "execution_count": null,
   "metadata": {},
   "outputs": [],
   "source": [
    "homogen_select_gambiae = (joi_g_c_genome.addfield('C/A', lambda r: r.coluzzii_fixed / r.coluzzii_segreg)\n",
    "                     .addfield('D/B', lambda r: r.gambiae_fixed / r.gambiae_segreg)\n",
    "                     .select(lambda r: r['D/B'] > r['C/A'])\n",
    "                     .rename('genes', 'gene')\n",
    "                     .join(homog_tbl, key=['gene', 'chrom'])\n",
    "                     .cut(0,7,-1)\n",
    "                     .sort('score', reverse=True)\n",
    "                     )\n",
    "homogen_select_gambiae.displayall()"
   ]
  },
  {
   "cell_type": "markdown",
   "metadata": {},
   "source": [
    "## Plot the distribution of the homogen test for the top 20 genes (all genes allowed)\n"
   ]
  },
  {
   "cell_type": "code",
   "execution_count": null,
   "metadata": {},
   "outputs": [],
   "source": [
    "homogen_select_gambiae.rowlengths()"
   ]
  },
  {
   "cell_type": "code",
   "execution_count": null,
   "metadata": {},
   "outputs": [],
   "source": [
    "homogen_select_coluzzii.rowlengths()"
   ]
  },
  {
   "cell_type": "code",
   "execution_count": null,
   "metadata": {},
   "outputs": [],
   "source": [
    "fig, ax = plt.subplots(figsize=(5,10))\n",
    "gambiae_hom = homogen_select_gambiae['score'].list()[:20]\n",
    "coluzzii_hom  = homogen_select_coluzzii['score'].list()[:20]\n",
    "ax.boxplot([coluzzii_hom, gambiae_hom])\n",
    "#sns.boxplot([coluzzii_hom, gambiae_hom], ax=ax)\n",
    "ax.set_xticklabels(['An. coluzzii', 'An. gambiae'])\n",
    "ax.set_ylabel('Homogeneity test score -log10(p-value)')\n",
    "sns.set(style ='ticks',font_scale=2)\n",
    "sns.despine(offset=10)\n",
    "\n",
    "fig.tight_layout()\n",
    "#plt.savefig('/home/randomx/hka/homogen_test/distribution_top20_allgenes_v2.png', dpi=500)"
   ]
  },
  {
   "cell_type": "markdown",
   "metadata": {},
   "source": [
    "## Plot the distribution of the homogen test genes under private selection"
   ]
  },
  {
   "cell_type": "code",
   "execution_count": null,
   "metadata": {},
   "outputs": [],
   "source": [
    "priv_sel_gambiae"
   ]
  },
  {
   "cell_type": "code",
   "execution_count": null,
   "metadata": {},
   "outputs": [],
   "source": [
    "private_hom_gambiae = homogen_select_gambiae.join(priv_sel_gambiae, key='gene').sort('score', reverse=True)\n",
    "private_hom_gambiae.rowlengths()"
   ]
  },
  {
   "cell_type": "code",
   "execution_count": null,
   "metadata": {},
   "outputs": [],
   "source": [
    "private_hom_coluzzii = homogen_select_coluzzii.join(priv_sel_coluzzii, key='gene').sort('score', reverse=True)\n",
    "private_hom_coluzzii.rowlengths()"
   ]
  },
  {
   "cell_type": "code",
   "execution_count": null,
   "metadata": {},
   "outputs": [],
   "source": [
    "fig, ax = plt.subplots(figsize=(5,10))\n",
    "gambiae_hom = private_hom_gambiae['score'].list()\n",
    "coluzzii_hom  = private_hom_coluzzii['score'].list()[:11]\n",
    "ax.boxplot([coluzzii_hom, gambiae_hom])\n",
    "#sns.boxplot([coluzzii_hom, gambiae_hom], ax=ax)\n",
    "ax.set_xticklabels(['An. coluzzii', 'An. gambiae'])\n",
    "ax.set_ylabel('Homogeneity test score  -log10(p-value)')\n",
    "sns.set(style ='ticks',font_scale=2)\n",
    "sns.despine(offset=10)\n",
    "fig.tight_layout()\n",
    "#plt.savefig('/home/randomx/hka/homogen_test/distribution_top11_private_selec_v2.png', dpi=500)"
   ]
  },
  {
   "cell_type": "code",
   "execution_count": null,
   "metadata": {},
   "outputs": [],
   "source": [
    "#plot homog score distribution\n",
    "fig, ax = plt.subplots()\n",
    "x = [float(i) for i in homog_tbl['score'].list()]\n",
    "val = ax.hist(x, bins=30)\n",
    "sns.despine(offset=10)"
   ]
  },
  {
   "cell_type": "code",
   "execution_count": null,
   "metadata": {},
   "outputs": [],
   "source": []
  }
 ],
 "metadata": {
  "kernelspec": {
   "display_name": "Python 3",
   "language": "python",
   "name": "python3"
  },
  "language_info": {
   "codemirror_mode": {
    "name": "ipython",
    "version": 3
   },
   "file_extension": ".py",
   "mimetype": "text/x-python",
   "name": "python",
   "nbconvert_exporter": "python",
   "pygments_lexer": "ipython3",
   "version": "3.5.1"
  }
 },
 "nbformat": 4,
 "nbformat_minor": 2
}
