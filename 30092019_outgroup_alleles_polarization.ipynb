{
 "cells": [
  {
   "cell_type": "code",
   "execution_count": 21,
   "metadata": {},
   "outputs": [],
   "source": [
    "%run imports.ipynb\n",
    "import cython\n",
    "import vcfnp"
   ]
  },
  {
   "cell_type": "code",
   "execution_count": 4,
   "metadata": {},
   "outputs": [],
   "source": [
    "callset_fn = '/kwiat/1/anopheles/ag1000g/data/phase2/release/AR1/variation/main/zarr/biallelic/ag1000g.phase2.ar1.pass.biallelic/'\n",
    "callset= zarr.open(callset_fn)"
   ]
  },
  {
   "cell_type": "code",
   "execution_count": 10,
   "metadata": {},
   "outputs": [],
   "source": [
    "outgroup_species = 'epir', 'chri'\n",
    "outgroup_vcf_fn_template = '/kwiat/1/anopheles/ag1000g/data/phase1/release/AR3/agc/{species}_fake_cnvrt_sort.vcf.gz'\n",
    "\n",
    "ingroup_species = 'arab', 'meru', 'mela', 'quad'\n",
    "ingroup_callset_fn_template = '/kwiat/1/anopheles/ag1000g/data/phase1/release/AR3/agc/UnifiedGenotyper/{species}_ref_ug_vqsr_cnvrt_sort.h5'\n",
    "ingroup_callsets = {species: h5py.File(ingroup_callset_fn_template.format(species=species), mode='r')\n",
    "                    for species in ingroup_species}"
   ]
  },
  {
   "cell_type": "code",
   "execution_count": 15,
   "metadata": {},
   "outputs": [],
   "source": [
    "def call_ingroup_allele(chrom, species):\n",
    "\n",
    "    # extract position and alleles\n",
    "    variants = ingroup_callsets[species][chrom]['variants'] \n",
    "    pos = allel.SortedIndex(variants['POS'][:], copy=False)\n",
    "    ref = variants['REF'][:]\n",
    "    alt = variants['ALT'][:]\n",
    "    alleles = np.column_stack([ref, alt])\n",
    "    \n",
    "    # extract genotypes\n",
    "    g = allel.GenotypeChunkedArray(ingroup_callsets[species][chrom]['calldata']['genotype'])\n",
    "    \n",
    "    # count alleles\n",
    "    ac = g.count_alleles()\n",
    "    \n",
    "    # determine major allele\n",
    "    major_allele_idx = np.argmax(ac[:], axis=1)\n",
    "    rows = np.arange(pos.shape[0])\n",
    "    cols = major_allele_idx[:]\n",
    "    ingroup_allele = alleles[rows[:, None], cols[:, None]][:, 0]\n",
    "    \n",
    "    return pos, ingroup_allele\n"
   ]
  },
  {
   "cell_type": "code",
   "execution_count": 16,
   "metadata": {},
   "outputs": [],
   "source": [
    "def call_outgroup_allele(chrom, species):\n",
    "    \n",
    "    # load variants\n",
    "    variants = vcfnp.variants(\n",
    "        outgroup_vcf_fn_template.format(species=species),\n",
    "        region=chrom,\n",
    "        fields=['CHROM', 'POS', 'REF', 'ALT'],\n",
    "        dtypes={'REF': 'a1', 'ALT': 'a1'},\n",
    "        arities={'ALT': 1},\n",
    "        progress=5000000,\n",
    "        cache=True,\n",
    "    )\n",
    "    \n",
    "    # extract position and alleles\n",
    "    pos = allel.SortedIndex(variants['POS'], copy=False)\n",
    "    ref = variants['REF']\n",
    "    alt = variants['ALT']\n",
    "    \n",
    "    # determine called allele\n",
    "    outgroup_allele = np.where(alt == b'.', ref, alt)\n",
    "    \n",
    "    return pos, outgroup_allele\n",
    "    "
   ]
  },
  {
   "cell_type": "code",
   "execution_count": 17,
   "metadata": {},
   "outputs": [],
   "source": [
    "def call_species_allele(chrom, species):\n",
    "    if species in ingroup_species:\n",
    "        return call_ingroup_allele(chrom, species)\n",
    "    elif species in outgroup_species:\n",
    "        return call_outgroup_allele(chrom, species)\n",
    "    else:\n",
    "        raise Exception(species)"
   ]
  },
  {
   "cell_type": "code",
   "execution_count": 23,
   "metadata": {},
   "outputs": [],
   "source": [
    "def align_species_allele(chrom, species):\n",
    "    \n",
    "    # determine species allele\n",
    "    pos_other, allele_other = call_species_allele(chrom, species)\n",
    "    \n",
    "    # extract Ag1000G variant positions\n",
    "    pos = allel.SortedIndex(callset[chrom]['variants']['POS'][:], copy=False)\n",
    "    \n",
    "    # set up output array\n",
    "    allele_other_aln = np.array([b'.'] * pos.size)\n",
    "\n",
    "    # find intersection\n",
    "    loc1, loc2 = pos_other.locate_intersection(pos)\n",
    "    \n",
    "    # exclude duplicates\n",
    "    loc_dup = pos_other == np.roll(pos_other, 1)\n",
    "    loc_isec_other = loc1 & ~loc_dup\n",
    "    \n",
    "    # fill output array\n",
    "    allele_other_aln[loc2] = allele_other[loc_isec_other]\n",
    "    \n",
    "    # check shape\n",
    "    assert allele_other_aln.shape[0] == pos.shape[0]\n",
    "    \n",
    "    return allele_other_aln"
   ]
  },
  {
   "cell_type": "code",
   "execution_count": 26,
   "metadata": {},
   "outputs": [],
   "source": [
    "other_species = ingroup_species + outgroup_species"
   ]
  },
  {
   "cell_type": "code",
   "execution_count": 29,
   "metadata": {},
   "outputs": [
    {
     "name": "stdout",
     "output_type": "stream",
     "text": [
      "2R arab building\n",
      "<HDF5 dataset \"arab\": shape (12047846,), type \"|S1\">\n",
      "2R meru building\n",
      "<HDF5 dataset \"meru\": shape (12047846,), type \"|S1\">\n",
      "2R mela building\n",
      "<HDF5 dataset \"mela\": shape (12047846,), type \"|S1\">\n",
      "2R quad building\n",
      "<HDF5 dataset \"quad\": shape (12047846,), type \"|S1\">\n",
      "2R epir building\n"
     ]
    },
    {
     "name": "stderr",
     "output_type": "stream",
     "text": [
      "[vcfnp] 2019-10-01 10:46:18.446485 :: caching is enabled\n",
      "[vcfnp] 2019-10-01 10:46:18.447948 :: cache file available\n",
      "[vcfnp] 2019-10-01 10:46:18.449253 :: loading from cache file /kwiat/1/anopheles/ag1000g/data/phase1/release/AR3/agc/epir_fake_cnvrt_sort.vcf.gz.vcfnp_cache/variants.2R.npy\n"
     ]
    },
    {
     "name": "stdout",
     "output_type": "stream",
     "text": [
      "<HDF5 dataset \"epir\": shape (12047846,), type \"|S1\">\n",
      "2R chri building\n"
     ]
    },
    {
     "name": "stderr",
     "output_type": "stream",
     "text": [
      "[vcfnp] 2019-10-01 10:46:44.982067 :: caching is enabled\n",
      "[vcfnp] 2019-10-01 10:46:45.004302 :: cache file available\n",
      "[vcfnp] 2019-10-01 10:46:45.005290 :: loading from cache file /kwiat/1/anopheles/ag1000g/data/phase1/release/AR3/agc/chri_fake_cnvrt_sort.vcf.gz.vcfnp_cache/variants.2R.npy\n"
     ]
    },
    {
     "name": "stdout",
     "output_type": "stream",
     "text": [
      "<HDF5 dataset \"chri\": shape (12047846,), type \"|S1\">\n",
      "2L arab building\n",
      "<HDF5 dataset \"arab\": shape (8906423,), type \"|S1\">\n",
      "2L meru building\n",
      "<HDF5 dataset \"meru\": shape (8906423,), type \"|S1\">\n",
      "2L mela building\n",
      "<HDF5 dataset \"mela\": shape (8906423,), type \"|S1\">\n",
      "2L quad building\n",
      "<HDF5 dataset \"quad\": shape (8906423,), type \"|S1\">\n",
      "2L epir building\n"
     ]
    },
    {
     "name": "stderr",
     "output_type": "stream",
     "text": [
      "[vcfnp] 2019-10-01 10:49:56.136820 :: caching is enabled\n",
      "[vcfnp] 2019-10-01 10:49:56.139362 :: cache file available\n",
      "[vcfnp] 2019-10-01 10:49:56.140349 :: loading from cache file /kwiat/1/anopheles/ag1000g/data/phase1/release/AR3/agc/epir_fake_cnvrt_sort.vcf.gz.vcfnp_cache/variants.2L.npy\n"
     ]
    },
    {
     "name": "stdout",
     "output_type": "stream",
     "text": [
      "<HDF5 dataset \"epir\": shape (8906423,), type \"|S1\">\n",
      "2L chri building\n"
     ]
    },
    {
     "name": "stderr",
     "output_type": "stream",
     "text": [
      "[vcfnp] 2019-10-01 10:50:10.593054 :: caching is enabled\n",
      "[vcfnp] 2019-10-01 10:50:10.594968 :: cache file available\n",
      "[vcfnp] 2019-10-01 10:50:10.595907 :: loading from cache file /kwiat/1/anopheles/ag1000g/data/phase1/release/AR3/agc/chri_fake_cnvrt_sort.vcf.gz.vcfnp_cache/variants.2L.npy\n"
     ]
    },
    {
     "name": "stdout",
     "output_type": "stream",
     "text": [
      "<HDF5 dataset \"chri\": shape (8906423,), type \"|S1\">\n",
      "3R arab building\n",
      "<HDF5 dataset \"arab\": shape (10752701,), type \"|S1\">\n",
      "3R meru building\n",
      "<HDF5 dataset \"meru\": shape (10752701,), type \"|S1\">\n",
      "3R mela building\n",
      "<HDF5 dataset \"mela\": shape (10752701,), type \"|S1\">\n",
      "3R quad building\n",
      "<HDF5 dataset \"quad\": shape (10752701,), type \"|S1\">\n",
      "3R epir building\n"
     ]
    },
    {
     "name": "stderr",
     "output_type": "stream",
     "text": [
      "[vcfnp] 2019-10-01 10:53:19.988451 :: caching is enabled\n",
      "[vcfnp] 2019-10-01 10:53:19.989894 :: cache file available\n",
      "[vcfnp] 2019-10-01 10:53:19.990847 :: loading from cache file /kwiat/1/anopheles/ag1000g/data/phase1/release/AR3/agc/epir_fake_cnvrt_sort.vcf.gz.vcfnp_cache/variants.3R.npy\n"
     ]
    },
    {
     "name": "stdout",
     "output_type": "stream",
     "text": [
      "<HDF5 dataset \"epir\": shape (10752701,), type \"|S1\">\n",
      "3R chri building\n"
     ]
    },
    {
     "name": "stderr",
     "output_type": "stream",
     "text": [
      "[vcfnp] 2019-10-01 10:53:31.056317 :: caching is enabled\n",
      "[vcfnp] 2019-10-01 10:53:31.057892 :: cache file available\n",
      "[vcfnp] 2019-10-01 10:53:31.059318 :: loading from cache file /kwiat/1/anopheles/ag1000g/data/phase1/release/AR3/agc/chri_fake_cnvrt_sort.vcf.gz.vcfnp_cache/variants.3R.npy\n"
     ]
    },
    {
     "name": "stdout",
     "output_type": "stream",
     "text": [
      "<HDF5 dataset \"chri\": shape (10752701,), type \"|S1\">\n",
      "3L arab building\n",
      "<HDF5 dataset \"arab\": shape (7897666,), type \"|S1\">\n",
      "3L meru building\n",
      "<HDF5 dataset \"meru\": shape (7897666,), type \"|S1\">\n",
      "3L mela building\n",
      "<HDF5 dataset \"mela\": shape (7897666,), type \"|S1\">\n",
      "3L quad building\n",
      "<HDF5 dataset \"quad\": shape (7897666,), type \"|S1\">\n",
      "3L epir building\n"
     ]
    },
    {
     "name": "stderr",
     "output_type": "stream",
     "text": [
      "[vcfnp] 2019-10-01 10:56:04.351871 :: caching is enabled\n",
      "[vcfnp] 2019-10-01 10:56:04.353540 :: cache file available\n",
      "[vcfnp] 2019-10-01 10:56:04.354268 :: loading from cache file /kwiat/1/anopheles/ag1000g/data/phase1/release/AR3/agc/epir_fake_cnvrt_sort.vcf.gz.vcfnp_cache/variants.3L.npy\n"
     ]
    },
    {
     "name": "stdout",
     "output_type": "stream",
     "text": [
      "<HDF5 dataset \"epir\": shape (7897666,), type \"|S1\">\n",
      "3L chri building\n"
     ]
    },
    {
     "name": "stderr",
     "output_type": "stream",
     "text": [
      "[vcfnp] 2019-10-01 10:56:15.750204 :: caching is enabled\n",
      "[vcfnp] 2019-10-01 10:56:15.751248 :: cache file available\n",
      "[vcfnp] 2019-10-01 10:56:15.752453 :: loading from cache file /kwiat/1/anopheles/ag1000g/data/phase1/release/AR3/agc/chri_fake_cnvrt_sort.vcf.gz.vcfnp_cache/variants.3L.npy\n"
     ]
    },
    {
     "name": "stdout",
     "output_type": "stream",
     "text": [
      "<HDF5 dataset \"chri\": shape (7897666,), type \"|S1\">\n",
      "X arab building\n",
      "<HDF5 dataset \"arab\": shape (4472265,), type \"|S1\">\n",
      "X meru building\n",
      "<HDF5 dataset \"meru\": shape (4472265,), type \"|S1\">\n",
      "X mela building\n",
      "<HDF5 dataset \"mela\": shape (4472265,), type \"|S1\">\n",
      "X quad building\n",
      "<HDF5 dataset \"quad\": shape (4472265,), type \"|S1\">\n",
      "X epir building\n"
     ]
    },
    {
     "name": "stderr",
     "output_type": "stream",
     "text": [
      "[vcfnp] 2019-10-01 10:57:22.444679 :: caching is enabled\n",
      "[vcfnp] 2019-10-01 10:57:22.447198 :: cache file available\n",
      "[vcfnp] 2019-10-01 10:57:22.448163 :: loading from cache file /kwiat/1/anopheles/ag1000g/data/phase1/release/AR3/agc/epir_fake_cnvrt_sort.vcf.gz.vcfnp_cache/variants.X.npy\n"
     ]
    },
    {
     "name": "stdout",
     "output_type": "stream",
     "text": [
      "<HDF5 dataset \"epir\": shape (4472265,), type \"|S1\">\n",
      "X chri building\n"
     ]
    },
    {
     "name": "stderr",
     "output_type": "stream",
     "text": [
      "[vcfnp] 2019-10-01 10:57:26.324041 :: caching is enabled\n",
      "[vcfnp] 2019-10-01 10:57:26.325178 :: cache file available\n",
      "[vcfnp] 2019-10-01 10:57:26.325723 :: loading from cache file /kwiat/1/anopheles/ag1000g/data/phase1/release/AR3/agc/chri_fake_cnvrt_sort.vcf.gz.vcfnp_cache/variants.X.npy\n"
     ]
    },
    {
     "name": "stdout",
     "output_type": "stream",
     "text": [
      "<HDF5 dataset \"chri\": shape (4472265,), type \"|S1\">\n"
     ]
    }
   ],
   "source": [
    "# store other species alleles at Ag1000G variant positions\n",
    "outgroup_alleles_fn = '/home/beniamino/notebook/data/outgroup_alleles_phase2.h5'\n",
    "with h5py.File(outgroup_alleles_fn, mode='a') as outgroup_alleles:\n",
    "    for chrom in chromosomes:\n",
    "        for species in other_species:\n",
    "            h5g = outgroup_alleles.require_group(chrom)\n",
    "            if species in h5g:\n",
    "                log(chrom, species, 'skipping')\n",
    "            else:\n",
    "                log(chrom, species, 'building')\n",
    "                data = align_species_allele(chrom, species)\n",
    "                h5d = h5g.create_dataset(species, data=data, chunks=True)\n",
    "                log(h5d)\n"
   ]
  }
 ],
 "metadata": {
  "kernelspec": {
   "display_name": "Python 3",
   "language": "python",
   "name": "python3"
  },
  "language_info": {
   "codemirror_mode": {
    "name": "ipython",
    "version": 3
   },
   "file_extension": ".py",
   "mimetype": "text/x-python",
   "name": "python",
   "nbconvert_exporter": "python",
   "pygments_lexer": "ipython3",
   "version": "3.7.3"
  }
 },
 "nbformat": 4,
 "nbformat_minor": 2
}
