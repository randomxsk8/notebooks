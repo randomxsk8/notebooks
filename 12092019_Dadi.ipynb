{
 "cells": [
  {
   "cell_type": "code",
   "execution_count": null,
   "metadata": {},
   "outputs": [],
   "source": []
  },
  {
   "cell_type": "code",
   "execution_count": 227,
   "metadata": {},
   "outputs": [],
   "source": [
    "%run imports.ipynb\n",
    "%run '08222019_functions.ipynb'"
   ]
  },
  {
   "cell_type": "code",
   "execution_count": 228,
   "metadata": {},
   "outputs": [
    {
     "name": "stderr",
     "output_type": "stream",
     "text": [
      "/opt/conda/lib/python3.6/site-packages/ipykernel_launcher.py:2: H5pyDeprecationWarning: The default file mode will change to 'r' (read-only) in h5py 3.0. To suppress this warning, pass the mode you need to h5py.File(), or set the global default h5.get_config().default_file_mode, or set the environment variable H5PY_DEFAULT_READONLY=1. Available modes are: 'r', 'r+', 'w', 'w-'/'x', 'a'. See the docs for details.\n",
      "  \n"
     ]
    }
   ],
   "source": [
    "calldata_biallel= zarr.open('data/phase2_biallel_allele_count.zarr/')\n",
    "out_alleles = h5py.File('data/outgroup_alleles_phase2.h5')\n",
    "annotation = zarr.open('data/ag1000g.phase2.ar1.pass.biallelic_snpeff/')"
   ]
  },
  {
   "cell_type": "code",
   "execution_count": 229,
   "metadata": {},
   "outputs": [],
   "source": [
    "pos = allel.SortedIndex(callset_biallel['3R'][\"variants/POS\"])"
   ]
  },
  {
   "cell_type": "code",
   "execution_count": 230,
   "metadata": {},
   "outputs": [],
   "source": [
    "def get_neutral(chrom, pos):\n",
    "    if chrom == '3R':\n",
    "        cond = (pos > 1000000) & (pos < 37000000)\n",
    "    return cond"
   ]
  },
  {
   "cell_type": "code",
   "execution_count": 231,
   "metadata": {},
   "outputs": [
    {
     "data": {
      "text/plain": [
       "array([False, False, False, ..., False, False, False])"
      ]
     },
     "execution_count": 231,
     "metadata": {},
     "output_type": "execute_result"
    }
   ],
   "source": [
    "cond_neut = get_neutral(chrom, pos)\n",
    "cond_neut"
   ]
  },
  {
   "cell_type": "code",
   "execution_count": 232,
   "metadata": {},
   "outputs": [],
   "source": [
    "ann = annotation['3R']['variants/ANN_Annotation'][:]"
   ]
  },
  {
   "cell_type": "code",
   "execution_count": 235,
   "metadata": {},
   "outputs": [
    {
     "data": {
      "text/plain": [
       "array([False, False, False, ...,  True,  True,  True])"
      ]
     },
     "execution_count": 235,
     "metadata": {},
     "output_type": "execute_result"
    }
   ],
   "source": [
    "cond_inter = ann == 'intergenic_region'\n",
    "cond_inter"
   ]
  },
  {
   "cell_type": "code",
   "execution_count": 237,
   "metadata": {},
   "outputs": [
    {
     "data": {
      "text/html": [
       "<div class=\"allel allel-DisplayAs1D\"><span>&lt;SortedIndex shape=(3651719,) dtype=int32&gt;</span><table><thead><tr><th style=\"text-align: center\">0</th><th style=\"text-align: center\">1</th><th style=\"text-align: center\">2</th><th style=\"text-align: center\">3</th><th style=\"text-align: center\">4</th><th style=\"text-align: center\">...</th><th style=\"text-align: center\">3651714</th><th style=\"text-align: center\">3651715</th><th style=\"text-align: center\">3651716</th><th style=\"text-align: center\">3651717</th><th style=\"text-align: center\">3651718</th></tr></thead><tbody><tr><td style=\"text-align: center\">1000005</td><td style=\"text-align: center\">1000007</td><td style=\"text-align: center\">1000012</td><td style=\"text-align: center\">1000013</td><td style=\"text-align: center\">1000014</td><td style=\"text-align: center\">...</td><td style=\"text-align: center\">36935274</td><td style=\"text-align: center\">36935277</td><td style=\"text-align: center\">36935282</td><td style=\"text-align: center\">36935283</td><td style=\"text-align: center\">36935284</td></tr></tbody></table></div>"
      ],
      "text/plain": [
       "<SortedIndex shape=(3651719,) dtype=int32>\n",
       "[1000005, 1000007, 1000012, 1000013, 1000014, ..., 36935274, 36935277, 36935282, 36935283, 36935284]"
      ]
     },
     "execution_count": 237,
     "metadata": {},
     "output_type": "execute_result"
    }
   ],
   "source": [
    "pos_neu_inter = pos[cond_neut & cond_inter] \n",
    "pos_neu_inter"
   ]
  },
  {
   "cell_type": "code",
   "execution_count": 238,
   "metadata": {},
   "outputs": [
    {
     "data": {
      "text/html": [
       "<div class=\"allel allel-DisplayAs2D\"><span>&lt;GenotypeChunkedArray shape=(10752701, 1142, 2) dtype=int8 chunks=(524288, 61, 2)\n",
       "   nbytes=22.9G cbytes=-1 cratio=-24559169084.0\n",
       "   compression=blosc compression_opts={'cname': 'zstd', 'clevel': 1, 'shuffle': -1, 'blocksize': 0}\n",
       "   values=zarr.core.Array&gt;</span><table><thead><tr><th></th><th style=\"text-align: center\">0</th><th style=\"text-align: center\">1</th><th style=\"text-align: center\">2</th><th style=\"text-align: center\">3</th><th style=\"text-align: center\">4</th><th style=\"text-align: center\">...</th><th style=\"text-align: center\">1137</th><th style=\"text-align: center\">1138</th><th style=\"text-align: center\">1139</th><th style=\"text-align: center\">1140</th><th style=\"text-align: center\">1141</th></tr></thead><tbody><tr><th style=\"text-align: center; background-color: white; border-right: 1px solid black; \">0</th><td style=\"text-align: center\">0/0</td><td style=\"text-align: center\">0/0</td><td style=\"text-align: center\">0/0</td><td style=\"text-align: center\">0/0</td><td style=\"text-align: center\">0/0</td><td style=\"text-align: center\">...</td><td style=\"text-align: center\">0/0</td><td style=\"text-align: center\">0/0</td><td style=\"text-align: center\">0/0</td><td style=\"text-align: center\">0/0</td><td style=\"text-align: center\">0/0</td></tr><tr><th style=\"text-align: center; background-color: white; border-right: 1px solid black; \">1</th><td style=\"text-align: center\">0/0</td><td style=\"text-align: center\">0/0</td><td style=\"text-align: center\">0/0</td><td style=\"text-align: center\">0/0</td><td style=\"text-align: center\">0/0</td><td style=\"text-align: center\">...</td><td style=\"text-align: center\">0/0</td><td style=\"text-align: center\">0/0</td><td style=\"text-align: center\">0/0</td><td style=\"text-align: center\">0/0</td><td style=\"text-align: center\">0/0</td></tr><tr><th style=\"text-align: center; background-color: white; border-right: 1px solid black; \">2</th><td style=\"text-align: center\">0/0</td><td style=\"text-align: center\">0/0</td><td style=\"text-align: center\">0/0</td><td style=\"text-align: center\">0/0</td><td style=\"text-align: center\">0/0</td><td style=\"text-align: center\">...</td><td style=\"text-align: center\">0/0</td><td style=\"text-align: center\">0/0</td><td style=\"text-align: center\">0/0</td><td style=\"text-align: center\">0/0</td><td style=\"text-align: center\">0/0</td></tr><tr><th style=\"text-align: center; background-color: white; border-right: 1px solid black; \">...</th><td style=\"text-align: center\" colspan=\"12\">...</td></tr><tr><th style=\"text-align: center; background-color: white; border-right: 1px solid black; \">10752698</th><td style=\"text-align: center\">0/0</td><td style=\"text-align: center\">0/0</td><td style=\"text-align: center\">0/0</td><td style=\"text-align: center\">0/0</td><td style=\"text-align: center\">0/0</td><td style=\"text-align: center\">...</td><td style=\"text-align: center\">0/0</td><td style=\"text-align: center\">0/0</td><td style=\"text-align: center\">0/0</td><td style=\"text-align: center\">0/0</td><td style=\"text-align: center\">0/0</td></tr><tr><th style=\"text-align: center; background-color: white; border-right: 1px solid black; \">10752699</th><td style=\"text-align: center\">0/0</td><td style=\"text-align: center\">0/0</td><td style=\"text-align: center\">0/0</td><td style=\"text-align: center\">0/0</td><td style=\"text-align: center\">0/0</td><td style=\"text-align: center\">...</td><td style=\"text-align: center\">0/0</td><td style=\"text-align: center\">0/0</td><td style=\"text-align: center\">0/0</td><td style=\"text-align: center\">0/0</td><td style=\"text-align: center\">0/0</td></tr><tr><th style=\"text-align: center; background-color: white; border-right: 1px solid black; \">10752700</th><td style=\"text-align: center\">0/0</td><td style=\"text-align: center\">0/0</td><td style=\"text-align: center\">0/0</td><td style=\"text-align: center\">0/0</td><td style=\"text-align: center\">0/0</td><td style=\"text-align: center\">...</td><td style=\"text-align: center\">0/0</td><td style=\"text-align: center\">0/0</td><td style=\"text-align: center\">0/0</td><td style=\"text-align: center\">0/0</td><td style=\"text-align: center\">0/0</td></tr></tbody></table></div>"
      ],
      "text/plain": [
       "<GenotypeChunkedArray shape=(10752701, 1142, 2) dtype=int8 chunks=(524288, 61, 2)\n",
       "   nbytes=22.9G cbytes=-1 cratio=-24559169084.0\n",
       "   compression=blosc compression_opts={'cname': 'zstd', 'clevel': 1, 'shuffle': -1, 'blocksize': 0}\n",
       "   values=zarr.core.Array>"
      ]
     },
     "execution_count": 238,
     "metadata": {},
     "output_type": "execute_result"
    }
   ],
   "source": [
    "genotypes = allel.GenotypeChunkedArray(callset_biallel['3R'][\"calldata/GT\"])\n",
    "genotypes"
   ]
  },
  {
   "cell_type": "markdown",
   "metadata": {},
   "source": [
    "--------------\n",
    "Subset the metadata to my 3 pops of interest"
   ]
  },
  {
   "cell_type": "code",
   "execution_count": 239,
   "metadata": {},
   "outputs": [],
   "source": [
    "populations = 'KE', 'GM', 'GW'"
   ]
  },
  {
   "cell_type": "code",
   "execution_count": 240,
   "metadata": {},
   "outputs": [],
   "source": [
    "sample_selection = metadata.population.isin({'KE', 'GM', 'GW'}).values"
   ]
  },
  {
   "cell_type": "code",
   "execution_count": 241,
   "metadata": {},
   "outputs": [
    {
     "data": {
      "text/html": [
       "<div>\n",
       "<style scoped>\n",
       "    .dataframe tbody tr th:only-of-type {\n",
       "        vertical-align: middle;\n",
       "    }\n",
       "\n",
       "    .dataframe tbody tr th {\n",
       "        vertical-align: top;\n",
       "    }\n",
       "\n",
       "    .dataframe thead th {\n",
       "        text-align: right;\n",
       "    }\n",
       "</style>\n",
       "<table border=\"1\" class=\"dataframe\">\n",
       "  <thead>\n",
       "    <tr style=\"text-align: right;\">\n",
       "      <th></th>\n",
       "      <th>ox_code</th>\n",
       "      <th>src_code</th>\n",
       "      <th>population</th>\n",
       "      <th>country</th>\n",
       "      <th>location</th>\n",
       "      <th>site</th>\n",
       "      <th>contributor</th>\n",
       "      <th>contact</th>\n",
       "      <th>year</th>\n",
       "      <th>m_s</th>\n",
       "      <th>sex</th>\n",
       "      <th>n_sequences</th>\n",
       "      <th>mean_coverage</th>\n",
       "      <th>ebi_sample_acc</th>\n",
       "      <th>latitude</th>\n",
       "      <th>longitude</th>\n",
       "    </tr>\n",
       "  </thead>\n",
       "  <tbody>\n",
       "    <tr>\n",
       "      <th>0</th>\n",
       "      <td>AG0082-C</td>\n",
       "      <td>2518</td>\n",
       "      <td>GM</td>\n",
       "      <td>Gambia, The</td>\n",
       "      <td>Njabakunda</td>\n",
       "      <td>Sare Illo Buya</td>\n",
       "      <td>Martin Donnelly</td>\n",
       "      <td>Martin Donnelly</td>\n",
       "      <td>2011</td>\n",
       "      <td>NaN</td>\n",
       "      <td>F</td>\n",
       "      <td>93088052</td>\n",
       "      <td>30.53</td>\n",
       "      <td>ERS248676</td>\n",
       "      <td>13.55</td>\n",
       "      <td>-15.9</td>\n",
       "    </tr>\n",
       "    <tr>\n",
       "      <th>1</th>\n",
       "      <td>AG0085-C</td>\n",
       "      <td>2521</td>\n",
       "      <td>GM</td>\n",
       "      <td>Gambia, The</td>\n",
       "      <td>Njabakunda</td>\n",
       "      <td>Sare Illo Buya</td>\n",
       "      <td>Martin Donnelly</td>\n",
       "      <td>Martin Donnelly</td>\n",
       "      <td>2011</td>\n",
       "      <td>NaN</td>\n",
       "      <td>F</td>\n",
       "      <td>103517758</td>\n",
       "      <td>32.14</td>\n",
       "      <td>ERS248679</td>\n",
       "      <td>13.55</td>\n",
       "      <td>-15.9</td>\n",
       "    </tr>\n",
       "    <tr>\n",
       "      <th>2</th>\n",
       "      <td>AG0089-C</td>\n",
       "      <td>2525</td>\n",
       "      <td>GM</td>\n",
       "      <td>Gambia, The</td>\n",
       "      <td>Njabakunda</td>\n",
       "      <td>Sare Illo Buya</td>\n",
       "      <td>Martin Donnelly</td>\n",
       "      <td>Martin Donnelly</td>\n",
       "      <td>2011</td>\n",
       "      <td>NaN</td>\n",
       "      <td>F</td>\n",
       "      <td>114898838</td>\n",
       "      <td>35.13</td>\n",
       "      <td>ERS248683</td>\n",
       "      <td>13.55</td>\n",
       "      <td>-15.9</td>\n",
       "    </tr>\n",
       "    <tr>\n",
       "      <th>3</th>\n",
       "      <td>AG0096-C</td>\n",
       "      <td>2532</td>\n",
       "      <td>GM</td>\n",
       "      <td>Gambia, The</td>\n",
       "      <td>Njabakunda</td>\n",
       "      <td>Sare Illo Buya</td>\n",
       "      <td>Martin Donnelly</td>\n",
       "      <td>Martin Donnelly</td>\n",
       "      <td>2011</td>\n",
       "      <td>NaN</td>\n",
       "      <td>F</td>\n",
       "      <td>105627176</td>\n",
       "      <td>32.73</td>\n",
       "      <td>ERS248690</td>\n",
       "      <td>13.55</td>\n",
       "      <td>-15.9</td>\n",
       "    </tr>\n",
       "    <tr>\n",
       "      <th>4</th>\n",
       "      <td>AG0097-C</td>\n",
       "      <td>2533</td>\n",
       "      <td>GM</td>\n",
       "      <td>Gambia, The</td>\n",
       "      <td>Njabakunda</td>\n",
       "      <td>Sare Illo Buya</td>\n",
       "      <td>Martin Donnelly</td>\n",
       "      <td>Martin Donnelly</td>\n",
       "      <td>2011</td>\n",
       "      <td>NaN</td>\n",
       "      <td>F</td>\n",
       "      <td>95764982</td>\n",
       "      <td>23.23</td>\n",
       "      <td>ERS248691</td>\n",
       "      <td>13.55</td>\n",
       "      <td>-15.9</td>\n",
       "    </tr>\n",
       "  </tbody>\n",
       "</table>\n",
       "</div>"
      ],
      "text/plain": [
       "    ox_code src_code population      country    location            site  \\\n",
       "0  AG0082-C     2518         GM  Gambia, The  Njabakunda  Sare Illo Buya   \n",
       "1  AG0085-C     2521         GM  Gambia, The  Njabakunda  Sare Illo Buya   \n",
       "2  AG0089-C     2525         GM  Gambia, The  Njabakunda  Sare Illo Buya   \n",
       "3  AG0096-C     2532         GM  Gambia, The  Njabakunda  Sare Illo Buya   \n",
       "4  AG0097-C     2533         GM  Gambia, The  Njabakunda  Sare Illo Buya   \n",
       "\n",
       "       contributor          contact  year  m_s sex  n_sequences  \\\n",
       "0  Martin Donnelly  Martin Donnelly  2011  NaN   F     93088052   \n",
       "1  Martin Donnelly  Martin Donnelly  2011  NaN   F    103517758   \n",
       "2  Martin Donnelly  Martin Donnelly  2011  NaN   F    114898838   \n",
       "3  Martin Donnelly  Martin Donnelly  2011  NaN   F    105627176   \n",
       "4  Martin Donnelly  Martin Donnelly  2011  NaN   F     95764982   \n",
       "\n",
       "   mean_coverage ebi_sample_acc  latitude  longitude  \n",
       "0          30.53      ERS248676     13.55      -15.9  \n",
       "1          32.14      ERS248679     13.55      -15.9  \n",
       "2          35.13      ERS248683     13.55      -15.9  \n",
       "3          32.73      ERS248690     13.55      -15.9  \n",
       "4          23.23      ERS248691     13.55      -15.9  "
      ]
     },
     "execution_count": 241,
     "metadata": {},
     "output_type": "execute_result"
    }
   ],
   "source": [
    "samples_subset = metadata[sample_selection]\n",
    "samples_subset.reset_index(drop=True, inplace=True)\n",
    "samples_subset.head()"
   ]
  },
  {
   "cell_type": "code",
   "execution_count": 242,
   "metadata": {},
   "outputs": [
    {
     "data": {
      "text/plain": [
       "GW    91\n",
       "GM    65\n",
       "KE    48\n",
       "Name: population, dtype: int64"
      ]
     },
     "execution_count": 242,
     "metadata": {},
     "output_type": "execute_result"
    }
   ],
   "source": [
    "samples_subset.population.value_counts()"
   ]
  },
  {
   "cell_type": "markdown",
   "metadata": {},
   "source": [
    "----------\n",
    "Subset the genotype to variants passed and pops"
   ]
  },
  {
   "cell_type": "code",
   "execution_count": 245,
   "metadata": {},
   "outputs": [
    {
     "name": "stdout",
     "output_type": "stream",
     "text": [
      "CPU times: user 1min 45s, sys: 24.8 s, total: 2min 10s\n",
      "Wall time: 1min 38s\n"
     ]
    }
   ],
   "source": [
    "%%time\n",
    "genotypes_subset = genotypes.subset(sel1 = sample_selection)"
   ]
  },
  {
   "cell_type": "code",
   "execution_count": 246,
   "metadata": {},
   "outputs": [
    {
     "data": {
      "text/html": [
       "<div class=\"allel allel-DisplayAs2D\"><span>&lt;GenotypeChunkedArray shape=(10752701, 204, 2) dtype=int8 chunks=(10501, 204, 2)\n",
       "   nbytes=4.1G cbytes=171.6M cratio=24.4\n",
       "   compression=blosc compression_opts={'cname': 'lz4', 'clevel': 5, 'shuffle': 1, 'blocksize': 0}\n",
       "   values=zarr.core.Array&gt;</span><table><thead><tr><th></th><th style=\"text-align: center\">0</th><th style=\"text-align: center\">1</th><th style=\"text-align: center\">2</th><th style=\"text-align: center\">3</th><th style=\"text-align: center\">4</th><th style=\"text-align: center\">...</th><th style=\"text-align: center\">199</th><th style=\"text-align: center\">200</th><th style=\"text-align: center\">201</th><th style=\"text-align: center\">202</th><th style=\"text-align: center\">203</th></tr></thead><tbody><tr><th style=\"text-align: center; background-color: white; border-right: 1px solid black; \">0</th><td style=\"text-align: center\">0/0</td><td style=\"text-align: center\">0/0</td><td style=\"text-align: center\">0/0</td><td style=\"text-align: center\">0/0</td><td style=\"text-align: center\">0/0</td><td style=\"text-align: center\">...</td><td style=\"text-align: center\">0/0</td><td style=\"text-align: center\">0/0</td><td style=\"text-align: center\">0/0</td><td style=\"text-align: center\">0/0</td><td style=\"text-align: center\">0/0</td></tr><tr><th style=\"text-align: center; background-color: white; border-right: 1px solid black; \">1</th><td style=\"text-align: center\">0/0</td><td style=\"text-align: center\">0/0</td><td style=\"text-align: center\">0/0</td><td style=\"text-align: center\">0/0</td><td style=\"text-align: center\">0/0</td><td style=\"text-align: center\">...</td><td style=\"text-align: center\">0/0</td><td style=\"text-align: center\">0/0</td><td style=\"text-align: center\">0/0</td><td style=\"text-align: center\">0/0</td><td style=\"text-align: center\">0/0</td></tr><tr><th style=\"text-align: center; background-color: white; border-right: 1px solid black; \">2</th><td style=\"text-align: center\">0/0</td><td style=\"text-align: center\">0/0</td><td style=\"text-align: center\">0/0</td><td style=\"text-align: center\">0/0</td><td style=\"text-align: center\">0/0</td><td style=\"text-align: center\">...</td><td style=\"text-align: center\">0/0</td><td style=\"text-align: center\">0/0</td><td style=\"text-align: center\">0/0</td><td style=\"text-align: center\">0/0</td><td style=\"text-align: center\">0/0</td></tr><tr><th style=\"text-align: center; background-color: white; border-right: 1px solid black; \">...</th><td style=\"text-align: center\" colspan=\"12\">...</td></tr><tr><th style=\"text-align: center; background-color: white; border-right: 1px solid black; \">10752698</th><td style=\"text-align: center\">0/0</td><td style=\"text-align: center\">0/0</td><td style=\"text-align: center\">0/0</td><td style=\"text-align: center\">0/1</td><td style=\"text-align: center\">0/0</td><td style=\"text-align: center\">...</td><td style=\"text-align: center\">0/0</td><td style=\"text-align: center\">0/0</td><td style=\"text-align: center\">0/0</td><td style=\"text-align: center\">0/0</td><td style=\"text-align: center\">0/0</td></tr><tr><th style=\"text-align: center; background-color: white; border-right: 1px solid black; \">10752699</th><td style=\"text-align: center\">0/0</td><td style=\"text-align: center\">0/0</td><td style=\"text-align: center\">0/0</td><td style=\"text-align: center\">0/0</td><td style=\"text-align: center\">0/0</td><td style=\"text-align: center\">...</td><td style=\"text-align: center\">0/0</td><td style=\"text-align: center\">0/0</td><td style=\"text-align: center\">0/0</td><td style=\"text-align: center\">0/0</td><td style=\"text-align: center\">0/0</td></tr><tr><th style=\"text-align: center; background-color: white; border-right: 1px solid black; \">10752700</th><td style=\"text-align: center\">0/0</td><td style=\"text-align: center\">0/0</td><td style=\"text-align: center\">0/0</td><td style=\"text-align: center\">0/0</td><td style=\"text-align: center\">0/0</td><td style=\"text-align: center\">...</td><td style=\"text-align: center\">0/0</td><td style=\"text-align: center\">0/0</td><td style=\"text-align: center\">0/0</td><td style=\"text-align: center\">0/0</td><td style=\"text-align: center\">0/0</td></tr></tbody></table></div>"
      ],
      "text/plain": [
       "<GenotypeChunkedArray shape=(10752701, 204, 2) dtype=int8 chunks=(10501, 204, 2)\n",
       "   nbytes=4.1G cbytes=171.6M cratio=24.4\n",
       "   compression=blosc compression_opts={'cname': 'lz4', 'clevel': 5, 'shuffle': 1, 'blocksize': 0}\n",
       "   values=zarr.core.Array>"
      ]
     },
     "execution_count": 246,
     "metadata": {},
     "output_type": "execute_result"
    }
   ],
   "source": [
    "genotypes_subset"
   ]
  },
  {
   "cell_type": "markdown",
   "metadata": {},
   "source": [
    "-----------\n",
    "Counting the alleles:"
   ]
  },
  {
   "cell_type": "code",
   "execution_count": 247,
   "metadata": {},
   "outputs": [],
   "source": [
    "subpops = {\n",
    "    'all': list(range(len(samples_subset))),\n",
    "    'GM': samples_subset[samples_subset.population == 'GM'].index.tolist(),\n",
    "    'GW': samples_subset[samples_subset.population == 'GW'].index.tolist(),\n",
    "    'KE': samples_subset[samples_subset.population == 'KE'].index.tolist(),\n",
    "\n",
    "}"
   ]
  },
  {
   "cell_type": "code",
   "execution_count": 275,
   "metadata": {},
   "outputs": [
    {
     "data": {
      "text/html": [
       "<div class=\"allel allel-DisplayAsTable\"><span>&lt;AlleleCountsChunkedTable shape=(10752701,) dtype=[('GM', '&lt;i4', (4,)), ('GW', '&lt;i4', (4,)), ('KE', '&lt;i4', (4,)), ('all', '&lt;i4', (4,))]\n",
       "   nbytes=656.3M cbytes=51.9M cratio=12.6\n",
       "   values=allel.chunked.storage_zarr.ZarrTable&gt;</span><table><thead><tr><th></th><th style=\"text-align: center\">GM</th><th style=\"text-align: center\">GW</th><th style=\"text-align: center\">KE</th><th style=\"text-align: center\">all</th></tr></thead><tbody><tr><th style=\"text-align: center; background-color: white; border-right: 1px solid black; \">0</th><td style=\"text-align: center\">[130   0   0   0]</td><td style=\"text-align: center\">[181   1   0   0]</td><td style=\"text-align: center\">[96  0  0  0]</td><td style=\"text-align: center\">[407   1   0   0]</td></tr><tr><th style=\"text-align: center; background-color: white; border-right: 1px solid black; \">1</th><td style=\"text-align: center\">[130   0   0   0]</td><td style=\"text-align: center\">[182   0   0   0]</td><td style=\"text-align: center\">[96  0  0  0]</td><td style=\"text-align: center\">[408   0   0   0]</td></tr><tr><th style=\"text-align: center; background-color: white; border-right: 1px solid black; \">2</th><td style=\"text-align: center\">[130   0   0   0]</td><td style=\"text-align: center\">[178   0   0   0]</td><td style=\"text-align: center\">[96  0  0  0]</td><td style=\"text-align: center\">[404   0   0   0]</td></tr><tr><th style=\"text-align: center; background-color: white; border-right: 1px solid black; \">...</th><td style=\"text-align: center\" colspan=\"5\">...</td></tr><tr><th style=\"text-align: center; background-color: white; border-right: 1px solid black; \">10752698</th><td style=\"text-align: center\">[117  13   0   0]</td><td style=\"text-align: center\">[175   5   0   0]</td><td style=\"text-align: center\">[96  0  0  0]</td><td style=\"text-align: center\">[388  18   0   0]</td></tr><tr><th style=\"text-align: center; background-color: white; border-right: 1px solid black; \">10752699</th><td style=\"text-align: center\">[123   7   0   0]</td><td style=\"text-align: center\">[154  26   0   0]</td><td style=\"text-align: center\">[96  0  0  0]</td><td style=\"text-align: center\">[373  33   0   0]</td></tr><tr><th style=\"text-align: center; background-color: white; border-right: 1px solid black; \">10752700</th><td style=\"text-align: center\">[130   0   0   0]</td><td style=\"text-align: center\">[180   0   0   0]</td><td style=\"text-align: center\">[96  0  0  0]</td><td style=\"text-align: center\">[406   0   0   0]</td></tr></tbody></table></div>"
      ],
      "text/plain": [
       "<AlleleCountsChunkedTable shape=(10752701,) dtype=[('GM', '<i4', (4,)), ('GW', '<i4', (4,)), ('KE', '<i4', (4,)), ('all', '<i4', (4,))]\n",
       "   nbytes=656.3M cbytes=51.9M cratio=12.6\n",
       "   values=allel.chunked.storage_zarr.ZarrTable>"
      ]
     },
     "execution_count": 275,
     "metadata": {},
     "output_type": "execute_result"
    }
   ],
   "source": [
    "allele_counts = genotypes_subset.count_alleles_subpops(subpops, max_allele=3)\n",
    "allele_counts"
   ]
  },
  {
   "cell_type": "code",
   "execution_count": 277,
   "metadata": {},
   "outputs": [],
   "source": [
    "ac = {}\n",
    "for pop in list(subpops):\n",
    "        ac[pop] = allel.AlleleCountsChunkedArray(allele_counts[pop][:][cond_neut & cond_inter])"
   ]
  },
  {
   "cell_type": "code",
   "execution_count": 279,
   "metadata": {},
   "outputs": [
    {
     "data": {
      "text/plain": [
       "<ChunkedArrayWrapper shape=(3651719,) dtype=bool chunks=(456465,)\n",
       "   nbytes=3.5M cbytes=2.0M cratio=1.7\n",
       "   compression=blosc compression_opts={'cname': 'lz4', 'clevel': 5, 'shuffle': 1, 'blocksize': 0}\n",
       "   values=zarr.core.Array>"
      ]
     },
     "execution_count": 279,
     "metadata": {},
     "output_type": "execute_result"
    }
   ],
   "source": [
    "bool_bial = ac['all'].allelism() == 2\n",
    "bool_bial"
   ]
  },
  {
   "cell_type": "code",
   "execution_count": 280,
   "metadata": {},
   "outputs": [],
   "source": [
    "for pop in list(subpops):\n",
    "        ac[pop] = ac[pop][bool_bial]"
   ]
  },
  {
   "cell_type": "code",
   "execution_count": 281,
   "metadata": {},
   "outputs": [
    {
     "data": {
      "text/plain": [
       "array([ 1000005,  1000007,  1000027, ..., 36935273, 36935277, 36935283],\n",
       "      dtype=int32)"
      ]
     },
     "execution_count": 281,
     "metadata": {},
     "output_type": "execute_result"
    }
   ],
   "source": [
    "pos_final = pos_neu_inter[bool_bial]\n",
    "pos_final"
   ]
  },
  {
   "cell_type": "code",
   "execution_count": 282,
   "metadata": {},
   "outputs": [
    {
     "name": "stdout",
     "output_type": "stream",
     "text": [
      "3R (10752701,)\n",
      "3R (1329636,)\n",
      "3R (1329636, 4)\n",
      "3R (1329636, 4)\n"
     ]
    }
   ],
   "source": [
    "for chrom in contigs:\n",
    "    print(chrom, pos.shape)\n",
    "    print(chrom, pos_final.shape)\n",
    "    print(chrom, ac['all'].shape)\n",
    "    print(chrom, ac['KE'].shape)"
   ]
  },
  {
   "cell_type": "code",
   "execution_count": 283,
   "metadata": {},
   "outputs": [],
   "source": [
    "#out_alleles = zarr.open('data/outgroup_alleles_phase2.zarr/')"
   ]
  },
  {
   "cell_type": "code",
   "execution_count": 284,
   "metadata": {},
   "outputs": [],
   "source": [
    "def consensus_aa(chrom, out_alleles, outgroups):\n",
    "    aa = None\n",
    "    for out in outgroups:\n",
    "        if aa is None:\n",
    "            aa = out_alleles[chrom][out]\n",
    "        else:\n",
    "            loc_consensus = aa == out_alleles[chrom][out]\n",
    "            aa[~loc_consensus] = b'.'\n",
    "    return aa"
   ]
  },
  {
   "cell_type": "code",
   "execution_count": 287,
   "metadata": {},
   "outputs": [
    {
     "data": {
      "text/plain": [
       "<HDF5 dataset \"chri\": shape (10752701,), type \"|S1\">"
      ]
     },
     "execution_count": 287,
     "metadata": {},
     "output_type": "execute_result"
    }
   ],
   "source": [
    "cons_4 = consensus_aa('3R', out_alleles, ['chri'])\n",
    "cons_4 "
   ]
  },
  {
   "cell_type": "code",
   "execution_count": 288,
   "metadata": {},
   "outputs": [
    {
     "data": {
      "text/plain": [
       "array([b'A', b'A', b'T', ..., b'.', b'.', b'.'], dtype='|S1')"
      ]
     },
     "execution_count": 288,
     "metadata": {},
     "output_type": "execute_result"
    }
   ],
   "source": [
    "cons_4_filt = cons_4[cond_neut & cond_inter]\n",
    "cons_4_filt_final = cons_4_filt.compress(bool_bial)\n",
    "cons_4_filt_final"
   ]
  },
  {
   "cell_type": "code",
   "execution_count": 289,
   "metadata": {},
   "outputs": [],
   "source": [
    "ref = callset_biallel['3R']['variants/REF'][:] \n",
    "ref_filt = ref[cond_neut & cond_inter]\n",
    "ref_filt_final = ref_filt[bool_bial]"
   ]
  },
  {
   "cell_type": "code",
   "execution_count": 290,
   "metadata": {},
   "outputs": [],
   "source": [
    "alt =  callset_biallel['3R']['variants/ALT']\n",
    "alt_filt = np.compress((cond_neut & cond_inter), alt, axis=0) \n",
    "alt_filt_final = np.compress(bool_bial, alt_filt, axis=0) "
   ]
  },
  {
   "cell_type": "code",
   "execution_count": 291,
   "metadata": {},
   "outputs": [
    {
     "data": {
      "text/plain": [
       "((1329636,), (1329636,))"
      ]
     },
     "execution_count": 291,
     "metadata": {},
     "output_type": "execute_result"
    }
   ],
   "source": [
    "ref_filt_final.shape, alt_filt_final.shape"
   ]
  },
  {
   "cell_type": "code",
   "execution_count": 292,
   "metadata": {},
   "outputs": [
    {
     "name": "stdout",
     "output_type": "stream",
     "text": [
      "1329636\n",
      "851575\n",
      "1314146\n"
     ]
    }
   ],
   "source": [
    "loc_bi_seg = (ac['all'].allelism() == 2) & (ac['all'][:, 0] > 0) & (ac['all'][:, 1] > 0)\n",
    "log(nnz(loc_bi_seg))\n",
    "\n",
    "# locate positions where aa is determined and matches Ag1000G\n",
    "loc_aa_match = (cons_4_filt_final!= b'.') & (cons_4_filt_final == ref_filt_final) | (cons_4_filt_final == alt_filt_final)\n",
    "log(nnz(loc_aa_match))\n",
    "\n",
    "# locate positions with missing calls\n",
    "an = ac['all'].sum(axis=1)\n",
    "loc_nomiss = an == an.max() \n",
    "log(nnz(loc_nomiss))\n",
    "\n",
    "# locations to use\n"
   ]
  },
  {
   "cell_type": "code",
   "execution_count": 295,
   "metadata": {},
   "outputs": [
    {
     "data": {
      "text/plain": [
       "array([False,  True,  True, ..., False, False, False])"
      ]
     },
     "execution_count": 295,
     "metadata": {},
     "output_type": "execute_result"
    }
   ],
   "source": [
    "loc_asc = loc_bi_seg & loc_aa_match & loc_nomiss\n",
    "loc_asc "
   ]
  },
  {
   "cell_type": "code",
   "execution_count": 297,
   "metadata": {},
   "outputs": [
    {
     "name": "stdout",
     "output_type": "stream",
     "text": [
      "843323\n"
     ]
    }
   ],
   "source": [
    "for chrom in contigs:\n",
    "    print(loc_asc.sum())"
   ]
  },
  {
   "cell_type": "code",
   "execution_count": 298,
   "metadata": {},
   "outputs": [
    {
     "name": "stdout",
     "output_type": "stream",
     "text": [
      "(1329636,)\n"
     ]
    }
   ],
   "source": [
    "for chrom in contigs:\n",
    "    print(cons_4_filt_final.shape) "
   ]
  },
  {
   "cell_type": "code",
   "execution_count": 299,
   "metadata": {},
   "outputs": [
    {
     "name": "stdout",
     "output_type": "stream",
     "text": [
      "(1329636,)\n"
     ]
    }
   ],
   "source": [
    "for chrom in contigs:\n",
    "    print(cons_4_filt_final.shape)"
   ]
  },
  {
   "cell_type": "code",
   "execution_count": 303,
   "metadata": {},
   "outputs": [],
   "source": [
    "# kenya\n",
    "samples_fn = 'samples.meta.txt'\n",
    "samples = etl.fromtsv(samples_fn).selecteq('population', 'KE')"
   ]
  },
  {
   "cell_type": "code",
   "execution_count": 308,
   "metadata": {},
   "outputs": [],
   "source": [
    "kenya_ind = samples.select(lambda r: r.location == 'Kilifi').values('ox_code').list()\n",
    "\n",
    "geno_filt = allel.GenotypeChunkedArray(callset_biallel['3R'][\"calldata/GT\"]).compress(cond_neut & cond_inter)\n",
    "#geno_filt = {chrom: np.compress((cond_neut[chrom] & cond_inter[chrom]), geno[chrom], axis=0) for chrom in contigs}\n",
    "\n",
    "geno_filt_final = np.compress(bool_bial, geno_filt, axis=0) \n",
    "del geno_filt\n",
    "\n",
    "# take just the kenya genotypes"
   ]
  },
  {
   "cell_type": "code",
   "execution_count": 309,
   "metadata": {},
   "outputs": [],
   "source": [
    "import anhima"
   ]
  },
  {
   "cell_type": "code",
   "execution_count": 316,
   "metadata": {},
   "outputs": [],
   "source": [
    "sample_selection = metadata.population.isin({'KE'}).values"
   ]
  },
  {
   "cell_type": "code",
   "execution_count": 317,
   "metadata": {},
   "outputs": [],
   "source": [
    "g = geno_filt_final.subset(sel1=sample_selection)"
   ]
  },
  {
   "cell_type": "code",
   "execution_count": 319,
   "metadata": {},
   "outputs": [],
   "source": [
    "ac['KE_sav'] =  g.count_alleles()"
   ]
  },
  {
   "cell_type": "code",
   "execution_count": 320,
   "metadata": {},
   "outputs": [],
   "source": [
    "del geno_filt_final\n",
    "del g"
   ]
  },
  {
   "cell_type": "code",
   "execution_count": 322,
   "metadata": {},
   "outputs": [],
   "source": [
    "populations1 = ['KE']\n",
    "populations2 = ['GM', 'GW']"
   ]
  },
  {
   "cell_type": "code",
   "execution_count": 327,
   "metadata": {},
   "outputs": [],
   "source": [
    "for pop1, pop2 in zip(populations1, populations2):\n",
    "    for chrom in contigs:\n",
    "        with open('dadi/%s_%s_4out_%s_dec.txt' % (pop1, pop2, chrom), 'w', newline='') as csvfile:\n",
    "            writer = csv.writer(csvfile, delimiter=' ')\n",
    "            writer.writerow(['ingroup', 'out', 'Allele1', pop1, pop2, 'Allele2', pop1, pop2, 'gene', 'Position'])\n",
    "            for ingr, out, ac_pop1, ac_pop2, allele2, position in zip(ref_filt_final[loc_asc], cons_4_filt_final[loc_asc], ac[pop1][loc_asc], ac[pop2][loc_asc], alt_filt_final[loc_asc], pos_final[loc_asc]):\n",
    "                ingr = ingr.decode()\n",
    "                out = out.decode()\n",
    "                allele2 = allele2[0]\n",
    "                writer.writerow(['-' + ingr + '-', '-' + out + '-', ingr, ac_pop1[0], ac_pop2[0], allele2, ac_pop1[1], ac_pop2[1], '---', position] )"
   ]
  },
  {
   "cell_type": "code",
   "execution_count": null,
   "metadata": {},
   "outputs": [],
   "source": []
  }
 ],
 "metadata": {
  "kernelspec": {
   "display_name": "Python 3",
   "language": "python",
   "name": "python3"
  },
  "language_info": {
   "codemirror_mode": {
    "name": "ipython",
    "version": 3
   },
   "file_extension": ".py",
   "mimetype": "text/x-python",
   "name": "python",
   "nbconvert_exporter": "python",
   "pygments_lexer": "ipython3",
   "version": "3.6.7"
  }
 },
 "nbformat": 4,
 "nbformat_minor": 4
}
