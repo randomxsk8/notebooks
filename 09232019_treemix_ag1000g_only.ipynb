{
 "cells": [
  {
   "cell_type": "markdown",
   "metadata": {},
   "source": [
    "# Treemix Ag1000G phase2 populations\n",
    "\n",
    "For build a dataset Treemix I need unlinked SNPs. So I have to prune my allele count datasets to obtain SNPs in high LD.\n",
    "For doing this I need:\n",
    "\n",
    "    - Phase2 Genotype callset\n",
    "    - Phase2 Allele count\n",
    "    \n",
    "Importing modules:"
   ]
  },
  {
   "cell_type": "code",
   "execution_count": 49,
   "metadata": {},
   "outputs": [],
   "source": [
    "%run imports.ipynb"
   ]
  },
  {
   "cell_type": "markdown",
   "metadata": {},
   "source": [
    "Importing callsets:"
   ]
  },
  {
   "cell_type": "code",
   "execution_count": 50,
   "metadata": {},
   "outputs": [],
   "source": [
    "callset_pass= callset_biallel\n",
    "allele_counts= zarr.open('data/phase2_biallel_allele_count.zarr/')\n",
    "outgroup_allele_counts= zarr.open('data/outgroup_alleles_phase2.zarr/')"
   ]
  },
  {
   "cell_type": "markdown",
   "metadata": {},
   "source": [
    "------------------------"
   ]
  },
  {
   "cell_type": "markdown",
   "metadata": {},
   "source": [
    "Taking only segregating SNPs for the phase2 callset:"
   ]
  },
  {
   "cell_type": "code",
   "execution_count": 51,
   "metadata": {},
   "outputs": [],
   "source": [
    "def ingroup_ascertainment(chrom, start, stop, segpops):\n",
    "\n",
    "    # locate region\n",
    "    pos = allel.SortedIndex(callset_pass[chrom]['variants']['POS'][:])\n",
    "    locr = pos.locate_range(start, stop)\n",
    "\n",
    "    # ascertain SNPs\n",
    "    loca = np.zeros(pos.shape, dtype='b1')\n",
    "    loca[locr] = True\n",
    "    log('Populations ascertainment, initial', nnz(loca))\n",
    "    \n",
    "    # require segregating\n",
    "    for pop in segpops:\n",
    "        ac = allel.AlleleCountsArray(allele_counts[chrom][pop][:, :2])\n",
    "        loc_seg = (ac.min(axis=1) > 0)\n",
    "        loca &= loc_seg\n",
    "        log('After require segregating in', pop, nnz(loca))\n",
    "        \n",
    "    return loca"
   ]
  },
  {
   "cell_type": "markdown",
   "metadata": {},
   "source": [
    "Define function for ld pruning. LD-pruning remove SNPs with an high correlation. Using windows this function compute pairwise LD between all SNPs within each window, then removing one SNP from each correlated pair."
   ]
  },
  {
   "cell_type": "code",
   "execution_count": 52,
   "metadata": {},
   "outputs": [],
   "source": [
    "def downsample_and_prune(chrom, start, stop, loc_asc,\n",
    "                         n=100000, ldp_size=500, ldp_step=250, ldp_threshold=.1, ldp_n_iter=1):\n",
    "\n",
    "    # all variant positions\n",
    "    pos = allel.SortedIndex(callset_pass[chrom]['variants']['POS'][:])\n",
    "    posa = pos[loc_asc]\n",
    "\n",
    "    # randomly downsample\n",
    "    if n < posa.shape[0]:\n",
    "        posds = np.random.choice(posa, n, replace=False)\n",
    "        posds.sort()\n",
    "        posds = allel.SortedIndex(posds)\n",
    "    else:\n",
    "        # skip downsampling\n",
    "        posds = posa\n",
    "    locds = pos.locate_keys(posds)    \n",
    "\n",
    "    # load genotype data\n",
    "    genotype = allel.GenotypeChunkedArray(callset_pass[chrom]['calldata/GT'])\n",
    "    geno_subset = genotype.subset(sel0=loc_asc)\n",
    "    gn = geno_subset.to_n_alt()\n",
    "\n",
    "    \n",
    "    # prune    \n",
    "    for i in range(ldp_n_iter):\n",
    "        loc_unlinked = allel.locate_unlinked(gn, size=ldp_size, step=ldp_step, threshold=ldp_threshold)\n",
    "        n = np.count_nonzero(loc_unlinked)\n",
    "        n_remove = gn.shape[0] - n\n",
    "        log('iteration', i+1, 'retaining', n, 'removing', n_remove, 'variants')\n",
    "        gnu = gn.compress(loc_unlinked, axis=0)\n",
    "        posu = pos.compress(loc_unlinked)\n",
    "        locu = pos.locate_keys(posu)\n",
    "\n",
    "    return locu"
   ]
  },
  {
   "cell_type": "markdown",
   "metadata": {},
   "source": [
    "Define function for generating treemix file:"
   ]
  },
  {
   "cell_type": "code",
   "execution_count": 53,
   "metadata": {},
   "outputs": [],
   "source": [
    "def to_treemix(acs, fn):\n",
    "    pops = sorted(acs.keys())\n",
    "    n_variants = acs[pops[0]].shape[0]\n",
    "    n_alleles = acs[pops[0]].shape[1]\n",
    "    assert n_alleles == 2, 'only biallelic variants supported'\n",
    "    for pop in pops[1:]:\n",
    "        assert n_variants == acs[pop].shape[0], 'bad number of variants for pop %s' % pop\n",
    "        assert n_alleles == acs[pop].shape[1], 'bad number of alleles for pop %s' % pop\n",
    "        \n",
    "    with open(fn, 'wt', encoding='ascii') as f:\n",
    "        print(' '.join(pops), file=f)\n",
    "        for i in range(n_variants):\n",
    "            print(' '.join([','.join(map(str, acs[pop][i])) for pop in pops]), file=f)\n"
   ]
  },
  {
   "cell_type": "markdown",
   "metadata": {},
   "source": [
    "Define last function, the analysis function that includes all function above and applies these on my populations, chromosomes and regions of interest."
   ]
  },
  {
   "cell_type": "code",
   "execution_count": 54,
   "metadata": {},
   "outputs": [],
   "source": [
    "def run_analysis(rname, chrom, start, stop, segpops,\n",
    "                 n=100000, ldp_size=500, ldp_step=250, ldp_threshold=.1, ldp_n_iter=1):\n",
    "\n",
    "    # initial ascertainment\n",
    "    loc_asc = ingroup_ascertainment(chrom, start, stop, segpops=segpops)\n",
    "    \n",
    "    # downsample and prune\n",
    "    locu = downsample_and_prune(chrom, start, stop, loc_asc, \n",
    "                                n=n, ldp_size=ldp_size, ldp_step=ldp_step, \n",
    "                                ldp_threshold=ldp_threshold, ldp_n_iter=ldp_n_iter)\n",
    "    \n",
    "    # write allele counts\n",
    "    acsu = dict()\n",
    "    for pop in populations:\n",
    "        acsu[pop] = allele_counts[chrom][pop][:, :2][locu]\n",
    "\n",
    "    outdir = 'data/treemix/seg_%s_ldp_%s' % ('_'.join(segpops), ldp_n_iter)\n",
    "    !mkdir -pv {outdir}\n",
    "    fn = os.path.join(outdir, '%s.allele_counts.txt' % rname)\n",
    "    to_treemix(acsu, fn)\n",
    "    !gzip -fv {fn}"
   ]
  },
  {
   "cell_type": "markdown",
   "metadata": {},
   "source": [
    "Declaring values for generating my treemix file and ran on it for chromosome 3R, 3L, X, and the X region involved on speciation between <i>An.gambiae</i> and <i>An.coluzzii</i>"
   ]
  },
  {
   "cell_type": "code",
   "execution_count": 55,
   "metadata": {},
   "outputs": [],
   "source": [
    "segpops = ['AOcol', 'BFcol', 'CIcol', 'GHcol', 'GNcol','GHgam', 'CMgam', 'BFgam', 'GNgam', 'GQgam', 'UGgam', 'GAgam', 'FRgam','KE', 'GM', 'GW']\n",
    "n = 100000\n",
    "ldp_n_iter = 1\n",
    "region_X_speciation = 'X-speciation', 'X', 15000000, 24000000 \n",
    "region_X_free = 'X-free', 'X', 1, 14000000 \n",
    "region_3L_free = '3L-free', '3L', 15000000, 41000000\n",
    "region_3R_free = '3R-free', '3R', 1, 37000000 "
   ]
  },
  {
   "cell_type": "code",
   "execution_count": 46,
   "metadata": {},
   "outputs": [
    {
     "name": "stdout",
     "output_type": "stream",
     "text": [
      "3L-free 3L 15000000 41000000\n",
      "ingroup ascertainment, initial 5989818\n",
      "after require segregating in AOcol 672596\n",
      "after require segregating in BFcol 448836\n",
      "after require segregating in CIcol 392968\n",
      "after require segregating in GHcol 368591\n",
      "after require segregating in GNcol 190540\n",
      "after require segregating in GHgam 168923\n",
      "after require segregating in CMgam 168833\n",
      "after require segregating in BFgam 168532\n",
      "after require segregating in GNgam 167228\n",
      "after require segregating in GQgam 146236\n",
      "after require segregating in UGgam 146178\n",
      "after require segregating in GAgam 142414\n",
      "after require segregating in FRgam 96294\n",
      "after require segregating in KE 68187\n",
      "after require segregating in GM 68141\n",
      "after require segregating in GW 68139\n",
      "iteration 1 retaining 48664 removing 19475 variants\n",
      "data/treemix/seg_AOcol_BFcol_CIcol_GHcol_GNcol_GHgam_CMgam_BFgam_GNgam_GQgam_UGgam_GAgam_FRgam_KE_GM_GW_ldp_1/3L-free.allele_counts.txt:\t 92.5% -- replaced with data/treemix/seg_AOcol_BFcol_CIcol_GHcol_GNcol_GHgam_CMgam_BFgam_GNgam_GQgam_UGgam_GAgam_FRgam_KE_GM_GW_ldp_1/3L-free.allele_counts.txt.gz\n"
     ]
    }
   ],
   "source": [
    "rname, chrom, start, stop = region_3L_free\n",
    "log(rname, chrom, start, stop)\n",
    "run_analysis(rname, chrom, start, stop, segpops,n=n, ldp_n_iter=ldp_n_iter)"
   ]
  },
  {
   "cell_type": "code",
   "execution_count": 45,
   "metadata": {},
   "outputs": [
    {
     "name": "stdout",
     "output_type": "stream",
     "text": [
      "3R-free 3R 1 37000000\n",
      "ingroup ascertainment, initial 8535400\n",
      "after require segregating in AOcol 944999\n",
      "after require segregating in BFcol 632162\n",
      "after require segregating in CIcol 555287\n",
      "after require segregating in GHcol 520052\n",
      "after require segregating in GNcol 270605\n",
      "after require segregating in GHgam 238337\n",
      "after require segregating in CMgam 238226\n",
      "after require segregating in BFgam 237796\n",
      "after require segregating in GNgam 236126\n",
      "after require segregating in GQgam 204576\n",
      "after require segregating in UGgam 204483\n",
      "after require segregating in GAgam 200000\n",
      "after require segregating in FRgam 134437\n",
      "after require segregating in KE 94097\n",
      "after require segregating in GM 94004\n",
      "after require segregating in GW 93998\n",
      "iteration 1 retaining 66465 removing 27533 variants\n",
      "mkdir: created directory 'data/treemix'\n",
      "mkdir: created directory 'data/treemix/seg_AOcol_BFcol_CIcol_GHcol_GNcol_GHgam_CMgam_BFgam_GNgam_GQgam_UGgam_GAgam_FRgam_KE_GM_GW_ldp_1'\n",
      "data/treemix/seg_AOcol_BFcol_CIcol_GHcol_GNcol_GHgam_CMgam_BFgam_GNgam_GQgam_UGgam_GAgam_FRgam_KE_GM_GW_ldp_1/3R-free.allele_counts.txt:\t 92.8% -- replaced with data/treemix/seg_AOcol_BFcol_CIcol_GHcol_GNcol_GHgam_CMgam_BFgam_GNgam_GQgam_UGgam_GAgam_FRgam_KE_GM_GW_ldp_1/3R-free.allele_counts.txt.gz\n"
     ]
    }
   ],
   "source": [
    "rname, chrom, start, stop = region_3R_free\n",
    "log(rname, chrom, start, stop)\n",
    "run_analysis(rname, chrom, start, stop, segpops,n=n, ldp_n_iter=ldp_n_iter) #outgroups"
   ]
  },
  {
   "cell_type": "code",
   "execution_count": 47,
   "metadata": {},
   "outputs": [
    {
     "name": "stdout",
     "output_type": "stream",
     "text": [
      "X-free X 1 14000000\n",
      "ingroup ascertainment, initial 3357129\n",
      "after require segregating in AOcol 283965\n",
      "after require segregating in BFcol 173888\n",
      "after require segregating in CIcol 146215\n",
      "after require segregating in GHcol 135601\n",
      "after require segregating in GNcol 55134\n",
      "after require segregating in GHgam 48802\n",
      "after require segregating in CMgam 48790\n",
      "after require segregating in BFgam 48695\n",
      "after require segregating in GNgam 48384\n",
      "after require segregating in GQgam 40476\n",
      "after require segregating in UGgam 40466\n",
      "after require segregating in GAgam 38465\n",
      "after require segregating in FRgam 16632\n",
      "after require segregating in KE 9986\n",
      "after require segregating in GM 9980\n",
      "after require segregating in GW 9980\n",
      "iteration 1 retaining 8207 removing 1773 variants\n",
      "data/treemix/seg_AOcol_BFcol_CIcol_GHcol_GNcol_GHgam_CMgam_BFgam_GNgam_GQgam_UGgam_GAgam_FRgam_KE_GM_GW_ldp_1/X-free.allele_counts.txt:\t 93.6% -- replaced with data/treemix/seg_AOcol_BFcol_CIcol_GHcol_GNcol_GHgam_CMgam_BFgam_GNgam_GQgam_UGgam_GAgam_FRgam_KE_GM_GW_ldp_1/X-free.allele_counts.txt.gz\n"
     ]
    }
   ],
   "source": [
    "rname, chrom, start, stop = region_X_free\n",
    "log(rname, chrom, start, stop)\n",
    "run_analysis(rname, chrom, start, stop, segpops, n=n, ldp_n_iter=ldp_n_iter)"
   ]
  },
  {
   "cell_type": "code",
   "execution_count": 56,
   "metadata": {},
   "outputs": [
    {
     "name": "stdout",
     "output_type": "stream",
     "text": [
      "X-speciation X 15000000 24000000\n",
      "Populations ascertainment, initial 883199\n",
      "After require segregating in AOcol 54420\n",
      "After require segregating in BFcol 22465\n",
      "After require segregating in CIcol 18595\n",
      "After require segregating in GHcol 17516\n",
      "After require segregating in GNcol 7051\n",
      "After require segregating in GHgam 2757\n",
      "After require segregating in CMgam 2734\n",
      "After require segregating in BFgam 2634\n",
      "After require segregating in GNgam 2549\n",
      "After require segregating in GQgam 1574\n",
      "After require segregating in UGgam 1570\n",
      "After require segregating in GAgam 1331\n",
      "After require segregating in FRgam 553\n",
      "After require segregating in KE 350\n",
      "After require segregating in GM 347\n",
      "After require segregating in GW 347\n",
      "iteration 1 retaining 149 removing 198 variants\n",
      "data/treemix/seg_AOcol_BFcol_CIcol_GHcol_GNcol_GHgam_CMgam_BFgam_GNgam_GQgam_UGgam_GAgam_FRgam_KE_GM_GW_ldp_1/X-speciation.allele_counts.txt:\t 92.8% -- replaced with data/treemix/seg_AOcol_BFcol_CIcol_GHcol_GNcol_GHgam_CMgam_BFgam_GNgam_GQgam_UGgam_GAgam_FRgam_KE_GM_GW_ldp_1/X-speciation.allele_counts.txt.gz\n"
     ]
    }
   ],
   "source": [
    "rname, chrom, start, stop = region_X_speciation\n",
    "log(rname, chrom, start, stop)\n",
    "run_analysis(rname, chrom, start, stop, segpops, n=n, ldp_n_iter=ldp_n_iter)"
   ]
  },
  {
   "cell_type": "markdown",
   "metadata": {},
   "source": [
    "## Treemix\n",
    "\n",
    "Total SNPs per chromosomes:\n",
    "- <b>3L-free</b>: 48664 SNPs\n",
    "- <b>3R-free</b>: 66465 SNPs\n",
    "- <b>X-free</b>: 8207 SNPs\n",
    "- <b>X-speciation</b>: 149 SNPs"
   ]
  },
  {
   "cell_type": "code",
   "execution_count": 2,
   "metadata": {},
   "outputs": [],
   "source": [
    "from IPython.display import Image"
   ]
  },
  {
   "cell_type": "markdown",
   "metadata": {},
   "source": [
    "### 3L-free"
   ]
  },
  {
   "cell_type": "markdown",
   "metadata": {},
   "source": [
    "### 3R-free"
   ]
  },
  {
   "cell_type": "markdown",
   "metadata": {},
   "source": [
    "### X-free"
   ]
  },
  {
   "cell_type": "markdown",
   "metadata": {},
   "source": [
    "### X-speciation"
   ]
  }
 ],
 "metadata": {
  "kernelspec": {
   "display_name": "Python 3",
   "language": "python",
   "name": "python3"
  },
  "language_info": {
   "codemirror_mode": {
    "name": "ipython",
    "version": 3
   },
   "file_extension": ".py",
   "mimetype": "text/x-python",
   "name": "python",
   "nbconvert_exporter": "python",
   "pygments_lexer": "ipython3",
   "version": "3.6.7"
  }
 },
 "nbformat": 4,
 "nbformat_minor": 4
}
