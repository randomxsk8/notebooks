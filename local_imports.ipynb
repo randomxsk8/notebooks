{
 "cells": [
  {
   "cell_type": "code",
   "execution_count": 1,
   "metadata": {},
   "outputs": [
    {
     "ename": "ModuleNotFoundError",
     "evalue": "No module named 'Bio'",
     "output_type": "error",
     "traceback": [
      "\u001b[1;31m---------------------------------------------------------------------------\u001b[0m",
      "\u001b[1;31mModuleNotFoundError\u001b[0m                       Traceback (most recent call last)",
      "\u001b[1;32mD:\\Drive\\Dropbox\\Ag1000G_carlo\\notebooks\\imports_20150407.ipynb\u001b[0m in \u001b[0;36m<module>\u001b[1;34m\u001b[0m\n\u001b[0;32m      1\u001b[0m \u001b[1;31m# bio third party packages\u001b[0m\u001b[1;33m\u001b[0m\u001b[1;33m\u001b[0m\u001b[1;33m\u001b[0m\u001b[0m\n\u001b[0;32m      2\u001b[0m \u001b[1;33m\u001b[0m\u001b[0m\n\u001b[1;32m----> 3\u001b[1;33m \u001b[1;32mimport\u001b[0m \u001b[0mBio\u001b[0m\u001b[1;33m\u001b[0m\u001b[1;33m\u001b[0m\u001b[0m\n\u001b[0m\u001b[0;32m      4\u001b[0m \u001b[1;33m\u001b[0m\u001b[0m\n\u001b[0;32m      5\u001b[0m \u001b[1;32mimport\u001b[0m \u001b[0mpyfasta\u001b[0m\u001b[1;33m\u001b[0m\u001b[1;33m\u001b[0m\u001b[0m\n",
      "\u001b[1;31mModuleNotFoundError\u001b[0m: No module named 'Bio'"
     ]
    }
   ],
   "source": [
    "%run imports_20150407.ipynb ##run alistair modules\n",
    "%run utils.ipynb"
   ]
  },
  {
   "cell_type": "code",
   "execution_count": 1,
   "metadata": {},
   "outputs": [],
   "source": [
    "import os\n",
    "import allel\n",
    "import zarr\n",
    "import pandas as pd\n",
    "import h5py\n",
    "import petl as etl\n",
    "import petlx.bio\n",
    "import dask\n",
    "import numpy as np\n",
    "import matplotlib.pyplot as plt\n",
    "import seaborn as sns\n",
    "import h5py\n",
    "import pyfasta\n",
    "import random\n",
    "import itertools\n",
    "import csv\n",
    "import getpass\n",
    "import cython\n",
    "import sys\n",
    "import gc\n",
    "import datetime\n",
    "import humanize\n",
    "from humanize import naturalsize, intcomma, intword\n",
    "\n",
    "\n",
    "def log(*msg):\n",
    "    print(' '.join(map(str, msg)), file=sys.stdout)\n",
    "    sys.stdout.flush()\n",
    "    \n",
    "from contextlib import contextmanager\n",
    "\n",
    "@contextmanager\n",
    "def timer(*msg):\n",
    "    before = datetime.datetime.now()\n",
    "    try:\n",
    "        yield\n",
    "    except:\n",
    "        after = datetime.datetime.now()\n",
    "        elapsed = (after - before).total_seconds()\n",
    "        done = 'errored after %s' % humanize.naturaldelta(elapsed)\n",
    "        if not msg:\n",
    "            msg = done\n",
    "        else:\n",
    "            msg = ', '.join(map(str, msg)) + ', ' + done\n",
    "        print(msg, file=sys.stderr)\n",
    "        sys.stderr.flush()   \n",
    "        raise\n",
    "    else:\n",
    "        after = datetime.datetime.now()\n",
    "        elapsed = (after - before).total_seconds()\n",
    "        done = 'done in %s' % humanize.naturaldelta(elapsed)\n",
    "        if not msg:\n",
    "            msg = done\n",
    "        else:\n",
    "            msg = ', '.join(map(str, msg)) + ', ' + done\n",
    "        print(msg, file=sys.stdout)\n",
    "        sys.stdout.flush()"
   ]
  },
  {
   "cell_type": "code",
   "execution_count": 3,
   "metadata": {},
   "outputs": [],
   "source": [
    "palette = sns.color_palette()"
   ]
  },
  {
   "cell_type": "markdown",
   "metadata": {},
   "source": [
    "-----------------------------------------------"
   ]
  },
  {
   "cell_type": "code",
   "execution_count": 1,
   "metadata": {},
   "outputs": [],
   "source": [
    "populations = ['AOcol', 'BFcol', 'CIcol', 'GHcol', 'GNcol','GHgam', 'CMgam', 'BFgam', 'GNgam', 'GQgam', 'UGgam', 'GAgam', 'FRgam','KE', 'GM', 'GW']"
   ]
  },
  {
   "cell_type": "code",
   "execution_count": null,
   "metadata": {},
   "outputs": [],
   "source": []
  }
 ],
 "metadata": {
  "kernelspec": {
   "display_name": "Python 3",
   "language": "python",
   "name": "python3"
  },
  "language_info": {
   "codemirror_mode": {
    "name": "ipython",
    "version": 3
   },
   "file_extension": ".py",
   "mimetype": "text/x-python",
   "name": "python",
   "nbconvert_exporter": "python",
   "pygments_lexer": "ipython3",
   "version": "3.6.7"
  }
 },
 "nbformat": 4,
 "nbformat_minor": 4
}
