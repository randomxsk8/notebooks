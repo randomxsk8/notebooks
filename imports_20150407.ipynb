{
 "cells": [
  {
   "cell_type": "markdown",
   "metadata": {},
   "source": [
    "Pinned imports and utility functions. Use in other notebooks, e.g.:\n",
    "\n",
    "```\n",
    "%run imports_20150407.ipynb\n",
    "```"
   ]
  },
  {
   "cell_type": "markdown",
   "metadata": {},
   "source": [
    "## Imports"
   ]
  },
  {
   "cell_type": "code",
   "execution_count": 1,
   "metadata": {
    "collapsed": false,
    "jupyter": {
     "outputs_hidden": false
    }
   },
   "outputs": [],
   "source": [
    "# python standard library\n",
    "import sys\n",
    "import os\n",
    "import operator\n",
    "import itertools\n",
    "import collections\n",
    "import functools\n",
    "import glob\n",
    "import csv\n",
    "import datetime\n",
    "import bisect\n",
    "import sqlite3\n",
    "import subprocess\n",
    "import random\n",
    "import gc\n",
    "import shutil\n",
    "import shelve"
   ]
  },
  {
   "cell_type": "code",
   "execution_count": 2,
   "metadata": {
    "collapsed": false,
    "jupyter": {
     "outputs_hidden": false
    }
   },
   "outputs": [],
   "source": [
    "# general purpose third party packages\n",
    "\n",
    "import cython\n",
    "%reload_ext Cython\n",
    "\n",
    "import numpy as np\n",
    "nnz = np.count_nonzero\n",
    "\n",
    "import scipy\n",
    "import scipy.stats\n",
    "import scipy.spatial.distance\n",
    "\n",
    "import numexpr\n",
    "\n",
    "import h5py\n",
    "\n",
    "import tables\n",
    "\n",
    "import bcolz\n",
    "\n",
    "import pandas\n",
    "\n",
    "import IPython\n",
    "# from IPython.html.widgets import interact, interactive\n",
    "# from IPython.html import widgets\n",
    "from IPython.display import clear_output, display, HTML\n",
    "\n",
    "\n",
    "\n",
    "import statsmodels\n",
    "\n",
    "import sklearn\n",
    "import sklearn.decomposition\n",
    "import sklearn.manifold\n",
    "\n",
    "\n",
    "import sqlalchemy\n",
    "\n",
    "\n",
    "\n",
    "import petl as etl\n",
    "etl.config.display_index_header = True\n",
    "\n",
    "import humanize\n",
    "# VERSION (0, 4) doesn't match PyPI (0.5.1)\n",
    "from humanize import naturalsize, intcomma, intword"
   ]
  },
  {
   "cell_type": "code",
   "execution_count": 1,
   "metadata": {
    "collapsed": false,
    "jupyter": {
     "outputs_hidden": false
    }
   },
   "outputs": [],
   "source": [
    "# plotting setup\n",
    "%matplotlib inline\n",
    "import matplotlib as plt\n",
    "from matplotlib.colors import ListedColormap\n",
    "from matplotlib.gridspec import GridSpec\n",
    "\n",
    "import matplotlib_venn as venn\n",
    "\n",
    "import seaborn as sns\n",
    "sns.set_context('paper')\n",
    "sns.set_style('white')\n",
    "sns.set_style('ticks')\n",
    "\n",
    "rcParams = plt.rcParams\n",
    "rcParams['font.size'] = 9\n",
    "rcParams['axes.labelsize'] = 9\n",
    "rcParams['xtick.labelsize'] = 9\n",
    "rcParams['ytick.labelsize'] = 9\n",
    "rcParams['legend.fontsize'] = 9\n",
    "rcParams['axes.linewidth'] = .5\n",
    "rcParams['lines.linewidth'] = .5\n",
    "rcParams['patch.linewidth'] = .5\n",
    "rcParams['font.family'] = 'arial'\n",
    "rcParams['ytick.direction'] = 'out'\n",
    "rcParams['xtick.direction'] = 'out'\n",
    "rcParams['savefig.jpeg_quality'] = 100\n",
    "rcParams['savefig.dpi'] = 120\n",
    "rcParams['lines.markeredgewidth'] = .5"
   ]
  },
  {
   "cell_type": "code",
   "execution_count": 4,
   "metadata": {
    "collapsed": false,
    "jupyter": {
     "outputs_hidden": false
    }
   },
   "outputs": [],
   "source": [
    "# bio third party packages\n",
    "\n",
    "import Bio\n",
    "\n",
    "import pyfasta\n",
    "# no version identifier, cannot verify version\n",
    "\n",
    "import pysam\n",
    "\n",
    "import pysamstats\n",
    "\n",
    "import petlx\n",
    "import petlx.bio\n",
    "\n",
    "import vcf"
   ]
  },
  {
   "cell_type": "code",
   "execution_count": 5,
   "metadata": {
    "collapsed": false,
    "jupyter": {
     "outputs_hidden": false
    }
   },
   "outputs": [
    {
     "name": "stdout",
     "output_type": "stream",
     "text": [
      "allel 0.11\n"
     ]
    }
   ],
   "source": [
    "import allel\n",
    "# be flexible about version\n",
    "print('allel', allel.__version__)"
   ]
  },
  {
   "cell_type": "markdown",
   "metadata": {},
   "source": [
    "## Utility functions"
   ]
  },
  {
   "cell_type": "code",
   "execution_count": 6,
   "metadata": {
    "collapsed": true,
    "jupyter": {
     "outputs_hidden": true
    }
   },
   "outputs": [],
   "source": [
    "import sys\n",
    "\n",
    "\n",
    "def log(*msg):\n",
    "    print(' '.join(map(str, msg)), file=sys.stdout)\n",
    "    sys.stdout.flush()\n",
    "    \n",
    "from contextlib import contextmanager\n",
    "\n",
    "@contextmanager\n",
    "def timer(*msg):\n",
    "    before = datetime.datetime.now()\n",
    "    try:\n",
    "        yield\n",
    "    except:\n",
    "        after = datetime.datetime.now()\n",
    "        elapsed = (after - before).total_seconds()\n",
    "        done = 'errored after %s' % humanize.naturaldelta(elapsed)\n",
    "        if not msg:\n",
    "            msg = done\n",
    "        else:\n",
    "            msg = ', '.join(map(str, msg)) + ', ' + done\n",
    "        print(msg, file=sys.stderr)\n",
    "        sys.stderr.flush()   \n",
    "        raise\n",
    "    else:\n",
    "        after = datetime.datetime.now()\n",
    "        elapsed = (after - before).total_seconds()\n",
    "        done = 'done in %s' % humanize.naturaldelta(elapsed)\n",
    "        if not msg:\n",
    "            msg = done\n",
    "        else:\n",
    "            msg = ', '.join(map(str, msg)) + ', ' + done\n",
    "        print(msg, file=sys.stdout)\n",
    "        sys.stdout.flush()"
   ]
  },
  {
   "cell_type": "code",
   "execution_count": 7,
   "metadata": {
    "collapsed": true,
    "jupyter": {
     "outputs_hidden": true
    }
   },
   "outputs": [],
   "source": [
    "def cache_hdf5(path, *names, **h5dcreate_kwargs):\n",
    "    h5dcreate_kwargs.setdefault('chunks', True)\n",
    "    h5dcreate_kwargs.setdefault('compression', 'gzip')\n",
    "    def decorator(f):\n",
    "        def wrapper(*args, **kwargs):\n",
    "            result = None\n",
    "\n",
    "            # be verbose\n",
    "            verbose = kwargs.pop('verbose', True)\n",
    "            # don't repeat yourself\n",
    "            dry = kwargs.pop('dry', True)\n",
    "            # skip loading if cached\n",
    "            skip = kwargs.pop('skip', False)\n",
    "            \n",
    "            # group name\n",
    "            grp = '/'.join(map(str, args))\n",
    "            \n",
    "            with h5py.File(path, mode='a') as h5f:\n",
    "                h5g = h5f.require_group(grp)\n",
    "                \n",
    "                if dry and '__success__' in h5g.attrs:\n",
    "                    # no need to build\n",
    "                    if skip:\n",
    "                        if verbose:\n",
    "                            log('skipping', *args)\n",
    "                    else:\n",
    "                        if verbose:\n",
    "                            log('loading', *args)\n",
    "                        if len(names) == 1:\n",
    "                            result = h5g[names[0]][:]\n",
    "                        else:\n",
    "                            result = [h5g[n][:] for n in names]\n",
    "                        \n",
    "                else:\n",
    "                    # need to build\n",
    "                    if verbose:\n",
    "                        log('building', *args)\n",
    "                    \n",
    "                    # reset success mark if present\n",
    "                    if '__success__' in h5g.attrs:\n",
    "                        del h5g.attrs['__success__']\n",
    "                        \n",
    "                    # compute result\n",
    "                    result = f(*args)\n",
    "                    \n",
    "                    if verbose:\n",
    "                        log('saving', *args)\n",
    "                    if len(names) == 1:\n",
    "                        n = names[0]\n",
    "                        if n in h5g:\n",
    "                            del h5g[n]\n",
    "                        h5g.create_dataset(n, data=result, **h5dcreate_kwargs)\n",
    "                    else:\n",
    "                        for n, r in zip(names, result):\n",
    "                            if n in h5g:\n",
    "                                del h5g[n]\n",
    "                            h5g.create_dataset(n, data=r, **h5dcreate_kwargs)\n",
    "                            \n",
    "                    # mark success\n",
    "                    h5g.attrs['__success__'] = True\n",
    "\n",
    "            return result\n",
    "        return wrapper\n",
    "    return decorator\n",
    "                "
   ]
  },
  {
   "cell_type": "code",
   "execution_count": 8,
   "metadata": {
    "collapsed": true,
    "jupyter": {
     "outputs_hidden": true
    }
   },
   "outputs": [],
   "source": [
    "autosomes = '2R', '2L', '3R', '3L'\n",
    "chromosomes = autosomes + ('X',)\n",
    "\n",
    "\n",
    "class GenomeFigure(object):\n",
    "    \n",
    "    def __init__(self, genome, *args, **kwargs):\n",
    "        self.chromosomes = kwargs.pop('chromosomes', ['2R', '2L', '3R', '3L', 'X'])\n",
    "        maxchrsize = max(np.array(genome[chrom]).size for chrom in self.chromosomes)\n",
    "        fig = plt.figure(*args, **kwargs)\n",
    "        self.fig = fig\n",
    "        self.ax = dict()\n",
    "        for i, chrom in enumerate(self.chromosomes):\n",
    "            ax = fig.add_subplot(3, 2, i+1)\n",
    "            self.ax[chrom] = ax\n",
    "            S = np.array(genome[chrom])\n",
    "            if i % 2 == 1:\n",
    "                sns.despine(ax=ax, offset=10, top=True, left=True, right=False)\n",
    "                ax.set_xlim(0, maxchrsize)\n",
    "                ax.yaxis.tick_right()\n",
    "                ax.yaxis.set_label_position('right')\n",
    "            else:\n",
    "                ax.set_xlim((S.size)-(maxchrsize), S.size)\n",
    "                ax.yaxis.tick_left()\n",
    "                sns.despine(ax=ax, offset=10, top=True, left=False, right=True)\n",
    "            ax.set_xticks(range(0, S.size, int(5e6)))\n",
    "            ax.set_xticklabels(range(0, int(S.size/1e6), 5))\n",
    "            ax.set_title(chrom, fontweight='bold')\n",
    "            ax.xaxis.tick_bottom()\n",
    "        fig.tight_layout()\n",
    "        \n",
    "    def apply(self, f, **kwargs):\n",
    "        chromosomes = kwargs.pop('chromosomes', self.chromosomes)\n",
    "        for chrom in chromosomes:\n",
    "            ax = self.ax[chrom]\n",
    "            f(chrom, ax, **kwargs)\n",
    "        \n",
    "        \n",
    "def subplots(*args, **kwargs):\n",
    "    fig, ax = plt.subplots(*args, **kwargs)\n",
    "    sns.despine(ax=ax, offset=10)\n",
    "    return fig, ax"
   ]
  },
  {
   "cell_type": "code",
   "execution_count": 5,
   "metadata": {
    "collapsed": false,
    "jupyter": {
     "outputs_hidden": false
    }
   },
   "outputs": [],
   "source": []
  }
 ],
 "metadata": {
  "kernelspec": {
   "display_name": "Python 3",
   "language": "python",
   "name": "python3"
  },
  "language_info": {
   "codemirror_mode": {
    "name": "ipython",
    "version": 3
   },
   "file_extension": ".py",
   "mimetype": "text/x-python",
   "name": "python",
   "nbconvert_exporter": "python",
   "pygments_lexer": "ipython3",
   "version": "3.6.7"
  }
 },
 "nbformat": 4,
 "nbformat_minor": 4
}
