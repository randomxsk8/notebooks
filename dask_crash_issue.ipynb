{
 "cells": [
  {
   "cell_type": "code",
   "execution_count": 1,
   "metadata": {},
   "outputs": [],
   "source": [
    "%run imports.ipynb\n",
    "%run '08222019_functions.ipynb'"
   ]
  },
  {
   "cell_type": "code",
   "execution_count": 2,
   "metadata": {},
   "outputs": [
    {
     "data": {
      "application/vnd.jupyter.widget-view+json": {
       "model_id": "0838e9f55d884cfa819c246787a842f3",
       "version_major": 2,
       "version_minor": 0
      },
      "text/plain": [
       "VBox(children=(HTML(value='<h2>KubeCluster</h2>'), HBox(children=(HTML(value='\\n<div>\\n  <style scoped>\\n    .…"
      ]
     },
     "metadata": {},
     "output_type": "display_data"
    }
   ],
   "source": [
    "from dask_kubernetes import KubeCluster\n",
    "cluster = KubeCluster(n_workers=30)\n",
    "cluster"
   ]
  },
  {
   "cell_type": "code",
   "execution_count": 3,
   "metadata": {},
   "outputs": [
    {
     "data": {
      "text/html": [
       "<table style=\"border: 2px solid white;\">\n",
       "<tr>\n",
       "<td style=\"vertical-align: top; border: 0px solid white\">\n",
       "<h3 style=\"text-align: left;\">Client</h3>\n",
       "<ul style=\"text-align: left; list-style: none; margin: 0; padding: 0;\">\n",
       "  <li><b>Scheduler: </b>tcp://10.35.63.174:34937</li>\n",
       "  <li><b>Dashboard: </b><a href='/user/carlo%20mariade%20marco1/proxy/8787/status' target='_blank'>/user/carlo%20mariade%20marco1/proxy/8787/status</a>\n",
       "</ul>\n",
       "</td>\n",
       "<td style=\"vertical-align: top; border: 0px solid white\">\n",
       "<h3 style=\"text-align: left;\">Cluster</h3>\n",
       "<ul style=\"text-align: left; list-style:none; margin: 0; padding: 0;\">\n",
       "  <li><b>Workers: </b>0</li>\n",
       "  <li><b>Cores: </b>0</li>\n",
       "  <li><b>Memory: </b>0 B</li>\n",
       "</ul>\n",
       "</td>\n",
       "</tr>\n",
       "</table>"
      ],
      "text/plain": [
       "<Client: 'tcp://10.35.63.174:34937' processes=0 threads=0, memory=0 B>"
      ]
     },
     "execution_count": 3,
     "metadata": {},
     "output_type": "execute_result"
    }
   ],
   "source": [
    "from dask.distributed import Client\n",
    "client = Client(cluster)\n",
    "client"
   ]
  },
  {
   "cell_type": "code",
   "execution_count": 6,
   "metadata": {},
   "outputs": [
    {
     "data": {
      "text/html": [
       "<div class=\"allel allel-DisplayAs1D\"><span>&lt;SortedIndex shape=(10752701,) dtype=int32&gt;</span><table><thead><tr><th style=\"text-align: center\">0</th><th style=\"text-align: center\">1</th><th style=\"text-align: center\">2</th><th style=\"text-align: center\">3</th><th style=\"text-align: center\">4</th><th style=\"text-align: center\">...</th><th style=\"text-align: center\">10752696</th><th style=\"text-align: center\">10752697</th><th style=\"text-align: center\">10752698</th><th style=\"text-align: center\">10752699</th><th style=\"text-align: center\">10752700</th></tr></thead><tbody><tr><td style=\"text-align: center\">9526</td><td style=\"text-align: center\">9531</td><td style=\"text-align: center\">9544</td><td style=\"text-align: center\">9546</td><td style=\"text-align: center\">9549</td><td style=\"text-align: center\">...</td><td style=\"text-align: center\">53195257</td><td style=\"text-align: center\">53195262</td><td style=\"text-align: center\">53195269</td><td style=\"text-align: center\">53195273</td><td style=\"text-align: center\">53195279</td></tr></tbody></table></div>"
      ],
      "text/plain": [
       "<SortedIndex shape=(10752701,) dtype=int32>\n",
       "[9526, 9531, 9544, 9546, 9549, ..., 53195257, 53195262, 53195269, 53195273, 53195279]"
      ]
     },
     "execution_count": 6,
     "metadata": {},
     "output_type": "execute_result"
    }
   ],
   "source": [
    "metadata = pd.read_csv(\"samples.meta.txt\", sep=\"\\t\")\n",
    "pos_all = allel.SortedIndex(callset_biallel['3R'][\"variants/POS\"])\n",
    "pos_all"
   ]
  },
  {
   "cell_type": "markdown",
   "metadata": {},
   "source": [
    "----------------------------------------\n",
    "First way."
   ]
  },
  {
   "cell_type": "code",
   "execution_count": null,
   "metadata": {},
   "outputs": [],
   "source": [
    "loc = pos_all.locate_range(1_000_000, 24_000_000)\n",
    "geno = allel.GenotypeChunkedArray(callset_biallel['3R'][\"calldata/GT\"][loc]) \n",
    "\n",
    "### CRASH also using GenotypeDaskArray"
   ]
  },
  {
   "cell_type": "markdown",
   "metadata": {},
   "source": [
    "-------------------------------------------------"
   ]
  },
  {
   "cell_type": "markdown",
   "metadata": {},
   "source": [
    "Second way."
   ]
  },
  {
   "cell_type": "code",
   "execution_count": 5,
   "metadata": {},
   "outputs": [
    {
     "data": {
      "text/html": [
       "<div class=\"allel allel-DisplayAs2D\"><span>&lt;GenotypeChunkedArray shape=(5506386, 1142, 2) dtype=int8 chunks=(2689, 1142, 2)\n",
       "   nbytes=11.7G cbytes=485.4M cratio=24.7\n",
       "   compression=blosc compression_opts={'cname': 'lz4', 'clevel': 5, 'shuffle': 1, 'blocksize': 0}\n",
       "   values=zarr.core.Array&gt;</span><table><thead><tr><th></th><th style=\"text-align: center\">0</th><th style=\"text-align: center\">1</th><th style=\"text-align: center\">2</th><th style=\"text-align: center\">3</th><th style=\"text-align: center\">4</th><th style=\"text-align: center\">...</th><th style=\"text-align: center\">1137</th><th style=\"text-align: center\">1138</th><th style=\"text-align: center\">1139</th><th style=\"text-align: center\">1140</th><th style=\"text-align: center\">1141</th></tr></thead><tbody><tr><th style=\"text-align: center; background-color: white; border-right: 1px solid black; \">0</th><td style=\"text-align: center\">0/0</td><td style=\"text-align: center\">0/0</td><td style=\"text-align: center\">0/0</td><td style=\"text-align: center\">0/0</td><td style=\"text-align: center\">0/0</td><td style=\"text-align: center\">...</td><td style=\"text-align: center\">0/0</td><td style=\"text-align: center\">0/0</td><td style=\"text-align: center\">0/0</td><td style=\"text-align: center\">0/0</td><td style=\"text-align: center\">0/0</td></tr><tr><th style=\"text-align: center; background-color: white; border-right: 1px solid black; \">1</th><td style=\"text-align: center\">0/0</td><td style=\"text-align: center\">0/0</td><td style=\"text-align: center\">0/0</td><td style=\"text-align: center\">0/0</td><td style=\"text-align: center\">0/0</td><td style=\"text-align: center\">...</td><td style=\"text-align: center\">0/0</td><td style=\"text-align: center\">0/0</td><td style=\"text-align: center\">0/0</td><td style=\"text-align: center\">0/0</td><td style=\"text-align: center\">0/0</td></tr><tr><th style=\"text-align: center; background-color: white; border-right: 1px solid black; \">2</th><td style=\"text-align: center\">0/0</td><td style=\"text-align: center\">0/0</td><td style=\"text-align: center\">0/0</td><td style=\"text-align: center\">0/0</td><td style=\"text-align: center\">0/0</td><td style=\"text-align: center\">...</td><td style=\"text-align: center\">0/0</td><td style=\"text-align: center\">0/0</td><td style=\"text-align: center\">0/0</td><td style=\"text-align: center\">0/0</td><td style=\"text-align: center\">0/0</td></tr><tr><th style=\"text-align: center; background-color: white; border-right: 1px solid black; \">...</th><td style=\"text-align: center\" colspan=\"12\">...</td></tr><tr><th style=\"text-align: center; background-color: white; border-right: 1px solid black; \">5506383</th><td style=\"text-align: center\">0/0</td><td style=\"text-align: center\">0/0</td><td style=\"text-align: center\">0/0</td><td style=\"text-align: center\">0/0</td><td style=\"text-align: center\">0/0</td><td style=\"text-align: center\">...</td><td style=\"text-align: center\">0/0</td><td style=\"text-align: center\">0/0</td><td style=\"text-align: center\">0/0</td><td style=\"text-align: center\">0/0</td><td style=\"text-align: center\">0/0</td></tr><tr><th style=\"text-align: center; background-color: white; border-right: 1px solid black; \">5506384</th><td style=\"text-align: center\">0/0</td><td style=\"text-align: center\">0/0</td><td style=\"text-align: center\">0/0</td><td style=\"text-align: center\">0/0</td><td style=\"text-align: center\">0/0</td><td style=\"text-align: center\">...</td><td style=\"text-align: center\">0/0</td><td style=\"text-align: center\">0/0</td><td style=\"text-align: center\">0/0</td><td style=\"text-align: center\">0/0</td><td style=\"text-align: center\">0/0</td></tr><tr><th style=\"text-align: center; background-color: white; border-right: 1px solid black; \">5506385</th><td style=\"text-align: center\">0/0</td><td style=\"text-align: center\">0/0</td><td style=\"text-align: center\">0/0</td><td style=\"text-align: center\">0/0</td><td style=\"text-align: center\">0/0</td><td style=\"text-align: center\">...</td><td style=\"text-align: center\">0/0</td><td style=\"text-align: center\">0/0</td><td style=\"text-align: center\">0/0</td><td style=\"text-align: center\">0/0</td><td style=\"text-align: center\">0/0</td></tr></tbody></table></div>"
      ],
      "text/plain": [
       "<GenotypeChunkedArray shape=(5506386, 1142, 2) dtype=int8 chunks=(2689, 1142, 2)\n",
       "   nbytes=11.7G cbytes=485.4M cratio=24.7\n",
       "   compression=blosc compression_opts={'cname': 'lz4', 'clevel': 5, 'shuffle': 1, 'blocksize': 0}\n",
       "   values=zarr.core.Array>"
      ]
     },
     "execution_count": 5,
     "metadata": {},
     "output_type": "execute_result"
    }
   ],
   "source": [
    "loc = pos_all.intersect_range(1_000_000, 24_000_000)\n",
    "loc1, loc2 = pos_all.locate_intersection(loc)\n",
    "geno = allel.GenotypeChunkedArray(callset_biallel['3R'][\"calldata/GT\"])\n",
    "geno_subset = geno.subset(sel0=loc1)\n",
    "geno_subset\n",
    "\n",
    "### It works!!!"
   ]
  },
  {
   "cell_type": "markdown",
   "metadata": {},
   "source": [
    "Dask:"
   ]
  },
  {
   "cell_type": "code",
   "execution_count": null,
   "metadata": {},
   "outputs": [],
   "source": [
    "loc = pos_all.intersect_range(1_000_000, 24_000_000)\n",
    "loc1, loc2 = pos_all.locate_intersection(loc)\n",
    "geno = allel.GenotypeDaskArray(callset_biallel['3R'][\"calldata/GT\"])\n",
    "geno_subset = geno.subset(sel0=loc1)\n",
    "geno_subset.compute()\n",
    "\n",
    "### CRASH!!!!"
   ]
  },
  {
   "cell_type": "markdown",
   "metadata": {},
   "source": [
    "-------------------------------------------------------\n",
    "Third way:"
   ]
  },
  {
   "cell_type": "code",
   "execution_count": null,
   "metadata": {},
   "outputs": [],
   "source": [
    "loc = pos_all.locate_range(1_000_000, 24_000_000)\n",
    "geno = allel.GenotypeChunkedArray(callset_biallel['3R']['calldata/GT'])\n",
    "subpops = metadata.groupby('population').indices\n",
    "ac_subpops = geno[loc].count_alleles_subpops(subpops, max_allele=3)\n",
    "ac_subpops\n",
    "\n",
    "### CRASH!!!!"
   ]
  },
  {
   "cell_type": "code",
   "execution_count": 9,
   "metadata": {},
   "outputs": [
    {
     "data": {
      "text/html": [
       "<div class=\"allel allel-DisplayAs2D\"><span>&lt;AlleleCountsArray shape=(5506386, 4) dtype=int32&gt;</span><table><thead><tr><th></th><th style=\"text-align: center\">0</th><th style=\"text-align: center\">1</th><th style=\"text-align: center\">2</th><th style=\"text-align: center\">3</th></tr></thead><tbody><tr><th style=\"text-align: center; background-color: white; border-right: 1px solid black; \">0</th><td style=\"text-align: center\">156</td><td style=\"text-align: center\">  0</td><td style=\"text-align: center\">  0</td><td style=\"text-align: center\">  0</td></tr><tr><th style=\"text-align: center; background-color: white; border-right: 1px solid black; \">1</th><td style=\"text-align: center\">156</td><td style=\"text-align: center\">  0</td><td style=\"text-align: center\">  0</td><td style=\"text-align: center\">  0</td></tr><tr><th style=\"text-align: center; background-color: white; border-right: 1px solid black; \">2</th><td style=\"text-align: center\">156</td><td style=\"text-align: center\">  0</td><td style=\"text-align: center\">  0</td><td style=\"text-align: center\">  0</td></tr><tr><th style=\"text-align: center; background-color: white; border-right: 1px solid black; \">...</th><td style=\"text-align: center\" colspan=\"5\">...</td></tr><tr><th style=\"text-align: center; background-color: white; border-right: 1px solid black; \">5506383</th><td style=\"text-align: center\">156</td><td style=\"text-align: center\">  0</td><td style=\"text-align: center\">  0</td><td style=\"text-align: center\">  0</td></tr><tr><th style=\"text-align: center; background-color: white; border-right: 1px solid black; \">5506384</th><td style=\"text-align: center\">156</td><td style=\"text-align: center\">  0</td><td style=\"text-align: center\">  0</td><td style=\"text-align: center\">  0</td></tr><tr><th style=\"text-align: center; background-color: white; border-right: 1px solid black; \">5506385</th><td style=\"text-align: center\">156</td><td style=\"text-align: center\">  0</td><td style=\"text-align: center\">  0</td><td style=\"text-align: center\">  0</td></tr></tbody></table></div>"
      ],
      "text/plain": [
       "<AlleleCountsArray shape=(5506386, 4) dtype=int32>\n",
       "156   0   0   0\n",
       "156   0   0   0\n",
       "156   0   0   0\n",
       "...\n",
       "156   0   0   0\n",
       "156   0   0   0\n",
       "156   0   0   0"
      ]
     },
     "execution_count": 9,
     "metadata": {},
     "output_type": "execute_result"
    }
   ],
   "source": [
    "loc = pos_all.locate_range(1_000_000, 24_000_000)\n",
    "gt = allel.GenotypeDaskArray(callset_biallel['3R']['calldata/GT'])\n",
    "subpops = metadata.groupby('population').indices\n",
    "ac_subpops = gt[loc].count_alleles_subpops(subpops, max_allele=3)\n",
    "ac_subpops['AOcol'].compute()"
   ]
  },
  {
   "cell_type": "code",
   "execution_count": 11,
   "metadata": {},
   "outputs": [
    {
     "data": {
      "text/plain": [
       "{'AOcol': <AlleleCountsDaskArray shape=(5506386, 4) dtype=int32>,\n",
       " 'BFcol': <AlleleCountsDaskArray shape=(5506386, 4) dtype=int32>,\n",
       " 'BFgam': <AlleleCountsDaskArray shape=(5506386, 4) dtype=int32>,\n",
       " 'CIcol': <AlleleCountsDaskArray shape=(5506386, 4) dtype=int32>,\n",
       " 'CMgam': <AlleleCountsDaskArray shape=(5506386, 4) dtype=int32>,\n",
       " 'FRgam': <AlleleCountsDaskArray shape=(5506386, 4) dtype=int32>,\n",
       " 'GAgam': <AlleleCountsDaskArray shape=(5506386, 4) dtype=int32>,\n",
       " 'GHcol': <AlleleCountsDaskArray shape=(5506386, 4) dtype=int32>,\n",
       " 'GHgam': <AlleleCountsDaskArray shape=(5506386, 4) dtype=int32>,\n",
       " 'GM': <AlleleCountsDaskArray shape=(5506386, 4) dtype=int32>,\n",
       " 'GNcol': <AlleleCountsDaskArray shape=(5506386, 4) dtype=int32>,\n",
       " 'GNgam': <AlleleCountsDaskArray shape=(5506386, 4) dtype=int32>,\n",
       " 'GQgam': <AlleleCountsDaskArray shape=(5506386, 4) dtype=int32>,\n",
       " 'GW': <AlleleCountsDaskArray shape=(5506386, 4) dtype=int32>,\n",
       " 'KE': <AlleleCountsDaskArray shape=(5506386, 4) dtype=int32>,\n",
       " 'UGgam': <AlleleCountsDaskArray shape=(5506386, 4) dtype=int32>}"
      ]
     },
     "execution_count": 11,
     "metadata": {},
     "output_type": "execute_result"
    }
   ],
   "source": [
    "ac_subpops = gt[loc].count_alleles_subpops(subpops, max_allele=3)\n",
    "ac_subpops"
   ]
  },
  {
   "cell_type": "code",
   "execution_count": 14,
   "metadata": {},
   "outputs": [
    {
     "data": {
      "text/html": [
       "<div class=\"allel allel-DisplayAsTable\"><span>&lt;AlleleCountsChunkedTable shape=(5506386,) dtype=[('AOcol', '&lt;i4', (4,)), ('BFcol', '&lt;i4', (4,)), ('BFgam', '&lt;i4', (4,)), ('CIcol', '&lt;i4', (4,)), ('CMgam', '&lt;i4', (4,)), ('FRgam', '&lt;i4', (4,)), ('GAgam', '&lt;i4', (4,)), ('GHcol', '&lt;i4', (4,)), ('GHgam', '&lt;i4', (4,)), ('GM', '&lt;i4', (4,)), ('GNcol', '&lt;i4', (4,)), ('GNgam', '&lt;i4', (4,)), ('GQgam', '&lt;i4', (4,)), ('GW', '&lt;i4', (4,)), ('KE', '&lt;i4', (4,)), ('UGgam', '&lt;i4', (4,))]\n",
       "   nbytes=1.3G\n",
       "   values=builtins.dict&gt;</span><table><thead><tr><th></th><th style=\"text-align: center\">AOcol</th><th style=\"text-align: center\">BFcol</th><th style=\"text-align: center\">BFgam</th><th style=\"text-align: center\">CIcol</th><th style=\"text-align: center\">CMgam</th><th style=\"text-align: center\">FRgam</th><th style=\"text-align: center\">GAgam</th><th style=\"text-align: center\">GHcol</th><th style=\"text-align: center\">GHgam</th><th style=\"text-align: center\">GM</th><th style=\"text-align: center\">GNcol</th><th style=\"text-align: center\">GNgam</th><th style=\"text-align: center\">GQgam</th><th style=\"text-align: center\">GW</th><th style=\"text-align: center\">KE</th><th style=\"text-align: center\">UGgam</th></tr></thead><tbody><tr><th style=\"text-align: center; background-color: white; border-right: 1px solid black; \">0</th><td style=\"text-align: center\">[156   0   0   0]</td><td style=\"text-align: center\">[150   0   0   0]</td><td style=\"text-align: center\">[184   0   0   0]</td><td style=\"text-align: center\">[142   0   0   0]</td><td style=\"text-align: center\">[594   0   0   0]</td><td style=\"text-align: center\">[48  0  0  0]</td><td style=\"text-align: center\">[138   0   0   0]</td><td style=\"text-align: center\">[110   0   0   0]</td><td style=\"text-align: center\">[24  0  0  0]</td><td style=\"text-align: center\">[126   4   0   0]</td><td style=\"text-align: center\">[8 0 0 0]</td><td style=\"text-align: center\">[80  0  0  0]</td><td style=\"text-align: center\">[18  0  0  0]</td><td style=\"text-align: center\">[178   4   0   0]</td><td style=\"text-align: center\">[96  0  0  0]</td><td style=\"text-align: center\">[224   0   0   0]</td></tr><tr><th style=\"text-align: center; background-color: white; border-right: 1px solid black; \">1</th><td style=\"text-align: center\">[156   0   0   0]</td><td style=\"text-align: center\">[149   1   0   0]</td><td style=\"text-align: center\">[183   1   0   0]</td><td style=\"text-align: center\">[142   0   0   0]</td><td style=\"text-align: center\">[592   2   0   0]</td><td style=\"text-align: center\">[48  0  0  0]</td><td style=\"text-align: center\">[138   0   0   0]</td><td style=\"text-align: center\">[110   0   0   0]</td><td style=\"text-align: center\">[24  0  0  0]</td><td style=\"text-align: center\">[130   0   0   0]</td><td style=\"text-align: center\">[8 0 0 0]</td><td style=\"text-align: center\">[80  0  0  0]</td><td style=\"text-align: center\">[18  0  0  0]</td><td style=\"text-align: center\">[179   3   0   0]</td><td style=\"text-align: center\">[96  0  0  0]</td><td style=\"text-align: center\">[222   2   0   0]</td></tr><tr><th style=\"text-align: center; background-color: white; border-right: 1px solid black; \">2</th><td style=\"text-align: center\">[156   0   0   0]</td><td style=\"text-align: center\">[146   4   0   0]</td><td style=\"text-align: center\">[182   2   0   0]</td><td style=\"text-align: center\">[142   0   0   0]</td><td style=\"text-align: center\">[591   3   0   0]</td><td style=\"text-align: center\">[48  0  0  0]</td><td style=\"text-align: center\">[138   0   0   0]</td><td style=\"text-align: center\">[110   0   0   0]</td><td style=\"text-align: center\">[24  0  0  0]</td><td style=\"text-align: center\">[129   1   0   0]</td><td style=\"text-align: center\">[8 0 0 0]</td><td style=\"text-align: center\">[80  0  0  0]</td><td style=\"text-align: center\">[18  0  0  0]</td><td style=\"text-align: center\">[182   0   0   0]</td><td style=\"text-align: center\">[96  0  0  0]</td><td style=\"text-align: center\">[224   0   0   0]</td></tr><tr><th style=\"text-align: center; background-color: white; border-right: 1px solid black; \">...</th><td style=\"text-align: center\" colspan=\"17\">...</td></tr><tr><th style=\"text-align: center; background-color: white; border-right: 1px solid black; \">5506383</th><td style=\"text-align: center\">[156   0   0   0]</td><td style=\"text-align: center\">[150   0   0   0]</td><td style=\"text-align: center\">[183   1   0   0]</td><td style=\"text-align: center\">[142   0   0   0]</td><td style=\"text-align: center\">[593   1   0   0]</td><td style=\"text-align: center\">[48  0  0  0]</td><td style=\"text-align: center\">[138   0   0   0]</td><td style=\"text-align: center\">[110   0   0   0]</td><td style=\"text-align: center\">[24  0  0  0]</td><td style=\"text-align: center\">[125   5   0   0]</td><td style=\"text-align: center\">[8 0 0 0]</td><td style=\"text-align: center\">[80  0  0  0]</td><td style=\"text-align: center\">[18  0  0  0]</td><td style=\"text-align: center\">[182   0   0   0]</td><td style=\"text-align: center\">[96  0  0  0]</td><td style=\"text-align: center\">[224   0   0   0]</td></tr><tr><th style=\"text-align: center; background-color: white; border-right: 1px solid black; \">5506384</th><td style=\"text-align: center\">[156   0   0   0]</td><td style=\"text-align: center\">[150   0   0   0]</td><td style=\"text-align: center\">[183   1   0   0]</td><td style=\"text-align: center\">[142   0   0   0]</td><td style=\"text-align: center\">[594   0   0   0]</td><td style=\"text-align: center\">[48  0  0  0]</td><td style=\"text-align: center\">[138   0   0   0]</td><td style=\"text-align: center\">[110   0   0   0]</td><td style=\"text-align: center\">[24  0  0  0]</td><td style=\"text-align: center\">[130   0   0   0]</td><td style=\"text-align: center\">[8 0 0 0]</td><td style=\"text-align: center\">[80  0  0  0]</td><td style=\"text-align: center\">[18  0  0  0]</td><td style=\"text-align: center\">[182   0   0   0]</td><td style=\"text-align: center\">[96  0  0  0]</td><td style=\"text-align: center\">[224   0   0   0]</td></tr><tr><th style=\"text-align: center; background-color: white; border-right: 1px solid black; \">5506385</th><td style=\"text-align: center\">[156   0   0   0]</td><td style=\"text-align: center\">[150   0   0   0]</td><td style=\"text-align: center\">[184   0   0   0]</td><td style=\"text-align: center\">[142   0   0   0]</td><td style=\"text-align: center\">[594   0   0   0]</td><td style=\"text-align: center\">[48  0  0  0]</td><td style=\"text-align: center\">[138   0   0   0]</td><td style=\"text-align: center\">[110   0   0   0]</td><td style=\"text-align: center\">[24  0  0  0]</td><td style=\"text-align: center\">[130   0   0   0]</td><td style=\"text-align: center\">[8 0 0 0]</td><td style=\"text-align: center\">[80  0  0  0]</td><td style=\"text-align: center\">[18  0  0  0]</td><td style=\"text-align: center\">[182   0   0   0]</td><td style=\"text-align: center\">[96  0  0  0]</td><td style=\"text-align: center\">[222   2   0   0]</td></tr></tbody></table></div>"
      ],
      "text/plain": [
       "<AlleleCountsChunkedTable shape=(5506386,) dtype=[('AOcol', '<i4', (4,)), ('BFcol', '<i4', (4,)), ('BFgam', '<i4', (4,)), ('CIcol', '<i4', (4,)), ('CMgam', '<i4', (4,)), ('FRgam', '<i4', (4,)), ('GAgam', '<i4', (4,)), ('GHcol', '<i4', (4,)), ('GHgam', '<i4', (4,)), ('GM', '<i4', (4,)), ('GNcol', '<i4', (4,)), ('GNgam', '<i4', (4,)), ('GQgam', '<i4', (4,)), ('GW', '<i4', (4,)), ('KE', '<i4', (4,)), ('UGgam', '<i4', (4,))]\n",
       "   nbytes=1.3G\n",
       "   values=builtins.dict>"
      ]
     },
     "execution_count": 14,
     "metadata": {},
     "output_type": "execute_result"
    }
   ],
   "source": [
    "allel.AlleleCountsChunkedTable(ac_subpops)"
   ]
  },
  {
   "cell_type": "code",
   "execution_count": null,
   "metadata": {},
   "outputs": [],
   "source": []
  },
  {
   "cell_type": "code",
   "execution_count": null,
   "metadata": {},
   "outputs": [],
   "source": []
  },
  {
   "cell_type": "code",
   "execution_count": null,
   "metadata": {},
   "outputs": [],
   "source": []
  },
  {
   "cell_type": "code",
   "execution_count": null,
   "metadata": {},
   "outputs": [],
   "source": []
  },
  {
   "cell_type": "code",
   "execution_count": null,
   "metadata": {},
   "outputs": [],
   "source": []
  }
 ],
 "metadata": {
  "kernelspec": {
   "display_name": "Python 3",
   "language": "python",
   "name": "python3"
  },
  "language_info": {
   "codemirror_mode": {
    "name": "ipython",
    "version": 3
   },
   "file_extension": ".py",
   "mimetype": "text/x-python",
   "name": "python",
   "nbconvert_exporter": "python",
   "pygments_lexer": "ipython3",
   "version": "3.6.7"
  }
 },
 "nbformat": 4,
 "nbformat_minor": 4
}
