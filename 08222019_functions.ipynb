{
 "cells": [
  {
   "cell_type": "markdown",
   "metadata": {},
   "source": [
    "## Functions "
   ]
  },
  {
   "cell_type": "code",
   "execution_count": 8,
   "metadata": {},
   "outputs": [],
   "source": [
    "import gcsfs #module for google cloud connection\n",
    "import os\n",
    "import allel\n",
    "import zarr\n",
    "import pandas as pd\n",
    "import numpy as np\n",
    "from matplotlib import pyplot\n",
    "import seaborn as sns\n",
    "import h5py"
   ]
  },
  {
   "cell_type": "code",
   "execution_count": 3,
   "metadata": {},
   "outputs": [],
   "source": [
    "gcs_orig = gcsfs.GCSFileSystem(project='malariagen-jupyterhub', token='cache')\n",
    "gcs =  gcsfs.GCSFileSystem(project='malariagen-jupyterhub', token=gcs_orig.session.credentials)"
   ]
  },
  {
   "cell_type": "markdown",
   "metadata": {},
   "source": [
    "-----------------------------------------------"
   ]
  },
  {
   "cell_type": "code",
   "execution_count": 3,
   "metadata": {},
   "outputs": [],
   "source": [
    "def abba_baba(chrom, a, b, c, out_pop, windows_size):\n",
    "    \n",
    "    ###### Adding phase1 path ######\n",
    "    \n",
    "    phase1path = os.path.join(\"ag1000g-release\", \"phase1.AR3\", \"variation\", \"main\", \"zarr\", \"ag1000g.phase1.ar3.pass\")\n",
    "    gcsmap1 = gcsfs.mapping.GCSMap(phase1path, gcs=gcs)\n",
    "    calldata_phase1= zarr.Group(gcsmap1, read_only=True)\n",
    "    \n",
    "    ###### Adding phase2 path ######\n",
    "    \n",
    "    phase2path = os.path.join(\"ag1000g-release\", \"phase2.AR1\", \"variation\", \"main\", \"zarr\", \"biallelic\", \"ag1000g.phase2.ar1.pass.biallelic\")\n",
    "    gcsmap2 = gcsfs.mapping.GCSMap(phase2path, gcs=gcs)\n",
    "    calldata_phase2= zarr.Group(gcsmap2, read_only=True)\n",
    "    \n",
    "    ###### Create the new allel map from phase1 to phase2 ######\n",
    "\n",
    "    pos_phase1 = allel.SortedIndex(calldata_phase1[chrom][\"variants/POS\"][:])\n",
    "    pos_phase2 = allel.SortedIndex(calldata_phase2[chrom][\"variants/POS\"][:])\n",
    "    loc1, loc2 = pos_phase2.locate_intersection(pos_phase1)\n",
    "    pos_p2_sel = pos_phase2[loc1]\n",
    "    pos_p1_sel = pos_phase1[loc2]\n",
    "    variants_phase1 = allel.VariantChunkedTable(calldata_phase1[chrom][\"variants\"], \n",
    "                                     names=['POS', 'REF', 'ALT', 'DP', 'MQ', 'QD', 'numalt'],\n",
    "                                     index='POS')\n",
    "    variants_phase1_filt = variants_phase1.compress(loc2)\n",
    "    phase1_ref = variants_phase1_filt[\"REF\"][:]\n",
    "    phase1_alt = variants_phase1_filt[\"ALT\"][:]\n",
    "    variants_phase2 = allel.VariantChunkedTable(calldata_phase2[chrom][\"variants\"], \n",
    "                                     names=['POS', 'REF', 'ALT', 'DP', 'MQ', 'QD', 'numalt'],\n",
    "                                     index='POS')\n",
    "    variants_phase2_filt = variants_phase2.compress(loc1)\n",
    "    phase2_ref = variants_phase2_filt[\"REF\"][:]\n",
    "    phase2_alt = variants_phase2_filt[\"ALT\"][:]\n",
    "    phase2refalt = np.column_stack([phase2_ref, phase2_alt])\n",
    "    mapping = allel.create_allele_mapping(phase1_ref, phase1_alt, phase2refalt)\n",
    "    \n",
    "    ###### Now Mapping on our selected Outgroup ######\n",
    "    \n",
    "    \n",
    "    calldata_outgroup= h5py.File('/gcs/phase1.AR3/extras/outgroup_allele_counts.h5', mode='r')\n",
    "    calldata_out_pop = calldata_outgroup[chrom][out_pop]\n",
    "    ac_out_pop = allel.AlleleCountsArray(calldata_out_pop)\n",
    "    ac_out_pop = ac_out_pop.compress(loc2)\n",
    "    pop_map_ac = ac_out_pop.map_alleles(mapping)\n",
    "\n",
    "    ###### loading phase2 metadata ######\n",
    "    metadata = pd.read_csv(\"samples.meta.txt\", sep=\"\\t\")\n",
    "    pop_select = metadata.population.isin({a, b, c}).values\n",
    "    pop_subset = metadata[pop_select]\n",
    "    \n",
    "    ###### loading phase2 genome and subset ######\n",
    "    genotypes_phase2_call = calldata_phase2[chrom][\"calldata/GT\"]\n",
    "    genotypes_phase2 = allel.GenotypeChunkedArray(genotypes_phase2_call)\n",
    "    geno_p2_subset = genotypes_phase2.subset(sel0=loc1, sel1=pop_select)\n",
    "\n",
    "    \n",
    "    ###### perform allele count to my subpopulations ######\n",
    "    grp = pop_subset.groupby(\"population\")\n",
    "    grp_indices = grp.indices\n",
    "    ac_subpops = geno_p2_subset.count_alleles_subpops(grp_indices)\n",
    "    \n",
    "    ###### perform abba baba test ######\n",
    "    y = allel.average_patterson_d(ac_subpops[a], ac_subpops[b], ac_subpops[c], pop_map_ac, windows_size)\n",
    "    \n",
    "    ###### compute windows with equal numbers of SNPs ######\n",
    "    windows = allel.moving_statistic(pos_p2_sel, statistic=lambda v: [v[0], v[-1]], size=windows_size)\n",
    "    x = np.asarray(windows).mean(axis=1)\n",
    "    \n",
    "    ###### Plot the test ######\n",
    "    fig, ax = pyplot.subplots(figsize=(12, 4))\n",
    "    sns.despine(ax=ax, offset=10)\n",
    "    ax.plot(x, y[3], lw=.5)\n",
    "    ax.set_ylabel(\"D Value\")\n",
    "    ax.set_xlabel('Chromosome %s position (bp)' %chrom)\n",
    "    ax.set_xlim(0, pos_p2_sel.max())\n",
    "    ax.set_title(('ABBA BABA Test between %s, %s, %s and %s Population on Chromosome %s') % (a,b,c,out_pop,chrom))"
   ]
  },
  {
   "cell_type": "markdown",
   "metadata": {},
   "source": [
    "----------------------------------------------"
   ]
  }
 ],
 "metadata": {
  "kernelspec": {
   "display_name": "Python 3",
   "language": "python",
   "name": "python3"
  },
  "language_info": {
   "codemirror_mode": {
    "name": "ipython",
    "version": 3
   },
   "file_extension": ".py",
   "mimetype": "text/x-python",
   "name": "python",
   "nbconvert_exporter": "python",
   "pygments_lexer": "ipython3",
   "version": "3.6.7"
  }
 },
 "nbformat": 4,
 "nbformat_minor": 4
}
