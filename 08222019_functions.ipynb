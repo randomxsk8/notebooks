{
 "cells": [
  {
   "cell_type": "markdown",
   "metadata": {},
   "source": [
    "## Functions "
   ]
  },
  {
   "cell_type": "code",
   "execution_count": 2,
   "metadata": {},
   "outputs": [],
   "source": [
    "import gcsfs #module for google cloud connection\n",
    "import os\n",
    "import allel\n",
    "import zarr\n",
    "import pandas as pd\n",
    "import h5py\n",
    "import petl as etl\n",
    "import numpy as np\n",
    "from matplotlib import pyplot\n",
    "import seaborn as sns\n",
    "import h5py\n",
    "import pyfasta"
   ]
  },
  {
   "cell_type": "code",
   "execution_count": null,
   "metadata": {},
   "outputs": [],
   "source": [
    "#gcs_orig = gcsfs.GCSFileSystem(project='malariagen-jupyterhub', token='cache')\n",
    "#gcs =  gcsfs.GCSFileSystem(project='malariagen-jupyterhub', token=gcs_orig.session.credentials)\n",
    "##gcs =  gcsfs.GCSFileSystem(project='malariagen-jupyterhub', token='cloud')"
   ]
  },
  {
   "cell_type": "code",
   "execution_count": 2,
   "metadata": {},
   "outputs": [],
   "source": [
    "gcs_bucket_fs = gcsfs.GCSFileSystem(project='malariagen-jupyterhub', token='anon', access='read_only')"
   ]
  },
  {
   "cell_type": "code",
   "execution_count": null,
   "metadata": {},
   "outputs": [],
   "source": [
    " ###### Adding phase1 genotype path ######\n",
    "geno_path_p1 = os.path.join(\"ag1000g-release/phase1.AR3/variation/main/zarr/ag1000g.phase1.ar3.pass\")\n",
    "gcsacmap = gcs_bucket_fs.get_mapper(root=geno_path_p1)\n",
    "calldata_phase1= zarr.Group(gcsacmap, read_only=True)"
   ]
  },
  {
   "cell_type": "code",
   "execution_count": null,
   "metadata": {},
   "outputs": [],
   "source": [
    " ###### Adding phase2 accessibility path ######\n",
    "geno_path = os.path.join(\"ag1000g-release/phase2.AR1/variation/main/zarr/biallelic/ag1000g.phase2.ar1.pass.biallelic\")\n",
    "gcsacmap = gcs_bucket_fs.get_mapper(root=geno_path)\n",
    "calldata_phase2= zarr.Group(gcsacmap, read_only=True)"
   ]
  },
  {
   "cell_type": "code",
   "execution_count": 3,
   "metadata": {},
   "outputs": [],
   "source": [
    " ###### Adding phase2 haplotype path ######\n",
    "hap_path = 'ag1000g-release/phase2.AR1/haplotypes/main/zarr/ag1000g.phase2.ar1.haplotypes'\n",
    "store = gcs_bucket_fs.get_mapper(root=hap_path)\n",
    "calldata_hap_phase2= zarr.Group(store, read_only=True)"
   ]
  },
  {
   "cell_type": "code",
   "execution_count": 5,
   "metadata": {},
   "outputs": [],
   "source": [
    " ###### Adding phase2 accessibility path ######\n",
    "accessibility_path = os.path.join(\"ag1000g-release/phase2.AR1/accessibility/accessibility.zarr\")\n",
    "gcsacmap = gcs_bucket_fs.get_mapper(root=accessibility_path)\n",
    "accessibility= zarr.Group(gcsacmap, read_only=True)"
   ]
  },
  {
   "cell_type": "code",
   "execution_count": 3,
   "metadata": {},
   "outputs": [],
   "source": [
    "fasta_fn = '/home/jovyan/notebooks/Anopheles-gambiae-PEST_CHROMOSOMES_AgamP3.fa'\n",
    "genome = pyfasta.Fasta(fasta_fn)"
   ]
  },
  {
   "cell_type": "code",
   "execution_count": 3,
   "metadata": {},
   "outputs": [],
   "source": [
    "palette = sns.color_palette()"
   ]
  },
  {
   "cell_type": "markdown",
   "metadata": {},
   "source": [
    "-----------------------------------------------"
   ]
  },
  {
   "cell_type": "code",
   "execution_count": 2,
   "metadata": {},
   "outputs": [],
   "source": [
    "def out_map(out_pop, chrom):\n",
    "\n",
    "    ###### Create the new allel map from phase1 to phase2 ######\n",
    "\n",
    "    pos_phase1 = allel.SortedIndex(calldata_phase1[chrom][\"variants/POS\"][:])\n",
    "    pos_phase2 = allel.SortedIndex(calldata_phase2[chrom][\"variants/POS\"][:])\n",
    "    loc1, loc2 = pos_phase2.locate_intersection(pos_phase1)\n",
    "    pos_p2_sel = pos_phase2.compress(loc1)\n",
    "    pos_p1_sel = pos_phase1.compress(loc2)\n",
    "    variants_phase1 = allel.VariantChunkedTable(calldata_phase1[chrom][\"variants\"], \n",
    "                                     names=['POS', 'REF', 'ALT', 'DP', 'MQ', 'QD', 'numalt'],\n",
    "                                     index='POS')\n",
    "    variants_phase1_filt = variants_phase1.compress(loc2, axis=0)\n",
    "    phase1_ref = variants_phase1_filt[\"REF\"][:]\n",
    "    phase1_alt = variants_phase1_filt[\"ALT\"][:]\n",
    "    variants_phase2 = allel.VariantChunkedTable(calldata_phase2[chrom][\"variants\"], \n",
    "                                     names=['POS', 'REF', 'ALT', 'DP', 'MQ', 'QD', 'numalt'],\n",
    "                                     index='POS')\n",
    "    variants_phase2_filt = variants_phase2.compress(loc1, axis=0)\n",
    "    phase2_ref = variants_phase2_filt[\"REF\"][:]\n",
    "    phase2_alt = variants_phase2_filt[\"ALT\"][:]\n",
    "    phase2refalt = np.column_stack([phase2_ref, phase2_alt])\n",
    "    mapping = allel.create_allele_mapping(phase1_ref, phase1_alt, phase2refalt)\n",
    "    \n",
    "    ###### Now Mapping on our selected Outgroup ######\n",
    "    \n",
    "    \n",
    "    calldata_outgroup= h5py.File('/gcs/phase1.AR3/extras/outgroup_allele_counts.h5', mode='r')\n",
    "    calldata_out_pop = calldata_outgroup[chrom][out_pop]\n",
    "    ac_out_pop = allel.AlleleCountsArray(calldata_out_pop)\n",
    "    ac_out_pop = ac_out_pop.compress(loc2)\n",
    "    pop_map_ac = ac_out_pop.map_alleles(mapping)\n",
    "\n",
    "    return pop_map_ac"
   ]
  },
  {
   "cell_type": "code",
   "execution_count": 2,
   "metadata": {},
   "outputs": [],
   "source": [
    "def abba_baba(chrom, a, b, c, out_pop, windows_size):\n",
    "\n",
    "    ###### loading phase2 metadata ######\n",
    "    metadata = pd.read_csv(\"/home/jovyan/notebooks/samples.meta.txt\", sep=\"\\t\")\n",
    "    pop_select = metadata.population.isin({a, b, c}).values\n",
    "    pop_subset = metadata[pop_select]\n",
    "    \n",
    "    ###### loading phase2 genome and subset ######\n",
    "    pos_phase1 = allel.SortedIndex(calldata_phase1[chrom][\"variants/POS\"][:])\n",
    "    pos_phase2 = allel.SortedIndex(calldata_phase2[chrom][\"variants/POS\"][:])\n",
    "    loc1, loc2 = pos_phase2.locate_intersection(pos_phase1)\n",
    "    pos_p2_sel = pos_phase2.compress(loc1)\n",
    "    genotypes_phase2_call = calldata_phase2[chrom][\"calldata/GT\"]\n",
    "    genotypes_phase2 = allel.GenotypeChunkedArray(genotypes_phase2_call)\n",
    "    geno_p2_subset = genotypes_phase2.subset(sel0=loc1, sel1=pop_select)\n",
    "\n",
    "    \n",
    "    ###### perform allele count to my subpopulations ######\n",
    "    grp = pop_subset.groupby(\"population\")\n",
    "    grp_indices = grp.indices\n",
    "    ac_subpops = geno_p2_subset.count_alleles_subpops(grp_indices)\n",
    "    \n",
    "    ###### perform abba baba test ######\n",
    "    y = allel.average_patterson_d(ac_subpops[a], ac_subpops[b], ac_subpops[c], out_pop, windows_size)\n",
    "    print ('Estimated value of the statistic using all data:' ,y[0])\n",
    "    print ('Estimated standard error:' ,y[1])\n",
    "    print ('Z-score:' ,y[2])\n",
    "    \n",
    "    import csv\n",
    "    with open('file.csv', 'a') as csvFile:\n",
    "        tbl = [y[0],y[1],y[2]]\n",
    "        writer = csv.writer(csvFile)\n",
    "        writer.writerow(tbl)\n",
    "        csvFile.close()\n",
    "    \n",
    "    ###### compute windows with equal numbers of SNPs ######\n",
    "    windows = allel.moving_statistic(pos_p2_sel, statistic=lambda v: [v[0], v[-1]], size=windows_size)\n",
    "    x = np.asarray(windows).mean(axis=1)\n",
    "    \n",
    "    ###### Plot the test ######\n",
    "    fig, ax = pyplot.subplots(figsize=(12, 4))\n",
    "    sns.despine(ax=ax, offset=10)\n",
    "    ax.plot(x, y[3], lw=.5)\n",
    "    ax.set_ylabel(\"D Value\")\n",
    "    ax.set_xlabel('Chromosome %s position (bp)' %chrom)\n",
    "    ax.set_xlim(0, pos_p2_sel.max())\n",
    "    ax.set_title(('ABBA BABA Test between %s, %s, %s and outgroup population on chromosome %s') % (a,b,c,chrom))"
   ]
  },
  {
   "cell_type": "code",
   "execution_count": null,
   "metadata": {},
   "outputs": [],
   "source": [
    "def pbs_plot(chrom, a, b, c, windows_size):\n",
    "\n",
    "    ###### loading phase2 metadata ######\n",
    "    metadata = pd.read_csv(\"/home/jovyan/notebooks/samples.meta.txt\", sep=\"\\t\")\n",
    "    pop_select = metadata.population.isin({a, b, c}).values\n",
    "    pop_subset = metadata[pop_select]\n",
    "    \n",
    "    ###### loading phase2 genome and subset ######\n",
    "    genotypes_phase2_call = calldata_phase2[chrom][\"calldata/GT\"]\n",
    "    genotypes_phase2 = allel.GenotypeChunkedArray(genotypes_phase2_call)\n",
    "    pos = allel.SortedIndex(calldata_phase2[chrom][\"variants/POS\"])\n",
    "    geno_p2_subset = genotypes_phase2.subset(sel1=pop_select)\n",
    "\n",
    "    \n",
    "    ###### perform allele count to my subpopulations ######\n",
    "    grp = pop_subset.groupby(\"population\")\n",
    "    grp_indices = grp.indices\n",
    "    ac_subpops = geno_p2_subset.count_alleles_subpops(grp_indices)\n",
    "    \n",
    "    ##### perform pbs #####\n",
    "    pbs = allel.pbs(ac_subpops[a], ac_subpops[b], ac_subpops[c], windows_size)\n",
    "    \n",
    "    ###### compute windows with equal numbers of SNPs ######\n",
    "    windows = allel.moving_statistic(pos, statistic=lambda v: [v[0], v[-1]], size=windows_size)\n",
    "    x = np.asarray(windows).mean(axis=1)\n",
    "    \n",
    "    ###### Plot the test ######\n",
    "    fig, ax = pyplot.subplots(figsize=(12, 4))\n",
    "    sns.despine(ax=ax, offset=10)\n",
    "    ax.plot(x, pbs, lw=.5)\n",
    "    ax.set_ylabel(\"PBS Value\")\n",
    "    ax.set_xlabel('Chromosome %s position (bp)' %chrom)\n",
    "    ax.set_xlim(0, pos.max())\n",
    "    ax.set_title(('PBS between %s, %s, %s populations on chromosome %s') % (a,b,c,chrom))"
   ]
  },
  {
   "cell_type": "code",
   "execution_count": 1,
   "metadata": {},
   "outputs": [],
   "source": [
    "def plot_dxy(pop1, pop2, chrom, window_size=20000, min_n_bases=1):\n",
    "    metadata = pd.read_csv(\"samples.meta.txt\", sep=\",\")\n",
    "    pop_select = metadata.population.isin({pop1,pop2}).values\n",
    "    pop_subset = metadata[pop_select]\n",
    "    genotypes_phase2_call = calldata_hap_phase2[chrom][\"calldata/GT\"]\n",
    "    genotypes_phase2 = allel.GenotypeChunkedArray(genotypes_phase2_call)\n",
    "    geno_p2_subset = genotypes_phase2.subset(sel1=pop_select)\n",
    "    grp = pop_subset.groupby(\"population\")\n",
    "    grp_indices = grp.indices\n",
    "    ac_subpops = geno_p2_subset.count_alleles_subpops(grp_indices)\n",
    "    ac1 = ac_subpops[pop1]\n",
    "    ac2 = ac_subpops[pop2]\n",
    "    pos = calldata_phase2[chrom]['variants']['POS'][:]    \n",
    "    print (ac1.shape, ac2.shape, pos.shape, seq.shape)\n",
    "    dxy, windows, n_bases, counts = allel.windowed_divergence(pos, ac1, ac2, \n",
    "                                                                    size=window_size, \n",
    "                                                                    start=1, \n",
    "                                                                    stop=pos.max()\n",
    "                                                             )\n",
    "    x = np.mean(windows[n_bases >= min_n_bases], axis=1)\n",
    "    y = dxy[n_bases >= min_n_bases]\n",
    "    fig, ax = plt.subplots(figsize=(14, 4))\n",
    "    sns.despine(ax=ax, offset=10)\n",
    "    ax.plot(x, y, lw=.5)\n",
    "    ax.set_xlim(0, seq.size)\n",
    "    ax.set_title('%s vs %s (%s)' % (pop1, pop2, chrom), fontsize=14)\n",
    "    ax.set_ylabel('Dxy')\n",
    "    ax.set_xlabel('position')\n",
    "    ax.set_ylim(0,0.018)    "
   ]
  },
  {
   "cell_type": "markdown",
   "metadata": {},
   "source": [
    "----------------------------------------------"
   ]
  }
 ],
 "metadata": {
  "kernelspec": {
   "display_name": "Python [conda env:root] *",
   "language": "python",
   "name": "conda-root-py"
  },
  "language_info": {
   "codemirror_mode": {
    "name": "ipython",
    "version": 3
   },
   "file_extension": ".py",
   "mimetype": "text/x-python",
   "name": "python",
   "nbconvert_exporter": "python",
   "pygments_lexer": "ipython3",
   "version": "3.6.7"
  }
 },
 "nbformat": 4,
 "nbformat_minor": 4
}
