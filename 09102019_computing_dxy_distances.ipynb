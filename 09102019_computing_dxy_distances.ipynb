{
 "cells": [
  {
   "cell_type": "markdown",
   "metadata": {},
   "source": [
    "## DXY pairwise calc"
   ]
  },
  {
   "cell_type": "code",
   "execution_count": 1,
   "metadata": {},
   "outputs": [],
   "source": [
    "%run \"imports.ipynb\""
   ]
  },
  {
   "cell_type": "code",
   "execution_count": 2,
   "metadata": {},
   "outputs": [],
   "source": [
    "import sys\n",
    "import gc\n",
    "import datetime\n",
    "import humanize\n",
    "from humanize import naturalsize, intcomma, intword\n",
    "\n",
    "\n",
    "def log(*msg):\n",
    "    print(' '.join(map(str, msg)), file=sys.stdout)\n",
    "    sys.stdout.flush()\n",
    "    \n",
    "from contextlib import contextmanager\n",
    "\n",
    "@contextmanager\n",
    "def timer(*msg):\n",
    "    before = datetime.datetime.now()\n",
    "    try:\n",
    "        yield\n",
    "    except:\n",
    "        after = datetime.datetime.now()\n",
    "        elapsed = (after - before).total_seconds()\n",
    "        done = 'errored after %s' % humanize.naturaldelta(elapsed)\n",
    "        if not msg:\n",
    "            msg = done\n",
    "        else:\n",
    "            msg = ', '.join(map(str, msg)) + ', ' + done\n",
    "        print(msg, file=sys.stderr)\n",
    "        sys.stderr.flush()   \n",
    "        raise\n",
    "    else:\n",
    "        after = datetime.datetime.now()\n",
    "        elapsed = (after - before).total_seconds()\n",
    "        done = 'done in %s' % humanize.naturaldelta(elapsed)\n",
    "        if not msg:\n",
    "            msg = done\n",
    "        else:\n",
    "            msg = ', '.join(map(str, msg)) + ', ' + done\n",
    "        print(msg, file=sys.stdout)\n",
    "        sys.stdout.flush()"
   ]
  },
  {
   "cell_type": "code",
   "execution_count": 3,
   "metadata": {},
   "outputs": [],
   "source": [
    "dist_dn_template = os.path.join('/bucket/dist_haps/')\n",
    "dist_fn_template = '{chrom}.{start:08d}.{stop:08d}.npy'"
   ]
  },
  {
   "cell_type": "code",
   "execution_count": 4,
   "metadata": {},
   "outputs": [],
   "source": [
    "def compute_dxy_distance_matrices(chrom, window_size):\n",
    "    dist_dn = dist_dn_template.format(metric='dxy', window_size=window_size)\n",
    "    if not os.path.exists(dist_dn):\n",
    "        os.makedirs(dist_dn)\n",
    "        \n",
    "    \n",
    "    # load accessibility map\n",
    "    is_accessible = accessibility[chrom]['is_accessible'][:]\n",
    "    \n",
    "    # determine accessible positions\n",
    "    pos_accessible, = np.nonzero(is_accessible)\n",
    "    \n",
    "    # define equally accessible windows\n",
    "    window_starts = pos_accessible[0:None:window_size]\n",
    "    window_stops = pos_accessible[window_size-1:None:window_size]\n",
    "    \n",
    "    # add final window to end of chromosome\n",
    "    window_starts = np.append(window_starts, [window_stops[-1] + 1])\n",
    "    window_stops = np.append(window_stops, [len(genome[chrom])])\n",
    "    \n",
    "    # load variant positions\n",
    "    pos = allel.SortedIndex(calldata_hap_phase2[chrom]['variants']['POS'][:])\n",
    "\n",
    "    # iterate over windows\n",
    "    for window_start, window_stop in zip(window_starts, window_stops):\n",
    "        \n",
    "        # distance matrix file name\n",
    "        dist_fn = dist_fn_template.format(chrom=chrom, start=window_start, stop=window_stop)\n",
    "        dist_path = os.path.join(dist_dn, dist_fn)\n",
    "        \n",
    "        # stay dry\n",
    "        if os.path.exists(dist_path):\n",
    "            log('skipping', dist_path)\n",
    "            \n",
    "        else:\n",
    "            log('building', dist_path)\n",
    "            gc.collect()\n",
    "            \n",
    "            with timer():\n",
    "                \n",
    "                # locate the window\n",
    "                loc = pos.locate_range(window_start, window_stop)\n",
    "                print (loc.start, loc.stop)\n",
    "\n",
    "                # load data\n",
    "                genotypes_phase2_call = calldata_hap_phase2[chrom][\"calldata/GT\"]\n",
    "                genotypes_phase2 = allel.GenotypeChunkedArray(genotypes_phase2_call[loc])\n",
    "                haplotypes = genotypes_phase2.to_haplotypes()\n",
    "                n_variants = genotypes_phase2.shape[0]\n",
    "                log('variants:', n_variants)\n",
    "\n",
    "\n",
    "                # compute hamming distance\n",
    "                dist = allel.pairwise_distance(haplotypes[:], metric='hamming')\n",
    "                log('hamming distance, max:', dist.max(), ', min:', dist.min())\n",
    "\n",
    "                # adjust by accessible window size\n",
    "                n_bases = np.count_nonzero(is_accessible[window_start:window_stop+1])\n",
    "                log('window accessible size:', n_bases)\n",
    "                dist = dist * n_variants / n_bases\n",
    "                log('dxy distance, max:', dist.max(), ', min:', dist.min())\n",
    "\n",
    "                # save\n",
    "                np.save(dist_path, dist)"
   ]
  },
  {
   "cell_type": "code",
   "execution_count": 5,
   "metadata": {
    "scrolled": true
   },
   "outputs": [],
   "source": [
    "#compute_dxy_distance_matrices('3L', 100000)"
   ]
  },
  {
   "cell_type": "code",
   "execution_count": 6,
   "metadata": {
    "scrolled": true
   },
   "outputs": [
    {
     "name": "stdout",
     "output_type": "stream",
     "text": [
      "building /bucket/dist_haps/3R.00000020.00134416.npy\n",
      "0 20578\n",
      "variants: 20578\n",
      "hamming distance, max: 0.06205656526387404 , min: 0.0\n",
      "window accessible size: 100000\n",
      "dxy distance, max: 0.01277 , min: 0.0\n",
      "done in a minute\n",
      "building /bucket/dist_haps/3R.00134417.00243509.npy\n",
      "20578 40624\n",
      "variants: 20046\n",
      "hamming distance, max: 0.05652000399082111 , min: 0.0\n",
      "window accessible size: 100000\n",
      "dxy distance, max: 0.01133 , min: 0.0\n",
      "done in a minute\n",
      "building /bucket/dist_haps/3R.00243510.00352301.npy\n",
      "40624 64392\n",
      "variants: 23768\n",
      "hamming distance, max: 0.04842645573880848 , min: 0.0\n",
      "window accessible size: 100000\n",
      "dxy distance, max: 0.01151 , min: 0.0\n",
      "done in a minute\n",
      "building /bucket/dist_haps/3R.00352302.00473621.npy\n",
      "64392 90063\n",
      "variants: 25671\n",
      "hamming distance, max: 0.0601067352265202 , min: 0.0\n",
      "window accessible size: 100000\n",
      "dxy distance, max: 0.01543 , min: 0.0\n",
      "done in 2 minutes\n",
      "building /bucket/dist_haps/3R.00473622.00577607.npy\n",
      "90063 119286\n",
      "variants: 29223\n",
      "hamming distance, max: 0.036957191253464736 , min: 0.0\n",
      "window accessible size: 100000\n",
      "dxy distance, max: 0.0108 , min: 0.0\n",
      "done in 2 minutes\n",
      "building /bucket/dist_haps/3R.00577608.00690433.npy\n",
      "119286 154390\n",
      "variants: 35104\n",
      "hamming distance, max: 0.02993960802187785 , min: 0.0\n",
      "window accessible size: 100000\n",
      "dxy distance, max: 0.01051 , min: 0.0\n",
      "done in 2 minutes\n",
      "building /bucket/dist_haps/3R.00690434.00801223.npy\n",
      "154390 189721\n",
      "variants: 35331\n",
      "hamming distance, max: 0.028700008491126774 , min: 0.0\n",
      "window accessible size: 100000\n",
      "dxy distance, max: 0.01014 , min: 0.0\n",
      "done in 2 minutes\n",
      "building /bucket/dist_haps/3R.00801224.00915204.npy\n",
      "189721 225687\n",
      "variants: 35966\n"
     ]
    },
    {
     "name": "stderr",
     "output_type": "stream",
     "text": [
      "errored after 2 minutes\n"
     ]
    },
    {
     "ename": "KeyboardInterrupt",
     "evalue": "",
     "output_type": "error",
     "traceback": [
      "\u001b[0;31m---------------------------------------------------------------------------\u001b[0m",
      "\u001b[0;31mKeyboardInterrupt\u001b[0m                         Traceback (most recent call last)",
      "\u001b[0;32m<ipython-input-6-768dba76f7f4>\u001b[0m in \u001b[0;36m<module>\u001b[0;34m\u001b[0m\n\u001b[0;32m----> 1\u001b[0;31m \u001b[0mcompute_dxy_distance_matrices\u001b[0m\u001b[0;34m(\u001b[0m\u001b[0;34m'3R'\u001b[0m\u001b[0;34m,\u001b[0m \u001b[0;36m100000\u001b[0m\u001b[0;34m)\u001b[0m\u001b[0;34m\u001b[0m\u001b[0;34m\u001b[0m\u001b[0m\n\u001b[0m",
      "\u001b[0;32m<ipython-input-4-986e081dbb73>\u001b[0m in \u001b[0;36mcompute_dxy_distance_matrices\u001b[0;34m(chrom, window_size)\u001b[0m\n\u001b[1;32m     52\u001b[0m \u001b[0;34m\u001b[0m\u001b[0m\n\u001b[1;32m     53\u001b[0m                 \u001b[0;31m# compute hamming distance\u001b[0m\u001b[0;34m\u001b[0m\u001b[0;34m\u001b[0m\u001b[0;34m\u001b[0m\u001b[0m\n\u001b[0;32m---> 54\u001b[0;31m                 \u001b[0mdist\u001b[0m \u001b[0;34m=\u001b[0m \u001b[0mallel\u001b[0m\u001b[0;34m.\u001b[0m\u001b[0mpairwise_distance\u001b[0m\u001b[0;34m(\u001b[0m\u001b[0mhaplotypes\u001b[0m\u001b[0;34m[\u001b[0m\u001b[0;34m:\u001b[0m\u001b[0;34m]\u001b[0m\u001b[0;34m,\u001b[0m \u001b[0mmetric\u001b[0m\u001b[0;34m=\u001b[0m\u001b[0;34m'hamming'\u001b[0m\u001b[0;34m)\u001b[0m\u001b[0;34m\u001b[0m\u001b[0;34m\u001b[0m\u001b[0m\n\u001b[0m\u001b[1;32m     55\u001b[0m                 \u001b[0mlog\u001b[0m\u001b[0;34m(\u001b[0m\u001b[0;34m'hamming distance, max:'\u001b[0m\u001b[0;34m,\u001b[0m \u001b[0mdist\u001b[0m\u001b[0;34m.\u001b[0m\u001b[0mmax\u001b[0m\u001b[0;34m(\u001b[0m\u001b[0;34m)\u001b[0m\u001b[0;34m,\u001b[0m \u001b[0;34m', min:'\u001b[0m\u001b[0;34m,\u001b[0m \u001b[0mdist\u001b[0m\u001b[0;34m.\u001b[0m\u001b[0mmin\u001b[0m\u001b[0;34m(\u001b[0m\u001b[0;34m)\u001b[0m\u001b[0;34m)\u001b[0m\u001b[0;34m\u001b[0m\u001b[0;34m\u001b[0m\u001b[0m\n\u001b[1;32m     56\u001b[0m \u001b[0;34m\u001b[0m\u001b[0m\n",
      "\u001b[0;32m/opt/conda/lib/python3.6/site-packages/allel/stats/distance.py\u001b[0m in \u001b[0;36mpairwise_distance\u001b[0;34m(x, metric, chunked, blen)\u001b[0m\n\u001b[1;32m    102\u001b[0m     \u001b[0;32melse\u001b[0m\u001b[0;34m:\u001b[0m\u001b[0;34m\u001b[0m\u001b[0;34m\u001b[0m\u001b[0m\n\u001b[1;32m    103\u001b[0m         \u001b[0;31m# standard implementation\u001b[0m\u001b[0;34m\u001b[0m\u001b[0;34m\u001b[0m\u001b[0;34m\u001b[0m\u001b[0m\n\u001b[0;32m--> 104\u001b[0;31m         \u001b[0mdist\u001b[0m \u001b[0;34m=\u001b[0m \u001b[0mf\u001b[0m\u001b[0;34m(\u001b[0m\u001b[0mx\u001b[0m\u001b[0;34m)\u001b[0m\u001b[0;34m\u001b[0m\u001b[0;34m\u001b[0m\u001b[0m\n\u001b[0m\u001b[1;32m    105\u001b[0m \u001b[0;34m\u001b[0m\u001b[0m\n\u001b[1;32m    106\u001b[0m     \u001b[0;32mreturn\u001b[0m \u001b[0mdist\u001b[0m\u001b[0;34m\u001b[0m\u001b[0;34m\u001b[0m\u001b[0m\n",
      "\u001b[0;32m/opt/conda/lib/python3.6/site-packages/allel/stats/distance.py\u001b[0m in \u001b[0;36mf\u001b[0;34m(b)\u001b[0m\n\u001b[1;32m     80\u001b[0m \u001b[0;34m\u001b[0m\u001b[0m\n\u001b[1;32m     81\u001b[0m             \u001b[0;31m# compute the distance matrix\u001b[0m\u001b[0;34m\u001b[0m\u001b[0;34m\u001b[0m\u001b[0;34m\u001b[0m\u001b[0m\n\u001b[0;32m---> 82\u001b[0;31m             \u001b[0;32mreturn\u001b[0m \u001b[0mscipy\u001b[0m\u001b[0;34m.\u001b[0m\u001b[0mspatial\u001b[0m\u001b[0;34m.\u001b[0m\u001b[0mdistance\u001b[0m\u001b[0;34m.\u001b[0m\u001b[0mpdist\u001b[0m\u001b[0;34m(\u001b[0m\u001b[0mt\u001b[0m\u001b[0;34m,\u001b[0m \u001b[0mmetric\u001b[0m\u001b[0;34m=\u001b[0m\u001b[0mmetric\u001b[0m\u001b[0;34m)\u001b[0m\u001b[0;34m\u001b[0m\u001b[0;34m\u001b[0m\u001b[0m\n\u001b[0m\u001b[1;32m     83\u001b[0m \u001b[0;34m\u001b[0m\u001b[0m\n\u001b[1;32m     84\u001b[0m     \u001b[0;32melse\u001b[0m\u001b[0;34m:\u001b[0m\u001b[0;34m\u001b[0m\u001b[0;34m\u001b[0m\u001b[0m\n",
      "\u001b[0;32m/opt/conda/lib/python3.6/site-packages/scipy/spatial/distance.py\u001b[0m in \u001b[0;36mpdist\u001b[0;34m(X, metric, *args, **kwargs)\u001b[0m\n\u001b[1;32m   2064\u001b[0m             pdist_fn = getattr(_distance_wrap,\n\u001b[1;32m   2065\u001b[0m                                \"pdist_%s_%s_wrap\" % (metric_name, typ))\n\u001b[0;32m-> 2066\u001b[0;31m             \u001b[0mpdist_fn\u001b[0m\u001b[0;34m(\u001b[0m\u001b[0mX\u001b[0m\u001b[0;34m,\u001b[0m \u001b[0mdm\u001b[0m\u001b[0;34m,\u001b[0m \u001b[0;34m**\u001b[0m\u001b[0mkwargs\u001b[0m\u001b[0;34m)\u001b[0m\u001b[0;34m\u001b[0m\u001b[0;34m\u001b[0m\u001b[0m\n\u001b[0m\u001b[1;32m   2067\u001b[0m             \u001b[0;32mreturn\u001b[0m \u001b[0mdm\u001b[0m\u001b[0;34m\u001b[0m\u001b[0;34m\u001b[0m\u001b[0m\n\u001b[1;32m   2068\u001b[0m \u001b[0;34m\u001b[0m\u001b[0m\n",
      "\u001b[0;31mKeyboardInterrupt\u001b[0m: "
     ]
    }
   ],
   "source": [
    "compute_dxy_distance_matrices('3R', 100000)"
   ]
  },
  {
   "cell_type": "code",
   "execution_count": null,
   "metadata": {},
   "outputs": [],
   "source": []
  },
  {
   "cell_type": "code",
   "execution_count": null,
   "metadata": {},
   "outputs": [],
   "source": []
  },
  {
   "cell_type": "code",
   "execution_count": null,
   "metadata": {},
   "outputs": [],
   "source": []
  }
 ],
 "metadata": {
  "kernelspec": {
   "display_name": "Python 3",
   "language": "python",
   "name": "python3"
  },
  "language_info": {
   "codemirror_mode": {
    "name": "ipython",
    "version": 3
   },
   "file_extension": ".py",
   "mimetype": "text/x-python",
   "name": "python",
   "nbconvert_exporter": "python",
   "pygments_lexer": "ipython3",
   "version": "3.6.7"
  }
 },
 "nbformat": 4,
 "nbformat_minor": 4
}
