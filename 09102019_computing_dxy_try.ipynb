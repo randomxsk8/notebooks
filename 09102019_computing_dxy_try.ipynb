{
 "cells": [
  {
   "cell_type": "code",
   "execution_count": 6,
   "metadata": {},
   "outputs": [
    {
     "ename": "NameError",
     "evalue": "name 'callset' is not defined",
     "output_type": "error",
     "traceback": [
      "\u001b[0;31m---------------------------------------------------------------------------\u001b[0m",
      "\u001b[0;31mNameError\u001b[0m                                 Traceback (most recent call last)",
      "\u001b[0;32m~/notebooks/imports.ipynb\u001b[0m in \u001b[0;36m<module>\u001b[0;34m\u001b[0m\n\u001b[0;32m----> 1\u001b[0;31m \u001b[0mpos_phase2\u001b[0m \u001b[0;34m=\u001b[0m \u001b[0mallel\u001b[0m\u001b[0;34m.\u001b[0m\u001b[0mSortedIndex\u001b[0m\u001b[0;34m(\u001b[0m\u001b[0mcallset\u001b[0m\u001b[0;34m[\u001b[0m\u001b[0;34m'3L'\u001b[0m\u001b[0;34m]\u001b[0m\u001b[0;34m[\u001b[0m\u001b[0;34m\"variants/POS\"\u001b[0m\u001b[0;34m]\u001b[0m\u001b[0;34m[\u001b[0m\u001b[0;34m:\u001b[0m\u001b[0;34m]\u001b[0m\u001b[0;34m)\u001b[0m\u001b[0;34m\u001b[0m\u001b[0;34m\u001b[0m\u001b[0m\n\u001b[0m\u001b[1;32m      2\u001b[0m \u001b[0mpos_phase2\u001b[0m\u001b[0;34m\u001b[0m\u001b[0;34m\u001b[0m\u001b[0m\n",
      "\u001b[0;31mNameError\u001b[0m: name 'callset' is not defined"
     ]
    }
   ],
   "source": [
    "%run \"imports.ipynb\""
   ]
  },
  {
   "cell_type": "code",
   "execution_count": 7,
   "metadata": {},
   "outputs": [
    {
     "name": "stderr",
     "output_type": "stream",
     "text": [
      "/opt/conda/lib/python3.6/site-packages/distributed/dashboard/core.py:74: UserWarning: \n",
      "Port 8787 is already in use. \n",
      "Perhaps you already have a cluster running?\n",
      "Hosting the diagnostics dashboard on a random port instead.\n",
      "  warnings.warn(\"\\n\" + msg)\n"
     ]
    },
    {
     "data": {
      "application/vnd.jupyter.widget-view+json": {
       "model_id": "9ba4ce42d9374635b3354db0929ee682",
       "version_major": 2,
       "version_minor": 0
      },
      "text/plain": [
       "VBox(children=(HTML(value='<h2>KubeCluster</h2>'), HBox(children=(HTML(value='\\n<div>\\n  <style scoped>\\n    .…"
      ]
     },
     "metadata": {},
     "output_type": "display_data"
    }
   ],
   "source": [
    "from dask_kubernetes import KubeCluster\n",
    "cluster = KubeCluster(n_workers=30)\n",
    "cluster"
   ]
  },
  {
   "cell_type": "code",
   "execution_count": 8,
   "metadata": {},
   "outputs": [
    {
     "data": {
      "text/html": [
       "<table style=\"border: 2px solid white;\">\n",
       "<tr>\n",
       "<td style=\"vertical-align: top; border: 0px solid white\">\n",
       "<h3>Client</h3>\n",
       "<ul>\n",
       "  <li><b>Scheduler: </b>tcp://10.32.53.35:41119\n",
       "  <li><b>Dashboard: </b><a href='/user/carlo%20mariade%20marco1/proxy/37191/status' target='_blank'>/user/carlo%20mariade%20marco1/proxy/37191/status</a>\n",
       "</ul>\n",
       "</td>\n",
       "<td style=\"vertical-align: top; border: 0px solid white\">\n",
       "<h3>Cluster</h3>\n",
       "<ul>\n",
       "  <li><b>Workers: </b>0</li>\n",
       "  <li><b>Cores: </b>0</li>\n",
       "  <li><b>Memory: </b>0 B</li>\n",
       "</ul>\n",
       "</td>\n",
       "</tr>\n",
       "</table>"
      ],
      "text/plain": [
       "<Client: scheduler='tcp://10.32.53.35:41119' processes=0 cores=0>"
      ]
     },
     "execution_count": 8,
     "metadata": {},
     "output_type": "execute_result"
    }
   ],
   "source": [
    "from dask.distributed import Client\n",
    "client = Client(cluster)\n",
    "client"
   ]
  },
  {
   "cell_type": "code",
   "execution_count": 9,
   "metadata": {},
   "outputs": [],
   "source": [
    "import sys\n",
    "import gc\n",
    "import datetime\n",
    "import humanize\n",
    "from humanize import naturalsize, intcomma, intword\n",
    "\n",
    "\n",
    "def log(*msg):\n",
    "    print(' '.join(map(str, msg)), file=sys.stdout)\n",
    "    sys.stdout.flush()\n",
    "    \n",
    "from contextlib import contextmanager\n",
    "\n",
    "@contextmanager\n",
    "def timer(*msg):\n",
    "    before = datetime.datetime.now()\n",
    "    try:\n",
    "        yield\n",
    "    except:\n",
    "        after = datetime.datetime.now()\n",
    "        elapsed = (after - before).total_seconds()\n",
    "        done = 'errored after %s' % humanize.naturaldelta(elapsed)\n",
    "        if not msg:\n",
    "            msg = done\n",
    "        else:\n",
    "            msg = ', '.join(map(str, msg)) + ', ' + done\n",
    "        print(msg, file=sys.stderr)\n",
    "        sys.stderr.flush()   \n",
    "        raise\n",
    "    else:\n",
    "        after = datetime.datetime.now()\n",
    "        elapsed = (after - before).total_seconds()\n",
    "        done = 'done in %s' % humanize.naturaldelta(elapsed)\n",
    "        if not msg:\n",
    "            msg = done\n",
    "        else:\n",
    "            msg = ', '.join(map(str, msg)) + ', ' + done\n",
    "        print(msg, file=sys.stdout)\n",
    "        sys.stdout.flush()"
   ]
  },
  {
   "cell_type": "code",
   "execution_count": 10,
   "metadata": {},
   "outputs": [],
   "source": [
    "fasta_fn = '/home/jovyan/notebooks/data/Anopheles-gambiae-PEST_CHROMOSOMES_AgamP3.fa'\n",
    "genome = pyfasta.Fasta(fasta_fn)"
   ]
  },
  {
   "cell_type": "code",
   "execution_count": 11,
   "metadata": {},
   "outputs": [],
   "source": [
    "dist_dn_template = os.path.join('/bucket/dist_haps')\n",
    "dist_fn_template = '{chrom}.{start:08d}.{stop:08d}.npy'"
   ]
  },
  {
   "cell_type": "code",
   "execution_count": 14,
   "metadata": {},
   "outputs": [],
   "source": [
    "def compute_dxy_distance_matrices(chrom, window_size):\n",
    "    dist_dn = dist_dn_template.format(metric='dxy', window_size=window_size)\n",
    "    if not os.path.exists(dist_dn):\n",
    "        os.makedirs(dist_dn)\n",
    "    \n",
    "    # load accessibility map\n",
    "    is_accessible = accessibility[chrom]['is_accessible'][:]\n",
    "    \n",
    "    # determine accessible positions\n",
    "    pos_accessible, = np.nonzero(is_accessible)\n",
    "    \n",
    "    # define equally accessible windows\n",
    "    window_starts = pos_accessible[0:None:window_size]\n",
    "    window_stops = pos_accessible[window_size-1:None:window_size]\n",
    "    \n",
    "    # add final window to end of chromosome\n",
    "    window_starts = np.append(window_starts, [window_stops[-1] + 1])\n",
    "    window_stops = np.append(window_stops, [len(genome[chrom])])\n",
    "    \n",
    "    # load variant positions\n",
    "    pos = allel.SortedIndex(calldata_hap_phase2[chrom]['variants']['POS'][:])\n",
    "\n",
    "    # iterate over windows\n",
    "    for window_start, window_stop in zip(window_starts, window_stops):\n",
    "        \n",
    "        # distance matrix file name\n",
    "        dist_fn = dist_fn_template.format(chrom=chrom, start=window_start, stop=window_stop)\n",
    "        dist_path = os.path.join(dist_dn, dist_fn)\n",
    "        \n",
    "        # stay dry\n",
    "        if os.path.exists(dist_path):\n",
    "            log('skipping', dist_path)\n",
    "            \n",
    "        else:\n",
    "            log('building', dist_path)\n",
    "            gc.collect()\n",
    "            \n",
    "            with timer():\n",
    "                \n",
    "                # locate the window\n",
    "                loc = pos.locate_range(window_start, window_stop)\n",
    "                print (loc.start, loc.stop)\n",
    "\n",
    "                # load data\n",
    "                genotypes_phase2_call = calldata_hap_phase2[chrom][\"calldata/GT\"]\n",
    "                genotypes_phase2 = allel.GenotypeChunkedArray(genotypes_phase2_call[loc])\n",
    "                haplotypes = genotypes_phase2.to_haplotypes()\n",
    "                n_variants = genotypes_phase2.shape[0]\n",
    "                log('variants:', n_variants)\n",
    "\n",
    "\n",
    "                # compute hamming distance\n",
    "                dist = allel.pairwise_distance(haplotypes[:], metric='hamming')\n",
    "                log('hamming distance, max:', dist.max(), ', min:', dist.min())\n",
    "\n",
    "                # adjust by accessible window size\n",
    "                n_bases = np.count_nonzero(is_accessible[window_start:window_stop+1])\n",
    "                log('window accessible size:', n_bases)\n",
    "                dist = dist * n_variants / n_bases\n",
    "                log('dxy distance, max:', dist.max(), ', min:', dist.min())\n",
    "\n",
    "                # save\n",
    "                np.save(dist_path, dist)"
   ]
  },
  {
   "cell_type": "code",
   "execution_count": null,
   "metadata": {},
   "outputs": [],
   "source": [
    "dxy_3R = compute_dxy_distance_matrices('3R', 50000)"
   ]
  },
  {
   "cell_type": "code",
   "execution_count": null,
   "metadata": {},
   "outputs": [],
   "source": [
    "dxy_3L = compute_dxy_distance_matrices('3L', 50000)"
   ]
  },
  {
   "cell_type": "code",
   "execution_count": null,
   "metadata": {},
   "outputs": [],
   "source": []
  }
 ],
 "metadata": {
  "kernelspec": {
   "display_name": "Python 3",
   "language": "python",
   "name": "python3"
  },
  "language_info": {
   "codemirror_mode": {
    "name": "ipython",
    "version": 3
   },
   "file_extension": ".py",
   "mimetype": "text/x-python",
   "name": "python",
   "nbconvert_exporter": "python",
   "pygments_lexer": "ipython3",
   "version": "3.6.7"
  }
 },
 "nbformat": 4,
 "nbformat_minor": 4
}
