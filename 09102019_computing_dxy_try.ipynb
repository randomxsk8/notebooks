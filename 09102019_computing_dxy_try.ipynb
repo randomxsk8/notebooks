{
 "cells": [
  {
   "cell_type": "code",
   "execution_count": 1,
   "metadata": {},
   "outputs": [],
   "source": [
    "%run \"imports.ipynb\""
   ]
  },
  {
   "cell_type": "code",
   "execution_count": 4,
   "metadata": {},
   "outputs": [],
   "source": [
    "fasta_fn = '/home/jovyan/notebooks/data/Anopheles-gambiae-PEST_CHROMOSOMES_AgamP3.fa'\n",
    "genome = pyfasta.Fasta(fasta_fn)"
   ]
  },
  {
   "cell_type": "code",
   "execution_count": 5,
   "metadata": {},
   "outputs": [],
   "source": [
    "dist_dn_template = os.path.join('/bucket/dist_haps')\n",
    "dist_fn_template = '{chrom}.{start:08d}.{stop:08d}.npy'"
   ]
  },
  {
   "cell_type": "code",
   "execution_count": 6,
   "metadata": {},
   "outputs": [],
   "source": [
    "def compute_dxy_distance_matrices(chrom, window_size):\n",
    "    dist_dn = dist_dn_template.format(metric='dxy', window_size=window_size)\n",
    "    if not os.path.exists(dist_dn):\n",
    "        os.makedirs(dist_dn)\n",
    "    \n",
    "    # load accessibility map\n",
    "    is_accessible = accessibility[chrom]['is_accessible'][:]\n",
    "    \n",
    "    # determine accessible positions\n",
    "    pos_accessible, = np.nonzero(is_accessible)\n",
    "    \n",
    "    # define equally accessible windows\n",
    "    window_starts = pos_accessible[0:None:window_size]\n",
    "    window_stops = pos_accessible[window_size-1:None:window_size]\n",
    "    \n",
    "    # add final window to end of chromosome\n",
    "    window_starts = np.append(window_starts, [window_stops[-1] + 1])\n",
    "    window_stops = np.append(window_stops, [len(genome[chrom])])\n",
    "    \n",
    "    # load variant positions\n",
    "    pos = allel.SortedIndex(calldata_hap_phase2[chrom]['variants']['POS'][:])\n",
    "\n",
    "    # iterate over windows\n",
    "    for window_start, window_stop in zip(window_starts, window_stops):\n",
    "        \n",
    "        # distance matrix file name\n",
    "        dist_fn = dist_fn_template.format(chrom=chrom, start=window_start, stop=window_stop)\n",
    "        dist_path = os.path.join(dist_dn, dist_fn)\n",
    "        \n",
    "        # stay dry\n",
    "        if os.path.exists(dist_path):\n",
    "            log('skipping', dist_path)\n",
    "            \n",
    "        else:\n",
    "            log('building', dist_path)\n",
    "            gc.collect()\n",
    "            \n",
    "            with timer():\n",
    "                \n",
    "                # locate the window\n",
    "                loc = pos.locate_range(window_start, window_stop)\n",
    "                print (loc.start, loc.stop)\n",
    "\n",
    "                # load data\n",
    "                genotypes_phase2_call = calldata_hap_phase2[chrom][\"calldata/GT\"]\n",
    "                genotypes_phase2 = allel.GenotypeDaskArray(genotypes_phase2_call[loc])\n",
    "                haplotypes = genotypes_phase2.to_haplotypes()\n",
    "                n_variants = genotypes_phase2.shape[0]\n",
    "                log('variants:', n_variants)\n",
    "\n",
    "\n",
    "                # compute hamming distance\n",
    "                dist = allel.pairwise_distance(haplotypes[:], metric='hamming')\n",
    "                log('hamming distance, max:', dist.max(), ', min:', dist.min())\n",
    "\n",
    "                # adjust by accessible window size\n",
    "                n_bases = np.count_nonzero(is_accessible[window_start:window_stop+1])\n",
    "                log('window accessible size:', n_bases)\n",
    "                dist = dist * n_variants / n_bases\n",
    "                log('dxy distance, max:', dist.max(), ', min:', dist.min())\n",
    "\n",
    "                # save\n",
    "                np.save(dist_path, dist)"
   ]
  },
  {
   "cell_type": "code",
   "execution_count": null,
   "metadata": {},
   "outputs": [],
   "source": [
    "dxy_3R = compute_dxy_distance_matrices('3R', 50000)"
   ]
  },
  {
   "cell_type": "code",
   "execution_count": null,
   "metadata": {},
   "outputs": [
    {
     "name": "stdout",
     "output_type": "stream",
     "text": [
      "building /bucket/dist_haps/3L.00009778.00730787.npy\n",
      "0 10720\n",
      "variants: 10720\n"
     ]
    }
   ],
   "source": [
    "dxy_3L = compute_dxy_distance_matrices('3L', 100000)"
   ]
  },
  {
   "cell_type": "code",
   "execution_count": null,
   "metadata": {},
   "outputs": [],
   "source": []
  }
 ],
 "metadata": {
  "kernelspec": {
   "display_name": "Python 3",
   "language": "python",
   "name": "python3"
  },
  "language_info": {
   "codemirror_mode": {
    "name": "ipython",
    "version": 3
   },
   "file_extension": ".py",
   "mimetype": "text/x-python",
   "name": "python",
   "nbconvert_exporter": "python",
   "pygments_lexer": "ipython3",
   "version": "3.6.7"
  }
 },
 "nbformat": 4,
 "nbformat_minor": 4
}
