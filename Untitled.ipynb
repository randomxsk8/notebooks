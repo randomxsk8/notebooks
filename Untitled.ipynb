{
 "cells": [
  {
   "cell_type": "code",
   "execution_count": null,
   "metadata": {},
   "outputs": [],
   "source": []
  },
  {
   "cell_type": "code",
   "execution_count": 1,
   "metadata": {},
   "outputs": [],
   "source": [
    "%run imports.ipynb"
   ]
  },
  {
   "cell_type": "code",
   "execution_count": 3,
   "metadata": {},
   "outputs": [
    {
     "data": {
      "text/html": [
       "<div class=\"allel allel-DisplayAs1D\"><span>&lt;SortedIndex shape=(7897666,) dtype=int32&gt;</span><table><thead><tr><th style=\"text-align: center\">0</th><th style=\"text-align: center\">1</th><th style=\"text-align: center\">2</th><th style=\"text-align: center\">3</th><th style=\"text-align: center\">4</th><th style=\"text-align: center\">...</th><th style=\"text-align: center\">7897661</th><th style=\"text-align: center\">7897662</th><th style=\"text-align: center\">7897663</th><th style=\"text-align: center\">7897664</th><th style=\"text-align: center\">7897665</th></tr></thead><tbody><tr><td style=\"text-align: center\">9790</td><td style=\"text-align: center\">9791</td><td style=\"text-align: center\">9798</td><td style=\"text-align: center\">9812</td><td style=\"text-align: center\">9815</td><td style=\"text-align: center\">...</td><td style=\"text-align: center\">41956530</td><td style=\"text-align: center\">41956532</td><td style=\"text-align: center\">41956537</td><td style=\"text-align: center\">41956541</td><td style=\"text-align: center\">41956551</td></tr></tbody></table></div>"
      ],
      "text/plain": [
       "<SortedIndex shape=(7897666,) dtype=int32>\n",
       "[9790, 9791, 9798, 9812, 9815, ..., 41956530, 41956532, 41956537, 41956541, 41956551]"
      ]
     },
     "execution_count": 3,
     "metadata": {},
     "output_type": "execute_result"
    }
   ],
   "source": [
    "pos = allel.SortedIndex(callset_biallel['3L'][\"variants/POS\"][:])\n",
    "pos"
   ]
  },
  {
   "cell_type": "code",
   "execution_count": 18,
   "metadata": {},
   "outputs": [],
   "source": [
    "### slice\n",
    "free_3L = pos.locate_range(15000000, 41000000)"
   ]
  },
  {
   "cell_type": "code",
   "execution_count": 27,
   "metadata": {},
   "outputs": [
    {
     "data": {
      "text/html": [
       "<div class=\"allel allel-DisplayAs1D\"><span>&lt;SortedIndex shape=(5989818,) dtype=int32&gt;</span><table><thead><tr><th style=\"text-align: center\">0</th><th style=\"text-align: center\">1</th><th style=\"text-align: center\">2</th><th style=\"text-align: center\">3</th><th style=\"text-align: center\">4</th><th style=\"text-align: center\">...</th><th style=\"text-align: center\">5989813</th><th style=\"text-align: center\">5989814</th><th style=\"text-align: center\">5989815</th><th style=\"text-align: center\">5989816</th><th style=\"text-align: center\">5989817</th></tr></thead><tbody><tr><td style=\"text-align: center\">15000349</td><td style=\"text-align: center\">15000352</td><td style=\"text-align: center\">15000353</td><td style=\"text-align: center\">15000357</td><td style=\"text-align: center\">15000359</td><td style=\"text-align: center\">...</td><td style=\"text-align: center\">40999944</td><td style=\"text-align: center\">40999945</td><td style=\"text-align: center\">40999946</td><td style=\"text-align: center\">40999947</td><td style=\"text-align: center\">40999948</td></tr></tbody></table></div>"
      ],
      "text/plain": [
       "<SortedIndex shape=(5989818,) dtype=int32>\n",
       "[15000349, 15000352, 15000353, 15000357, 15000359, ..., 40999944, 40999945, 40999946, 40999947, 40999948]"
      ]
     },
     "execution_count": 27,
     "metadata": {},
     "output_type": "execute_result"
    }
   ],
   "source": [
    "sel1 = pos[free_3L]\n",
    "sel1"
   ]
  },
  {
   "cell_type": "code",
   "execution_count": 22,
   "metadata": {},
   "outputs": [],
   "source": [
    "loc1, loc2 = pos.locate_intersection(sel1)\n"
   ]
  },
  {
   "cell_type": "code",
   "execution_count": 7,
   "metadata": {},
   "outputs": [
    {
     "data": {
      "text/html": [
       "<div class=\"allel allel-DisplayAs2D\"><span>&lt;GenotypeChunkedArray shape=(7897666, 1142, 2) dtype=int8 chunks=(524288, 61, 2)\n",
       "   nbytes=16.8G cbytes=-1 cratio=-18038269144.0\n",
       "   compression=blosc compression_opts={'cname': 'zstd', 'clevel': 1, 'shuffle': -1, 'blocksize': 0}\n",
       "   values=zarr.core.Array&gt;</span><table><thead><tr><th></th><th style=\"text-align: center\">0</th><th style=\"text-align: center\">1</th><th style=\"text-align: center\">2</th><th style=\"text-align: center\">3</th><th style=\"text-align: center\">4</th><th style=\"text-align: center\">...</th><th style=\"text-align: center\">1137</th><th style=\"text-align: center\">1138</th><th style=\"text-align: center\">1139</th><th style=\"text-align: center\">1140</th><th style=\"text-align: center\">1141</th></tr></thead><tbody><tr><th style=\"text-align: center; background-color: white; border-right: 1px solid black; \">0</th><td style=\"text-align: center\">0/0</td><td style=\"text-align: center\">0/0</td><td style=\"text-align: center\">0/0</td><td style=\"text-align: center\">0/0</td><td style=\"text-align: center\">0/0</td><td style=\"text-align: center\">...</td><td style=\"text-align: center\">0/0</td><td style=\"text-align: center\">0/0</td><td style=\"text-align: center\">0/0</td><td style=\"text-align: center\">0/0</td><td style=\"text-align: center\">0/0</td></tr><tr><th style=\"text-align: center; background-color: white; border-right: 1px solid black; \">1</th><td style=\"text-align: center\">0/0</td><td style=\"text-align: center\">0/0</td><td style=\"text-align: center\">0/0</td><td style=\"text-align: center\">0/0</td><td style=\"text-align: center\">0/0</td><td style=\"text-align: center\">...</td><td style=\"text-align: center\">0/0</td><td style=\"text-align: center\">0/0</td><td style=\"text-align: center\">0/0</td><td style=\"text-align: center\">0/0</td><td style=\"text-align: center\">0/0</td></tr><tr><th style=\"text-align: center; background-color: white; border-right: 1px solid black; \">2</th><td style=\"text-align: center\">0/0</td><td style=\"text-align: center\">0/0</td><td style=\"text-align: center\">0/0</td><td style=\"text-align: center\">0/0</td><td style=\"text-align: center\">0/0</td><td style=\"text-align: center\">...</td><td style=\"text-align: center\">0/0</td><td style=\"text-align: center\">0/0</td><td style=\"text-align: center\">0/0</td><td style=\"text-align: center\">0/0</td><td style=\"text-align: center\">0/0</td></tr><tr><th style=\"text-align: center; background-color: white; border-right: 1px solid black; \">...</th><td style=\"text-align: center\" colspan=\"12\">...</td></tr><tr><th style=\"text-align: center; background-color: white; border-right: 1px solid black; \">7897663</th><td style=\"text-align: center\">0/0</td><td style=\"text-align: center\">0/0</td><td style=\"text-align: center\">0/0</td><td style=\"text-align: center\">0/0</td><td style=\"text-align: center\">0/0</td><td style=\"text-align: center\">...</td><td style=\"text-align: center\">0/0</td><td style=\"text-align: center\">0/0</td><td style=\"text-align: center\">0/0</td><td style=\"text-align: center\">0/0</td><td style=\"text-align: center\">0/0</td></tr><tr><th style=\"text-align: center; background-color: white; border-right: 1px solid black; \">7897664</th><td style=\"text-align: center\">0/0</td><td style=\"text-align: center\">0/0</td><td style=\"text-align: center\">0/0</td><td style=\"text-align: center\">0/0</td><td style=\"text-align: center\">0/0</td><td style=\"text-align: center\">...</td><td style=\"text-align: center\">0/0</td><td style=\"text-align: center\">0/0</td><td style=\"text-align: center\">0/0</td><td style=\"text-align: center\">0/0</td><td style=\"text-align: center\">0/0</td></tr><tr><th style=\"text-align: center; background-color: white; border-right: 1px solid black; \">7897665</th><td style=\"text-align: center\">0/0</td><td style=\"text-align: center\">0/0</td><td style=\"text-align: center\">0/0</td><td style=\"text-align: center\">0/0</td><td style=\"text-align: center\">0/0</td><td style=\"text-align: center\">...</td><td style=\"text-align: center\">0/0</td><td style=\"text-align: center\">0/0</td><td style=\"text-align: center\">0/0</td><td style=\"text-align: center\">0/0</td><td style=\"text-align: center\">0/0</td></tr></tbody></table></div>"
      ],
      "text/plain": [
       "<GenotypeChunkedArray shape=(7897666, 1142, 2) dtype=int8 chunks=(524288, 61, 2)\n",
       "   nbytes=16.8G cbytes=-1 cratio=-18038269144.0\n",
       "   compression=blosc compression_opts={'cname': 'zstd', 'clevel': 1, 'shuffle': -1, 'blocksize': 0}\n",
       "   values=zarr.core.Array>"
      ]
     },
     "execution_count": 7,
     "metadata": {},
     "output_type": "execute_result"
    }
   ],
   "source": [
    "genotypes_3L = allel.GenotypeChunkedArray(callset_biallel['3L'][\"calldata/GT\"])\n",
    "genotypes_3L"
   ]
  },
  {
   "cell_type": "code",
   "execution_count": 26,
   "metadata": {},
   "outputs": [
    {
     "data": {
      "text/html": [
       "<div class=\"allel allel-DisplayAs2D\"><span>&lt;GenotypeChunkedArray shape=(5989818, 1142, 2) dtype=int8 chunks=(2925, 1142, 2)\n",
       "   nbytes=12.7G cbytes=534.7M cratio=24.4\n",
       "   compression=blosc compression_opts={'cname': 'lz4', 'clevel': 5, 'shuffle': 1, 'blocksize': 0}\n",
       "   values=zarr.core.Array&gt;</span><table><thead><tr><th></th><th style=\"text-align: center\">0</th><th style=\"text-align: center\">1</th><th style=\"text-align: center\">2</th><th style=\"text-align: center\">3</th><th style=\"text-align: center\">4</th><th style=\"text-align: center\">...</th><th style=\"text-align: center\">1137</th><th style=\"text-align: center\">1138</th><th style=\"text-align: center\">1139</th><th style=\"text-align: center\">1140</th><th style=\"text-align: center\">1141</th></tr></thead><tbody><tr><th style=\"text-align: center; background-color: white; border-right: 1px solid black; \">0</th><td style=\"text-align: center\">0/0</td><td style=\"text-align: center\">0/0</td><td style=\"text-align: center\">0/0</td><td style=\"text-align: center\">0/0</td><td style=\"text-align: center\">0/0</td><td style=\"text-align: center\">...</td><td style=\"text-align: center\">0/0</td><td style=\"text-align: center\">0/0</td><td style=\"text-align: center\">0/0</td><td style=\"text-align: center\">0/0</td><td style=\"text-align: center\">0/0</td></tr><tr><th style=\"text-align: center; background-color: white; border-right: 1px solid black; \">1</th><td style=\"text-align: center\">0/0</td><td style=\"text-align: center\">0/0</td><td style=\"text-align: center\">0/0</td><td style=\"text-align: center\">0/0</td><td style=\"text-align: center\">0/0</td><td style=\"text-align: center\">...</td><td style=\"text-align: center\">0/0</td><td style=\"text-align: center\">0/0</td><td style=\"text-align: center\">0/0</td><td style=\"text-align: center\">0/0</td><td style=\"text-align: center\">0/0</td></tr><tr><th style=\"text-align: center; background-color: white; border-right: 1px solid black; \">2</th><td style=\"text-align: center\">0/0</td><td style=\"text-align: center\">0/0</td><td style=\"text-align: center\">0/0</td><td style=\"text-align: center\">0/0</td><td style=\"text-align: center\">0/0</td><td style=\"text-align: center\">...</td><td style=\"text-align: center\">0/0</td><td style=\"text-align: center\">0/0</td><td style=\"text-align: center\">0/0</td><td style=\"text-align: center\">0/0</td><td style=\"text-align: center\">0/0</td></tr><tr><th style=\"text-align: center; background-color: white; border-right: 1px solid black; \">...</th><td style=\"text-align: center\" colspan=\"12\">...</td></tr><tr><th style=\"text-align: center; background-color: white; border-right: 1px solid black; \">5989815</th><td style=\"text-align: center\">0/0</td><td style=\"text-align: center\">0/0</td><td style=\"text-align: center\">0/0</td><td style=\"text-align: center\">0/0</td><td style=\"text-align: center\">0/0</td><td style=\"text-align: center\">...</td><td style=\"text-align: center\">0/0</td><td style=\"text-align: center\">0/0</td><td style=\"text-align: center\">0/0</td><td style=\"text-align: center\">0/0</td><td style=\"text-align: center\">0/0</td></tr><tr><th style=\"text-align: center; background-color: white; border-right: 1px solid black; \">5989816</th><td style=\"text-align: center\">0/0</td><td style=\"text-align: center\">0/0</td><td style=\"text-align: center\">0/1</td><td style=\"text-align: center\">0/0</td><td style=\"text-align: center\">0/0</td><td style=\"text-align: center\">...</td><td style=\"text-align: center\">0/0</td><td style=\"text-align: center\">0/0</td><td style=\"text-align: center\">0/0</td><td style=\"text-align: center\">0/0</td><td style=\"text-align: center\">0/0</td></tr><tr><th style=\"text-align: center; background-color: white; border-right: 1px solid black; \">5989817</th><td style=\"text-align: center\">0/0</td><td style=\"text-align: center\">0/0</td><td style=\"text-align: center\">0/0</td><td style=\"text-align: center\">0/0</td><td style=\"text-align: center\">0/0</td><td style=\"text-align: center\">...</td><td style=\"text-align: center\">0/0</td><td style=\"text-align: center\">0/0</td><td style=\"text-align: center\">0/0</td><td style=\"text-align: center\">0/0</td><td style=\"text-align: center\">0/0</td></tr></tbody></table></div>"
      ],
      "text/plain": [
       "<GenotypeChunkedArray shape=(5989818, 1142, 2) dtype=int8 chunks=(2925, 1142, 2)\n",
       "   nbytes=12.7G cbytes=534.7M cratio=24.4\n",
       "   compression=blosc compression_opts={'cname': 'lz4', 'clevel': 5, 'shuffle': 1, 'blocksize': 0}\n",
       "   values=zarr.core.Array>"
      ]
     },
     "execution_count": 26,
     "metadata": {},
     "output_type": "execute_result"
    }
   ],
   "source": [
    "genotypes_3L_sub = genotypes_3L.subset(sel0=loc1)\n",
    "genotypes_3L_sub"
   ]
  },
  {
   "cell_type": "code",
   "execution_count": 28,
   "metadata": {},
   "outputs": [],
   "source": [
    "grp = metadata.groupby(\"population\")\n",
    "grp_indices = grp.indices\n",
    "ac_subpops = genotypes_3L_sub.count_alleles_subpops(grp_indices)"
   ]
  },
  {
   "cell_type": "code",
   "execution_count": 29,
   "metadata": {},
   "outputs": [
    {
     "data": {
      "text/html": [
       "<div class=\"allel allel-DisplayAsTable\"><span>&lt;AlleleCountsChunkedTable shape=(5989818,) dtype=[('AOcol', '&lt;i4', (2,)), ('BFcol', '&lt;i4', (2,)), ('BFgam', '&lt;i4', (2,)), ('CIcol', '&lt;i4', (2,)), ('CMgam', '&lt;i4', (2,)), ('FRgam', '&lt;i4', (2,)), ('GAgam', '&lt;i4', (2,)), ('GHcol', '&lt;i4', (2,)), ('GHgam', '&lt;i4', (2,)), ('GM', '&lt;i4', (2,)), ('GNcol', '&lt;i4', (2,)), ('GNgam', '&lt;i4', (2,)), ('GQgam', '&lt;i4', (2,)), ('GW', '&lt;i4', (2,)), ('KE', '&lt;i4', (2,)), ('UGgam', '&lt;i4', (2,))]\n",
       "   nbytes=731.2M cbytes=64.7M cratio=11.3\n",
       "   values=allel.chunked.storage_zarr.ZarrTable&gt;</span><table><thead><tr><th></th><th style=\"text-align: center\">AOcol</th><th style=\"text-align: center\">BFcol</th><th style=\"text-align: center\">BFgam</th><th style=\"text-align: center\">CIcol</th><th style=\"text-align: center\">CMgam</th><th style=\"text-align: center\">FRgam</th><th style=\"text-align: center\">GAgam</th><th style=\"text-align: center\">GHcol</th><th style=\"text-align: center\">GHgam</th><th style=\"text-align: center\">GM</th><th style=\"text-align: center\">GNcol</th><th style=\"text-align: center\">GNgam</th><th style=\"text-align: center\">GQgam</th><th style=\"text-align: center\">GW</th><th style=\"text-align: center\">KE</th><th style=\"text-align: center\">UGgam</th></tr></thead><tbody><tr><th style=\"text-align: center; background-color: white; border-right: 1px solid black; \">0</th><td style=\"text-align: center\">[156   0]</td><td style=\"text-align: center\">[150   0]</td><td style=\"text-align: center\">[184   0]</td><td style=\"text-align: center\">[142   0]</td><td style=\"text-align: center\">[592   2]</td><td style=\"text-align: center\">[48  0]</td><td style=\"text-align: center\">[138   0]</td><td style=\"text-align: center\">[110   0]</td><td style=\"text-align: center\">[24  0]</td><td style=\"text-align: center\">[130   0]</td><td style=\"text-align: center\">[8 0]</td><td style=\"text-align: center\">[80  0]</td><td style=\"text-align: center\">[18  0]</td><td style=\"text-align: center\">[182   0]</td><td style=\"text-align: center\">[96  0]</td><td style=\"text-align: center\">[224   0]</td></tr><tr><th style=\"text-align: center; background-color: white; border-right: 1px solid black; \">1</th><td style=\"text-align: center\">[156   0]</td><td style=\"text-align: center\">[150   0]</td><td style=\"text-align: center\">[183   1]</td><td style=\"text-align: center\">[142   0]</td><td style=\"text-align: center\">[594   0]</td><td style=\"text-align: center\">[48  0]</td><td style=\"text-align: center\">[138   0]</td><td style=\"text-align: center\">[110   0]</td><td style=\"text-align: center\">[24  0]</td><td style=\"text-align: center\">[130   0]</td><td style=\"text-align: center\">[8 0]</td><td style=\"text-align: center\">[80  0]</td><td style=\"text-align: center\">[18  0]</td><td style=\"text-align: center\">[182   0]</td><td style=\"text-align: center\">[96  0]</td><td style=\"text-align: center\">[224   0]</td></tr><tr><th style=\"text-align: center; background-color: white; border-right: 1px solid black; \">2</th><td style=\"text-align: center\">[156   0]</td><td style=\"text-align: center\">[150   0]</td><td style=\"text-align: center\">[183   1]</td><td style=\"text-align: center\">[142   0]</td><td style=\"text-align: center\">[592   2]</td><td style=\"text-align: center\">[48  0]</td><td style=\"text-align: center\">[138   0]</td><td style=\"text-align: center\">[110   0]</td><td style=\"text-align: center\">[24  0]</td><td style=\"text-align: center\">[130   0]</td><td style=\"text-align: center\">[8 0]</td><td style=\"text-align: center\">[79  1]</td><td style=\"text-align: center\">[18  0]</td><td style=\"text-align: center\">[182   0]</td><td style=\"text-align: center\">[96  0]</td><td style=\"text-align: center\">[224   0]</td></tr><tr><th style=\"text-align: center; background-color: white; border-right: 1px solid black; \">...</th><td style=\"text-align: center\" colspan=\"17\">...</td></tr><tr><th style=\"text-align: center; background-color: white; border-right: 1px solid black; \">5989815</th><td style=\"text-align: center\">[156   0]</td><td style=\"text-align: center\">[150   0]</td><td style=\"text-align: center\">[184   0]</td><td style=\"text-align: center\">[142   0]</td><td style=\"text-align: center\">[592   2]</td><td style=\"text-align: center\">[48  0]</td><td style=\"text-align: center\">[138   0]</td><td style=\"text-align: center\">[110   0]</td><td style=\"text-align: center\">[24  0]</td><td style=\"text-align: center\">[130   0]</td><td style=\"text-align: center\">[8 0]</td><td style=\"text-align: center\">[80  0]</td><td style=\"text-align: center\">[18  0]</td><td style=\"text-align: center\">[182   0]</td><td style=\"text-align: center\">[96  0]</td><td style=\"text-align: center\">[224   0]</td></tr><tr><th style=\"text-align: center; background-color: white; border-right: 1px solid black; \">5989816</th><td style=\"text-align: center\">[151   5]</td><td style=\"text-align: center\">[147   3]</td><td style=\"text-align: center\">[184   0]</td><td style=\"text-align: center\">[140   2]</td><td style=\"text-align: center\">[589   5]</td><td style=\"text-align: center\">[48  0]</td><td style=\"text-align: center\">[138   0]</td><td style=\"text-align: center\">[101   9]</td><td style=\"text-align: center\">[24  0]</td><td style=\"text-align: center\">[122   8]</td><td style=\"text-align: center\">[8 0]</td><td style=\"text-align: center\">[79  1]</td><td style=\"text-align: center\">[18  0]</td><td style=\"text-align: center\">[175   7]</td><td style=\"text-align: center\">[96  0]</td><td style=\"text-align: center\">[220   4]</td></tr><tr><th style=\"text-align: center; background-color: white; border-right: 1px solid black; \">5989817</th><td style=\"text-align: center\">[156   0]</td><td style=\"text-align: center\">[150   0]</td><td style=\"text-align: center\">[184   0]</td><td style=\"text-align: center\">[142   0]</td><td style=\"text-align: center\">[594   0]</td><td style=\"text-align: center\">[48  0]</td><td style=\"text-align: center\">[138   0]</td><td style=\"text-align: center\">[109   1]</td><td style=\"text-align: center\">[24  0]</td><td style=\"text-align: center\">[130   0]</td><td style=\"text-align: center\">[8 0]</td><td style=\"text-align: center\">[80  0]</td><td style=\"text-align: center\">[18  0]</td><td style=\"text-align: center\">[182   0]</td><td style=\"text-align: center\">[96  0]</td><td style=\"text-align: center\">[224   0]</td></tr></tbody></table></div>"
      ],
      "text/plain": [
       "<AlleleCountsChunkedTable shape=(5989818,) dtype=[('AOcol', '<i4', (2,)), ('BFcol', '<i4', (2,)), ('BFgam', '<i4', (2,)), ('CIcol', '<i4', (2,)), ('CMgam', '<i4', (2,)), ('FRgam', '<i4', (2,)), ('GAgam', '<i4', (2,)), ('GHcol', '<i4', (2,)), ('GHgam', '<i4', (2,)), ('GM', '<i4', (2,)), ('GNcol', '<i4', (2,)), ('GNgam', '<i4', (2,)), ('GQgam', '<i4', (2,)), ('GW', '<i4', (2,)), ('KE', '<i4', (2,)), ('UGgam', '<i4', (2,))]\n",
       "   nbytes=731.2M cbytes=64.7M cratio=11.3\n",
       "   values=allel.chunked.storage_zarr.ZarrTable>"
      ]
     },
     "execution_count": 29,
     "metadata": {},
     "output_type": "execute_result"
    }
   ],
   "source": [
    "ac_subpops"
   ]
  },
  {
   "cell_type": "code",
   "execution_count": 32,
   "metadata": {},
   "outputs": [],
   "source": [
    "ac_frequencies = {pop: ac_subpops[pop].to_frequencies() for pop in grp_indices}"
   ]
  },
  {
   "cell_type": "code",
   "execution_count": 36,
   "metadata": {},
   "outputs": [
    {
     "data": {
      "text/plain": [
       "array([[1., 0.],\n",
       "       [1., 0.],\n",
       "       [1., 0.],\n",
       "       ...,\n",
       "       [1., 0.],\n",
       "       [1., 0.],\n",
       "       [1., 0.]])"
      ]
     },
     "execution_count": 36,
     "metadata": {},
     "output_type": "execute_result"
    }
   ],
   "source": [
    "ac_frequencies['KE'][:]"
   ]
  },
  {
   "cell_type": "code",
   "execution_count": 43,
   "metadata": {},
   "outputs": [],
   "source": [
    "acsu = dict()\n",
    "for pop in populations:\n",
    "        acsu[pop] = ac_frequencies[pop]"
   ]
  },
  {
   "cell_type": "code",
   "execution_count": 44,
   "metadata": {},
   "outputs": [
    {
     "data": {
      "text/plain": [
       "{'AOcol': <ChunkedArrayWrapper shape=(5989818, 2) dtype=float64 chunks=(93591, 2)\n",
       "    nbytes=91.4M cbytes=21.3M cratio=4.3\n",
       "    compression=blosc compression_opts={'cname': 'lz4', 'clevel': 5, 'shuffle': 1, 'blocksize': 0}\n",
       "    values=zarr.core.Array>,\n",
       " 'BFcol': <ChunkedArrayWrapper shape=(5989818, 2) dtype=float64 chunks=(93591, 2)\n",
       "    nbytes=91.4M cbytes=39.6M cratio=2.3\n",
       "    compression=blosc compression_opts={'cname': 'lz4', 'clevel': 5, 'shuffle': 1, 'blocksize': 0}\n",
       "    values=zarr.core.Array>,\n",
       " 'CIcol': <ChunkedArrayWrapper shape=(5989818, 2) dtype=float64 chunks=(93591, 2)\n",
       "    nbytes=91.4M cbytes=33.3M cratio=2.7\n",
       "    compression=blosc compression_opts={'cname': 'lz4', 'clevel': 5, 'shuffle': 1, 'blocksize': 0}\n",
       "    values=zarr.core.Array>,\n",
       " 'GHcol': <ChunkedArrayWrapper shape=(5989818, 2) dtype=float64 chunks=(93591, 2)\n",
       "    nbytes=91.4M cbytes=32.0M cratio=2.9\n",
       "    compression=blosc compression_opts={'cname': 'lz4', 'clevel': 5, 'shuffle': 1, 'blocksize': 0}\n",
       "    values=zarr.core.Array>,\n",
       " 'GNcol': <ChunkedArrayWrapper shape=(5989818, 2) dtype=float64 chunks=(93591, 2)\n",
       "    nbytes=91.4M cbytes=3.3M cratio=27.6\n",
       "    compression=blosc compression_opts={'cname': 'lz4', 'clevel': 5, 'shuffle': 1, 'blocksize': 0}\n",
       "    values=zarr.core.Array>,\n",
       " 'GHgam': <ChunkedArrayWrapper shape=(5989818, 2) dtype=float64 chunks=(93591, 2)\n",
       "    nbytes=91.4M cbytes=17.1M cratio=5.3\n",
       "    compression=blosc compression_opts={'cname': 'lz4', 'clevel': 5, 'shuffle': 1, 'blocksize': 0}\n",
       "    values=zarr.core.Array>,\n",
       " 'CMgam': <ChunkedArrayWrapper shape=(5989818, 2) dtype=float64 chunks=(93591, 2)\n",
       "    nbytes=91.4M cbytes=56.5M cratio=1.6\n",
       "    compression=blosc compression_opts={'cname': 'lz4', 'clevel': 5, 'shuffle': 1, 'blocksize': 0}\n",
       "    values=zarr.core.Array>,\n",
       " 'BFgam': <ChunkedArrayWrapper shape=(5989818, 2) dtype=float64 chunks=(93591, 2)\n",
       "    nbytes=91.4M cbytes=44.3M cratio=2.1\n",
       "    compression=blosc compression_opts={'cname': 'lz4', 'clevel': 5, 'shuffle': 1, 'blocksize': 0}\n",
       "    values=zarr.core.Array>,\n",
       " 'GNgam': <ChunkedArrayWrapper shape=(5989818, 2) dtype=float64 chunks=(93591, 2)\n",
       "    nbytes=91.4M cbytes=29.2M cratio=3.1\n",
       "    compression=blosc compression_opts={'cname': 'lz4', 'clevel': 5, 'shuffle': 1, 'blocksize': 0}\n",
       "    values=zarr.core.Array>,\n",
       " 'GQgam': <ChunkedArrayWrapper shape=(5989818, 2) dtype=float64 chunks=(93591, 2)\n",
       "    nbytes=91.4M cbytes=16.8M cratio=5.5\n",
       "    compression=blosc compression_opts={'cname': 'lz4', 'clevel': 5, 'shuffle': 1, 'blocksize': 0}\n",
       "    values=zarr.core.Array>,\n",
       " 'UGgam': <ChunkedArrayWrapper shape=(5989818, 2) dtype=float64 chunks=(93591, 2)\n",
       "    nbytes=91.4M cbytes=42.5M cratio=2.1\n",
       "    compression=blosc compression_opts={'cname': 'lz4', 'clevel': 5, 'shuffle': 1, 'blocksize': 0}\n",
       "    values=zarr.core.Array>,\n",
       " 'GAgam': <ChunkedArrayWrapper shape=(5989818, 2) dtype=float64 chunks=(93591, 2)\n",
       "    nbytes=91.4M cbytes=24.2M cratio=3.8\n",
       "    compression=blosc compression_opts={'cname': 'lz4', 'clevel': 5, 'shuffle': 1, 'blocksize': 0}\n",
       "    values=zarr.core.Array>,\n",
       " 'FRgam': <ChunkedArrayWrapper shape=(5989818, 2) dtype=float64 chunks=(93591, 2)\n",
       "    nbytes=91.4M cbytes=7.9M cratio=11.6\n",
       "    compression=blosc compression_opts={'cname': 'lz4', 'clevel': 5, 'shuffle': 1, 'blocksize': 0}\n",
       "    values=zarr.core.Array>,\n",
       " 'KE': <ChunkedArrayWrapper shape=(5989818, 2) dtype=float64 chunks=(93591, 2)\n",
       "    nbytes=91.4M cbytes=7.4M cratio=12.4\n",
       "    compression=blosc compression_opts={'cname': 'lz4', 'clevel': 5, 'shuffle': 1, 'blocksize': 0}\n",
       "    values=zarr.core.Array>,\n",
       " 'GM': <ChunkedArrayWrapper shape=(5989818, 2) dtype=float64 chunks=(93591, 2)\n",
       "    nbytes=91.4M cbytes=32.3M cratio=2.8\n",
       "    compression=blosc compression_opts={'cname': 'lz4', 'clevel': 5, 'shuffle': 1, 'blocksize': 0}\n",
       "    values=zarr.core.Array>,\n",
       " 'GW': <ChunkedArrayWrapper shape=(5989818, 2) dtype=float64 chunks=(93591, 2)\n",
       "    nbytes=91.4M cbytes=41.1M cratio=2.2\n",
       "    compression=blosc compression_opts={'cname': 'lz4', 'clevel': 5, 'shuffle': 1, 'blocksize': 0}\n",
       "    values=zarr.core.Array>}"
      ]
     },
     "execution_count": 44,
     "metadata": {},
     "output_type": "execute_result"
    }
   ],
   "source": [
    "acsu"
   ]
  },
  {
   "cell_type": "code",
   "execution_count": 42,
   "metadata": {},
   "outputs": [
    {
     "ename": "AttributeError",
     "evalue": "'dict' object has no attribute 'shape'",
     "output_type": "error",
     "traceback": [
      "\u001b[0;31m---------------------------------------------------------------------------\u001b[0m",
      "\u001b[0;31mAttributeError\u001b[0m                            Traceback (most recent call last)",
      "\u001b[0;32m<ipython-input-42-7a0fa4333f1e>\u001b[0m in \u001b[0;36m<module>\u001b[0;34m\u001b[0m\n\u001b[1;32m      1\u001b[0m \u001b[0mpops\u001b[0m \u001b[0;34m=\u001b[0m \u001b[0msorted\u001b[0m\u001b[0;34m(\u001b[0m\u001b[0mac_frequencies\u001b[0m\u001b[0;34m.\u001b[0m\u001b[0mkeys\u001b[0m\u001b[0;34m(\u001b[0m\u001b[0;34m)\u001b[0m\u001b[0;34m)\u001b[0m\u001b[0;34m\u001b[0m\u001b[0;34m\u001b[0m\u001b[0m\n\u001b[0;32m----> 2\u001b[0;31m \u001b[0mn_variants\u001b[0m \u001b[0;34m=\u001b[0m \u001b[0macsu\u001b[0m\u001b[0;34m[\u001b[0m\u001b[0mpops\u001b[0m\u001b[0;34m[\u001b[0m\u001b[0;36m0\u001b[0m\u001b[0;34m]\u001b[0m\u001b[0;34m]\u001b[0m\u001b[0;34m.\u001b[0m\u001b[0mshape\u001b[0m\u001b[0;34m[\u001b[0m\u001b[0;36m0\u001b[0m\u001b[0;34m]\u001b[0m\u001b[0;34m\u001b[0m\u001b[0;34m\u001b[0m\u001b[0m\n\u001b[0m\u001b[1;32m      3\u001b[0m \u001b[0mn_alleles\u001b[0m \u001b[0;34m=\u001b[0m \u001b[0macsu\u001b[0m\u001b[0;34m[\u001b[0m\u001b[0mpops\u001b[0m\u001b[0;34m[\u001b[0m\u001b[0;36m0\u001b[0m\u001b[0;34m]\u001b[0m\u001b[0;34m]\u001b[0m\u001b[0;34m.\u001b[0m\u001b[0mshape\u001b[0m\u001b[0;34m[\u001b[0m\u001b[0;36m1\u001b[0m\u001b[0;34m]\u001b[0m\u001b[0;34m\u001b[0m\u001b[0;34m\u001b[0m\u001b[0m\n",
      "\u001b[0;31mAttributeError\u001b[0m: 'dict' object has no attribute 'shape'"
     ]
    }
   ],
   "source": [
    "pops = sorted(ac_frequencies.keys())"
   ]
  },
  {
   "cell_type": "code",
   "execution_count": 48,
   "metadata": {},
   "outputs": [
    {
     "data": {
      "text/plain": [
       "5989818"
      ]
     },
     "execution_count": 48,
     "metadata": {},
     "output_type": "execute_result"
    }
   ],
   "source": [
    "n_variants = ac_frequencies[pops[0]].shape[0]\n",
    "n_variants"
   ]
  },
  {
   "cell_type": "code",
   "execution_count": null,
   "metadata": {},
   "outputs": [],
   "source": [
    "with open('d.txt', 'wt', encoding='ascii') as f:\n",
    "        print(' '.join(pops), file=f)\n",
    "        for i in range(n_variants):\n",
    "            print(' '.join([','.join(map(str, acsu[pop][i])) for pop in pops]), file=f)"
   ]
  },
  {
   "cell_type": "code",
   "execution_count": null,
   "metadata": {},
   "outputs": [],
   "source": []
  }
 ],
 "metadata": {
  "kernelspec": {
   "display_name": "Python 3",
   "language": "python",
   "name": "python3"
  },
  "language_info": {
   "codemirror_mode": {
    "name": "ipython",
    "version": 3
   },
   "file_extension": ".py",
   "mimetype": "text/x-python",
   "name": "python",
   "nbconvert_exporter": "python",
   "pygments_lexer": "ipython3",
   "version": "3.6.7"
  }
 },
 "nbformat": 4,
 "nbformat_minor": 4
}
