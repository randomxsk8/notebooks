{
 "cells": [
  {
   "cell_type": "code",
   "execution_count": 1,
   "metadata": {},
   "outputs": [],
   "source": [
    "import matplotlib.pyplot as plt\n",
    "import pandas as pd\n",
    "import petl as etl\n",
    "import seaborn as sns\n",
    "import petlx.bio\n",
    "import scipy\n",
    "import numpy as np"
   ]
  },
  {
   "cell_type": "code",
   "execution_count": 13,
   "metadata": {},
   "outputs": [],
   "source": [
    "bf_tbl = pd.read_csv('/home/randomx/Dropbox/Ag1000G_carlo/notebooks/tables/hka/BFcol_vs_BFgam/putative_directional_selection_beta.tab', sep=\"\\t\")"
   ]
  },
  {
   "cell_type": "code",
   "execution_count": 14,
   "metadata": {},
   "outputs": [],
   "source": [
    "gh_tbl = pd.read_csv('/home/randomx/Dropbox/Ag1000G_carlo/notebooks/tables/hka/GHcol_vs_GHgam/putative_directional_selection_beta.tab', sep=\"\\t\")"
   ]
  },
  {
   "cell_type": "code",
   "execution_count": 15,
   "metadata": {},
   "outputs": [],
   "source": [
    "gn_tbl = pd.read_csv('/home/randomx/Dropbox/Ag1000G_carlo/notebooks/tables/hka/GNcol_vs_GNgam/putative_directional_selection_beta.tab', sep=\"\\t\")"
   ]
  },
  {
   "cell_type": "code",
   "execution_count": 16,
   "metadata": {},
   "outputs": [],
   "source": [
    "tbl1 = pd.merge(bf_tbl, gh_tbl, on='gene', how='inner')\n"
   ]
  },
  {
   "cell_type": "code",
   "execution_count": 17,
   "metadata": {},
   "outputs": [
    {
     "data": {
      "text/html": [
       "<div>\n",
       "<style scoped>\n",
       "    .dataframe tbody tr th:only-of-type {\n",
       "        vertical-align: middle;\n",
       "    }\n",
       "\n",
       "    .dataframe tbody tr th {\n",
       "        vertical-align: top;\n",
       "    }\n",
       "\n",
       "    .dataframe thead th {\n",
       "        text-align: right;\n",
       "    }\n",
       "</style>\n",
       "<table border=\"1\" class=\"dataframe\">\n",
       "  <thead>\n",
       "    <tr style=\"text-align: right;\">\n",
       "      <th></th>\n",
       "      <th>chrom_x</th>\n",
       "      <th>gene</th>\n",
       "      <th>segreg_c_x</th>\n",
       "      <th>pri_der_fix_c_x</th>\n",
       "      <th>score_c_x</th>\n",
       "      <th>segreg_g_x</th>\n",
       "      <th>pri_der_fix_g_x</th>\n",
       "      <th>score_g_x</th>\n",
       "      <th>score_tot_x</th>\n",
       "      <th>chrom_y</th>\n",
       "      <th>...</th>\n",
       "      <th>score_g_y</th>\n",
       "      <th>score_tot_y</th>\n",
       "      <th>chrom</th>\n",
       "      <th>segreg_c</th>\n",
       "      <th>pri_der_fix_c</th>\n",
       "      <th>score_c</th>\n",
       "      <th>segreg_g</th>\n",
       "      <th>pri_der_fix_g</th>\n",
       "      <th>score_g</th>\n",
       "      <th>score_tot</th>\n",
       "    </tr>\n",
       "  </thead>\n",
       "  <tbody>\n",
       "    <tr>\n",
       "      <th>0</th>\n",
       "      <td>X</td>\n",
       "      <td>AGAP013341</td>\n",
       "      <td>37</td>\n",
       "      <td>10</td>\n",
       "      <td>116.282513</td>\n",
       "      <td>33</td>\n",
       "      <td>4</td>\n",
       "      <td>19.947474</td>\n",
       "      <td>136.229988</td>\n",
       "      <td>X</td>\n",
       "      <td>...</td>\n",
       "      <td>34.296035</td>\n",
       "      <td>143.259249</td>\n",
       "      <td>X</td>\n",
       "      <td>4</td>\n",
       "      <td>10</td>\n",
       "      <td>141.816646</td>\n",
       "      <td>6</td>\n",
       "      <td>4</td>\n",
       "      <td>37.270700</td>\n",
       "      <td>179.087346</td>\n",
       "    </tr>\n",
       "    <tr>\n",
       "      <th>1</th>\n",
       "      <td>3R</td>\n",
       "      <td>AGAP007732</td>\n",
       "      <td>525</td>\n",
       "      <td>25</td>\n",
       "      <td>57.495478</td>\n",
       "      <td>616</td>\n",
       "      <td>31</td>\n",
       "      <td>73.720753</td>\n",
       "      <td>131.216231</td>\n",
       "      <td>3R</td>\n",
       "      <td>...</td>\n",
       "      <td>141.691889</td>\n",
       "      <td>221.200080</td>\n",
       "      <td>3R</td>\n",
       "      <td>63</td>\n",
       "      <td>24</td>\n",
       "      <td>132.260951</td>\n",
       "      <td>90</td>\n",
       "      <td>33</td>\n",
       "      <td>244.017154</td>\n",
       "      <td>376.278105</td>\n",
       "    </tr>\n",
       "    <tr>\n",
       "      <th>2</th>\n",
       "      <td>X</td>\n",
       "      <td>AGAP001076</td>\n",
       "      <td>119</td>\n",
       "      <td>10</td>\n",
       "      <td>40.552544</td>\n",
       "      <td>80</td>\n",
       "      <td>10</td>\n",
       "      <td>58.350971</td>\n",
       "      <td>98.903515</td>\n",
       "      <td>X</td>\n",
       "      <td>...</td>\n",
       "      <td>74.596131</td>\n",
       "      <td>122.777418</td>\n",
       "      <td>X</td>\n",
       "      <td>14</td>\n",
       "      <td>9</td>\n",
       "      <td>68.116368</td>\n",
       "      <td>11</td>\n",
       "      <td>10</td>\n",
       "      <td>128.420818</td>\n",
       "      <td>196.537186</td>\n",
       "    </tr>\n",
       "    <tr>\n",
       "      <th>3</th>\n",
       "      <td>3R</td>\n",
       "      <td>AGAP007736</td>\n",
       "      <td>1966</td>\n",
       "      <td>29</td>\n",
       "      <td>15.058508</td>\n",
       "      <td>2256</td>\n",
       "      <td>47</td>\n",
       "      <td>37.867951</td>\n",
       "      <td>52.926459</td>\n",
       "      <td>3R</td>\n",
       "      <td>...</td>\n",
       "      <td>77.808831</td>\n",
       "      <td>136.794567</td>\n",
       "      <td>3R</td>\n",
       "      <td>476</td>\n",
       "      <td>31</td>\n",
       "      <td>29.604631</td>\n",
       "      <td>401</td>\n",
       "      <td>51</td>\n",
       "      <td>146.455238</td>\n",
       "      <td>176.059869</td>\n",
       "    </tr>\n",
       "    <tr>\n",
       "      <th>4</th>\n",
       "      <td>X</td>\n",
       "      <td>AGAP001026</td>\n",
       "      <td>32</td>\n",
       "      <td>5</td>\n",
       "      <td>33.400137</td>\n",
       "      <td>38</td>\n",
       "      <td>4</td>\n",
       "      <td>17.498013</td>\n",
       "      <td>50.898150</td>\n",
       "      <td>X</td>\n",
       "      <td>...</td>\n",
       "      <td>25.002856</td>\n",
       "      <td>59.528751</td>\n",
       "      <td>X</td>\n",
       "      <td>5</td>\n",
       "      <td>5</td>\n",
       "      <td>44.844626</td>\n",
       "      <td>7</td>\n",
       "      <td>4</td>\n",
       "      <td>33.835459</td>\n",
       "      <td>78.680085</td>\n",
       "    </tr>\n",
       "    <tr>\n",
       "      <th>5</th>\n",
       "      <td>3R</td>\n",
       "      <td>AGAP007731</td>\n",
       "      <td>146</td>\n",
       "      <td>10</td>\n",
       "      <td>33.031688</td>\n",
       "      <td>194</td>\n",
       "      <td>8</td>\n",
       "      <td>14.944520</td>\n",
       "      <td>47.976208</td>\n",
       "      <td>3R</td>\n",
       "      <td>...</td>\n",
       "      <td>51.809349</td>\n",
       "      <td>115.169803</td>\n",
       "      <td>3R</td>\n",
       "      <td>13</td>\n",
       "      <td>11</td>\n",
       "      <td>99.745320</td>\n",
       "      <td>27</td>\n",
       "      <td>10</td>\n",
       "      <td>71.659294</td>\n",
       "      <td>171.404614</td>\n",
       "    </tr>\n",
       "  </tbody>\n",
       "</table>\n",
       "<p>6 rows × 25 columns</p>\n",
       "</div>"
      ],
      "text/plain": [
       "  chrom_x        gene  segreg_c_x  pri_der_fix_c_x   score_c_x  segreg_g_x  \\\n",
       "0       X  AGAP013341          37               10  116.282513          33   \n",
       "1      3R  AGAP007732         525               25   57.495478         616   \n",
       "2       X  AGAP001076         119               10   40.552544          80   \n",
       "3      3R  AGAP007736        1966               29   15.058508        2256   \n",
       "4       X  AGAP001026          32                5   33.400137          38   \n",
       "5      3R  AGAP007731         146               10   33.031688         194   \n",
       "\n",
       "   pri_der_fix_g_x  score_g_x  score_tot_x chrom_y     ...       score_g_y  \\\n",
       "0                4  19.947474   136.229988       X     ...       34.296035   \n",
       "1               31  73.720753   131.216231      3R     ...      141.691889   \n",
       "2               10  58.350971    98.903515       X     ...       74.596131   \n",
       "3               47  37.867951    52.926459      3R     ...       77.808831   \n",
       "4                4  17.498013    50.898150       X     ...       25.002856   \n",
       "5                8  14.944520    47.976208      3R     ...       51.809349   \n",
       "\n",
       "   score_tot_y  chrom  segreg_c  pri_der_fix_c     score_c  segreg_g  \\\n",
       "0   143.259249      X         4             10  141.816646         6   \n",
       "1   221.200080     3R        63             24  132.260951        90   \n",
       "2   122.777418      X        14              9   68.116368        11   \n",
       "3   136.794567     3R       476             31   29.604631       401   \n",
       "4    59.528751      X         5              5   44.844626         7   \n",
       "5   115.169803     3R        13             11   99.745320        27   \n",
       "\n",
       "  pri_der_fix_g     score_g   score_tot  \n",
       "0             4   37.270700  179.087346  \n",
       "1            33  244.017154  376.278105  \n",
       "2            10  128.420818  196.537186  \n",
       "3            51  146.455238  176.059869  \n",
       "4             4   33.835459   78.680085  \n",
       "5            10   71.659294  171.404614  \n",
       "\n",
       "[6 rows x 25 columns]"
      ]
     },
     "execution_count": 17,
     "metadata": {},
     "output_type": "execute_result"
    }
   ],
   "source": [
    "tbl_all = pd.merge(tbl1, gn_tbl, on='gene', how='inner')\n",
    "tbl_all"
   ]
  },
  {
   "cell_type": "markdown",
   "metadata": {},
   "source": [
    "Genes shared between sympatric populations: \n",
    "\n",
    "- AGAP007732 -> Solute carrier family 17, member 5 (Also in Selection Atlas https://malariagen.github.io/agam-selection-atlas/0.1-alpha2/gene/AGAP007732.html)\n",
    "- AGAP013341 -> marker present in Neafsey 2010 and Aboagye-Antwi et. al 2015\n",
    "- AGAP001076 -> CYP4G16 (Cytochrome P450 associated with insecticide resistance catalyzes cuticular hydrocarbon production in Anopheles gambiae)\n",
    "- AGAP007736 -> Selection Atlas H12 Gabon (https://malariagen.github.io/agam-selection-atlas/0.1-alpha2/signal/H12/GAS/3/2/index.html)\n",
    "- AGAP001026 -> Carboxypeptidase A  (Neafsey 2010)\n",
    "- AGAP007731 -> ???"
   ]
  },
  {
   "cell_type": "markdown",
   "metadata": {},
   "source": [
    "--------------------------------"
   ]
  },
  {
   "cell_type": "code",
   "execution_count": 20,
   "metadata": {},
   "outputs": [
    {
     "data": {
      "text/html": [
       "<div>\n",
       "<style scoped>\n",
       "    .dataframe tbody tr th:only-of-type {\n",
       "        vertical-align: middle;\n",
       "    }\n",
       "\n",
       "    .dataframe tbody tr th {\n",
       "        vertical-align: top;\n",
       "    }\n",
       "\n",
       "    .dataframe thead th {\n",
       "        text-align: right;\n",
       "    }\n",
       "</style>\n",
       "<table border=\"1\" class=\"dataframe\">\n",
       "  <thead>\n",
       "    <tr style=\"text-align: right;\">\n",
       "      <th></th>\n",
       "      <th>chrom</th>\n",
       "      <th>score_bf</th>\n",
       "      <th>score_gh</th>\n",
       "      <th>score_gn</th>\n",
       "    </tr>\n",
       "  </thead>\n",
       "  <tbody>\n",
       "    <tr>\n",
       "      <th>0</th>\n",
       "      <td>X</td>\n",
       "      <td>136.229988</td>\n",
       "      <td>143.259249</td>\n",
       "      <td>179.087346</td>\n",
       "    </tr>\n",
       "    <tr>\n",
       "      <th>1</th>\n",
       "      <td>3R</td>\n",
       "      <td>131.216231</td>\n",
       "      <td>221.200080</td>\n",
       "      <td>376.278105</td>\n",
       "    </tr>\n",
       "    <tr>\n",
       "      <th>2</th>\n",
       "      <td>X</td>\n",
       "      <td>98.903515</td>\n",
       "      <td>122.777418</td>\n",
       "      <td>196.537186</td>\n",
       "    </tr>\n",
       "    <tr>\n",
       "      <th>3</th>\n",
       "      <td>3R</td>\n",
       "      <td>52.926459</td>\n",
       "      <td>136.794567</td>\n",
       "      <td>176.059869</td>\n",
       "    </tr>\n",
       "    <tr>\n",
       "      <th>4</th>\n",
       "      <td>X</td>\n",
       "      <td>50.898150</td>\n",
       "      <td>59.528751</td>\n",
       "      <td>78.680085</td>\n",
       "    </tr>\n",
       "    <tr>\n",
       "      <th>5</th>\n",
       "      <td>3R</td>\n",
       "      <td>47.976208</td>\n",
       "      <td>115.169803</td>\n",
       "      <td>171.404614</td>\n",
       "    </tr>\n",
       "  </tbody>\n",
       "</table>\n",
       "</div>"
      ],
      "text/plain": [
       "  chrom    score_bf    score_gh    score_gn\n",
       "0     X  136.229988  143.259249  179.087346\n",
       "1    3R  131.216231  221.200080  376.278105\n",
       "2     X   98.903515  122.777418  196.537186\n",
       "3    3R   52.926459  136.794567  176.059869\n",
       "4     X   50.898150   59.528751   78.680085\n",
       "5    3R   47.976208  115.169803  171.404614"
      ]
     },
     "execution_count": 20,
     "metadata": {},
     "output_type": "execute_result"
    }
   ],
   "source": [
    "tbl_shared = tbl_all[['chrom_x','score_tot_x', 'score_tot_y', 'score_tot']].rename(columns={\"chrom_x\": \"chrom\", \"score_tot_x\": 'score_bf', 'score_tot_y':'score_gh','score_tot': 'score_gn'})\n",
    "tbl_shared"
   ]
  },
  {
   "cell_type": "code",
   "execution_count": 23,
   "metadata": {},
   "outputs": [],
   "source": [
    "def bar_plot(score1,score2,score3, title):\n",
    "    fig, ax = plt.subplots(figsize=(10, 8))\n",
    "    \n",
    "\n",
    "    # set width of bar\n",
    "    barWidth = 0.25\n",
    "\n",
    "    # set height of bar\n",
    "    score_bf = score1\n",
    "    score_gh = score2\n",
    "    score_gn = score3\n",
    "\n",
    "    # Set position of bar on X axis\n",
    "    r1 = np.arange(len(score1))\n",
    "    r2 = [x + barWidth for x in r1]\n",
    "    r3 = [x + barWidth for x in r2]\n",
    "\n",
    "    # Make the plot\n",
    "    plt.bar(r1, score_bf, color='#0080ff', width=barWidth, edgecolor='white', label='Burkina Faso')\n",
    "    plt.bar(r2, score_gh, color='#557f2d', width=barWidth, edgecolor='white', label='Ghana')\n",
    "    plt.bar(r3, score_gn, color='#ff9933', width=barWidth, edgecolor='white', label='Guinea')\n",
    "\n",
    "    # Add xticks on the middle of the group bars\n",
    "    plt.xlabel('Genes', fontweight='bold')\n",
    "    plt.xticks([r + barWidth for r in range(len(score1))], ['AGAP007732', 'AGAP013341', 'AGAP001035', 'AGAP001076', 'AGAP007736', 'AGAP001026', 'AGAP007731'], rotation=45)\n",
    "    plt.ylabel('Total Score', fontweight='bold')\n",
    "\n",
    "    sns.despine()\n",
    "    ax.set_title(title)\n",
    "    # Create legend & Show graphic\n",
    "    plt.legend()\n",
    "    plt.show()"
   ]
  },
  {
   "cell_type": "code",
   "execution_count": 24,
   "metadata": {},
   "outputs": [
    {
     "data": {
      "image/png": "[encoded data removed]",
      "text/plain": [
       "<Figure size 720x576 with 1 Axes>"
      ]
     },
     "metadata": {
      "needs_background": "light"
     },
     "output_type": "display_data"
    }
   ],
   "source": [
    "bar_plot(tbl_shared['score_bf'],tbl_shared['score_gh'],tbl_shared['score_gn'], 'Selection Total Score ')"
   ]
  },
  {
   "cell_type": "markdown",
   "metadata": {},
   "source": [
    "-----------------------------"
   ]
  },
  {
   "cell_type": "code",
   "execution_count": 25,
   "metadata": {},
   "outputs": [
    {
     "data": {
      "text/html": [
       "<div>\n",
       "<style scoped>\n",
       "    .dataframe tbody tr th:only-of-type {\n",
       "        vertical-align: middle;\n",
       "    }\n",
       "\n",
       "    .dataframe tbody tr th {\n",
       "        vertical-align: top;\n",
       "    }\n",
       "\n",
       "    .dataframe thead th {\n",
       "        text-align: right;\n",
       "    }\n",
       "</style>\n",
       "<table border=\"1\" class=\"dataframe\">\n",
       "  <thead>\n",
       "    <tr style=\"text-align: right;\">\n",
       "      <th></th>\n",
       "      <th>chrom</th>\n",
       "      <th>score_bf</th>\n",
       "      <th>score_gh</th>\n",
       "      <th>score_gn</th>\n",
       "    </tr>\n",
       "  </thead>\n",
       "  <tbody>\n",
       "    <tr>\n",
       "      <th>0</th>\n",
       "      <td>X</td>\n",
       "      <td>116.282513</td>\n",
       "      <td>108.963213</td>\n",
       "      <td>141.816646</td>\n",
       "    </tr>\n",
       "    <tr>\n",
       "      <th>1</th>\n",
       "      <td>3R</td>\n",
       "      <td>57.495478</td>\n",
       "      <td>79.508191</td>\n",
       "      <td>132.260951</td>\n",
       "    </tr>\n",
       "    <tr>\n",
       "      <th>2</th>\n",
       "      <td>X</td>\n",
       "      <td>40.552544</td>\n",
       "      <td>48.181288</td>\n",
       "      <td>68.116368</td>\n",
       "    </tr>\n",
       "    <tr>\n",
       "      <th>3</th>\n",
       "      <td>3R</td>\n",
       "      <td>15.058508</td>\n",
       "      <td>58.985736</td>\n",
       "      <td>29.604631</td>\n",
       "    </tr>\n",
       "    <tr>\n",
       "      <th>4</th>\n",
       "      <td>X</td>\n",
       "      <td>33.400137</td>\n",
       "      <td>34.525895</td>\n",
       "      <td>44.844626</td>\n",
       "    </tr>\n",
       "    <tr>\n",
       "      <th>5</th>\n",
       "      <td>3R</td>\n",
       "      <td>33.031688</td>\n",
       "      <td>63.360454</td>\n",
       "      <td>99.745320</td>\n",
       "    </tr>\n",
       "  </tbody>\n",
       "</table>\n",
       "</div>"
      ],
      "text/plain": [
       "  chrom    score_bf    score_gh    score_gn\n",
       "0     X  116.282513  108.963213  141.816646\n",
       "1    3R   57.495478   79.508191  132.260951\n",
       "2     X   40.552544   48.181288   68.116368\n",
       "3    3R   15.058508   58.985736   29.604631\n",
       "4     X   33.400137   34.525895   44.844626\n",
       "5    3R   33.031688   63.360454   99.745320"
      ]
     },
     "execution_count": 25,
     "metadata": {},
     "output_type": "execute_result"
    }
   ],
   "source": [
    "tbl_shared = tbl_all[['chrom_x','score_c_x', 'score_c_y', 'score_c']].rename(columns={\"chrom_x\": \"chrom\", \"score_c_x\": 'score_bf', 'score_c_y':'score_gh','score_c': 'score_gn'})\n",
    "tbl_shared"
   ]
  },
  {
   "cell_type": "code",
   "execution_count": 26,
   "metadata": {},
   "outputs": [
    {
     "data": {
      "image/png": "[encoded data removed]",
      "text/plain": [
       "<Figure size 720x576 with 1 Axes>"
      ]
     },
     "metadata": {
      "needs_background": "light"
     },
     "output_type": "display_data"
    }
   ],
   "source": [
    "bar_plot(tbl_shared['score_bf'],tbl_shared['score_gh'],tbl_shared['score_gn'], 'Selection score in $\\itAn.coluzzii$')"
   ]
  },
  {
   "cell_type": "markdown",
   "metadata": {},
   "source": [
    "---------------------------------"
   ]
  },
  {
   "cell_type": "code",
   "execution_count": 27,
   "metadata": {},
   "outputs": [
    {
     "data": {
      "text/html": [
       "<div>\n",
       "<style scoped>\n",
       "    .dataframe tbody tr th:only-of-type {\n",
       "        vertical-align: middle;\n",
       "    }\n",
       "\n",
       "    .dataframe tbody tr th {\n",
       "        vertical-align: top;\n",
       "    }\n",
       "\n",
       "    .dataframe thead th {\n",
       "        text-align: right;\n",
       "    }\n",
       "</style>\n",
       "<table border=\"1\" class=\"dataframe\">\n",
       "  <thead>\n",
       "    <tr style=\"text-align: right;\">\n",
       "      <th></th>\n",
       "      <th>chrom</th>\n",
       "      <th>score_bf</th>\n",
       "      <th>score_gh</th>\n",
       "      <th>score_gn</th>\n",
       "    </tr>\n",
       "  </thead>\n",
       "  <tbody>\n",
       "    <tr>\n",
       "      <th>0</th>\n",
       "      <td>X</td>\n",
       "      <td>19.947474</td>\n",
       "      <td>34.296035</td>\n",
       "      <td>37.270700</td>\n",
       "    </tr>\n",
       "    <tr>\n",
       "      <th>1</th>\n",
       "      <td>3R</td>\n",
       "      <td>73.720753</td>\n",
       "      <td>141.691889</td>\n",
       "      <td>244.017154</td>\n",
       "    </tr>\n",
       "    <tr>\n",
       "      <th>2</th>\n",
       "      <td>X</td>\n",
       "      <td>58.350971</td>\n",
       "      <td>74.596131</td>\n",
       "      <td>128.420818</td>\n",
       "    </tr>\n",
       "    <tr>\n",
       "      <th>3</th>\n",
       "      <td>3R</td>\n",
       "      <td>37.867951</td>\n",
       "      <td>77.808831</td>\n",
       "      <td>146.455238</td>\n",
       "    </tr>\n",
       "    <tr>\n",
       "      <th>4</th>\n",
       "      <td>X</td>\n",
       "      <td>17.498013</td>\n",
       "      <td>25.002856</td>\n",
       "      <td>33.835459</td>\n",
       "    </tr>\n",
       "    <tr>\n",
       "      <th>5</th>\n",
       "      <td>3R</td>\n",
       "      <td>14.944520</td>\n",
       "      <td>51.809349</td>\n",
       "      <td>71.659294</td>\n",
       "    </tr>\n",
       "  </tbody>\n",
       "</table>\n",
       "</div>"
      ],
      "text/plain": [
       "  chrom   score_bf    score_gh    score_gn\n",
       "0     X  19.947474   34.296035   37.270700\n",
       "1    3R  73.720753  141.691889  244.017154\n",
       "2     X  58.350971   74.596131  128.420818\n",
       "3    3R  37.867951   77.808831  146.455238\n",
       "4     X  17.498013   25.002856   33.835459\n",
       "5    3R  14.944520   51.809349   71.659294"
      ]
     },
     "execution_count": 27,
     "metadata": {},
     "output_type": "execute_result"
    }
   ],
   "source": [
    "tbl_shared = tbl_all[['chrom_x','score_g_x', 'score_g_y', 'score_g']].rename(columns={\"chrom_x\": \"chrom\", \"score_g_x\": 'score_bf', 'score_g_y':'score_gh','score_g': 'score_gn'})\n",
    "tbl_shared"
   ]
  },
  {
   "cell_type": "code",
   "execution_count": 28,
   "metadata": {},
   "outputs": [
    {
     "data": {
      "image/png": "[encoded data removed]",
      "text/plain": [
       "<Figure size 720x576 with 1 Axes>"
      ]
     },
     "metadata": {
      "needs_background": "light"
     },
     "output_type": "display_data"
    }
   ],
   "source": [
    "bar_plot(tbl_shared['score_bf'],tbl_shared['score_gh'],tbl_shared['score_gn'], \"Selection score in $\\it{An.gambiae}$\")"
   ]
  },
  {
   "cell_type": "markdown",
   "metadata": {},
   "source": [
    "---------------------------"
   ]
  },
  {
   "cell_type": "markdown",
   "metadata": {},
   "source": [
    "## Genes plot"
   ]
  },
  {
   "cell_type": "code",
   "execution_count": 29,
   "metadata": {},
   "outputs": [
    {
     "data": {
      "text/html": [
       "<table class='petl'>\n",
       "<thead>\n",
       "<tr>\n",
       "<th>type</th>\n",
       "<th>start</th>\n",
       "<th>end</th>\n",
       "<th>gene</th>\n",
       "</tr>\n",
       "</thead>\n",
       "<tbody>\n",
       "<tr>\n",
       "<td>gene</td>\n",
       "<td style='text-align: right'>157348</td>\n",
       "<td style='text-align: right'>186936</td>\n",
       "<td>AGAP004677</td>\n",
       "</tr>\n",
       "<tr>\n",
       "<td>gene</td>\n",
       "<td style='text-align: right'>203779</td>\n",
       "<td style='text-align: right'>205293</td>\n",
       "<td>AGAP004678</td>\n",
       "</tr>\n",
       "<tr>\n",
       "<td>gene</td>\n",
       "<td style='text-align: right'>207894</td>\n",
       "<td style='text-align: right'>210460</td>\n",
       "<td>AGAP004679</td>\n",
       "</tr>\n",
       "<tr>\n",
       "<td>gene</td>\n",
       "<td style='text-align: right'>271285</td>\n",
       "<td style='text-align: right'>271815</td>\n",
       "<td>AGAP004680</td>\n",
       "</tr>\n",
       "<tr>\n",
       "<td>gene</td>\n",
       "<td style='text-align: right'>358329</td>\n",
       "<td style='text-align: right'>359280</td>\n",
       "<td>AGAP004681</td>\n",
       "</tr>\n",
       "<tr>\n",
       "<td>gene</td>\n",
       "<td style='text-align: right'>433503</td>\n",
       "<td style='text-align: right'>461627</td>\n",
       "<td>AGAP004682</td>\n",
       "</tr>\n",
       "<tr>\n",
       "<td>gene</td>\n",
       "<td style='text-align: right'>485698</td>\n",
       "<td style='text-align: right'>488369</td>\n",
       "<td>AGAP004683</td>\n",
       "</tr>\n",
       "<tr>\n",
       "<td>gene</td>\n",
       "<td style='text-align: right'>493039</td>\n",
       "<td style='text-align: right'>493543</td>\n",
       "<td>AGAP004684</td>\n",
       "</tr>\n",
       "<tr>\n",
       "<td>gene</td>\n",
       "<td style='text-align: right'>493579</td>\n",
       "<td style='text-align: right'>497632</td>\n",
       "<td>AGAP004685</td>\n",
       "</tr>\n",
       "<tr>\n",
       "<td>gene</td>\n",
       "<td style='text-align: right'>742004</td>\n",
       "<td style='text-align: right'>747057</td>\n",
       "<td>AGAP004686</td>\n",
       "</tr>\n",
       "</tbody>\n",
       "</table>\n",
       "<p><strong>...</strong></p>"
      ]
     },
     "metadata": {},
     "output_type": "display_data"
    }
   ],
   "source": [
    "tbl_genes  = (etl\n",
    "    .fromgff3('/mnt/70D89269D8922CFA/Genomes/genome/Anopheles-gambiae-PEST_BASEFEATURES_AgamP4.2.gff3.gz')\n",
    "    .unpackdict('attributes')\n",
    "    .cut(2,3,4,9)\n",
    "    .select(lambda rec: rec.type == 'gene')\n",
    "    .rename('ID', 'gene')\n",
    ")\n",
    "tbl_genes.display(10)"
   ]
  },
  {
   "cell_type": "code",
   "execution_count": 30,
   "metadata": {},
   "outputs": [
    {
     "data": {
      "text/html": [
       "<table class='petl'>\n",
       "<thead>\n",
       "<tr>\n",
       "<th>chrom_x</th>\n",
       "<th>gene</th>\n",
       "<th>segreg_c_x</th>\n",
       "<th>pri_der_fix_c_x</th>\n",
       "<th>score_c_x</th>\n",
       "<th>segreg_g_x</th>\n",
       "<th>pri_der_fix_g_x</th>\n",
       "<th>score_g_x</th>\n",
       "<th>score_tot_x</th>\n",
       "<th>chrom_y</th>\n",
       "<th>segreg_c_y</th>\n",
       "<th>pri_der_fix_c_y</th>\n",
       "<th>score_c_y</th>\n",
       "<th>segreg_g_y</th>\n",
       "<th>pri_der_fix_g_y</th>\n",
       "<th>score_g_y</th>\n",
       "<th>score_tot_y</th>\n",
       "<th>chrom</th>\n",
       "<th>segreg_c</th>\n",
       "<th>pri_der_fix_c</th>\n",
       "<th>score_c</th>\n",
       "<th>segreg_g</th>\n",
       "<th>pri_der_fix_g</th>\n",
       "<th>score_g</th>\n",
       "<th>score_tot</th>\n",
       "</tr>\n",
       "</thead>\n",
       "<tbody>\n",
       "<tr>\n",
       "<td>X</td>\n",
       "<td>AGAP013341</td>\n",
       "<td style='text-align: right'>37</td>\n",
       "<td style='text-align: right'>10</td>\n",
       "<td style='text-align: right'>116.28251333200001</td>\n",
       "<td style='text-align: right'>33</td>\n",
       "<td style='text-align: right'>4</td>\n",
       "<td style='text-align: right'>19.947474495599998</td>\n",
       "<td style='text-align: right'>136.22998782759998</td>\n",
       "<td>X</td>\n",
       "<td style='text-align: right'>11</td>\n",
       "<td style='text-align: right'>10</td>\n",
       "<td style='text-align: right'>108.96321346399999</td>\n",
       "<td style='text-align: right'>7</td>\n",
       "<td style='text-align: right'>4</td>\n",
       "<td style='text-align: right'>34.296035244</td>\n",
       "<td style='text-align: right'>143.259248708</td>\n",
       "<td>X</td>\n",
       "<td style='text-align: right'>4</td>\n",
       "<td style='text-align: right'>10</td>\n",
       "<td style='text-align: right'>141.81664619999998</td>\n",
       "<td style='text-align: right'>6</td>\n",
       "<td style='text-align: right'>4</td>\n",
       "<td style='text-align: right'>37.2707000598</td>\n",
       "<td style='text-align: right'>179.0873462598</td>\n",
       "</tr>\n",
       "<tr>\n",
       "<td>3R</td>\n",
       "<td>AGAP007732</td>\n",
       "<td style='text-align: right'>525</td>\n",
       "<td style='text-align: right'>25</td>\n",
       "<td style='text-align: right'>57.495478111000004</td>\n",
       "<td style='text-align: right'>616</td>\n",
       "<td style='text-align: right'>31</td>\n",
       "<td style='text-align: right'>73.7207529799</td>\n",
       "<td style='text-align: right'>131.2162310909</td>\n",
       "<td>3R</td>\n",
       "<td style='text-align: right'>125</td>\n",
       "<td style='text-align: right'>23</td>\n",
       "<td style='text-align: right'>79.50819145979999</td>\n",
       "<td style='text-align: right'>162</td>\n",
       "<td style='text-align: right'>32</td>\n",
       "<td style='text-align: right'>141.691888767</td>\n",
       "<td style='text-align: right'>221.2000802268</td>\n",
       "<td>3R</td>\n",
       "<td style='text-align: right'>63</td>\n",
       "<td style='text-align: right'>24</td>\n",
       "<td style='text-align: right'>132.26095075799998</td>\n",
       "<td style='text-align: right'>90</td>\n",
       "<td style='text-align: right'>33</td>\n",
       "<td style='text-align: right'>244.017153823</td>\n",
       "<td style='text-align: right'>376.278104581</td>\n",
       "</tr>\n",
       "<tr>\n",
       "<td>X</td>\n",
       "<td>AGAP001076</td>\n",
       "<td style='text-align: right'>119</td>\n",
       "<td style='text-align: right'>10</td>\n",
       "<td style='text-align: right'>40.5525443667</td>\n",
       "<td style='text-align: right'>80</td>\n",
       "<td style='text-align: right'>10</td>\n",
       "<td style='text-align: right'>58.3509711217</td>\n",
       "<td style='text-align: right'>98.9035154884</td>\n",
       "<td>X</td>\n",
       "<td style='text-align: right'>36</td>\n",
       "<td style='text-align: right'>10</td>\n",
       "<td style='text-align: right'>48.181287615500004</td>\n",
       "<td style='text-align: right'>26</td>\n",
       "<td style='text-align: right'>10</td>\n",
       "<td style='text-align: right'>74.59613053380001</td>\n",
       "<td style='text-align: right'>122.7774181493</td>\n",
       "<td>X</td>\n",
       "<td style='text-align: right'>14</td>\n",
       "<td style='text-align: right'>9</td>\n",
       "<td style='text-align: right'>68.1163676021</td>\n",
       "<td style='text-align: right'>11</td>\n",
       "<td style='text-align: right'>10</td>\n",
       "<td style='text-align: right'>128.4208181</td>\n",
       "<td style='text-align: right'>196.5371857021</td>\n",
       "</tr>\n",
       "<tr>\n",
       "<td>3R</td>\n",
       "<td>AGAP007736</td>\n",
       "<td style='text-align: right'>1966</td>\n",
       "<td style='text-align: right'>29</td>\n",
       "<td style='text-align: right'>15.058507732999999</td>\n",
       "<td style='text-align: right'>2256</td>\n",
       "<td style='text-align: right'>47</td>\n",
       "<td style='text-align: right'>37.867950815</td>\n",
       "<td style='text-align: right'>52.926458548</td>\n",
       "<td>3R</td>\n",
       "<td style='text-align: right'>663</td>\n",
       "<td style='text-align: right'>47</td>\n",
       "<td style='text-align: right'>58.9857363828</td>\n",
       "<td style='text-align: right'>859</td>\n",
       "<td style='text-align: right'>56</td>\n",
       "<td style='text-align: right'>77.8088307414</td>\n",
       "<td style='text-align: right'>136.7945671242</td>\n",
       "<td>3R</td>\n",
       "<td style='text-align: right'>476</td>\n",
       "<td style='text-align: right'>31</td>\n",
       "<td style='text-align: right'>29.604631019099998</td>\n",
       "<td style='text-align: right'>401</td>\n",
       "<td style='text-align: right'>51</td>\n",
       "<td style='text-align: right'>146.455238388</td>\n",
       "<td style='text-align: right'>176.0598694071</td>\n",
       "</tr>\n",
       "<tr>\n",
       "<td>X</td>\n",
       "<td>AGAP001026</td>\n",
       "<td style='text-align: right'>32</td>\n",
       "<td style='text-align: right'>5</td>\n",
       "<td style='text-align: right'>33.4001365679</td>\n",
       "<td style='text-align: right'>38</td>\n",
       "<td style='text-align: right'>4</td>\n",
       "<td style='text-align: right'>17.4980133372</td>\n",
       "<td style='text-align: right'>50.898149905100006</td>\n",
       "<td>X</td>\n",
       "<td style='text-align: right'>10</td>\n",
       "<td style='text-align: right'>5</td>\n",
       "<td style='text-align: right'>34.5258951848</td>\n",
       "<td style='text-align: right'>11</td>\n",
       "<td style='text-align: right'>4</td>\n",
       "<td style='text-align: right'>25.0028562946</td>\n",
       "<td style='text-align: right'>59.52875147939999</td>\n",
       "<td>X</td>\n",
       "<td style='text-align: right'>5</td>\n",
       "<td style='text-align: right'>5</td>\n",
       "<td style='text-align: right'>44.8446261274</td>\n",
       "<td style='text-align: right'>7</td>\n",
       "<td style='text-align: right'>4</td>\n",
       "<td style='text-align: right'>33.835459169699995</td>\n",
       "<td style='text-align: right'>78.68008529709998</td>\n",
       "</tr>\n",
       "</tbody>\n",
       "</table>\n",
       "<p><strong>...</strong></p>"
      ],
      "text/plain": [
       "+---------+--------------+------------+-----------------+--------------------+------------+-----------------+--------------------+--------------------+---------+------------+-----------------+--------------------+------------+-----------------+-------------------+-------------------+-------+----------+---------------+--------------------+----------+---------------+--------------------+-------------------+\n",
       "| chrom_x | gene         | segreg_c_x | pri_der_fix_c_x | score_c_x          | segreg_g_x | pri_der_fix_g_x | score_g_x          | score_tot_x        | chrom_y | segreg_c_y | pri_der_fix_c_y | score_c_y          | segreg_g_y | pri_der_fix_g_y | score_g_y         | score_tot_y       | chrom | segreg_c | pri_der_fix_c | score_c            | segreg_g | pri_der_fix_g | score_g            | score_tot         |\n",
       "+=========+==============+============+=================+====================+============+=================+====================+====================+=========+============+=================+====================+============+=================+===================+===================+=======+==========+===============+====================+==========+===============+====================+===================+\n",
       "| 'X'     | 'AGAP013341' |         37 |              10 | 116.28251333200001 |         33 |               4 | 19.947474495599998 | 136.22998782759998 | 'X'     |         11 |              10 | 108.96321346399999 |          7 |               4 |      34.296035244 |     143.259248708 | 'X'   |        4 |            10 | 141.81664619999998 |        6 |             4 |      37.2707000598 |    179.0873462598 |\n",
       "+---------+--------------+------------+-----------------+--------------------+------------+-----------------+--------------------+--------------------+---------+------------+-----------------+--------------------+------------+-----------------+-------------------+-------------------+-------+----------+---------------+--------------------+----------+---------------+--------------------+-------------------+\n",
       "| '3R'    | 'AGAP007732' |        525 |              25 | 57.495478111000004 |        616 |              31 |      73.7207529799 |     131.2162310909 | '3R'    |        125 |              23 |  79.50819145979999 |        162 |              32 |     141.691888767 |    221.2000802268 | '3R'  |       63 |            24 | 132.26095075799998 |       90 |            33 |      244.017153823 |     376.278104581 |\n",
       "+---------+--------------+------------+-----------------+--------------------+------------+-----------------+--------------------+--------------------+---------+------------+-----------------+--------------------+------------+-----------------+-------------------+-------------------+-------+----------+---------------+--------------------+----------+---------------+--------------------+-------------------+\n",
       "| 'X'     | 'AGAP001076' |        119 |              10 |      40.5525443667 |         80 |              10 |      58.3509711217 |      98.9035154884 | 'X'     |         36 |              10 | 48.181287615500004 |         26 |              10 | 74.59613053380001 |    122.7774181493 | 'X'   |       14 |             9 |      68.1163676021 |       11 |            10 |        128.4208181 |    196.5371857021 |\n",
       "+---------+--------------+------------+-----------------+--------------------+------------+-----------------+--------------------+--------------------+---------+------------+-----------------+--------------------+------------+-----------------+-------------------+-------------------+-------+----------+---------------+--------------------+----------+---------------+--------------------+-------------------+\n",
       "| '3R'    | 'AGAP007736' |       1966 |              29 | 15.058507732999999 |       2256 |              47 |       37.867950815 |       52.926458548 | '3R'    |        663 |              47 |      58.9857363828 |        859 |              56 |     77.8088307414 |    136.7945671242 | '3R'  |      476 |            31 | 29.604631019099998 |      401 |            51 |      146.455238388 |    176.0598694071 |\n",
       "+---------+--------------+------------+-----------------+--------------------+------------+-----------------+--------------------+--------------------+---------+------------+-----------------+--------------------+------------+-----------------+-------------------+-------------------+-------+----------+---------------+--------------------+----------+---------------+--------------------+-------------------+\n",
       "| 'X'     | 'AGAP001026' |         32 |               5 |      33.4001365679 |         38 |               4 |      17.4980133372 | 50.898149905100006 | 'X'     |         10 |               5 |      34.5258951848 |         11 |               4 |     25.0028562946 | 59.52875147939999 | 'X'   |        5 |             5 |      44.8446261274 |        7 |             4 | 33.835459169699995 | 78.68008529709998 |\n",
       "+---------+--------------+------------+-----------------+--------------------+------------+-----------------+--------------------+--------------------+---------+------------+-----------------+--------------------+------------+-----------------+-------------------+-------------------+-------+----------+---------------+--------------------+----------+---------------+--------------------+-------------------+\n",
       "..."
      ]
     },
     "execution_count": 30,
     "metadata": {},
     "output_type": "execute_result"
    }
   ],
   "source": [
    "tbl_shared = etl.fromdataframe(tbl_all)\n",
    "tbl_shared"
   ]
  },
  {
   "cell_type": "code",
   "execution_count": 31,
   "metadata": {},
   "outputs": [
    {
     "data": {
      "text/html": [
       "<table class='petl'>\n",
       "<thead>\n",
       "<tr>\n",
       "<th>chrom_x</th>\n",
       "<th>gene</th>\n",
       "<th>start</th>\n",
       "<th>end</th>\n",
       "</tr>\n",
       "</thead>\n",
       "<tbody>\n",
       "<tr>\n",
       "<td>X</td>\n",
       "<td>AGAP001026</td>\n",
       "<td style='text-align: right'>19721319</td>\n",
       "<td style='text-align: right'>19723125</td>\n",
       "</tr>\n",
       "<tr>\n",
       "<td>X</td>\n",
       "<td>AGAP001076</td>\n",
       "<td style='text-align: right'>22937392</td>\n",
       "<td style='text-align: right'>22947129</td>\n",
       "</tr>\n",
       "<tr>\n",
       "<td>3R</td>\n",
       "<td>AGAP007731</td>\n",
       "<td style='text-align: right'>13603</td>\n",
       "<td style='text-align: right'>21758</td>\n",
       "</tr>\n",
       "<tr>\n",
       "<td>3R</td>\n",
       "<td>AGAP007732</td>\n",
       "<td style='text-align: right'>24056</td>\n",
       "<td style='text-align: right'>39486</td>\n",
       "</tr>\n",
       "<tr>\n",
       "<td>3R</td>\n",
       "<td>AGAP007736</td>\n",
       "<td style='text-align: right'>82151</td>\n",
       "<td style='text-align: right'>142545</td>\n",
       "</tr>\n",
       "<tr>\n",
       "<td>X</td>\n",
       "<td>AGAP013341</td>\n",
       "<td style='text-align: right'>23797952</td>\n",
       "<td style='text-align: right'>23801974</td>\n",
       "</tr>\n",
       "</tbody>\n",
       "</table>\n"
      ]
     },
     "metadata": {},
     "output_type": "display_data"
    }
   ],
   "source": [
    "pos_hka_shared = tbl_shared.join(tbl_genes, key='gene').cut(0,1,26,27)\n",
    "pos_hka_shared.displayall()"
   ]
  },
  {
   "cell_type": "code",
   "execution_count": 32,
   "metadata": {},
   "outputs": [],
   "source": [
    "import matplotlib.patches as mpatches\n",
    "gff_fn = '/mnt/70D89269D8922CFA/Genomes/genome/Anopheles-gambiae-PEST_BASEFEATURES_AgamP4.2.sorted.gff3.gz'\n",
    "\n",
    "\n",
    "\n",
    "def plot_gene_annotation(chrom, start, stop, title, ax=None): \n",
    "    start = start - 1000\n",
    "    stop = stop + 1000\n",
    "    tabix_index= \"%s:%s-%s\" % (chrom, start, stop)\n",
    "    gff = petlx.bio.gff3.fromgff3(gff_fn, tabix_index)\n",
    "    tbl_features = (gff.unpackdict('attributes', ['ID'])\n",
    "                .addfield('length', lambda r: r.end - r.start)\n",
    "                )\n",
    "    xranges_gene = tbl_features.selecteq('type', 'gene').values(['start', 'length']).list()\n",
    "    xranges_exon = tbl_features.selecteq('type', 'exon').values(['start', 'length']).list()\n",
    "    xranges_CDS = tbl_features.selecteq('type', 'CDS').values(['start', 'length']).list()\n",
    "\n",
    "    if ax is None:\n",
    "        # make a new figure here\n",
    "        fig, ax = plt.subplots(figsize=(10,3))\n",
    "        \n",
    "    bar_gene= ax.broken_barh(xranges_gene, (0.125, 0.05), facecolors='#FF3333')    \n",
    "    bar_exon= ax.broken_barh(xranges_exon, (0.1, 0.1), facecolors='#FFFF00', linewidth=0.2)\n",
    "    bar_CDS = ax.broken_barh(xranges_CDS, (0.1, 0.1), facecolors='#0CF91C', linewidth=0.2)\n",
    "   \n",
    "    ax.set_title(title)\n",
    "    ax.set_ylim(0,1)\n",
    "    #ax.set_xlim(start-(gene_lenght/4), stop+(gene_lenght/4))\n",
    "    ax.set_xlim(start, stop)\n",
    "    ax.set_yticks([])\n",
    "    cds_patch = mpatches.Patch(color='#0CF91C', label='CDS')\n",
    "    exon_patch = mpatches.Patch(color='#FFFF00', label='Exon')\n",
    "    intr_patch = mpatches.Patch(color='#FF3333', label='Intron')\n",
    "    plt.legend(handles=[cds_patch, exon_patch, intr_patch],prop={'size':12})\n",
    "    \n",
    "\n",
    "    #ax.annotate('ciao', (21344460, 0.2), xycoords='data', xytext=(0,50),\n",
    "                #textcoords='offset points', rotation=90, ha='center', va='bottom', color='k', \n",
    "                            #fontsize=20, arrowprops=dict(facecolor='black', shrink=0.05\n",
    "                                                        #))\n",
    "    sns.set(style ='ticks',font_scale=2)\n",
    "    sns.despine(left=True)\n",
    "\n"
   ]
  },
  {
   "cell_type": "code",
   "execution_count": 33,
   "metadata": {},
   "outputs": [],
   "source": [
    "title = pos_hka_shared['gene']"
   ]
  },
  {
   "cell_type": "code",
   "execution_count": 34,
   "metadata": {},
   "outputs": [],
   "source": [
    "chrom = pos_hka_shared['chrom_x']"
   ]
  },
  {
   "cell_type": "code",
   "execution_count": 35,
   "metadata": {},
   "outputs": [],
   "source": [
    "start = pos_hka_shared['start']\n",
    "end = pos_hka_shared['end']"
   ]
  },
  {
   "cell_type": "code",
   "execution_count": 36,
   "metadata": {},
   "outputs": [
    {
     "data": {
      "image/png": "[encoded data removed]",
      "text/plain": [
       "<Figure size 720x216 with 1 Axes>"
      ]
     },
     "metadata": {
      "needs_background": "light"
     },
     "output_type": "display_data"
    },
    {
     "data": {
      "image/png": "[encoded data removed]",
      "text/plain": [
       "<Figure size 720x216 with 1 Axes>"
      ]
     },
     "metadata": {},
     "output_type": "display_data"
    },
    {
     "data": {
      "image/png": "[encoded data removed]",
      "text/plain": [
       "<Figure size 720x216 with 1 Axes>"
      ]
     },
     "metadata": {},
     "output_type": "display_data"
    },
    {
     "data": {
      "image/png": "[encoded data removed]",
      "text/plain": [
       "<Figure size 720x216 with 1 Axes>"
      ]
     },
     "metadata": {},
     "output_type": "display_data"
    },
    {
     "data": {
      "image/png": "[encoded data removed]",
      "text/plain": [
       "<Figure size 720x216 with 1 Axes>"
      ]
     },
     "metadata": {},
     "output_type": "display_data"
    },
    {
     "data": {
      "image/png": "[encoded data removed]",
      "text/plain": [
       "<Figure size 720x216 with 1 Axes>"
      ]
     },
     "metadata": {},
     "output_type": "display_data"
    }
   ],
   "source": [
    "for i in range(len(chrom)):\n",
    "    plot_gene_annotation(chrom[i], start[i], end[i], title[i])"
   ]
  },
  {
   "cell_type": "markdown",
   "metadata": {},
   "source": [
    "---------------------------------"
   ]
  },
  {
   "cell_type": "code",
   "execution_count": null,
   "metadata": {},
   "outputs": [],
   "source": []
  },
  {
   "cell_type": "code",
   "execution_count": null,
   "metadata": {},
   "outputs": [],
   "source": []
  }
 ],
 "metadata": {
  "kernelspec": {
   "display_name": "Python 3",
   "language": "python",
   "name": "python3"
  },
  "language_info": {
   "codemirror_mode": {
    "name": "ipython",
    "version": 3
   },
   "file_extension": ".py",
   "mimetype": "text/x-python",
   "name": "python",
   "nbconvert_exporter": "python",
   "pygments_lexer": "ipython3",
   "version": "3.6.7"
  }
 },
 "nbformat": 4,
 "nbformat_minor": 4
}
